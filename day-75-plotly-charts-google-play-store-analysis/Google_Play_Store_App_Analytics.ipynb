{
  "nbformat": 4,
  "nbformat_minor": 0,
  "metadata": {
    "kernelspec": {
      "display_name": "Python 3",
      "language": "python",
      "name": "python3"
    },
    "language_info": {
      "codemirror_mode": {
        "name": "ipython",
        "version": 3
      },
      "file_extension": ".py",
      "mimetype": "text/x-python",
      "name": "python",
      "nbconvert_exporter": "python",
      "pygments_lexer": "ipython3",
      "version": "3.7.3"
    },
    "colab": {
      "name": "Google Play Store App Analytics.ipynb",
      "provenance": [],
      "collapsed_sections": [
        "F3zaKvfydiVI",
        "BIWG_10PyIzL",
        "nbYh2tU-VZ-i"
      ]
    }
  },
  "cells": [
    {
      "cell_type": "markdown",
      "metadata": {
        "id": "c__FgXmANQY9"
      },
      "source": [
        "# Learning Points & Summary\n",
        "In this lesson we looked at how to:\n",
        "\n",
        "* Pull a random sample from a DataFrame using `.sample()`\n",
        "\n",
        "* How to find duplicate entries with `.duplicated()` and `.drop_duplicates()`\n",
        "\n",
        "* How to convert string and object data types into numbers with `.to_numeric()`\n",
        "\n",
        "* How to use plotly to generate beautiful pie, donut, and bar charts as well as box and scatter plots"
      ]
    },
    {
      "cell_type": "markdown",
      "metadata": {
        "dc": {
          "key": "4"
        },
        "run_control": {
          "frozen": true
        },
        "tags": [
          "context"
        ],
        "id": "-Sxae4jbdiT2"
      },
      "source": [
        "# Introduction\n",
        "\n",
        "In this notebook, we will do a comprehensive analysis of the Android app market by comparing thousands of apps in the Google Play store."
      ]
    },
    {
      "cell_type": "markdown",
      "metadata": {
        "id": "sDT5lMxadiT3"
      },
      "source": [
        "# About the Dataset of Google Play Store Apps & Reviews"
      ]
    },
    {
      "cell_type": "markdown",
      "metadata": {
        "id": "5CiydsdNdiT3"
      },
      "source": [
        "**Data Source:** <br>\n",
        "App and review data was scraped from the Google Play Store by Lavanya Gupta in 2018. Original files listed [here](\n",
        "https://www.kaggle.com/lava18/google-play-store-apps)."
      ]
    },
    {
      "cell_type": "markdown",
      "metadata": {
        "id": "BBKBNy4UdiT4"
      },
      "source": [
        "# Import Statements"
      ]
    },
    {
      "cell_type": "code",
      "metadata": {
        "id": "_5mfFH4_diT4"
      },
      "source": [
        "import pandas as pd\n",
        "import plotly.express as px"
      ],
      "execution_count": 148,
      "outputs": []
    },
    {
      "cell_type": "markdown",
      "metadata": {
        "id": "KegC9nPDdiT7"
      },
      "source": [
        "# Notebook Presentation"
      ]
    },
    {
      "cell_type": "code",
      "metadata": {
        "id": "WPL7rhJndiT7"
      },
      "source": [
        "# Show numeric output in decimal format e.g., 2.15\n",
        "pd.options.display.float_format = '{:,.2f}'.format"
      ],
      "execution_count": 149,
      "outputs": []
    },
    {
      "cell_type": "markdown",
      "metadata": {
        "id": "Uc9LOZu9diT-"
      },
      "source": [
        "# Read the Dataset"
      ]
    },
    {
      "cell_type": "code",
      "metadata": {
        "id": "zU0Zisv_diT-"
      },
      "source": [
        "df_apps = pd.read_csv('apps.csv')"
      ],
      "execution_count": 150,
      "outputs": []
    },
    {
      "cell_type": "markdown",
      "metadata": {
        "id": "iKvSUwQldiUA"
      },
      "source": [
        "# Data Cleaning"
      ]
    },
    {
      "cell_type": "markdown",
      "metadata": {
        "id": "MWTzYZIds5L9"
      },
      "source": [
        "**Challenge**: How many rows and columns does `df_apps` have? What are the column names? Look at a random sample of 5 different rows with [.sample()](https://pandas.pydata.org/pandas-docs/stable/reference/api/pandas.DataFrame.sample.html)."
      ]
    },
    {
      "cell_type": "code",
      "metadata": {
        "id": "HJI7UsPrnuRf",
        "colab": {
          "base_uri": "https://localhost:8080/"
        },
        "outputId": "9748bf2b-2337-4ca3-fb51-ee49c172c000"
      },
      "source": [
        "df_apps.shape # 10841 rows and 12 columns"
      ],
      "execution_count": 151,
      "outputs": [
        {
          "output_type": "execute_result",
          "data": {
            "text/plain": [
              "(10841, 12)"
            ]
          },
          "metadata": {
            "tags": []
          },
          "execution_count": 151
        }
      ]
    },
    {
      "cell_type": "code",
      "metadata": {
        "id": "fKXFjPkmnuYA",
        "colab": {
          "base_uri": "https://localhost:8080/"
        },
        "outputId": "316cddea-5ed6-4c9f-a128-6df0656c9809"
      },
      "source": [
        "# Column names\n",
        "df_apps.columns"
      ],
      "execution_count": 152,
      "outputs": [
        {
          "output_type": "execute_result",
          "data": {
            "text/plain": [
              "Index(['App', 'Category', 'Rating', 'Reviews', 'Size_MBs', 'Installs', 'Type',\n",
              "       'Price', 'Content_Rating', 'Genres', 'Last_Updated', 'Android_Ver'],\n",
              "      dtype='object')"
            ]
          },
          "metadata": {
            "tags": []
          },
          "execution_count": 152
        }
      ]
    },
    {
      "cell_type": "code",
      "metadata": {
        "id": "MUluaHF5nueH",
        "colab": {
          "base_uri": "https://localhost:8080/",
          "height": 221
        },
        "outputId": "2755b064-794d-4685-e9d8-96583a5f3604"
      },
      "source": [
        "# 5 random rows:\n",
        "df_apps.sample(5)"
      ],
      "execution_count": 153,
      "outputs": [
        {
          "output_type": "execute_result",
          "data": {
            "text/html": [
              "<div>\n",
              "<style scoped>\n",
              "    .dataframe tbody tr th:only-of-type {\n",
              "        vertical-align: middle;\n",
              "    }\n",
              "\n",
              "    .dataframe tbody tr th {\n",
              "        vertical-align: top;\n",
              "    }\n",
              "\n",
              "    .dataframe thead th {\n",
              "        text-align: right;\n",
              "    }\n",
              "</style>\n",
              "<table border=\"1\" class=\"dataframe\">\n",
              "  <thead>\n",
              "    <tr style=\"text-align: right;\">\n",
              "      <th></th>\n",
              "      <th>App</th>\n",
              "      <th>Category</th>\n",
              "      <th>Rating</th>\n",
              "      <th>Reviews</th>\n",
              "      <th>Size_MBs</th>\n",
              "      <th>Installs</th>\n",
              "      <th>Type</th>\n",
              "      <th>Price</th>\n",
              "      <th>Content_Rating</th>\n",
              "      <th>Genres</th>\n",
              "      <th>Last_Updated</th>\n",
              "      <th>Android_Ver</th>\n",
              "    </tr>\n",
              "  </thead>\n",
              "  <tbody>\n",
              "    <tr>\n",
              "      <th>10643</th>\n",
              "      <td>Angry Birds Rio</td>\n",
              "      <td>GAME</td>\n",
              "      <td>4.40</td>\n",
              "      <td>2610328</td>\n",
              "      <td>46.00</td>\n",
              "      <td>100,000,000</td>\n",
              "      <td>Free</td>\n",
              "      <td>0</td>\n",
              "      <td>Everyone</td>\n",
              "      <td>Arcade</td>\n",
              "      <td>July 3, 2018</td>\n",
              "      <td>4.1 and up</td>\n",
              "    </tr>\n",
              "    <tr>\n",
              "      <th>10560</th>\n",
              "      <td>OfficeSuite : Free Office + PDF Editor</td>\n",
              "      <td>BUSINESS</td>\n",
              "      <td>4.30</td>\n",
              "      <td>1002861</td>\n",
              "      <td>35.00</td>\n",
              "      <td>100,000,000</td>\n",
              "      <td>Free</td>\n",
              "      <td>0</td>\n",
              "      <td>Everyone</td>\n",
              "      <td>Business</td>\n",
              "      <td>August 2, 2018</td>\n",
              "      <td>4.1 and up</td>\n",
              "    </tr>\n",
              "    <tr>\n",
              "      <th>2164</th>\n",
              "      <td>Business Intelligence &amp; Data</td>\n",
              "      <td>FAMILY</td>\n",
              "      <td>4.90</td>\n",
              "      <td>7</td>\n",
              "      <td>3.50</td>\n",
              "      <td>1,000</td>\n",
              "      <td>Free</td>\n",
              "      <td>0</td>\n",
              "      <td>Everyone</td>\n",
              "      <td>Education</td>\n",
              "      <td>July 26, 2016</td>\n",
              "      <td>2.0 and up</td>\n",
              "    </tr>\n",
              "    <tr>\n",
              "      <th>5584</th>\n",
              "      <td>Gay Sugar Daddy Dating &amp; Hookup – Sudy Gay</td>\n",
              "      <td>DATING</td>\n",
              "      <td>4.10</td>\n",
              "      <td>2212</td>\n",
              "      <td>41.00</td>\n",
              "      <td>100,000</td>\n",
              "      <td>Free</td>\n",
              "      <td>0</td>\n",
              "      <td>Mature 17+</td>\n",
              "      <td>Dating</td>\n",
              "      <td>June 20, 2018</td>\n",
              "      <td>4.0.3 and up</td>\n",
              "    </tr>\n",
              "    <tr>\n",
              "      <th>8596</th>\n",
              "      <td>L.POINT - 엘포인트 [ 포인트, 멤버십, 적립, 사용, 모바일 카드, 쿠폰,...</td>\n",
              "      <td>LIFESTYLE</td>\n",
              "      <td>4.00</td>\n",
              "      <td>45224</td>\n",
              "      <td>49.00</td>\n",
              "      <td>5,000,000</td>\n",
              "      <td>Free</td>\n",
              "      <td>0</td>\n",
              "      <td>Everyone</td>\n",
              "      <td>Lifestyle</td>\n",
              "      <td>August 1, 2018</td>\n",
              "      <td>4.1 and up</td>\n",
              "    </tr>\n",
              "  </tbody>\n",
              "</table>\n",
              "</div>"
            ],
            "text/plain": [
              "                                                     App  ...   Android_Ver\n",
              "10643                                    Angry Birds Rio  ...    4.1 and up\n",
              "10560             OfficeSuite : Free Office + PDF Editor  ...    4.1 and up\n",
              "2164                        Business Intelligence & Data  ...    2.0 and up\n",
              "5584          Gay Sugar Daddy Dating & Hookup – Sudy Gay  ...  4.0.3 and up\n",
              "8596   L.POINT - 엘포인트 [ 포인트, 멤버십, 적립, 사용, 모바일 카드, 쿠폰,...  ...    4.1 and up\n",
              "\n",
              "[5 rows x 12 columns]"
            ]
          },
          "metadata": {
            "tags": []
          },
          "execution_count": 153
        }
      ]
    },
    {
      "cell_type": "markdown",
      "metadata": {
        "id": "Hh81sMcvdiUI"
      },
      "source": [
        "### Drop Unused Columns\n",
        "\n",
        "**Challenge**: Remove the columns called `Last_Updated` and `Android_Version` from the DataFrame. We will not use these columns. "
      ]
    },
    {
      "cell_type": "code",
      "metadata": {
        "id": "t7EMSKAOnyzI"
      },
      "source": [
        "# Setting axis=1 to specify that we want to drop certain columns:\n",
        "df_apps_clean = df_apps.drop(['Last_Updated', 'Android_Ver'], axis=1, inplace=True)"
      ],
      "execution_count": 154,
      "outputs": []
    },
    {
      "cell_type": "code",
      "metadata": {
        "colab": {
          "base_uri": "https://localhost:8080/",
          "height": 204
        },
        "id": "uSMIijerN4Kr",
        "outputId": "c03c5dc3-6856-4eee-ad86-23f4acf1758b"
      },
      "source": [
        "df_apps.head()"
      ],
      "execution_count": 155,
      "outputs": [
        {
          "output_type": "execute_result",
          "data": {
            "text/html": [
              "<div>\n",
              "<style scoped>\n",
              "    .dataframe tbody tr th:only-of-type {\n",
              "        vertical-align: middle;\n",
              "    }\n",
              "\n",
              "    .dataframe tbody tr th {\n",
              "        vertical-align: top;\n",
              "    }\n",
              "\n",
              "    .dataframe thead th {\n",
              "        text-align: right;\n",
              "    }\n",
              "</style>\n",
              "<table border=\"1\" class=\"dataframe\">\n",
              "  <thead>\n",
              "    <tr style=\"text-align: right;\">\n",
              "      <th></th>\n",
              "      <th>App</th>\n",
              "      <th>Category</th>\n",
              "      <th>Rating</th>\n",
              "      <th>Reviews</th>\n",
              "      <th>Size_MBs</th>\n",
              "      <th>Installs</th>\n",
              "      <th>Type</th>\n",
              "      <th>Price</th>\n",
              "      <th>Content_Rating</th>\n",
              "      <th>Genres</th>\n",
              "    </tr>\n",
              "  </thead>\n",
              "  <tbody>\n",
              "    <tr>\n",
              "      <th>0</th>\n",
              "      <td>Ak Parti Yardım Toplama</td>\n",
              "      <td>SOCIAL</td>\n",
              "      <td>nan</td>\n",
              "      <td>0</td>\n",
              "      <td>8.70</td>\n",
              "      <td>0</td>\n",
              "      <td>Paid</td>\n",
              "      <td>$13.99</td>\n",
              "      <td>Teen</td>\n",
              "      <td>Social</td>\n",
              "    </tr>\n",
              "    <tr>\n",
              "      <th>1</th>\n",
              "      <td>Ain Arabic Kids Alif Ba ta</td>\n",
              "      <td>FAMILY</td>\n",
              "      <td>nan</td>\n",
              "      <td>0</td>\n",
              "      <td>33.00</td>\n",
              "      <td>0</td>\n",
              "      <td>Paid</td>\n",
              "      <td>$2.99</td>\n",
              "      <td>Everyone</td>\n",
              "      <td>Education</td>\n",
              "    </tr>\n",
              "    <tr>\n",
              "      <th>2</th>\n",
              "      <td>Popsicle Launcher for Android P 9.0 launcher</td>\n",
              "      <td>PERSONALIZATION</td>\n",
              "      <td>nan</td>\n",
              "      <td>0</td>\n",
              "      <td>5.50</td>\n",
              "      <td>0</td>\n",
              "      <td>Paid</td>\n",
              "      <td>$1.49</td>\n",
              "      <td>Everyone</td>\n",
              "      <td>Personalization</td>\n",
              "    </tr>\n",
              "    <tr>\n",
              "      <th>3</th>\n",
              "      <td>Command &amp; Conquer: Rivals</td>\n",
              "      <td>FAMILY</td>\n",
              "      <td>nan</td>\n",
              "      <td>0</td>\n",
              "      <td>19.00</td>\n",
              "      <td>0</td>\n",
              "      <td>NaN</td>\n",
              "      <td>0</td>\n",
              "      <td>Everyone 10+</td>\n",
              "      <td>Strategy</td>\n",
              "    </tr>\n",
              "    <tr>\n",
              "      <th>4</th>\n",
              "      <td>CX Network</td>\n",
              "      <td>BUSINESS</td>\n",
              "      <td>nan</td>\n",
              "      <td>0</td>\n",
              "      <td>10.00</td>\n",
              "      <td>0</td>\n",
              "      <td>Free</td>\n",
              "      <td>0</td>\n",
              "      <td>Everyone</td>\n",
              "      <td>Business</td>\n",
              "    </tr>\n",
              "  </tbody>\n",
              "</table>\n",
              "</div>"
            ],
            "text/plain": [
              "                                            App  ...           Genres\n",
              "0                       Ak Parti Yardım Toplama  ...           Social\n",
              "1                    Ain Arabic Kids Alif Ba ta  ...        Education\n",
              "2  Popsicle Launcher for Android P 9.0 launcher  ...  Personalization\n",
              "3                     Command & Conquer: Rivals  ...         Strategy\n",
              "4                                    CX Network  ...         Business\n",
              "\n",
              "[5 rows x 10 columns]"
            ]
          },
          "metadata": {
            "tags": []
          },
          "execution_count": 155
        }
      ]
    },
    {
      "cell_type": "markdown",
      "metadata": {
        "id": "YQGe1DIKdiUM"
      },
      "source": [
        "### Find and Remove NaN values in Ratings\n",
        "\n",
        "**Challenge**: How may rows have a NaN value (not-a-number) in the Ratings column? Create DataFrame called `df_apps_clean` that does not include these rows. "
      ]
    },
    {
      "cell_type": "code",
      "metadata": {
        "id": "grcP1IOZn1Wv",
        "colab": {
          "base_uri": "https://localhost:8080/",
          "height": 221
        },
        "outputId": "f0b8bc40-b831-4bb9-9b33-a2c9f12a08a8"
      },
      "source": [
        "nan_rows = df_apps[df_apps.Rating.isna()]\n",
        "print(nan_rows.shape)\n",
        "nan_rows.head()"
      ],
      "execution_count": 156,
      "outputs": [
        {
          "output_type": "stream",
          "text": [
            "(1474, 10)\n"
          ],
          "name": "stdout"
        },
        {
          "output_type": "execute_result",
          "data": {
            "text/html": [
              "<div>\n",
              "<style scoped>\n",
              "    .dataframe tbody tr th:only-of-type {\n",
              "        vertical-align: middle;\n",
              "    }\n",
              "\n",
              "    .dataframe tbody tr th {\n",
              "        vertical-align: top;\n",
              "    }\n",
              "\n",
              "    .dataframe thead th {\n",
              "        text-align: right;\n",
              "    }\n",
              "</style>\n",
              "<table border=\"1\" class=\"dataframe\">\n",
              "  <thead>\n",
              "    <tr style=\"text-align: right;\">\n",
              "      <th></th>\n",
              "      <th>App</th>\n",
              "      <th>Category</th>\n",
              "      <th>Rating</th>\n",
              "      <th>Reviews</th>\n",
              "      <th>Size_MBs</th>\n",
              "      <th>Installs</th>\n",
              "      <th>Type</th>\n",
              "      <th>Price</th>\n",
              "      <th>Content_Rating</th>\n",
              "      <th>Genres</th>\n",
              "    </tr>\n",
              "  </thead>\n",
              "  <tbody>\n",
              "    <tr>\n",
              "      <th>0</th>\n",
              "      <td>Ak Parti Yardım Toplama</td>\n",
              "      <td>SOCIAL</td>\n",
              "      <td>nan</td>\n",
              "      <td>0</td>\n",
              "      <td>8.70</td>\n",
              "      <td>0</td>\n",
              "      <td>Paid</td>\n",
              "      <td>$13.99</td>\n",
              "      <td>Teen</td>\n",
              "      <td>Social</td>\n",
              "    </tr>\n",
              "    <tr>\n",
              "      <th>1</th>\n",
              "      <td>Ain Arabic Kids Alif Ba ta</td>\n",
              "      <td>FAMILY</td>\n",
              "      <td>nan</td>\n",
              "      <td>0</td>\n",
              "      <td>33.00</td>\n",
              "      <td>0</td>\n",
              "      <td>Paid</td>\n",
              "      <td>$2.99</td>\n",
              "      <td>Everyone</td>\n",
              "      <td>Education</td>\n",
              "    </tr>\n",
              "    <tr>\n",
              "      <th>2</th>\n",
              "      <td>Popsicle Launcher for Android P 9.0 launcher</td>\n",
              "      <td>PERSONALIZATION</td>\n",
              "      <td>nan</td>\n",
              "      <td>0</td>\n",
              "      <td>5.50</td>\n",
              "      <td>0</td>\n",
              "      <td>Paid</td>\n",
              "      <td>$1.49</td>\n",
              "      <td>Everyone</td>\n",
              "      <td>Personalization</td>\n",
              "    </tr>\n",
              "    <tr>\n",
              "      <th>3</th>\n",
              "      <td>Command &amp; Conquer: Rivals</td>\n",
              "      <td>FAMILY</td>\n",
              "      <td>nan</td>\n",
              "      <td>0</td>\n",
              "      <td>19.00</td>\n",
              "      <td>0</td>\n",
              "      <td>NaN</td>\n",
              "      <td>0</td>\n",
              "      <td>Everyone 10+</td>\n",
              "      <td>Strategy</td>\n",
              "    </tr>\n",
              "    <tr>\n",
              "      <th>4</th>\n",
              "      <td>CX Network</td>\n",
              "      <td>BUSINESS</td>\n",
              "      <td>nan</td>\n",
              "      <td>0</td>\n",
              "      <td>10.00</td>\n",
              "      <td>0</td>\n",
              "      <td>Free</td>\n",
              "      <td>0</td>\n",
              "      <td>Everyone</td>\n",
              "      <td>Business</td>\n",
              "    </tr>\n",
              "  </tbody>\n",
              "</table>\n",
              "</div>"
            ],
            "text/plain": [
              "                                            App  ...           Genres\n",
              "0                       Ak Parti Yardım Toplama  ...           Social\n",
              "1                    Ain Arabic Kids Alif Ba ta  ...        Education\n",
              "2  Popsicle Launcher for Android P 9.0 launcher  ...  Personalization\n",
              "3                     Command & Conquer: Rivals  ...         Strategy\n",
              "4                                    CX Network  ...         Business\n",
              "\n",
              "[5 rows x 10 columns]"
            ]
          },
          "metadata": {
            "tags": []
          },
          "execution_count": 156
        }
      ]
    },
    {
      "cell_type": "code",
      "metadata": {
        "id": "IbQnnPaUn1Pw"
      },
      "source": [
        "df_apps_clean = df_apps.dropna()"
      ],
      "execution_count": 157,
      "outputs": []
    },
    {
      "cell_type": "code",
      "metadata": {
        "colab": {
          "base_uri": "https://localhost:8080/"
        },
        "id": "lBuFwHRkOjLe",
        "outputId": "3bbd28f5-f30e-44a8-9f00-9fe99405ef1f"
      },
      "source": [
        "df_apps_clean.shape"
      ],
      "execution_count": 158,
      "outputs": [
        {
          "output_type": "execute_result",
          "data": {
            "text/plain": [
              "(9367, 10)"
            ]
          },
          "metadata": {
            "tags": []
          },
          "execution_count": 158
        }
      ]
    },
    {
      "cell_type": "markdown",
      "metadata": {
        "id": "pD26SWlxdiUV"
      },
      "source": [
        "### Find and Remove Duplicates\n",
        "\n",
        "**Challenge**: Are there any duplicates in data? Check for duplicates using the [.duplicated()](https://pandas.pydata.org/pandas-docs/stable/reference/api/pandas.DataFrame.duplicated.html) function. How many entries can you find for the \"Instagram\" app? Use [.drop_duplicates()](https://pandas.pydata.org/pandas-docs/stable/reference/api/pandas.DataFrame.drop_duplicates.html) to remove any duplicates from `df_apps_clean`. \n"
      ]
    },
    {
      "cell_type": "code",
      "metadata": {
        "id": "lE7X6KG3n5pR",
        "colab": {
          "base_uri": "https://localhost:8080/",
          "height": 221
        },
        "outputId": "02afe8ef-8746-496a-fd50-c69e853ddb22"
      },
      "source": [
        "duplicated_rows = df_apps_clean[df_apps_clean.duplicated()]\n",
        "print(duplicated_rows.shape)\n",
        "duplicated_rows.head()"
      ],
      "execution_count": 159,
      "outputs": [
        {
          "output_type": "stream",
          "text": [
            "(476, 10)\n"
          ],
          "name": "stdout"
        },
        {
          "output_type": "execute_result",
          "data": {
            "text/html": [
              "<div>\n",
              "<style scoped>\n",
              "    .dataframe tbody tr th:only-of-type {\n",
              "        vertical-align: middle;\n",
              "    }\n",
              "\n",
              "    .dataframe tbody tr th {\n",
              "        vertical-align: top;\n",
              "    }\n",
              "\n",
              "    .dataframe thead th {\n",
              "        text-align: right;\n",
              "    }\n",
              "</style>\n",
              "<table border=\"1\" class=\"dataframe\">\n",
              "  <thead>\n",
              "    <tr style=\"text-align: right;\">\n",
              "      <th></th>\n",
              "      <th>App</th>\n",
              "      <th>Category</th>\n",
              "      <th>Rating</th>\n",
              "      <th>Reviews</th>\n",
              "      <th>Size_MBs</th>\n",
              "      <th>Installs</th>\n",
              "      <th>Type</th>\n",
              "      <th>Price</th>\n",
              "      <th>Content_Rating</th>\n",
              "      <th>Genres</th>\n",
              "    </tr>\n",
              "  </thead>\n",
              "  <tbody>\n",
              "    <tr>\n",
              "      <th>946</th>\n",
              "      <td>420 BZ Budeze Delivery</td>\n",
              "      <td>MEDICAL</td>\n",
              "      <td>5.00</td>\n",
              "      <td>2</td>\n",
              "      <td>11.00</td>\n",
              "      <td>100</td>\n",
              "      <td>Free</td>\n",
              "      <td>0</td>\n",
              "      <td>Mature 17+</td>\n",
              "      <td>Medical</td>\n",
              "    </tr>\n",
              "    <tr>\n",
              "      <th>1133</th>\n",
              "      <td>MouseMingle</td>\n",
              "      <td>DATING</td>\n",
              "      <td>2.70</td>\n",
              "      <td>3</td>\n",
              "      <td>3.90</td>\n",
              "      <td>100</td>\n",
              "      <td>Free</td>\n",
              "      <td>0</td>\n",
              "      <td>Mature 17+</td>\n",
              "      <td>Dating</td>\n",
              "    </tr>\n",
              "    <tr>\n",
              "      <th>1196</th>\n",
              "      <td>Cardiac diagnosis (heart rate, arrhythmia)</td>\n",
              "      <td>MEDICAL</td>\n",
              "      <td>4.40</td>\n",
              "      <td>8</td>\n",
              "      <td>6.50</td>\n",
              "      <td>100</td>\n",
              "      <td>Paid</td>\n",
              "      <td>$12.99</td>\n",
              "      <td>Everyone</td>\n",
              "      <td>Medical</td>\n",
              "    </tr>\n",
              "    <tr>\n",
              "      <th>1231</th>\n",
              "      <td>Sway Medical</td>\n",
              "      <td>MEDICAL</td>\n",
              "      <td>5.00</td>\n",
              "      <td>3</td>\n",
              "      <td>22.00</td>\n",
              "      <td>100</td>\n",
              "      <td>Free</td>\n",
              "      <td>0</td>\n",
              "      <td>Everyone</td>\n",
              "      <td>Medical</td>\n",
              "    </tr>\n",
              "    <tr>\n",
              "      <th>1247</th>\n",
              "      <td>Chat Kids - Chat Room For Kids</td>\n",
              "      <td>DATING</td>\n",
              "      <td>4.70</td>\n",
              "      <td>6</td>\n",
              "      <td>4.90</td>\n",
              "      <td>100</td>\n",
              "      <td>Free</td>\n",
              "      <td>0</td>\n",
              "      <td>Mature 17+</td>\n",
              "      <td>Dating</td>\n",
              "    </tr>\n",
              "  </tbody>\n",
              "</table>\n",
              "</div>"
            ],
            "text/plain": [
              "                                             App  ...   Genres\n",
              "946                       420 BZ Budeze Delivery  ...  Medical\n",
              "1133                                 MouseMingle  ...   Dating\n",
              "1196  Cardiac diagnosis (heart rate, arrhythmia)  ...  Medical\n",
              "1231                                Sway Medical  ...  Medical\n",
              "1247              Chat Kids - Chat Room For Kids  ...   Dating\n",
              "\n",
              "[5 rows x 10 columns]"
            ]
          },
          "metadata": {
            "tags": []
          },
          "execution_count": 159
        }
      ]
    },
    {
      "cell_type": "code",
      "metadata": {
        "id": "GK2rP7wgn53-",
        "colab": {
          "base_uri": "https://localhost:8080/",
          "height": 173
        },
        "outputId": "10038e93-0bb6-4496-c02f-d99772929d8d"
      },
      "source": [
        "df_apps_clean[df_apps_clean.App == 'Instagram']"
      ],
      "execution_count": 160,
      "outputs": [
        {
          "output_type": "execute_result",
          "data": {
            "text/html": [
              "<div>\n",
              "<style scoped>\n",
              "    .dataframe tbody tr th:only-of-type {\n",
              "        vertical-align: middle;\n",
              "    }\n",
              "\n",
              "    .dataframe tbody tr th {\n",
              "        vertical-align: top;\n",
              "    }\n",
              "\n",
              "    .dataframe thead th {\n",
              "        text-align: right;\n",
              "    }\n",
              "</style>\n",
              "<table border=\"1\" class=\"dataframe\">\n",
              "  <thead>\n",
              "    <tr style=\"text-align: right;\">\n",
              "      <th></th>\n",
              "      <th>App</th>\n",
              "      <th>Category</th>\n",
              "      <th>Rating</th>\n",
              "      <th>Reviews</th>\n",
              "      <th>Size_MBs</th>\n",
              "      <th>Installs</th>\n",
              "      <th>Type</th>\n",
              "      <th>Price</th>\n",
              "      <th>Content_Rating</th>\n",
              "      <th>Genres</th>\n",
              "    </tr>\n",
              "  </thead>\n",
              "  <tbody>\n",
              "    <tr>\n",
              "      <th>10806</th>\n",
              "      <td>Instagram</td>\n",
              "      <td>SOCIAL</td>\n",
              "      <td>4.50</td>\n",
              "      <td>66577313</td>\n",
              "      <td>5.30</td>\n",
              "      <td>1,000,000,000</td>\n",
              "      <td>Free</td>\n",
              "      <td>0</td>\n",
              "      <td>Teen</td>\n",
              "      <td>Social</td>\n",
              "    </tr>\n",
              "    <tr>\n",
              "      <th>10808</th>\n",
              "      <td>Instagram</td>\n",
              "      <td>SOCIAL</td>\n",
              "      <td>4.50</td>\n",
              "      <td>66577446</td>\n",
              "      <td>5.30</td>\n",
              "      <td>1,000,000,000</td>\n",
              "      <td>Free</td>\n",
              "      <td>0</td>\n",
              "      <td>Teen</td>\n",
              "      <td>Social</td>\n",
              "    </tr>\n",
              "    <tr>\n",
              "      <th>10809</th>\n",
              "      <td>Instagram</td>\n",
              "      <td>SOCIAL</td>\n",
              "      <td>4.50</td>\n",
              "      <td>66577313</td>\n",
              "      <td>5.30</td>\n",
              "      <td>1,000,000,000</td>\n",
              "      <td>Free</td>\n",
              "      <td>0</td>\n",
              "      <td>Teen</td>\n",
              "      <td>Social</td>\n",
              "    </tr>\n",
              "    <tr>\n",
              "      <th>10810</th>\n",
              "      <td>Instagram</td>\n",
              "      <td>SOCIAL</td>\n",
              "      <td>4.50</td>\n",
              "      <td>66509917</td>\n",
              "      <td>5.30</td>\n",
              "      <td>1,000,000,000</td>\n",
              "      <td>Free</td>\n",
              "      <td>0</td>\n",
              "      <td>Teen</td>\n",
              "      <td>Social</td>\n",
              "    </tr>\n",
              "  </tbody>\n",
              "</table>\n",
              "</div>"
            ],
            "text/plain": [
              "             App Category  Rating   Reviews  ...  Type Price Content_Rating  Genres\n",
              "10806  Instagram   SOCIAL    4.50  66577313  ...  Free     0           Teen  Social\n",
              "10808  Instagram   SOCIAL    4.50  66577446  ...  Free     0           Teen  Social\n",
              "10809  Instagram   SOCIAL    4.50  66577313  ...  Free     0           Teen  Social\n",
              "10810  Instagram   SOCIAL    4.50  66509917  ...  Free     0           Teen  Social\n",
              "\n",
              "[4 rows x 10 columns]"
            ]
          },
          "metadata": {
            "tags": []
          },
          "execution_count": 160
        }
      ]
    },
    {
      "cell_type": "code",
      "metadata": {
        "id": "Wtt09kiRn6GS",
        "colab": {
          "base_uri": "https://localhost:8080/",
          "height": 142
        },
        "outputId": "61592b0f-d8fa-4288-a833-aa18235aa443"
      },
      "source": [
        "df_apps_clean = df_apps_clean.drop_duplicates()\n",
        "df_apps_clean[df_apps_clean.App == 'Instagram']"
      ],
      "execution_count": 161,
      "outputs": [
        {
          "output_type": "execute_result",
          "data": {
            "text/html": [
              "<div>\n",
              "<style scoped>\n",
              "    .dataframe tbody tr th:only-of-type {\n",
              "        vertical-align: middle;\n",
              "    }\n",
              "\n",
              "    .dataframe tbody tr th {\n",
              "        vertical-align: top;\n",
              "    }\n",
              "\n",
              "    .dataframe thead th {\n",
              "        text-align: right;\n",
              "    }\n",
              "</style>\n",
              "<table border=\"1\" class=\"dataframe\">\n",
              "  <thead>\n",
              "    <tr style=\"text-align: right;\">\n",
              "      <th></th>\n",
              "      <th>App</th>\n",
              "      <th>Category</th>\n",
              "      <th>Rating</th>\n",
              "      <th>Reviews</th>\n",
              "      <th>Size_MBs</th>\n",
              "      <th>Installs</th>\n",
              "      <th>Type</th>\n",
              "      <th>Price</th>\n",
              "      <th>Content_Rating</th>\n",
              "      <th>Genres</th>\n",
              "    </tr>\n",
              "  </thead>\n",
              "  <tbody>\n",
              "    <tr>\n",
              "      <th>10806</th>\n",
              "      <td>Instagram</td>\n",
              "      <td>SOCIAL</td>\n",
              "      <td>4.50</td>\n",
              "      <td>66577313</td>\n",
              "      <td>5.30</td>\n",
              "      <td>1,000,000,000</td>\n",
              "      <td>Free</td>\n",
              "      <td>0</td>\n",
              "      <td>Teen</td>\n",
              "      <td>Social</td>\n",
              "    </tr>\n",
              "    <tr>\n",
              "      <th>10808</th>\n",
              "      <td>Instagram</td>\n",
              "      <td>SOCIAL</td>\n",
              "      <td>4.50</td>\n",
              "      <td>66577446</td>\n",
              "      <td>5.30</td>\n",
              "      <td>1,000,000,000</td>\n",
              "      <td>Free</td>\n",
              "      <td>0</td>\n",
              "      <td>Teen</td>\n",
              "      <td>Social</td>\n",
              "    </tr>\n",
              "    <tr>\n",
              "      <th>10810</th>\n",
              "      <td>Instagram</td>\n",
              "      <td>SOCIAL</td>\n",
              "      <td>4.50</td>\n",
              "      <td>66509917</td>\n",
              "      <td>5.30</td>\n",
              "      <td>1,000,000,000</td>\n",
              "      <td>Free</td>\n",
              "      <td>0</td>\n",
              "      <td>Teen</td>\n",
              "      <td>Social</td>\n",
              "    </tr>\n",
              "  </tbody>\n",
              "</table>\n",
              "</div>"
            ],
            "text/plain": [
              "             App Category  Rating   Reviews  ...  Type Price Content_Rating  Genres\n",
              "10806  Instagram   SOCIAL    4.50  66577313  ...  Free     0           Teen  Social\n",
              "10808  Instagram   SOCIAL    4.50  66577446  ...  Free     0           Teen  Social\n",
              "10810  Instagram   SOCIAL    4.50  66509917  ...  Free     0           Teen  Social\n",
              "\n",
              "[3 rows x 10 columns]"
            ]
          },
          "metadata": {
            "tags": []
          },
          "execution_count": 161
        }
      ]
    },
    {
      "cell_type": "code",
      "metadata": {
        "id": "30yZCwtKn5xC",
        "colab": {
          "base_uri": "https://localhost:8080/",
          "height": 80
        },
        "outputId": "d89e7f56-b78d-4cf4-f955-d7ce022e1b47"
      },
      "source": [
        "# Need to specify the subset columns used in the comparision to identify duplicates:\n",
        "df_apps_clean = df_apps_clean.drop_duplicates(subset=['App', 'Type', 'Price'])\n",
        "df_apps_clean[df_apps_clean.App == 'Instagram']"
      ],
      "execution_count": 162,
      "outputs": [
        {
          "output_type": "execute_result",
          "data": {
            "text/html": [
              "<div>\n",
              "<style scoped>\n",
              "    .dataframe tbody tr th:only-of-type {\n",
              "        vertical-align: middle;\n",
              "    }\n",
              "\n",
              "    .dataframe tbody tr th {\n",
              "        vertical-align: top;\n",
              "    }\n",
              "\n",
              "    .dataframe thead th {\n",
              "        text-align: right;\n",
              "    }\n",
              "</style>\n",
              "<table border=\"1\" class=\"dataframe\">\n",
              "  <thead>\n",
              "    <tr style=\"text-align: right;\">\n",
              "      <th></th>\n",
              "      <th>App</th>\n",
              "      <th>Category</th>\n",
              "      <th>Rating</th>\n",
              "      <th>Reviews</th>\n",
              "      <th>Size_MBs</th>\n",
              "      <th>Installs</th>\n",
              "      <th>Type</th>\n",
              "      <th>Price</th>\n",
              "      <th>Content_Rating</th>\n",
              "      <th>Genres</th>\n",
              "    </tr>\n",
              "  </thead>\n",
              "  <tbody>\n",
              "    <tr>\n",
              "      <th>10806</th>\n",
              "      <td>Instagram</td>\n",
              "      <td>SOCIAL</td>\n",
              "      <td>4.50</td>\n",
              "      <td>66577313</td>\n",
              "      <td>5.30</td>\n",
              "      <td>1,000,000,000</td>\n",
              "      <td>Free</td>\n",
              "      <td>0</td>\n",
              "      <td>Teen</td>\n",
              "      <td>Social</td>\n",
              "    </tr>\n",
              "  </tbody>\n",
              "</table>\n",
              "</div>"
            ],
            "text/plain": [
              "             App Category  Rating   Reviews  ...  Type Price Content_Rating  Genres\n",
              "10806  Instagram   SOCIAL    4.50  66577313  ...  Free     0           Teen  Social\n",
              "\n",
              "[1 rows x 10 columns]"
            ]
          },
          "metadata": {
            "tags": []
          },
          "execution_count": 162
        }
      ]
    },
    {
      "cell_type": "markdown",
      "metadata": {
        "id": "GJrM69CfdiUh"
      },
      "source": [
        "# Find Highest Rated Apps\n",
        "\n",
        "**Challenge**: Identify which apps are the highest rated. What problem might you encounter if you rely exclusively on ratings alone to determine the quality of an app?"
      ]
    },
    {
      "cell_type": "code",
      "metadata": {
        "id": "rp7vFHBMn7st",
        "colab": {
          "base_uri": "https://localhost:8080/",
          "height": 204
        },
        "outputId": "64589348-3998-438a-aebf-934d3f246439"
      },
      "source": [
        "df_apps_clean.head(1)\n",
        "df_apps_clean.sort_values('Rating', ascending=False).head()"
      ],
      "execution_count": 163,
      "outputs": [
        {
          "output_type": "execute_result",
          "data": {
            "text/html": [
              "<div>\n",
              "<style scoped>\n",
              "    .dataframe tbody tr th:only-of-type {\n",
              "        vertical-align: middle;\n",
              "    }\n",
              "\n",
              "    .dataframe tbody tr th {\n",
              "        vertical-align: top;\n",
              "    }\n",
              "\n",
              "    .dataframe thead th {\n",
              "        text-align: right;\n",
              "    }\n",
              "</style>\n",
              "<table border=\"1\" class=\"dataframe\">\n",
              "  <thead>\n",
              "    <tr style=\"text-align: right;\">\n",
              "      <th></th>\n",
              "      <th>App</th>\n",
              "      <th>Category</th>\n",
              "      <th>Rating</th>\n",
              "      <th>Reviews</th>\n",
              "      <th>Size_MBs</th>\n",
              "      <th>Installs</th>\n",
              "      <th>Type</th>\n",
              "      <th>Price</th>\n",
              "      <th>Content_Rating</th>\n",
              "      <th>Genres</th>\n",
              "    </tr>\n",
              "  </thead>\n",
              "  <tbody>\n",
              "    <tr>\n",
              "      <th>21</th>\n",
              "      <td>KBA-EZ Health Guide</td>\n",
              "      <td>MEDICAL</td>\n",
              "      <td>5.00</td>\n",
              "      <td>4</td>\n",
              "      <td>25.00</td>\n",
              "      <td>1</td>\n",
              "      <td>Free</td>\n",
              "      <td>0</td>\n",
              "      <td>Everyone</td>\n",
              "      <td>Medical</td>\n",
              "    </tr>\n",
              "    <tr>\n",
              "      <th>1230</th>\n",
              "      <td>Sway Medical</td>\n",
              "      <td>MEDICAL</td>\n",
              "      <td>5.00</td>\n",
              "      <td>3</td>\n",
              "      <td>22.00</td>\n",
              "      <td>100</td>\n",
              "      <td>Free</td>\n",
              "      <td>0</td>\n",
              "      <td>Everyone</td>\n",
              "      <td>Medical</td>\n",
              "    </tr>\n",
              "    <tr>\n",
              "      <th>1227</th>\n",
              "      <td>AJ Men's Grooming</td>\n",
              "      <td>LIFESTYLE</td>\n",
              "      <td>5.00</td>\n",
              "      <td>2</td>\n",
              "      <td>22.00</td>\n",
              "      <td>100</td>\n",
              "      <td>Free</td>\n",
              "      <td>0</td>\n",
              "      <td>Everyone</td>\n",
              "      <td>Lifestyle</td>\n",
              "    </tr>\n",
              "    <tr>\n",
              "      <th>1224</th>\n",
              "      <td>FK Dedinje BGD</td>\n",
              "      <td>SPORTS</td>\n",
              "      <td>5.00</td>\n",
              "      <td>36</td>\n",
              "      <td>2.60</td>\n",
              "      <td>100</td>\n",
              "      <td>Free</td>\n",
              "      <td>0</td>\n",
              "      <td>Everyone</td>\n",
              "      <td>Sports</td>\n",
              "    </tr>\n",
              "    <tr>\n",
              "      <th>1223</th>\n",
              "      <td>CB VIDEO VISION</td>\n",
              "      <td>PHOTOGRAPHY</td>\n",
              "      <td>5.00</td>\n",
              "      <td>13</td>\n",
              "      <td>2.60</td>\n",
              "      <td>100</td>\n",
              "      <td>Free</td>\n",
              "      <td>0</td>\n",
              "      <td>Everyone</td>\n",
              "      <td>Photography</td>\n",
              "    </tr>\n",
              "  </tbody>\n",
              "</table>\n",
              "</div>"
            ],
            "text/plain": [
              "                      App     Category  ...  Content_Rating       Genres\n",
              "21    KBA-EZ Health Guide      MEDICAL  ...        Everyone      Medical\n",
              "1230         Sway Medical      MEDICAL  ...        Everyone      Medical\n",
              "1227    AJ Men's Grooming    LIFESTYLE  ...        Everyone    Lifestyle\n",
              "1224       FK Dedinje BGD       SPORTS  ...        Everyone       Sports\n",
              "1223      CB VIDEO VISION  PHOTOGRAPHY  ...        Everyone  Photography\n",
              "\n",
              "[5 rows x 10 columns]"
            ]
          },
          "metadata": {
            "tags": []
          },
          "execution_count": 163
        }
      ]
    },
    {
      "cell_type": "code",
      "metadata": {
        "colab": {
          "base_uri": "https://localhost:8080/",
          "height": 419
        },
        "id": "681gT_ANViWT",
        "outputId": "8dd90031-1620-4d6f-8178-b34dad12d4c1"
      },
      "source": [
        "df_apps_clean[df_apps_clean.Rating == 5.00].sort_values('Reviews', ascending=False)\n",
        "# 271 apps with the 5* rating"
      ],
      "execution_count": 164,
      "outputs": [
        {
          "output_type": "execute_result",
          "data": {
            "text/html": [
              "<div>\n",
              "<style scoped>\n",
              "    .dataframe tbody tr th:only-of-type {\n",
              "        vertical-align: middle;\n",
              "    }\n",
              "\n",
              "    .dataframe tbody tr th {\n",
              "        vertical-align: top;\n",
              "    }\n",
              "\n",
              "    .dataframe thead th {\n",
              "        text-align: right;\n",
              "    }\n",
              "</style>\n",
              "<table border=\"1\" class=\"dataframe\">\n",
              "  <thead>\n",
              "    <tr style=\"text-align: right;\">\n",
              "      <th></th>\n",
              "      <th>App</th>\n",
              "      <th>Category</th>\n",
              "      <th>Rating</th>\n",
              "      <th>Reviews</th>\n",
              "      <th>Size_MBs</th>\n",
              "      <th>Installs</th>\n",
              "      <th>Type</th>\n",
              "      <th>Price</th>\n",
              "      <th>Content_Rating</th>\n",
              "      <th>Genres</th>\n",
              "    </tr>\n",
              "  </thead>\n",
              "  <tbody>\n",
              "    <tr>\n",
              "      <th>2095</th>\n",
              "      <td>Ríos de Fe</td>\n",
              "      <td>LIFESTYLE</td>\n",
              "      <td>5.00</td>\n",
              "      <td>141</td>\n",
              "      <td>15.00</td>\n",
              "      <td>1,000</td>\n",
              "      <td>Free</td>\n",
              "      <td>0</td>\n",
              "      <td>Everyone</td>\n",
              "      <td>Lifestyle</td>\n",
              "    </tr>\n",
              "    <tr>\n",
              "      <th>2438</th>\n",
              "      <td>FD Calculator (EMI, SIP, RD &amp; Loan Eligilibility)</td>\n",
              "      <td>FINANCE</td>\n",
              "      <td>5.00</td>\n",
              "      <td>104</td>\n",
              "      <td>2.30</td>\n",
              "      <td>1,000</td>\n",
              "      <td>Free</td>\n",
              "      <td>0</td>\n",
              "      <td>Everyone</td>\n",
              "      <td>Finance</td>\n",
              "    </tr>\n",
              "    <tr>\n",
              "      <th>3115</th>\n",
              "      <td>Oración CX</td>\n",
              "      <td>LIFESTYLE</td>\n",
              "      <td>5.00</td>\n",
              "      <td>103</td>\n",
              "      <td>3.80</td>\n",
              "      <td>5,000</td>\n",
              "      <td>Free</td>\n",
              "      <td>0</td>\n",
              "      <td>Everyone</td>\n",
              "      <td>Lifestyle</td>\n",
              "    </tr>\n",
              "    <tr>\n",
              "      <th>2107</th>\n",
              "      <td>Barisal University App-BU Face</td>\n",
              "      <td>FAMILY</td>\n",
              "      <td>5.00</td>\n",
              "      <td>100</td>\n",
              "      <td>10.00</td>\n",
              "      <td>1,000</td>\n",
              "      <td>Free</td>\n",
              "      <td>0</td>\n",
              "      <td>Everyone</td>\n",
              "      <td>Education</td>\n",
              "    </tr>\n",
              "    <tr>\n",
              "      <th>2069</th>\n",
              "      <td>Master E.K</td>\n",
              "      <td>FAMILY</td>\n",
              "      <td>5.00</td>\n",
              "      <td>90</td>\n",
              "      <td>19.00</td>\n",
              "      <td>1,000</td>\n",
              "      <td>Free</td>\n",
              "      <td>0</td>\n",
              "      <td>Everyone</td>\n",
              "      <td>Education</td>\n",
              "    </tr>\n",
              "    <tr>\n",
              "      <th>...</th>\n",
              "      <td>...</td>\n",
              "      <td>...</td>\n",
              "      <td>...</td>\n",
              "      <td>...</td>\n",
              "      <td>...</td>\n",
              "      <td>...</td>\n",
              "      <td>...</td>\n",
              "      <td>...</td>\n",
              "      <td>...</td>\n",
              "      <td>...</td>\n",
              "    </tr>\n",
              "    <tr>\n",
              "      <th>1272</th>\n",
              "      <td>CG Prints</td>\n",
              "      <td>PHOTOGRAPHY</td>\n",
              "      <td>5.00</td>\n",
              "      <td>1</td>\n",
              "      <td>2.30</td>\n",
              "      <td>100</td>\n",
              "      <td>Free</td>\n",
              "      <td>0</td>\n",
              "      <td>Everyone</td>\n",
              "      <td>Photography</td>\n",
              "    </tr>\n",
              "    <tr>\n",
              "      <th>453</th>\n",
              "      <td>Wowkwis aq Ka'qaquj</td>\n",
              "      <td>FAMILY</td>\n",
              "      <td>5.00</td>\n",
              "      <td>1</td>\n",
              "      <td>49.00</td>\n",
              "      <td>10</td>\n",
              "      <td>Free</td>\n",
              "      <td>0</td>\n",
              "      <td>Everyone</td>\n",
              "      <td>Education;Education</td>\n",
              "    </tr>\n",
              "    <tr>\n",
              "      <th>349</th>\n",
              "      <td>DF Glue Board</td>\n",
              "      <td>PARENTING</td>\n",
              "      <td>5.00</td>\n",
              "      <td>1</td>\n",
              "      <td>27.00</td>\n",
              "      <td>10</td>\n",
              "      <td>Free</td>\n",
              "      <td>0</td>\n",
              "      <td>Everyone</td>\n",
              "      <td>Parenting</td>\n",
              "    </tr>\n",
              "    <tr>\n",
              "      <th>230</th>\n",
              "      <td>NCLEX Multi-topic Nursing Exam Review-Quiz &amp; n...</td>\n",
              "      <td>MEDICAL</td>\n",
              "      <td>5.00</td>\n",
              "      <td>1</td>\n",
              "      <td>4.20</td>\n",
              "      <td>10</td>\n",
              "      <td>Free</td>\n",
              "      <td>0</td>\n",
              "      <td>Everyone</td>\n",
              "      <td>Medical</td>\n",
              "    </tr>\n",
              "    <tr>\n",
              "      <th>411</th>\n",
              "      <td>EC SPORTS</td>\n",
              "      <td>SPORTS</td>\n",
              "      <td>5.00</td>\n",
              "      <td>1</td>\n",
              "      <td>6.30</td>\n",
              "      <td>10</td>\n",
              "      <td>Free</td>\n",
              "      <td>0</td>\n",
              "      <td>Everyone</td>\n",
              "      <td>Sports</td>\n",
              "    </tr>\n",
              "  </tbody>\n",
              "</table>\n",
              "<p>271 rows × 10 columns</p>\n",
              "</div>"
            ],
            "text/plain": [
              "                                                    App  ...               Genres\n",
              "2095                                         Ríos de Fe  ...            Lifestyle\n",
              "2438  FD Calculator (EMI, SIP, RD & Loan Eligilibility)  ...              Finance\n",
              "3115                                         Oración CX  ...            Lifestyle\n",
              "2107                     Barisal University App-BU Face  ...            Education\n",
              "2069                                         Master E.K  ...            Education\n",
              "...                                                 ...  ...                  ...\n",
              "1272                                          CG Prints  ...          Photography\n",
              "453                                 Wowkwis aq Ka'qaquj  ...  Education;Education\n",
              "349                                       DF Glue Board  ...            Parenting\n",
              "230   NCLEX Multi-topic Nursing Exam Review-Quiz & n...  ...              Medical\n",
              "411                                           EC SPORTS  ...               Sports\n",
              "\n",
              "[271 rows x 10 columns]"
            ]
          },
          "metadata": {
            "tags": []
          },
          "execution_count": 164
        }
      ]
    },
    {
      "cell_type": "markdown",
      "metadata": {
        "id": "28o1Tro4diUi"
      },
      "source": [
        "# Find 5 Largest Apps in terms of Size (MBs)\n",
        "\n",
        "**Challenge**: What's the size in megabytes (MB) of the largest Android apps in the Google Play Store. Based on the data, do you think there could be limit in place or can developers make apps as large as they please? "
      ]
    },
    {
      "cell_type": "code",
      "metadata": {
        "id": "n5r0pJCOn9Vu",
        "colab": {
          "base_uri": "https://localhost:8080/"
        },
        "outputId": "397435af-7e60-473a-f418-3f8900b64ece"
      },
      "source": [
        "df_apps_clean.sort_values('Size_MBs', ascending=False).head()\n",
        "df_apps_clean[df_apps_clean.Size_MBs == 100].shape # 14 apps with size of 100MB"
      ],
      "execution_count": 165,
      "outputs": [
        {
          "output_type": "execute_result",
          "data": {
            "text/plain": [
              "(14, 10)"
            ]
          },
          "metadata": {
            "tags": []
          },
          "execution_count": 165
        }
      ]
    },
    {
      "cell_type": "markdown",
      "metadata": {
        "id": "C3gTckh7diUk"
      },
      "source": [
        "# Find the 5 App with Most Reviews\n",
        "\n",
        "**Challenge**: Which apps have the highest number of reviews? Are there any paid apps among the top 50?"
      ]
    },
    {
      "cell_type": "code",
      "metadata": {
        "id": "TLt98G0Sn_De",
        "colab": {
          "base_uri": "https://localhost:8080/",
          "height": 204
        },
        "outputId": "c05f00be-e861-4075-dd0b-a6aa8ee236db"
      },
      "source": [
        "df_apps_clean.sort_values('Reviews', ascending=False).head()"
      ],
      "execution_count": 166,
      "outputs": [
        {
          "output_type": "execute_result",
          "data": {
            "text/html": [
              "<div>\n",
              "<style scoped>\n",
              "    .dataframe tbody tr th:only-of-type {\n",
              "        vertical-align: middle;\n",
              "    }\n",
              "\n",
              "    .dataframe tbody tr th {\n",
              "        vertical-align: top;\n",
              "    }\n",
              "\n",
              "    .dataframe thead th {\n",
              "        text-align: right;\n",
              "    }\n",
              "</style>\n",
              "<table border=\"1\" class=\"dataframe\">\n",
              "  <thead>\n",
              "    <tr style=\"text-align: right;\">\n",
              "      <th></th>\n",
              "      <th>App</th>\n",
              "      <th>Category</th>\n",
              "      <th>Rating</th>\n",
              "      <th>Reviews</th>\n",
              "      <th>Size_MBs</th>\n",
              "      <th>Installs</th>\n",
              "      <th>Type</th>\n",
              "      <th>Price</th>\n",
              "      <th>Content_Rating</th>\n",
              "      <th>Genres</th>\n",
              "    </tr>\n",
              "  </thead>\n",
              "  <tbody>\n",
              "    <tr>\n",
              "      <th>10805</th>\n",
              "      <td>Facebook</td>\n",
              "      <td>SOCIAL</td>\n",
              "      <td>4.10</td>\n",
              "      <td>78158306</td>\n",
              "      <td>5.30</td>\n",
              "      <td>1,000,000,000</td>\n",
              "      <td>Free</td>\n",
              "      <td>0</td>\n",
              "      <td>Teen</td>\n",
              "      <td>Social</td>\n",
              "    </tr>\n",
              "    <tr>\n",
              "      <th>10785</th>\n",
              "      <td>WhatsApp Messenger</td>\n",
              "      <td>COMMUNICATION</td>\n",
              "      <td>4.40</td>\n",
              "      <td>69119316</td>\n",
              "      <td>3.50</td>\n",
              "      <td>1,000,000,000</td>\n",
              "      <td>Free</td>\n",
              "      <td>0</td>\n",
              "      <td>Everyone</td>\n",
              "      <td>Communication</td>\n",
              "    </tr>\n",
              "    <tr>\n",
              "      <th>10806</th>\n",
              "      <td>Instagram</td>\n",
              "      <td>SOCIAL</td>\n",
              "      <td>4.50</td>\n",
              "      <td>66577313</td>\n",
              "      <td>5.30</td>\n",
              "      <td>1,000,000,000</td>\n",
              "      <td>Free</td>\n",
              "      <td>0</td>\n",
              "      <td>Teen</td>\n",
              "      <td>Social</td>\n",
              "    </tr>\n",
              "    <tr>\n",
              "      <th>10784</th>\n",
              "      <td>Messenger – Text and Video Chat for Free</td>\n",
              "      <td>COMMUNICATION</td>\n",
              "      <td>4.00</td>\n",
              "      <td>56642847</td>\n",
              "      <td>3.50</td>\n",
              "      <td>1,000,000,000</td>\n",
              "      <td>Free</td>\n",
              "      <td>0</td>\n",
              "      <td>Everyone</td>\n",
              "      <td>Communication</td>\n",
              "    </tr>\n",
              "    <tr>\n",
              "      <th>10650</th>\n",
              "      <td>Clash of Clans</td>\n",
              "      <td>GAME</td>\n",
              "      <td>4.60</td>\n",
              "      <td>44891723</td>\n",
              "      <td>98.00</td>\n",
              "      <td>100,000,000</td>\n",
              "      <td>Free</td>\n",
              "      <td>0</td>\n",
              "      <td>Everyone 10+</td>\n",
              "      <td>Strategy</td>\n",
              "    </tr>\n",
              "  </tbody>\n",
              "</table>\n",
              "</div>"
            ],
            "text/plain": [
              "                                            App  ...         Genres\n",
              "10805                                  Facebook  ...         Social\n",
              "10785                        WhatsApp Messenger  ...  Communication\n",
              "10806                                 Instagram  ...         Social\n",
              "10784  Messenger – Text and Video Chat for Free  ...  Communication\n",
              "10650                            Clash of Clans  ...       Strategy\n",
              "\n",
              "[5 rows x 10 columns]"
            ]
          },
          "metadata": {
            "tags": []
          },
          "execution_count": 166
        }
      ]
    },
    {
      "cell_type": "code",
      "metadata": {
        "colab": {
          "base_uri": "https://localhost:8080/"
        },
        "id": "sa4u04i5U64X",
        "outputId": "8d752d38-4b98-439e-941f-a22b81385fb3"
      },
      "source": [
        "top_50 = df_apps_clean.sort_values('Reviews', ascending=False).head(50)\n",
        "top_50[top_50.Type == 'Paid'].count()"
      ],
      "execution_count": 167,
      "outputs": [
        {
          "output_type": "execute_result",
          "data": {
            "text/plain": [
              "App               0\n",
              "Category          0\n",
              "Rating            0\n",
              "Reviews           0\n",
              "Size_MBs          0\n",
              "Installs          0\n",
              "Type              0\n",
              "Price             0\n",
              "Content_Rating    0\n",
              "Genres            0\n",
              "dtype: int64"
            ]
          },
          "metadata": {
            "tags": []
          },
          "execution_count": 167
        }
      ]
    },
    {
      "cell_type": "markdown",
      "metadata": {
        "id": "BFoRqpezjebe"
      },
      "source": [
        "# Plotly Pie and Donut Charts - Visualise Categorical Data: Content Ratings"
      ]
    },
    {
      "cell_type": "code",
      "metadata": {
        "id": "c0IIxNGnoFKM",
        "colab": {
          "base_uri": "https://localhost:8080/"
        },
        "outputId": "bde73b39-c0ab-456c-dfab-04ac9cf63f7a"
      },
      "source": [
        "ratings = df_apps_clean.Content_Rating.value_counts()\n",
        "ratings"
      ],
      "execution_count": 168,
      "outputs": [
        {
          "output_type": "execute_result",
          "data": {
            "text/plain": [
              "Everyone           6621\n",
              "Teen                912\n",
              "Mature 17+          357\n",
              "Everyone 10+        305\n",
              "Adults only 18+       3\n",
              "Unrated               1\n",
              "Name: Content_Rating, dtype: int64"
            ]
          },
          "metadata": {
            "tags": []
          },
          "execution_count": 168
        }
      ]
    },
    {
      "cell_type": "code",
      "metadata": {
        "id": "TSiV6ZkjoFVg",
        "colab": {
          "base_uri": "https://localhost:8080/",
          "height": 542
        },
        "outputId": "7fc68828-ff64-4a97-9587-b132c33dc4a8"
      },
      "source": [
        "# Create a graph_object:\n",
        "fig = px.pie(labels=ratings.index, values=ratings.values)\n",
        "\n",
        "fig.show()"
      ],
      "execution_count": 169,
      "outputs": [
        {
          "output_type": "display_data",
          "data": {
            "text/html": [
              "<html>\n",
              "<head><meta charset=\"utf-8\" /></head>\n",
              "<body>\n",
              "    <div>\n",
              "            <script src=\"https://cdnjs.cloudflare.com/ajax/libs/mathjax/2.7.5/MathJax.js?config=TeX-AMS-MML_SVG\"></script><script type=\"text/javascript\">if (window.MathJax) {MathJax.Hub.Config({SVG: {font: \"STIX-Web\"}});}</script>\n",
              "                <script type=\"text/javascript\">window.PlotlyConfig = {MathJaxConfig: 'local'};</script>\n",
              "        <script src=\"https://cdn.plot.ly/plotly-latest.min.js\"></script>    \n",
              "            <div id=\"5fa09ff8-b788-4151-addb-ce13b0400af2\" class=\"plotly-graph-div\" style=\"height:525px; width:100%;\"></div>\n",
              "            <script type=\"text/javascript\">\n",
              "                \n",
              "                    window.PLOTLYENV=window.PLOTLYENV || {};\n",
              "                    \n",
              "                if (document.getElementById(\"5fa09ff8-b788-4151-addb-ce13b0400af2\")) {\n",
              "                    Plotly.newPlot(\n",
              "                        '5fa09ff8-b788-4151-addb-ce13b0400af2',\n",
              "                        [{\"domain\": {\"x\": [0.0, 1.0], \"y\": [0.0, 1.0]}, \"hoverlabel\": {\"namelength\": 0}, \"hovertemplate\": \"value=%{value}\", \"legendgroup\": \"\", \"name\": \"\", \"showlegend\": false, \"type\": \"pie\", \"values\": [6621, 912, 357, 305, 3, 1]}],\n",
              "                        {\"legend\": {\"tracegroupgap\": 0}, \"margin\": {\"t\": 60}, \"template\": {\"data\": {\"bar\": [{\"error_x\": {\"color\": \"#2a3f5f\"}, \"error_y\": {\"color\": \"#2a3f5f\"}, \"marker\": {\"line\": {\"color\": \"#E5ECF6\", \"width\": 0.5}}, \"type\": \"bar\"}], \"barpolar\": [{\"marker\": {\"line\": {\"color\": \"#E5ECF6\", \"width\": 0.5}}, \"type\": \"barpolar\"}], \"carpet\": [{\"aaxis\": {\"endlinecolor\": \"#2a3f5f\", \"gridcolor\": \"white\", \"linecolor\": \"white\", \"minorgridcolor\": \"white\", \"startlinecolor\": \"#2a3f5f\"}, \"baxis\": {\"endlinecolor\": \"#2a3f5f\", \"gridcolor\": \"white\", \"linecolor\": \"white\", \"minorgridcolor\": \"white\", \"startlinecolor\": \"#2a3f5f\"}, \"type\": \"carpet\"}], \"choropleth\": [{\"colorbar\": {\"outlinewidth\": 0, \"ticks\": \"\"}, \"type\": \"choropleth\"}], \"contour\": [{\"colorbar\": {\"outlinewidth\": 0, \"ticks\": \"\"}, \"colorscale\": [[0.0, \"#0d0887\"], [0.1111111111111111, \"#46039f\"], [0.2222222222222222, \"#7201a8\"], [0.3333333333333333, \"#9c179e\"], [0.4444444444444444, \"#bd3786\"], [0.5555555555555556, \"#d8576b\"], [0.6666666666666666, \"#ed7953\"], [0.7777777777777778, \"#fb9f3a\"], [0.8888888888888888, \"#fdca26\"], [1.0, \"#f0f921\"]], \"type\": \"contour\"}], \"contourcarpet\": [{\"colorbar\": {\"outlinewidth\": 0, \"ticks\": \"\"}, \"type\": \"contourcarpet\"}], \"heatmap\": [{\"colorbar\": {\"outlinewidth\": 0, \"ticks\": \"\"}, \"colorscale\": [[0.0, \"#0d0887\"], [0.1111111111111111, \"#46039f\"], [0.2222222222222222, \"#7201a8\"], [0.3333333333333333, \"#9c179e\"], [0.4444444444444444, \"#bd3786\"], [0.5555555555555556, \"#d8576b\"], [0.6666666666666666, \"#ed7953\"], [0.7777777777777778, \"#fb9f3a\"], [0.8888888888888888, \"#fdca26\"], [1.0, \"#f0f921\"]], \"type\": \"heatmap\"}], \"heatmapgl\": [{\"colorbar\": {\"outlinewidth\": 0, \"ticks\": \"\"}, \"colorscale\": [[0.0, \"#0d0887\"], [0.1111111111111111, \"#46039f\"], [0.2222222222222222, \"#7201a8\"], [0.3333333333333333, \"#9c179e\"], [0.4444444444444444, \"#bd3786\"], [0.5555555555555556, \"#d8576b\"], [0.6666666666666666, \"#ed7953\"], [0.7777777777777778, \"#fb9f3a\"], [0.8888888888888888, \"#fdca26\"], [1.0, \"#f0f921\"]], \"type\": \"heatmapgl\"}], \"histogram\": [{\"marker\": {\"colorbar\": {\"outlinewidth\": 0, \"ticks\": \"\"}}, \"type\": \"histogram\"}], \"histogram2d\": [{\"colorbar\": {\"outlinewidth\": 0, \"ticks\": \"\"}, \"colorscale\": [[0.0, \"#0d0887\"], [0.1111111111111111, \"#46039f\"], [0.2222222222222222, \"#7201a8\"], [0.3333333333333333, \"#9c179e\"], [0.4444444444444444, \"#bd3786\"], [0.5555555555555556, \"#d8576b\"], [0.6666666666666666, \"#ed7953\"], [0.7777777777777778, \"#fb9f3a\"], [0.8888888888888888, \"#fdca26\"], [1.0, \"#f0f921\"]], \"type\": \"histogram2d\"}], \"histogram2dcontour\": [{\"colorbar\": {\"outlinewidth\": 0, \"ticks\": \"\"}, \"colorscale\": [[0.0, \"#0d0887\"], [0.1111111111111111, \"#46039f\"], [0.2222222222222222, \"#7201a8\"], [0.3333333333333333, \"#9c179e\"], [0.4444444444444444, \"#bd3786\"], [0.5555555555555556, \"#d8576b\"], [0.6666666666666666, \"#ed7953\"], [0.7777777777777778, \"#fb9f3a\"], [0.8888888888888888, \"#fdca26\"], [1.0, \"#f0f921\"]], \"type\": \"histogram2dcontour\"}], \"mesh3d\": [{\"colorbar\": {\"outlinewidth\": 0, \"ticks\": \"\"}, \"type\": \"mesh3d\"}], \"parcoords\": [{\"line\": {\"colorbar\": {\"outlinewidth\": 0, \"ticks\": \"\"}}, \"type\": \"parcoords\"}], \"pie\": [{\"automargin\": true, \"type\": \"pie\"}], \"scatter\": [{\"marker\": {\"colorbar\": {\"outlinewidth\": 0, \"ticks\": \"\"}}, \"type\": \"scatter\"}], \"scatter3d\": [{\"line\": {\"colorbar\": {\"outlinewidth\": 0, \"ticks\": \"\"}}, \"marker\": {\"colorbar\": {\"outlinewidth\": 0, \"ticks\": \"\"}}, \"type\": \"scatter3d\"}], \"scattercarpet\": [{\"marker\": {\"colorbar\": {\"outlinewidth\": 0, \"ticks\": \"\"}}, \"type\": \"scattercarpet\"}], \"scattergeo\": [{\"marker\": {\"colorbar\": {\"outlinewidth\": 0, \"ticks\": \"\"}}, \"type\": \"scattergeo\"}], \"scattergl\": [{\"marker\": {\"colorbar\": {\"outlinewidth\": 0, \"ticks\": \"\"}}, \"type\": \"scattergl\"}], \"scattermapbox\": [{\"marker\": {\"colorbar\": {\"outlinewidth\": 0, \"ticks\": \"\"}}, \"type\": \"scattermapbox\"}], \"scatterpolar\": [{\"marker\": {\"colorbar\": {\"outlinewidth\": 0, \"ticks\": \"\"}}, \"type\": \"scatterpolar\"}], \"scatterpolargl\": [{\"marker\": {\"colorbar\": {\"outlinewidth\": 0, \"ticks\": \"\"}}, \"type\": \"scatterpolargl\"}], \"scatterternary\": [{\"marker\": {\"colorbar\": {\"outlinewidth\": 0, \"ticks\": \"\"}}, \"type\": \"scatterternary\"}], \"surface\": [{\"colorbar\": {\"outlinewidth\": 0, \"ticks\": \"\"}, \"colorscale\": [[0.0, \"#0d0887\"], [0.1111111111111111, \"#46039f\"], [0.2222222222222222, \"#7201a8\"], [0.3333333333333333, \"#9c179e\"], [0.4444444444444444, \"#bd3786\"], [0.5555555555555556, \"#d8576b\"], [0.6666666666666666, \"#ed7953\"], [0.7777777777777778, \"#fb9f3a\"], [0.8888888888888888, \"#fdca26\"], [1.0, \"#f0f921\"]], \"type\": \"surface\"}], \"table\": [{\"cells\": {\"fill\": {\"color\": \"#EBF0F8\"}, \"line\": {\"color\": \"white\"}}, \"header\": {\"fill\": {\"color\": \"#C8D4E3\"}, \"line\": {\"color\": \"white\"}}, \"type\": \"table\"}]}, \"layout\": {\"annotationdefaults\": {\"arrowcolor\": \"#2a3f5f\", \"arrowhead\": 0, \"arrowwidth\": 1}, \"coloraxis\": {\"colorbar\": {\"outlinewidth\": 0, \"ticks\": \"\"}}, \"colorscale\": {\"diverging\": [[0, \"#8e0152\"], [0.1, \"#c51b7d\"], [0.2, \"#de77ae\"], [0.3, \"#f1b6da\"], [0.4, \"#fde0ef\"], [0.5, \"#f7f7f7\"], [0.6, \"#e6f5d0\"], [0.7, \"#b8e186\"], [0.8, \"#7fbc41\"], [0.9, \"#4d9221\"], [1, \"#276419\"]], \"sequential\": [[0.0, \"#0d0887\"], [0.1111111111111111, \"#46039f\"], [0.2222222222222222, \"#7201a8\"], [0.3333333333333333, \"#9c179e\"], [0.4444444444444444, \"#bd3786\"], [0.5555555555555556, \"#d8576b\"], [0.6666666666666666, \"#ed7953\"], [0.7777777777777778, \"#fb9f3a\"], [0.8888888888888888, \"#fdca26\"], [1.0, \"#f0f921\"]], \"sequentialminus\": [[0.0, \"#0d0887\"], [0.1111111111111111, \"#46039f\"], [0.2222222222222222, \"#7201a8\"], [0.3333333333333333, \"#9c179e\"], [0.4444444444444444, \"#bd3786\"], [0.5555555555555556, \"#d8576b\"], [0.6666666666666666, \"#ed7953\"], [0.7777777777777778, \"#fb9f3a\"], [0.8888888888888888, \"#fdca26\"], [1.0, \"#f0f921\"]]}, \"colorway\": [\"#636efa\", \"#EF553B\", \"#00cc96\", \"#ab63fa\", \"#FFA15A\", \"#19d3f3\", \"#FF6692\", \"#B6E880\", \"#FF97FF\", \"#FECB52\"], \"font\": {\"color\": \"#2a3f5f\"}, \"geo\": {\"bgcolor\": \"white\", \"lakecolor\": \"white\", \"landcolor\": \"#E5ECF6\", \"showlakes\": true, \"showland\": true, \"subunitcolor\": \"white\"}, \"hoverlabel\": {\"align\": \"left\"}, \"hovermode\": \"closest\", \"mapbox\": {\"style\": \"light\"}, \"paper_bgcolor\": \"white\", \"plot_bgcolor\": \"#E5ECF6\", \"polar\": {\"angularaxis\": {\"gridcolor\": \"white\", \"linecolor\": \"white\", \"ticks\": \"\"}, \"bgcolor\": \"#E5ECF6\", \"radialaxis\": {\"gridcolor\": \"white\", \"linecolor\": \"white\", \"ticks\": \"\"}}, \"scene\": {\"xaxis\": {\"backgroundcolor\": \"#E5ECF6\", \"gridcolor\": \"white\", \"gridwidth\": 2, \"linecolor\": \"white\", \"showbackground\": true, \"ticks\": \"\", \"zerolinecolor\": \"white\"}, \"yaxis\": {\"backgroundcolor\": \"#E5ECF6\", \"gridcolor\": \"white\", \"gridwidth\": 2, \"linecolor\": \"white\", \"showbackground\": true, \"ticks\": \"\", \"zerolinecolor\": \"white\"}, \"zaxis\": {\"backgroundcolor\": \"#E5ECF6\", \"gridcolor\": \"white\", \"gridwidth\": 2, \"linecolor\": \"white\", \"showbackground\": true, \"ticks\": \"\", \"zerolinecolor\": \"white\"}}, \"shapedefaults\": {\"line\": {\"color\": \"#2a3f5f\"}}, \"ternary\": {\"aaxis\": {\"gridcolor\": \"white\", \"linecolor\": \"white\", \"ticks\": \"\"}, \"baxis\": {\"gridcolor\": \"white\", \"linecolor\": \"white\", \"ticks\": \"\"}, \"bgcolor\": \"#E5ECF6\", \"caxis\": {\"gridcolor\": \"white\", \"linecolor\": \"white\", \"ticks\": \"\"}}, \"title\": {\"x\": 0.05}, \"xaxis\": {\"automargin\": true, \"gridcolor\": \"white\", \"linecolor\": \"white\", \"ticks\": \"\", \"title\": {\"standoff\": 15}, \"zerolinecolor\": \"white\", \"zerolinewidth\": 2}, \"yaxis\": {\"automargin\": true, \"gridcolor\": \"white\", \"linecolor\": \"white\", \"ticks\": \"\", \"title\": {\"standoff\": 15}, \"zerolinecolor\": \"white\", \"zerolinewidth\": 2}}}},\n",
              "                        {\"responsive\": true}\n",
              "                    ).then(function(){\n",
              "                            \n",
              "var gd = document.getElementById('5fa09ff8-b788-4151-addb-ce13b0400af2');\n",
              "var x = new MutationObserver(function (mutations, observer) {{\n",
              "        var display = window.getComputedStyle(gd).display;\n",
              "        if (!display || display === 'none') {{\n",
              "            console.log([gd, 'removed!']);\n",
              "            Plotly.purge(gd);\n",
              "            observer.disconnect();\n",
              "        }}\n",
              "}});\n",
              "\n",
              "// Listen for the removal of the full notebook cells\n",
              "var notebookContainer = gd.closest('#notebook-container');\n",
              "if (notebookContainer) {{\n",
              "    x.observe(notebookContainer, {childList: true});\n",
              "}}\n",
              "\n",
              "// Listen for the clearing of the current output cell\n",
              "var outputEl = gd.closest('.output');\n",
              "if (outputEl) {{\n",
              "    x.observe(outputEl, {childList: true});\n",
              "}}\n",
              "\n",
              "                        })\n",
              "                };\n",
              "                \n",
              "            </script>\n",
              "        </div>\n",
              "</body>\n",
              "</html>"
            ]
          },
          "metadata": {
            "tags": []
          }
        }
      ]
    },
    {
      "cell_type": "code",
      "metadata": {
        "id": "7kil2mdfoFOr",
        "colab": {
          "base_uri": "https://localhost:8080/",
          "height": 542
        },
        "outputId": "55b3f2bf-0ab7-46f2-b140-887eea32e956"
      },
      "source": [
        "fig = px.pie(labels=ratings.index, values=ratings.values,\n",
        "             title=\"Content Rating\", names=ratings.index)\n",
        "\n",
        "fig.update_traces(textposition='outside', textinfo='percent+label')\n",
        "\n",
        "fig.show()"
      ],
      "execution_count": 170,
      "outputs": [
        {
          "output_type": "display_data",
          "data": {
            "text/html": [
              "<html>\n",
              "<head><meta charset=\"utf-8\" /></head>\n",
              "<body>\n",
              "    <div>\n",
              "            <script src=\"https://cdnjs.cloudflare.com/ajax/libs/mathjax/2.7.5/MathJax.js?config=TeX-AMS-MML_SVG\"></script><script type=\"text/javascript\">if (window.MathJax) {MathJax.Hub.Config({SVG: {font: \"STIX-Web\"}});}</script>\n",
              "                <script type=\"text/javascript\">window.PlotlyConfig = {MathJaxConfig: 'local'};</script>\n",
              "        <script src=\"https://cdn.plot.ly/plotly-latest.min.js\"></script>    \n",
              "            <div id=\"a2c7801f-05bb-4c2b-ac05-c709e859294e\" class=\"plotly-graph-div\" style=\"height:525px; width:100%;\"></div>\n",
              "            <script type=\"text/javascript\">\n",
              "                \n",
              "                    window.PLOTLYENV=window.PLOTLYENV || {};\n",
              "                    \n",
              "                if (document.getElementById(\"a2c7801f-05bb-4c2b-ac05-c709e859294e\")) {\n",
              "                    Plotly.newPlot(\n",
              "                        'a2c7801f-05bb-4c2b-ac05-c709e859294e',\n",
              "                        [{\"domain\": {\"x\": [0.0, 1.0], \"y\": [0.0, 1.0]}, \"hoverlabel\": {\"namelength\": 0}, \"hovertemplate\": \"label=%{label}<br>value=%{value}\", \"labels\": [\"Everyone\", \"Teen\", \"Mature 17+\", \"Everyone 10+\", \"Adults only 18+\", \"Unrated\"], \"legendgroup\": \"\", \"name\": \"\", \"showlegend\": true, \"textinfo\": \"percent+label\", \"textposition\": \"outside\", \"type\": \"pie\", \"values\": [6621, 912, 357, 305, 3, 1]}],\n",
              "                        {\"legend\": {\"tracegroupgap\": 0}, \"template\": {\"data\": {\"bar\": [{\"error_x\": {\"color\": \"#2a3f5f\"}, \"error_y\": {\"color\": \"#2a3f5f\"}, \"marker\": {\"line\": {\"color\": \"#E5ECF6\", \"width\": 0.5}}, \"type\": \"bar\"}], \"barpolar\": [{\"marker\": {\"line\": {\"color\": \"#E5ECF6\", \"width\": 0.5}}, \"type\": \"barpolar\"}], \"carpet\": [{\"aaxis\": {\"endlinecolor\": \"#2a3f5f\", \"gridcolor\": \"white\", \"linecolor\": \"white\", \"minorgridcolor\": \"white\", \"startlinecolor\": \"#2a3f5f\"}, \"baxis\": {\"endlinecolor\": \"#2a3f5f\", \"gridcolor\": \"white\", \"linecolor\": \"white\", \"minorgridcolor\": \"white\", \"startlinecolor\": \"#2a3f5f\"}, \"type\": \"carpet\"}], \"choropleth\": [{\"colorbar\": {\"outlinewidth\": 0, \"ticks\": \"\"}, \"type\": \"choropleth\"}], \"contour\": [{\"colorbar\": {\"outlinewidth\": 0, \"ticks\": \"\"}, \"colorscale\": [[0.0, \"#0d0887\"], [0.1111111111111111, \"#46039f\"], [0.2222222222222222, \"#7201a8\"], [0.3333333333333333, \"#9c179e\"], [0.4444444444444444, \"#bd3786\"], [0.5555555555555556, \"#d8576b\"], [0.6666666666666666, \"#ed7953\"], [0.7777777777777778, \"#fb9f3a\"], [0.8888888888888888, \"#fdca26\"], [1.0, \"#f0f921\"]], \"type\": \"contour\"}], \"contourcarpet\": [{\"colorbar\": {\"outlinewidth\": 0, \"ticks\": \"\"}, \"type\": \"contourcarpet\"}], \"heatmap\": [{\"colorbar\": {\"outlinewidth\": 0, \"ticks\": \"\"}, \"colorscale\": [[0.0, \"#0d0887\"], [0.1111111111111111, \"#46039f\"], [0.2222222222222222, \"#7201a8\"], [0.3333333333333333, \"#9c179e\"], [0.4444444444444444, \"#bd3786\"], [0.5555555555555556, \"#d8576b\"], [0.6666666666666666, \"#ed7953\"], [0.7777777777777778, \"#fb9f3a\"], [0.8888888888888888, \"#fdca26\"], [1.0, \"#f0f921\"]], \"type\": \"heatmap\"}], \"heatmapgl\": [{\"colorbar\": {\"outlinewidth\": 0, \"ticks\": \"\"}, \"colorscale\": [[0.0, \"#0d0887\"], [0.1111111111111111, \"#46039f\"], [0.2222222222222222, \"#7201a8\"], [0.3333333333333333, \"#9c179e\"], [0.4444444444444444, \"#bd3786\"], [0.5555555555555556, \"#d8576b\"], [0.6666666666666666, \"#ed7953\"], [0.7777777777777778, \"#fb9f3a\"], [0.8888888888888888, \"#fdca26\"], [1.0, \"#f0f921\"]], \"type\": \"heatmapgl\"}], \"histogram\": [{\"marker\": {\"colorbar\": {\"outlinewidth\": 0, \"ticks\": \"\"}}, \"type\": \"histogram\"}], \"histogram2d\": [{\"colorbar\": {\"outlinewidth\": 0, \"ticks\": \"\"}, \"colorscale\": [[0.0, \"#0d0887\"], [0.1111111111111111, \"#46039f\"], [0.2222222222222222, \"#7201a8\"], [0.3333333333333333, \"#9c179e\"], [0.4444444444444444, \"#bd3786\"], [0.5555555555555556, \"#d8576b\"], [0.6666666666666666, \"#ed7953\"], [0.7777777777777778, \"#fb9f3a\"], [0.8888888888888888, \"#fdca26\"], [1.0, \"#f0f921\"]], \"type\": \"histogram2d\"}], \"histogram2dcontour\": [{\"colorbar\": {\"outlinewidth\": 0, \"ticks\": \"\"}, \"colorscale\": [[0.0, \"#0d0887\"], [0.1111111111111111, \"#46039f\"], [0.2222222222222222, \"#7201a8\"], [0.3333333333333333, \"#9c179e\"], [0.4444444444444444, \"#bd3786\"], [0.5555555555555556, \"#d8576b\"], [0.6666666666666666, \"#ed7953\"], [0.7777777777777778, \"#fb9f3a\"], [0.8888888888888888, \"#fdca26\"], [1.0, \"#f0f921\"]], \"type\": \"histogram2dcontour\"}], \"mesh3d\": [{\"colorbar\": {\"outlinewidth\": 0, \"ticks\": \"\"}, \"type\": \"mesh3d\"}], \"parcoords\": [{\"line\": {\"colorbar\": {\"outlinewidth\": 0, \"ticks\": \"\"}}, \"type\": \"parcoords\"}], \"pie\": [{\"automargin\": true, \"type\": \"pie\"}], \"scatter\": [{\"marker\": {\"colorbar\": {\"outlinewidth\": 0, \"ticks\": \"\"}}, \"type\": \"scatter\"}], \"scatter3d\": [{\"line\": {\"colorbar\": {\"outlinewidth\": 0, \"ticks\": \"\"}}, \"marker\": {\"colorbar\": {\"outlinewidth\": 0, \"ticks\": \"\"}}, \"type\": \"scatter3d\"}], \"scattercarpet\": [{\"marker\": {\"colorbar\": {\"outlinewidth\": 0, \"ticks\": \"\"}}, \"type\": \"scattercarpet\"}], \"scattergeo\": [{\"marker\": {\"colorbar\": {\"outlinewidth\": 0, \"ticks\": \"\"}}, \"type\": \"scattergeo\"}], \"scattergl\": [{\"marker\": {\"colorbar\": {\"outlinewidth\": 0, \"ticks\": \"\"}}, \"type\": \"scattergl\"}], \"scattermapbox\": [{\"marker\": {\"colorbar\": {\"outlinewidth\": 0, \"ticks\": \"\"}}, \"type\": \"scattermapbox\"}], \"scatterpolar\": [{\"marker\": {\"colorbar\": {\"outlinewidth\": 0, \"ticks\": \"\"}}, \"type\": \"scatterpolar\"}], \"scatterpolargl\": [{\"marker\": {\"colorbar\": {\"outlinewidth\": 0, \"ticks\": \"\"}}, \"type\": \"scatterpolargl\"}], \"scatterternary\": [{\"marker\": {\"colorbar\": {\"outlinewidth\": 0, \"ticks\": \"\"}}, \"type\": \"scatterternary\"}], \"surface\": [{\"colorbar\": {\"outlinewidth\": 0, \"ticks\": \"\"}, \"colorscale\": [[0.0, \"#0d0887\"], [0.1111111111111111, \"#46039f\"], [0.2222222222222222, \"#7201a8\"], [0.3333333333333333, \"#9c179e\"], [0.4444444444444444, \"#bd3786\"], [0.5555555555555556, \"#d8576b\"], [0.6666666666666666, \"#ed7953\"], [0.7777777777777778, \"#fb9f3a\"], [0.8888888888888888, \"#fdca26\"], [1.0, \"#f0f921\"]], \"type\": \"surface\"}], \"table\": [{\"cells\": {\"fill\": {\"color\": \"#EBF0F8\"}, \"line\": {\"color\": \"white\"}}, \"header\": {\"fill\": {\"color\": \"#C8D4E3\"}, \"line\": {\"color\": \"white\"}}, \"type\": \"table\"}]}, \"layout\": {\"annotationdefaults\": {\"arrowcolor\": \"#2a3f5f\", \"arrowhead\": 0, \"arrowwidth\": 1}, \"coloraxis\": {\"colorbar\": {\"outlinewidth\": 0, \"ticks\": \"\"}}, \"colorscale\": {\"diverging\": [[0, \"#8e0152\"], [0.1, \"#c51b7d\"], [0.2, \"#de77ae\"], [0.3, \"#f1b6da\"], [0.4, \"#fde0ef\"], [0.5, \"#f7f7f7\"], [0.6, \"#e6f5d0\"], [0.7, \"#b8e186\"], [0.8, \"#7fbc41\"], [0.9, \"#4d9221\"], [1, \"#276419\"]], \"sequential\": [[0.0, \"#0d0887\"], [0.1111111111111111, \"#46039f\"], [0.2222222222222222, \"#7201a8\"], [0.3333333333333333, \"#9c179e\"], [0.4444444444444444, \"#bd3786\"], [0.5555555555555556, \"#d8576b\"], [0.6666666666666666, \"#ed7953\"], [0.7777777777777778, \"#fb9f3a\"], [0.8888888888888888, \"#fdca26\"], [1.0, \"#f0f921\"]], \"sequentialminus\": [[0.0, \"#0d0887\"], [0.1111111111111111, \"#46039f\"], [0.2222222222222222, \"#7201a8\"], [0.3333333333333333, \"#9c179e\"], [0.4444444444444444, \"#bd3786\"], [0.5555555555555556, \"#d8576b\"], [0.6666666666666666, \"#ed7953\"], [0.7777777777777778, \"#fb9f3a\"], [0.8888888888888888, \"#fdca26\"], [1.0, \"#f0f921\"]]}, \"colorway\": [\"#636efa\", \"#EF553B\", \"#00cc96\", \"#ab63fa\", \"#FFA15A\", \"#19d3f3\", \"#FF6692\", \"#B6E880\", \"#FF97FF\", \"#FECB52\"], \"font\": {\"color\": \"#2a3f5f\"}, \"geo\": {\"bgcolor\": \"white\", \"lakecolor\": \"white\", \"landcolor\": \"#E5ECF6\", \"showlakes\": true, \"showland\": true, \"subunitcolor\": \"white\"}, \"hoverlabel\": {\"align\": \"left\"}, \"hovermode\": \"closest\", \"mapbox\": {\"style\": \"light\"}, \"paper_bgcolor\": \"white\", \"plot_bgcolor\": \"#E5ECF6\", \"polar\": {\"angularaxis\": {\"gridcolor\": \"white\", \"linecolor\": \"white\", \"ticks\": \"\"}, \"bgcolor\": \"#E5ECF6\", \"radialaxis\": {\"gridcolor\": \"white\", \"linecolor\": \"white\", \"ticks\": \"\"}}, \"scene\": {\"xaxis\": {\"backgroundcolor\": \"#E5ECF6\", \"gridcolor\": \"white\", \"gridwidth\": 2, \"linecolor\": \"white\", \"showbackground\": true, \"ticks\": \"\", \"zerolinecolor\": \"white\"}, \"yaxis\": {\"backgroundcolor\": \"#E5ECF6\", \"gridcolor\": \"white\", \"gridwidth\": 2, \"linecolor\": \"white\", \"showbackground\": true, \"ticks\": \"\", \"zerolinecolor\": \"white\"}, \"zaxis\": {\"backgroundcolor\": \"#E5ECF6\", \"gridcolor\": \"white\", \"gridwidth\": 2, \"linecolor\": \"white\", \"showbackground\": true, \"ticks\": \"\", \"zerolinecolor\": \"white\"}}, \"shapedefaults\": {\"line\": {\"color\": \"#2a3f5f\"}}, \"ternary\": {\"aaxis\": {\"gridcolor\": \"white\", \"linecolor\": \"white\", \"ticks\": \"\"}, \"baxis\": {\"gridcolor\": \"white\", \"linecolor\": \"white\", \"ticks\": \"\"}, \"bgcolor\": \"#E5ECF6\", \"caxis\": {\"gridcolor\": \"white\", \"linecolor\": \"white\", \"ticks\": \"\"}}, \"title\": {\"x\": 0.05}, \"xaxis\": {\"automargin\": true, \"gridcolor\": \"white\", \"linecolor\": \"white\", \"ticks\": \"\", \"title\": {\"standoff\": 15}, \"zerolinecolor\": \"white\", \"zerolinewidth\": 2}, \"yaxis\": {\"automargin\": true, \"gridcolor\": \"white\", \"linecolor\": \"white\", \"ticks\": \"\", \"title\": {\"standoff\": 15}, \"zerolinecolor\": \"white\", \"zerolinewidth\": 2}}}, \"title\": {\"text\": \"Content Rating\"}},\n",
              "                        {\"responsive\": true}\n",
              "                    ).then(function(){\n",
              "                            \n",
              "var gd = document.getElementById('a2c7801f-05bb-4c2b-ac05-c709e859294e');\n",
              "var x = new MutationObserver(function (mutations, observer) {{\n",
              "        var display = window.getComputedStyle(gd).display;\n",
              "        if (!display || display === 'none') {{\n",
              "            console.log([gd, 'removed!']);\n",
              "            Plotly.purge(gd);\n",
              "            observer.disconnect();\n",
              "        }}\n",
              "}});\n",
              "\n",
              "// Listen for the removal of the full notebook cells\n",
              "var notebookContainer = gd.closest('#notebook-container');\n",
              "if (notebookContainer) {{\n",
              "    x.observe(notebookContainer, {childList: true});\n",
              "}}\n",
              "\n",
              "// Listen for the clearing of the current output cell\n",
              "var outputEl = gd.closest('.output');\n",
              "if (outputEl) {{\n",
              "    x.observe(outputEl, {childList: true});\n",
              "}}\n",
              "\n",
              "                        })\n",
              "                };\n",
              "                \n",
              "            </script>\n",
              "        </div>\n",
              "</body>\n",
              "</html>"
            ]
          },
          "metadata": {
            "tags": []
          }
        }
      ]
    },
    {
      "cell_type": "code",
      "metadata": {
        "id": "6ZaHYNy2oFEE",
        "colab": {
          "base_uri": "https://localhost:8080/",
          "height": 542
        },
        "outputId": "4e51e481-e54f-498e-cabd-e8436c6cbfaf"
      },
      "source": [
        "# Add 'hole' to create a donut 🍩 chart:\n",
        "fig = px.pie(labels=ratings.index,\n",
        "             values=ratings.values,\n",
        "             title=\"Content Rating\",\n",
        "             names=ratings.index,\n",
        "             hole=0.6\n",
        "             )\n",
        "\n",
        "fig.update_traces(textposition='inside', \n",
        "                  textfont_size=15, \n",
        "                  textinfo='percent')\n",
        " \n",
        "fig.show()"
      ],
      "execution_count": 171,
      "outputs": [
        {
          "output_type": "display_data",
          "data": {
            "text/html": [
              "<html>\n",
              "<head><meta charset=\"utf-8\" /></head>\n",
              "<body>\n",
              "    <div>\n",
              "            <script src=\"https://cdnjs.cloudflare.com/ajax/libs/mathjax/2.7.5/MathJax.js?config=TeX-AMS-MML_SVG\"></script><script type=\"text/javascript\">if (window.MathJax) {MathJax.Hub.Config({SVG: {font: \"STIX-Web\"}});}</script>\n",
              "                <script type=\"text/javascript\">window.PlotlyConfig = {MathJaxConfig: 'local'};</script>\n",
              "        <script src=\"https://cdn.plot.ly/plotly-latest.min.js\"></script>    \n",
              "            <div id=\"44a4d1c7-a7b0-4d81-9b75-cfbbc9750216\" class=\"plotly-graph-div\" style=\"height:525px; width:100%;\"></div>\n",
              "            <script type=\"text/javascript\">\n",
              "                \n",
              "                    window.PLOTLYENV=window.PLOTLYENV || {};\n",
              "                    \n",
              "                if (document.getElementById(\"44a4d1c7-a7b0-4d81-9b75-cfbbc9750216\")) {\n",
              "                    Plotly.newPlot(\n",
              "                        '44a4d1c7-a7b0-4d81-9b75-cfbbc9750216',\n",
              "                        [{\"domain\": {\"x\": [0.0, 1.0], \"y\": [0.0, 1.0]}, \"hole\": 0.6, \"hoverlabel\": {\"namelength\": 0}, \"hovertemplate\": \"label=%{label}<br>value=%{value}\", \"labels\": [\"Everyone\", \"Teen\", \"Mature 17+\", \"Everyone 10+\", \"Adults only 18+\", \"Unrated\"], \"legendgroup\": \"\", \"name\": \"\", \"showlegend\": true, \"textfont\": {\"size\": 15}, \"textinfo\": \"percent\", \"textposition\": \"inside\", \"type\": \"pie\", \"values\": [6621, 912, 357, 305, 3, 1]}],\n",
              "                        {\"legend\": {\"tracegroupgap\": 0}, \"template\": {\"data\": {\"bar\": [{\"error_x\": {\"color\": \"#2a3f5f\"}, \"error_y\": {\"color\": \"#2a3f5f\"}, \"marker\": {\"line\": {\"color\": \"#E5ECF6\", \"width\": 0.5}}, \"type\": \"bar\"}], \"barpolar\": [{\"marker\": {\"line\": {\"color\": \"#E5ECF6\", \"width\": 0.5}}, \"type\": \"barpolar\"}], \"carpet\": [{\"aaxis\": {\"endlinecolor\": \"#2a3f5f\", \"gridcolor\": \"white\", \"linecolor\": \"white\", \"minorgridcolor\": \"white\", \"startlinecolor\": \"#2a3f5f\"}, \"baxis\": {\"endlinecolor\": \"#2a3f5f\", \"gridcolor\": \"white\", \"linecolor\": \"white\", \"minorgridcolor\": \"white\", \"startlinecolor\": \"#2a3f5f\"}, \"type\": \"carpet\"}], \"choropleth\": [{\"colorbar\": {\"outlinewidth\": 0, \"ticks\": \"\"}, \"type\": \"choropleth\"}], \"contour\": [{\"colorbar\": {\"outlinewidth\": 0, \"ticks\": \"\"}, \"colorscale\": [[0.0, \"#0d0887\"], [0.1111111111111111, \"#46039f\"], [0.2222222222222222, \"#7201a8\"], [0.3333333333333333, \"#9c179e\"], [0.4444444444444444, \"#bd3786\"], [0.5555555555555556, \"#d8576b\"], [0.6666666666666666, \"#ed7953\"], [0.7777777777777778, \"#fb9f3a\"], [0.8888888888888888, \"#fdca26\"], [1.0, \"#f0f921\"]], \"type\": \"contour\"}], \"contourcarpet\": [{\"colorbar\": {\"outlinewidth\": 0, \"ticks\": \"\"}, \"type\": \"contourcarpet\"}], \"heatmap\": [{\"colorbar\": {\"outlinewidth\": 0, \"ticks\": \"\"}, \"colorscale\": [[0.0, \"#0d0887\"], [0.1111111111111111, \"#46039f\"], [0.2222222222222222, \"#7201a8\"], [0.3333333333333333, \"#9c179e\"], [0.4444444444444444, \"#bd3786\"], [0.5555555555555556, \"#d8576b\"], [0.6666666666666666, \"#ed7953\"], [0.7777777777777778, \"#fb9f3a\"], [0.8888888888888888, \"#fdca26\"], [1.0, \"#f0f921\"]], \"type\": \"heatmap\"}], \"heatmapgl\": [{\"colorbar\": {\"outlinewidth\": 0, \"ticks\": \"\"}, \"colorscale\": [[0.0, \"#0d0887\"], [0.1111111111111111, \"#46039f\"], [0.2222222222222222, \"#7201a8\"], [0.3333333333333333, \"#9c179e\"], [0.4444444444444444, \"#bd3786\"], [0.5555555555555556, \"#d8576b\"], [0.6666666666666666, \"#ed7953\"], [0.7777777777777778, \"#fb9f3a\"], [0.8888888888888888, \"#fdca26\"], [1.0, \"#f0f921\"]], \"type\": \"heatmapgl\"}], \"histogram\": [{\"marker\": {\"colorbar\": {\"outlinewidth\": 0, \"ticks\": \"\"}}, \"type\": \"histogram\"}], \"histogram2d\": [{\"colorbar\": {\"outlinewidth\": 0, \"ticks\": \"\"}, \"colorscale\": [[0.0, \"#0d0887\"], [0.1111111111111111, \"#46039f\"], [0.2222222222222222, \"#7201a8\"], [0.3333333333333333, \"#9c179e\"], [0.4444444444444444, \"#bd3786\"], [0.5555555555555556, \"#d8576b\"], [0.6666666666666666, \"#ed7953\"], [0.7777777777777778, \"#fb9f3a\"], [0.8888888888888888, \"#fdca26\"], [1.0, \"#f0f921\"]], \"type\": \"histogram2d\"}], \"histogram2dcontour\": [{\"colorbar\": {\"outlinewidth\": 0, \"ticks\": \"\"}, \"colorscale\": [[0.0, \"#0d0887\"], [0.1111111111111111, \"#46039f\"], [0.2222222222222222, \"#7201a8\"], [0.3333333333333333, \"#9c179e\"], [0.4444444444444444, \"#bd3786\"], [0.5555555555555556, \"#d8576b\"], [0.6666666666666666, \"#ed7953\"], [0.7777777777777778, \"#fb9f3a\"], [0.8888888888888888, \"#fdca26\"], [1.0, \"#f0f921\"]], \"type\": \"histogram2dcontour\"}], \"mesh3d\": [{\"colorbar\": {\"outlinewidth\": 0, \"ticks\": \"\"}, \"type\": \"mesh3d\"}], \"parcoords\": [{\"line\": {\"colorbar\": {\"outlinewidth\": 0, \"ticks\": \"\"}}, \"type\": \"parcoords\"}], \"pie\": [{\"automargin\": true, \"type\": \"pie\"}], \"scatter\": [{\"marker\": {\"colorbar\": {\"outlinewidth\": 0, \"ticks\": \"\"}}, \"type\": \"scatter\"}], \"scatter3d\": [{\"line\": {\"colorbar\": {\"outlinewidth\": 0, \"ticks\": \"\"}}, \"marker\": {\"colorbar\": {\"outlinewidth\": 0, \"ticks\": \"\"}}, \"type\": \"scatter3d\"}], \"scattercarpet\": [{\"marker\": {\"colorbar\": {\"outlinewidth\": 0, \"ticks\": \"\"}}, \"type\": \"scattercarpet\"}], \"scattergeo\": [{\"marker\": {\"colorbar\": {\"outlinewidth\": 0, \"ticks\": \"\"}}, \"type\": \"scattergeo\"}], \"scattergl\": [{\"marker\": {\"colorbar\": {\"outlinewidth\": 0, \"ticks\": \"\"}}, \"type\": \"scattergl\"}], \"scattermapbox\": [{\"marker\": {\"colorbar\": {\"outlinewidth\": 0, \"ticks\": \"\"}}, \"type\": \"scattermapbox\"}], \"scatterpolar\": [{\"marker\": {\"colorbar\": {\"outlinewidth\": 0, \"ticks\": \"\"}}, \"type\": \"scatterpolar\"}], \"scatterpolargl\": [{\"marker\": {\"colorbar\": {\"outlinewidth\": 0, \"ticks\": \"\"}}, \"type\": \"scatterpolargl\"}], \"scatterternary\": [{\"marker\": {\"colorbar\": {\"outlinewidth\": 0, \"ticks\": \"\"}}, \"type\": \"scatterternary\"}], \"surface\": [{\"colorbar\": {\"outlinewidth\": 0, \"ticks\": \"\"}, \"colorscale\": [[0.0, \"#0d0887\"], [0.1111111111111111, \"#46039f\"], [0.2222222222222222, \"#7201a8\"], [0.3333333333333333, \"#9c179e\"], [0.4444444444444444, \"#bd3786\"], [0.5555555555555556, \"#d8576b\"], [0.6666666666666666, \"#ed7953\"], [0.7777777777777778, \"#fb9f3a\"], [0.8888888888888888, \"#fdca26\"], [1.0, \"#f0f921\"]], \"type\": \"surface\"}], \"table\": [{\"cells\": {\"fill\": {\"color\": \"#EBF0F8\"}, \"line\": {\"color\": \"white\"}}, \"header\": {\"fill\": {\"color\": \"#C8D4E3\"}, \"line\": {\"color\": \"white\"}}, \"type\": \"table\"}]}, \"layout\": {\"annotationdefaults\": {\"arrowcolor\": \"#2a3f5f\", \"arrowhead\": 0, \"arrowwidth\": 1}, \"coloraxis\": {\"colorbar\": {\"outlinewidth\": 0, \"ticks\": \"\"}}, \"colorscale\": {\"diverging\": [[0, \"#8e0152\"], [0.1, \"#c51b7d\"], [0.2, \"#de77ae\"], [0.3, \"#f1b6da\"], [0.4, \"#fde0ef\"], [0.5, \"#f7f7f7\"], [0.6, \"#e6f5d0\"], [0.7, \"#b8e186\"], [0.8, \"#7fbc41\"], [0.9, \"#4d9221\"], [1, \"#276419\"]], \"sequential\": [[0.0, \"#0d0887\"], [0.1111111111111111, \"#46039f\"], [0.2222222222222222, \"#7201a8\"], [0.3333333333333333, \"#9c179e\"], [0.4444444444444444, \"#bd3786\"], [0.5555555555555556, \"#d8576b\"], [0.6666666666666666, \"#ed7953\"], [0.7777777777777778, \"#fb9f3a\"], [0.8888888888888888, \"#fdca26\"], [1.0, \"#f0f921\"]], \"sequentialminus\": [[0.0, \"#0d0887\"], [0.1111111111111111, \"#46039f\"], [0.2222222222222222, \"#7201a8\"], [0.3333333333333333, \"#9c179e\"], [0.4444444444444444, \"#bd3786\"], [0.5555555555555556, \"#d8576b\"], [0.6666666666666666, \"#ed7953\"], [0.7777777777777778, \"#fb9f3a\"], [0.8888888888888888, \"#fdca26\"], [1.0, \"#f0f921\"]]}, \"colorway\": [\"#636efa\", \"#EF553B\", \"#00cc96\", \"#ab63fa\", \"#FFA15A\", \"#19d3f3\", \"#FF6692\", \"#B6E880\", \"#FF97FF\", \"#FECB52\"], \"font\": {\"color\": \"#2a3f5f\"}, \"geo\": {\"bgcolor\": \"white\", \"lakecolor\": \"white\", \"landcolor\": \"#E5ECF6\", \"showlakes\": true, \"showland\": true, \"subunitcolor\": \"white\"}, \"hoverlabel\": {\"align\": \"left\"}, \"hovermode\": \"closest\", \"mapbox\": {\"style\": \"light\"}, \"paper_bgcolor\": \"white\", \"plot_bgcolor\": \"#E5ECF6\", \"polar\": {\"angularaxis\": {\"gridcolor\": \"white\", \"linecolor\": \"white\", \"ticks\": \"\"}, \"bgcolor\": \"#E5ECF6\", \"radialaxis\": {\"gridcolor\": \"white\", \"linecolor\": \"white\", \"ticks\": \"\"}}, \"scene\": {\"xaxis\": {\"backgroundcolor\": \"#E5ECF6\", \"gridcolor\": \"white\", \"gridwidth\": 2, \"linecolor\": \"white\", \"showbackground\": true, \"ticks\": \"\", \"zerolinecolor\": \"white\"}, \"yaxis\": {\"backgroundcolor\": \"#E5ECF6\", \"gridcolor\": \"white\", \"gridwidth\": 2, \"linecolor\": \"white\", \"showbackground\": true, \"ticks\": \"\", \"zerolinecolor\": \"white\"}, \"zaxis\": {\"backgroundcolor\": \"#E5ECF6\", \"gridcolor\": \"white\", \"gridwidth\": 2, \"linecolor\": \"white\", \"showbackground\": true, \"ticks\": \"\", \"zerolinecolor\": \"white\"}}, \"shapedefaults\": {\"line\": {\"color\": \"#2a3f5f\"}}, \"ternary\": {\"aaxis\": {\"gridcolor\": \"white\", \"linecolor\": \"white\", \"ticks\": \"\"}, \"baxis\": {\"gridcolor\": \"white\", \"linecolor\": \"white\", \"ticks\": \"\"}, \"bgcolor\": \"#E5ECF6\", \"caxis\": {\"gridcolor\": \"white\", \"linecolor\": \"white\", \"ticks\": \"\"}}, \"title\": {\"x\": 0.05}, \"xaxis\": {\"automargin\": true, \"gridcolor\": \"white\", \"linecolor\": \"white\", \"ticks\": \"\", \"title\": {\"standoff\": 15}, \"zerolinecolor\": \"white\", \"zerolinewidth\": 2}, \"yaxis\": {\"automargin\": true, \"gridcolor\": \"white\", \"linecolor\": \"white\", \"ticks\": \"\", \"title\": {\"standoff\": 15}, \"zerolinecolor\": \"white\", \"zerolinewidth\": 2}}}, \"title\": {\"text\": \"Content Rating\"}},\n",
              "                        {\"responsive\": true}\n",
              "                    ).then(function(){\n",
              "                            \n",
              "var gd = document.getElementById('44a4d1c7-a7b0-4d81-9b75-cfbbc9750216');\n",
              "var x = new MutationObserver(function (mutations, observer) {{\n",
              "        var display = window.getComputedStyle(gd).display;\n",
              "        if (!display || display === 'none') {{\n",
              "            console.log([gd, 'removed!']);\n",
              "            Plotly.purge(gd);\n",
              "            observer.disconnect();\n",
              "        }}\n",
              "}});\n",
              "\n",
              "// Listen for the removal of the full notebook cells\n",
              "var notebookContainer = gd.closest('#notebook-container');\n",
              "if (notebookContainer) {{\n",
              "    x.observe(notebookContainer, {childList: true});\n",
              "}}\n",
              "\n",
              "// Listen for the clearing of the current output cell\n",
              "var outputEl = gd.closest('.output');\n",
              "if (outputEl) {{\n",
              "    x.observe(outputEl, {childList: true});\n",
              "}}\n",
              "\n",
              "                        })\n",
              "                };\n",
              "                \n",
              "            </script>\n",
              "        </div>\n",
              "</body>\n",
              "</html>"
            ]
          },
          "metadata": {
            "tags": []
          }
        }
      ]
    },
    {
      "cell_type": "code",
      "metadata": {
        "colab": {
          "base_uri": "https://localhost:8080/",
          "height": 542
        },
        "id": "OQzutfnMZajm",
        "outputId": "f707273f-ff0d-4068-b2d4-406ccc5aa0ec"
      },
      "source": [
        "fig = px.pie(df_apps_clean, names='Content_Rating')\n",
        "fig.show()"
      ],
      "execution_count": 172,
      "outputs": [
        {
          "output_type": "display_data",
          "data": {
            "text/html": [
              "<html>\n",
              "<head><meta charset=\"utf-8\" /></head>\n",
              "<body>\n",
              "    <div>\n",
              "            <script src=\"https://cdnjs.cloudflare.com/ajax/libs/mathjax/2.7.5/MathJax.js?config=TeX-AMS-MML_SVG\"></script><script type=\"text/javascript\">if (window.MathJax) {MathJax.Hub.Config({SVG: {font: \"STIX-Web\"}});}</script>\n",
              "                <script type=\"text/javascript\">window.PlotlyConfig = {MathJaxConfig: 'local'};</script>\n",
              "        <script src=\"https://cdn.plot.ly/plotly-latest.min.js\"></script>    \n",
              "            <div id=\"5a572cef-f1ee-4ca0-85ab-e8c25ef5fcb1\" class=\"plotly-graph-div\" style=\"height:525px; width:100%;\"></div>\n",
              "            <script type=\"text/javascript\">\n",
              "                \n",
              "                    window.PLOTLYENV=window.PLOTLYENV || {};\n",
              "                    \n",
              "                if (document.getElementById(\"5a572cef-f1ee-4ca0-85ab-e8c25ef5fcb1\")) {\n",
              "                    Plotly.newPlot(\n",
              "                        '5a572cef-f1ee-4ca0-85ab-e8c25ef5fcb1',\n",
              "                        [{\"domain\": {\"x\": [0.0, 1.0], \"y\": [0.0, 1.0]}, \"hoverlabel\": {\"namelength\": 0}, \"hovertemplate\": \"Content_Rating=%{label}\", \"labels\": [\"Everyone\", \"Everyone\", \"Everyone\", \"Everyone\", \"Everyone\", \"Everyone\", \"Everyone\", \"Everyone\", \"Everyone\", \"Everyone\", \"Everyone\", \"Everyone\", \"Everyone\", \"Everyone\", \"Everyone\", \"Teen\", \"Everyone\", \"Everyone\", \"Everyone\", \"Everyone\", \"Everyone\", \"Mature 17+\", \"Everyone\", \"Everyone 10+\", \"Everyone\", \"Teen\", \"Teen\", \"Everyone\", \"Everyone\", \"Everyone\", \"Mature 17+\", \"Everyone\", \"Everyone\", \"Everyone\", \"Everyone\", \"Everyone\", \"Everyone\", \"Everyone\", \"Everyone\", \"Everyone\", \"Everyone\", \"Everyone\", \"Everyone\", \"Everyone\", \"Everyone\", \"Everyone\", \"Everyone\", \"Everyone\", \"Everyone\", \"Everyone\", \"Everyone\", \"Teen\", \"Teen\", \"Everyone\", \"Everyone\", \"Everyone\", \"Everyone\", \"Everyone\", \"Everyone\", \"Everyone\", \"Everyone\", \"Everyone\", \"Everyone\", \"Everyone\", \"Everyone\", \"Everyone\", \"Everyone\", \"Everyone\", \"Everyone\", \"Everyone\", \"Everyone\", \"Mature 17+\", \"Everyone\", \"Teen\", \"Everyone\", \"Everyone\", \"Everyone\", \"Everyone\", \"Everyone\", \"Everyone\", \"Everyone\", \"Everyone\", \"Everyone\", \"Everyone\", \"Everyone\", \"Everyone\", \"Teen\", \"Everyone\", \"Everyone\", \"Everyone\", \"Everyone\", \"Everyone\", \"Everyone\", \"Everyone\", \"Everyone\", \"Everyone\", \"Everyone\", \"Everyone\", \"Everyone\", \"Everyone\", \"Everyone\", \"Everyone\", \"Everyone\", \"Everyone\", \"Everyone\", \"Teen\", \"Teen\", \"Everyone\", \"Everyone\", \"Everyone\", \"Everyone\", \"Everyone\", \"Everyone\", \"Everyone\", \"Everyone\", \"Everyone\", \"Everyone\", \"Everyone\", \"Everyone\", \"Everyone\", \"Everyone\", \"Everyone\", \"Everyone\", \"Everyone\", \"Everyone\", \"Everyone\", \"Everyone\", \"Everyone\", \"Everyone\", \"Everyone\", \"Everyone\", \"Everyone\", \"Everyone\", \"Everyone\", \"Everyone\", \"Everyone\", \"Everyone\", \"Teen\", \"Everyone\", \"Everyone\", \"Everyone\", \"Everyone\", \"Everyone\", \"Everyone\", \"Teen\", \"Everyone\", \"Everyone\", \"Everyone\", \"Everyone\", \"Mature 17+\", \"Everyone\", \"Everyone\", \"Everyone\", \"Teen\", \"Everyone\", \"Everyone\", \"Everyone\", \"Everyone\", \"Everyone\", \"Everyone\", \"Everyone\", \"Everyone\", \"Everyone\", \"Everyone\", \"Everyone\", \"Everyone\", \"Everyone\", \"Everyone\", \"Teen\", \"Everyone\", \"Everyone\", \"Everyone\", \"Everyone 10+\", \"Everyone\", \"Everyone\", \"Everyone\", \"Everyone\", \"Everyone\", \"Everyone\", \"Everyone\", \"Everyone\", \"Everyone\", \"Everyone\", \"Everyone\", \"Mature 17+\", \"Everyone\", \"Everyone\", \"Everyone\", \"Mature 17+\", \"Everyone\", \"Everyone\", \"Everyone\", \"Everyone\", \"Everyone\", \"Everyone\", \"Mature 17+\", \"Everyone\", \"Everyone\", \"Everyone\", \"Everyone\", \"Mature 17+\", \"Everyone\", \"Everyone\", \"Everyone\", \"Teen\", \"Everyone\", \"Everyone\", \"Everyone\", \"Everyone\", \"Everyone\", \"Everyone\", \"Mature 17+\", \"Everyone\", \"Everyone\", \"Everyone\", \"Everyone\", \"Everyone\", \"Everyone\", \"Everyone\", \"Everyone\", \"Everyone\", \"Everyone\", \"Everyone\", \"Everyone\", \"Everyone\", \"Everyone\", \"Everyone 10+\", \"Everyone\", \"Everyone\", \"Everyone\", \"Everyone\", \"Everyone\", \"Everyone\", \"Everyone\", \"Teen\", \"Everyone\", \"Everyone\", \"Everyone\", \"Teen\", \"Everyone\", \"Teen\", \"Everyone\", \"Everyone\", \"Everyone\", \"Everyone\", \"Everyone\", \"Everyone\", \"Everyone\", \"Everyone\", \"Everyone\", \"Teen\", \"Teen\", \"Everyone\", \"Everyone\", \"Teen\", \"Everyone\", \"Everyone\", \"Everyone\", \"Everyone\", \"Everyone\", \"Everyone\", \"Everyone\", \"Teen\", \"Everyone\", \"Everyone\", \"Teen\", \"Everyone\", \"Everyone\", \"Everyone\", \"Everyone\", \"Everyone\", \"Teen\", \"Everyone\", \"Everyone\", \"Everyone\", \"Mature 17+\", \"Everyone\", \"Everyone\", \"Everyone\", \"Mature 17+\", \"Teen\", \"Everyone\", \"Everyone\", \"Everyone\", \"Everyone\", \"Everyone\", \"Teen\", \"Everyone\", \"Everyone\", \"Everyone\", \"Mature 17+\", \"Everyone\", \"Everyone\", \"Everyone\", \"Everyone\", \"Everyone\", \"Everyone\", \"Teen\", \"Everyone\", \"Everyone\", \"Teen\", \"Everyone\", \"Everyone\", \"Mature 17+\", \"Everyone\", \"Everyone\", \"Mature 17+\", \"Everyone\", \"Everyone\", \"Everyone\", \"Teen\", \"Everyone\", \"Everyone\", \"Everyone\", \"Everyone\", \"Everyone\", \"Everyone\", \"Everyone\", \"Everyone\", \"Everyone\", \"Everyone\", \"Everyone\", \"Everyone\", \"Everyone\", \"Everyone\", \"Everyone\", \"Everyone\", \"Teen\", \"Everyone\", \"Everyone\", \"Mature 17+\", \"Everyone\", \"Mature 17+\", \"Mature 17+\", \"Everyone\", \"Everyone\", \"Everyone\", \"Everyone\", \"Everyone\", \"Everyone\", \"Everyone\", \"Everyone\", \"Everyone\", \"Everyone\", \"Everyone\", \"Everyone\", \"Everyone\", \"Everyone\", \"Everyone\", \"Everyone\", \"Everyone\", \"Teen\", \"Everyone\", \"Everyone\", \"Teen\", \"Everyone\", \"Everyone\", \"Everyone\", \"Everyone\", \"Everyone\", \"Everyone\", \"Everyone\", \"Everyone\", \"Teen\", \"Everyone\", \"Teen\", \"Everyone\", \"Everyone\", \"Everyone\", \"Everyone\", \"Everyone\", \"Everyone\", \"Everyone\", \"Everyone\", \"Everyone\", \"Everyone\", \"Everyone\", \"Teen\", \"Everyone\", \"Everyone\", \"Everyone\", \"Everyone\", \"Everyone\", \"Everyone\", \"Everyone\", \"Everyone\", \"Everyone\", \"Teen\", \"Everyone\", \"Everyone\", \"Teen\", \"Everyone\", \"Everyone\", \"Everyone\", \"Everyone\", \"Everyone\", \"Everyone\", \"Everyone\", \"Everyone\", \"Everyone\", \"Everyone\", \"Everyone\", \"Everyone\", \"Everyone\", \"Everyone\", \"Everyone\", \"Everyone\", \"Everyone\", \"Everyone\", \"Everyone\", \"Everyone\", \"Everyone\", \"Teen\", \"Everyone\", \"Teen\", \"Everyone\", \"Mature 17+\", \"Everyone\", \"Everyone\", \"Everyone\", \"Everyone\", \"Everyone\", \"Everyone\", \"Mature 17+\", \"Everyone\", \"Everyone\", \"Everyone\", \"Everyone\", \"Everyone\", \"Everyone\", \"Everyone\", \"Everyone\", \"Everyone\", \"Everyone\", \"Everyone\", \"Everyone\", \"Everyone\", \"Everyone\", \"Everyone\", \"Everyone\", \"Mature 17+\", \"Everyone\", \"Everyone\", \"Everyone\", \"Everyone\", \"Everyone\", \"Everyone\", \"Everyone\", \"Everyone\", \"Everyone\", \"Everyone\", \"Everyone\", \"Everyone\", \"Everyone\", \"Everyone\", \"Everyone\", \"Everyone\", \"Everyone\", \"Everyone\", \"Everyone\", \"Everyone 10+\", \"Everyone\", \"Everyone\", \"Everyone\", \"Everyone 10+\", \"Everyone\", \"Everyone\", \"Everyone\", \"Mature 17+\", \"Everyone\", \"Everyone\", \"Everyone\", \"Everyone\", \"Everyone\", \"Everyone\", \"Everyone\", \"Everyone\", \"Everyone\", \"Everyone\", \"Everyone\", \"Everyone\", \"Everyone\", \"Everyone\", \"Everyone\", \"Everyone\", \"Everyone\", \"Everyone\", \"Everyone\", \"Everyone\", \"Teen\", \"Everyone\", \"Everyone\", \"Everyone\", \"Everyone\", \"Everyone\", \"Mature 17+\", \"Everyone\", \"Mature 17+\", \"Everyone\", \"Everyone\", \"Everyone\", \"Everyone\", \"Everyone\", \"Everyone\", \"Everyone\", \"Everyone\", \"Everyone\", \"Everyone\", \"Everyone\", \"Everyone\", \"Everyone\", \"Everyone\", \"Everyone\", \"Everyone\", \"Everyone\", \"Everyone\", \"Everyone\", \"Everyone\", \"Mature 17+\", \"Everyone\", \"Everyone\", \"Everyone\", \"Teen\", \"Everyone\", \"Everyone\", \"Everyone\", \"Everyone\", \"Everyone\", \"Everyone\", \"Everyone\", \"Everyone\", \"Everyone\", \"Everyone\", \"Everyone\", \"Everyone\", \"Everyone\", \"Everyone\", \"Everyone\", \"Everyone\", \"Everyone\", \"Everyone\", \"Everyone\", \"Everyone\", \"Everyone\", \"Everyone\", \"Everyone\", \"Everyone\", \"Everyone\", \"Everyone\", \"Teen\", \"Everyone\", \"Everyone\", \"Everyone\", \"Teen\", \"Everyone\", \"Everyone\", \"Everyone\", \"Everyone\", \"Everyone\", \"Everyone\", \"Everyone\", \"Everyone\", \"Everyone\", \"Teen\", \"Everyone\", \"Everyone\", \"Everyone\", \"Everyone\", \"Everyone\", \"Everyone\", \"Everyone\", \"Everyone\", \"Everyone\", \"Everyone\", \"Teen\", \"Everyone\", \"Everyone\", \"Everyone\", \"Everyone\", \"Everyone\", \"Mature 17+\", \"Everyone\", \"Mature 17+\", \"Everyone\", \"Everyone\", \"Teen\", \"Everyone\", \"Everyone\", \"Everyone\", \"Everyone\", \"Everyone\", \"Everyone\", \"Everyone\", \"Everyone\", \"Everyone\", \"Everyone\", \"Everyone\", \"Everyone\", \"Everyone\", \"Everyone\", \"Everyone\", \"Mature 17+\", \"Everyone\", \"Everyone\", \"Everyone\", \"Everyone\", \"Everyone\", \"Teen\", \"Everyone\", \"Everyone\", \"Everyone\", \"Everyone\", \"Everyone\", \"Everyone\", \"Everyone\", \"Everyone\", \"Teen\", \"Everyone\", \"Everyone\", \"Everyone\", \"Everyone\", \"Everyone\", \"Everyone\", \"Everyone\", \"Everyone\", \"Everyone\", \"Everyone\", \"Everyone\", \"Everyone\", \"Everyone\", \"Everyone\", \"Everyone\", \"Everyone\", \"Everyone\", \"Everyone\", \"Everyone\", \"Everyone\", \"Everyone\", \"Everyone\", \"Mature 17+\", \"Everyone\", \"Everyone\", \"Teen\", \"Everyone\", \"Everyone\", \"Everyone\", \"Everyone\", \"Everyone\", \"Teen\", \"Everyone\", \"Everyone\", \"Mature 17+\", \"Everyone\", \"Everyone\", \"Everyone\", \"Everyone 10+\", \"Everyone\", \"Everyone\", \"Everyone\", \"Teen\", \"Everyone\", \"Everyone\", \"Everyone\", \"Everyone\", \"Everyone\", \"Everyone\", \"Everyone\", \"Everyone\", \"Teen\", \"Teen\", \"Everyone\", \"Everyone\", \"Everyone\", \"Everyone\", \"Everyone\", \"Everyone\", \"Teen\", \"Everyone\", \"Everyone\", \"Everyone\", \"Everyone\", \"Everyone\", \"Teen\", \"Everyone\", \"Everyone\", \"Everyone 10+\", \"Everyone\", \"Everyone\", \"Everyone\", \"Everyone\", \"Everyone\", \"Teen\", \"Everyone\", \"Everyone\", \"Everyone\", \"Everyone\", \"Everyone\", \"Everyone\", \"Everyone\", \"Teen\", \"Everyone\", \"Everyone\", \"Everyone\", \"Everyone\", \"Everyone\", \"Everyone\", \"Everyone\", \"Everyone\", \"Everyone\", \"Everyone\", \"Everyone\", \"Everyone\", \"Everyone\", \"Everyone\", \"Everyone\", \"Everyone\", \"Everyone\", \"Everyone\", \"Everyone\", \"Everyone\", \"Everyone\", \"Teen\", \"Teen\", \"Everyone\", \"Everyone\", \"Teen\", \"Everyone\", \"Everyone\", \"Everyone\", \"Everyone\", \"Everyone\", \"Mature 17+\", \"Everyone\", \"Everyone\", \"Everyone\", \"Everyone 10+\", \"Everyone\", \"Everyone\", \"Teen\", \"Everyone\", \"Everyone\", \"Everyone\", \"Everyone\", \"Everyone\", \"Teen\", \"Everyone\", \"Everyone\", \"Everyone\", \"Everyone\", \"Everyone 10+\", \"Everyone\", \"Everyone\", \"Everyone\", \"Teen\", \"Everyone\", \"Everyone\", \"Everyone\", \"Everyone\", \"Everyone\", \"Everyone\", \"Everyone\", \"Everyone\", \"Everyone\", \"Everyone\", \"Everyone\", \"Everyone\", \"Everyone\", \"Everyone\", \"Everyone\", \"Everyone\", \"Everyone\", \"Everyone\", \"Everyone\", \"Everyone\", \"Everyone\", \"Everyone\", \"Everyone\", \"Everyone 10+\", \"Everyone 10+\", \"Everyone\", \"Everyone\", \"Everyone\", \"Teen\", \"Everyone\", \"Everyone\", \"Everyone\", \"Everyone\", \"Everyone\", \"Everyone\", \"Everyone\", \"Everyone\", \"Everyone\", \"Teen\", \"Everyone\", \"Everyone\", \"Everyone\", \"Everyone\", \"Mature 17+\", \"Everyone\", \"Everyone\", \"Everyone\", \"Everyone\", \"Everyone\", \"Everyone\", \"Everyone\", \"Everyone\", \"Everyone\", \"Everyone\", \"Everyone\", \"Everyone\", \"Everyone\", \"Everyone\", \"Everyone\", \"Everyone\", \"Everyone\", \"Mature 17+\", \"Everyone\", \"Everyone\", \"Everyone\", \"Everyone\", \"Everyone\", \"Everyone\", \"Everyone\", \"Everyone\", \"Everyone\", \"Everyone\", \"Everyone\", \"Everyone\", \"Everyone\", \"Everyone\", \"Everyone\", \"Everyone\", \"Everyone\", \"Teen\", \"Everyone\", \"Everyone\", \"Everyone\", \"Everyone\", \"Mature 17+\", \"Everyone\", \"Everyone\", \"Everyone\", \"Everyone\", \"Everyone\", \"Everyone\", \"Mature 17+\", \"Everyone\", \"Everyone\", \"Everyone\", \"Everyone\", \"Everyone\", \"Everyone\", \"Everyone\", \"Everyone\", \"Everyone\", \"Everyone\", \"Everyone\", \"Everyone\", \"Everyone\", \"Everyone\", \"Everyone\", \"Everyone\", \"Everyone\", \"Teen\", \"Everyone\", \"Everyone\", \"Everyone\", \"Everyone\", \"Everyone\", \"Everyone\", \"Teen\", \"Everyone\", \"Everyone\", \"Everyone\", \"Teen\", \"Everyone\", \"Everyone\", \"Everyone\", \"Everyone\", \"Mature 17+\", \"Everyone\", \"Everyone\", \"Everyone\", \"Everyone\", \"Everyone\", \"Everyone\", \"Everyone\", \"Everyone\", \"Everyone\", \"Everyone\", \"Everyone\", \"Everyone\", \"Teen\", \"Everyone\", \"Everyone\", \"Everyone\", \"Everyone\", \"Everyone\", \"Everyone\", \"Everyone\", \"Everyone\", \"Everyone\", \"Everyone\", \"Everyone\", \"Mature 17+\", \"Everyone\", \"Everyone\", \"Everyone\", \"Everyone\", \"Mature 17+\", \"Everyone\", \"Everyone\", \"Everyone\", \"Everyone\", \"Everyone\", \"Everyone\", \"Everyone\", \"Everyone\", \"Everyone\", \"Everyone\", \"Everyone\", \"Everyone\", \"Everyone\", \"Teen\", \"Everyone\", \"Teen\", \"Everyone\", \"Everyone\", \"Everyone\", \"Everyone\", \"Everyone\", \"Everyone\", \"Everyone\", \"Everyone\", \"Everyone\", \"Everyone\", \"Everyone\", \"Everyone\", \"Mature 17+\", \"Everyone\", \"Teen\", \"Everyone\", \"Everyone\", \"Everyone\", \"Everyone\", \"Everyone\", \"Everyone\", \"Everyone\", \"Everyone\", \"Everyone\", \"Everyone\", \"Everyone\", \"Everyone\", \"Everyone\", \"Everyone\", \"Everyone\", \"Everyone\", \"Everyone\", \"Everyone\", \"Everyone\", \"Everyone\", \"Everyone\", \"Everyone\", \"Everyone\", \"Everyone\", \"Everyone\", \"Everyone\", \"Everyone 10+\", \"Everyone\", \"Mature 17+\", \"Teen\", \"Teen\", \"Teen\", \"Everyone\", \"Everyone\", \"Everyone\", \"Everyone\", \"Everyone\", \"Everyone\", \"Mature 17+\", \"Everyone\", \"Everyone\", \"Everyone\", \"Everyone\", \"Everyone\", \"Everyone\", \"Everyone\", \"Everyone\", \"Everyone\", \"Everyone\", \"Everyone\", \"Everyone\", \"Everyone\", \"Everyone 10+\", \"Everyone\", \"Everyone\", \"Everyone\", \"Everyone\", \"Everyone\", \"Everyone\", \"Everyone\", \"Everyone\", \"Everyone\", \"Everyone\", \"Everyone\", \"Everyone\", \"Teen\", \"Everyone\", \"Everyone\", \"Everyone\", \"Everyone\", \"Everyone\", \"Everyone\", \"Everyone\", \"Everyone\", \"Everyone\", \"Everyone\", \"Everyone\", \"Everyone\", \"Everyone\", \"Everyone 10+\", \"Everyone\", \"Everyone\", \"Everyone\", \"Teen\", \"Everyone\", \"Everyone\", \"Everyone\", \"Everyone\", \"Everyone\", \"Everyone\", \"Everyone\", \"Everyone\", \"Everyone\", \"Everyone\", \"Everyone\", \"Everyone\", \"Everyone\", \"Everyone\", \"Teen\", \"Everyone\", \"Everyone\", \"Everyone\", \"Everyone\", \"Everyone\", \"Everyone\", \"Everyone\", \"Everyone\", \"Everyone\", \"Everyone\", \"Everyone\", \"Everyone\", \"Everyone\", \"Everyone\", \"Everyone\", \"Everyone\", \"Everyone\", \"Everyone\", \"Everyone\", \"Everyone\", \"Everyone\", \"Everyone\", \"Everyone\", \"Everyone\", \"Teen\", \"Everyone\", \"Everyone\", \"Everyone\", \"Everyone\", \"Everyone\", \"Everyone\", \"Everyone\", \"Teen\", \"Everyone\", \"Everyone\", \"Everyone\", \"Everyone\", \"Everyone\", \"Everyone\", \"Everyone\", \"Everyone\", \"Everyone\", \"Everyone\", \"Everyone\", \"Everyone\", \"Everyone\", \"Everyone\", \"Everyone\", \"Everyone\", \"Teen\", \"Everyone\", \"Everyone\", \"Everyone\", \"Everyone\", \"Everyone\", \"Everyone\", \"Everyone\", \"Everyone\", \"Everyone\", \"Everyone\", \"Everyone\", \"Everyone\", \"Everyone\", \"Everyone\", \"Everyone\", \"Everyone\", \"Everyone\", \"Everyone\", \"Everyone\", \"Everyone\", \"Everyone\", \"Mature 17+\", \"Everyone\", \"Everyone\", \"Everyone\", \"Everyone\", \"Everyone\", \"Everyone\", \"Everyone\", \"Everyone\", \"Everyone\", \"Everyone\", \"Everyone\", \"Everyone\", \"Everyone\", \"Everyone\", \"Everyone\", \"Everyone\", \"Everyone\", \"Everyone\", \"Everyone\", \"Everyone\", \"Everyone\", \"Everyone\", \"Everyone\", \"Everyone\", \"Everyone\", \"Everyone\", \"Everyone\", \"Mature 17+\", \"Teen\", \"Everyone\", \"Everyone\", \"Everyone\", \"Teen\", \"Everyone\", \"Everyone\", \"Everyone\", \"Everyone\", \"Everyone\", \"Everyone\", \"Everyone\", \"Everyone\", \"Everyone\", \"Everyone\", \"Everyone\", \"Everyone\", \"Everyone\", \"Everyone\", \"Everyone\", \"Everyone\", \"Teen\", \"Everyone\", \"Everyone\", \"Everyone\", \"Everyone\", \"Everyone\", \"Everyone\", \"Everyone\", \"Everyone\", \"Everyone\", \"Everyone\", \"Everyone\", \"Everyone\", \"Everyone\", \"Everyone\", \"Everyone\", \"Teen\", \"Teen\", \"Everyone\", \"Everyone\", \"Everyone\", \"Everyone\", \"Everyone\", \"Everyone\", \"Everyone\", \"Everyone\", \"Everyone 10+\", \"Everyone\", \"Everyone\", \"Everyone\", \"Everyone\", \"Everyone\", \"Everyone\", \"Everyone\", \"Everyone\", \"Everyone\", \"Everyone\", \"Everyone\", \"Teen\", \"Everyone\", \"Everyone\", \"Everyone\", \"Everyone\", \"Everyone\", \"Everyone\", \"Everyone\", \"Everyone\", \"Everyone\", \"Everyone\", \"Everyone\", \"Everyone\", \"Everyone\", \"Everyone\", \"Everyone\", \"Everyone\", \"Everyone\", \"Everyone\", \"Everyone\", \"Everyone\", \"Teen\", \"Everyone\", \"Everyone\", \"Everyone\", \"Everyone\", \"Everyone\", \"Everyone\", \"Everyone\", \"Everyone\", \"Everyone\", \"Everyone\", \"Mature 17+\", \"Everyone\", \"Everyone 10+\", \"Everyone\", \"Everyone\", \"Teen\", \"Everyone\", \"Mature 17+\", \"Everyone\", \"Everyone\", \"Everyone\", \"Teen\", \"Everyone\", \"Everyone\", \"Everyone\", \"Everyone\", \"Everyone\", \"Everyone\", \"Everyone\", \"Everyone\", \"Everyone\", \"Everyone\", \"Everyone\", \"Everyone\", \"Everyone\", \"Everyone\", \"Everyone\", \"Everyone\", \"Everyone\", \"Everyone\", \"Teen\", \"Everyone\", \"Everyone\", \"Everyone\", \"Everyone\", \"Everyone\", \"Everyone\", \"Everyone 10+\", \"Everyone\", \"Everyone\", \"Everyone\", \"Everyone\", \"Everyone\", \"Everyone\", \"Everyone\", \"Everyone\", \"Everyone\", \"Everyone\", \"Everyone\", \"Everyone\", \"Everyone\", \"Everyone\", \"Everyone\", \"Everyone\", \"Teen\", \"Everyone\", \"Teen\", \"Everyone\", \"Everyone\", \"Everyone\", \"Everyone\", \"Everyone\", \"Everyone\", \"Everyone\", \"Teen\", \"Everyone 10+\", \"Everyone\", \"Everyone\", \"Teen\", \"Everyone\", \"Everyone\", \"Everyone\", \"Everyone\", \"Everyone\", \"Everyone\", \"Everyone\", \"Everyone\", \"Everyone\", \"Everyone\", \"Everyone\", \"Everyone\", \"Everyone\", \"Everyone\", \"Everyone\", \"Everyone\", \"Everyone\", \"Teen\", \"Everyone\", \"Everyone\", \"Everyone\", \"Everyone\", \"Everyone\", \"Everyone\", \"Everyone\", \"Everyone\", \"Everyone\", \"Everyone\", \"Everyone\", \"Everyone\", \"Everyone\", \"Everyone\", \"Everyone\", \"Everyone\", \"Everyone\", \"Everyone 10+\", \"Everyone\", \"Everyone\", \"Everyone\", \"Everyone\", \"Everyone\", \"Everyone\", \"Everyone\", \"Everyone\", \"Everyone\", \"Everyone 10+\", \"Everyone\", \"Everyone\", \"Everyone 10+\", \"Everyone\", \"Everyone\", \"Everyone\", \"Everyone\", \"Everyone\", \"Everyone\", \"Everyone\", \"Teen\", \"Everyone\", \"Everyone\", \"Everyone\", \"Everyone\", \"Everyone\", \"Everyone\", \"Everyone\", \"Everyone\", \"Everyone\", \"Everyone\", \"Everyone\", \"Everyone\", \"Everyone\", \"Everyone\", \"Everyone\", \"Everyone\", \"Everyone\", \"Everyone\", \"Everyone\", \"Everyone\", \"Everyone\", \"Everyone\", \"Everyone\", \"Everyone\", \"Everyone\", \"Teen\", \"Everyone\", \"Everyone\", \"Everyone\", \"Everyone\", \"Mature 17+\", \"Everyone\", \"Everyone\", \"Everyone\", \"Everyone\", \"Teen\", \"Everyone 10+\", \"Everyone\", \"Everyone\", \"Everyone\", \"Everyone\", \"Everyone\", \"Everyone\", \"Everyone\", \"Mature 17+\", \"Everyone\", \"Everyone\", \"Everyone\", \"Everyone\", \"Everyone\", \"Teen\", \"Everyone\", \"Everyone\", \"Everyone\", \"Everyone\", \"Everyone\", \"Everyone\", \"Everyone\", \"Everyone\", \"Everyone\", \"Everyone\", \"Everyone\", \"Everyone\", \"Everyone\", \"Everyone\", \"Everyone\", \"Everyone\", \"Everyone\", \"Everyone\", \"Everyone\", \"Everyone\", \"Everyone\", \"Everyone\", \"Everyone\", \"Everyone\", \"Everyone\", \"Everyone\", \"Everyone\", \"Everyone\", \"Everyone\", \"Everyone\", \"Everyone\", \"Everyone\", \"Everyone\", \"Everyone\", \"Everyone\", \"Everyone\", \"Everyone\", \"Everyone\", \"Everyone\", \"Everyone\", \"Everyone\", \"Everyone\", \"Everyone\", \"Everyone\", \"Teen\", \"Teen\", \"Everyone\", \"Teen\", \"Everyone\", \"Everyone\", \"Everyone\", \"Everyone\", \"Everyone\", \"Everyone\", \"Mature 17+\", \"Everyone\", \"Everyone\", \"Everyone\", \"Everyone\", \"Everyone\", \"Everyone\", \"Everyone\", \"Everyone\", \"Everyone\", \"Everyone\", \"Everyone\", \"Everyone\", \"Everyone\", \"Everyone\", \"Everyone\", \"Mature 17+\", \"Everyone\", \"Everyone\", \"Everyone\", \"Everyone\", \"Teen\", \"Everyone\", \"Teen\", \"Everyone\", \"Everyone\", \"Everyone\", \"Everyone\", \"Teen\", \"Everyone\", \"Everyone\", \"Everyone\", \"Everyone\", \"Everyone\", \"Teen\", \"Teen\", \"Teen\", \"Everyone\", \"Teen\", \"Everyone\", \"Everyone\", \"Everyone\", \"Everyone\", \"Everyone\", \"Teen\", \"Everyone\", \"Everyone\", \"Everyone\", \"Everyone\", \"Everyone\", \"Everyone\", \"Everyone\", \"Everyone\", \"Everyone\", \"Everyone\", \"Everyone\", \"Everyone\", \"Everyone\", \"Everyone\", \"Everyone\", \"Everyone\", \"Everyone\", \"Mature 17+\", \"Mature 17+\", \"Everyone\", \"Everyone\", \"Everyone\", \"Everyone\", \"Everyone\", \"Everyone\", \"Everyone\", \"Everyone\", \"Everyone\", \"Everyone\", \"Everyone\", \"Everyone\", \"Everyone\", \"Everyone\", \"Everyone\", \"Everyone\", \"Everyone\", \"Everyone\", \"Everyone\", \"Everyone\", \"Everyone\", \"Everyone\", \"Everyone\", \"Everyone\", \"Everyone\", \"Everyone\", \"Everyone\", \"Everyone\", \"Everyone\", \"Everyone\", \"Everyone\", \"Everyone\", \"Everyone\", \"Everyone\", \"Everyone\", \"Everyone\", \"Everyone\", \"Everyone\", \"Everyone\", \"Everyone\", \"Everyone\", \"Everyone\", \"Everyone\", \"Everyone\", \"Everyone\", \"Everyone\", \"Everyone\", \"Everyone\", \"Everyone\", \"Teen\", \"Everyone\", \"Everyone 10+\", \"Teen\", \"Everyone\", \"Everyone\", \"Everyone\", \"Everyone\", \"Everyone\", \"Mature 17+\", \"Everyone\", \"Everyone\", \"Everyone\", \"Everyone\", \"Everyone\", \"Everyone\", \"Everyone\", \"Everyone\", \"Everyone\", \"Everyone\", \"Everyone\", \"Everyone\", \"Everyone\", \"Everyone\", \"Teen\", \"Everyone\", \"Everyone\", \"Everyone\", \"Everyone\", \"Everyone\", \"Everyone\", \"Everyone\", \"Everyone\", \"Everyone\", \"Everyone\", \"Everyone\", \"Everyone\", \"Everyone\", \"Everyone\", \"Everyone\", \"Everyone\", \"Mature 17+\", \"Everyone\", \"Everyone\", \"Everyone\", \"Everyone\", \"Everyone\", \"Everyone\", \"Everyone\", \"Everyone\", \"Everyone\", \"Everyone\", \"Everyone\", \"Everyone\", \"Everyone\", \"Everyone\", \"Everyone 10+\", \"Everyone\", \"Everyone\", \"Everyone\", \"Everyone\", \"Everyone\", \"Everyone\", \"Everyone\", \"Teen\", \"Mature 17+\", \"Everyone\", \"Everyone 10+\", \"Everyone\", \"Everyone\", \"Everyone\", \"Everyone\", \"Everyone\", \"Everyone\", \"Everyone\", \"Teen\", \"Everyone\", \"Everyone\", \"Everyone\", \"Everyone\", \"Everyone\", \"Everyone\", \"Everyone\", \"Everyone\", \"Everyone\", \"Everyone\", \"Everyone\", \"Everyone\", \"Everyone\", \"Everyone\", \"Everyone\", \"Everyone\", \"Everyone\", \"Everyone\", \"Everyone\", \"Everyone\", \"Everyone\", \"Everyone\", \"Everyone\", \"Everyone\", \"Everyone\", \"Everyone\", \"Teen\", \"Everyone\", \"Mature 17+\", \"Everyone\", \"Everyone\", \"Everyone\", \"Everyone\", \"Everyone\", \"Everyone\", \"Everyone\", \"Everyone\", \"Everyone\", \"Everyone\", \"Everyone\", \"Everyone\", \"Everyone\", \"Everyone\", \"Everyone\", \"Everyone\", \"Everyone\", \"Everyone\", \"Everyone\", \"Everyone\", \"Everyone\", \"Everyone\", \"Everyone\", \"Everyone\", \"Everyone\", \"Everyone\", \"Everyone\", \"Everyone\", \"Everyone\", \"Everyone\", \"Everyone\", \"Everyone\", \"Everyone\", \"Teen\", \"Everyone\", \"Everyone\", \"Everyone\", \"Everyone\", \"Everyone\", \"Everyone\", \"Everyone\", \"Everyone\", \"Everyone\", \"Everyone\", \"Everyone\", \"Everyone\", \"Everyone\", \"Everyone\", \"Everyone\", \"Everyone\", \"Everyone\", \"Everyone\", \"Teen\", \"Everyone\", \"Everyone\", \"Everyone\", \"Everyone\", \"Everyone\", \"Everyone\", \"Everyone\", \"Everyone\", \"Everyone\", \"Everyone\", \"Everyone\", \"Everyone\", \"Everyone\", \"Everyone\", \"Everyone\", \"Everyone\", \"Everyone\", \"Everyone\", \"Everyone\", \"Everyone\", \"Everyone\", \"Everyone\", \"Everyone\", \"Everyone\", \"Everyone\", \"Everyone\", \"Everyone\", \"Everyone\", \"Everyone\", \"Everyone\", \"Everyone\", \"Mature 17+\", \"Everyone\", \"Everyone\", \"Everyone\", \"Everyone\", \"Everyone\", \"Teen\", \"Everyone\", \"Everyone\", \"Mature 17+\", \"Everyone\", \"Everyone\", \"Everyone\", \"Everyone\", \"Everyone\", \"Everyone\", \"Everyone\", \"Everyone\", \"Everyone\", \"Everyone\", \"Everyone\", \"Everyone\", \"Everyone\", \"Everyone\", \"Everyone\", \"Everyone\", \"Everyone\", \"Everyone\", \"Everyone\", \"Everyone\", \"Teen\", \"Everyone\", \"Everyone\", \"Everyone\", \"Everyone\", \"Everyone\", \"Everyone\", \"Everyone\", \"Everyone\", \"Teen\", \"Teen\", \"Everyone\", \"Everyone\", \"Teen\", \"Mature 17+\", \"Mature 17+\", \"Everyone\", \"Everyone\", \"Everyone\", \"Everyone\", \"Everyone\", \"Everyone\", \"Everyone\", \"Everyone\", \"Everyone\", \"Everyone\", \"Everyone\", \"Everyone\", \"Everyone\", \"Everyone\", \"Teen\", \"Mature 17+\", \"Everyone\", \"Everyone\", \"Everyone\", \"Everyone\", \"Mature 17+\", \"Everyone\", \"Everyone\", \"Everyone\", \"Everyone\", \"Teen\", \"Everyone\", \"Everyone\", \"Everyone\", \"Everyone\", \"Everyone\", \"Everyone\", \"Everyone\", \"Everyone\", \"Everyone\", \"Everyone\", \"Everyone\", \"Teen\", \"Everyone\", \"Everyone\", \"Everyone\", \"Everyone\", \"Everyone\", \"Everyone\", \"Everyone\", \"Everyone\", \"Everyone\", \"Everyone\", \"Mature 17+\", \"Everyone\", \"Everyone\", \"Everyone\", \"Teen\", \"Everyone 10+\", \"Teen\", \"Teen\", \"Everyone\", \"Everyone\", \"Everyone\", \"Everyone\", \"Everyone\", \"Everyone\", \"Everyone\", \"Everyone\", \"Everyone\", \"Everyone\", \"Everyone\", \"Everyone\", \"Everyone\", \"Everyone\", \"Everyone\", \"Everyone\", \"Everyone\", \"Everyone\", \"Everyone\", \"Everyone\", \"Everyone\", \"Teen\", \"Everyone\", \"Everyone\", \"Everyone\", \"Everyone\", \"Everyone\", \"Everyone\", \"Everyone\", \"Everyone\", \"Everyone\", \"Everyone\", \"Everyone\", \"Everyone 10+\", \"Everyone\", \"Everyone\", \"Everyone\", \"Everyone\", \"Everyone\", \"Everyone\", \"Everyone\", \"Everyone\", \"Everyone\", \"Everyone\", \"Everyone\", \"Everyone\", \"Everyone\", \"Everyone\", \"Everyone\", \"Everyone\", \"Everyone\", \"Everyone\", \"Everyone\", \"Everyone\", \"Everyone\", \"Everyone\", \"Everyone\", \"Everyone\", \"Everyone\", \"Everyone\", \"Everyone\", \"Teen\", \"Everyone\", \"Everyone\", \"Everyone 10+\", \"Everyone\", \"Everyone\", \"Everyone\", \"Everyone\", \"Everyone\", \"Everyone\", \"Teen\", \"Everyone\", \"Everyone\", \"Everyone\", \"Everyone\", \"Teen\", \"Teen\", \"Everyone\", \"Everyone\", \"Everyone\", \"Everyone 10+\", \"Everyone\", \"Everyone\", \"Everyone\", \"Everyone\", \"Everyone\", \"Everyone\", \"Everyone\", \"Everyone\", \"Everyone\", \"Everyone\", \"Everyone\", \"Everyone\", \"Teen\", \"Everyone\", \"Everyone\", \"Everyone\", \"Teen\", \"Everyone\", \"Everyone\", \"Teen\", \"Everyone\", \"Everyone\", \"Everyone\", \"Everyone\", \"Everyone\", \"Everyone\", \"Everyone\", \"Everyone\", \"Everyone\", \"Everyone\", \"Mature 17+\", \"Everyone\", \"Everyone\", \"Everyone\", \"Everyone\", \"Everyone\", \"Everyone\", \"Everyone\", \"Everyone\", \"Everyone\", \"Everyone\", \"Everyone\", \"Everyone\", \"Everyone\", \"Everyone\", \"Everyone\", \"Everyone\", \"Everyone\", \"Teen\", \"Everyone\", \"Everyone\", \"Everyone\", \"Everyone\", \"Everyone\", \"Everyone\", \"Everyone\", \"Everyone\", \"Everyone\", \"Everyone\", \"Everyone\", \"Everyone\", \"Everyone\", \"Everyone\", \"Everyone\", \"Everyone\", \"Everyone\", \"Everyone\", \"Everyone\", \"Everyone\", \"Everyone\", \"Everyone\", \"Everyone\", \"Everyone\", \"Everyone\", \"Everyone\", \"Everyone\", \"Everyone\", \"Everyone\", \"Everyone\", \"Everyone\", \"Everyone\", \"Everyone\", \"Teen\", \"Mature 17+\", \"Mature 17+\", \"Everyone\", \"Everyone\", \"Everyone\", \"Everyone\", \"Everyone\", \"Teen\", \"Everyone\", \"Everyone\", \"Teen\", \"Everyone\", \"Everyone\", \"Everyone\", \"Everyone\", \"Everyone\", \"Everyone\", \"Everyone\", \"Everyone\", \"Everyone\", \"Everyone\", \"Everyone\", \"Everyone\", \"Everyone\", \"Everyone\", \"Everyone\", \"Everyone\", \"Everyone\", \"Everyone\", \"Everyone\", \"Everyone\", \"Everyone\", \"Everyone 10+\", \"Everyone\", \"Everyone\", \"Mature 17+\", \"Everyone\", \"Everyone\", \"Everyone\", \"Everyone\", \"Everyone\", \"Everyone\", \"Everyone 10+\", \"Everyone\", \"Everyone\", \"Everyone\", \"Everyone 10+\", \"Everyone\", \"Everyone\", \"Everyone\", \"Everyone\", \"Everyone\", \"Everyone\", \"Teen\", \"Everyone\", \"Everyone\", \"Everyone\", \"Everyone\", \"Everyone\", \"Everyone\", \"Everyone\", \"Everyone\", \"Everyone\", \"Everyone\", \"Everyone\", \"Everyone\", \"Everyone\", \"Everyone\", \"Mature 17+\", \"Everyone\", \"Everyone\", \"Teen\", \"Everyone\", \"Everyone 10+\", \"Everyone\", \"Everyone\", \"Everyone\", \"Everyone\", \"Everyone\", \"Everyone 10+\", \"Everyone\", \"Everyone\", \"Everyone\", \"Everyone\", \"Everyone\", \"Everyone\", \"Mature 17+\", \"Everyone\", \"Everyone\", \"Everyone\", \"Teen\", \"Teen\", \"Everyone\", \"Everyone\", \"Mature 17+\", \"Mature 17+\", \"Everyone\", \"Everyone\", \"Everyone\", \"Everyone\", \"Everyone\", \"Everyone\", \"Everyone\", \"Everyone\", \"Everyone\", \"Everyone\", \"Everyone\", \"Everyone\", \"Everyone\", \"Everyone\", \"Everyone\", \"Everyone\", \"Everyone\", \"Everyone\", \"Everyone\", \"Everyone\", \"Everyone\", \"Everyone\", \"Teen\", \"Everyone\", \"Everyone\", \"Everyone\", \"Everyone\", \"Everyone\", \"Everyone\", \"Everyone\", \"Everyone\", \"Everyone\", \"Everyone\", \"Everyone\", \"Everyone\", \"Everyone\", \"Everyone\", \"Everyone\", \"Everyone\", \"Everyone\", \"Everyone\", \"Everyone\", \"Everyone\", \"Everyone\", \"Everyone\", \"Everyone\", \"Everyone\", \"Everyone\", \"Everyone\", \"Everyone\", \"Everyone\", \"Teen\", \"Everyone\", \"Everyone\", \"Everyone\", \"Everyone\", \"Teen\", \"Everyone\", \"Everyone\", \"Everyone\", \"Everyone\", \"Everyone\", \"Everyone 10+\", \"Everyone\", \"Everyone\", \"Everyone\", \"Everyone\", \"Everyone\", \"Everyone\", \"Everyone\", \"Everyone\", \"Everyone\", \"Everyone\", \"Everyone\", \"Everyone\", \"Everyone\", \"Everyone\", \"Everyone\", \"Teen\", \"Everyone\", \"Everyone\", \"Everyone\", \"Everyone\", \"Everyone\", \"Mature 17+\", \"Mature 17+\", \"Mature 17+\", \"Mature 17+\", \"Everyone\", \"Everyone\", \"Everyone\", \"Everyone\", \"Teen\", \"Everyone\", \"Everyone\", \"Everyone\", \"Teen\", \"Everyone\", \"Everyone\", \"Everyone\", \"Everyone\", \"Everyone\", \"Everyone\", \"Everyone\", \"Everyone\", \"Everyone\", \"Mature 17+\", \"Everyone\", \"Teen\", \"Teen\", \"Everyone\", \"Everyone\", \"Everyone\", \"Everyone\", \"Everyone\", \"Everyone\", \"Everyone\", \"Everyone\", \"Everyone\", \"Everyone\", \"Everyone\", \"Everyone\", \"Everyone\", \"Everyone\", \"Everyone\", \"Everyone\", \"Everyone\", \"Everyone\", \"Everyone\", \"Everyone\", \"Everyone\", \"Teen\", \"Everyone\", \"Everyone\", \"Everyone\", \"Everyone\", \"Everyone\", \"Everyone\", \"Everyone\", \"Everyone 10+\", \"Everyone 10+\", \"Mature 17+\", \"Everyone 10+\", \"Everyone\", \"Everyone\", \"Everyone 10+\", \"Everyone\", \"Everyone\", \"Everyone\", \"Everyone\", \"Everyone\", \"Everyone\", \"Everyone\", \"Everyone\", \"Everyone\", \"Everyone\", \"Everyone\", \"Everyone\", \"Everyone\", \"Everyone\", \"Everyone\", \"Everyone\", \"Everyone\", \"Everyone\", \"Everyone\", \"Everyone\", \"Everyone\", \"Everyone\", \"Teen\", \"Everyone\", \"Everyone\", \"Everyone\", \"Everyone\", \"Everyone\", \"Everyone\", \"Everyone\", \"Everyone\", \"Everyone\", \"Everyone\", \"Everyone\", \"Everyone\", \"Everyone\", \"Everyone\", \"Everyone\", \"Everyone 10+\", \"Everyone\", \"Teen\", \"Everyone\", \"Everyone\", \"Everyone\", \"Everyone\", \"Everyone\", \"Everyone\", \"Everyone\", \"Everyone\", \"Everyone\", \"Everyone\", \"Everyone\", \"Everyone\", \"Everyone\", \"Everyone\", \"Everyone\", \"Everyone\", \"Everyone\", \"Everyone\", \"Teen\", \"Everyone\", \"Everyone\", \"Everyone\", \"Everyone\", \"Everyone\", \"Everyone 10+\", \"Teen\", \"Everyone\", \"Everyone\", \"Everyone\", \"Everyone\", \"Everyone\", \"Everyone\", \"Everyone\", \"Everyone\", \"Everyone\", \"Everyone\", \"Everyone\", \"Everyone\", \"Everyone\", \"Everyone\", \"Everyone\", \"Everyone\", \"Everyone\", \"Everyone\", \"Everyone\", \"Everyone\", \"Everyone\", \"Everyone\", \"Everyone\", \"Everyone\", \"Everyone\", \"Everyone\", \"Everyone\", \"Everyone\", \"Teen\", \"Mature 17+\", \"Everyone\", \"Everyone\", \"Everyone\", \"Mature 17+\", \"Teen\", \"Everyone\", \"Everyone\", \"Everyone\", \"Everyone\", \"Everyone\", \"Everyone\", \"Everyone\", \"Everyone\", \"Everyone\", \"Mature 17+\", \"Everyone\", \"Everyone\", \"Everyone\", \"Everyone\", \"Everyone\", \"Everyone\", \"Everyone\", \"Mature 17+\", \"Everyone\", \"Everyone\", \"Everyone\", \"Everyone\", \"Everyone\", \"Everyone\", \"Teen\", \"Everyone 10+\", \"Everyone\", \"Everyone\", \"Everyone\", \"Everyone\", \"Everyone\", \"Everyone\", \"Everyone\", \"Everyone\", \"Everyone\", \"Everyone\", \"Everyone\", \"Everyone\", \"Everyone\", \"Everyone\", \"Everyone\", \"Everyone\", \"Everyone\", \"Everyone\", \"Everyone\", \"Everyone\", \"Mature 17+\", \"Teen\", \"Everyone\", \"Everyone\", \"Everyone\", \"Everyone\", \"Everyone\", \"Everyone\", \"Everyone\", \"Everyone\", \"Mature 17+\", \"Everyone\", \"Everyone\", \"Everyone\", \"Everyone\", \"Everyone\", \"Teen\", \"Everyone\", \"Everyone\", \"Everyone\", \"Everyone\", \"Everyone\", \"Everyone\", \"Everyone\", \"Everyone\", \"Everyone\", \"Everyone\", \"Teen\", \"Everyone\", \"Everyone\", \"Everyone\", \"Everyone\", \"Mature 17+\", \"Everyone\", \"Everyone\", \"Everyone\", \"Everyone\", \"Everyone\", \"Everyone\", \"Everyone\", \"Everyone\", \"Everyone\", \"Everyone\", \"Mature 17+\", \"Everyone\", \"Everyone\", \"Everyone\", \"Everyone\", \"Everyone\", \"Everyone 10+\", \"Everyone\", \"Everyone\", \"Everyone\", \"Everyone\", \"Mature 17+\", \"Everyone\", \"Everyone\", \"Everyone\", \"Everyone\", \"Everyone\", \"Everyone\", \"Everyone\", \"Everyone\", \"Teen\", \"Everyone\", \"Everyone\", \"Teen\", \"Teen\", \"Everyone\", \"Everyone\", \"Everyone\", \"Everyone\", \"Everyone\", \"Everyone\", \"Everyone\", \"Everyone\", \"Everyone\", \"Everyone\", \"Everyone\", \"Everyone\", \"Everyone\", \"Everyone\", \"Everyone 10+\", \"Everyone\", \"Everyone\", \"Everyone\", \"Everyone 10+\", \"Everyone\", \"Everyone\", \"Everyone\", \"Everyone\", \"Teen\", \"Everyone\", \"Everyone\", \"Everyone\", \"Mature 17+\", \"Teen\", \"Everyone\", \"Everyone\", \"Everyone\", \"Teen\", \"Everyone\", \"Everyone\", \"Everyone\", \"Everyone\", \"Everyone\", \"Everyone\", \"Teen\", \"Everyone\", \"Teen\", \"Everyone\", \"Everyone\", \"Everyone\", \"Everyone\", \"Everyone\", \"Everyone\", \"Teen\", \"Everyone\", \"Everyone\", \"Teen\", \"Everyone\", \"Everyone\", \"Everyone\", \"Everyone\", \"Everyone\", \"Everyone\", \"Everyone\", \"Everyone\", \"Everyone\", \"Everyone\", \"Everyone\", \"Everyone\", \"Everyone\", \"Everyone\", \"Everyone\", \"Everyone\", \"Everyone\", \"Everyone\", \"Everyone\", \"Everyone\", \"Everyone\", \"Everyone\", \"Everyone\", \"Everyone\", \"Everyone\", \"Everyone\", \"Everyone\", \"Everyone\", \"Everyone\", \"Everyone\", \"Everyone\", \"Everyone\", \"Everyone\", \"Everyone\", \"Everyone\", \"Everyone\", \"Everyone\", \"Everyone\", \"Everyone\", \"Everyone\", \"Everyone\", \"Everyone\", \"Everyone\", \"Everyone\", \"Everyone\", \"Everyone\", \"Teen\", \"Everyone\", \"Everyone\", \"Teen\", \"Everyone\", \"Teen\", \"Everyone 10+\", \"Everyone\", \"Everyone\", \"Everyone\", \"Everyone\", \"Everyone\", \"Everyone\", \"Everyone\", \"Everyone\", \"Everyone\", \"Everyone\", \"Teen\", \"Everyone\", \"Everyone\", \"Everyone\", \"Everyone\", \"Everyone\", \"Everyone\", \"Everyone\", \"Everyone\", \"Everyone\", \"Everyone\", \"Everyone\", \"Teen\", \"Mature 17+\", \"Everyone\", \"Everyone\", \"Everyone\", \"Everyone\", \"Everyone\", \"Teen\", \"Everyone\", \"Everyone\", \"Everyone 10+\", \"Everyone\", \"Everyone\", \"Everyone\", \"Teen\", \"Everyone\", \"Everyone\", \"Everyone\", \"Everyone\", \"Everyone\", \"Everyone\", \"Everyone 10+\", \"Everyone\", \"Everyone\", \"Everyone\", \"Everyone\", \"Everyone\", \"Everyone\", \"Teen\", \"Everyone\", \"Everyone\", \"Everyone\", \"Everyone\", \"Everyone\", \"Everyone\", \"Everyone\", \"Everyone\", \"Everyone\", \"Everyone\", \"Everyone 10+\", \"Everyone\", \"Everyone\", \"Everyone\", \"Everyone\", \"Everyone\", \"Everyone\", \"Everyone\", \"Everyone\", \"Everyone\", \"Everyone\", \"Teen\", \"Mature 17+\", \"Teen\", \"Everyone\", \"Everyone\", \"Everyone\", \"Everyone\", \"Everyone\", \"Teen\", \"Teen\", \"Everyone\", \"Everyone\", \"Everyone\", \"Everyone\", \"Everyone\", \"Everyone\", \"Everyone\", \"Everyone\", \"Everyone\", \"Everyone\", \"Teen\", \"Everyone\", \"Everyone\", \"Teen\", \"Everyone\", \"Everyone\", \"Everyone\", \"Everyone\", \"Everyone\", \"Everyone\", \"Everyone\", \"Everyone\", \"Everyone\", \"Everyone\", \"Everyone\", \"Everyone\", \"Everyone\", \"Everyone\", \"Everyone\", \"Everyone\", \"Everyone\", \"Everyone\", \"Everyone\", \"Everyone\", \"Everyone\", \"Everyone\", \"Everyone\", \"Everyone\", \"Everyone\", \"Teen\", \"Everyone 10+\", \"Everyone\", \"Everyone\", \"Everyone\", \"Everyone\", \"Everyone\", \"Everyone\", \"Everyone\", \"Everyone\", \"Everyone\", \"Teen\", \"Everyone\", \"Everyone\", \"Teen\", \"Everyone\", \"Everyone\", \"Everyone\", \"Everyone\", \"Everyone\", \"Everyone\", \"Everyone\", \"Everyone\", \"Everyone\", \"Everyone\", \"Everyone\", \"Everyone\", \"Everyone\", \"Everyone\", \"Everyone\", \"Everyone\", \"Everyone\", \"Everyone\", \"Everyone\", \"Everyone\", \"Everyone\", \"Everyone\", \"Everyone\", \"Everyone\", \"Everyone\", \"Everyone\", \"Everyone\", \"Everyone\", \"Teen\", \"Everyone\", \"Everyone\", \"Everyone\", \"Everyone\", \"Teen\", \"Everyone\", \"Everyone\", \"Mature 17+\", \"Everyone\", \"Teen\", \"Everyone\", \"Everyone\", \"Everyone\", \"Mature 17+\", \"Everyone\", \"Teen\", \"Everyone\", \"Everyone\", \"Everyone\", \"Everyone\", \"Everyone\", \"Everyone\", \"Everyone\", \"Everyone\", \"Everyone\", \"Everyone\", \"Everyone\", \"Everyone\", \"Everyone\", \"Everyone\", \"Everyone\", \"Everyone\", \"Everyone\", \"Everyone\", \"Everyone\", \"Everyone\", \"Everyone\", \"Teen\", \"Everyone\", \"Everyone\", \"Everyone\", \"Everyone\", \"Everyone\", \"Everyone\", \"Everyone\", \"Everyone\", \"Teen\", \"Everyone\", \"Everyone\", \"Everyone 10+\", \"Everyone\", \"Teen\", \"Everyone\", \"Everyone\", \"Everyone\", \"Everyone\", \"Teen\", \"Everyone\", \"Teen\", \"Everyone\", \"Everyone\", \"Everyone\", \"Everyone\", \"Everyone\", \"Everyone\", \"Everyone\", \"Teen\", \"Teen\", \"Everyone\", \"Everyone\", \"Everyone\", \"Teen\", \"Everyone\", \"Everyone\", \"Everyone\", \"Everyone\", \"Everyone\", \"Everyone\", \"Everyone\", \"Everyone\", \"Everyone\", \"Everyone\", \"Everyone\", \"Everyone\", \"Everyone\", \"Everyone\", \"Everyone\", \"Everyone 10+\", \"Everyone\", \"Everyone\", \"Everyone\", \"Everyone\", \"Everyone\", \"Everyone\", \"Mature 17+\", \"Everyone\", \"Everyone\", \"Everyone\", \"Everyone\", \"Mature 17+\", \"Everyone\", \"Everyone\", \"Everyone\", \"Everyone\", \"Teen\", \"Everyone\", \"Everyone\", \"Everyone\", \"Everyone\", \"Teen\", \"Everyone\", \"Everyone\", \"Teen\", \"Everyone\", \"Everyone\", \"Everyone\", \"Everyone\", \"Everyone\", \"Everyone\", \"Everyone\", \"Teen\", \"Everyone\", \"Teen\", \"Everyone\", \"Everyone 10+\", \"Everyone\", \"Everyone\", \"Everyone\", \"Everyone\", \"Everyone\", \"Everyone\", \"Everyone\", \"Everyone\", \"Everyone\", \"Everyone\", \"Everyone\", \"Everyone\", \"Everyone 10+\", \"Everyone\", \"Everyone\", \"Teen\", \"Everyone\", \"Mature 17+\", \"Everyone\", \"Everyone\", \"Everyone\", \"Everyone 10+\", \"Everyone\", \"Everyone\", \"Everyone\", \"Everyone\", \"Everyone\", \"Everyone\", \"Everyone\", \"Everyone\", \"Everyone\", \"Mature 17+\", \"Everyone\", \"Everyone\", \"Teen\", \"Everyone\", \"Everyone\", \"Everyone\", \"Everyone\", \"Mature 17+\", \"Everyone\", \"Everyone\", \"Everyone\", \"Everyone\", \"Everyone\", \"Everyone 10+\", \"Everyone\", \"Everyone\", \"Everyone\", \"Everyone\", \"Everyone\", \"Everyone\", \"Everyone\", \"Teen\", \"Everyone\", \"Everyone\", \"Everyone\", \"Mature 17+\", \"Everyone\", \"Everyone\", \"Everyone\", \"Everyone\", \"Everyone\", \"Everyone\", \"Everyone\", \"Everyone\", \"Everyone\", \"Everyone\", \"Everyone\", \"Everyone\", \"Everyone\", \"Everyone\", \"Everyone\", \"Everyone\", \"Teen\", \"Everyone\", \"Teen\", \"Everyone\", \"Everyone\", \"Everyone\", \"Everyone\", \"Everyone\", \"Everyone\", \"Everyone 10+\", \"Everyone\", \"Everyone\", \"Everyone\", \"Everyone\", \"Everyone\", \"Everyone\", \"Everyone\", \"Everyone\", \"Everyone\", \"Teen\", \"Everyone\", \"Everyone\", \"Everyone\", \"Everyone\", \"Everyone\", \"Everyone\", \"Teen\", \"Mature 17+\", \"Everyone\", \"Everyone\", \"Everyone\", \"Everyone\", \"Everyone\", \"Everyone\", \"Everyone 10+\", \"Everyone\", \"Everyone\", \"Everyone\", \"Everyone\", \"Everyone\", \"Mature 17+\", \"Everyone\", \"Everyone\", \"Teen\", \"Teen\", \"Everyone\", \"Everyone\", \"Everyone\", \"Everyone\", \"Everyone\", \"Everyone\", \"Everyone\", \"Everyone\", \"Everyone\", \"Mature 17+\", \"Everyone\", \"Everyone\", \"Everyone\", \"Everyone\", \"Everyone\", \"Everyone\", \"Teen\", \"Everyone\", \"Everyone\", \"Everyone\", \"Teen\", \"Everyone\", \"Everyone\", \"Everyone\", \"Everyone\", \"Everyone\", \"Everyone\", \"Everyone 10+\", \"Mature 17+\", \"Everyone\", \"Everyone\", \"Everyone\", \"Everyone\", \"Everyone\", \"Teen\", \"Everyone 10+\", \"Teen\", \"Everyone\", \"Everyone\", \"Everyone\", \"Everyone\", \"Everyone\", \"Teen\", \"Everyone\", \"Everyone\", \"Teen\", \"Everyone\", \"Everyone\", \"Everyone\", \"Everyone\", \"Teen\", \"Everyone\", \"Everyone\", \"Everyone\", \"Teen\", \"Everyone\", \"Unrated\", \"Everyone\", \"Everyone\", \"Everyone\", \"Everyone\", \"Everyone\", \"Everyone\", \"Teen\", \"Everyone\", \"Everyone\", \"Everyone\", \"Everyone\", \"Everyone\", \"Everyone\", \"Everyone\", \"Everyone\", \"Everyone\", \"Everyone\", \"Everyone\", \"Everyone\", \"Everyone\", \"Everyone\", \"Everyone\", \"Everyone\", \"Teen\", \"Everyone\", \"Everyone\", \"Everyone\", \"Teen\", \"Everyone\", \"Everyone\", \"Everyone\", \"Everyone\", \"Everyone\", \"Everyone\", \"Teen\", \"Everyone\", \"Everyone 10+\", \"Everyone\", \"Everyone 10+\", \"Everyone\", \"Teen\", \"Everyone\", \"Everyone\", \"Everyone\", \"Everyone\", \"Everyone\", \"Everyone\", \"Mature 17+\", \"Everyone\", \"Everyone\", \"Everyone\", \"Everyone\", \"Everyone\", \"Everyone\", \"Teen\", \"Everyone\", \"Everyone\", \"Mature 17+\", \"Everyone\", \"Everyone\", \"Everyone\", \"Everyone\", \"Mature 17+\", \"Everyone\", \"Everyone\", \"Teen\", \"Everyone\", \"Everyone\", \"Everyone\", \"Everyone 10+\", \"Teen\", \"Teen\", \"Everyone\", \"Everyone\", \"Everyone\", \"Everyone\", \"Everyone\", \"Everyone\", \"Everyone\", \"Everyone\", \"Everyone\", \"Everyone\", \"Teen\", \"Everyone\", \"Everyone\", \"Everyone\", \"Everyone 10+\", \"Everyone\", \"Everyone 10+\", \"Everyone\", \"Everyone\", \"Everyone\", \"Everyone\", \"Everyone\", \"Everyone 10+\", \"Everyone 10+\", \"Teen\", \"Teen\", \"Everyone\", \"Everyone\", \"Everyone\", \"Everyone\", \"Everyone\", \"Everyone\", \"Everyone\", \"Everyone\", \"Teen\", \"Teen\", \"Teen\", \"Everyone\", \"Everyone\", \"Everyone\", \"Mature 17+\", \"Everyone\", \"Everyone\", \"Everyone\", \"Everyone\", \"Teen\", \"Everyone\", \"Everyone\", \"Everyone\", \"Everyone\", \"Everyone\", \"Everyone\", \"Everyone\", \"Everyone\", \"Everyone\", \"Everyone\", \"Everyone\", \"Everyone\", \"Teen\", \"Everyone\", \"Everyone\", \"Mature 17+\", \"Everyone\", \"Everyone\", \"Everyone\", \"Everyone\", \"Everyone\", \"Everyone\", \"Everyone\", \"Everyone\", \"Everyone\", \"Everyone\", \"Everyone\", \"Everyone\", \"Everyone\", \"Mature 17+\", \"Everyone\", \"Everyone\", \"Everyone\", \"Everyone\", \"Everyone\", \"Everyone\", \"Everyone\", \"Everyone\", \"Everyone\", \"Everyone\", \"Everyone\", \"Everyone\", \"Mature 17+\", \"Everyone\", \"Everyone\", \"Everyone\", \"Teen\", \"Everyone\", \"Everyone 10+\", \"Everyone\", \"Everyone\", \"Everyone\", \"Everyone\", \"Everyone\", \"Mature 17+\", \"Everyone\", \"Everyone\", \"Everyone\", \"Everyone\", \"Everyone\", \"Everyone\", \"Everyone\", \"Everyone\", \"Everyone\", \"Everyone\", \"Mature 17+\", \"Everyone\", \"Everyone\", \"Everyone\", \"Teen\", \"Everyone\", \"Everyone 10+\", \"Everyone\", \"Everyone 10+\", \"Teen\", \"Everyone\", \"Everyone\", \"Everyone\", \"Everyone\", \"Everyone\", \"Everyone\", \"Everyone\", \"Everyone\", \"Mature 17+\", \"Everyone\", \"Teen\", \"Everyone\", \"Everyone\", \"Everyone 10+\", \"Teen\", \"Everyone\", \"Everyone\", \"Everyone\", \"Everyone\", \"Everyone\", \"Everyone\", \"Teen\", \"Teen\", \"Everyone\", \"Everyone\", \"Everyone\", \"Everyone\", \"Everyone\", \"Everyone\", \"Everyone\", \"Everyone\", \"Mature 17+\", \"Everyone\", \"Everyone\", \"Everyone\", \"Everyone 10+\", \"Everyone\", \"Teen\", \"Everyone\", \"Everyone\", \"Everyone\", \"Everyone\", \"Everyone\", \"Everyone\", \"Everyone\", \"Everyone\", \"Mature 17+\", \"Everyone\", \"Everyone\", \"Everyone\", \"Everyone\", \"Everyone\", \"Everyone\", \"Everyone\", \"Everyone\", \"Teen\", \"Everyone\", \"Everyone\", \"Everyone\", \"Everyone\", \"Everyone\", \"Teen\", \"Everyone\", \"Everyone\", \"Everyone\", \"Everyone\", \"Everyone\", \"Everyone\", \"Teen\", \"Everyone\", \"Everyone 10+\", \"Teen\", \"Teen\", \"Everyone 10+\", \"Mature 17+\", \"Everyone\", \"Everyone\", \"Everyone\", \"Everyone\", \"Mature 17+\", \"Everyone\", \"Everyone\", \"Everyone\", \"Teen\", \"Everyone 10+\", \"Everyone\", \"Teen\", \"Mature 17+\", \"Teen\", \"Everyone\", \"Everyone\", \"Teen\", \"Everyone\", \"Everyone\", \"Everyone\", \"Everyone\", \"Everyone\", \"Everyone\", \"Mature 17+\", \"Everyone\", \"Everyone\", \"Everyone\", \"Mature 17+\", \"Everyone 10+\", \"Teen\", \"Everyone\", \"Everyone\", \"Everyone\", \"Everyone\", \"Everyone\", \"Mature 17+\", \"Everyone\", \"Everyone\", \"Everyone\", \"Everyone\", \"Everyone\", \"Everyone\", \"Everyone\", \"Everyone\", \"Everyone\", \"Everyone\", \"Everyone\", \"Everyone\", \"Everyone\", \"Everyone\", \"Everyone\", \"Everyone\", \"Everyone\", \"Everyone\", \"Teen\", \"Teen\", \"Everyone\", \"Everyone\", \"Everyone\", \"Everyone\", \"Everyone\", \"Everyone\", \"Teen\", \"Everyone\", \"Everyone\", \"Everyone\", \"Everyone\", \"Everyone\", \"Everyone\", \"Everyone\", \"Teen\", \"Teen\", \"Teen\", \"Everyone\", \"Everyone\", \"Teen\", \"Everyone\", \"Everyone\", \"Everyone\", \"Everyone\", \"Everyone\", \"Teen\", \"Everyone\", \"Everyone\", \"Everyone\", \"Everyone\", \"Everyone\", \"Everyone\", \"Everyone\", \"Everyone\", \"Everyone\", \"Teen\", \"Teen\", \"Everyone\", \"Everyone\", \"Teen\", \"Everyone\", \"Everyone\", \"Teen\", \"Everyone\", \"Everyone\", \"Everyone 10+\", \"Everyone\", \"Everyone\", \"Everyone\", \"Everyone\", \"Everyone\", \"Everyone\", \"Everyone\", \"Everyone\", \"Everyone\", \"Everyone\", \"Everyone\", \"Everyone\", \"Teen\", \"Everyone\", \"Everyone\", \"Everyone\", \"Everyone\", \"Everyone\", \"Everyone\", \"Everyone\", \"Everyone\", \"Everyone\", \"Everyone\", \"Everyone\", \"Everyone\", \"Everyone\", \"Everyone\", \"Everyone\", \"Everyone\", \"Everyone\", \"Everyone\", \"Everyone\", \"Mature 17+\", \"Everyone\", \"Everyone\", \"Everyone\", \"Everyone\", \"Everyone\", \"Mature 17+\", \"Mature 17+\", \"Everyone\", \"Everyone\", \"Everyone\", \"Everyone\", \"Everyone\", \"Everyone\", \"Everyone\", \"Teen\", \"Everyone\", \"Everyone\", \"Everyone\", \"Everyone\", \"Everyone\", \"Everyone\", \"Everyone\", \"Everyone\", \"Everyone\", \"Everyone\", \"Everyone\", \"Mature 17+\", \"Mature 17+\", \"Mature 17+\", \"Everyone\", \"Everyone\", \"Everyone\", \"Everyone\", \"Everyone\", \"Everyone\", \"Everyone\", \"Everyone\", \"Everyone\", \"Everyone 10+\", \"Teen\", \"Everyone\", \"Everyone\", \"Everyone\", \"Everyone\", \"Everyone\", \"Everyone\", \"Everyone\", \"Everyone\", \"Everyone\", \"Everyone\", \"Everyone\", \"Everyone\", \"Everyone\", \"Everyone\", \"Mature 17+\", \"Everyone 10+\", \"Everyone\", \"Everyone\", \"Everyone 10+\", \"Everyone\", \"Everyone\", \"Everyone\", \"Everyone\", \"Everyone\", \"Everyone\", \"Everyone\", \"Everyone\", \"Teen\", \"Everyone\", \"Everyone\", \"Everyone\", \"Everyone\", \"Everyone\", \"Everyone\", \"Everyone\", \"Everyone\", \"Everyone\", \"Everyone\", \"Everyone\", \"Everyone\", \"Everyone\", \"Everyone\", \"Everyone\", \"Mature 17+\", \"Everyone\", \"Everyone\", \"Everyone\", \"Everyone\", \"Everyone\", \"Everyone\", \"Everyone\", \"Everyone\", \"Everyone\", \"Everyone\", \"Everyone\", \"Everyone\", \"Everyone\", \"Everyone\", \"Everyone\", \"Everyone\", \"Everyone\", \"Everyone\", \"Everyone\", \"Everyone\", \"Everyone\", \"Everyone\", \"Everyone\", \"Everyone\", \"Everyone\", \"Everyone\", \"Everyone\", \"Teen\", \"Everyone 10+\", \"Everyone\", \"Everyone\", \"Everyone\", \"Everyone\", \"Everyone\", \"Everyone\", \"Everyone\", \"Everyone 10+\", \"Everyone\", \"Everyone\", \"Mature 17+\", \"Everyone\", \"Everyone\", \"Everyone\", \"Teen\", \"Everyone\", \"Everyone\", \"Everyone\", \"Everyone\", \"Everyone\", \"Everyone\", \"Everyone\", \"Everyone\", \"Everyone\", \"Teen\", \"Everyone\", \"Everyone\", \"Teen\", \"Everyone\", \"Everyone\", \"Everyone\", \"Everyone\", \"Everyone\", \"Everyone\", \"Everyone\", \"Everyone\", \"Everyone\", \"Everyone\", \"Everyone\", \"Everyone\", \"Teen\", \"Teen\", \"Everyone 10+\", \"Teen\", \"Everyone\", \"Everyone\", \"Everyone\", \"Everyone\", \"Everyone\", \"Everyone\", \"Everyone\", \"Everyone\", \"Everyone\", \"Everyone\", \"Everyone\", \"Everyone\", \"Everyone 10+\", \"Everyone\", \"Everyone\", \"Everyone\", \"Everyone\", \"Everyone\", \"Everyone\", \"Everyone\", \"Everyone\", \"Everyone\", \"Everyone\", \"Everyone\", \"Everyone\", \"Teen\", \"Everyone\", \"Mature 17+\", \"Everyone 10+\", \"Everyone\", \"Everyone\", \"Everyone\", \"Teen\", \"Everyone\", \"Teen\", \"Mature 17+\", \"Everyone\", \"Everyone\", \"Everyone\", \"Everyone\", \"Teen\", \"Everyone\", \"Everyone\", \"Everyone\", \"Everyone\", \"Everyone\", \"Everyone\", \"Everyone\", \"Everyone\", \"Everyone\", \"Everyone\", \"Everyone\", \"Everyone\", \"Everyone\", \"Everyone\", \"Everyone\", \"Everyone\", \"Everyone\", \"Teen\", \"Everyone\", \"Everyone\", \"Everyone\", \"Everyone\", \"Everyone\", \"Everyone\", \"Everyone\", \"Everyone\", \"Everyone\", \"Mature 17+\", \"Everyone\", \"Everyone\", \"Everyone\", \"Everyone\", \"Everyone\", \"Everyone\", \"Everyone\", \"Everyone\", \"Everyone\", \"Everyone\", \"Everyone\", \"Mature 17+\", \"Everyone\", \"Mature 17+\", \"Everyone\", \"Everyone\", \"Everyone\", \"Everyone\", \"Everyone\", \"Everyone\", \"Everyone\", \"Everyone\", \"Everyone\", \"Mature 17+\", \"Everyone\", \"Everyone\", \"Everyone\", \"Everyone\", \"Mature 17+\", \"Teen\", \"Everyone\", \"Teen\", \"Everyone\", \"Teen\", \"Teen\", \"Everyone\", \"Everyone\", \"Everyone\", \"Everyone\", \"Everyone\", \"Everyone\", \"Everyone\", \"Everyone\", \"Everyone 10+\", \"Everyone 10+\", \"Everyone\", \"Teen\", \"Everyone\", \"Everyone\", \"Everyone\", \"Everyone\", \"Mature 17+\", \"Everyone\", \"Everyone\", \"Everyone\", \"Everyone\", \"Everyone\", \"Everyone\", \"Everyone 10+\", \"Everyone\", \"Everyone\", \"Mature 17+\", \"Everyone\", \"Everyone\", \"Everyone 10+\", \"Everyone\", \"Teen\", \"Everyone\", \"Mature 17+\", \"Everyone\", \"Everyone\", \"Everyone\", \"Teen\", \"Everyone\", \"Everyone\", \"Everyone\", \"Everyone\", \"Everyone\", \"Everyone\", \"Everyone\", \"Everyone\", \"Teen\", \"Everyone\", \"Everyone\", \"Everyone\", \"Teen\", \"Everyone\", \"Everyone\", \"Everyone\", \"Everyone\", \"Everyone\", \"Everyone\", \"Everyone 10+\", \"Teen\", \"Everyone\", \"Everyone\", \"Everyone\", \"Everyone\", \"Everyone\", \"Everyone\", \"Everyone\", \"Everyone\", \"Everyone\", \"Everyone\", \"Everyone\", \"Everyone\", \"Everyone\", \"Mature 17+\", \"Everyone\", \"Everyone\", \"Everyone 10+\", \"Everyone\", \"Everyone\", \"Everyone\", \"Everyone\", \"Teen\", \"Everyone 10+\", \"Everyone\", \"Everyone\", \"Everyone\", \"Mature 17+\", \"Everyone\", \"Everyone\", \"Everyone\", \"Mature 17+\", \"Everyone\", \"Everyone\", \"Everyone\", \"Everyone\", \"Everyone\", \"Everyone\", \"Everyone\", \"Everyone\", \"Mature 17+\", \"Everyone\", \"Everyone\", \"Everyone\", \"Everyone\", \"Everyone\", \"Everyone\", \"Everyone\", \"Everyone\", \"Everyone\", \"Everyone\", \"Everyone\", \"Everyone\", \"Everyone\", \"Everyone\", \"Everyone\", \"Everyone\", \"Everyone\", \"Everyone\", \"Everyone\", \"Everyone\", \"Everyone\", \"Everyone\", \"Everyone\", \"Everyone\", \"Everyone\", \"Everyone\", \"Everyone\", \"Everyone\", \"Everyone\", \"Everyone\", \"Everyone\", \"Everyone\", \"Everyone\", \"Everyone\", \"Everyone\", \"Everyone\", \"Teen\", \"Everyone\", \"Everyone\", \"Everyone\", \"Everyone\", \"Everyone\", \"Everyone\", \"Everyone\", \"Everyone\", \"Everyone\", \"Everyone\", \"Everyone\", \"Teen\", \"Mature 17+\", \"Teen\", \"Everyone\", \"Mature 17+\", \"Everyone 10+\", \"Everyone\", \"Everyone\", \"Everyone\", \"Everyone\", \"Everyone\", \"Everyone\", \"Everyone\", \"Everyone\", \"Everyone\", \"Everyone\", \"Everyone\", \"Everyone\", \"Everyone\", \"Everyone\", \"Everyone\", \"Everyone\", \"Everyone\", \"Everyone\", \"Everyone\", \"Everyone\", \"Everyone\", \"Everyone\", \"Everyone\", \"Everyone\", \"Everyone\", \"Teen\", \"Teen\", \"Everyone\", \"Everyone\", \"Everyone\", \"Teen\", \"Everyone\", \"Everyone\", \"Everyone\", \"Everyone 10+\", \"Everyone\", \"Everyone\", \"Everyone\", \"Everyone\", \"Everyone\", \"Everyone\", \"Everyone\", \"Everyone\", \"Mature 17+\", \"Everyone\", \"Everyone\", \"Everyone\", \"Everyone\", \"Everyone\", \"Everyone\", \"Teen\", \"Everyone\", \"Everyone\", \"Everyone\", \"Everyone\", \"Everyone\", \"Everyone\", \"Everyone\", \"Everyone\", \"Everyone\", \"Everyone\", \"Everyone\", \"Everyone\", \"Everyone\", \"Everyone\", \"Everyone\", \"Everyone\", \"Everyone\", \"Everyone\", \"Everyone\", \"Everyone\", \"Everyone\", \"Teen\", \"Everyone\", \"Everyone\", \"Everyone\", \"Everyone\", \"Everyone\", \"Everyone\", \"Everyone\", \"Everyone\", \"Everyone\", \"Everyone\", \"Everyone\", \"Everyone 10+\", \"Everyone\", \"Everyone\", \"Everyone\", \"Mature 17+\", \"Everyone\", \"Everyone\", \"Mature 17+\", \"Everyone\", \"Everyone\", \"Everyone\", \"Everyone\", \"Everyone\", \"Everyone\", \"Everyone\", \"Everyone\", \"Everyone\", \"Everyone\", \"Everyone\", \"Teen\", \"Everyone\", \"Everyone\", \"Everyone\", \"Everyone\", \"Everyone\", \"Everyone\", \"Everyone\", \"Everyone\", \"Everyone\", \"Everyone\", \"Everyone\", \"Teen\", \"Everyone\", \"Everyone\", \"Teen\", \"Everyone\", \"Everyone\", \"Everyone\", \"Everyone\", \"Everyone\", \"Everyone\", \"Everyone\", \"Everyone\", \"Everyone\", \"Everyone\", \"Everyone\", \"Everyone\", \"Mature 17+\", \"Teen\", \"Everyone\", \"Everyone\", \"Everyone\", \"Teen\", \"Everyone\", \"Everyone\", \"Everyone\", \"Everyone\", \"Everyone\", \"Mature 17+\", \"Everyone\", \"Everyone\", \"Everyone\", \"Everyone\", \"Teen\", \"Everyone\", \"Everyone\", \"Mature 17+\", \"Everyone\", \"Everyone\", \"Teen\", \"Everyone\", \"Everyone\", \"Everyone 10+\", \"Teen\", \"Teen\", \"Teen\", \"Everyone\", \"Everyone\", \"Everyone\", \"Everyone\", \"Everyone\", \"Everyone\", \"Everyone\", \"Everyone\", \"Everyone\", \"Everyone\", \"Everyone\", \"Teen\", \"Teen\", \"Everyone\", \"Everyone\", \"Everyone\", \"Everyone\", \"Teen\", \"Everyone\", \"Everyone\", \"Teen\", \"Everyone\", \"Mature 17+\", \"Everyone\", \"Everyone\", \"Everyone\", \"Everyone\", \"Everyone\", \"Mature 17+\", \"Everyone\", \"Everyone 10+\", \"Teen\", \"Teen\", \"Everyone\", \"Everyone\", \"Everyone\", \"Everyone\", \"Everyone\", \"Everyone\", \"Teen\", \"Everyone\", \"Everyone\", \"Everyone\", \"Everyone\", \"Teen\", \"Everyone\", \"Everyone\", \"Everyone\", \"Everyone\", \"Everyone\", \"Everyone\", \"Everyone\", \"Everyone\", \"Everyone\", \"Everyone\", \"Everyone\", \"Everyone\", \"Everyone\", \"Everyone\", \"Everyone\", \"Everyone\", \"Everyone\", \"Mature 17+\", \"Everyone\", \"Teen\", \"Teen\", \"Everyone\", \"Everyone\", \"Everyone\", \"Everyone\", \"Everyone\", \"Everyone\", \"Everyone\", \"Everyone\", \"Mature 17+\", \"Everyone\", \"Everyone\", \"Everyone\", \"Everyone\", \"Everyone\", \"Everyone 10+\", \"Everyone\", \"Everyone\", \"Everyone\", \"Everyone\", \"Everyone\", \"Everyone\", \"Teen\", \"Everyone\", \"Everyone\", \"Everyone\", \"Everyone\", \"Everyone\", \"Teen\", \"Everyone\", \"Everyone\", \"Teen\", \"Everyone\", \"Everyone\", \"Teen\", \"Everyone\", \"Everyone\", \"Everyone\", \"Everyone\", \"Everyone\", \"Everyone\", \"Everyone\", \"Everyone\", \"Everyone\", \"Teen\", \"Everyone\", \"Everyone 10+\", \"Everyone\", \"Teen\", \"Teen\", \"Teen\", \"Everyone 10+\", \"Everyone\", \"Everyone\", \"Everyone\", \"Everyone\", \"Everyone\", \"Everyone\", \"Everyone\", \"Everyone\", \"Everyone\", \"Everyone\", \"Everyone\", \"Everyone\", \"Everyone\", \"Everyone\", \"Everyone\", \"Everyone\", \"Everyone\", \"Everyone\", \"Everyone\", \"Everyone\", \"Teen\", \"Everyone\", \"Mature 17+\", \"Everyone\", \"Everyone\", \"Everyone\", \"Everyone\", \"Everyone\", \"Everyone\", \"Everyone\", \"Everyone\", \"Everyone\", \"Everyone\", \"Everyone\", \"Everyone\", \"Everyone\", \"Everyone\", \"Everyone\", \"Mature 17+\", \"Teen\", \"Everyone\", \"Everyone\", \"Everyone\", \"Everyone 10+\", \"Everyone\", \"Everyone\", \"Mature 17+\", \"Everyone\", \"Everyone\", \"Teen\", \"Everyone\", \"Everyone\", \"Everyone\", \"Everyone\", \"Everyone\", \"Everyone\", \"Mature 17+\", \"Everyone\", \"Everyone\", \"Everyone\", \"Everyone\", \"Teen\", \"Everyone\", \"Everyone\", \"Everyone\", \"Everyone\", \"Teen\", \"Everyone 10+\", \"Everyone 10+\", \"Teen\", \"Teen\", \"Teen\", \"Teen\", \"Teen\", \"Teen\", \"Everyone\", \"Everyone\", \"Everyone\", \"Teen\", \"Everyone\", \"Teen\", \"Everyone\", \"Everyone\", \"Everyone\", \"Everyone\", \"Everyone\", \"Everyone\", \"Everyone\", \"Everyone\", \"Everyone\", \"Everyone 10+\", \"Teen\", \"Everyone\", \"Everyone\", \"Everyone\", \"Mature 17+\", \"Everyone 10+\", \"Teen\", \"Mature 17+\", \"Everyone\", \"Everyone\", \"Everyone\", \"Everyone\", \"Everyone\", \"Everyone\", \"Everyone\", \"Everyone\", \"Teen\", \"Everyone\", \"Everyone\", \"Everyone\", \"Everyone\", \"Everyone 10+\", \"Everyone\", \"Mature 17+\", \"Everyone\", \"Mature 17+\", \"Teen\", \"Everyone\", \"Everyone\", \"Everyone\", \"Teen\", \"Everyone\", \"Everyone 10+\", \"Everyone\", \"Everyone\", \"Everyone\", \"Everyone\", \"Everyone\", \"Everyone\", \"Everyone\", \"Everyone\", \"Everyone\", \"Everyone\", \"Everyone\", \"Everyone\", \"Everyone\", \"Everyone\", \"Everyone\", \"Everyone\", \"Everyone\", \"Everyone\", \"Everyone\", \"Everyone\", \"Everyone\", \"Everyone\", \"Everyone\", \"Everyone\", \"Everyone\", \"Everyone\", \"Mature 17+\", \"Everyone\", \"Everyone\", \"Teen\", \"Everyone\", \"Everyone\", \"Everyone\", \"Everyone\", \"Everyone\", \"Everyone\", \"Everyone\", \"Everyone\", \"Everyone\", \"Everyone\", \"Mature 17+\", \"Everyone\", \"Everyone\", \"Everyone\", \"Everyone 10+\", \"Everyone\", \"Everyone\", \"Everyone\", \"Everyone\", \"Everyone\", \"Everyone\", \"Everyone\", \"Everyone\", \"Everyone\", \"Everyone\", \"Everyone\", \"Everyone\", \"Everyone\", \"Everyone\", \"Everyone\", \"Everyone\", \"Mature 17+\", \"Everyone\", \"Teen\", \"Everyone\", \"Mature 17+\", \"Everyone\", \"Teen\", \"Teen\", \"Everyone\", \"Everyone\", \"Everyone\", \"Everyone\", \"Everyone\", \"Mature 17+\", \"Everyone\", \"Everyone 10+\", \"Everyone\", \"Everyone 10+\", \"Everyone\", \"Everyone\", \"Everyone\", \"Everyone\", \"Teen\", \"Everyone\", \"Everyone\", \"Everyone\", \"Everyone\", \"Everyone\", \"Everyone 10+\", \"Everyone\", \"Everyone\", \"Everyone\", \"Teen\", \"Everyone\", \"Everyone\", \"Everyone\", \"Everyone\", \"Everyone\", \"Teen\", \"Everyone\", \"Everyone\", \"Everyone\", \"Everyone\", \"Teen\", \"Mature 17+\", \"Everyone\", \"Everyone\", \"Everyone\", \"Mature 17+\", \"Teen\", \"Everyone 10+\", \"Everyone\", \"Everyone\", \"Mature 17+\", \"Everyone 10+\", \"Everyone\", \"Mature 17+\", \"Everyone 10+\", \"Everyone\", \"Teen\", \"Everyone\", \"Mature 17+\", \"Everyone\", \"Everyone\", \"Everyone\", \"Everyone\", \"Teen\", \"Everyone\", \"Everyone\", \"Everyone\", \"Everyone\", \"Everyone\", \"Everyone\", \"Everyone\", \"Everyone\", \"Everyone\", \"Everyone\", \"Everyone\", \"Teen\", \"Everyone\", \"Everyone\", \"Everyone\", \"Everyone\", \"Everyone 10+\", \"Everyone\", \"Everyone\", \"Teen\", \"Teen\", \"Everyone\", \"Everyone\", \"Everyone\", \"Everyone\", \"Everyone\", \"Teen\", \"Everyone\", \"Adults only 18+\", \"Everyone\", \"Everyone\", \"Everyone\", \"Everyone\", \"Teen\", \"Everyone\", \"Everyone\", \"Everyone\", \"Everyone\", \"Everyone\", \"Teen\", \"Teen\", \"Everyone\", \"Everyone\", \"Everyone\", \"Everyone\", \"Everyone\", \"Mature 17+\", \"Everyone\", \"Teen\", \"Everyone\", \"Everyone 10+\", \"Everyone 10+\", \"Everyone\", \"Everyone\", \"Everyone\", \"Everyone\", \"Everyone\", \"Teen\", \"Teen\", \"Everyone\", \"Everyone\", \"Everyone\", \"Everyone\", \"Everyone\", \"Everyone\", \"Everyone\", \"Everyone\", \"Everyone\", \"Everyone\", \"Mature 17+\", \"Everyone\", \"Mature 17+\", \"Everyone\", \"Everyone\", \"Everyone 10+\", \"Everyone\", \"Everyone\", \"Everyone\", \"Teen\", \"Everyone\", \"Everyone\", \"Everyone\", \"Everyone\", \"Teen\", \"Everyone\", \"Everyone\", \"Everyone\", \"Everyone\", \"Everyone\", \"Everyone\", \"Everyone\", \"Everyone\", \"Everyone\", \"Everyone\", \"Everyone\", \"Everyone\", \"Everyone\", \"Everyone\", \"Mature 17+\", \"Everyone\", \"Everyone\", \"Everyone\", \"Everyone\", \"Everyone\", \"Everyone\", \"Everyone 10+\", \"Everyone\", \"Everyone\", \"Everyone 10+\", \"Everyone\", \"Everyone\", \"Everyone\", \"Mature 17+\", \"Everyone\", \"Teen\", \"Everyone\", \"Everyone\", \"Everyone\", \"Everyone\", \"Everyone 10+\", \"Everyone\", \"Everyone\", \"Everyone\", \"Everyone\", \"Everyone\", \"Mature 17+\", \"Teen\", \"Everyone\", \"Everyone\", \"Everyone\", \"Everyone\", \"Everyone\", \"Teen\", \"Everyone\", \"Teen\", \"Everyone\", \"Everyone\", \"Everyone\", \"Everyone\", \"Everyone\", \"Everyone\", \"Everyone\", \"Everyone 10+\", \"Everyone\", \"Everyone\", \"Everyone\", \"Everyone\", \"Everyone\", \"Everyone\", \"Everyone\", \"Everyone\", \"Everyone\", \"Teen\", \"Everyone\", \"Everyone\", \"Teen\", \"Everyone\", \"Everyone\", \"Everyone\", \"Everyone\", \"Everyone\", \"Everyone\", \"Everyone\", \"Everyone\", \"Everyone\", \"Mature 17+\", \"Mature 17+\", \"Mature 17+\", \"Teen\", \"Everyone\", \"Everyone\", \"Everyone\", \"Everyone\", \"Everyone\", \"Everyone\", \"Everyone\", \"Everyone 10+\", \"Everyone\", \"Everyone\", \"Everyone\", \"Teen\", \"Everyone\", \"Everyone\", \"Everyone\", \"Everyone\", \"Everyone\", \"Everyone\", \"Mature 17+\", \"Everyone\", \"Teen\", \"Everyone\", \"Everyone\", \"Everyone\", \"Everyone\", \"Everyone\", \"Everyone\", \"Everyone\", \"Everyone\", \"Everyone\", \"Teen\", \"Everyone\", \"Everyone\", \"Everyone\", \"Everyone\", \"Everyone\", \"Teen\", \"Everyone\", \"Everyone 10+\", \"Mature 17+\", \"Teen\", \"Everyone\", \"Everyone\", \"Everyone\", \"Everyone\", \"Everyone\", \"Everyone\", \"Everyone 10+\", \"Mature 17+\", \"Everyone\", \"Everyone\", \"Everyone\", \"Everyone\", \"Everyone\", \"Everyone 10+\", \"Teen\", \"Everyone\", \"Everyone\", \"Everyone\", \"Everyone\", \"Teen\", \"Everyone\", \"Everyone\", \"Everyone\", \"Teen\", \"Everyone\", \"Everyone\", \"Everyone\", \"Everyone\", \"Everyone\", \"Teen\", \"Everyone\", \"Everyone\", \"Everyone\", \"Everyone\", \"Everyone\", \"Mature 17+\", \"Everyone\", \"Adults only 18+\", \"Mature 17+\", \"Mature 17+\", \"Everyone\", \"Everyone\", \"Everyone\", \"Everyone\", \"Everyone\", \"Everyone\", \"Everyone\", \"Everyone\", \"Everyone\", \"Everyone\", \"Everyone\", \"Everyone\", \"Everyone\", \"Everyone\", \"Everyone\", \"Everyone\", \"Everyone\", \"Everyone\", \"Everyone\", \"Everyone\", \"Everyone\", \"Teen\", \"Everyone\", \"Mature 17+\", \"Everyone\", \"Everyone\", \"Everyone\", \"Everyone\", \"Everyone\", \"Everyone\", \"Everyone\", \"Everyone\", \"Everyone\", \"Mature 17+\", \"Mature 17+\", \"Everyone 10+\", \"Everyone\", \"Everyone\", \"Teen\", \"Everyone\", \"Everyone\", \"Everyone\", \"Everyone\", \"Everyone\", \"Everyone\", \"Everyone\", \"Everyone\", \"Everyone\", \"Mature 17+\", \"Everyone\", \"Everyone\", \"Everyone\", \"Everyone\", \"Everyone\", \"Teen\", \"Everyone\", \"Everyone\", \"Everyone\", \"Everyone\", \"Everyone\", \"Everyone\", \"Everyone 10+\", \"Everyone\", \"Everyone\", \"Everyone\", \"Teen\", \"Everyone\", \"Everyone\", \"Teen\", \"Everyone 10+\", \"Everyone\", \"Everyone\", \"Everyone\", \"Teen\", \"Everyone\", \"Everyone\", \"Everyone 10+\", \"Teen\", \"Everyone\", \"Everyone\", \"Everyone 10+\", \"Teen\", \"Everyone\", \"Everyone\", \"Everyone\", \"Teen\", \"Everyone\", \"Teen\", \"Teen\", \"Teen\", \"Everyone\", \"Teen\", \"Mature 17+\", \"Everyone 10+\", \"Everyone\", \"Everyone 10+\", \"Everyone\", \"Everyone\", \"Mature 17+\", \"Everyone\", \"Everyone\", \"Everyone\", \"Everyone\", \"Teen\", \"Everyone\", \"Everyone\", \"Everyone\", \"Everyone\", \"Mature 17+\", \"Teen\", \"Mature 17+\", \"Everyone\", \"Mature 17+\", \"Teen\", \"Everyone\", \"Teen\", \"Everyone\", \"Everyone\", \"Teen\", \"Everyone 10+\", \"Everyone 10+\", \"Teen\", \"Everyone 10+\", \"Teen\", \"Teen\", \"Everyone\", \"Everyone\", \"Everyone\", \"Everyone\", \"Everyone\", \"Everyone\", \"Everyone\", \"Everyone\", \"Everyone\", \"Mature 17+\", \"Everyone 10+\", \"Everyone\", \"Everyone\", \"Everyone\", \"Everyone\", \"Everyone\", \"Everyone\", \"Everyone\", \"Mature 17+\", \"Everyone\", \"Teen\", \"Everyone\", \"Everyone\", \"Everyone\", \"Everyone\", \"Everyone\", \"Everyone\", \"Everyone\", \"Everyone\", \"Everyone\", \"Teen\", \"Teen\", \"Teen\", \"Teen\", \"Teen\", \"Everyone\", \"Everyone\", \"Everyone\", \"Everyone\", \"Everyone\", \"Everyone\", \"Everyone\", \"Everyone\", \"Everyone\", \"Everyone\", \"Teen\", \"Everyone\", \"Mature 17+\", \"Teen\", \"Everyone\", \"Everyone\", \"Everyone\", \"Everyone\", \"Everyone\", \"Everyone\", \"Everyone 10+\", \"Teen\", \"Everyone\", \"Everyone\", \"Everyone\", \"Everyone\", \"Everyone\", \"Teen\", \"Teen\", \"Everyone\", \"Teen\", \"Everyone 10+\", \"Everyone\", \"Everyone\", \"Everyone\", \"Everyone\", \"Everyone\", \"Everyone\", \"Everyone 10+\", \"Everyone\", \"Everyone\", \"Everyone\", \"Everyone\", \"Everyone\", \"Teen\", \"Everyone 10+\", \"Everyone\", \"Everyone\", \"Everyone\", \"Everyone\", \"Everyone\", \"Everyone\", \"Everyone\", \"Everyone\", \"Everyone\", \"Everyone\", \"Everyone\", \"Everyone\", \"Everyone\", \"Everyone\", \"Everyone\", \"Everyone\", \"Everyone\", \"Everyone\", \"Everyone\", \"Everyone\", \"Everyone\", \"Teen\", \"Everyone 10+\", \"Teen\", \"Everyone\", \"Everyone\", \"Everyone\", \"Everyone\", \"Everyone\", \"Everyone\", \"Everyone\", \"Everyone\", \"Everyone\", \"Teen\", \"Mature 17+\", \"Everyone\", \"Teen\", \"Teen\", \"Everyone\", \"Teen\", \"Everyone\", \"Everyone\", \"Everyone\", \"Everyone\", \"Everyone\", \"Teen\", \"Everyone\", \"Everyone\", \"Everyone\", \"Teen\", \"Everyone\", \"Everyone\", \"Everyone\", \"Everyone\", \"Teen\", \"Everyone\", \"Everyone\", \"Everyone\", \"Teen\", \"Everyone\", \"Teen\", \"Teen\", \"Everyone\", \"Everyone 10+\", \"Mature 17+\", \"Everyone\", \"Everyone\", \"Everyone\", \"Everyone\", \"Everyone\", \"Everyone\", \"Everyone\", \"Mature 17+\", \"Everyone\", \"Teen\", \"Everyone\", \"Everyone\", \"Everyone\", \"Everyone\", \"Everyone\", \"Everyone\", \"Mature 17+\", \"Everyone\", \"Everyone\", \"Everyone\", \"Everyone\", \"Everyone\", \"Everyone\", \"Everyone 10+\", \"Teen\", \"Everyone\", \"Everyone\", \"Teen\", \"Teen\", \"Everyone\", \"Everyone\", \"Everyone\", \"Everyone\", \"Mature 17+\", \"Everyone\", \"Everyone\", \"Everyone\", \"Everyone\", \"Mature 17+\", \"Mature 17+\", \"Everyone\", \"Everyone\", \"Everyone\", \"Everyone\", \"Everyone\", \"Everyone\", \"Everyone\", \"Mature 17+\", \"Everyone\", \"Everyone 10+\", \"Everyone\", \"Mature 17+\", \"Everyone\", \"Everyone\", \"Everyone\", \"Everyone\", \"Everyone\", \"Everyone\", \"Everyone\", \"Everyone\", \"Everyone\", \"Everyone\", \"Everyone\", \"Everyone\", \"Everyone\", \"Everyone\", \"Everyone\", \"Everyone\", \"Everyone\", \"Teen\", \"Everyone\", \"Everyone\", \"Everyone\", \"Everyone\", \"Everyone\", \"Teen\", \"Everyone\", \"Everyone\", \"Everyone\", \"Everyone\", \"Everyone\", \"Everyone\", \"Everyone\", \"Everyone\", \"Everyone\", \"Everyone\", \"Everyone\", \"Everyone\", \"Everyone\", \"Everyone\", \"Everyone\", \"Everyone\", \"Teen\", \"Everyone\", \"Everyone\", \"Everyone\", \"Everyone\", \"Teen\", \"Teen\", \"Everyone\", \"Everyone\", \"Teen\", \"Everyone 10+\", \"Everyone\", \"Everyone\", \"Everyone\", \"Everyone\", \"Everyone\", \"Everyone 10+\", \"Teen\", \"Everyone\", \"Everyone\", \"Everyone\", \"Everyone\", \"Teen\", \"Everyone 10+\", \"Mature 17+\", \"Everyone\", \"Everyone\", \"Teen\", \"Everyone\", \"Everyone\", \"Everyone\", \"Teen\", \"Everyone\", \"Everyone\", \"Everyone\", \"Everyone\", \"Everyone\", \"Everyone\", \"Everyone 10+\", \"Everyone\", \"Everyone\", \"Teen\", \"Everyone\", \"Everyone\", \"Everyone\", \"Everyone\", \"Everyone\", \"Everyone\", \"Everyone\", \"Everyone\", \"Everyone\", \"Everyone\", \"Everyone\", \"Everyone\", \"Everyone\", \"Mature 17+\", \"Everyone\", \"Everyone\", \"Everyone\", \"Everyone\", \"Everyone 10+\", \"Everyone\", \"Teen\", \"Everyone\", \"Everyone\", \"Everyone 10+\", \"Everyone\", \"Everyone\", \"Everyone 10+\", \"Everyone\", \"Everyone\", \"Everyone\", \"Everyone\", \"Mature 17+\", \"Everyone\", \"Everyone\", \"Everyone\", \"Everyone\", \"Teen\", \"Teen\", \"Everyone\", \"Everyone\", \"Everyone\", \"Everyone 10+\", \"Everyone\", \"Everyone\", \"Everyone\", \"Everyone\", \"Everyone\", \"Everyone\", \"Everyone\", \"Everyone\", \"Everyone\", \"Everyone\", \"Everyone\", \"Everyone\", \"Everyone\", \"Teen\", \"Mature 17+\", \"Everyone\", \"Everyone\", \"Everyone\", \"Everyone\", \"Teen\", \"Everyone\", \"Everyone\", \"Everyone\", \"Everyone\", \"Everyone\", \"Mature 17+\", \"Everyone\", \"Everyone\", \"Everyone\", \"Mature 17+\", \"Everyone\", \"Everyone\", \"Teen\", \"Everyone\", \"Everyone\", \"Everyone\", \"Everyone\", \"Everyone\", \"Everyone\", \"Everyone\", \"Everyone\", \"Everyone 10+\", \"Everyone\", \"Everyone\", \"Everyone\", \"Everyone\", \"Mature 17+\", \"Everyone\", \"Everyone\", \"Everyone\", \"Everyone\", \"Everyone\", \"Everyone\", \"Everyone\", \"Everyone\", \"Everyone\", \"Everyone\", \"Everyone\", \"Everyone\", \"Everyone\", \"Everyone\", \"Everyone\", \"Everyone\", \"Everyone\", \"Everyone\", \"Everyone\", \"Teen\", \"Mature 17+\", \"Everyone\", \"Everyone\", \"Everyone\", \"Everyone\", \"Everyone\", \"Everyone\", \"Teen\", \"Everyone\", \"Everyone\", \"Mature 17+\", \"Mature 17+\", \"Everyone\", \"Everyone\", \"Everyone\", \"Everyone\", \"Everyone\", \"Everyone\", \"Everyone\", \"Everyone\", \"Teen\", \"Everyone\", \"Teen\", \"Everyone\", \"Teen\", \"Teen\", \"Teen\", \"Teen\", \"Teen\", \"Teen\", \"Everyone\", \"Everyone\", \"Everyone\", \"Everyone\", \"Everyone\", \"Everyone\", \"Everyone\", \"Everyone\", \"Everyone\", \"Everyone\", \"Everyone\", \"Everyone\", \"Everyone\", \"Everyone\", \"Everyone\", \"Everyone\", \"Everyone\", \"Everyone\", \"Teen\", \"Everyone\", \"Everyone\", \"Everyone\", \"Everyone\", \"Everyone\", \"Everyone\", \"Everyone\", \"Everyone\", \"Everyone\", \"Everyone\", \"Everyone\", \"Teen\", \"Everyone\", \"Everyone\", \"Everyone\", \"Everyone\", \"Everyone\", \"Everyone\", \"Everyone\", \"Everyone\", \"Everyone\", \"Everyone\", \"Everyone\", \"Everyone\", \"Everyone\", \"Everyone\", \"Everyone\", \"Everyone\", \"Everyone\", \"Everyone\", \"Everyone\", \"Everyone\", \"Everyone\", \"Everyone\", \"Everyone\", \"Everyone\", \"Everyone\", \"Everyone\", \"Everyone\", \"Everyone\", \"Teen\", \"Everyone\", \"Teen\", \"Teen\", \"Teen\", \"Teen\", \"Everyone\", \"Mature 17+\", \"Teen\", \"Teen\", \"Everyone 10+\", \"Everyone\", \"Everyone 10+\", \"Everyone\", \"Everyone\", \"Everyone\", \"Everyone\", \"Everyone 10+\", \"Everyone\", \"Teen\", \"Everyone\", \"Teen\", \"Teen\", \"Teen\", \"Everyone\", \"Everyone\", \"Everyone\", \"Everyone\", \"Everyone\", \"Everyone\", \"Everyone\", \"Everyone\", \"Teen\", \"Everyone 10+\", \"Everyone\", \"Teen\", \"Mature 17+\", \"Mature 17+\", \"Everyone\", \"Teen\", \"Everyone\", \"Everyone\", \"Everyone\", \"Everyone\", \"Everyone\", \"Everyone\", \"Teen\", \"Everyone\", \"Everyone\", \"Everyone\", \"Everyone\", \"Everyone\", \"Everyone\", \"Everyone\", \"Everyone\", \"Mature 17+\", \"Everyone\", \"Everyone\", \"Teen\", \"Everyone\", \"Everyone\", \"Everyone\", \"Everyone\", \"Everyone\", \"Everyone\", \"Everyone\", \"Everyone\", \"Everyone\", \"Everyone\", \"Teen\", \"Everyone\", \"Everyone\", \"Everyone\", \"Everyone\", \"Everyone\", \"Everyone\", \"Everyone\", \"Everyone\", \"Everyone\", \"Everyone\", \"Everyone\", \"Everyone\", \"Everyone\", \"Everyone\", \"Everyone\", \"Everyone\", \"Everyone\", \"Everyone\", \"Everyone\", \"Everyone\", \"Everyone\", \"Everyone\", \"Everyone\", \"Everyone\", \"Everyone\", \"Everyone\", \"Everyone\", \"Everyone\", \"Everyone\", \"Everyone\", \"Mature 17+\", \"Everyone\", \"Everyone\", \"Everyone\", \"Everyone\", \"Teen\", \"Teen\", \"Teen\", \"Everyone\", \"Everyone\", \"Everyone\", \"Everyone\", \"Everyone 10+\", \"Everyone 10+\", \"Mature 17+\", \"Everyone\", \"Teen\", \"Everyone\", \"Everyone 10+\", \"Everyone 10+\", \"Teen\", \"Everyone\", \"Everyone 10+\", \"Mature 17+\", \"Everyone\", \"Everyone\", \"Teen\", \"Everyone 10+\", \"Everyone\", \"Everyone\", \"Everyone\", \"Everyone\", \"Everyone\", \"Teen\", \"Teen\", \"Teen\", \"Everyone\", \"Mature 17+\", \"Teen\", \"Everyone\", \"Everyone\", \"Teen\", \"Everyone\", \"Everyone\", \"Everyone\", \"Everyone\", \"Everyone\", \"Everyone\", \"Everyone\", \"Everyone\", \"Everyone\", \"Everyone\", \"Everyone\", \"Everyone\", \"Everyone\", \"Everyone 10+\", \"Everyone\", \"Everyone\", \"Everyone\", \"Everyone\", \"Mature 17+\", \"Everyone\", \"Everyone\", \"Everyone\", \"Everyone\", \"Everyone\", \"Everyone\", \"Everyone\", \"Everyone\", \"Everyone\", \"Everyone\", \"Everyone\", \"Everyone\", \"Everyone\", \"Everyone\", \"Everyone\", \"Everyone\", \"Everyone\", \"Everyone\", \"Everyone\", \"Mature 17+\", \"Teen\", \"Mature 17+\", \"Teen\", \"Everyone 10+\", \"Everyone\", \"Everyone\", \"Everyone\", \"Teen\", \"Everyone\", \"Everyone\", \"Everyone\", \"Teen\", \"Mature 17+\", \"Mature 17+\", \"Everyone\", \"Everyone\", \"Everyone\", \"Everyone\", \"Everyone\", \"Everyone\", \"Everyone\", \"Everyone\", \"Everyone\", \"Everyone\", \"Everyone\", \"Everyone\", \"Mature 17+\", \"Everyone\", \"Everyone\", \"Everyone\", \"Everyone\", \"Everyone\", \"Mature 17+\", \"Everyone\", \"Everyone\", \"Everyone\", \"Everyone\", \"Teen\", \"Everyone\", \"Everyone\", \"Everyone\", \"Everyone\", \"Everyone\", \"Everyone\", \"Everyone\", \"Everyone\", \"Everyone\", \"Everyone 10+\", \"Teen\", \"Mature 17+\", \"Everyone\", \"Everyone\", \"Everyone\", \"Everyone\", \"Everyone\", \"Everyone\", \"Everyone\", \"Everyone\", \"Teen\", \"Teen\", \"Teen\", \"Everyone\", \"Teen\", \"Everyone 10+\", \"Everyone\", \"Everyone\", \"Teen\", \"Everyone\", \"Everyone\", \"Everyone\", \"Everyone\", \"Mature 17+\", \"Everyone\", \"Everyone\", \"Teen\", \"Everyone\", \"Mature 17+\", \"Teen\", \"Everyone\", \"Everyone\", \"Everyone\", \"Everyone\", \"Everyone 10+\", \"Everyone\", \"Everyone\", \"Everyone 10+\", \"Teen\", \"Everyone\", \"Everyone\", \"Everyone\", \"Everyone\", \"Everyone\", \"Everyone\", \"Everyone\", \"Everyone\", \"Everyone\", \"Everyone\", \"Everyone\", \"Everyone\", \"Everyone\", \"Teen\", \"Teen\", \"Everyone\", \"Everyone\", \"Everyone\", \"Everyone\", \"Everyone\", \"Everyone\", \"Everyone\", \"Everyone\", \"Teen\", \"Everyone 10+\", \"Everyone\", \"Everyone 10+\", \"Everyone\", \"Everyone\", \"Everyone\", \"Everyone\", \"Everyone\", \"Everyone\", \"Everyone\", \"Everyone\", \"Everyone\", \"Everyone\", \"Everyone\", \"Everyone\", \"Everyone\", \"Mature 17+\", \"Everyone\", \"Everyone\", \"Everyone\", \"Everyone\", \"Everyone\", \"Everyone\", \"Everyone\", \"Everyone\", \"Everyone\", \"Everyone\", \"Everyone\", \"Everyone\", \"Everyone\", \"Everyone\", \"Everyone 10+\", \"Everyone\", \"Everyone\", \"Everyone\", \"Everyone\", \"Everyone\", \"Everyone\", \"Everyone 10+\", \"Everyone\", \"Everyone\", \"Everyone\", \"Everyone\", \"Everyone\", \"Everyone\", \"Everyone\", \"Mature 17+\", \"Everyone\", \"Everyone\", \"Teen\", \"Teen\", \"Everyone\", \"Everyone\", \"Everyone\", \"Everyone\", \"Everyone\", \"Everyone\", \"Teen\", \"Everyone\", \"Everyone\", \"Everyone 10+\", \"Everyone\", \"Everyone\", \"Everyone\", \"Teen\", \"Everyone\", \"Everyone\", \"Everyone\", \"Everyone\", \"Everyone\", \"Everyone\", \"Everyone\", \"Everyone\", \"Everyone\", \"Everyone\", \"Everyone\", \"Everyone\", \"Everyone\", \"Everyone\", \"Everyone\", \"Everyone\", \"Everyone\", \"Everyone\", \"Everyone\", \"Everyone\", \"Everyone\", \"Everyone\", \"Everyone\", \"Everyone\", \"Everyone\", \"Everyone\", \"Everyone\", \"Everyone\", \"Everyone\", \"Everyone\", \"Everyone\", \"Everyone\", \"Everyone\", \"Everyone\", \"Everyone\", \"Everyone\", \"Everyone\", \"Everyone\", \"Mature 17+\", \"Everyone\", \"Mature 17+\", \"Everyone\", \"Teen\", \"Everyone\", \"Everyone\", \"Everyone\", \"Teen\", \"Everyone\", \"Everyone\", \"Everyone\", \"Everyone\", \"Everyone\", \"Everyone\", \"Everyone\", \"Everyone\", \"Everyone\", \"Everyone\", \"Everyone\", \"Everyone\", \"Everyone\", \"Everyone\", \"Everyone\", \"Everyone\", \"Everyone\", \"Everyone\", \"Teen\", \"Everyone\", \"Everyone\", \"Everyone\", \"Everyone\", \"Everyone\", \"Everyone\", \"Teen\", \"Everyone\", \"Teen\", \"Mature 17+\", \"Everyone\", \"Everyone\", \"Mature 17+\", \"Everyone\", \"Everyone\", \"Everyone\", \"Everyone\", \"Everyone\", \"Everyone\", \"Everyone\", \"Teen\", \"Everyone\", \"Everyone\", \"Everyone\", \"Everyone\", \"Everyone\", \"Everyone\", \"Everyone\", \"Everyone\", \"Teen\", \"Teen\", \"Everyone\", \"Everyone\", \"Everyone 10+\", \"Everyone\", \"Everyone\", \"Everyone\", \"Everyone\", \"Everyone\", \"Everyone\", \"Everyone\", \"Everyone\", \"Everyone\", \"Everyone\", \"Everyone\", \"Everyone\", \"Everyone\", \"Teen\", \"Everyone\", \"Everyone\", \"Everyone 10+\", \"Everyone\", \"Everyone\", \"Everyone 10+\", \"Everyone\", \"Everyone\", \"Everyone\", \"Teen\", \"Teen\", \"Everyone\", \"Everyone\", \"Everyone\", \"Teen\", \"Everyone\", \"Teen\", \"Everyone\", \"Everyone 10+\", \"Everyone\", \"Everyone\", \"Everyone\", \"Everyone\", \"Teen\", \"Everyone\", \"Everyone\", \"Everyone\", \"Everyone\", \"Mature 17+\", \"Everyone\", \"Everyone\", \"Everyone\", \"Everyone\", \"Everyone\", \"Everyone\", \"Everyone\", \"Everyone\", \"Mature 17+\", \"Teen\", \"Everyone\", \"Everyone\", \"Everyone\", \"Everyone\", \"Everyone\", \"Everyone\", \"Teen\", \"Teen\", \"Everyone\", \"Everyone\", \"Everyone\", \"Everyone\", \"Everyone\", \"Everyone\", \"Everyone\", \"Everyone\", \"Teen\", \"Everyone\", \"Everyone\", \"Everyone\", \"Everyone\", \"Everyone\", \"Everyone\", \"Everyone\", \"Everyone\", \"Everyone\", \"Everyone\", \"Everyone\", \"Everyone\", \"Everyone\", \"Everyone\", \"Mature 17+\", \"Mature 17+\", \"Teen\", \"Everyone\", \"Mature 17+\", \"Mature 17+\", \"Everyone\", \"Everyone\", \"Everyone\", \"Everyone\", \"Everyone\", \"Everyone\", \"Everyone\", \"Everyone\", \"Everyone\", \"Everyone\", \"Everyone\", \"Everyone\", \"Everyone\", \"Everyone\", \"Everyone\", \"Everyone\", \"Everyone\", \"Everyone\", \"Everyone\", \"Everyone\", \"Everyone\", \"Everyone\", \"Everyone\", \"Everyone\", \"Everyone\", \"Everyone\", \"Everyone 10+\", \"Teen\", \"Everyone\", \"Everyone\", \"Everyone\", \"Everyone\", \"Everyone\", \"Everyone\", \"Everyone\", \"Everyone\", \"Everyone\", \"Everyone\", \"Everyone\", \"Everyone\", \"Everyone\", \"Everyone\", \"Everyone\", \"Everyone 10+\", \"Everyone\", \"Teen\", \"Everyone\", \"Teen\", \"Adults only 18+\", \"Everyone\", \"Everyone\", \"Everyone\", \"Everyone\", \"Everyone\", \"Teen\", \"Everyone\", \"Everyone 10+\", \"Everyone\", \"Everyone\", \"Everyone\", \"Everyone\", \"Everyone\", \"Everyone\", \"Everyone\", \"Everyone\", \"Everyone\", \"Everyone\", \"Mature 17+\", \"Teen\", \"Everyone 10+\", \"Everyone 10+\", \"Everyone\", \"Everyone\", \"Everyone\", \"Everyone\", \"Everyone\", \"Everyone\", \"Everyone\", \"Everyone\", \"Everyone 10+\", \"Everyone\", \"Everyone 10+\", \"Mature 17+\", \"Teen\", \"Everyone\", \"Everyone\", \"Everyone 10+\", \"Everyone\", \"Everyone\", \"Everyone\", \"Everyone\", \"Everyone\", \"Everyone\", \"Teen\", \"Everyone\", \"Everyone\", \"Everyone\", \"Everyone\", \"Everyone\", \"Everyone\", \"Everyone\", \"Everyone\", \"Everyone\", \"Everyone\", \"Everyone\", \"Teen\", \"Everyone\", \"Everyone\", \"Everyone\", \"Everyone\", \"Everyone\", \"Everyone\", \"Everyone\", \"Everyone\", \"Mature 17+\", \"Mature 17+\", \"Everyone\", \"Everyone\", \"Teen\", \"Everyone\", \"Teen\", \"Everyone\", \"Everyone\", \"Everyone 10+\", \"Everyone\", \"Everyone\", \"Teen\", \"Everyone\", \"Everyone\", \"Everyone\", \"Everyone\", \"Everyone\", \"Everyone\", \"Everyone\", \"Everyone\", \"Everyone\", \"Everyone\", \"Everyone\", \"Everyone\", \"Everyone\", \"Everyone\", \"Everyone\", \"Everyone\", \"Everyone\", \"Everyone\", \"Everyone\", \"Everyone\", \"Everyone\", \"Everyone\", \"Everyone\", \"Everyone\", \"Everyone\", \"Everyone\", \"Everyone\", \"Teen\", \"Everyone\", \"Everyone\", \"Everyone\", \"Everyone\", \"Everyone\", \"Everyone\", \"Teen\", \"Everyone\", \"Everyone\", \"Everyone\", \"Everyone\", \"Everyone\", \"Everyone\", \"Mature 17+\", \"Everyone\", \"Everyone\", \"Everyone\", \"Everyone\", \"Everyone\", \"Everyone\", \"Everyone\", \"Everyone\", \"Everyone\", \"Everyone\", \"Everyone\", \"Everyone\", \"Everyone\", \"Everyone\", \"Mature 17+\", \"Everyone\", \"Everyone\", \"Everyone\", \"Everyone 10+\", \"Everyone\", \"Everyone 10+\", \"Everyone\", \"Everyone 10+\", \"Everyone\", \"Teen\", \"Everyone\", \"Everyone\", \"Everyone\", \"Everyone\", \"Everyone\", \"Everyone\", \"Everyone\", \"Everyone\", \"Everyone\", \"Teen\", \"Everyone\", \"Everyone\", \"Everyone\", \"Everyone 10+\", \"Everyone 10+\", \"Everyone\", \"Everyone\", \"Everyone\", \"Everyone\", \"Everyone\", \"Teen\", \"Everyone 10+\", \"Everyone 10+\", \"Teen\", \"Teen\", \"Everyone\", \"Everyone\", \"Teen\", \"Everyone\", \"Mature 17+\", \"Mature 17+\", \"Teen\", \"Teen\", \"Teen\", \"Everyone\", \"Teen\", \"Everyone\", \"Everyone\", \"Teen\", \"Everyone\", \"Everyone\", \"Everyone\", \"Teen\", \"Everyone\", \"Everyone\", \"Everyone\", \"Everyone\", \"Everyone\", \"Teen\", \"Everyone\", \"Mature 17+\", \"Everyone\", \"Everyone\", \"Everyone\", \"Everyone\", \"Teen\", \"Everyone\", \"Teen\", \"Everyone\", \"Everyone\", \"Everyone\", \"Everyone\", \"Teen\", \"Everyone\", \"Everyone\", \"Everyone\", \"Everyone\", \"Everyone\", \"Teen\", \"Everyone\", \"Everyone\", \"Everyone\", \"Mature 17+\", \"Everyone\", \"Everyone\", \"Teen\", \"Everyone\", \"Teen\", \"Everyone\", \"Everyone\", \"Everyone\", \"Everyone\", \"Everyone\", \"Everyone\", \"Everyone\", \"Teen\", \"Everyone 10+\", \"Teen\", \"Everyone 10+\", \"Everyone\", \"Everyone\", \"Everyone\", \"Everyone\", \"Everyone\", \"Everyone\", \"Everyone\", \"Everyone\", \"Everyone\", \"Everyone\", \"Everyone\", \"Everyone\", \"Everyone\", \"Everyone\", \"Everyone\", \"Mature 17+\", \"Everyone\", \"Mature 17+\", \"Everyone\", \"Everyone\", \"Everyone\", \"Everyone\", \"Mature 17+\", \"Everyone\", \"Everyone\", \"Everyone\", \"Everyone\", \"Everyone\", \"Teen\", \"Teen\", \"Everyone\", \"Mature 17+\", \"Teen\", \"Teen\", \"Teen\", \"Teen\", \"Teen\", \"Everyone\", \"Everyone\", \"Everyone\", \"Everyone\", \"Everyone\", \"Everyone\", \"Everyone\", \"Everyone\", \"Everyone\", \"Everyone\", \"Everyone\", \"Everyone\", \"Everyone\", \"Everyone\", \"Everyone\", \"Everyone\", \"Everyone\", \"Everyone\", \"Everyone\", \"Everyone\", \"Teen\", \"Everyone 10+\", \"Everyone\", \"Everyone\", \"Everyone\", \"Everyone\", \"Teen\", \"Teen\", \"Everyone 10+\", \"Everyone\", \"Everyone\", \"Teen\", \"Everyone\", \"Everyone\", \"Teen\", \"Everyone\", \"Everyone\", \"Everyone\", \"Everyone\", \"Everyone\", \"Everyone\", \"Everyone\", \"Everyone\", \"Everyone\", \"Everyone\", \"Everyone\", \"Everyone\", \"Mature 17+\", \"Teen\", \"Mature 17+\", \"Mature 17+\", \"Everyone 10+\", \"Everyone\", \"Everyone\", \"Everyone\", \"Everyone\", \"Everyone\", \"Everyone\", \"Everyone\", \"Everyone\", \"Mature 17+\", \"Everyone\", \"Everyone\", \"Everyone\", \"Teen\", \"Everyone\", \"Teen\", \"Everyone 10+\", \"Everyone\", \"Everyone\", \"Everyone\", \"Everyone\", \"Teen\", \"Everyone\", \"Everyone\", \"Everyone\", \"Everyone\", \"Everyone 10+\", \"Teen\", \"Everyone\", \"Everyone\", \"Everyone\", \"Everyone\", \"Everyone\", \"Everyone\", \"Everyone 10+\", \"Everyone\", \"Everyone\", \"Everyone\", \"Everyone\", \"Everyone\", \"Teen\", \"Everyone\", \"Everyone\", \"Everyone\", \"Everyone\", \"Everyone\", \"Everyone\", \"Everyone\", \"Everyone\", \"Everyone\", \"Everyone\", \"Everyone\", \"Everyone\", \"Everyone\", \"Everyone\", \"Everyone\", \"Everyone\", \"Everyone\", \"Everyone\", \"Everyone\", \"Everyone\", \"Everyone\", \"Everyone\", \"Everyone\", \"Everyone\", \"Everyone\", \"Teen\", \"Everyone\", \"Everyone\", \"Everyone\", \"Everyone\", \"Everyone\", \"Everyone\", \"Everyone 10+\", \"Everyone\", \"Everyone\", \"Everyone\", \"Mature 17+\", \"Everyone\", \"Teen\", \"Everyone\", \"Teen\", \"Everyone\", \"Everyone\", \"Everyone\", \"Everyone\", \"Teen\", \"Everyone\", \"Everyone\", \"Everyone\", \"Everyone\", \"Everyone\", \"Everyone\", \"Everyone\", \"Everyone\", \"Mature 17+\", \"Everyone\", \"Teen\", \"Everyone\", \"Everyone\", \"Everyone\", \"Teen\", \"Everyone\", \"Mature 17+\", \"Everyone\", \"Everyone\", \"Everyone\", \"Everyone\", \"Everyone\", \"Mature 17+\", \"Teen\", \"Everyone\", \"Everyone\", \"Everyone\", \"Teen\", \"Everyone\", \"Teen\", \"Everyone\", \"Teen\", \"Everyone\", \"Teen\", \"Teen\", \"Everyone\", \"Everyone\", \"Everyone\", \"Everyone\", \"Everyone 10+\", \"Teen\", \"Everyone\", \"Mature 17+\", \"Everyone\", \"Teen\", \"Everyone\", \"Everyone\", \"Everyone\", \"Teen\", \"Everyone\", \"Everyone\", \"Mature 17+\", \"Everyone\", \"Everyone\", \"Everyone\", \"Everyone\", \"Everyone\", \"Everyone\", \"Everyone\", \"Everyone\", \"Everyone\", \"Everyone\", \"Everyone\", \"Teen\", \"Teen\", \"Everyone\", \"Everyone\", \"Everyone\", \"Everyone\", \"Mature 17+\", \"Everyone\", \"Everyone\", \"Everyone 10+\", \"Everyone\", \"Teen\", \"Teen\", \"Everyone\", \"Everyone\", \"Everyone\", \"Everyone\", \"Everyone\", \"Everyone\", \"Teen\", \"Everyone\", \"Everyone\", \"Teen\", \"Teen\", \"Everyone\", \"Everyone\", \"Everyone\", \"Mature 17+\", \"Everyone\", \"Everyone\", \"Everyone\", \"Everyone\", \"Everyone\", \"Teen\", \"Everyone\", \"Everyone\", \"Everyone\", \"Everyone 10+\", \"Everyone 10+\", \"Everyone\", \"Everyone\", \"Everyone\", \"Everyone\", \"Everyone\", \"Teen\", \"Everyone\", \"Everyone\", \"Everyone\", \"Everyone\", \"Everyone\", \"Everyone\", \"Everyone\", \"Everyone\", \"Everyone\", \"Everyone\", \"Everyone\", \"Everyone\", \"Teen\", \"Everyone\", \"Everyone\", \"Everyone\", \"Everyone\", \"Mature 17+\", \"Everyone\", \"Everyone\", \"Everyone\", \"Everyone\", \"Everyone\", \"Everyone\", \"Everyone\", \"Teen\", \"Teen\", \"Teen\", \"Teen\", \"Teen\", \"Everyone\", \"Everyone\", \"Everyone\", \"Everyone\", \"Everyone\", \"Everyone\", \"Everyone\", \"Everyone\", \"Everyone\", \"Everyone\", \"Everyone\", \"Everyone\", \"Everyone\", \"Teen\", \"Everyone\", \"Everyone\", \"Everyone\", \"Everyone\", \"Everyone\", \"Everyone\", \"Teen\", \"Everyone\", \"Everyone\", \"Everyone\", \"Everyone\", \"Everyone\", \"Everyone\", \"Everyone\", \"Everyone\", \"Everyone 10+\", \"Mature 17+\", \"Everyone\", \"Everyone\", \"Everyone\", \"Everyone\", \"Everyone\", \"Everyone\", \"Everyone\", \"Everyone\", \"Everyone\", \"Mature 17+\", \"Teen\", \"Everyone\", \"Everyone\", \"Teen\", \"Everyone\", \"Everyone\", \"Everyone\", \"Teen\", \"Teen\", \"Everyone\", \"Teen\", \"Mature 17+\", \"Mature 17+\", \"Mature 17+\", \"Everyone\", \"Everyone\", \"Everyone\", \"Everyone\", \"Everyone\", \"Everyone\", \"Everyone\", \"Everyone\", \"Everyone\", \"Everyone\", \"Everyone\", \"Mature 17+\", \"Everyone\", \"Everyone\", \"Everyone\", \"Everyone 10+\", \"Everyone\", \"Everyone\", \"Everyone\", \"Everyone\", \"Everyone\", \"Everyone\", \"Everyone\", \"Everyone\", \"Everyone\", \"Everyone\", \"Everyone\", \"Everyone\", \"Everyone\", \"Everyone\", \"Everyone\", \"Everyone\", \"Everyone\", \"Everyone\", \"Everyone\", \"Everyone\", \"Everyone\", \"Everyone\", \"Everyone\", \"Everyone\", \"Everyone\", \"Everyone\", \"Everyone\", \"Everyone\", \"Everyone\", \"Everyone\", \"Everyone\", \"Everyone\", \"Everyone\", \"Everyone\", \"Everyone\", \"Everyone\", \"Everyone\", \"Everyone 10+\", \"Everyone 10+\", \"Everyone 10+\", \"Everyone 10+\", \"Everyone 10+\", \"Everyone\", \"Everyone\", \"Everyone\", \"Everyone\", \"Everyone\", \"Everyone\", \"Everyone\", \"Everyone\", \"Everyone\", \"Everyone\", \"Teen\", \"Everyone\", \"Everyone\", \"Everyone\", \"Everyone\", \"Everyone\", \"Everyone\", \"Everyone\", \"Mature 17+\", \"Everyone\", \"Everyone\", \"Everyone\", \"Everyone\", \"Everyone\", \"Everyone\", \"Everyone\", \"Everyone\", \"Everyone\", \"Teen\", \"Everyone\", \"Everyone\", \"Teen\", \"Everyone\", \"Everyone\", \"Teen\", \"Everyone\", \"Everyone\", \"Everyone\", \"Everyone\", \"Everyone\", \"Everyone\", \"Everyone\", \"Everyone\", \"Everyone\", \"Everyone\", \"Everyone\", \"Everyone\", \"Everyone\", \"Everyone 10+\", \"Everyone\", \"Everyone\", \"Everyone\", \"Everyone\", \"Everyone\", \"Everyone\", \"Everyone\", \"Everyone\", \"Everyone\", \"Everyone\", \"Everyone\", \"Teen\", \"Everyone\", \"Everyone\", \"Everyone\", \"Everyone\", \"Everyone\", \"Everyone\", \"Everyone\", \"Everyone\", \"Everyone\", \"Teen\", \"Teen\", \"Everyone\", \"Everyone\", \"Everyone\", \"Everyone\", \"Everyone\", \"Everyone\", \"Teen\", \"Teen\", \"Teen\", \"Everyone\", \"Everyone\", \"Teen\", \"Everyone\", \"Everyone\", \"Everyone\", \"Teen\", \"Everyone\", \"Everyone\", \"Everyone\", \"Everyone\", \"Teen\", \"Teen\", \"Everyone\", \"Mature 17+\", \"Teen\", \"Teen\", \"Everyone\", \"Everyone\", \"Everyone\", \"Teen\", \"Everyone\", \"Everyone\", \"Everyone\", \"Everyone\", \"Everyone\", \"Teen\", \"Everyone\", \"Teen\", \"Everyone\", \"Teen\", \"Everyone 10+\", \"Everyone\", \"Teen\", \"Everyone\", \"Everyone\", \"Everyone\", \"Teen\", \"Teen\", \"Teen\", \"Everyone\", \"Everyone\", \"Everyone\", \"Everyone\", \"Teen\", \"Mature 17+\", \"Everyone\", \"Everyone\", \"Everyone\", \"Everyone\", \"Everyone\", \"Teen\", \"Everyone\", \"Everyone\", \"Everyone\", \"Everyone 10+\", \"Everyone\", \"Everyone\", \"Teen\", \"Teen\", \"Everyone\", \"Everyone\", \"Everyone\", \"Everyone\", \"Everyone\", \"Everyone\", \"Everyone\", \"Everyone\", \"Mature 17+\", \"Everyone\", \"Everyone\", \"Everyone\", \"Teen\", \"Everyone\", \"Everyone\", \"Teen\", \"Everyone\", \"Mature 17+\", \"Everyone\", \"Everyone\", \"Everyone\", \"Everyone\", \"Everyone\", \"Everyone\", \"Everyone\", \"Everyone\", \"Everyone\", \"Everyone\", \"Everyone\", \"Teen\", \"Everyone\", \"Everyone\", \"Everyone\", \"Everyone\", \"Everyone\", \"Everyone\", \"Everyone\", \"Everyone\", \"Everyone\", \"Everyone\", \"Everyone\", \"Teen\", \"Everyone\", \"Everyone\", \"Everyone\", \"Everyone\", \"Everyone\", \"Everyone\", \"Everyone\", \"Everyone\", \"Everyone 10+\", \"Everyone\", \"Everyone\", \"Everyone\", \"Teen\", \"Everyone\", \"Everyone\", \"Everyone\", \"Everyone\", \"Everyone\", \"Everyone\", \"Everyone\", \"Teen\", \"Teen\", \"Everyone\", \"Everyone\", \"Everyone\", \"Everyone\", \"Everyone\", \"Everyone\", \"Everyone\", \"Everyone\", \"Everyone\", \"Everyone\", \"Everyone\", \"Everyone\", \"Everyone\", \"Mature 17+\", \"Everyone\", \"Everyone\", \"Teen\", \"Everyone\", \"Everyone\", \"Everyone 10+\", \"Teen\", \"Everyone\", \"Everyone\", \"Everyone\", \"Everyone 10+\", \"Teen\", \"Everyone\", \"Teen\", \"Teen\", \"Everyone\", \"Everyone\", \"Everyone\", \"Everyone\", \"Everyone\", \"Everyone\", \"Teen\", \"Everyone\", \"Everyone\", \"Everyone\", \"Everyone\", \"Everyone\", \"Teen\", \"Everyone\", \"Everyone\", \"Everyone\", \"Everyone\", \"Everyone\", \"Everyone\", \"Everyone\", \"Teen\", \"Everyone\", \"Everyone\", \"Everyone\", \"Everyone\", \"Everyone\", \"Everyone\", \"Mature 17+\", \"Everyone\", \"Everyone 10+\", \"Everyone\", \"Mature 17+\", \"Everyone 10+\", \"Everyone 10+\", \"Everyone\", \"Teen\", \"Everyone\", \"Teen\", \"Everyone\", \"Everyone\", \"Everyone\", \"Everyone 10+\", \"Teen\", \"Teen\", \"Teen\", \"Everyone\", \"Everyone\", \"Everyone\", \"Everyone\", \"Teen\", \"Everyone\", \"Everyone\", \"Everyone\", \"Mature 17+\", \"Everyone\", \"Teen\", \"Everyone 10+\", \"Teen\", \"Everyone\", \"Teen\", \"Everyone\", \"Teen\", \"Teen\", \"Teen\", \"Teen\", \"Teen\", \"Everyone\", \"Everyone\", \"Everyone\", \"Teen\", \"Mature 17+\", \"Everyone\", \"Teen\", \"Everyone 10+\", \"Teen\", \"Everyone 10+\", \"Everyone\", \"Everyone 10+\", \"Teen\", \"Teen\", \"Everyone\", \"Everyone\", \"Everyone\", \"Everyone\", \"Everyone\", \"Teen\", \"Everyone\", \"Everyone\", \"Teen\", \"Everyone\", \"Everyone\", \"Everyone\", \"Everyone\", \"Mature 17+\", \"Everyone 10+\", \"Everyone\", \"Everyone\", \"Everyone\", \"Everyone\", \"Teen\", \"Everyone\", \"Everyone\", \"Everyone\", \"Everyone 10+\", \"Everyone\", \"Everyone\", \"Everyone\", \"Teen\", \"Teen\", \"Everyone\", \"Everyone\", \"Everyone\", \"Everyone\", \"Everyone\", \"Everyone 10+\", \"Mature 17+\", \"Mature 17+\", \"Everyone\", \"Everyone\", \"Everyone\", \"Everyone\", \"Everyone\", \"Mature 17+\", \"Mature 17+\", \"Everyone\", \"Everyone\", \"Everyone\", \"Everyone\", \"Everyone\", \"Everyone\", \"Teen\", \"Teen\", \"Mature 17+\", \"Everyone\", \"Everyone\", \"Everyone\", \"Everyone\", \"Everyone\", \"Everyone\", \"Teen\", \"Teen\", \"Everyone 10+\", \"Everyone\", \"Everyone\", \"Teen\", \"Teen\", \"Everyone\", \"Teen\", \"Everyone\", \"Everyone\", \"Everyone\", \"Everyone\", \"Everyone\", \"Everyone\", \"Everyone\", \"Everyone\", \"Everyone\", \"Everyone\", \"Teen\", \"Everyone\", \"Teen\", \"Everyone\", \"Everyone\", \"Everyone\", \"Teen\", \"Teen\", \"Everyone\", \"Everyone\", \"Everyone\", \"Everyone\", \"Everyone\", \"Everyone\", \"Everyone\", \"Mature 17+\", \"Everyone\", \"Everyone 10+\", \"Teen\", \"Everyone\", \"Everyone 10+\", \"Everyone\", \"Everyone\", \"Everyone\", \"Everyone\", \"Everyone\", \"Mature 17+\", \"Everyone\", \"Mature 17+\", \"Everyone\", \"Everyone\", \"Everyone\", \"Everyone\", \"Teen\", \"Everyone\", \"Teen\", \"Everyone\", \"Everyone\", \"Everyone\", \"Everyone\", \"Everyone\", \"Everyone\", \"Teen\", \"Everyone\", \"Teen\", \"Everyone\", \"Everyone\", \"Everyone\", \"Teen\", \"Everyone\", \"Everyone 10+\", \"Everyone\", \"Everyone\", \"Everyone\", \"Everyone\", \"Everyone\", \"Teen\", \"Teen\", \"Everyone 10+\", \"Mature 17+\", \"Everyone\", \"Everyone\", \"Everyone\", \"Everyone\", \"Everyone\", \"Teen\", \"Everyone\", \"Everyone\", \"Everyone 10+\", \"Everyone\", \"Everyone\", \"Everyone\", \"Everyone\", \"Everyone\", \"Everyone\", \"Everyone 10+\", \"Everyone\", \"Everyone\", \"Everyone\", \"Everyone\", \"Everyone\", \"Everyone\", \"Everyone\", \"Mature 17+\", \"Teen\", \"Everyone\", \"Everyone 10+\", \"Everyone\", \"Everyone\", \"Everyone\", \"Everyone\", \"Everyone\", \"Teen\", \"Everyone\", \"Everyone\", \"Everyone\", \"Everyone\", \"Teen\", \"Teen\", \"Everyone\", \"Everyone\", \"Everyone\", \"Everyone\", \"Everyone\", \"Everyone\", \"Everyone\", \"Everyone\", \"Everyone\", \"Everyone\", \"Everyone\", \"Everyone\", \"Teen\", \"Everyone\", \"Teen\", \"Everyone\", \"Everyone\", \"Everyone\", \"Everyone\", \"Everyone\", \"Everyone\", \"Everyone\", \"Everyone\", \"Everyone\", \"Everyone\", \"Everyone\", \"Everyone\", \"Everyone\", \"Teen\", \"Everyone\", \"Everyone\", \"Everyone\", \"Everyone\", \"Everyone\", \"Everyone\", \"Everyone\", \"Everyone\", \"Everyone\", \"Everyone\", \"Everyone\", \"Everyone\", \"Everyone\", \"Everyone\", \"Everyone\", \"Everyone\", \"Everyone\", \"Everyone\", \"Everyone\", \"Mature 17+\", \"Mature 17+\", \"Mature 17+\", \"Mature 17+\", \"Mature 17+\", \"Everyone\", \"Everyone\", \"Everyone\", \"Everyone\", \"Everyone\", \"Everyone\", \"Everyone\", \"Teen\", \"Teen\", \"Everyone\", \"Teen\", \"Teen\", \"Teen\", \"Mature 17+\", \"Teen\", \"Teen\", \"Everyone\", \"Teen\", \"Everyone\", \"Everyone\", \"Everyone\", \"Everyone\", \"Everyone\", \"Everyone\", \"Everyone\", \"Teen\", \"Everyone\", \"Everyone\", \"Everyone\", \"Everyone\", \"Everyone\", \"Everyone\", \"Everyone\", \"Everyone\", \"Teen\", \"Everyone\", \"Everyone\", \"Everyone\", \"Everyone\", \"Everyone\", \"Everyone\", \"Everyone\", \"Everyone\", \"Everyone\", \"Everyone\", \"Everyone\", \"Everyone\", \"Everyone\", \"Everyone\", \"Everyone\", \"Everyone\", \"Everyone\", \"Everyone\", \"Mature 17+\", \"Everyone\", \"Everyone\", \"Everyone\", \"Everyone\", \"Everyone 10+\", \"Teen\", \"Everyone\", \"Everyone 10+\", \"Everyone\", \"Everyone 10+\", \"Everyone\", \"Teen\", \"Everyone\", \"Everyone\", \"Teen\", \"Teen\", \"Teen\", \"Everyone\", \"Teen\", \"Everyone\", \"Teen\", \"Teen\", \"Everyone\", \"Mature 17+\", \"Everyone\", \"Everyone\", \"Everyone\", \"Everyone\", \"Everyone\", \"Everyone 10+\", \"Everyone\", \"Everyone\", \"Teen\", \"Teen\", \"Mature 17+\", \"Teen\", \"Everyone\", \"Everyone 10+\", \"Everyone\", \"Everyone\", \"Everyone\", \"Everyone\", \"Everyone\", \"Everyone\", \"Everyone 10+\", \"Everyone\", \"Teen\", \"Teen\", \"Everyone\", \"Everyone\", \"Mature 17+\", \"Mature 17+\", \"Mature 17+\", \"Teen\", \"Teen\", \"Everyone\", \"Mature 17+\", \"Mature 17+\", \"Everyone\", \"Everyone\", \"Everyone\", \"Everyone\", \"Teen\", \"Everyone\", \"Everyone\", \"Everyone\", \"Everyone\", \"Everyone\", \"Everyone\", \"Teen\", \"Everyone\", \"Everyone\", \"Everyone\", \"Everyone\", \"Everyone\", \"Everyone\", \"Everyone\", \"Everyone\", \"Everyone\", \"Everyone\", \"Everyone\", \"Everyone\", \"Everyone\", \"Everyone\", \"Everyone\", \"Everyone\", \"Everyone\", \"Everyone 10+\", \"Everyone\", \"Everyone\", \"Everyone\", \"Everyone\", \"Everyone\", \"Everyone\", \"Everyone\", \"Everyone\", \"Everyone\", \"Everyone\", \"Everyone\", \"Everyone\", \"Teen\", \"Everyone\", \"Everyone\", \"Everyone\", \"Teen\", \"Everyone\", \"Everyone\", \"Everyone\", \"Everyone\", \"Everyone\", \"Everyone\", \"Everyone\", \"Everyone\", \"Everyone\", \"Everyone\", \"Everyone\", \"Everyone\", \"Everyone\", \"Everyone\", \"Everyone\", \"Everyone\", \"Everyone\", \"Everyone\", \"Everyone\", \"Everyone\", \"Everyone\", \"Everyone\", \"Everyone\", \"Everyone\", \"Everyone\", \"Everyone\", \"Everyone\", \"Everyone\", \"Everyone\", \"Everyone\", \"Everyone\", \"Everyone\", \"Everyone\", \"Everyone\", \"Everyone\", \"Everyone\", \"Everyone\", \"Everyone\", \"Everyone\", \"Everyone\", \"Everyone 10+\", \"Everyone\", \"Everyone\", \"Everyone\", \"Everyone\", \"Everyone\", \"Everyone\", \"Everyone\", \"Everyone\", \"Everyone\", \"Everyone\", \"Everyone\", \"Everyone\", \"Everyone\", \"Everyone\", \"Everyone\", \"Everyone\", \"Everyone\", \"Everyone\", \"Teen\", \"Everyone\", \"Everyone\", \"Everyone\", \"Everyone\", \"Everyone\", \"Everyone\", \"Everyone\", \"Everyone\", \"Everyone\", \"Teen\", \"Everyone\", \"Everyone\", \"Everyone\", \"Everyone\", \"Everyone\", \"Everyone 10+\", \"Everyone\", \"Everyone 10+\", \"Mature 17+\", \"Everyone 10+\", \"Everyone\", \"Everyone\", \"Everyone\", \"Everyone\", \"Everyone\", \"Everyone\", \"Mature 17+\", \"Everyone\", \"Everyone\", \"Everyone\", \"Everyone 10+\", \"Mature 17+\", \"Everyone\", \"Everyone\", \"Teen\", \"Everyone\", \"Everyone\", \"Everyone\", \"Everyone\", \"Everyone\", \"Everyone\", \"Teen\", \"Everyone\", \"Everyone\", \"Everyone\", \"Everyone\", \"Everyone\", \"Everyone\", \"Teen\", \"Teen\", \"Everyone\", \"Everyone\", \"Everyone\", \"Everyone\", \"Everyone\", \"Everyone\", \"Everyone\", \"Everyone\", \"Everyone\", \"Everyone\", \"Everyone\", \"Everyone\", \"Everyone\", \"Everyone\", \"Everyone\", \"Everyone\", \"Everyone\", \"Everyone\", \"Everyone\", \"Everyone\", \"Everyone\", \"Everyone\", \"Everyone\", \"Everyone\", \"Teen\", \"Mature 17+\", \"Everyone\", \"Everyone\", \"Everyone\", \"Mature 17+\", \"Teen\", \"Everyone\", \"Everyone\", \"Teen\", \"Everyone\", \"Everyone\", \"Everyone\", \"Everyone\", \"Everyone\", \"Everyone\", \"Everyone\", \"Teen\", \"Teen\", \"Everyone\", \"Everyone\", \"Everyone\", \"Everyone\", \"Teen\", \"Everyone\", \"Everyone\", \"Everyone\", \"Everyone\", \"Everyone\", \"Everyone\", \"Everyone\", \"Everyone\", \"Everyone\", \"Everyone\", \"Everyone\", \"Teen\", \"Everyone\", \"Everyone\", \"Everyone\", \"Everyone\", \"Everyone\", \"Everyone\", \"Everyone\", \"Mature 17+\", \"Everyone\", \"Everyone\", \"Everyone\", \"Everyone\", \"Everyone\", \"Everyone\", \"Everyone\", \"Teen\", \"Everyone\", \"Everyone\", \"Everyone\", \"Everyone\", \"Teen\", \"Everyone\", \"Everyone\", \"Teen\", \"Everyone\", \"Everyone\", \"Everyone\", \"Everyone\", \"Everyone\", \"Everyone 10+\", \"Everyone\", \"Everyone\", \"Mature 17+\", \"Teen\", \"Everyone\", \"Teen\", \"Everyone\", \"Teen\", \"Everyone 10+\", \"Everyone\", \"Mature 17+\", \"Mature 17+\", \"Everyone\", \"Everyone\", \"Everyone\", \"Everyone\", \"Teen\", \"Teen\", \"Teen\", \"Mature 17+\", \"Everyone\", \"Everyone\", \"Everyone\", \"Everyone\", \"Everyone\", \"Everyone 10+\", \"Everyone\", \"Everyone\", \"Teen\", \"Everyone\", \"Everyone\", \"Teen\", \"Everyone\", \"Everyone\", \"Everyone\", \"Teen\", \"Teen\", \"Everyone\", \"Everyone\", \"Everyone\", \"Everyone 10+\", \"Teen\", \"Mature 17+\", \"Everyone 10+\", \"Everyone\", \"Everyone\", \"Everyone\", \"Mature 17+\", \"Everyone\", \"Everyone\", \"Everyone\", \"Everyone\", \"Mature 17+\", \"Everyone\", \"Everyone\", \"Everyone\", \"Teen\", \"Teen\", \"Mature 17+\", \"Everyone\", \"Everyone\", \"Everyone\", \"Teen\", \"Teen\", \"Everyone\", \"Everyone\", \"Teen\", \"Everyone 10+\", \"Everyone\", \"Everyone\", \"Everyone\", \"Everyone 10+\", \"Everyone 10+\", \"Everyone\", \"Everyone\", \"Everyone\", \"Everyone\", \"Everyone\", \"Everyone\", \"Everyone\", \"Everyone\", \"Everyone\", \"Everyone\", \"Everyone\", \"Mature 17+\", \"Everyone\", \"Everyone\", \"Teen\", \"Everyone\", \"Everyone\", \"Everyone\", \"Everyone\", \"Everyone\", \"Everyone\", \"Everyone\", \"Everyone\", \"Everyone\", \"Everyone\", \"Everyone\", \"Everyone\", \"Everyone\", \"Everyone\", \"Everyone\", \"Everyone\", \"Everyone\", \"Everyone\", \"Teen\", \"Teen\", \"Everyone\", \"Everyone\", \"Everyone\", \"Everyone\", \"Everyone\", \"Everyone\", \"Everyone\", \"Everyone\", \"Everyone\", \"Mature 17+\", \"Teen\", \"Teen\", \"Everyone\", \"Everyone\", \"Everyone\", \"Everyone\", \"Everyone\", \"Everyone\", \"Everyone\", \"Everyone\", \"Teen\", \"Teen\", \"Everyone\", \"Everyone\", \"Everyone\", \"Everyone\", \"Everyone\", \"Everyone\", \"Everyone\", \"Everyone\", \"Everyone 10+\", \"Everyone\", \"Everyone 10+\", \"Everyone\", \"Teen\", \"Everyone\", \"Everyone 10+\", \"Everyone\", \"Everyone\", \"Everyone\", \"Mature 17+\", \"Everyone\", \"Teen\", \"Everyone\", \"Teen\", \"Everyone\", \"Everyone\", \"Everyone\", \"Everyone\", \"Mature 17+\", \"Everyone\", \"Everyone\", \"Everyone\", \"Everyone\", \"Everyone\", \"Everyone\", \"Mature 17+\", \"Everyone 10+\", \"Everyone 10+\", \"Teen\", \"Teen\", \"Everyone\", \"Everyone\", \"Everyone\", \"Teen\", \"Everyone\", \"Everyone\", \"Everyone\", \"Teen\", \"Teen\", \"Everyone\", \"Everyone\", \"Everyone\", \"Everyone\", \"Everyone\", \"Everyone\", \"Everyone\", \"Teen\", \"Everyone\", \"Everyone\", \"Teen\", \"Everyone\", \"Everyone\", \"Everyone\", \"Teen\", \"Everyone\", \"Everyone\", \"Everyone\", \"Teen\", \"Everyone 10+\", \"Everyone\", \"Everyone\", \"Everyone\", \"Everyone\", \"Teen\", \"Everyone\", \"Everyone\", \"Everyone\", \"Everyone 10+\", \"Everyone\", \"Everyone\", \"Everyone\", \"Everyone\", \"Everyone\", \"Teen\", \"Everyone\", \"Mature 17+\", \"Everyone\", \"Everyone\", \"Everyone\", \"Everyone\", \"Teen\", \"Everyone\", \"Everyone 10+\", \"Everyone\", \"Teen\", \"Everyone\", \"Everyone\", \"Everyone\", \"Everyone\", \"Everyone\", \"Everyone\", \"Everyone\", \"Teen\", \"Everyone\", \"Everyone\", \"Everyone\", \"Everyone\", \"Everyone\", \"Everyone\", \"Teen\", \"Teen\", \"Everyone\", \"Everyone\", \"Everyone\", \"Everyone\", \"Everyone\", \"Everyone\", \"Everyone\", \"Everyone\", \"Everyone\", \"Teen\", \"Mature 17+\", \"Everyone\", \"Everyone\", \"Teen\", \"Everyone\", \"Everyone\", \"Everyone\", \"Everyone\", \"Everyone\", \"Teen\", \"Everyone\", \"Everyone\", \"Everyone\", \"Everyone 10+\", \"Teen\", \"Everyone\", \"Everyone\", \"Everyone\", \"Everyone\", \"Everyone\", \"Everyone\", \"Teen\", \"Everyone 10+\", \"Teen\", \"Everyone\", \"Everyone\", \"Everyone 10+\", \"Everyone\", \"Everyone\", \"Teen\", \"Everyone\", \"Teen\", \"Everyone 10+\", \"Teen\", \"Everyone\", \"Teen\", \"Everyone\", \"Everyone\", \"Everyone\", \"Everyone\", \"Everyone\", \"Everyone\", \"Mature 17+\", \"Mature 17+\", \"Everyone\", \"Teen\", \"Everyone\", \"Teen\", \"Everyone\", \"Teen\", \"Mature 17+\", \"Everyone\", \"Everyone 10+\", \"Everyone 10+\", \"Everyone\", \"Teen\", \"Everyone\", \"Everyone\", \"Everyone 10+\", \"Teen\", \"Mature 17+\", \"Teen\", \"Mature 17+\", \"Teen\", \"Mature 17+\", \"Everyone\", \"Everyone\", \"Everyone\", \"Everyone\", \"Teen\", \"Everyone\", \"Teen\", \"Everyone\", \"Everyone 10+\", \"Everyone\", \"Teen\", \"Everyone\", \"Everyone\", \"Everyone 10+\", \"Everyone\", \"Everyone\", \"Everyone\", \"Everyone\", \"Everyone\", \"Everyone\", \"Everyone\", \"Everyone\", \"Teen\", \"Teen\", \"Everyone 10+\", \"Everyone 10+\", \"Teen\", \"Everyone\", \"Everyone\", \"Everyone\", \"Everyone\", \"Teen\", \"Everyone\", \"Everyone\", \"Everyone\", \"Everyone\", \"Teen\", \"Everyone\", \"Everyone\", \"Everyone\", \"Everyone 10+\", \"Everyone\", \"Teen\", \"Teen\", \"Everyone\", \"Teen\", \"Everyone\", \"Everyone\", \"Everyone\", \"Everyone\", \"Teen\", \"Everyone\", \"Teen\", \"Teen\", \"Everyone\", \"Teen\", \"Everyone\", \"Everyone\", \"Everyone\", \"Everyone\", \"Everyone\", \"Teen\", \"Everyone\", \"Everyone 10+\", \"Everyone\", \"Everyone\", \"Everyone\", \"Everyone\", \"Everyone\", \"Everyone\", \"Everyone\", \"Everyone\", \"Mature 17+\", \"Everyone\", \"Everyone\", \"Teen\", \"Everyone\", \"Teen\", \"Everyone\", \"Everyone\", \"Everyone\", \"Teen\", \"Teen\", \"Everyone\", \"Mature 17+\", \"Everyone\", \"Everyone\", \"Everyone 10+\", \"Everyone\", \"Everyone 10+\", \"Everyone\", \"Everyone\", \"Everyone\", \"Teen\", \"Everyone\", \"Everyone\", \"Everyone 10+\", \"Everyone 10+\", \"Mature 17+\", \"Mature 17+\", \"Everyone\", \"Everyone\", \"Teen\", \"Everyone\", \"Everyone\", \"Teen\", \"Everyone\", \"Everyone\", \"Everyone\", \"Everyone\", \"Everyone\", \"Everyone\", \"Everyone\", \"Everyone\", \"Everyone\", \"Everyone\", \"Everyone\", \"Everyone\", \"Everyone\", \"Everyone\", \"Everyone\", \"Everyone\", \"Everyone\", \"Everyone\", \"Everyone\", \"Everyone\", \"Everyone\", \"Everyone\", \"Everyone\", \"Everyone\", \"Everyone\", \"Everyone\", \"Everyone\", \"Everyone\", \"Everyone\", \"Everyone\", \"Everyone\", \"Everyone\", \"Everyone\", \"Everyone\", \"Everyone\", \"Everyone\", \"Everyone\", \"Everyone\", \"Everyone\", \"Everyone\", \"Everyone\", \"Everyone\", \"Everyone\", \"Everyone\", \"Teen\", \"Everyone\", \"Everyone\", \"Teen\", \"Everyone\", \"Everyone\", \"Everyone\", \"Everyone\", \"Everyone\", \"Everyone\", \"Everyone\", \"Everyone\", \"Everyone\", \"Everyone\", \"Teen\", \"Teen\", \"Teen\", \"Everyone\", \"Everyone\", \"Everyone\", \"Everyone\", \"Teen\", \"Mature 17+\", \"Everyone\", \"Everyone\", \"Everyone\", \"Everyone\", \"Everyone\", \"Everyone\", \"Everyone\", \"Everyone\", \"Everyone\", \"Everyone\", \"Everyone\", \"Everyone\", \"Everyone\", \"Teen\", \"Everyone 10+\", \"Teen\", \"Everyone\", \"Everyone 10+\", \"Everyone\", \"Everyone\", \"Everyone\", \"Everyone\", \"Everyone\", \"Everyone\", \"Everyone\", \"Everyone\", \"Everyone\", \"Everyone\", \"Everyone\", \"Everyone\", \"Everyone\", \"Teen\", \"Teen\", \"Teen\", \"Teen\", \"Everyone\", \"Everyone\", \"Teen\", \"Teen\", \"Everyone\", \"Everyone\", \"Teen\", \"Everyone\", \"Teen\", \"Everyone 10+\", \"Mature 17+\", \"Teen\", \"Everyone\", \"Everyone\", \"Everyone\", \"Teen\", \"Everyone 10+\", \"Everyone\", \"Teen\", \"Everyone 10+\", \"Everyone\", \"Teen\", \"Teen\", \"Everyone 10+\", \"Teen\", \"Everyone\", \"Everyone\", \"Everyone\", \"Everyone\", \"Teen\", \"Everyone\", \"Everyone\", \"Teen\", \"Everyone\", \"Everyone\", \"Everyone\", \"Everyone\", \"Teen\", \"Teen\", \"Everyone\", \"Everyone\", \"Everyone\", \"Everyone\", \"Everyone\", \"Teen\", \"Teen\", \"Teen\", \"Teen\", \"Everyone\", \"Everyone\", \"Everyone\", \"Everyone\", \"Teen\", \"Everyone\", \"Everyone\", \"Mature 17+\", \"Everyone\", \"Everyone\", \"Everyone\", \"Teen\", \"Everyone\", \"Teen\", \"Teen\", \"Everyone\", \"Everyone\", \"Everyone\", \"Everyone 10+\", \"Everyone 10+\", \"Mature 17+\", \"Everyone\", \"Everyone\", \"Everyone\", \"Everyone\", \"Everyone 10+\", \"Teen\", \"Everyone\", \"Mature 17+\", \"Teen\", \"Everyone\", \"Mature 17+\", \"Mature 17+\", \"Mature 17+\", \"Teen\", \"Teen\", \"Teen\", \"Everyone\", \"Everyone\", \"Everyone\", \"Everyone\", \"Everyone\", \"Everyone\", \"Everyone\", \"Everyone\", \"Everyone\", \"Everyone\", \"Everyone\", \"Everyone\", \"Everyone\", \"Everyone\", \"Everyone\", \"Everyone\", \"Everyone\", \"Everyone\", \"Everyone\", \"Everyone\", \"Everyone\", \"Everyone\", \"Everyone\", \"Everyone\", \"Everyone\", \"Everyone\", \"Everyone\", \"Everyone\", \"Everyone\", \"Teen\", \"Teen\", \"Everyone\", \"Everyone\", \"Everyone\", \"Everyone\", \"Everyone\", \"Everyone\", \"Everyone\", \"Everyone\", \"Everyone\", \"Everyone\", \"Everyone\", \"Everyone\", \"Everyone\", \"Everyone\", \"Everyone\", \"Everyone\", \"Everyone\", \"Everyone\", \"Everyone\", \"Everyone\", \"Everyone\", \"Everyone\", \"Everyone\", \"Everyone\", \"Everyone\", \"Everyone\", \"Everyone\", \"Teen\", \"Everyone 10+\", \"Everyone\", \"Everyone\", \"Everyone\", \"Everyone\", \"Everyone\", \"Everyone\", \"Everyone\", \"Everyone\", \"Everyone\", \"Everyone\", \"Mature 17+\", \"Teen\", \"Everyone 10+\", \"Everyone\", \"Teen\", \"Everyone 10+\", \"Everyone\", \"Everyone\", \"Everyone\", \"Everyone\", \"Everyone\", \"Everyone\", \"Everyone\", \"Everyone\", \"Everyone\", \"Everyone\", \"Everyone\", \"Everyone\", \"Everyone\", \"Everyone 10+\", \"Everyone\", \"Mature 17+\", \"Everyone\", \"Everyone\", \"Teen\", \"Everyone\", \"Everyone\", \"Everyone\", \"Everyone\", \"Everyone 10+\", \"Everyone\", \"Everyone\", \"Mature 17+\", \"Teen\", \"Everyone 10+\", \"Everyone\", \"Everyone 10+\", \"Everyone\", \"Teen\", \"Teen\", \"Everyone\", \"Everyone\", \"Everyone\", \"Everyone\", \"Everyone\", \"Teen\", \"Everyone\", \"Everyone\", \"Teen\", \"Everyone\", \"Everyone\", \"Everyone\", \"Everyone\", \"Everyone\", \"Teen\", \"Everyone\", \"Everyone 10+\", \"Everyone\", \"Everyone 10+\", \"Everyone\", \"Everyone\", \"Everyone\", \"Everyone\", \"Everyone\", \"Everyone\", \"Everyone\", \"Teen\", \"Teen\", \"Everyone\", \"Everyone\", \"Everyone\", \"Everyone\", \"Everyone\", \"Everyone\", \"Everyone\", \"Everyone\", \"Mature 17+\", \"Everyone 10+\", \"Everyone\", \"Teen\", \"Everyone\", \"Everyone\", \"Everyone\", \"Teen\", \"Everyone\", \"Everyone\", \"Everyone\", \"Everyone\", \"Everyone\", \"Everyone\", \"Teen\", \"Teen\", \"Teen\", \"Teen\", \"Everyone\", \"Everyone\", \"Everyone\", \"Everyone\", \"Everyone\", \"Teen\", \"Teen\", \"Teen\", \"Everyone 10+\"], \"legendgroup\": \"\", \"name\": \"\", \"showlegend\": true, \"type\": \"pie\"}],\n",
              "                        {\"legend\": {\"tracegroupgap\": 0}, \"margin\": {\"t\": 60}, \"template\": {\"data\": {\"bar\": [{\"error_x\": {\"color\": \"#2a3f5f\"}, \"error_y\": {\"color\": \"#2a3f5f\"}, \"marker\": {\"line\": {\"color\": \"#E5ECF6\", \"width\": 0.5}}, \"type\": \"bar\"}], \"barpolar\": [{\"marker\": {\"line\": {\"color\": \"#E5ECF6\", \"width\": 0.5}}, \"type\": \"barpolar\"}], \"carpet\": [{\"aaxis\": {\"endlinecolor\": \"#2a3f5f\", \"gridcolor\": \"white\", \"linecolor\": \"white\", \"minorgridcolor\": \"white\", \"startlinecolor\": \"#2a3f5f\"}, \"baxis\": {\"endlinecolor\": \"#2a3f5f\", \"gridcolor\": \"white\", \"linecolor\": \"white\", \"minorgridcolor\": \"white\", \"startlinecolor\": \"#2a3f5f\"}, \"type\": \"carpet\"}], \"choropleth\": [{\"colorbar\": {\"outlinewidth\": 0, \"ticks\": \"\"}, \"type\": \"choropleth\"}], \"contour\": [{\"colorbar\": {\"outlinewidth\": 0, \"ticks\": \"\"}, \"colorscale\": [[0.0, \"#0d0887\"], [0.1111111111111111, \"#46039f\"], [0.2222222222222222, \"#7201a8\"], [0.3333333333333333, \"#9c179e\"], [0.4444444444444444, \"#bd3786\"], [0.5555555555555556, \"#d8576b\"], [0.6666666666666666, \"#ed7953\"], [0.7777777777777778, \"#fb9f3a\"], [0.8888888888888888, \"#fdca26\"], [1.0, \"#f0f921\"]], \"type\": \"contour\"}], \"contourcarpet\": [{\"colorbar\": {\"outlinewidth\": 0, \"ticks\": \"\"}, \"type\": \"contourcarpet\"}], \"heatmap\": [{\"colorbar\": {\"outlinewidth\": 0, \"ticks\": \"\"}, \"colorscale\": [[0.0, \"#0d0887\"], [0.1111111111111111, \"#46039f\"], [0.2222222222222222, \"#7201a8\"], [0.3333333333333333, \"#9c179e\"], [0.4444444444444444, \"#bd3786\"], [0.5555555555555556, \"#d8576b\"], [0.6666666666666666, \"#ed7953\"], [0.7777777777777778, \"#fb9f3a\"], [0.8888888888888888, \"#fdca26\"], [1.0, \"#f0f921\"]], \"type\": \"heatmap\"}], \"heatmapgl\": [{\"colorbar\": {\"outlinewidth\": 0, \"ticks\": \"\"}, \"colorscale\": [[0.0, \"#0d0887\"], [0.1111111111111111, \"#46039f\"], [0.2222222222222222, \"#7201a8\"], [0.3333333333333333, \"#9c179e\"], [0.4444444444444444, \"#bd3786\"], [0.5555555555555556, \"#d8576b\"], [0.6666666666666666, \"#ed7953\"], [0.7777777777777778, \"#fb9f3a\"], [0.8888888888888888, \"#fdca26\"], [1.0, \"#f0f921\"]], \"type\": \"heatmapgl\"}], \"histogram\": [{\"marker\": {\"colorbar\": {\"outlinewidth\": 0, \"ticks\": \"\"}}, \"type\": \"histogram\"}], \"histogram2d\": [{\"colorbar\": {\"outlinewidth\": 0, \"ticks\": \"\"}, \"colorscale\": [[0.0, \"#0d0887\"], [0.1111111111111111, \"#46039f\"], [0.2222222222222222, \"#7201a8\"], [0.3333333333333333, \"#9c179e\"], [0.4444444444444444, \"#bd3786\"], [0.5555555555555556, \"#d8576b\"], [0.6666666666666666, \"#ed7953\"], [0.7777777777777778, \"#fb9f3a\"], [0.8888888888888888, \"#fdca26\"], [1.0, \"#f0f921\"]], \"type\": \"histogram2d\"}], \"histogram2dcontour\": [{\"colorbar\": {\"outlinewidth\": 0, \"ticks\": \"\"}, \"colorscale\": [[0.0, \"#0d0887\"], [0.1111111111111111, \"#46039f\"], [0.2222222222222222, \"#7201a8\"], [0.3333333333333333, \"#9c179e\"], [0.4444444444444444, \"#bd3786\"], [0.5555555555555556, \"#d8576b\"], [0.6666666666666666, \"#ed7953\"], [0.7777777777777778, \"#fb9f3a\"], [0.8888888888888888, \"#fdca26\"], [1.0, \"#f0f921\"]], \"type\": \"histogram2dcontour\"}], \"mesh3d\": [{\"colorbar\": {\"outlinewidth\": 0, \"ticks\": \"\"}, \"type\": \"mesh3d\"}], \"parcoords\": [{\"line\": {\"colorbar\": {\"outlinewidth\": 0, \"ticks\": \"\"}}, \"type\": \"parcoords\"}], \"pie\": [{\"automargin\": true, \"type\": \"pie\"}], \"scatter\": [{\"marker\": {\"colorbar\": {\"outlinewidth\": 0, \"ticks\": \"\"}}, \"type\": \"scatter\"}], \"scatter3d\": [{\"line\": {\"colorbar\": {\"outlinewidth\": 0, \"ticks\": \"\"}}, \"marker\": {\"colorbar\": {\"outlinewidth\": 0, \"ticks\": \"\"}}, \"type\": \"scatter3d\"}], \"scattercarpet\": [{\"marker\": {\"colorbar\": {\"outlinewidth\": 0, \"ticks\": \"\"}}, \"type\": \"scattercarpet\"}], \"scattergeo\": [{\"marker\": {\"colorbar\": {\"outlinewidth\": 0, \"ticks\": \"\"}}, \"type\": \"scattergeo\"}], \"scattergl\": [{\"marker\": {\"colorbar\": {\"outlinewidth\": 0, \"ticks\": \"\"}}, \"type\": \"scattergl\"}], \"scattermapbox\": [{\"marker\": {\"colorbar\": {\"outlinewidth\": 0, \"ticks\": \"\"}}, \"type\": \"scattermapbox\"}], \"scatterpolar\": [{\"marker\": {\"colorbar\": {\"outlinewidth\": 0, \"ticks\": \"\"}}, \"type\": \"scatterpolar\"}], \"scatterpolargl\": [{\"marker\": {\"colorbar\": {\"outlinewidth\": 0, \"ticks\": \"\"}}, \"type\": \"scatterpolargl\"}], \"scatterternary\": [{\"marker\": {\"colorbar\": {\"outlinewidth\": 0, \"ticks\": \"\"}}, \"type\": \"scatterternary\"}], \"surface\": [{\"colorbar\": {\"outlinewidth\": 0, \"ticks\": \"\"}, \"colorscale\": [[0.0, \"#0d0887\"], [0.1111111111111111, \"#46039f\"], [0.2222222222222222, \"#7201a8\"], [0.3333333333333333, \"#9c179e\"], [0.4444444444444444, \"#bd3786\"], [0.5555555555555556, \"#d8576b\"], [0.6666666666666666, \"#ed7953\"], [0.7777777777777778, \"#fb9f3a\"], [0.8888888888888888, \"#fdca26\"], [1.0, \"#f0f921\"]], \"type\": \"surface\"}], \"table\": [{\"cells\": {\"fill\": {\"color\": \"#EBF0F8\"}, \"line\": {\"color\": \"white\"}}, \"header\": {\"fill\": {\"color\": \"#C8D4E3\"}, \"line\": {\"color\": \"white\"}}, \"type\": \"table\"}]}, \"layout\": {\"annotationdefaults\": {\"arrowcolor\": \"#2a3f5f\", \"arrowhead\": 0, \"arrowwidth\": 1}, \"coloraxis\": {\"colorbar\": {\"outlinewidth\": 0, \"ticks\": \"\"}}, \"colorscale\": {\"diverging\": [[0, \"#8e0152\"], [0.1, \"#c51b7d\"], [0.2, \"#de77ae\"], [0.3, \"#f1b6da\"], [0.4, \"#fde0ef\"], [0.5, \"#f7f7f7\"], [0.6, \"#e6f5d0\"], [0.7, \"#b8e186\"], [0.8, \"#7fbc41\"], [0.9, \"#4d9221\"], [1, \"#276419\"]], \"sequential\": [[0.0, \"#0d0887\"], [0.1111111111111111, \"#46039f\"], [0.2222222222222222, \"#7201a8\"], [0.3333333333333333, \"#9c179e\"], [0.4444444444444444, \"#bd3786\"], [0.5555555555555556, \"#d8576b\"], [0.6666666666666666, \"#ed7953\"], [0.7777777777777778, \"#fb9f3a\"], [0.8888888888888888, \"#fdca26\"], [1.0, \"#f0f921\"]], \"sequentialminus\": [[0.0, \"#0d0887\"], [0.1111111111111111, \"#46039f\"], [0.2222222222222222, \"#7201a8\"], [0.3333333333333333, \"#9c179e\"], [0.4444444444444444, \"#bd3786\"], [0.5555555555555556, \"#d8576b\"], [0.6666666666666666, \"#ed7953\"], [0.7777777777777778, \"#fb9f3a\"], [0.8888888888888888, \"#fdca26\"], [1.0, \"#f0f921\"]]}, \"colorway\": [\"#636efa\", \"#EF553B\", \"#00cc96\", \"#ab63fa\", \"#FFA15A\", \"#19d3f3\", \"#FF6692\", \"#B6E880\", \"#FF97FF\", \"#FECB52\"], \"font\": {\"color\": \"#2a3f5f\"}, \"geo\": {\"bgcolor\": \"white\", \"lakecolor\": \"white\", \"landcolor\": \"#E5ECF6\", \"showlakes\": true, \"showland\": true, \"subunitcolor\": \"white\"}, \"hoverlabel\": {\"align\": \"left\"}, \"hovermode\": \"closest\", \"mapbox\": {\"style\": \"light\"}, \"paper_bgcolor\": \"white\", \"plot_bgcolor\": \"#E5ECF6\", \"polar\": {\"angularaxis\": {\"gridcolor\": \"white\", \"linecolor\": \"white\", \"ticks\": \"\"}, \"bgcolor\": \"#E5ECF6\", \"radialaxis\": {\"gridcolor\": \"white\", \"linecolor\": \"white\", \"ticks\": \"\"}}, \"scene\": {\"xaxis\": {\"backgroundcolor\": \"#E5ECF6\", \"gridcolor\": \"white\", \"gridwidth\": 2, \"linecolor\": \"white\", \"showbackground\": true, \"ticks\": \"\", \"zerolinecolor\": \"white\"}, \"yaxis\": {\"backgroundcolor\": \"#E5ECF6\", \"gridcolor\": \"white\", \"gridwidth\": 2, \"linecolor\": \"white\", \"showbackground\": true, \"ticks\": \"\", \"zerolinecolor\": \"white\"}, \"zaxis\": {\"backgroundcolor\": \"#E5ECF6\", \"gridcolor\": \"white\", \"gridwidth\": 2, \"linecolor\": \"white\", \"showbackground\": true, \"ticks\": \"\", \"zerolinecolor\": \"white\"}}, \"shapedefaults\": {\"line\": {\"color\": \"#2a3f5f\"}}, \"ternary\": {\"aaxis\": {\"gridcolor\": \"white\", \"linecolor\": \"white\", \"ticks\": \"\"}, \"baxis\": {\"gridcolor\": \"white\", \"linecolor\": \"white\", \"ticks\": \"\"}, \"bgcolor\": \"#E5ECF6\", \"caxis\": {\"gridcolor\": \"white\", \"linecolor\": \"white\", \"ticks\": \"\"}}, \"title\": {\"x\": 0.05}, \"xaxis\": {\"automargin\": true, \"gridcolor\": \"white\", \"linecolor\": \"white\", \"ticks\": \"\", \"title\": {\"standoff\": 15}, \"zerolinecolor\": \"white\", \"zerolinewidth\": 2}, \"yaxis\": {\"automargin\": true, \"gridcolor\": \"white\", \"linecolor\": \"white\", \"ticks\": \"\", \"title\": {\"standoff\": 15}, \"zerolinecolor\": \"white\", \"zerolinewidth\": 2}}}},\n",
              "                        {\"responsive\": true}\n",
              "                    ).then(function(){\n",
              "                            \n",
              "var gd = document.getElementById('5a572cef-f1ee-4ca0-85ab-e8c25ef5fcb1');\n",
              "var x = new MutationObserver(function (mutations, observer) {{\n",
              "        var display = window.getComputedStyle(gd).display;\n",
              "        if (!display || display === 'none') {{\n",
              "            console.log([gd, 'removed!']);\n",
              "            Plotly.purge(gd);\n",
              "            observer.disconnect();\n",
              "        }}\n",
              "}});\n",
              "\n",
              "// Listen for the removal of the full notebook cells\n",
              "var notebookContainer = gd.closest('#notebook-container');\n",
              "if (notebookContainer) {{\n",
              "    x.observe(notebookContainer, {childList: true});\n",
              "}}\n",
              "\n",
              "// Listen for the clearing of the current output cell\n",
              "var outputEl = gd.closest('.output');\n",
              "if (outputEl) {{\n",
              "    x.observe(outputEl, {childList: true});\n",
              "}}\n",
              "\n",
              "                        })\n",
              "                };\n",
              "                \n",
              "            </script>\n",
              "        </div>\n",
              "</body>\n",
              "</html>"
            ]
          },
          "metadata": {
            "tags": []
          }
        }
      ]
    },
    {
      "cell_type": "markdown",
      "metadata": {
        "id": "RoPpW37xdiUm"
      },
      "source": [
        "# Numeric Type Conversion: Examine the Number of Installs\n",
        "\n",
        "**Challenge**: How many apps had over 1 billion (that's right - BILLION) installations? How many apps just had a single install? \n",
        "\n",
        "Check the datatype of the Installs column.\n",
        "\n",
        "Count the number of apps at each level of installations. \n",
        "\n",
        "Convert the number of installations (the Installs column) to a numeric data type. Hint: this is a 2-step process. You'll have make sure you remove non-numeric characters first. "
      ]
    },
    {
      "cell_type": "code",
      "metadata": {
        "id": "uTNyWsPboJLq",
        "colab": {
          "base_uri": "https://localhost:8080/"
        },
        "outputId": "f14ba6bf-329a-4ca4-f18b-ff610bf4d24f"
      },
      "source": [
        "df_apps_clean.Installs.describe()"
      ],
      "execution_count": 173,
      "outputs": [
        {
          "output_type": "execute_result",
          "data": {
            "text/plain": [
              "count          8199\n",
              "unique           19\n",
              "top       1,000,000\n",
              "freq           1417\n",
              "Name: Installs, dtype: object"
            ]
          },
          "metadata": {
            "tags": []
          },
          "execution_count": 173
        }
      ]
    },
    {
      "cell_type": "code",
      "metadata": {
        "colab": {
          "base_uri": "https://localhost:8080/"
        },
        "id": "ibEkeSEFbLKo",
        "outputId": "3b613eaf-550b-48bf-e7fd-43f4f88d702f"
      },
      "source": [
        "df_apps_clean.info()"
      ],
      "execution_count": 174,
      "outputs": [
        {
          "output_type": "stream",
          "text": [
            "<class 'pandas.core.frame.DataFrame'>\n",
            "Int64Index: 8199 entries, 21 to 10835\n",
            "Data columns (total 10 columns):\n",
            " #   Column          Non-Null Count  Dtype  \n",
            "---  ------          --------------  -----  \n",
            " 0   App             8199 non-null   object \n",
            " 1   Category        8199 non-null   object \n",
            " 2   Rating          8199 non-null   float64\n",
            " 3   Reviews         8199 non-null   int64  \n",
            " 4   Size_MBs        8199 non-null   float64\n",
            " 5   Installs        8199 non-null   object \n",
            " 6   Type            8199 non-null   object \n",
            " 7   Price           8199 non-null   object \n",
            " 8   Content_Rating  8199 non-null   object \n",
            " 9   Genres          8199 non-null   object \n",
            "dtypes: float64(2), int64(1), object(7)\n",
            "memory usage: 704.6+ KB\n"
          ],
          "name": "stdout"
        }
      ]
    },
    {
      "cell_type": "code",
      "metadata": {
        "colab": {
          "base_uri": "https://localhost:8080/"
        },
        "id": "yBgeep2ZlFDM",
        "outputId": "028c652e-5772-4183-a9df-9216cbb22b6b"
      },
      "source": [
        "df_apps_clean.dtypes"
      ],
      "execution_count": 175,
      "outputs": [
        {
          "output_type": "execute_result",
          "data": {
            "text/plain": [
              "App                object\n",
              "Category           object\n",
              "Rating            float64\n",
              "Reviews             int64\n",
              "Size_MBs          float64\n",
              "Installs           object\n",
              "Type               object\n",
              "Price              object\n",
              "Content_Rating     object\n",
              "Genres             object\n",
              "dtype: object"
            ]
          },
          "metadata": {
            "tags": []
          },
          "execution_count": 175
        }
      ]
    },
    {
      "cell_type": "code",
      "metadata": {
        "id": "yzR49fYcoJRI",
        "colab": {
          "base_uri": "https://localhost:8080/"
        },
        "outputId": "9aa9030c-e80b-40bf-ff4d-0738e64a3a40"
      },
      "source": [
        "df_apps_clean.Installs.value_counts()"
      ],
      "execution_count": 176,
      "outputs": [
        {
          "output_type": "execute_result",
          "data": {
            "text/plain": [
              "1,000,000        1417\n",
              "100,000          1096\n",
              "10,000            988\n",
              "10,000,000        933\n",
              "1,000             698\n",
              "5,000,000         607\n",
              "500,000           504\n",
              "50,000            457\n",
              "5,000             425\n",
              "100               303\n",
              "50,000,000        202\n",
              "500               199\n",
              "100,000,000       189\n",
              "10                 69\n",
              "50                 56\n",
              "500,000,000        24\n",
              "1,000,000,000      20\n",
              "5                   9\n",
              "1                   3\n",
              "Name: Installs, dtype: int64"
            ]
          },
          "metadata": {
            "tags": []
          },
          "execution_count": 176
        }
      ]
    },
    {
      "cell_type": "code",
      "metadata": {
        "id": "cFjptR-JoJOE",
        "colab": {
          "base_uri": "https://localhost:8080/",
          "height": 669
        },
        "outputId": "9657d7dc-d547-4a8f-eaf2-8e4752bb8a47"
      },
      "source": [
        "# Remove all the commas in the Installs column:\n",
        "df_apps_clean.Installs = df_apps_clean.Installs.astype(str).str.replace(',','')\n",
        "\n",
        "# Convert string to number:\n",
        "df_apps_clean.Installs = pd.to_numeric(df_apps_clean.Installs)\n",
        "\n",
        "df_apps_clean.Installs.value_counts()\n",
        "\n",
        "# Count the number of entries per level of installations\n",
        "df_apps_clean[['App', 'Installs']].groupby('Installs').count()"
      ],
      "execution_count": 177,
      "outputs": [
        {
          "output_type": "execute_result",
          "data": {
            "text/html": [
              "<div>\n",
              "<style scoped>\n",
              "    .dataframe tbody tr th:only-of-type {\n",
              "        vertical-align: middle;\n",
              "    }\n",
              "\n",
              "    .dataframe tbody tr th {\n",
              "        vertical-align: top;\n",
              "    }\n",
              "\n",
              "    .dataframe thead th {\n",
              "        text-align: right;\n",
              "    }\n",
              "</style>\n",
              "<table border=\"1\" class=\"dataframe\">\n",
              "  <thead>\n",
              "    <tr style=\"text-align: right;\">\n",
              "      <th></th>\n",
              "      <th>App</th>\n",
              "    </tr>\n",
              "    <tr>\n",
              "      <th>Installs</th>\n",
              "      <th></th>\n",
              "    </tr>\n",
              "  </thead>\n",
              "  <tbody>\n",
              "    <tr>\n",
              "      <th>1</th>\n",
              "      <td>3</td>\n",
              "    </tr>\n",
              "    <tr>\n",
              "      <th>5</th>\n",
              "      <td>9</td>\n",
              "    </tr>\n",
              "    <tr>\n",
              "      <th>10</th>\n",
              "      <td>69</td>\n",
              "    </tr>\n",
              "    <tr>\n",
              "      <th>50</th>\n",
              "      <td>56</td>\n",
              "    </tr>\n",
              "    <tr>\n",
              "      <th>100</th>\n",
              "      <td>303</td>\n",
              "    </tr>\n",
              "    <tr>\n",
              "      <th>500</th>\n",
              "      <td>199</td>\n",
              "    </tr>\n",
              "    <tr>\n",
              "      <th>1000</th>\n",
              "      <td>698</td>\n",
              "    </tr>\n",
              "    <tr>\n",
              "      <th>5000</th>\n",
              "      <td>425</td>\n",
              "    </tr>\n",
              "    <tr>\n",
              "      <th>10000</th>\n",
              "      <td>988</td>\n",
              "    </tr>\n",
              "    <tr>\n",
              "      <th>50000</th>\n",
              "      <td>457</td>\n",
              "    </tr>\n",
              "    <tr>\n",
              "      <th>100000</th>\n",
              "      <td>1096</td>\n",
              "    </tr>\n",
              "    <tr>\n",
              "      <th>500000</th>\n",
              "      <td>504</td>\n",
              "    </tr>\n",
              "    <tr>\n",
              "      <th>1000000</th>\n",
              "      <td>1417</td>\n",
              "    </tr>\n",
              "    <tr>\n",
              "      <th>5000000</th>\n",
              "      <td>607</td>\n",
              "    </tr>\n",
              "    <tr>\n",
              "      <th>10000000</th>\n",
              "      <td>933</td>\n",
              "    </tr>\n",
              "    <tr>\n",
              "      <th>50000000</th>\n",
              "      <td>202</td>\n",
              "    </tr>\n",
              "    <tr>\n",
              "      <th>100000000</th>\n",
              "      <td>189</td>\n",
              "    </tr>\n",
              "    <tr>\n",
              "      <th>500000000</th>\n",
              "      <td>24</td>\n",
              "    </tr>\n",
              "    <tr>\n",
              "      <th>1000000000</th>\n",
              "      <td>20</td>\n",
              "    </tr>\n",
              "  </tbody>\n",
              "</table>\n",
              "</div>"
            ],
            "text/plain": [
              "             App\n",
              "Installs        \n",
              "1              3\n",
              "5              9\n",
              "10            69\n",
              "50            56\n",
              "100          303\n",
              "500          199\n",
              "1000         698\n",
              "5000         425\n",
              "10000        988\n",
              "50000        457\n",
              "100000      1096\n",
              "500000       504\n",
              "1000000     1417\n",
              "5000000      607\n",
              "10000000     933\n",
              "50000000     202\n",
              "100000000    189\n",
              "500000000     24\n",
              "1000000000    20"
            ]
          },
          "metadata": {
            "tags": []
          },
          "execution_count": 177
        }
      ]
    },
    {
      "cell_type": "markdown",
      "metadata": {
        "id": "7T4sfNpFdiUv"
      },
      "source": [
        "# Find the Most Expensive Apps, Filter out the Junk, and Calculate a (ballpark) Sales Revenue Estimate\n",
        "\n",
        "Let's examine the Price column more closely.\n",
        "\n",
        "**Challenge**: Convert the price column to numeric data. Then investigate the top 20 most expensive apps in the dataset.\n",
        "\n",
        "Remove all apps that cost more than $250 from the `df_apps_clean` DataFrame.\n",
        "\n",
        "Add a column called 'Revenue_Estimate' to the DataFrame. This column should hold the price of the app times the number of installs. What are the top 10 highest grossing paid apps according to this estimate? Out of the top 10 highest grossing paid apps, how many are games?\n"
      ]
    },
    {
      "cell_type": "code",
      "metadata": {
        "id": "CqhX2WCJoQEp",
        "colab": {
          "base_uri": "https://localhost:8080/",
          "height": 142
        },
        "outputId": "85e0923f-652e-4771-f36e-bf6a12e8ac46"
      },
      "source": [
        "# Convert the price column to numeric data:\n",
        "df_apps_clean.Price = df_apps_clean.Price.astype(str).str.replace('$','')\n",
        "df_apps_clean.Price = pd.to_numeric(df_apps_clean.Price)\n",
        "\n",
        "df_apps_clean[['App', 'Price']].head(3)"
      ],
      "execution_count": 178,
      "outputs": [
        {
          "output_type": "execute_result",
          "data": {
            "text/html": [
              "<div>\n",
              "<style scoped>\n",
              "    .dataframe tbody tr th:only-of-type {\n",
              "        vertical-align: middle;\n",
              "    }\n",
              "\n",
              "    .dataframe tbody tr th {\n",
              "        vertical-align: top;\n",
              "    }\n",
              "\n",
              "    .dataframe thead th {\n",
              "        text-align: right;\n",
              "    }\n",
              "</style>\n",
              "<table border=\"1\" class=\"dataframe\">\n",
              "  <thead>\n",
              "    <tr style=\"text-align: right;\">\n",
              "      <th></th>\n",
              "      <th>App</th>\n",
              "      <th>Price</th>\n",
              "    </tr>\n",
              "  </thead>\n",
              "  <tbody>\n",
              "    <tr>\n",
              "      <th>21</th>\n",
              "      <td>KBA-EZ Health Guide</td>\n",
              "      <td>0.00</td>\n",
              "    </tr>\n",
              "    <tr>\n",
              "      <th>28</th>\n",
              "      <td>Ra Ga Ba</td>\n",
              "      <td>1.49</td>\n",
              "    </tr>\n",
              "    <tr>\n",
              "      <th>47</th>\n",
              "      <td>Mu.F.O.</td>\n",
              "      <td>0.99</td>\n",
              "    </tr>\n",
              "  </tbody>\n",
              "</table>\n",
              "</div>"
            ],
            "text/plain": [
              "                    App  Price\n",
              "21  KBA-EZ Health Guide   0.00\n",
              "28             Ra Ga Ba   1.49\n",
              "47              Mu.F.O.   0.99"
            ]
          },
          "metadata": {
            "tags": []
          },
          "execution_count": 178
        }
      ]
    },
    {
      "cell_type": "code",
      "metadata": {
        "colab": {
          "base_uri": "https://localhost:8080/",
          "height": 669
        },
        "id": "cUB4-ov_i78r",
        "outputId": "2628b557-37e7-4eb3-8ca4-e8fb7d399070"
      },
      "source": [
        "# Top 20 most expensive apps in the dataset:\n",
        "top_20_price = df_apps_clean.sort_values('Price', ascending=False).head(20)\n",
        "top_20_price"
      ],
      "execution_count": 179,
      "outputs": [
        {
          "output_type": "execute_result",
          "data": {
            "text/html": [
              "<div>\n",
              "<style scoped>\n",
              "    .dataframe tbody tr th:only-of-type {\n",
              "        vertical-align: middle;\n",
              "    }\n",
              "\n",
              "    .dataframe tbody tr th {\n",
              "        vertical-align: top;\n",
              "    }\n",
              "\n",
              "    .dataframe thead th {\n",
              "        text-align: right;\n",
              "    }\n",
              "</style>\n",
              "<table border=\"1\" class=\"dataframe\">\n",
              "  <thead>\n",
              "    <tr style=\"text-align: right;\">\n",
              "      <th></th>\n",
              "      <th>App</th>\n",
              "      <th>Category</th>\n",
              "      <th>Rating</th>\n",
              "      <th>Reviews</th>\n",
              "      <th>Size_MBs</th>\n",
              "      <th>Installs</th>\n",
              "      <th>Type</th>\n",
              "      <th>Price</th>\n",
              "      <th>Content_Rating</th>\n",
              "      <th>Genres</th>\n",
              "    </tr>\n",
              "  </thead>\n",
              "  <tbody>\n",
              "    <tr>\n",
              "      <th>3946</th>\n",
              "      <td>I'm Rich - Trump Edition</td>\n",
              "      <td>LIFESTYLE</td>\n",
              "      <td>3.60</td>\n",
              "      <td>275</td>\n",
              "      <td>7.30</td>\n",
              "      <td>10000</td>\n",
              "      <td>Paid</td>\n",
              "      <td>400.00</td>\n",
              "      <td>Everyone</td>\n",
              "      <td>Lifestyle</td>\n",
              "    </tr>\n",
              "    <tr>\n",
              "      <th>2461</th>\n",
              "      <td>I AM RICH PRO PLUS</td>\n",
              "      <td>FINANCE</td>\n",
              "      <td>4.00</td>\n",
              "      <td>36</td>\n",
              "      <td>41.00</td>\n",
              "      <td>1000</td>\n",
              "      <td>Paid</td>\n",
              "      <td>399.99</td>\n",
              "      <td>Everyone</td>\n",
              "      <td>Finance</td>\n",
              "    </tr>\n",
              "    <tr>\n",
              "      <th>4606</th>\n",
              "      <td>I Am Rich Premium</td>\n",
              "      <td>FINANCE</td>\n",
              "      <td>4.10</td>\n",
              "      <td>1867</td>\n",
              "      <td>4.70</td>\n",
              "      <td>50000</td>\n",
              "      <td>Paid</td>\n",
              "      <td>399.99</td>\n",
              "      <td>Everyone</td>\n",
              "      <td>Finance</td>\n",
              "    </tr>\n",
              "    <tr>\n",
              "      <th>3145</th>\n",
              "      <td>I am rich(premium)</td>\n",
              "      <td>FINANCE</td>\n",
              "      <td>3.50</td>\n",
              "      <td>472</td>\n",
              "      <td>0.94</td>\n",
              "      <td>5000</td>\n",
              "      <td>Paid</td>\n",
              "      <td>399.99</td>\n",
              "      <td>Everyone</td>\n",
              "      <td>Finance</td>\n",
              "    </tr>\n",
              "    <tr>\n",
              "      <th>3554</th>\n",
              "      <td>💎 I'm rich</td>\n",
              "      <td>LIFESTYLE</td>\n",
              "      <td>3.80</td>\n",
              "      <td>718</td>\n",
              "      <td>26.00</td>\n",
              "      <td>10000</td>\n",
              "      <td>Paid</td>\n",
              "      <td>399.99</td>\n",
              "      <td>Everyone</td>\n",
              "      <td>Lifestyle</td>\n",
              "    </tr>\n",
              "    <tr>\n",
              "      <th>5765</th>\n",
              "      <td>I am rich</td>\n",
              "      <td>LIFESTYLE</td>\n",
              "      <td>3.80</td>\n",
              "      <td>3547</td>\n",
              "      <td>1.80</td>\n",
              "      <td>100000</td>\n",
              "      <td>Paid</td>\n",
              "      <td>399.99</td>\n",
              "      <td>Everyone</td>\n",
              "      <td>Lifestyle</td>\n",
              "    </tr>\n",
              "    <tr>\n",
              "      <th>1946</th>\n",
              "      <td>I am rich (Most expensive app)</td>\n",
              "      <td>FINANCE</td>\n",
              "      <td>4.10</td>\n",
              "      <td>129</td>\n",
              "      <td>2.70</td>\n",
              "      <td>1000</td>\n",
              "      <td>Paid</td>\n",
              "      <td>399.99</td>\n",
              "      <td>Teen</td>\n",
              "      <td>Finance</td>\n",
              "    </tr>\n",
              "    <tr>\n",
              "      <th>2775</th>\n",
              "      <td>I Am Rich Pro</td>\n",
              "      <td>FAMILY</td>\n",
              "      <td>4.40</td>\n",
              "      <td>201</td>\n",
              "      <td>2.70</td>\n",
              "      <td>5000</td>\n",
              "      <td>Paid</td>\n",
              "      <td>399.99</td>\n",
              "      <td>Everyone</td>\n",
              "      <td>Entertainment</td>\n",
              "    </tr>\n",
              "    <tr>\n",
              "      <th>3221</th>\n",
              "      <td>I am Rich Plus</td>\n",
              "      <td>FAMILY</td>\n",
              "      <td>4.00</td>\n",
              "      <td>856</td>\n",
              "      <td>8.70</td>\n",
              "      <td>10000</td>\n",
              "      <td>Paid</td>\n",
              "      <td>399.99</td>\n",
              "      <td>Everyone</td>\n",
              "      <td>Entertainment</td>\n",
              "    </tr>\n",
              "    <tr>\n",
              "      <th>3114</th>\n",
              "      <td>I am Rich</td>\n",
              "      <td>FINANCE</td>\n",
              "      <td>4.30</td>\n",
              "      <td>180</td>\n",
              "      <td>3.80</td>\n",
              "      <td>5000</td>\n",
              "      <td>Paid</td>\n",
              "      <td>399.99</td>\n",
              "      <td>Everyone</td>\n",
              "      <td>Finance</td>\n",
              "    </tr>\n",
              "    <tr>\n",
              "      <th>1331</th>\n",
              "      <td>most expensive app (H)</td>\n",
              "      <td>FAMILY</td>\n",
              "      <td>4.30</td>\n",
              "      <td>6</td>\n",
              "      <td>1.50</td>\n",
              "      <td>100</td>\n",
              "      <td>Paid</td>\n",
              "      <td>399.99</td>\n",
              "      <td>Everyone</td>\n",
              "      <td>Entertainment</td>\n",
              "    </tr>\n",
              "    <tr>\n",
              "      <th>2394</th>\n",
              "      <td>I am Rich!</td>\n",
              "      <td>FINANCE</td>\n",
              "      <td>3.80</td>\n",
              "      <td>93</td>\n",
              "      <td>22.00</td>\n",
              "      <td>1000</td>\n",
              "      <td>Paid</td>\n",
              "      <td>399.99</td>\n",
              "      <td>Everyone</td>\n",
              "      <td>Finance</td>\n",
              "    </tr>\n",
              "    <tr>\n",
              "      <th>3897</th>\n",
              "      <td>I Am Rich</td>\n",
              "      <td>FAMILY</td>\n",
              "      <td>3.60</td>\n",
              "      <td>217</td>\n",
              "      <td>4.90</td>\n",
              "      <td>10000</td>\n",
              "      <td>Paid</td>\n",
              "      <td>389.99</td>\n",
              "      <td>Everyone</td>\n",
              "      <td>Entertainment</td>\n",
              "    </tr>\n",
              "    <tr>\n",
              "      <th>2193</th>\n",
              "      <td>I am extremely Rich</td>\n",
              "      <td>LIFESTYLE</td>\n",
              "      <td>2.90</td>\n",
              "      <td>41</td>\n",
              "      <td>2.90</td>\n",
              "      <td>1000</td>\n",
              "      <td>Paid</td>\n",
              "      <td>379.99</td>\n",
              "      <td>Everyone</td>\n",
              "      <td>Lifestyle</td>\n",
              "    </tr>\n",
              "    <tr>\n",
              "      <th>3856</th>\n",
              "      <td>I am rich VIP</td>\n",
              "      <td>LIFESTYLE</td>\n",
              "      <td>3.80</td>\n",
              "      <td>411</td>\n",
              "      <td>2.60</td>\n",
              "      <td>10000</td>\n",
              "      <td>Paid</td>\n",
              "      <td>299.99</td>\n",
              "      <td>Everyone</td>\n",
              "      <td>Lifestyle</td>\n",
              "    </tr>\n",
              "    <tr>\n",
              "      <th>2281</th>\n",
              "      <td>Vargo Anesthesia Mega App</td>\n",
              "      <td>MEDICAL</td>\n",
              "      <td>4.60</td>\n",
              "      <td>92</td>\n",
              "      <td>32.00</td>\n",
              "      <td>1000</td>\n",
              "      <td>Paid</td>\n",
              "      <td>79.99</td>\n",
              "      <td>Everyone</td>\n",
              "      <td>Medical</td>\n",
              "    </tr>\n",
              "    <tr>\n",
              "      <th>1407</th>\n",
              "      <td>LTC AS Legal</td>\n",
              "      <td>MEDICAL</td>\n",
              "      <td>4.00</td>\n",
              "      <td>6</td>\n",
              "      <td>1.30</td>\n",
              "      <td>100</td>\n",
              "      <td>Paid</td>\n",
              "      <td>39.99</td>\n",
              "      <td>Everyone</td>\n",
              "      <td>Medical</td>\n",
              "    </tr>\n",
              "    <tr>\n",
              "      <th>2629</th>\n",
              "      <td>I am Rich Person</td>\n",
              "      <td>LIFESTYLE</td>\n",
              "      <td>4.20</td>\n",
              "      <td>134</td>\n",
              "      <td>1.80</td>\n",
              "      <td>1000</td>\n",
              "      <td>Paid</td>\n",
              "      <td>37.99</td>\n",
              "      <td>Everyone</td>\n",
              "      <td>Lifestyle</td>\n",
              "    </tr>\n",
              "    <tr>\n",
              "      <th>2481</th>\n",
              "      <td>A Manual of Acupuncture</td>\n",
              "      <td>MEDICAL</td>\n",
              "      <td>3.50</td>\n",
              "      <td>214</td>\n",
              "      <td>68.00</td>\n",
              "      <td>1000</td>\n",
              "      <td>Paid</td>\n",
              "      <td>33.99</td>\n",
              "      <td>Everyone</td>\n",
              "      <td>Medical</td>\n",
              "    </tr>\n",
              "    <tr>\n",
              "      <th>4264</th>\n",
              "      <td>Golfshot Plus: Golf GPS</td>\n",
              "      <td>SPORTS</td>\n",
              "      <td>4.10</td>\n",
              "      <td>3387</td>\n",
              "      <td>25.00</td>\n",
              "      <td>50000</td>\n",
              "      <td>Paid</td>\n",
              "      <td>29.99</td>\n",
              "      <td>Everyone</td>\n",
              "      <td>Sports</td>\n",
              "    </tr>\n",
              "  </tbody>\n",
              "</table>\n",
              "</div>"
            ],
            "text/plain": [
              "                                 App   Category  ...  Content_Rating         Genres\n",
              "3946        I'm Rich - Trump Edition  LIFESTYLE  ...        Everyone      Lifestyle\n",
              "2461              I AM RICH PRO PLUS    FINANCE  ...        Everyone        Finance\n",
              "4606               I Am Rich Premium    FINANCE  ...        Everyone        Finance\n",
              "3145              I am rich(premium)    FINANCE  ...        Everyone        Finance\n",
              "3554                      💎 I'm rich  LIFESTYLE  ...        Everyone      Lifestyle\n",
              "5765                       I am rich  LIFESTYLE  ...        Everyone      Lifestyle\n",
              "1946  I am rich (Most expensive app)    FINANCE  ...            Teen        Finance\n",
              "2775                   I Am Rich Pro     FAMILY  ...        Everyone  Entertainment\n",
              "3221                  I am Rich Plus     FAMILY  ...        Everyone  Entertainment\n",
              "3114                       I am Rich    FINANCE  ...        Everyone        Finance\n",
              "1331          most expensive app (H)     FAMILY  ...        Everyone  Entertainment\n",
              "2394                      I am Rich!    FINANCE  ...        Everyone        Finance\n",
              "3897                       I Am Rich     FAMILY  ...        Everyone  Entertainment\n",
              "2193             I am extremely Rich  LIFESTYLE  ...        Everyone      Lifestyle\n",
              "3856                   I am rich VIP  LIFESTYLE  ...        Everyone      Lifestyle\n",
              "2281       Vargo Anesthesia Mega App    MEDICAL  ...        Everyone        Medical\n",
              "1407                    LTC AS Legal    MEDICAL  ...        Everyone        Medical\n",
              "2629                I am Rich Person  LIFESTYLE  ...        Everyone      Lifestyle\n",
              "2481         A Manual of Acupuncture    MEDICAL  ...        Everyone        Medical\n",
              "4264         Golfshot Plus: Golf GPS     SPORTS  ...        Everyone         Sports\n",
              "\n",
              "[20 rows x 10 columns]"
            ]
          },
          "metadata": {
            "tags": []
          },
          "execution_count": 179
        }
      ]
    },
    {
      "cell_type": "markdown",
      "metadata": {
        "id": "Rgposh-CdiU4"
      },
      "source": [
        "### The most expensive apps sub $250"
      ]
    },
    {
      "cell_type": "code",
      "metadata": {
        "id": "c8_n8z8XoUML",
        "colab": {
          "base_uri": "https://localhost:8080/",
          "height": 359
        },
        "outputId": "5295c791-65fe-418a-945c-d91bd8e05d34"
      },
      "source": [
        "df_apps_clean = df_apps_clean[df_apps_clean.Price < 250]\n",
        "df_apps_clean.sort_values('Price', ascending=False).head(10)"
      ],
      "execution_count": 180,
      "outputs": [
        {
          "output_type": "execute_result",
          "data": {
            "text/html": [
              "<div>\n",
              "<style scoped>\n",
              "    .dataframe tbody tr th:only-of-type {\n",
              "        vertical-align: middle;\n",
              "    }\n",
              "\n",
              "    .dataframe tbody tr th {\n",
              "        vertical-align: top;\n",
              "    }\n",
              "\n",
              "    .dataframe thead th {\n",
              "        text-align: right;\n",
              "    }\n",
              "</style>\n",
              "<table border=\"1\" class=\"dataframe\">\n",
              "  <thead>\n",
              "    <tr style=\"text-align: right;\">\n",
              "      <th></th>\n",
              "      <th>App</th>\n",
              "      <th>Category</th>\n",
              "      <th>Rating</th>\n",
              "      <th>Reviews</th>\n",
              "      <th>Size_MBs</th>\n",
              "      <th>Installs</th>\n",
              "      <th>Type</th>\n",
              "      <th>Price</th>\n",
              "      <th>Content_Rating</th>\n",
              "      <th>Genres</th>\n",
              "    </tr>\n",
              "  </thead>\n",
              "  <tbody>\n",
              "    <tr>\n",
              "      <th>2281</th>\n",
              "      <td>Vargo Anesthesia Mega App</td>\n",
              "      <td>MEDICAL</td>\n",
              "      <td>4.60</td>\n",
              "      <td>92</td>\n",
              "      <td>32.00</td>\n",
              "      <td>1000</td>\n",
              "      <td>Paid</td>\n",
              "      <td>79.99</td>\n",
              "      <td>Everyone</td>\n",
              "      <td>Medical</td>\n",
              "    </tr>\n",
              "    <tr>\n",
              "      <th>1407</th>\n",
              "      <td>LTC AS Legal</td>\n",
              "      <td>MEDICAL</td>\n",
              "      <td>4.00</td>\n",
              "      <td>6</td>\n",
              "      <td>1.30</td>\n",
              "      <td>100</td>\n",
              "      <td>Paid</td>\n",
              "      <td>39.99</td>\n",
              "      <td>Everyone</td>\n",
              "      <td>Medical</td>\n",
              "    </tr>\n",
              "    <tr>\n",
              "      <th>2629</th>\n",
              "      <td>I am Rich Person</td>\n",
              "      <td>LIFESTYLE</td>\n",
              "      <td>4.20</td>\n",
              "      <td>134</td>\n",
              "      <td>1.80</td>\n",
              "      <td>1000</td>\n",
              "      <td>Paid</td>\n",
              "      <td>37.99</td>\n",
              "      <td>Everyone</td>\n",
              "      <td>Lifestyle</td>\n",
              "    </tr>\n",
              "    <tr>\n",
              "      <th>2481</th>\n",
              "      <td>A Manual of Acupuncture</td>\n",
              "      <td>MEDICAL</td>\n",
              "      <td>3.50</td>\n",
              "      <td>214</td>\n",
              "      <td>68.00</td>\n",
              "      <td>1000</td>\n",
              "      <td>Paid</td>\n",
              "      <td>33.99</td>\n",
              "      <td>Everyone</td>\n",
              "      <td>Medical</td>\n",
              "    </tr>\n",
              "    <tr>\n",
              "      <th>2463</th>\n",
              "      <td>PTA Content Master</td>\n",
              "      <td>MEDICAL</td>\n",
              "      <td>4.20</td>\n",
              "      <td>64</td>\n",
              "      <td>41.00</td>\n",
              "      <td>1000</td>\n",
              "      <td>Paid</td>\n",
              "      <td>29.99</td>\n",
              "      <td>Everyone</td>\n",
              "      <td>Medical</td>\n",
              "    </tr>\n",
              "    <tr>\n",
              "      <th>2207</th>\n",
              "      <td>EMT PASS</td>\n",
              "      <td>MEDICAL</td>\n",
              "      <td>3.40</td>\n",
              "      <td>51</td>\n",
              "      <td>2.40</td>\n",
              "      <td>1000</td>\n",
              "      <td>Paid</td>\n",
              "      <td>29.99</td>\n",
              "      <td>Everyone</td>\n",
              "      <td>Medical</td>\n",
              "    </tr>\n",
              "    <tr>\n",
              "      <th>4264</th>\n",
              "      <td>Golfshot Plus: Golf GPS</td>\n",
              "      <td>SPORTS</td>\n",
              "      <td>4.10</td>\n",
              "      <td>3387</td>\n",
              "      <td>25.00</td>\n",
              "      <td>50000</td>\n",
              "      <td>Paid</td>\n",
              "      <td>29.99</td>\n",
              "      <td>Everyone</td>\n",
              "      <td>Sports</td>\n",
              "    </tr>\n",
              "    <tr>\n",
              "      <th>504</th>\n",
              "      <td>AP Art History Flashcards</td>\n",
              "      <td>FAMILY</td>\n",
              "      <td>5.00</td>\n",
              "      <td>1</td>\n",
              "      <td>96.00</td>\n",
              "      <td>10</td>\n",
              "      <td>Paid</td>\n",
              "      <td>29.99</td>\n",
              "      <td>Mature 17+</td>\n",
              "      <td>Education</td>\n",
              "    </tr>\n",
              "    <tr>\n",
              "      <th>4772</th>\n",
              "      <td>Human Anatomy Atlas 2018: Complete 3D Human Body</td>\n",
              "      <td>MEDICAL</td>\n",
              "      <td>4.50</td>\n",
              "      <td>2921</td>\n",
              "      <td>25.00</td>\n",
              "      <td>100000</td>\n",
              "      <td>Paid</td>\n",
              "      <td>24.99</td>\n",
              "      <td>Everyone</td>\n",
              "      <td>Medical</td>\n",
              "    </tr>\n",
              "    <tr>\n",
              "      <th>3241</th>\n",
              "      <td>Muscle Premium - Human Anatomy, Kinesiology, B...</td>\n",
              "      <td>MEDICAL</td>\n",
              "      <td>4.20</td>\n",
              "      <td>168</td>\n",
              "      <td>25.00</td>\n",
              "      <td>10000</td>\n",
              "      <td>Paid</td>\n",
              "      <td>24.99</td>\n",
              "      <td>Everyone</td>\n",
              "      <td>Medical</td>\n",
              "    </tr>\n",
              "  </tbody>\n",
              "</table>\n",
              "</div>"
            ],
            "text/plain": [
              "                                                    App  ...     Genres\n",
              "2281                          Vargo Anesthesia Mega App  ...    Medical\n",
              "1407                                       LTC AS Legal  ...    Medical\n",
              "2629                                   I am Rich Person  ...  Lifestyle\n",
              "2481                            A Manual of Acupuncture  ...    Medical\n",
              "2463                                 PTA Content Master  ...    Medical\n",
              "2207                                           EMT PASS  ...    Medical\n",
              "4264                            Golfshot Plus: Golf GPS  ...     Sports\n",
              "504                           AP Art History Flashcards  ...  Education\n",
              "4772   Human Anatomy Atlas 2018: Complete 3D Human Body  ...    Medical\n",
              "3241  Muscle Premium - Human Anatomy, Kinesiology, B...  ...    Medical\n",
              "\n",
              "[10 rows x 10 columns]"
            ]
          },
          "metadata": {
            "tags": []
          },
          "execution_count": 180
        }
      ]
    },
    {
      "cell_type": "markdown",
      "metadata": {
        "id": "VGu85CLb4OOH"
      },
      "source": [
        "### Highest Grossing Paid Apps (ballpark estimate)"
      ]
    },
    {
      "cell_type": "code",
      "metadata": {
        "id": "3mDi45iIoVzE",
        "colab": {
          "base_uri": "https://localhost:8080/",
          "height": 359
        },
        "outputId": "5b1a950e-239a-498e-a1a4-c59a7c5dcbc7"
      },
      "source": [
        "df_apps_clean['Revenue_Estimate'] = df_apps_clean.Installs.mul(df_apps_clean.Price)\n",
        "df_apps_clean.sort_values('Revenue_Estimate', ascending=False)[:10]"
      ],
      "execution_count": 181,
      "outputs": [
        {
          "output_type": "execute_result",
          "data": {
            "text/html": [
              "<div>\n",
              "<style scoped>\n",
              "    .dataframe tbody tr th:only-of-type {\n",
              "        vertical-align: middle;\n",
              "    }\n",
              "\n",
              "    .dataframe tbody tr th {\n",
              "        vertical-align: top;\n",
              "    }\n",
              "\n",
              "    .dataframe thead th {\n",
              "        text-align: right;\n",
              "    }\n",
              "</style>\n",
              "<table border=\"1\" class=\"dataframe\">\n",
              "  <thead>\n",
              "    <tr style=\"text-align: right;\">\n",
              "      <th></th>\n",
              "      <th>App</th>\n",
              "      <th>Category</th>\n",
              "      <th>Rating</th>\n",
              "      <th>Reviews</th>\n",
              "      <th>Size_MBs</th>\n",
              "      <th>Installs</th>\n",
              "      <th>Type</th>\n",
              "      <th>Price</th>\n",
              "      <th>Content_Rating</th>\n",
              "      <th>Genres</th>\n",
              "      <th>Revenue_Estimate</th>\n",
              "    </tr>\n",
              "  </thead>\n",
              "  <tbody>\n",
              "    <tr>\n",
              "      <th>9220</th>\n",
              "      <td>Minecraft</td>\n",
              "      <td>FAMILY</td>\n",
              "      <td>4.50</td>\n",
              "      <td>2376564</td>\n",
              "      <td>19.00</td>\n",
              "      <td>10000000</td>\n",
              "      <td>Paid</td>\n",
              "      <td>6.99</td>\n",
              "      <td>Everyone 10+</td>\n",
              "      <td>Arcade;Action &amp; Adventure</td>\n",
              "      <td>69,900,000.00</td>\n",
              "    </tr>\n",
              "    <tr>\n",
              "      <th>8825</th>\n",
              "      <td>Hitman Sniper</td>\n",
              "      <td>GAME</td>\n",
              "      <td>4.60</td>\n",
              "      <td>408292</td>\n",
              "      <td>29.00</td>\n",
              "      <td>10000000</td>\n",
              "      <td>Paid</td>\n",
              "      <td>0.99</td>\n",
              "      <td>Mature 17+</td>\n",
              "      <td>Action</td>\n",
              "      <td>9,900,000.00</td>\n",
              "    </tr>\n",
              "    <tr>\n",
              "      <th>7151</th>\n",
              "      <td>Grand Theft Auto: San Andreas</td>\n",
              "      <td>GAME</td>\n",
              "      <td>4.40</td>\n",
              "      <td>348962</td>\n",
              "      <td>26.00</td>\n",
              "      <td>1000000</td>\n",
              "      <td>Paid</td>\n",
              "      <td>6.99</td>\n",
              "      <td>Mature 17+</td>\n",
              "      <td>Action</td>\n",
              "      <td>6,990,000.00</td>\n",
              "    </tr>\n",
              "    <tr>\n",
              "      <th>7477</th>\n",
              "      <td>Facetune - For Free</td>\n",
              "      <td>PHOTOGRAPHY</td>\n",
              "      <td>4.40</td>\n",
              "      <td>49553</td>\n",
              "      <td>48.00</td>\n",
              "      <td>1000000</td>\n",
              "      <td>Paid</td>\n",
              "      <td>5.99</td>\n",
              "      <td>Everyone</td>\n",
              "      <td>Photography</td>\n",
              "      <td>5,990,000.00</td>\n",
              "    </tr>\n",
              "    <tr>\n",
              "      <th>7977</th>\n",
              "      <td>Sleep as Android Unlock</td>\n",
              "      <td>LIFESTYLE</td>\n",
              "      <td>4.50</td>\n",
              "      <td>23966</td>\n",
              "      <td>0.85</td>\n",
              "      <td>1000000</td>\n",
              "      <td>Paid</td>\n",
              "      <td>5.99</td>\n",
              "      <td>Everyone</td>\n",
              "      <td>Lifestyle</td>\n",
              "      <td>5,990,000.00</td>\n",
              "    </tr>\n",
              "    <tr>\n",
              "      <th>6594</th>\n",
              "      <td>DraStic DS Emulator</td>\n",
              "      <td>GAME</td>\n",
              "      <td>4.60</td>\n",
              "      <td>87766</td>\n",
              "      <td>12.00</td>\n",
              "      <td>1000000</td>\n",
              "      <td>Paid</td>\n",
              "      <td>4.99</td>\n",
              "      <td>Everyone</td>\n",
              "      <td>Action</td>\n",
              "      <td>4,990,000.00</td>\n",
              "    </tr>\n",
              "    <tr>\n",
              "      <th>6082</th>\n",
              "      <td>Weather Live</td>\n",
              "      <td>WEATHER</td>\n",
              "      <td>4.50</td>\n",
              "      <td>76593</td>\n",
              "      <td>4.75</td>\n",
              "      <td>500000</td>\n",
              "      <td>Paid</td>\n",
              "      <td>5.99</td>\n",
              "      <td>Everyone</td>\n",
              "      <td>Weather</td>\n",
              "      <td>2,995,000.00</td>\n",
              "    </tr>\n",
              "    <tr>\n",
              "      <th>7954</th>\n",
              "      <td>Bloons TD 5</td>\n",
              "      <td>FAMILY</td>\n",
              "      <td>4.60</td>\n",
              "      <td>190086</td>\n",
              "      <td>94.00</td>\n",
              "      <td>1000000</td>\n",
              "      <td>Paid</td>\n",
              "      <td>2.99</td>\n",
              "      <td>Everyone</td>\n",
              "      <td>Strategy</td>\n",
              "      <td>2,990,000.00</td>\n",
              "    </tr>\n",
              "    <tr>\n",
              "      <th>7633</th>\n",
              "      <td>Five Nights at Freddy's</td>\n",
              "      <td>GAME</td>\n",
              "      <td>4.60</td>\n",
              "      <td>100805</td>\n",
              "      <td>50.00</td>\n",
              "      <td>1000000</td>\n",
              "      <td>Paid</td>\n",
              "      <td>2.99</td>\n",
              "      <td>Teen</td>\n",
              "      <td>Action</td>\n",
              "      <td>2,990,000.00</td>\n",
              "    </tr>\n",
              "    <tr>\n",
              "      <th>6746</th>\n",
              "      <td>Card Wars - Adventure Time</td>\n",
              "      <td>FAMILY</td>\n",
              "      <td>4.30</td>\n",
              "      <td>129603</td>\n",
              "      <td>23.00</td>\n",
              "      <td>1000000</td>\n",
              "      <td>Paid</td>\n",
              "      <td>2.99</td>\n",
              "      <td>Everyone 10+</td>\n",
              "      <td>Card;Action &amp; Adventure</td>\n",
              "      <td>2,990,000.00</td>\n",
              "    </tr>\n",
              "  </tbody>\n",
              "</table>\n",
              "</div>"
            ],
            "text/plain": [
              "                                App  ... Revenue_Estimate\n",
              "9220                      Minecraft  ...    69,900,000.00\n",
              "8825                  Hitman Sniper  ...     9,900,000.00\n",
              "7151  Grand Theft Auto: San Andreas  ...     6,990,000.00\n",
              "7477            Facetune - For Free  ...     5,990,000.00\n",
              "7977        Sleep as Android Unlock  ...     5,990,000.00\n",
              "6594            DraStic DS Emulator  ...     4,990,000.00\n",
              "6082                   Weather Live  ...     2,995,000.00\n",
              "7954                    Bloons TD 5  ...     2,990,000.00\n",
              "7633        Five Nights at Freddy's  ...     2,990,000.00\n",
              "6746     Card Wars - Adventure Time  ...     2,990,000.00\n",
              "\n",
              "[10 rows x 11 columns]"
            ]
          },
          "metadata": {
            "tags": []
          },
          "execution_count": 181
        }
      ]
    },
    {
      "cell_type": "markdown",
      "metadata": {
        "dc": {
          "key": "18"
        },
        "run_control": {
          "frozen": true
        },
        "tags": [
          "context"
        ],
        "id": "lvpM2MyTdiU6"
      },
      "source": [
        "# Plotly Bar Charts & Scatter Plots: Analysing App Categories"
      ]
    },
    {
      "cell_type": "markdown",
      "metadata": {
        "id": "0tTurR7qdiU9"
      },
      "source": [
        "### Vertical Bar Chart - Highest Competition (Number of Apps)"
      ]
    },
    {
      "cell_type": "code",
      "metadata": {
        "id": "3L6hK0aLoYxY",
        "colab": {
          "base_uri": "https://localhost:8080/"
        },
        "outputId": "004ab543-24ff-44d6-b09b-e3285f5d3f38"
      },
      "source": [
        "# Number of different categories\n",
        "df_apps_clean.Category.nunique()"
      ],
      "execution_count": 182,
      "outputs": [
        {
          "output_type": "execute_result",
          "data": {
            "text/plain": [
              "33"
            ]
          },
          "metadata": {
            "tags": []
          },
          "execution_count": 182
        }
      ]
    },
    {
      "cell_type": "code",
      "metadata": {
        "id": "mg50Ts9joYz1",
        "colab": {
          "base_uri": "https://localhost:8080/"
        },
        "outputId": "dc020d05-6b04-438f-c018-be7b2a14b6f5"
      },
      "source": [
        "top10_category = df_apps_clean.Category.value_counts()[:10]\n",
        "top10_category"
      ],
      "execution_count": 183,
      "outputs": [
        {
          "output_type": "execute_result",
          "data": {
            "text/plain": [
              "FAMILY             1606\n",
              "GAME                910\n",
              "TOOLS               719\n",
              "PRODUCTIVITY        301\n",
              "PERSONALIZATION     298\n",
              "LIFESTYLE           297\n",
              "FINANCE             296\n",
              "MEDICAL             292\n",
              "PHOTOGRAPHY         263\n",
              "BUSINESS            262\n",
              "Name: Category, dtype: int64"
            ]
          },
          "metadata": {
            "tags": []
          },
          "execution_count": 183
        }
      ]
    },
    {
      "cell_type": "code",
      "metadata": {
        "id": "WZZizlGjoYfn",
        "colab": {
          "base_uri": "https://localhost:8080/",
          "height": 542
        },
        "outputId": "d61aa7bb-3d6b-4ab0-cce9-3c2aa177c3da"
      },
      "source": [
        "bar = px.bar(x=top10_category.index,\n",
        "             y=top10_category.values)\n",
        "\n",
        "bar.show()"
      ],
      "execution_count": 184,
      "outputs": [
        {
          "output_type": "display_data",
          "data": {
            "text/html": [
              "<html>\n",
              "<head><meta charset=\"utf-8\" /></head>\n",
              "<body>\n",
              "    <div>\n",
              "            <script src=\"https://cdnjs.cloudflare.com/ajax/libs/mathjax/2.7.5/MathJax.js?config=TeX-AMS-MML_SVG\"></script><script type=\"text/javascript\">if (window.MathJax) {MathJax.Hub.Config({SVG: {font: \"STIX-Web\"}});}</script>\n",
              "                <script type=\"text/javascript\">window.PlotlyConfig = {MathJaxConfig: 'local'};</script>\n",
              "        <script src=\"https://cdn.plot.ly/plotly-latest.min.js\"></script>    \n",
              "            <div id=\"e4892b5e-c736-4dd0-87a0-bdebed3d4927\" class=\"plotly-graph-div\" style=\"height:525px; width:100%;\"></div>\n",
              "            <script type=\"text/javascript\">\n",
              "                \n",
              "                    window.PLOTLYENV=window.PLOTLYENV || {};\n",
              "                    \n",
              "                if (document.getElementById(\"e4892b5e-c736-4dd0-87a0-bdebed3d4927\")) {\n",
              "                    Plotly.newPlot(\n",
              "                        'e4892b5e-c736-4dd0-87a0-bdebed3d4927',\n",
              "                        [{\"alignmentgroup\": \"True\", \"hoverlabel\": {\"namelength\": 0}, \"hovertemplate\": \"x=%{x}<br>y=%{y}\", \"legendgroup\": \"\", \"marker\": {\"color\": \"#636efa\"}, \"name\": \"\", \"offsetgroup\": \"\", \"orientation\": \"v\", \"showlegend\": false, \"textposition\": \"auto\", \"type\": \"bar\", \"x\": [\"FAMILY\", \"GAME\", \"TOOLS\", \"PRODUCTIVITY\", \"PERSONALIZATION\", \"LIFESTYLE\", \"FINANCE\", \"MEDICAL\", \"PHOTOGRAPHY\", \"BUSINESS\"], \"xaxis\": \"x\", \"y\": [1606, 910, 719, 301, 298, 297, 296, 292, 263, 262], \"yaxis\": \"y\"}],\n",
              "                        {\"barmode\": \"relative\", \"legend\": {\"tracegroupgap\": 0}, \"margin\": {\"t\": 60}, \"template\": {\"data\": {\"bar\": [{\"error_x\": {\"color\": \"#2a3f5f\"}, \"error_y\": {\"color\": \"#2a3f5f\"}, \"marker\": {\"line\": {\"color\": \"#E5ECF6\", \"width\": 0.5}}, \"type\": \"bar\"}], \"barpolar\": [{\"marker\": {\"line\": {\"color\": \"#E5ECF6\", \"width\": 0.5}}, \"type\": \"barpolar\"}], \"carpet\": [{\"aaxis\": {\"endlinecolor\": \"#2a3f5f\", \"gridcolor\": \"white\", \"linecolor\": \"white\", \"minorgridcolor\": \"white\", \"startlinecolor\": \"#2a3f5f\"}, \"baxis\": {\"endlinecolor\": \"#2a3f5f\", \"gridcolor\": \"white\", \"linecolor\": \"white\", \"minorgridcolor\": \"white\", \"startlinecolor\": \"#2a3f5f\"}, \"type\": \"carpet\"}], \"choropleth\": [{\"colorbar\": {\"outlinewidth\": 0, \"ticks\": \"\"}, \"type\": \"choropleth\"}], \"contour\": [{\"colorbar\": {\"outlinewidth\": 0, \"ticks\": \"\"}, \"colorscale\": [[0.0, \"#0d0887\"], [0.1111111111111111, \"#46039f\"], [0.2222222222222222, \"#7201a8\"], [0.3333333333333333, \"#9c179e\"], [0.4444444444444444, \"#bd3786\"], [0.5555555555555556, \"#d8576b\"], [0.6666666666666666, \"#ed7953\"], [0.7777777777777778, \"#fb9f3a\"], [0.8888888888888888, \"#fdca26\"], [1.0, \"#f0f921\"]], \"type\": \"contour\"}], \"contourcarpet\": [{\"colorbar\": {\"outlinewidth\": 0, \"ticks\": \"\"}, \"type\": \"contourcarpet\"}], \"heatmap\": [{\"colorbar\": {\"outlinewidth\": 0, \"ticks\": \"\"}, \"colorscale\": [[0.0, \"#0d0887\"], [0.1111111111111111, \"#46039f\"], [0.2222222222222222, \"#7201a8\"], [0.3333333333333333, \"#9c179e\"], [0.4444444444444444, \"#bd3786\"], [0.5555555555555556, \"#d8576b\"], [0.6666666666666666, \"#ed7953\"], [0.7777777777777778, \"#fb9f3a\"], [0.8888888888888888, \"#fdca26\"], [1.0, \"#f0f921\"]], \"type\": \"heatmap\"}], \"heatmapgl\": [{\"colorbar\": {\"outlinewidth\": 0, \"ticks\": \"\"}, \"colorscale\": [[0.0, \"#0d0887\"], [0.1111111111111111, \"#46039f\"], [0.2222222222222222, \"#7201a8\"], [0.3333333333333333, \"#9c179e\"], [0.4444444444444444, \"#bd3786\"], [0.5555555555555556, \"#d8576b\"], [0.6666666666666666, \"#ed7953\"], [0.7777777777777778, \"#fb9f3a\"], [0.8888888888888888, \"#fdca26\"], [1.0, \"#f0f921\"]], \"type\": \"heatmapgl\"}], \"histogram\": [{\"marker\": {\"colorbar\": {\"outlinewidth\": 0, \"ticks\": \"\"}}, \"type\": \"histogram\"}], \"histogram2d\": [{\"colorbar\": {\"outlinewidth\": 0, \"ticks\": \"\"}, \"colorscale\": [[0.0, \"#0d0887\"], [0.1111111111111111, \"#46039f\"], [0.2222222222222222, \"#7201a8\"], [0.3333333333333333, \"#9c179e\"], [0.4444444444444444, \"#bd3786\"], [0.5555555555555556, \"#d8576b\"], [0.6666666666666666, \"#ed7953\"], [0.7777777777777778, \"#fb9f3a\"], [0.8888888888888888, \"#fdca26\"], [1.0, \"#f0f921\"]], \"type\": \"histogram2d\"}], \"histogram2dcontour\": [{\"colorbar\": {\"outlinewidth\": 0, \"ticks\": \"\"}, \"colorscale\": [[0.0, \"#0d0887\"], [0.1111111111111111, \"#46039f\"], [0.2222222222222222, \"#7201a8\"], [0.3333333333333333, \"#9c179e\"], [0.4444444444444444, \"#bd3786\"], [0.5555555555555556, \"#d8576b\"], [0.6666666666666666, \"#ed7953\"], [0.7777777777777778, \"#fb9f3a\"], [0.8888888888888888, \"#fdca26\"], [1.0, \"#f0f921\"]], \"type\": \"histogram2dcontour\"}], \"mesh3d\": [{\"colorbar\": {\"outlinewidth\": 0, \"ticks\": \"\"}, \"type\": \"mesh3d\"}], \"parcoords\": [{\"line\": {\"colorbar\": {\"outlinewidth\": 0, \"ticks\": \"\"}}, \"type\": \"parcoords\"}], \"pie\": [{\"automargin\": true, \"type\": \"pie\"}], \"scatter\": [{\"marker\": {\"colorbar\": {\"outlinewidth\": 0, \"ticks\": \"\"}}, \"type\": \"scatter\"}], \"scatter3d\": [{\"line\": {\"colorbar\": {\"outlinewidth\": 0, \"ticks\": \"\"}}, \"marker\": {\"colorbar\": {\"outlinewidth\": 0, \"ticks\": \"\"}}, \"type\": \"scatter3d\"}], \"scattercarpet\": [{\"marker\": {\"colorbar\": {\"outlinewidth\": 0, \"ticks\": \"\"}}, \"type\": \"scattercarpet\"}], \"scattergeo\": [{\"marker\": {\"colorbar\": {\"outlinewidth\": 0, \"ticks\": \"\"}}, \"type\": \"scattergeo\"}], \"scattergl\": [{\"marker\": {\"colorbar\": {\"outlinewidth\": 0, \"ticks\": \"\"}}, \"type\": \"scattergl\"}], \"scattermapbox\": [{\"marker\": {\"colorbar\": {\"outlinewidth\": 0, \"ticks\": \"\"}}, \"type\": \"scattermapbox\"}], \"scatterpolar\": [{\"marker\": {\"colorbar\": {\"outlinewidth\": 0, \"ticks\": \"\"}}, \"type\": \"scatterpolar\"}], \"scatterpolargl\": [{\"marker\": {\"colorbar\": {\"outlinewidth\": 0, \"ticks\": \"\"}}, \"type\": \"scatterpolargl\"}], \"scatterternary\": [{\"marker\": {\"colorbar\": {\"outlinewidth\": 0, \"ticks\": \"\"}}, \"type\": \"scatterternary\"}], \"surface\": [{\"colorbar\": {\"outlinewidth\": 0, \"ticks\": \"\"}, \"colorscale\": [[0.0, \"#0d0887\"], [0.1111111111111111, \"#46039f\"], [0.2222222222222222, \"#7201a8\"], [0.3333333333333333, \"#9c179e\"], [0.4444444444444444, \"#bd3786\"], [0.5555555555555556, \"#d8576b\"], [0.6666666666666666, \"#ed7953\"], [0.7777777777777778, \"#fb9f3a\"], [0.8888888888888888, \"#fdca26\"], [1.0, \"#f0f921\"]], \"type\": \"surface\"}], \"table\": [{\"cells\": {\"fill\": {\"color\": \"#EBF0F8\"}, \"line\": {\"color\": \"white\"}}, \"header\": {\"fill\": {\"color\": \"#C8D4E3\"}, \"line\": {\"color\": \"white\"}}, \"type\": \"table\"}]}, \"layout\": {\"annotationdefaults\": {\"arrowcolor\": \"#2a3f5f\", \"arrowhead\": 0, \"arrowwidth\": 1}, \"coloraxis\": {\"colorbar\": {\"outlinewidth\": 0, \"ticks\": \"\"}}, \"colorscale\": {\"diverging\": [[0, \"#8e0152\"], [0.1, \"#c51b7d\"], [0.2, \"#de77ae\"], [0.3, \"#f1b6da\"], [0.4, \"#fde0ef\"], [0.5, \"#f7f7f7\"], [0.6, \"#e6f5d0\"], [0.7, \"#b8e186\"], [0.8, \"#7fbc41\"], [0.9, \"#4d9221\"], [1, \"#276419\"]], \"sequential\": [[0.0, \"#0d0887\"], [0.1111111111111111, \"#46039f\"], [0.2222222222222222, \"#7201a8\"], [0.3333333333333333, \"#9c179e\"], [0.4444444444444444, \"#bd3786\"], [0.5555555555555556, \"#d8576b\"], [0.6666666666666666, \"#ed7953\"], [0.7777777777777778, \"#fb9f3a\"], [0.8888888888888888, \"#fdca26\"], [1.0, \"#f0f921\"]], \"sequentialminus\": [[0.0, \"#0d0887\"], [0.1111111111111111, \"#46039f\"], [0.2222222222222222, \"#7201a8\"], [0.3333333333333333, \"#9c179e\"], [0.4444444444444444, \"#bd3786\"], [0.5555555555555556, \"#d8576b\"], [0.6666666666666666, \"#ed7953\"], [0.7777777777777778, \"#fb9f3a\"], [0.8888888888888888, \"#fdca26\"], [1.0, \"#f0f921\"]]}, \"colorway\": [\"#636efa\", \"#EF553B\", \"#00cc96\", \"#ab63fa\", \"#FFA15A\", \"#19d3f3\", \"#FF6692\", \"#B6E880\", \"#FF97FF\", \"#FECB52\"], \"font\": {\"color\": \"#2a3f5f\"}, \"geo\": {\"bgcolor\": \"white\", \"lakecolor\": \"white\", \"landcolor\": \"#E5ECF6\", \"showlakes\": true, \"showland\": true, \"subunitcolor\": \"white\"}, \"hoverlabel\": {\"align\": \"left\"}, \"hovermode\": \"closest\", \"mapbox\": {\"style\": \"light\"}, \"paper_bgcolor\": \"white\", \"plot_bgcolor\": \"#E5ECF6\", \"polar\": {\"angularaxis\": {\"gridcolor\": \"white\", \"linecolor\": \"white\", \"ticks\": \"\"}, \"bgcolor\": \"#E5ECF6\", \"radialaxis\": {\"gridcolor\": \"white\", \"linecolor\": \"white\", \"ticks\": \"\"}}, \"scene\": {\"xaxis\": {\"backgroundcolor\": \"#E5ECF6\", \"gridcolor\": \"white\", \"gridwidth\": 2, \"linecolor\": \"white\", \"showbackground\": true, \"ticks\": \"\", \"zerolinecolor\": \"white\"}, \"yaxis\": {\"backgroundcolor\": \"#E5ECF6\", \"gridcolor\": \"white\", \"gridwidth\": 2, \"linecolor\": \"white\", \"showbackground\": true, \"ticks\": \"\", \"zerolinecolor\": \"white\"}, \"zaxis\": {\"backgroundcolor\": \"#E5ECF6\", \"gridcolor\": \"white\", \"gridwidth\": 2, \"linecolor\": \"white\", \"showbackground\": true, \"ticks\": \"\", \"zerolinecolor\": \"white\"}}, \"shapedefaults\": {\"line\": {\"color\": \"#2a3f5f\"}}, \"ternary\": {\"aaxis\": {\"gridcolor\": \"white\", \"linecolor\": \"white\", \"ticks\": \"\"}, \"baxis\": {\"gridcolor\": \"white\", \"linecolor\": \"white\", \"ticks\": \"\"}, \"bgcolor\": \"#E5ECF6\", \"caxis\": {\"gridcolor\": \"white\", \"linecolor\": \"white\", \"ticks\": \"\"}}, \"title\": {\"x\": 0.05}, \"xaxis\": {\"automargin\": true, \"gridcolor\": \"white\", \"linecolor\": \"white\", \"ticks\": \"\", \"title\": {\"standoff\": 15}, \"zerolinecolor\": \"white\", \"zerolinewidth\": 2}, \"yaxis\": {\"automargin\": true, \"gridcolor\": \"white\", \"linecolor\": \"white\", \"ticks\": \"\", \"title\": {\"standoff\": 15}, \"zerolinecolor\": \"white\", \"zerolinewidth\": 2}}}, \"xaxis\": {\"anchor\": \"y\", \"domain\": [0.0, 1.0], \"title\": {\"text\": \"x\"}}, \"yaxis\": {\"anchor\": \"x\", \"domain\": [0.0, 1.0], \"title\": {\"text\": \"y\"}}},\n",
              "                        {\"responsive\": true}\n",
              "                    ).then(function(){\n",
              "                            \n",
              "var gd = document.getElementById('e4892b5e-c736-4dd0-87a0-bdebed3d4927');\n",
              "var x = new MutationObserver(function (mutations, observer) {{\n",
              "        var display = window.getComputedStyle(gd).display;\n",
              "        if (!display || display === 'none') {{\n",
              "            console.log([gd, 'removed!']);\n",
              "            Plotly.purge(gd);\n",
              "            observer.disconnect();\n",
              "        }}\n",
              "}});\n",
              "\n",
              "// Listen for the removal of the full notebook cells\n",
              "var notebookContainer = gd.closest('#notebook-container');\n",
              "if (notebookContainer) {{\n",
              "    x.observe(notebookContainer, {childList: true});\n",
              "}}\n",
              "\n",
              "// Listen for the clearing of the current output cell\n",
              "var outputEl = gd.closest('.output');\n",
              "if (outputEl) {{\n",
              "    x.observe(outputEl, {childList: true});\n",
              "}}\n",
              "\n",
              "                        })\n",
              "                };\n",
              "                \n",
              "            </script>\n",
              "        </div>\n",
              "</body>\n",
              "</html>"
            ]
          },
          "metadata": {
            "tags": []
          }
        }
      ]
    },
    {
      "cell_type": "markdown",
      "metadata": {
        "id": "57mowetLdiU_"
      },
      "source": [
        "### Horizontal Bar Chart - Most Popular Categories (Highest Downloads)"
      ]
    },
    {
      "cell_type": "code",
      "metadata": {
        "colab": {
          "base_uri": "https://localhost:8080/",
          "height": 1000
        },
        "id": "q9WnWcf-oHBt",
        "outputId": "25f79eff-3f31-4af4-cf5a-ef1a8b481f05"
      },
      "source": [
        "# Group all our apps by category and sum the number of installations:\n",
        "category_installs = df_apps_clean.groupby('Category').agg({'Installs': pd.Series.sum})\n",
        "category_installs.sort_values('Installs', ascending=True, inplace=True)\n",
        "\n",
        "category_installs"
      ],
      "execution_count": 185,
      "outputs": [
        {
          "output_type": "execute_result",
          "data": {
            "text/html": [
              "<div>\n",
              "<style scoped>\n",
              "    .dataframe tbody tr th:only-of-type {\n",
              "        vertical-align: middle;\n",
              "    }\n",
              "\n",
              "    .dataframe tbody tr th {\n",
              "        vertical-align: top;\n",
              "    }\n",
              "\n",
              "    .dataframe thead th {\n",
              "        text-align: right;\n",
              "    }\n",
              "</style>\n",
              "<table border=\"1\" class=\"dataframe\">\n",
              "  <thead>\n",
              "    <tr style=\"text-align: right;\">\n",
              "      <th></th>\n",
              "      <th>Installs</th>\n",
              "    </tr>\n",
              "    <tr>\n",
              "      <th>Category</th>\n",
              "      <th></th>\n",
              "    </tr>\n",
              "  </thead>\n",
              "  <tbody>\n",
              "    <tr>\n",
              "      <th>EVENTS</th>\n",
              "      <td>15949410</td>\n",
              "    </tr>\n",
              "    <tr>\n",
              "      <th>BEAUTY</th>\n",
              "      <td>26916200</td>\n",
              "    </tr>\n",
              "    <tr>\n",
              "      <th>PARENTING</th>\n",
              "      <td>31116110</td>\n",
              "    </tr>\n",
              "    <tr>\n",
              "      <th>MEDICAL</th>\n",
              "      <td>39162676</td>\n",
              "    </tr>\n",
              "    <tr>\n",
              "      <th>COMICS</th>\n",
              "      <td>44931100</td>\n",
              "    </tr>\n",
              "    <tr>\n",
              "      <th>LIBRARIES_AND_DEMO</th>\n",
              "      <td>52083000</td>\n",
              "    </tr>\n",
              "    <tr>\n",
              "      <th>AUTO_AND_VEHICLES</th>\n",
              "      <td>53129800</td>\n",
              "    </tr>\n",
              "    <tr>\n",
              "      <th>HOUSE_AND_HOME</th>\n",
              "      <td>97082000</td>\n",
              "    </tr>\n",
              "    <tr>\n",
              "      <th>ART_AND_DESIGN</th>\n",
              "      <td>114233100</td>\n",
              "    </tr>\n",
              "    <tr>\n",
              "      <th>DATING</th>\n",
              "      <td>140912410</td>\n",
              "    </tr>\n",
              "    <tr>\n",
              "      <th>FOOD_AND_DRINK</th>\n",
              "      <td>211677750</td>\n",
              "    </tr>\n",
              "    <tr>\n",
              "      <th>EDUCATION</th>\n",
              "      <td>352852000</td>\n",
              "    </tr>\n",
              "    <tr>\n",
              "      <th>WEATHER</th>\n",
              "      <td>361096500</td>\n",
              "    </tr>\n",
              "    <tr>\n",
              "      <th>FINANCE</th>\n",
              "      <td>455249400</td>\n",
              "    </tr>\n",
              "    <tr>\n",
              "      <th>MAPS_AND_NAVIGATION</th>\n",
              "      <td>503267560</td>\n",
              "    </tr>\n",
              "    <tr>\n",
              "      <th>LIFESTYLE</th>\n",
              "      <td>503611120</td>\n",
              "    </tr>\n",
              "    <tr>\n",
              "      <th>BUSINESS</th>\n",
              "      <td>692018120</td>\n",
              "    </tr>\n",
              "    <tr>\n",
              "      <th>SPORTS</th>\n",
              "      <td>1096431465</td>\n",
              "    </tr>\n",
              "    <tr>\n",
              "      <th>HEALTH_AND_FITNESS</th>\n",
              "      <td>1134006220</td>\n",
              "    </tr>\n",
              "    <tr>\n",
              "      <th>SHOPPING</th>\n",
              "      <td>1400331540</td>\n",
              "    </tr>\n",
              "    <tr>\n",
              "      <th>PERSONALIZATION</th>\n",
              "      <td>1532352930</td>\n",
              "    </tr>\n",
              "    <tr>\n",
              "      <th>BOOKS_AND_REFERENCE</th>\n",
              "      <td>1665791655</td>\n",
              "    </tr>\n",
              "    <tr>\n",
              "      <th>ENTERTAINMENT</th>\n",
              "      <td>2113660000</td>\n",
              "    </tr>\n",
              "    <tr>\n",
              "      <th>NEWS_AND_MAGAZINES</th>\n",
              "      <td>2369110650</td>\n",
              "    </tr>\n",
              "    <tr>\n",
              "      <th>TRAVEL_AND_LOCAL</th>\n",
              "      <td>2894859300</td>\n",
              "    </tr>\n",
              "    <tr>\n",
              "      <th>VIDEO_PLAYERS</th>\n",
              "      <td>3916897200</td>\n",
              "    </tr>\n",
              "    <tr>\n",
              "      <th>FAMILY</th>\n",
              "      <td>4437554490</td>\n",
              "    </tr>\n",
              "    <tr>\n",
              "      <th>PHOTOGRAPHY</th>\n",
              "      <td>4649143130</td>\n",
              "    </tr>\n",
              "    <tr>\n",
              "      <th>SOCIAL</th>\n",
              "      <td>5487841475</td>\n",
              "    </tr>\n",
              "    <tr>\n",
              "      <th>PRODUCTIVITY</th>\n",
              "      <td>5788070180</td>\n",
              "    </tr>\n",
              "    <tr>\n",
              "      <th>TOOLS</th>\n",
              "      <td>8099724500</td>\n",
              "    </tr>\n",
              "    <tr>\n",
              "      <th>COMMUNICATION</th>\n",
              "      <td>11039241530</td>\n",
              "    </tr>\n",
              "    <tr>\n",
              "      <th>GAME</th>\n",
              "      <td>13858762717</td>\n",
              "    </tr>\n",
              "  </tbody>\n",
              "</table>\n",
              "</div>"
            ],
            "text/plain": [
              "                        Installs\n",
              "Category                        \n",
              "EVENTS                  15949410\n",
              "BEAUTY                  26916200\n",
              "PARENTING               31116110\n",
              "MEDICAL                 39162676\n",
              "COMICS                  44931100\n",
              "LIBRARIES_AND_DEMO      52083000\n",
              "AUTO_AND_VEHICLES       53129800\n",
              "HOUSE_AND_HOME          97082000\n",
              "ART_AND_DESIGN         114233100\n",
              "DATING                 140912410\n",
              "FOOD_AND_DRINK         211677750\n",
              "EDUCATION              352852000\n",
              "WEATHER                361096500\n",
              "FINANCE                455249400\n",
              "MAPS_AND_NAVIGATION    503267560\n",
              "LIFESTYLE              503611120\n",
              "BUSINESS               692018120\n",
              "SPORTS                1096431465\n",
              "HEALTH_AND_FITNESS    1134006220\n",
              "SHOPPING              1400331540\n",
              "PERSONALIZATION       1532352930\n",
              "BOOKS_AND_REFERENCE   1665791655\n",
              "ENTERTAINMENT         2113660000\n",
              "NEWS_AND_MAGAZINES    2369110650\n",
              "TRAVEL_AND_LOCAL      2894859300\n",
              "VIDEO_PLAYERS         3916897200\n",
              "FAMILY                4437554490\n",
              "PHOTOGRAPHY           4649143130\n",
              "SOCIAL                5487841475\n",
              "PRODUCTIVITY          5788070180\n",
              "TOOLS                 8099724500\n",
              "COMMUNICATION        11039241530\n",
              "GAME                 13858762717"
            ]
          },
          "metadata": {
            "tags": []
          },
          "execution_count": 185
        }
      ]
    },
    {
      "cell_type": "code",
      "metadata": {
        "colab": {
          "base_uri": "https://localhost:8080/",
          "height": 817
        },
        "id": "6wIat2vgpLwM",
        "outputId": "b5f0800e-4b76-4222-e6f4-56ed4f1ac2f6"
      },
      "source": [
        "# Create horizonal bar:\n",
        "h_bar = px.bar(x=category_installs.Installs,\n",
        "               y=category_installs.index,\n",
        "               orientation='h',\n",
        "               title='Category Popularity',\n",
        "               height=800)\n",
        "\n",
        "h_bar.update_layout(xaxis_title='Number of Downloads',\n",
        "                    yaxis_title='Category')\n",
        "\n",
        "h_bar.show()"
      ],
      "execution_count": 186,
      "outputs": [
        {
          "output_type": "display_data",
          "data": {
            "text/html": [
              "<html>\n",
              "<head><meta charset=\"utf-8\" /></head>\n",
              "<body>\n",
              "    <div>\n",
              "            <script src=\"https://cdnjs.cloudflare.com/ajax/libs/mathjax/2.7.5/MathJax.js?config=TeX-AMS-MML_SVG\"></script><script type=\"text/javascript\">if (window.MathJax) {MathJax.Hub.Config({SVG: {font: \"STIX-Web\"}});}</script>\n",
              "                <script type=\"text/javascript\">window.PlotlyConfig = {MathJaxConfig: 'local'};</script>\n",
              "        <script src=\"https://cdn.plot.ly/plotly-latest.min.js\"></script>    \n",
              "            <div id=\"9a61809f-d70e-488d-a70e-6c2c180f70f2\" class=\"plotly-graph-div\" style=\"height:800px; width:100%;\"></div>\n",
              "            <script type=\"text/javascript\">\n",
              "                \n",
              "                    window.PLOTLYENV=window.PLOTLYENV || {};\n",
              "                    \n",
              "                if (document.getElementById(\"9a61809f-d70e-488d-a70e-6c2c180f70f2\")) {\n",
              "                    Plotly.newPlot(\n",
              "                        '9a61809f-d70e-488d-a70e-6c2c180f70f2',\n",
              "                        [{\"alignmentgroup\": \"True\", \"hoverlabel\": {\"namelength\": 0}, \"hovertemplate\": \"x=%{x}<br>y=%{y}\", \"legendgroup\": \"\", \"marker\": {\"color\": \"#636efa\"}, \"name\": \"\", \"offsetgroup\": \"\", \"orientation\": \"h\", \"showlegend\": false, \"textposition\": \"auto\", \"type\": \"bar\", \"x\": [15949410, 26916200, 31116110, 39162676, 44931100, 52083000, 53129800, 97082000, 114233100, 140912410, 211677750, 352852000, 361096500, 455249400, 503267560, 503611120, 692018120, 1096431465, 1134006220, 1400331540, 1532352930, 1665791655, 2113660000, 2369110650, 2894859300, 3916897200, 4437554490, 4649143130, 5487841475, 5788070180, 8099724500, 11039241530, 13858762717], \"xaxis\": \"x\", \"y\": [\"EVENTS\", \"BEAUTY\", \"PARENTING\", \"MEDICAL\", \"COMICS\", \"LIBRARIES_AND_DEMO\", \"AUTO_AND_VEHICLES\", \"HOUSE_AND_HOME\", \"ART_AND_DESIGN\", \"DATING\", \"FOOD_AND_DRINK\", \"EDUCATION\", \"WEATHER\", \"FINANCE\", \"MAPS_AND_NAVIGATION\", \"LIFESTYLE\", \"BUSINESS\", \"SPORTS\", \"HEALTH_AND_FITNESS\", \"SHOPPING\", \"PERSONALIZATION\", \"BOOKS_AND_REFERENCE\", \"ENTERTAINMENT\", \"NEWS_AND_MAGAZINES\", \"TRAVEL_AND_LOCAL\", \"VIDEO_PLAYERS\", \"FAMILY\", \"PHOTOGRAPHY\", \"SOCIAL\", \"PRODUCTIVITY\", \"TOOLS\", \"COMMUNICATION\", \"GAME\"], \"yaxis\": \"y\"}],\n",
              "                        {\"barmode\": \"relative\", \"height\": 800, \"legend\": {\"tracegroupgap\": 0}, \"template\": {\"data\": {\"bar\": [{\"error_x\": {\"color\": \"#2a3f5f\"}, \"error_y\": {\"color\": \"#2a3f5f\"}, \"marker\": {\"line\": {\"color\": \"#E5ECF6\", \"width\": 0.5}}, \"type\": \"bar\"}], \"barpolar\": [{\"marker\": {\"line\": {\"color\": \"#E5ECF6\", \"width\": 0.5}}, \"type\": \"barpolar\"}], \"carpet\": [{\"aaxis\": {\"endlinecolor\": \"#2a3f5f\", \"gridcolor\": \"white\", \"linecolor\": \"white\", \"minorgridcolor\": \"white\", \"startlinecolor\": \"#2a3f5f\"}, \"baxis\": {\"endlinecolor\": \"#2a3f5f\", \"gridcolor\": \"white\", \"linecolor\": \"white\", \"minorgridcolor\": \"white\", \"startlinecolor\": \"#2a3f5f\"}, \"type\": \"carpet\"}], \"choropleth\": [{\"colorbar\": {\"outlinewidth\": 0, \"ticks\": \"\"}, \"type\": \"choropleth\"}], \"contour\": [{\"colorbar\": {\"outlinewidth\": 0, \"ticks\": \"\"}, \"colorscale\": [[0.0, \"#0d0887\"], [0.1111111111111111, \"#46039f\"], [0.2222222222222222, \"#7201a8\"], [0.3333333333333333, \"#9c179e\"], [0.4444444444444444, \"#bd3786\"], [0.5555555555555556, \"#d8576b\"], [0.6666666666666666, \"#ed7953\"], [0.7777777777777778, \"#fb9f3a\"], [0.8888888888888888, \"#fdca26\"], [1.0, \"#f0f921\"]], \"type\": \"contour\"}], \"contourcarpet\": [{\"colorbar\": {\"outlinewidth\": 0, \"ticks\": \"\"}, \"type\": \"contourcarpet\"}], \"heatmap\": [{\"colorbar\": {\"outlinewidth\": 0, \"ticks\": \"\"}, \"colorscale\": [[0.0, \"#0d0887\"], [0.1111111111111111, \"#46039f\"], [0.2222222222222222, \"#7201a8\"], [0.3333333333333333, \"#9c179e\"], [0.4444444444444444, \"#bd3786\"], [0.5555555555555556, \"#d8576b\"], [0.6666666666666666, \"#ed7953\"], [0.7777777777777778, \"#fb9f3a\"], [0.8888888888888888, \"#fdca26\"], [1.0, \"#f0f921\"]], \"type\": \"heatmap\"}], \"heatmapgl\": [{\"colorbar\": {\"outlinewidth\": 0, \"ticks\": \"\"}, \"colorscale\": [[0.0, \"#0d0887\"], [0.1111111111111111, \"#46039f\"], [0.2222222222222222, \"#7201a8\"], [0.3333333333333333, \"#9c179e\"], [0.4444444444444444, \"#bd3786\"], [0.5555555555555556, \"#d8576b\"], [0.6666666666666666, \"#ed7953\"], [0.7777777777777778, \"#fb9f3a\"], [0.8888888888888888, \"#fdca26\"], [1.0, \"#f0f921\"]], \"type\": \"heatmapgl\"}], \"histogram\": [{\"marker\": {\"colorbar\": {\"outlinewidth\": 0, \"ticks\": \"\"}}, \"type\": \"histogram\"}], \"histogram2d\": [{\"colorbar\": {\"outlinewidth\": 0, \"ticks\": \"\"}, \"colorscale\": [[0.0, \"#0d0887\"], [0.1111111111111111, \"#46039f\"], [0.2222222222222222, \"#7201a8\"], [0.3333333333333333, \"#9c179e\"], [0.4444444444444444, \"#bd3786\"], [0.5555555555555556, \"#d8576b\"], [0.6666666666666666, \"#ed7953\"], [0.7777777777777778, \"#fb9f3a\"], [0.8888888888888888, \"#fdca26\"], [1.0, \"#f0f921\"]], \"type\": \"histogram2d\"}], \"histogram2dcontour\": [{\"colorbar\": {\"outlinewidth\": 0, \"ticks\": \"\"}, \"colorscale\": [[0.0, \"#0d0887\"], [0.1111111111111111, \"#46039f\"], [0.2222222222222222, \"#7201a8\"], [0.3333333333333333, \"#9c179e\"], [0.4444444444444444, \"#bd3786\"], [0.5555555555555556, \"#d8576b\"], [0.6666666666666666, \"#ed7953\"], [0.7777777777777778, \"#fb9f3a\"], [0.8888888888888888, \"#fdca26\"], [1.0, \"#f0f921\"]], \"type\": \"histogram2dcontour\"}], \"mesh3d\": [{\"colorbar\": {\"outlinewidth\": 0, \"ticks\": \"\"}, \"type\": \"mesh3d\"}], \"parcoords\": [{\"line\": {\"colorbar\": {\"outlinewidth\": 0, \"ticks\": \"\"}}, \"type\": \"parcoords\"}], \"pie\": [{\"automargin\": true, \"type\": \"pie\"}], \"scatter\": [{\"marker\": {\"colorbar\": {\"outlinewidth\": 0, \"ticks\": \"\"}}, \"type\": \"scatter\"}], \"scatter3d\": [{\"line\": {\"colorbar\": {\"outlinewidth\": 0, \"ticks\": \"\"}}, \"marker\": {\"colorbar\": {\"outlinewidth\": 0, \"ticks\": \"\"}}, \"type\": \"scatter3d\"}], \"scattercarpet\": [{\"marker\": {\"colorbar\": {\"outlinewidth\": 0, \"ticks\": \"\"}}, \"type\": \"scattercarpet\"}], \"scattergeo\": [{\"marker\": {\"colorbar\": {\"outlinewidth\": 0, \"ticks\": \"\"}}, \"type\": \"scattergeo\"}], \"scattergl\": [{\"marker\": {\"colorbar\": {\"outlinewidth\": 0, \"ticks\": \"\"}}, \"type\": \"scattergl\"}], \"scattermapbox\": [{\"marker\": {\"colorbar\": {\"outlinewidth\": 0, \"ticks\": \"\"}}, \"type\": \"scattermapbox\"}], \"scatterpolar\": [{\"marker\": {\"colorbar\": {\"outlinewidth\": 0, \"ticks\": \"\"}}, \"type\": \"scatterpolar\"}], \"scatterpolargl\": [{\"marker\": {\"colorbar\": {\"outlinewidth\": 0, \"ticks\": \"\"}}, \"type\": \"scatterpolargl\"}], \"scatterternary\": [{\"marker\": {\"colorbar\": {\"outlinewidth\": 0, \"ticks\": \"\"}}, \"type\": \"scatterternary\"}], \"surface\": [{\"colorbar\": {\"outlinewidth\": 0, \"ticks\": \"\"}, \"colorscale\": [[0.0, \"#0d0887\"], [0.1111111111111111, \"#46039f\"], [0.2222222222222222, \"#7201a8\"], [0.3333333333333333, \"#9c179e\"], [0.4444444444444444, \"#bd3786\"], [0.5555555555555556, \"#d8576b\"], [0.6666666666666666, \"#ed7953\"], [0.7777777777777778, \"#fb9f3a\"], [0.8888888888888888, \"#fdca26\"], [1.0, \"#f0f921\"]], \"type\": \"surface\"}], \"table\": [{\"cells\": {\"fill\": {\"color\": \"#EBF0F8\"}, \"line\": {\"color\": \"white\"}}, \"header\": {\"fill\": {\"color\": \"#C8D4E3\"}, \"line\": {\"color\": \"white\"}}, \"type\": \"table\"}]}, \"layout\": {\"annotationdefaults\": {\"arrowcolor\": \"#2a3f5f\", \"arrowhead\": 0, \"arrowwidth\": 1}, \"coloraxis\": {\"colorbar\": {\"outlinewidth\": 0, \"ticks\": \"\"}}, \"colorscale\": {\"diverging\": [[0, \"#8e0152\"], [0.1, \"#c51b7d\"], [0.2, \"#de77ae\"], [0.3, \"#f1b6da\"], [0.4, \"#fde0ef\"], [0.5, \"#f7f7f7\"], [0.6, \"#e6f5d0\"], [0.7, \"#b8e186\"], [0.8, \"#7fbc41\"], [0.9, \"#4d9221\"], [1, \"#276419\"]], \"sequential\": [[0.0, \"#0d0887\"], [0.1111111111111111, \"#46039f\"], [0.2222222222222222, \"#7201a8\"], [0.3333333333333333, \"#9c179e\"], [0.4444444444444444, \"#bd3786\"], [0.5555555555555556, \"#d8576b\"], [0.6666666666666666, \"#ed7953\"], [0.7777777777777778, \"#fb9f3a\"], [0.8888888888888888, \"#fdca26\"], [1.0, \"#f0f921\"]], \"sequentialminus\": [[0.0, \"#0d0887\"], [0.1111111111111111, \"#46039f\"], [0.2222222222222222, \"#7201a8\"], [0.3333333333333333, \"#9c179e\"], [0.4444444444444444, \"#bd3786\"], [0.5555555555555556, \"#d8576b\"], [0.6666666666666666, \"#ed7953\"], [0.7777777777777778, \"#fb9f3a\"], [0.8888888888888888, \"#fdca26\"], [1.0, \"#f0f921\"]]}, \"colorway\": [\"#636efa\", \"#EF553B\", \"#00cc96\", \"#ab63fa\", \"#FFA15A\", \"#19d3f3\", \"#FF6692\", \"#B6E880\", \"#FF97FF\", \"#FECB52\"], \"font\": {\"color\": \"#2a3f5f\"}, \"geo\": {\"bgcolor\": \"white\", \"lakecolor\": \"white\", \"landcolor\": \"#E5ECF6\", \"showlakes\": true, \"showland\": true, \"subunitcolor\": \"white\"}, \"hoverlabel\": {\"align\": \"left\"}, \"hovermode\": \"closest\", \"mapbox\": {\"style\": \"light\"}, \"paper_bgcolor\": \"white\", \"plot_bgcolor\": \"#E5ECF6\", \"polar\": {\"angularaxis\": {\"gridcolor\": \"white\", \"linecolor\": \"white\", \"ticks\": \"\"}, \"bgcolor\": \"#E5ECF6\", \"radialaxis\": {\"gridcolor\": \"white\", \"linecolor\": \"white\", \"ticks\": \"\"}}, \"scene\": {\"xaxis\": {\"backgroundcolor\": \"#E5ECF6\", \"gridcolor\": \"white\", \"gridwidth\": 2, \"linecolor\": \"white\", \"showbackground\": true, \"ticks\": \"\", \"zerolinecolor\": \"white\"}, \"yaxis\": {\"backgroundcolor\": \"#E5ECF6\", \"gridcolor\": \"white\", \"gridwidth\": 2, \"linecolor\": \"white\", \"showbackground\": true, \"ticks\": \"\", \"zerolinecolor\": \"white\"}, \"zaxis\": {\"backgroundcolor\": \"#E5ECF6\", \"gridcolor\": \"white\", \"gridwidth\": 2, \"linecolor\": \"white\", \"showbackground\": true, \"ticks\": \"\", \"zerolinecolor\": \"white\"}}, \"shapedefaults\": {\"line\": {\"color\": \"#2a3f5f\"}}, \"ternary\": {\"aaxis\": {\"gridcolor\": \"white\", \"linecolor\": \"white\", \"ticks\": \"\"}, \"baxis\": {\"gridcolor\": \"white\", \"linecolor\": \"white\", \"ticks\": \"\"}, \"bgcolor\": \"#E5ECF6\", \"caxis\": {\"gridcolor\": \"white\", \"linecolor\": \"white\", \"ticks\": \"\"}}, \"title\": {\"x\": 0.05}, \"xaxis\": {\"automargin\": true, \"gridcolor\": \"white\", \"linecolor\": \"white\", \"ticks\": \"\", \"title\": {\"standoff\": 15}, \"zerolinecolor\": \"white\", \"zerolinewidth\": 2}, \"yaxis\": {\"automargin\": true, \"gridcolor\": \"white\", \"linecolor\": \"white\", \"ticks\": \"\", \"title\": {\"standoff\": 15}, \"zerolinecolor\": \"white\", \"zerolinewidth\": 2}}}, \"title\": {\"text\": \"Category Popularity\"}, \"xaxis\": {\"anchor\": \"y\", \"domain\": [0.0, 1.0], \"title\": {\"text\": \"Number of Downloads\"}}, \"yaxis\": {\"anchor\": \"x\", \"domain\": [0.0, 1.0], \"title\": {\"text\": \"Category\"}}},\n",
              "                        {\"responsive\": true}\n",
              "                    ).then(function(){\n",
              "                            \n",
              "var gd = document.getElementById('9a61809f-d70e-488d-a70e-6c2c180f70f2');\n",
              "var x = new MutationObserver(function (mutations, observer) {{\n",
              "        var display = window.getComputedStyle(gd).display;\n",
              "        if (!display || display === 'none') {{\n",
              "            console.log([gd, 'removed!']);\n",
              "            Plotly.purge(gd);\n",
              "            observer.disconnect();\n",
              "        }}\n",
              "}});\n",
              "\n",
              "// Listen for the removal of the full notebook cells\n",
              "var notebookContainer = gd.closest('#notebook-container');\n",
              "if (notebookContainer) {{\n",
              "    x.observe(notebookContainer, {childList: true});\n",
              "}}\n",
              "\n",
              "// Listen for the clearing of the current output cell\n",
              "var outputEl = gd.closest('.output');\n",
              "if (outputEl) {{\n",
              "    x.observe(outputEl, {childList: true});\n",
              "}}\n",
              "\n",
              "                        })\n",
              "                };\n",
              "                \n",
              "            </script>\n",
              "        </div>\n",
              "</body>\n",
              "</html>"
            ]
          },
          "metadata": {
            "tags": []
          }
        }
      ]
    },
    {
      "cell_type": "markdown",
      "metadata": {
        "id": "Uxk24qMk8vrz"
      },
      "source": [
        "### Category Concentration - Downloads vs. Competition\n",
        "\n",
        "**Challenge**: \n",
        "* First, create a DataFrame that has the number of apps in one column and the number of installs in another:\n",
        "\n",
        "<img src=https://imgur.com/uQRSlXi.png width=\"350\">\n",
        "\n",
        "* Then use the [plotly express examples from the documentation](https://plotly.com/python/line-and-scatter/) alongside the [.scatter() API reference](https://plotly.com/python-api-reference/generated/plotly.express.scatter.html)to create scatter plot that looks like this. \n",
        "\n",
        "<img src=https://imgur.com/cHsqh6a.png>\n",
        "\n",
        "*Hint*: Use the size, hover_name and color parameters in `.scatter()`. To scale the yaxis, call `.update_layout()` and specify that the yaxis should be on a log-scale like so: `yaxis=dict(type='log')`"
      ]
    },
    {
      "cell_type": "code",
      "metadata": {
        "colab": {
          "base_uri": "https://localhost:8080/",
          "height": 1000
        },
        "id": "TnUmXie8qJJH",
        "outputId": "e98f88ef-9b9e-4bce-c6ab-279e0f34311e"
      },
      "source": [
        "category_concentration = df_apps_clean.groupby('Category').agg({'App':pd.Series.count,'Installs':pd.Series.sum})\n",
        "\n",
        "print(category_concentration.shape)\n",
        "category_concentration.sort_values('Installs', ascending=False)"
      ],
      "execution_count": 187,
      "outputs": [
        {
          "output_type": "stream",
          "text": [
            "(33, 2)\n"
          ],
          "name": "stdout"
        },
        {
          "output_type": "execute_result",
          "data": {
            "text/html": [
              "<div>\n",
              "<style scoped>\n",
              "    .dataframe tbody tr th:only-of-type {\n",
              "        vertical-align: middle;\n",
              "    }\n",
              "\n",
              "    .dataframe tbody tr th {\n",
              "        vertical-align: top;\n",
              "    }\n",
              "\n",
              "    .dataframe thead th {\n",
              "        text-align: right;\n",
              "    }\n",
              "</style>\n",
              "<table border=\"1\" class=\"dataframe\">\n",
              "  <thead>\n",
              "    <tr style=\"text-align: right;\">\n",
              "      <th></th>\n",
              "      <th>App</th>\n",
              "      <th>Installs</th>\n",
              "    </tr>\n",
              "    <tr>\n",
              "      <th>Category</th>\n",
              "      <th></th>\n",
              "      <th></th>\n",
              "    </tr>\n",
              "  </thead>\n",
              "  <tbody>\n",
              "    <tr>\n",
              "      <th>GAME</th>\n",
              "      <td>910</td>\n",
              "      <td>13858762717</td>\n",
              "    </tr>\n",
              "    <tr>\n",
              "      <th>COMMUNICATION</th>\n",
              "      <td>257</td>\n",
              "      <td>11039241530</td>\n",
              "    </tr>\n",
              "    <tr>\n",
              "      <th>TOOLS</th>\n",
              "      <td>719</td>\n",
              "      <td>8099724500</td>\n",
              "    </tr>\n",
              "    <tr>\n",
              "      <th>PRODUCTIVITY</th>\n",
              "      <td>301</td>\n",
              "      <td>5788070180</td>\n",
              "    </tr>\n",
              "    <tr>\n",
              "      <th>SOCIAL</th>\n",
              "      <td>203</td>\n",
              "      <td>5487841475</td>\n",
              "    </tr>\n",
              "    <tr>\n",
              "      <th>PHOTOGRAPHY</th>\n",
              "      <td>263</td>\n",
              "      <td>4649143130</td>\n",
              "    </tr>\n",
              "    <tr>\n",
              "      <th>FAMILY</th>\n",
              "      <td>1606</td>\n",
              "      <td>4437554490</td>\n",
              "    </tr>\n",
              "    <tr>\n",
              "      <th>VIDEO_PLAYERS</th>\n",
              "      <td>148</td>\n",
              "      <td>3916897200</td>\n",
              "    </tr>\n",
              "    <tr>\n",
              "      <th>TRAVEL_AND_LOCAL</th>\n",
              "      <td>187</td>\n",
              "      <td>2894859300</td>\n",
              "    </tr>\n",
              "    <tr>\n",
              "      <th>NEWS_AND_MAGAZINES</th>\n",
              "      <td>204</td>\n",
              "      <td>2369110650</td>\n",
              "    </tr>\n",
              "    <tr>\n",
              "      <th>ENTERTAINMENT</th>\n",
              "      <td>102</td>\n",
              "      <td>2113660000</td>\n",
              "    </tr>\n",
              "    <tr>\n",
              "      <th>BOOKS_AND_REFERENCE</th>\n",
              "      <td>169</td>\n",
              "      <td>1665791655</td>\n",
              "    </tr>\n",
              "    <tr>\n",
              "      <th>PERSONALIZATION</th>\n",
              "      <td>298</td>\n",
              "      <td>1532352930</td>\n",
              "    </tr>\n",
              "    <tr>\n",
              "      <th>SHOPPING</th>\n",
              "      <td>180</td>\n",
              "      <td>1400331540</td>\n",
              "    </tr>\n",
              "    <tr>\n",
              "      <th>HEALTH_AND_FITNESS</th>\n",
              "      <td>243</td>\n",
              "      <td>1134006220</td>\n",
              "    </tr>\n",
              "    <tr>\n",
              "      <th>SPORTS</th>\n",
              "      <td>260</td>\n",
              "      <td>1096431465</td>\n",
              "    </tr>\n",
              "    <tr>\n",
              "      <th>BUSINESS</th>\n",
              "      <td>262</td>\n",
              "      <td>692018120</td>\n",
              "    </tr>\n",
              "    <tr>\n",
              "      <th>LIFESTYLE</th>\n",
              "      <td>297</td>\n",
              "      <td>503611120</td>\n",
              "    </tr>\n",
              "    <tr>\n",
              "      <th>MAPS_AND_NAVIGATION</th>\n",
              "      <td>118</td>\n",
              "      <td>503267560</td>\n",
              "    </tr>\n",
              "    <tr>\n",
              "      <th>FINANCE</th>\n",
              "      <td>296</td>\n",
              "      <td>455249400</td>\n",
              "    </tr>\n",
              "    <tr>\n",
              "      <th>WEATHER</th>\n",
              "      <td>72</td>\n",
              "      <td>361096500</td>\n",
              "    </tr>\n",
              "    <tr>\n",
              "      <th>EDUCATION</th>\n",
              "      <td>118</td>\n",
              "      <td>352852000</td>\n",
              "    </tr>\n",
              "    <tr>\n",
              "      <th>FOOD_AND_DRINK</th>\n",
              "      <td>94</td>\n",
              "      <td>211677750</td>\n",
              "    </tr>\n",
              "    <tr>\n",
              "      <th>DATING</th>\n",
              "      <td>134</td>\n",
              "      <td>140912410</td>\n",
              "    </tr>\n",
              "    <tr>\n",
              "      <th>ART_AND_DESIGN</th>\n",
              "      <td>61</td>\n",
              "      <td>114233100</td>\n",
              "    </tr>\n",
              "    <tr>\n",
              "      <th>HOUSE_AND_HOME</th>\n",
              "      <td>62</td>\n",
              "      <td>97082000</td>\n",
              "    </tr>\n",
              "    <tr>\n",
              "      <th>AUTO_AND_VEHICLES</th>\n",
              "      <td>73</td>\n",
              "      <td>53129800</td>\n",
              "    </tr>\n",
              "    <tr>\n",
              "      <th>LIBRARIES_AND_DEMO</th>\n",
              "      <td>64</td>\n",
              "      <td>52083000</td>\n",
              "    </tr>\n",
              "    <tr>\n",
              "      <th>COMICS</th>\n",
              "      <td>54</td>\n",
              "      <td>44931100</td>\n",
              "    </tr>\n",
              "    <tr>\n",
              "      <th>MEDICAL</th>\n",
              "      <td>292</td>\n",
              "      <td>39162676</td>\n",
              "    </tr>\n",
              "    <tr>\n",
              "      <th>PARENTING</th>\n",
              "      <td>50</td>\n",
              "      <td>31116110</td>\n",
              "    </tr>\n",
              "    <tr>\n",
              "      <th>BEAUTY</th>\n",
              "      <td>42</td>\n",
              "      <td>26916200</td>\n",
              "    </tr>\n",
              "    <tr>\n",
              "      <th>EVENTS</th>\n",
              "      <td>45</td>\n",
              "      <td>15949410</td>\n",
              "    </tr>\n",
              "  </tbody>\n",
              "</table>\n",
              "</div>"
            ],
            "text/plain": [
              "                      App     Installs\n",
              "Category                              \n",
              "GAME                  910  13858762717\n",
              "COMMUNICATION         257  11039241530\n",
              "TOOLS                 719   8099724500\n",
              "PRODUCTIVITY          301   5788070180\n",
              "SOCIAL                203   5487841475\n",
              "PHOTOGRAPHY           263   4649143130\n",
              "FAMILY               1606   4437554490\n",
              "VIDEO_PLAYERS         148   3916897200\n",
              "TRAVEL_AND_LOCAL      187   2894859300\n",
              "NEWS_AND_MAGAZINES    204   2369110650\n",
              "ENTERTAINMENT         102   2113660000\n",
              "BOOKS_AND_REFERENCE   169   1665791655\n",
              "PERSONALIZATION       298   1532352930\n",
              "SHOPPING              180   1400331540\n",
              "HEALTH_AND_FITNESS    243   1134006220\n",
              "SPORTS                260   1096431465\n",
              "BUSINESS              262    692018120\n",
              "LIFESTYLE             297    503611120\n",
              "MAPS_AND_NAVIGATION   118    503267560\n",
              "FINANCE               296    455249400\n",
              "WEATHER                72    361096500\n",
              "EDUCATION             118    352852000\n",
              "FOOD_AND_DRINK         94    211677750\n",
              "DATING                134    140912410\n",
              "ART_AND_DESIGN         61    114233100\n",
              "HOUSE_AND_HOME         62     97082000\n",
              "AUTO_AND_VEHICLES      73     53129800\n",
              "LIBRARIES_AND_DEMO     64     52083000\n",
              "COMICS                 54     44931100\n",
              "MEDICAL               292     39162676\n",
              "PARENTING              50     31116110\n",
              "BEAUTY                 42     26916200\n",
              "EVENTS                 45     15949410"
            ]
          },
          "metadata": {
            "tags": []
          },
          "execution_count": 187
        }
      ]
    },
    {
      "cell_type": "code",
      "metadata": {
        "colab": {
          "base_uri": "https://localhost:8080/",
          "height": 542
        },
        "id": "GlCRuaJarWZo",
        "outputId": "e3cd9218-b334-469a-9a9b-dbf071059126"
      },
      "source": [
        "scatter = px.scatter(category_concentration, \n",
        "                     x='App',\n",
        "                     y='Installs',\n",
        "                     title='Category Concentration',\n",
        "                     size='App', # size of the buble\n",
        "                     hover_name=category_concentration.index,\n",
        "                     color='Installs') # rainbow colors 🏳️‍🌈\n",
        "\n",
        "scatter.update_layout(xaxis_title='Number of Apps (Lower=More Concentrated)',\n",
        "                      yaxis_title='Installs',\n",
        "                      yaxis=dict(type='log')) # log-scale\n",
        "\n",
        "scatter.show()"
      ],
      "execution_count": 188,
      "outputs": [
        {
          "output_type": "display_data",
          "data": {
            "text/html": [
              "<html>\n",
              "<head><meta charset=\"utf-8\" /></head>\n",
              "<body>\n",
              "    <div>\n",
              "            <script src=\"https://cdnjs.cloudflare.com/ajax/libs/mathjax/2.7.5/MathJax.js?config=TeX-AMS-MML_SVG\"></script><script type=\"text/javascript\">if (window.MathJax) {MathJax.Hub.Config({SVG: {font: \"STIX-Web\"}});}</script>\n",
              "                <script type=\"text/javascript\">window.PlotlyConfig = {MathJaxConfig: 'local'};</script>\n",
              "        <script src=\"https://cdn.plot.ly/plotly-latest.min.js\"></script>    \n",
              "            <div id=\"a478211c-16ce-490e-8d1d-b9f202896fdb\" class=\"plotly-graph-div\" style=\"height:525px; width:100%;\"></div>\n",
              "            <script type=\"text/javascript\">\n",
              "                \n",
              "                    window.PLOTLYENV=window.PLOTLYENV || {};\n",
              "                    \n",
              "                if (document.getElementById(\"a478211c-16ce-490e-8d1d-b9f202896fdb\")) {\n",
              "                    Plotly.newPlot(\n",
              "                        'a478211c-16ce-490e-8d1d-b9f202896fdb',\n",
              "                        [{\"hoverlabel\": {\"namelength\": 0}, \"hovertemplate\": \"<b>%{hovertext}</b><br><br>App=%{marker.size}<br>Installs=%{marker.color}\", \"hovertext\": [\"ART_AND_DESIGN\", \"AUTO_AND_VEHICLES\", \"BEAUTY\", \"BOOKS_AND_REFERENCE\", \"BUSINESS\", \"COMICS\", \"COMMUNICATION\", \"DATING\", \"EDUCATION\", \"ENTERTAINMENT\", \"EVENTS\", \"FAMILY\", \"FINANCE\", \"FOOD_AND_DRINK\", \"GAME\", \"HEALTH_AND_FITNESS\", \"HOUSE_AND_HOME\", \"LIBRARIES_AND_DEMO\", \"LIFESTYLE\", \"MAPS_AND_NAVIGATION\", \"MEDICAL\", \"NEWS_AND_MAGAZINES\", \"PARENTING\", \"PERSONALIZATION\", \"PHOTOGRAPHY\", \"PRODUCTIVITY\", \"SHOPPING\", \"SOCIAL\", \"SPORTS\", \"TOOLS\", \"TRAVEL_AND_LOCAL\", \"VIDEO_PLAYERS\", \"WEATHER\"], \"legendgroup\": \"\", \"marker\": {\"color\": [114233100, 53129800, 26916200, 1665791655, 692018120, 44931100, 11039241530, 140912410, 352852000, 2113660000, 15949410, 4437554490, 455249400, 211677750, 13858762717, 1134006220, 97082000, 52083000, 503611120, 503267560, 39162676, 2369110650, 31116110, 1532352930, 4649143130, 5788070180, 1400331540, 5487841475, 1096431465, 8099724500, 2894859300, 3916897200, 361096500], \"coloraxis\": \"coloraxis\", \"size\": [61, 73, 42, 169, 262, 54, 257, 134, 118, 102, 45, 1606, 296, 94, 910, 243, 62, 64, 297, 118, 292, 204, 50, 298, 263, 301, 180, 203, 260, 719, 187, 148, 72], \"sizemode\": \"area\", \"sizeref\": 4.015, \"symbol\": \"circle\"}, \"mode\": \"markers\", \"name\": \"\", \"showlegend\": false, \"type\": \"scatter\", \"x\": [61, 73, 42, 169, 262, 54, 257, 134, 118, 102, 45, 1606, 296, 94, 910, 243, 62, 64, 297, 118, 292, 204, 50, 298, 263, 301, 180, 203, 260, 719, 187, 148, 72], \"xaxis\": \"x\", \"y\": [114233100, 53129800, 26916200, 1665791655, 692018120, 44931100, 11039241530, 140912410, 352852000, 2113660000, 15949410, 4437554490, 455249400, 211677750, 13858762717, 1134006220, 97082000, 52083000, 503611120, 503267560, 39162676, 2369110650, 31116110, 1532352930, 4649143130, 5788070180, 1400331540, 5487841475, 1096431465, 8099724500, 2894859300, 3916897200, 361096500], \"yaxis\": \"y\"}],\n",
              "                        {\"coloraxis\": {\"colorbar\": {\"title\": {\"text\": \"Installs\"}}, \"colorscale\": [[0.0, \"#0d0887\"], [0.1111111111111111, \"#46039f\"], [0.2222222222222222, \"#7201a8\"], [0.3333333333333333, \"#9c179e\"], [0.4444444444444444, \"#bd3786\"], [0.5555555555555556, \"#d8576b\"], [0.6666666666666666, \"#ed7953\"], [0.7777777777777778, \"#fb9f3a\"], [0.8888888888888888, \"#fdca26\"], [1.0, \"#f0f921\"]]}, \"legend\": {\"itemsizing\": \"constant\", \"tracegroupgap\": 0}, \"template\": {\"data\": {\"bar\": [{\"error_x\": {\"color\": \"#2a3f5f\"}, \"error_y\": {\"color\": \"#2a3f5f\"}, \"marker\": {\"line\": {\"color\": \"#E5ECF6\", \"width\": 0.5}}, \"type\": \"bar\"}], \"barpolar\": [{\"marker\": {\"line\": {\"color\": \"#E5ECF6\", \"width\": 0.5}}, \"type\": \"barpolar\"}], \"carpet\": [{\"aaxis\": {\"endlinecolor\": \"#2a3f5f\", \"gridcolor\": \"white\", \"linecolor\": \"white\", \"minorgridcolor\": \"white\", \"startlinecolor\": \"#2a3f5f\"}, \"baxis\": {\"endlinecolor\": \"#2a3f5f\", \"gridcolor\": \"white\", \"linecolor\": \"white\", \"minorgridcolor\": \"white\", \"startlinecolor\": \"#2a3f5f\"}, \"type\": \"carpet\"}], \"choropleth\": [{\"colorbar\": {\"outlinewidth\": 0, \"ticks\": \"\"}, \"type\": \"choropleth\"}], \"contour\": [{\"colorbar\": {\"outlinewidth\": 0, \"ticks\": \"\"}, \"colorscale\": [[0.0, \"#0d0887\"], [0.1111111111111111, \"#46039f\"], [0.2222222222222222, \"#7201a8\"], [0.3333333333333333, \"#9c179e\"], [0.4444444444444444, \"#bd3786\"], [0.5555555555555556, \"#d8576b\"], [0.6666666666666666, \"#ed7953\"], [0.7777777777777778, \"#fb9f3a\"], [0.8888888888888888, \"#fdca26\"], [1.0, \"#f0f921\"]], \"type\": \"contour\"}], \"contourcarpet\": [{\"colorbar\": {\"outlinewidth\": 0, \"ticks\": \"\"}, \"type\": \"contourcarpet\"}], \"heatmap\": [{\"colorbar\": {\"outlinewidth\": 0, \"ticks\": \"\"}, \"colorscale\": [[0.0, \"#0d0887\"], [0.1111111111111111, \"#46039f\"], [0.2222222222222222, \"#7201a8\"], [0.3333333333333333, \"#9c179e\"], [0.4444444444444444, \"#bd3786\"], [0.5555555555555556, \"#d8576b\"], [0.6666666666666666, \"#ed7953\"], [0.7777777777777778, \"#fb9f3a\"], [0.8888888888888888, \"#fdca26\"], [1.0, \"#f0f921\"]], \"type\": \"heatmap\"}], \"heatmapgl\": [{\"colorbar\": {\"outlinewidth\": 0, \"ticks\": \"\"}, \"colorscale\": [[0.0, \"#0d0887\"], [0.1111111111111111, \"#46039f\"], [0.2222222222222222, \"#7201a8\"], [0.3333333333333333, \"#9c179e\"], [0.4444444444444444, \"#bd3786\"], [0.5555555555555556, \"#d8576b\"], [0.6666666666666666, \"#ed7953\"], [0.7777777777777778, \"#fb9f3a\"], [0.8888888888888888, \"#fdca26\"], [1.0, \"#f0f921\"]], \"type\": \"heatmapgl\"}], \"histogram\": [{\"marker\": {\"colorbar\": {\"outlinewidth\": 0, \"ticks\": \"\"}}, \"type\": \"histogram\"}], \"histogram2d\": [{\"colorbar\": {\"outlinewidth\": 0, \"ticks\": \"\"}, \"colorscale\": [[0.0, \"#0d0887\"], [0.1111111111111111, \"#46039f\"], [0.2222222222222222, \"#7201a8\"], [0.3333333333333333, \"#9c179e\"], [0.4444444444444444, \"#bd3786\"], [0.5555555555555556, \"#d8576b\"], [0.6666666666666666, \"#ed7953\"], [0.7777777777777778, \"#fb9f3a\"], [0.8888888888888888, \"#fdca26\"], [1.0, \"#f0f921\"]], \"type\": \"histogram2d\"}], \"histogram2dcontour\": [{\"colorbar\": {\"outlinewidth\": 0, \"ticks\": \"\"}, \"colorscale\": [[0.0, \"#0d0887\"], [0.1111111111111111, \"#46039f\"], [0.2222222222222222, \"#7201a8\"], [0.3333333333333333, \"#9c179e\"], [0.4444444444444444, \"#bd3786\"], [0.5555555555555556, \"#d8576b\"], [0.6666666666666666, \"#ed7953\"], [0.7777777777777778, \"#fb9f3a\"], [0.8888888888888888, \"#fdca26\"], [1.0, \"#f0f921\"]], \"type\": \"histogram2dcontour\"}], \"mesh3d\": [{\"colorbar\": {\"outlinewidth\": 0, \"ticks\": \"\"}, \"type\": \"mesh3d\"}], \"parcoords\": [{\"line\": {\"colorbar\": {\"outlinewidth\": 0, \"ticks\": \"\"}}, \"type\": \"parcoords\"}], \"pie\": [{\"automargin\": true, \"type\": \"pie\"}], \"scatter\": [{\"marker\": {\"colorbar\": {\"outlinewidth\": 0, \"ticks\": \"\"}}, \"type\": \"scatter\"}], \"scatter3d\": [{\"line\": {\"colorbar\": {\"outlinewidth\": 0, \"ticks\": \"\"}}, \"marker\": {\"colorbar\": {\"outlinewidth\": 0, \"ticks\": \"\"}}, \"type\": \"scatter3d\"}], \"scattercarpet\": [{\"marker\": {\"colorbar\": {\"outlinewidth\": 0, \"ticks\": \"\"}}, \"type\": \"scattercarpet\"}], \"scattergeo\": [{\"marker\": {\"colorbar\": {\"outlinewidth\": 0, \"ticks\": \"\"}}, \"type\": \"scattergeo\"}], \"scattergl\": [{\"marker\": {\"colorbar\": {\"outlinewidth\": 0, \"ticks\": \"\"}}, \"type\": \"scattergl\"}], \"scattermapbox\": [{\"marker\": {\"colorbar\": {\"outlinewidth\": 0, \"ticks\": \"\"}}, \"type\": \"scattermapbox\"}], \"scatterpolar\": [{\"marker\": {\"colorbar\": {\"outlinewidth\": 0, \"ticks\": \"\"}}, \"type\": \"scatterpolar\"}], \"scatterpolargl\": [{\"marker\": {\"colorbar\": {\"outlinewidth\": 0, \"ticks\": \"\"}}, \"type\": \"scatterpolargl\"}], \"scatterternary\": [{\"marker\": {\"colorbar\": {\"outlinewidth\": 0, \"ticks\": \"\"}}, \"type\": \"scatterternary\"}], \"surface\": [{\"colorbar\": {\"outlinewidth\": 0, \"ticks\": \"\"}, \"colorscale\": [[0.0, \"#0d0887\"], [0.1111111111111111, \"#46039f\"], [0.2222222222222222, \"#7201a8\"], [0.3333333333333333, \"#9c179e\"], [0.4444444444444444, \"#bd3786\"], [0.5555555555555556, \"#d8576b\"], [0.6666666666666666, \"#ed7953\"], [0.7777777777777778, \"#fb9f3a\"], [0.8888888888888888, \"#fdca26\"], [1.0, \"#f0f921\"]], \"type\": \"surface\"}], \"table\": [{\"cells\": {\"fill\": {\"color\": \"#EBF0F8\"}, \"line\": {\"color\": \"white\"}}, \"header\": {\"fill\": {\"color\": \"#C8D4E3\"}, \"line\": {\"color\": \"white\"}}, \"type\": \"table\"}]}, \"layout\": {\"annotationdefaults\": {\"arrowcolor\": \"#2a3f5f\", \"arrowhead\": 0, \"arrowwidth\": 1}, \"coloraxis\": {\"colorbar\": {\"outlinewidth\": 0, \"ticks\": \"\"}}, \"colorscale\": {\"diverging\": [[0, \"#8e0152\"], [0.1, \"#c51b7d\"], [0.2, \"#de77ae\"], [0.3, \"#f1b6da\"], [0.4, \"#fde0ef\"], [0.5, \"#f7f7f7\"], [0.6, \"#e6f5d0\"], [0.7, \"#b8e186\"], [0.8, \"#7fbc41\"], [0.9, \"#4d9221\"], [1, \"#276419\"]], \"sequential\": [[0.0, \"#0d0887\"], [0.1111111111111111, \"#46039f\"], [0.2222222222222222, \"#7201a8\"], [0.3333333333333333, \"#9c179e\"], [0.4444444444444444, \"#bd3786\"], [0.5555555555555556, \"#d8576b\"], [0.6666666666666666, \"#ed7953\"], [0.7777777777777778, \"#fb9f3a\"], [0.8888888888888888, \"#fdca26\"], [1.0, \"#f0f921\"]], \"sequentialminus\": [[0.0, \"#0d0887\"], [0.1111111111111111, \"#46039f\"], [0.2222222222222222, \"#7201a8\"], [0.3333333333333333, \"#9c179e\"], [0.4444444444444444, \"#bd3786\"], [0.5555555555555556, \"#d8576b\"], [0.6666666666666666, \"#ed7953\"], [0.7777777777777778, \"#fb9f3a\"], [0.8888888888888888, \"#fdca26\"], [1.0, \"#f0f921\"]]}, \"colorway\": [\"#636efa\", \"#EF553B\", \"#00cc96\", \"#ab63fa\", \"#FFA15A\", \"#19d3f3\", \"#FF6692\", \"#B6E880\", \"#FF97FF\", \"#FECB52\"], \"font\": {\"color\": \"#2a3f5f\"}, \"geo\": {\"bgcolor\": \"white\", \"lakecolor\": \"white\", \"landcolor\": \"#E5ECF6\", \"showlakes\": true, \"showland\": true, \"subunitcolor\": \"white\"}, \"hoverlabel\": {\"align\": \"left\"}, \"hovermode\": \"closest\", \"mapbox\": {\"style\": \"light\"}, \"paper_bgcolor\": \"white\", \"plot_bgcolor\": \"#E5ECF6\", \"polar\": {\"angularaxis\": {\"gridcolor\": \"white\", \"linecolor\": \"white\", \"ticks\": \"\"}, \"bgcolor\": \"#E5ECF6\", \"radialaxis\": {\"gridcolor\": \"white\", \"linecolor\": \"white\", \"ticks\": \"\"}}, \"scene\": {\"xaxis\": {\"backgroundcolor\": \"#E5ECF6\", \"gridcolor\": \"white\", \"gridwidth\": 2, \"linecolor\": \"white\", \"showbackground\": true, \"ticks\": \"\", \"zerolinecolor\": \"white\"}, \"yaxis\": {\"backgroundcolor\": \"#E5ECF6\", \"gridcolor\": \"white\", \"gridwidth\": 2, \"linecolor\": \"white\", \"showbackground\": true, \"ticks\": \"\", \"zerolinecolor\": \"white\"}, \"zaxis\": {\"backgroundcolor\": \"#E5ECF6\", \"gridcolor\": \"white\", \"gridwidth\": 2, \"linecolor\": \"white\", \"showbackground\": true, \"ticks\": \"\", \"zerolinecolor\": \"white\"}}, \"shapedefaults\": {\"line\": {\"color\": \"#2a3f5f\"}}, \"ternary\": {\"aaxis\": {\"gridcolor\": \"white\", \"linecolor\": \"white\", \"ticks\": \"\"}, \"baxis\": {\"gridcolor\": \"white\", \"linecolor\": \"white\", \"ticks\": \"\"}, \"bgcolor\": \"#E5ECF6\", \"caxis\": {\"gridcolor\": \"white\", \"linecolor\": \"white\", \"ticks\": \"\"}}, \"title\": {\"x\": 0.05}, \"xaxis\": {\"automargin\": true, \"gridcolor\": \"white\", \"linecolor\": \"white\", \"ticks\": \"\", \"title\": {\"standoff\": 15}, \"zerolinecolor\": \"white\", \"zerolinewidth\": 2}, \"yaxis\": {\"automargin\": true, \"gridcolor\": \"white\", \"linecolor\": \"white\", \"ticks\": \"\", \"title\": {\"standoff\": 15}, \"zerolinecolor\": \"white\", \"zerolinewidth\": 2}}}, \"title\": {\"text\": \"Category Concentration\"}, \"xaxis\": {\"anchor\": \"y\", \"domain\": [0.0, 1.0], \"title\": {\"text\": \"Number of Apps (Lower=More Concentrated)\"}}, \"yaxis\": {\"anchor\": \"x\", \"domain\": [0.0, 1.0], \"title\": {\"text\": \"Installs\"}, \"type\": \"log\"}},\n",
              "                        {\"responsive\": true}\n",
              "                    ).then(function(){\n",
              "                            \n",
              "var gd = document.getElementById('a478211c-16ce-490e-8d1d-b9f202896fdb');\n",
              "var x = new MutationObserver(function (mutations, observer) {{\n",
              "        var display = window.getComputedStyle(gd).display;\n",
              "        if (!display || display === 'none') {{\n",
              "            console.log([gd, 'removed!']);\n",
              "            Plotly.purge(gd);\n",
              "            observer.disconnect();\n",
              "        }}\n",
              "}});\n",
              "\n",
              "// Listen for the removal of the full notebook cells\n",
              "var notebookContainer = gd.closest('#notebook-container');\n",
              "if (notebookContainer) {{\n",
              "    x.observe(notebookContainer, {childList: true});\n",
              "}}\n",
              "\n",
              "// Listen for the clearing of the current output cell\n",
              "var outputEl = gd.closest('.output');\n",
              "if (outputEl) {{\n",
              "    x.observe(outputEl, {childList: true});\n",
              "}}\n",
              "\n",
              "                        })\n",
              "                };\n",
              "                \n",
              "            </script>\n",
              "        </div>\n",
              "</body>\n",
              "</html>"
            ]
          },
          "metadata": {
            "tags": []
          }
        }
      ]
    },
    {
      "cell_type": "markdown",
      "metadata": {
        "id": "HyuuXEMcubkM"
      },
      "source": [
        "What we see is that the categories like Family, Tools, and Game have many different apps sharing a high number of downloads. But for the categories like video players and entertainment, all the downloads are concentrated in very few apps.\n",
        "<img src='https://img-c.udemycdn.com/redactor/raw/2020-10-11_13-16-11-a310e773b06e1efc0ad4114a12a51e01.png'>"
      ]
    },
    {
      "cell_type": "markdown",
      "metadata": {
        "id": "P1NtrxDzv-LJ"
      },
      "source": [
        "### Installs/App column:"
      ]
    },
    {
      "cell_type": "code",
      "metadata": {
        "colab": {
          "base_uri": "https://localhost:8080/",
          "height": 542
        },
        "id": "lAXjjh0_v8cC",
        "outputId": "bd10da89-cd68-4b8c-f749-cfea7607e4a7"
      },
      "source": [
        "cat_con = df_apps_clean.groupby('Category').agg({'App':pd.Series.count,'Installs':pd.Series.sum})\n",
        "cat_con.sort_values('Installs', ascending=False, inplace=True)\n",
        "cat_con['Installs/App'] = cat_con.Installs.div(cat_con.App)\n",
        "\n",
        "scatter = px.scatter(cat_con,\n",
        "                     x='App',\n",
        "                     y='Installs',\n",
        "                     log_y=True, # ???\n",
        "                     color='Installs/App',\n",
        "                     color_continuous_scale=px.colors.sequential.Plasma_r,\n",
        "                     size=cat_con.App,\n",
        "                     size_max=40,\n",
        "                     hover_name=cat_con.index,\n",
        "                     title='Category Concentration'\n",
        "                     )\n",
        "\n",
        "scatter.update_layout(xaxis_title='Number of Apps (Lower=More Concentrated)',\n",
        "                      yaxis_title='Installs')\n",
        "\n",
        "scatter.show()"
      ],
      "execution_count": 189,
      "outputs": [
        {
          "output_type": "display_data",
          "data": {
            "text/html": [
              "<html>\n",
              "<head><meta charset=\"utf-8\" /></head>\n",
              "<body>\n",
              "    <div>\n",
              "            <script src=\"https://cdnjs.cloudflare.com/ajax/libs/mathjax/2.7.5/MathJax.js?config=TeX-AMS-MML_SVG\"></script><script type=\"text/javascript\">if (window.MathJax) {MathJax.Hub.Config({SVG: {font: \"STIX-Web\"}});}</script>\n",
              "                <script type=\"text/javascript\">window.PlotlyConfig = {MathJaxConfig: 'local'};</script>\n",
              "        <script src=\"https://cdn.plot.ly/plotly-latest.min.js\"></script>    \n",
              "            <div id=\"9acb0996-e23f-4698-a281-807c2e08c7e1\" class=\"plotly-graph-div\" style=\"height:525px; width:100%;\"></div>\n",
              "            <script type=\"text/javascript\">\n",
              "                \n",
              "                    window.PLOTLYENV=window.PLOTLYENV || {};\n",
              "                    \n",
              "                if (document.getElementById(\"9acb0996-e23f-4698-a281-807c2e08c7e1\")) {\n",
              "                    Plotly.newPlot(\n",
              "                        '9acb0996-e23f-4698-a281-807c2e08c7e1',\n",
              "                        [{\"hoverlabel\": {\"namelength\": 0}, \"hovertemplate\": \"<b>%{hovertext}</b><br><br>App=%{marker.size}<br>Installs=%{y}<br>Installs/App=%{marker.color}\", \"hovertext\": [\"GAME\", \"COMMUNICATION\", \"TOOLS\", \"PRODUCTIVITY\", \"SOCIAL\", \"PHOTOGRAPHY\", \"FAMILY\", \"VIDEO_PLAYERS\", \"TRAVEL_AND_LOCAL\", \"NEWS_AND_MAGAZINES\", \"ENTERTAINMENT\", \"BOOKS_AND_REFERENCE\", \"PERSONALIZATION\", \"SHOPPING\", \"HEALTH_AND_FITNESS\", \"SPORTS\", \"BUSINESS\", \"LIFESTYLE\", \"MAPS_AND_NAVIGATION\", \"FINANCE\", \"WEATHER\", \"EDUCATION\", \"FOOD_AND_DRINK\", \"DATING\", \"ART_AND_DESIGN\", \"HOUSE_AND_HOME\", \"AUTO_AND_VEHICLES\", \"LIBRARIES_AND_DEMO\", \"COMICS\", \"MEDICAL\", \"PARENTING\", \"BEAUTY\", \"EVENTS\"], \"legendgroup\": \"\", \"marker\": {\"color\": [15229409.57912088, 42954247.19844358, 11265263.560500696, 19229469.036544852, 27033701.84729064, 17677350.30418251, 2763109.894146949, 26465521.62162162, 15480531.01604278, 11613287.5, 20722156.8627451, 9856755.355029587, 5142123.926174496, 7779619.666666667, 4666692.263374486, 4217044.096153846, 2641290.534351145, 1695660.3367003368, 4264979.322033898, 1538004.7297297297, 5015229.166666667, 2990271.186440678, 2251890.9574468085, 1051585.1492537314, 1872673.7704918033, 1565838.7096774194, 727805.4794520548, 813796.875, 832057.4074074074, 134118.75342465754, 622322.2, 640861.9047619047, 354431.3333333333], \"coloraxis\": \"coloraxis\", \"size\": [910, 257, 719, 301, 203, 263, 1606, 148, 187, 204, 102, 169, 298, 180, 243, 260, 262, 297, 118, 296, 72, 118, 94, 134, 61, 62, 73, 64, 54, 292, 50, 42, 45], \"sizemode\": \"area\", \"sizeref\": 1.00375, \"symbol\": \"circle\"}, \"mode\": \"markers\", \"name\": \"\", \"showlegend\": false, \"type\": \"scatter\", \"x\": [910, 257, 719, 301, 203, 263, 1606, 148, 187, 204, 102, 169, 298, 180, 243, 260, 262, 297, 118, 296, 72, 118, 94, 134, 61, 62, 73, 64, 54, 292, 50, 42, 45], \"xaxis\": \"x\", \"y\": [13858762717, 11039241530, 8099724500, 5788070180, 5487841475, 4649143130, 4437554490, 3916897200, 2894859300, 2369110650, 2113660000, 1665791655, 1532352930, 1400331540, 1134006220, 1096431465, 692018120, 503611120, 503267560, 455249400, 361096500, 352852000, 211677750, 140912410, 114233100, 97082000, 53129800, 52083000, 44931100, 39162676, 31116110, 26916200, 15949410], \"yaxis\": \"y\"}],\n",
              "                        {\"coloraxis\": {\"colorbar\": {\"title\": {\"text\": \"Installs/App\"}}, \"colorscale\": [[0.0, \"#f0f921\"], [0.1111111111111111, \"#fdca26\"], [0.2222222222222222, \"#fb9f3a\"], [0.3333333333333333, \"#ed7953\"], [0.4444444444444444, \"#d8576b\"], [0.5555555555555556, \"#bd3786\"], [0.6666666666666666, \"#9c179e\"], [0.7777777777777778, \"#7201a8\"], [0.8888888888888888, \"#46039f\"], [1.0, \"#0d0887\"]]}, \"legend\": {\"itemsizing\": \"constant\", \"tracegroupgap\": 0}, \"template\": {\"data\": {\"bar\": [{\"error_x\": {\"color\": \"#2a3f5f\"}, \"error_y\": {\"color\": \"#2a3f5f\"}, \"marker\": {\"line\": {\"color\": \"#E5ECF6\", \"width\": 0.5}}, \"type\": \"bar\"}], \"barpolar\": [{\"marker\": {\"line\": {\"color\": \"#E5ECF6\", \"width\": 0.5}}, \"type\": \"barpolar\"}], \"carpet\": [{\"aaxis\": {\"endlinecolor\": \"#2a3f5f\", \"gridcolor\": \"white\", \"linecolor\": \"white\", \"minorgridcolor\": \"white\", \"startlinecolor\": \"#2a3f5f\"}, \"baxis\": {\"endlinecolor\": \"#2a3f5f\", \"gridcolor\": \"white\", \"linecolor\": \"white\", \"minorgridcolor\": \"white\", \"startlinecolor\": \"#2a3f5f\"}, \"type\": \"carpet\"}], \"choropleth\": [{\"colorbar\": {\"outlinewidth\": 0, \"ticks\": \"\"}, \"type\": \"choropleth\"}], \"contour\": [{\"colorbar\": {\"outlinewidth\": 0, \"ticks\": \"\"}, \"colorscale\": [[0.0, \"#0d0887\"], [0.1111111111111111, \"#46039f\"], [0.2222222222222222, \"#7201a8\"], [0.3333333333333333, \"#9c179e\"], [0.4444444444444444, \"#bd3786\"], [0.5555555555555556, \"#d8576b\"], [0.6666666666666666, \"#ed7953\"], [0.7777777777777778, \"#fb9f3a\"], [0.8888888888888888, \"#fdca26\"], [1.0, \"#f0f921\"]], \"type\": \"contour\"}], \"contourcarpet\": [{\"colorbar\": {\"outlinewidth\": 0, \"ticks\": \"\"}, \"type\": \"contourcarpet\"}], \"heatmap\": [{\"colorbar\": {\"outlinewidth\": 0, \"ticks\": \"\"}, \"colorscale\": [[0.0, \"#0d0887\"], [0.1111111111111111, \"#46039f\"], [0.2222222222222222, \"#7201a8\"], [0.3333333333333333, \"#9c179e\"], [0.4444444444444444, \"#bd3786\"], [0.5555555555555556, \"#d8576b\"], [0.6666666666666666, \"#ed7953\"], [0.7777777777777778, \"#fb9f3a\"], [0.8888888888888888, \"#fdca26\"], [1.0, \"#f0f921\"]], \"type\": \"heatmap\"}], \"heatmapgl\": [{\"colorbar\": {\"outlinewidth\": 0, \"ticks\": \"\"}, \"colorscale\": [[0.0, \"#0d0887\"], [0.1111111111111111, \"#46039f\"], [0.2222222222222222, \"#7201a8\"], [0.3333333333333333, \"#9c179e\"], [0.4444444444444444, \"#bd3786\"], [0.5555555555555556, \"#d8576b\"], [0.6666666666666666, \"#ed7953\"], [0.7777777777777778, \"#fb9f3a\"], [0.8888888888888888, \"#fdca26\"], [1.0, \"#f0f921\"]], \"type\": \"heatmapgl\"}], \"histogram\": [{\"marker\": {\"colorbar\": {\"outlinewidth\": 0, \"ticks\": \"\"}}, \"type\": \"histogram\"}], \"histogram2d\": [{\"colorbar\": {\"outlinewidth\": 0, \"ticks\": \"\"}, \"colorscale\": [[0.0, \"#0d0887\"], [0.1111111111111111, \"#46039f\"], [0.2222222222222222, \"#7201a8\"], [0.3333333333333333, \"#9c179e\"], [0.4444444444444444, \"#bd3786\"], [0.5555555555555556, \"#d8576b\"], [0.6666666666666666, \"#ed7953\"], [0.7777777777777778, \"#fb9f3a\"], [0.8888888888888888, \"#fdca26\"], [1.0, \"#f0f921\"]], \"type\": \"histogram2d\"}], \"histogram2dcontour\": [{\"colorbar\": {\"outlinewidth\": 0, \"ticks\": \"\"}, \"colorscale\": [[0.0, \"#0d0887\"], [0.1111111111111111, \"#46039f\"], [0.2222222222222222, \"#7201a8\"], [0.3333333333333333, \"#9c179e\"], [0.4444444444444444, \"#bd3786\"], [0.5555555555555556, \"#d8576b\"], [0.6666666666666666, \"#ed7953\"], [0.7777777777777778, \"#fb9f3a\"], [0.8888888888888888, \"#fdca26\"], [1.0, \"#f0f921\"]], \"type\": \"histogram2dcontour\"}], \"mesh3d\": [{\"colorbar\": {\"outlinewidth\": 0, \"ticks\": \"\"}, \"type\": \"mesh3d\"}], \"parcoords\": [{\"line\": {\"colorbar\": {\"outlinewidth\": 0, \"ticks\": \"\"}}, \"type\": \"parcoords\"}], \"pie\": [{\"automargin\": true, \"type\": \"pie\"}], \"scatter\": [{\"marker\": {\"colorbar\": {\"outlinewidth\": 0, \"ticks\": \"\"}}, \"type\": \"scatter\"}], \"scatter3d\": [{\"line\": {\"colorbar\": {\"outlinewidth\": 0, \"ticks\": \"\"}}, \"marker\": {\"colorbar\": {\"outlinewidth\": 0, \"ticks\": \"\"}}, \"type\": \"scatter3d\"}], \"scattercarpet\": [{\"marker\": {\"colorbar\": {\"outlinewidth\": 0, \"ticks\": \"\"}}, \"type\": \"scattercarpet\"}], \"scattergeo\": [{\"marker\": {\"colorbar\": {\"outlinewidth\": 0, \"ticks\": \"\"}}, \"type\": \"scattergeo\"}], \"scattergl\": [{\"marker\": {\"colorbar\": {\"outlinewidth\": 0, \"ticks\": \"\"}}, \"type\": \"scattergl\"}], \"scattermapbox\": [{\"marker\": {\"colorbar\": {\"outlinewidth\": 0, \"ticks\": \"\"}}, \"type\": \"scattermapbox\"}], \"scatterpolar\": [{\"marker\": {\"colorbar\": {\"outlinewidth\": 0, \"ticks\": \"\"}}, \"type\": \"scatterpolar\"}], \"scatterpolargl\": [{\"marker\": {\"colorbar\": {\"outlinewidth\": 0, \"ticks\": \"\"}}, \"type\": \"scatterpolargl\"}], \"scatterternary\": [{\"marker\": {\"colorbar\": {\"outlinewidth\": 0, \"ticks\": \"\"}}, \"type\": \"scatterternary\"}], \"surface\": [{\"colorbar\": {\"outlinewidth\": 0, \"ticks\": \"\"}, \"colorscale\": [[0.0, \"#0d0887\"], [0.1111111111111111, \"#46039f\"], [0.2222222222222222, \"#7201a8\"], [0.3333333333333333, \"#9c179e\"], [0.4444444444444444, \"#bd3786\"], [0.5555555555555556, \"#d8576b\"], [0.6666666666666666, \"#ed7953\"], [0.7777777777777778, \"#fb9f3a\"], [0.8888888888888888, \"#fdca26\"], [1.0, \"#f0f921\"]], \"type\": \"surface\"}], \"table\": [{\"cells\": {\"fill\": {\"color\": \"#EBF0F8\"}, \"line\": {\"color\": \"white\"}}, \"header\": {\"fill\": {\"color\": \"#C8D4E3\"}, \"line\": {\"color\": \"white\"}}, \"type\": \"table\"}]}, \"layout\": {\"annotationdefaults\": {\"arrowcolor\": \"#2a3f5f\", \"arrowhead\": 0, \"arrowwidth\": 1}, \"coloraxis\": {\"colorbar\": {\"outlinewidth\": 0, \"ticks\": \"\"}}, \"colorscale\": {\"diverging\": [[0, \"#8e0152\"], [0.1, \"#c51b7d\"], [0.2, \"#de77ae\"], [0.3, \"#f1b6da\"], [0.4, \"#fde0ef\"], [0.5, \"#f7f7f7\"], [0.6, \"#e6f5d0\"], [0.7, \"#b8e186\"], [0.8, \"#7fbc41\"], [0.9, \"#4d9221\"], [1, \"#276419\"]], \"sequential\": [[0.0, \"#0d0887\"], [0.1111111111111111, \"#46039f\"], [0.2222222222222222, \"#7201a8\"], [0.3333333333333333, \"#9c179e\"], [0.4444444444444444, \"#bd3786\"], [0.5555555555555556, \"#d8576b\"], [0.6666666666666666, \"#ed7953\"], [0.7777777777777778, \"#fb9f3a\"], [0.8888888888888888, \"#fdca26\"], [1.0, \"#f0f921\"]], \"sequentialminus\": [[0.0, \"#0d0887\"], [0.1111111111111111, \"#46039f\"], [0.2222222222222222, \"#7201a8\"], [0.3333333333333333, \"#9c179e\"], [0.4444444444444444, \"#bd3786\"], [0.5555555555555556, \"#d8576b\"], [0.6666666666666666, \"#ed7953\"], [0.7777777777777778, \"#fb9f3a\"], [0.8888888888888888, \"#fdca26\"], [1.0, \"#f0f921\"]]}, \"colorway\": [\"#636efa\", \"#EF553B\", \"#00cc96\", \"#ab63fa\", \"#FFA15A\", \"#19d3f3\", \"#FF6692\", \"#B6E880\", \"#FF97FF\", \"#FECB52\"], \"font\": {\"color\": \"#2a3f5f\"}, \"geo\": {\"bgcolor\": \"white\", \"lakecolor\": \"white\", \"landcolor\": \"#E5ECF6\", \"showlakes\": true, \"showland\": true, \"subunitcolor\": \"white\"}, \"hoverlabel\": {\"align\": \"left\"}, \"hovermode\": \"closest\", \"mapbox\": {\"style\": \"light\"}, \"paper_bgcolor\": \"white\", \"plot_bgcolor\": \"#E5ECF6\", \"polar\": {\"angularaxis\": {\"gridcolor\": \"white\", \"linecolor\": \"white\", \"ticks\": \"\"}, \"bgcolor\": \"#E5ECF6\", \"radialaxis\": {\"gridcolor\": \"white\", \"linecolor\": \"white\", \"ticks\": \"\"}}, \"scene\": {\"xaxis\": {\"backgroundcolor\": \"#E5ECF6\", \"gridcolor\": \"white\", \"gridwidth\": 2, \"linecolor\": \"white\", \"showbackground\": true, \"ticks\": \"\", \"zerolinecolor\": \"white\"}, \"yaxis\": {\"backgroundcolor\": \"#E5ECF6\", \"gridcolor\": \"white\", \"gridwidth\": 2, \"linecolor\": \"white\", \"showbackground\": true, \"ticks\": \"\", \"zerolinecolor\": \"white\"}, \"zaxis\": {\"backgroundcolor\": \"#E5ECF6\", \"gridcolor\": \"white\", \"gridwidth\": 2, \"linecolor\": \"white\", \"showbackground\": true, \"ticks\": \"\", \"zerolinecolor\": \"white\"}}, \"shapedefaults\": {\"line\": {\"color\": \"#2a3f5f\"}}, \"ternary\": {\"aaxis\": {\"gridcolor\": \"white\", \"linecolor\": \"white\", \"ticks\": \"\"}, \"baxis\": {\"gridcolor\": \"white\", \"linecolor\": \"white\", \"ticks\": \"\"}, \"bgcolor\": \"#E5ECF6\", \"caxis\": {\"gridcolor\": \"white\", \"linecolor\": \"white\", \"ticks\": \"\"}}, \"title\": {\"x\": 0.05}, \"xaxis\": {\"automargin\": true, \"gridcolor\": \"white\", \"linecolor\": \"white\", \"ticks\": \"\", \"title\": {\"standoff\": 15}, \"zerolinecolor\": \"white\", \"zerolinewidth\": 2}, \"yaxis\": {\"automargin\": true, \"gridcolor\": \"white\", \"linecolor\": \"white\", \"ticks\": \"\", \"title\": {\"standoff\": 15}, \"zerolinecolor\": \"white\", \"zerolinewidth\": 2}}}, \"title\": {\"text\": \"Category Concentration\"}, \"xaxis\": {\"anchor\": \"y\", \"domain\": [0.0, 1.0], \"title\": {\"text\": \"Number of Apps (Lower=More Concentrated)\"}}, \"yaxis\": {\"anchor\": \"x\", \"domain\": [0.0, 1.0], \"title\": {\"text\": \"Installs\"}, \"type\": \"log\"}},\n",
              "                        {\"responsive\": true}\n",
              "                    ).then(function(){\n",
              "                            \n",
              "var gd = document.getElementById('9acb0996-e23f-4698-a281-807c2e08c7e1');\n",
              "var x = new MutationObserver(function (mutations, observer) {{\n",
              "        var display = window.getComputedStyle(gd).display;\n",
              "        if (!display || display === 'none') {{\n",
              "            console.log([gd, 'removed!']);\n",
              "            Plotly.purge(gd);\n",
              "            observer.disconnect();\n",
              "        }}\n",
              "}});\n",
              "\n",
              "// Listen for the removal of the full notebook cells\n",
              "var notebookContainer = gd.closest('#notebook-container');\n",
              "if (notebookContainer) {{\n",
              "    x.observe(notebookContainer, {childList: true});\n",
              "}}\n",
              "\n",
              "// Listen for the clearing of the current output cell\n",
              "var outputEl = gd.closest('.output');\n",
              "if (outputEl) {{\n",
              "    x.observe(outputEl, {childList: true});\n",
              "}}\n",
              "\n",
              "                        })\n",
              "                };\n",
              "                \n",
              "            </script>\n",
              "        </div>\n",
              "</body>\n",
              "</html>"
            ]
          },
          "metadata": {
            "tags": []
          }
        }
      ]
    },
    {
      "cell_type": "markdown",
      "metadata": {
        "id": "dmXDF75WdiVC"
      },
      "source": [
        "# Extracting Nested Data from a Column\n",
        "\n",
        "**Challenge**: How many different types of genres are there? Can an app belong to more than one genre? Check what happens when you use `.value_counts()` on a column with nested values? See if you can work around this problem by using the `.split()` function and the DataFrame's [`.stack()` method](https://pandas.pydata.org/pandas-docs/stable/reference/api/pandas.DataFrame.stack.html). \n"
      ]
    },
    {
      "cell_type": "code",
      "metadata": {
        "id": "3Lo69kS6ogdm",
        "colab": {
          "base_uri": "https://localhost:8080/"
        },
        "outputId": "9853f242-63e5-4ccc-a0ab-d159101c7053"
      },
      "source": [
        "df_apps_clean.Genres.value_counts()"
      ],
      "execution_count": 190,
      "outputs": [
        {
          "output_type": "execute_result",
          "data": {
            "text/plain": [
              "Tools                                718\n",
              "Entertainment                        467\n",
              "Education                            429\n",
              "Productivity                         301\n",
              "Personalization                      298\n",
              "                                    ... \n",
              "Lifestyle;Pretend Play                 1\n",
              "Racing;Pretend Play                    1\n",
              "Adventure;Brain Games                  1\n",
              "Communication;Creativity               1\n",
              "Travel & Local;Action & Adventure      1\n",
              "Name: Genres, Length: 114, dtype: int64"
            ]
          },
          "metadata": {
            "tags": []
          },
          "execution_count": 190
        }
      ]
    },
    {
      "cell_type": "code",
      "metadata": {
        "colab": {
          "base_uri": "https://localhost:8080/"
        },
        "id": "JMydMBXh49C7",
        "outputId": "093a324c-2296-4372-c61a-753fb5045e00"
      },
      "source": [
        "# Split the strings on the semi-colon and then .stack them.\n",
        "stack = df_apps_clean.Genres.str.split(';', expand=True).stack()\n",
        "print(f'We now have a single column with shape: {stack.shape}')\n",
        "\n",
        "num_genres = stack.value_counts()\n",
        "num_genres"
      ],
      "execution_count": 191,
      "outputs": [
        {
          "output_type": "stream",
          "text": [
            "We now have a single column with shape: (8564,)\n"
          ],
          "name": "stdout"
        },
        {
          "output_type": "execute_result",
          "data": {
            "text/plain": [
              "Tools                      719\n",
              "Education                  587\n",
              "Entertainment              498\n",
              "Action                     304\n",
              "Productivity               301\n",
              "Lifestyle                  298\n",
              "Personalization            298\n",
              "Finance                    296\n",
              "Medical                    292\n",
              "Sports                     270\n",
              "Photography                263\n",
              "Business                   262\n",
              "Communication              258\n",
              "Health & Fitness           245\n",
              "Casual                     216\n",
              "News & Magazines           204\n",
              "Social                     203\n",
              "Simulation                 200\n",
              "Travel & Local             187\n",
              "Arcade                     185\n",
              "Shopping                   180\n",
              "Books & Reference          171\n",
              "Video Players & Editors    150\n",
              "Dating                     134\n",
              "Puzzle                     124\n",
              "Maps & Navigation          118\n",
              "Role Playing               111\n",
              "Racing                     103\n",
              "Action & Adventure          96\n",
              "Strategy                    95\n",
              "Food & Drink                94\n",
              "Educational                 93\n",
              "Adventure                   78\n",
              "Auto & Vehicles             73\n",
              "Weather                     72\n",
              "Pretend Play                68\n",
              "Brain Games                 65\n",
              "Libraries & Demo            64\n",
              "House & Home                62\n",
              "Art & Design                62\n",
              "Board                       57\n",
              "Comics                      54\n",
              "Parenting                   50\n",
              "Card                        46\n",
              "Events                      45\n",
              "Beauty                      42\n",
              "Casino                      37\n",
              "Music & Video               31\n",
              "Creativity                  31\n",
              "Trivia                      28\n",
              "Word                        22\n",
              "Music                       21\n",
              "Music & Audio                1\n",
              "dtype: int64"
            ]
          },
          "metadata": {
            "tags": []
          },
          "execution_count": 191
        }
      ]
    },
    {
      "cell_type": "markdown",
      "metadata": {
        "id": "F3zaKvfydiVI"
      },
      "source": [
        "# Colour Scales in Plotly Charts - Competition in Genres"
      ]
    },
    {
      "cell_type": "markdown",
      "metadata": {
        "id": "Ucw6RT59diVK"
      },
      "source": [
        "**Challenge**: Can you create this chart with the Series containing the genre data? \n",
        "\n",
        "<img src=https://imgur.com/DbcoQli.png width=400>\n",
        "\n",
        "Try experimenting with the built in colour scales in Plotly. You can find a full list [here](https://plotly.com/python/builtin-colorscales/). \n",
        "\n",
        "* Find a way to set the colour scale using the color_continuous_scale parameter. \n",
        "* Find a way to make the color axis disappear by using coloraxis_showscale. "
      ]
    },
    {
      "cell_type": "code",
      "metadata": {
        "colab": {
          "base_uri": "https://localhost:8080/",
          "height": 0
        },
        "id": "bPChRqZw4Vnr",
        "outputId": "3f1d766b-ef0c-480e-b2d8-a619c580b816"
      },
      "source": [
        "genres_bar = px.bar(x=num_genres.index[:15],\n",
        "                    y=num_genres.values[:15],\n",
        "                    title='Top Genres',\n",
        "                    hover_name=num_genres.index[:15],\n",
        "                    color=num_genres.values[:15],\n",
        "                    color_continuous_scale='Agsunset_r') # set color scale\n",
        "\n",
        "genres_bar.update_layout(xaxis_title='Genre',\n",
        "                         yaxis_title='Number of Apps',\n",
        "                         coloraxis_showscale=False) # turn off color axis\n",
        "\n",
        "genres_bar.show()"
      ],
      "execution_count": 192,
      "outputs": [
        {
          "output_type": "display_data",
          "data": {
            "text/html": [
              "<html>\n",
              "<head><meta charset=\"utf-8\" /></head>\n",
              "<body>\n",
              "    <div>\n",
              "            <script src=\"https://cdnjs.cloudflare.com/ajax/libs/mathjax/2.7.5/MathJax.js?config=TeX-AMS-MML_SVG\"></script><script type=\"text/javascript\">if (window.MathJax) {MathJax.Hub.Config({SVG: {font: \"STIX-Web\"}});}</script>\n",
              "                <script type=\"text/javascript\">window.PlotlyConfig = {MathJaxConfig: 'local'};</script>\n",
              "        <script src=\"https://cdn.plot.ly/plotly-latest.min.js\"></script>    \n",
              "            <div id=\"10785a09-7499-4fab-a1c8-eb919b2b7163\" class=\"plotly-graph-div\" style=\"height:525px; width:100%;\"></div>\n",
              "            <script type=\"text/javascript\">\n",
              "                \n",
              "                    window.PLOTLYENV=window.PLOTLYENV || {};\n",
              "                    \n",
              "                if (document.getElementById(\"10785a09-7499-4fab-a1c8-eb919b2b7163\")) {\n",
              "                    Plotly.newPlot(\n",
              "                        '10785a09-7499-4fab-a1c8-eb919b2b7163',\n",
              "                        [{\"alignmentgroup\": \"True\", \"hoverlabel\": {\"namelength\": 0}, \"hovertemplate\": \"<b>%{hovertext}</b><br><br>x=%{x}<br>y=%{y}<br>color=%{marker.color}\", \"hovertext\": [\"Tools\", \"Education\", \"Entertainment\", \"Action\", \"Productivity\", \"Lifestyle\", \"Personalization\", \"Finance\", \"Medical\", \"Sports\", \"Photography\", \"Business\", \"Communication\", \"Health & Fitness\", \"Casual\"], \"legendgroup\": \"\", \"marker\": {\"color\": [719, 587, 498, 304, 301, 298, 298, 296, 292, 270, 263, 262, 258, 245, 216], \"coloraxis\": \"coloraxis\"}, \"name\": \"\", \"offsetgroup\": \"\", \"orientation\": \"v\", \"showlegend\": false, \"textposition\": \"auto\", \"type\": \"bar\", \"x\": [\"Tools\", \"Education\", \"Entertainment\", \"Action\", \"Productivity\", \"Lifestyle\", \"Personalization\", \"Finance\", \"Medical\", \"Sports\", \"Photography\", \"Business\", \"Communication\", \"Health & Fitness\", \"Casual\"], \"xaxis\": \"x\", \"y\": [719, 587, 498, 304, 301, 298, 298, 296, 292, 270, 263, 262, 258, 245, 216], \"yaxis\": \"y\"}],\n",
              "                        {\"barmode\": \"relative\", \"coloraxis\": {\"colorbar\": {\"title\": {\"text\": \"color\"}}, \"colorscale\": [[0.0, \"rgb(237, 217, 163)\"], [0.16666666666666666, \"rgb(246, 169, 122)\"], [0.3333333333333333, \"rgb(250, 120, 118)\"], [0.5, \"rgb(234, 79, 136)\"], [0.6666666666666666, \"rgb(192, 54, 157)\"], [0.8333333333333334, \"rgb(135, 44, 162)\"], [1.0, \"rgb(75, 41, 145)\"]], \"showscale\": false}, \"legend\": {\"tracegroupgap\": 0}, \"template\": {\"data\": {\"bar\": [{\"error_x\": {\"color\": \"#2a3f5f\"}, \"error_y\": {\"color\": \"#2a3f5f\"}, \"marker\": {\"line\": {\"color\": \"#E5ECF6\", \"width\": 0.5}}, \"type\": \"bar\"}], \"barpolar\": [{\"marker\": {\"line\": {\"color\": \"#E5ECF6\", \"width\": 0.5}}, \"type\": \"barpolar\"}], \"carpet\": [{\"aaxis\": {\"endlinecolor\": \"#2a3f5f\", \"gridcolor\": \"white\", \"linecolor\": \"white\", \"minorgridcolor\": \"white\", \"startlinecolor\": \"#2a3f5f\"}, \"baxis\": {\"endlinecolor\": \"#2a3f5f\", \"gridcolor\": \"white\", \"linecolor\": \"white\", \"minorgridcolor\": \"white\", \"startlinecolor\": \"#2a3f5f\"}, \"type\": \"carpet\"}], \"choropleth\": [{\"colorbar\": {\"outlinewidth\": 0, \"ticks\": \"\"}, \"type\": \"choropleth\"}], \"contour\": [{\"colorbar\": {\"outlinewidth\": 0, \"ticks\": \"\"}, \"colorscale\": [[0.0, \"#0d0887\"], [0.1111111111111111, \"#46039f\"], [0.2222222222222222, \"#7201a8\"], [0.3333333333333333, \"#9c179e\"], [0.4444444444444444, \"#bd3786\"], [0.5555555555555556, \"#d8576b\"], [0.6666666666666666, \"#ed7953\"], [0.7777777777777778, \"#fb9f3a\"], [0.8888888888888888, \"#fdca26\"], [1.0, \"#f0f921\"]], \"type\": \"contour\"}], \"contourcarpet\": [{\"colorbar\": {\"outlinewidth\": 0, \"ticks\": \"\"}, \"type\": \"contourcarpet\"}], \"heatmap\": [{\"colorbar\": {\"outlinewidth\": 0, \"ticks\": \"\"}, \"colorscale\": [[0.0, \"#0d0887\"], [0.1111111111111111, \"#46039f\"], [0.2222222222222222, \"#7201a8\"], [0.3333333333333333, \"#9c179e\"], [0.4444444444444444, \"#bd3786\"], [0.5555555555555556, \"#d8576b\"], [0.6666666666666666, \"#ed7953\"], [0.7777777777777778, \"#fb9f3a\"], [0.8888888888888888, \"#fdca26\"], [1.0, \"#f0f921\"]], \"type\": \"heatmap\"}], \"heatmapgl\": [{\"colorbar\": {\"outlinewidth\": 0, \"ticks\": \"\"}, \"colorscale\": [[0.0, \"#0d0887\"], [0.1111111111111111, \"#46039f\"], [0.2222222222222222, \"#7201a8\"], [0.3333333333333333, \"#9c179e\"], [0.4444444444444444, \"#bd3786\"], [0.5555555555555556, \"#d8576b\"], [0.6666666666666666, \"#ed7953\"], [0.7777777777777778, \"#fb9f3a\"], [0.8888888888888888, \"#fdca26\"], [1.0, \"#f0f921\"]], \"type\": \"heatmapgl\"}], \"histogram\": [{\"marker\": {\"colorbar\": {\"outlinewidth\": 0, \"ticks\": \"\"}}, \"type\": \"histogram\"}], \"histogram2d\": [{\"colorbar\": {\"outlinewidth\": 0, \"ticks\": \"\"}, \"colorscale\": [[0.0, \"#0d0887\"], [0.1111111111111111, \"#46039f\"], [0.2222222222222222, \"#7201a8\"], [0.3333333333333333, \"#9c179e\"], [0.4444444444444444, \"#bd3786\"], [0.5555555555555556, \"#d8576b\"], [0.6666666666666666, \"#ed7953\"], [0.7777777777777778, \"#fb9f3a\"], [0.8888888888888888, \"#fdca26\"], [1.0, \"#f0f921\"]], \"type\": \"histogram2d\"}], \"histogram2dcontour\": [{\"colorbar\": {\"outlinewidth\": 0, \"ticks\": \"\"}, \"colorscale\": [[0.0, \"#0d0887\"], [0.1111111111111111, \"#46039f\"], [0.2222222222222222, \"#7201a8\"], [0.3333333333333333, \"#9c179e\"], [0.4444444444444444, \"#bd3786\"], [0.5555555555555556, \"#d8576b\"], [0.6666666666666666, \"#ed7953\"], [0.7777777777777778, \"#fb9f3a\"], [0.8888888888888888, \"#fdca26\"], [1.0, \"#f0f921\"]], \"type\": \"histogram2dcontour\"}], \"mesh3d\": [{\"colorbar\": {\"outlinewidth\": 0, \"ticks\": \"\"}, \"type\": \"mesh3d\"}], \"parcoords\": [{\"line\": {\"colorbar\": {\"outlinewidth\": 0, \"ticks\": \"\"}}, \"type\": \"parcoords\"}], \"pie\": [{\"automargin\": true, \"type\": \"pie\"}], \"scatter\": [{\"marker\": {\"colorbar\": {\"outlinewidth\": 0, \"ticks\": \"\"}}, \"type\": \"scatter\"}], \"scatter3d\": [{\"line\": {\"colorbar\": {\"outlinewidth\": 0, \"ticks\": \"\"}}, \"marker\": {\"colorbar\": {\"outlinewidth\": 0, \"ticks\": \"\"}}, \"type\": \"scatter3d\"}], \"scattercarpet\": [{\"marker\": {\"colorbar\": {\"outlinewidth\": 0, \"ticks\": \"\"}}, \"type\": \"scattercarpet\"}], \"scattergeo\": [{\"marker\": {\"colorbar\": {\"outlinewidth\": 0, \"ticks\": \"\"}}, \"type\": \"scattergeo\"}], \"scattergl\": [{\"marker\": {\"colorbar\": {\"outlinewidth\": 0, \"ticks\": \"\"}}, \"type\": \"scattergl\"}], \"scattermapbox\": [{\"marker\": {\"colorbar\": {\"outlinewidth\": 0, \"ticks\": \"\"}}, \"type\": \"scattermapbox\"}], \"scatterpolar\": [{\"marker\": {\"colorbar\": {\"outlinewidth\": 0, \"ticks\": \"\"}}, \"type\": \"scatterpolar\"}], \"scatterpolargl\": [{\"marker\": {\"colorbar\": {\"outlinewidth\": 0, \"ticks\": \"\"}}, \"type\": \"scatterpolargl\"}], \"scatterternary\": [{\"marker\": {\"colorbar\": {\"outlinewidth\": 0, \"ticks\": \"\"}}, \"type\": \"scatterternary\"}], \"surface\": [{\"colorbar\": {\"outlinewidth\": 0, \"ticks\": \"\"}, \"colorscale\": [[0.0, \"#0d0887\"], [0.1111111111111111, \"#46039f\"], [0.2222222222222222, \"#7201a8\"], [0.3333333333333333, \"#9c179e\"], [0.4444444444444444, \"#bd3786\"], [0.5555555555555556, \"#d8576b\"], [0.6666666666666666, \"#ed7953\"], [0.7777777777777778, \"#fb9f3a\"], [0.8888888888888888, \"#fdca26\"], [1.0, \"#f0f921\"]], \"type\": \"surface\"}], \"table\": [{\"cells\": {\"fill\": {\"color\": \"#EBF0F8\"}, \"line\": {\"color\": \"white\"}}, \"header\": {\"fill\": {\"color\": \"#C8D4E3\"}, \"line\": {\"color\": \"white\"}}, \"type\": \"table\"}]}, \"layout\": {\"annotationdefaults\": {\"arrowcolor\": \"#2a3f5f\", \"arrowhead\": 0, \"arrowwidth\": 1}, \"coloraxis\": {\"colorbar\": {\"outlinewidth\": 0, \"ticks\": \"\"}}, \"colorscale\": {\"diverging\": [[0, \"#8e0152\"], [0.1, \"#c51b7d\"], [0.2, \"#de77ae\"], [0.3, \"#f1b6da\"], [0.4, \"#fde0ef\"], [0.5, \"#f7f7f7\"], [0.6, \"#e6f5d0\"], [0.7, \"#b8e186\"], [0.8, \"#7fbc41\"], [0.9, \"#4d9221\"], [1, \"#276419\"]], \"sequential\": [[0.0, \"#0d0887\"], [0.1111111111111111, \"#46039f\"], [0.2222222222222222, \"#7201a8\"], [0.3333333333333333, \"#9c179e\"], [0.4444444444444444, \"#bd3786\"], [0.5555555555555556, \"#d8576b\"], [0.6666666666666666, \"#ed7953\"], [0.7777777777777778, \"#fb9f3a\"], [0.8888888888888888, \"#fdca26\"], [1.0, \"#f0f921\"]], \"sequentialminus\": [[0.0, \"#0d0887\"], [0.1111111111111111, \"#46039f\"], [0.2222222222222222, \"#7201a8\"], [0.3333333333333333, \"#9c179e\"], [0.4444444444444444, \"#bd3786\"], [0.5555555555555556, \"#d8576b\"], [0.6666666666666666, \"#ed7953\"], [0.7777777777777778, \"#fb9f3a\"], [0.8888888888888888, \"#fdca26\"], [1.0, \"#f0f921\"]]}, \"colorway\": [\"#636efa\", \"#EF553B\", \"#00cc96\", \"#ab63fa\", \"#FFA15A\", \"#19d3f3\", \"#FF6692\", \"#B6E880\", \"#FF97FF\", \"#FECB52\"], \"font\": {\"color\": \"#2a3f5f\"}, \"geo\": {\"bgcolor\": \"white\", \"lakecolor\": \"white\", \"landcolor\": \"#E5ECF6\", \"showlakes\": true, \"showland\": true, \"subunitcolor\": \"white\"}, \"hoverlabel\": {\"align\": \"left\"}, \"hovermode\": \"closest\", \"mapbox\": {\"style\": \"light\"}, \"paper_bgcolor\": \"white\", \"plot_bgcolor\": \"#E5ECF6\", \"polar\": {\"angularaxis\": {\"gridcolor\": \"white\", \"linecolor\": \"white\", \"ticks\": \"\"}, \"bgcolor\": \"#E5ECF6\", \"radialaxis\": {\"gridcolor\": \"white\", \"linecolor\": \"white\", \"ticks\": \"\"}}, \"scene\": {\"xaxis\": {\"backgroundcolor\": \"#E5ECF6\", \"gridcolor\": \"white\", \"gridwidth\": 2, \"linecolor\": \"white\", \"showbackground\": true, \"ticks\": \"\", \"zerolinecolor\": \"white\"}, \"yaxis\": {\"backgroundcolor\": \"#E5ECF6\", \"gridcolor\": \"white\", \"gridwidth\": 2, \"linecolor\": \"white\", \"showbackground\": true, \"ticks\": \"\", \"zerolinecolor\": \"white\"}, \"zaxis\": {\"backgroundcolor\": \"#E5ECF6\", \"gridcolor\": \"white\", \"gridwidth\": 2, \"linecolor\": \"white\", \"showbackground\": true, \"ticks\": \"\", \"zerolinecolor\": \"white\"}}, \"shapedefaults\": {\"line\": {\"color\": \"#2a3f5f\"}}, \"ternary\": {\"aaxis\": {\"gridcolor\": \"white\", \"linecolor\": \"white\", \"ticks\": \"\"}, \"baxis\": {\"gridcolor\": \"white\", \"linecolor\": \"white\", \"ticks\": \"\"}, \"bgcolor\": \"#E5ECF6\", \"caxis\": {\"gridcolor\": \"white\", \"linecolor\": \"white\", \"ticks\": \"\"}}, \"title\": {\"x\": 0.05}, \"xaxis\": {\"automargin\": true, \"gridcolor\": \"white\", \"linecolor\": \"white\", \"ticks\": \"\", \"title\": {\"standoff\": 15}, \"zerolinecolor\": \"white\", \"zerolinewidth\": 2}, \"yaxis\": {\"automargin\": true, \"gridcolor\": \"white\", \"linecolor\": \"white\", \"ticks\": \"\", \"title\": {\"standoff\": 15}, \"zerolinecolor\": \"white\", \"zerolinewidth\": 2}}}, \"title\": {\"text\": \"Top Genres\"}, \"xaxis\": {\"anchor\": \"y\", \"domain\": [0.0, 1.0], \"title\": {\"text\": \"Genre\"}}, \"yaxis\": {\"anchor\": \"x\", \"domain\": [0.0, 1.0], \"title\": {\"text\": \"Number of Apps\"}}},\n",
              "                        {\"responsive\": true}\n",
              "                    ).then(function(){\n",
              "                            \n",
              "var gd = document.getElementById('10785a09-7499-4fab-a1c8-eb919b2b7163');\n",
              "var x = new MutationObserver(function (mutations, observer) {{\n",
              "        var display = window.getComputedStyle(gd).display;\n",
              "        if (!display || display === 'none') {{\n",
              "            console.log([gd, 'removed!']);\n",
              "            Plotly.purge(gd);\n",
              "            observer.disconnect();\n",
              "        }}\n",
              "}});\n",
              "\n",
              "// Listen for the removal of the full notebook cells\n",
              "var notebookContainer = gd.closest('#notebook-container');\n",
              "if (notebookContainer) {{\n",
              "    x.observe(notebookContainer, {childList: true});\n",
              "}}\n",
              "\n",
              "// Listen for the clearing of the current output cell\n",
              "var outputEl = gd.closest('.output');\n",
              "if (outputEl) {{\n",
              "    x.observe(outputEl, {childList: true});\n",
              "}}\n",
              "\n",
              "                        })\n",
              "                };\n",
              "                \n",
              "            </script>\n",
              "        </div>\n",
              "</body>\n",
              "</html>"
            ]
          },
          "metadata": {
            "tags": []
          }
        }
      ]
    },
    {
      "cell_type": "markdown",
      "metadata": {
        "id": "BIWG_10PyIzL"
      },
      "source": [
        "# Grouped Bar Charts: Free vs. Paid Apps per Category"
      ]
    },
    {
      "cell_type": "markdown",
      "metadata": {
        "id": "wmRXm0TW1e_Z"
      },
      "source": [
        "**Challenge**: Use the plotly express bar [chart examples](https://plotly.com/python/bar-charts/#bar-chart-with-sorted-or-ordered-categories) and the [.bar() API reference](https://plotly.com/python-api-reference/generated/plotly.express.bar.html#plotly.express.bar) to create this bar chart: \n",
        "\n",
        "<img src=https://imgur.com/LE0XCxA.png>\n",
        "\n",
        "You'll want to use the `df_free_vs_paid` DataFrame that you created above that has the total number of free and paid apps per category. \n",
        "\n",
        "See if you can figure out how to get the look above by changing the `categoryorder` to 'total descending' as outlined in the documentation here [here](https://plotly.com/python/categorical-axes/#automatically-sorting-categories-by-name-or-total-value). "
      ]
    },
    {
      "cell_type": "code",
      "metadata": {
        "id": "tqOntrS7onGt",
        "colab": {
          "base_uri": "https://localhost:8080/"
        },
        "outputId": "17ef6b95-6d6b-4283-a602-923aeab47367"
      },
      "source": [
        "df_apps_clean.Type.value_counts()"
      ],
      "execution_count": 193,
      "outputs": [
        {
          "output_type": "execute_result",
          "data": {
            "text/plain": [
              "Free    7595\n",
              "Paid     589\n",
              "Name: Type, dtype: int64"
            ]
          },
          "metadata": {
            "tags": []
          },
          "execution_count": 193
        }
      ]
    },
    {
      "cell_type": "code",
      "metadata": {
        "colab": {
          "base_uri": "https://localhost:8080/",
          "height": 0
        },
        "id": "t3C_tN-8BJpG",
        "outputId": "b8da2c33-5ba4-4786-abb4-6107f1e700e7"
      },
      "source": [
        "# Step 1: Group our data first by Category and then by Type\n",
        "# Step 2: Add up the number of apps per each type\n",
        "df_free_vs_paid = df_apps_clean.groupby([\"Category\", \"Type\"], as_index=False).agg({'App': pd.Series.count})\n",
        "\n",
        "df_free_vs_paid.sort_values('App')"
      ],
      "execution_count": 194,
      "outputs": [
        {
          "output_type": "execute_result",
          "data": {
            "text/html": [
              "<div>\n",
              "<style scoped>\n",
              "    .dataframe tbody tr th:only-of-type {\n",
              "        vertical-align: middle;\n",
              "    }\n",
              "\n",
              "    .dataframe tbody tr th {\n",
              "        vertical-align: top;\n",
              "    }\n",
              "\n",
              "    .dataframe thead th {\n",
              "        text-align: right;\n",
              "    }\n",
              "</style>\n",
              "<table border=\"1\" class=\"dataframe\">\n",
              "  <thead>\n",
              "    <tr style=\"text-align: right;\">\n",
              "      <th></th>\n",
              "      <th>Category</th>\n",
              "      <th>Type</th>\n",
              "      <th>App</th>\n",
              "    </tr>\n",
              "  </thead>\n",
              "  <tbody>\n",
              "    <tr>\n",
              "      <th>3</th>\n",
              "      <td>AUTO_AND_VEHICLES</td>\n",
              "      <td>Paid</td>\n",
              "      <td>1</td>\n",
              "    </tr>\n",
              "    <tr>\n",
              "      <th>24</th>\n",
              "      <td>FOOD_AND_DRINK</td>\n",
              "      <td>Paid</td>\n",
              "      <td>2</td>\n",
              "    </tr>\n",
              "    <tr>\n",
              "      <th>38</th>\n",
              "      <td>NEWS_AND_MAGAZINES</td>\n",
              "      <td>Paid</td>\n",
              "      <td>2</td>\n",
              "    </tr>\n",
              "    <tr>\n",
              "      <th>40</th>\n",
              "      <td>PARENTING</td>\n",
              "      <td>Paid</td>\n",
              "      <td>2</td>\n",
              "    </tr>\n",
              "    <tr>\n",
              "      <th>17</th>\n",
              "      <td>ENTERTAINMENT</td>\n",
              "      <td>Paid</td>\n",
              "      <td>2</td>\n",
              "    </tr>\n",
              "    <tr>\n",
              "      <th>...</th>\n",
              "      <td>...</td>\n",
              "      <td>...</td>\n",
              "      <td>...</td>\n",
              "    </tr>\n",
              "    <tr>\n",
              "      <th>31</th>\n",
              "      <td>LIFESTYLE</td>\n",
              "      <td>Free</td>\n",
              "      <td>284</td>\n",
              "    </tr>\n",
              "    <tr>\n",
              "      <th>21</th>\n",
              "      <td>FINANCE</td>\n",
              "      <td>Free</td>\n",
              "      <td>289</td>\n",
              "    </tr>\n",
              "    <tr>\n",
              "      <th>53</th>\n",
              "      <td>TOOLS</td>\n",
              "      <td>Free</td>\n",
              "      <td>656</td>\n",
              "    </tr>\n",
              "    <tr>\n",
              "      <th>25</th>\n",
              "      <td>GAME</td>\n",
              "      <td>Free</td>\n",
              "      <td>834</td>\n",
              "    </tr>\n",
              "    <tr>\n",
              "      <th>19</th>\n",
              "      <td>FAMILY</td>\n",
              "      <td>Free</td>\n",
              "      <td>1456</td>\n",
              "    </tr>\n",
              "  </tbody>\n",
              "</table>\n",
              "<p>61 rows × 3 columns</p>\n",
              "</div>"
            ],
            "text/plain": [
              "              Category  Type   App\n",
              "3    AUTO_AND_VEHICLES  Paid     1\n",
              "24      FOOD_AND_DRINK  Paid     2\n",
              "38  NEWS_AND_MAGAZINES  Paid     2\n",
              "40           PARENTING  Paid     2\n",
              "17       ENTERTAINMENT  Paid     2\n",
              "..                 ...   ...   ...\n",
              "31           LIFESTYLE  Free   284\n",
              "21             FINANCE  Free   289\n",
              "53               TOOLS  Free   656\n",
              "25                GAME  Free   834\n",
              "19              FAMILY  Free  1456\n",
              "\n",
              "[61 rows x 3 columns]"
            ]
          },
          "metadata": {
            "tags": []
          },
          "execution_count": 194
        }
      ]
    },
    {
      "cell_type": "markdown",
      "metadata": {
        "id": "XoNFrYvHDbo3"
      },
      "source": [
        "The key is using the `color` and `barmode` parameters for the `.bar()` method. To get a particular order, you can pass a dictionary to the axis parameter in `.update_layout()`."
      ]
    },
    {
      "cell_type": "code",
      "metadata": {
        "colab": {
          "base_uri": "https://localhost:8080/",
          "height": 0
        },
        "id": "UaVmaxTrB4NO",
        "outputId": "7e89c699-8ba7-4559-fd20-2ed24ff796a0"
      },
      "source": [
        "free_vs_paid_bar = px.bar(df_free_vs_paid,\n",
        "                          x='Category',\n",
        "                          y='App',\n",
        "                          title='Free vs Paid Apps by Category',\n",
        "                          color='Type', # differentiate color by Type\n",
        "                          barmode='group') # separate 2 types\n",
        "\n",
        "free_vs_paid_bar.update_layout(xaxis_title='Category',\n",
        "                               yaxis_title='Number of Apps',\n",
        "                               xaxis={'categoryorder':'total descending'}, # set order\n",
        "                               yaxis=dict(type='log'))\n",
        "\n",
        "free_vs_paid_bar.show()"
      ],
      "execution_count": 195,
      "outputs": [
        {
          "output_type": "display_data",
          "data": {
            "text/html": [
              "<html>\n",
              "<head><meta charset=\"utf-8\" /></head>\n",
              "<body>\n",
              "    <div>\n",
              "            <script src=\"https://cdnjs.cloudflare.com/ajax/libs/mathjax/2.7.5/MathJax.js?config=TeX-AMS-MML_SVG\"></script><script type=\"text/javascript\">if (window.MathJax) {MathJax.Hub.Config({SVG: {font: \"STIX-Web\"}});}</script>\n",
              "                <script type=\"text/javascript\">window.PlotlyConfig = {MathJaxConfig: 'local'};</script>\n",
              "        <script src=\"https://cdn.plot.ly/plotly-latest.min.js\"></script>    \n",
              "            <div id=\"a788950f-930c-478d-9220-a26ebfff8532\" class=\"plotly-graph-div\" style=\"height:525px; width:100%;\"></div>\n",
              "            <script type=\"text/javascript\">\n",
              "                \n",
              "                    window.PLOTLYENV=window.PLOTLYENV || {};\n",
              "                    \n",
              "                if (document.getElementById(\"a788950f-930c-478d-9220-a26ebfff8532\")) {\n",
              "                    Plotly.newPlot(\n",
              "                        'a788950f-930c-478d-9220-a26ebfff8532',\n",
              "                        [{\"alignmentgroup\": \"True\", \"hoverlabel\": {\"namelength\": 0}, \"hovertemplate\": \"Type=Free<br>Category=%{x}<br>App=%{y}\", \"legendgroup\": \"Type=Free\", \"marker\": {\"color\": \"#636efa\"}, \"name\": \"Type=Free\", \"offsetgroup\": \"Type=Free\", \"orientation\": \"v\", \"showlegend\": true, \"textposition\": \"auto\", \"type\": \"bar\", \"x\": [\"ART_AND_DESIGN\", \"AUTO_AND_VEHICLES\", \"BEAUTY\", \"BOOKS_AND_REFERENCE\", \"BUSINESS\", \"COMICS\", \"COMMUNICATION\", \"DATING\", \"EDUCATION\", \"ENTERTAINMENT\", \"EVENTS\", \"FAMILY\", \"FINANCE\", \"FOOD_AND_DRINK\", \"GAME\", \"HEALTH_AND_FITNESS\", \"HOUSE_AND_HOME\", \"LIBRARIES_AND_DEMO\", \"LIFESTYLE\", \"MAPS_AND_NAVIGATION\", \"MEDICAL\", \"NEWS_AND_MAGAZINES\", \"PARENTING\", \"PERSONALIZATION\", \"PHOTOGRAPHY\", \"PRODUCTIVITY\", \"SHOPPING\", \"SOCIAL\", \"SPORTS\", \"TOOLS\", \"TRAVEL_AND_LOCAL\", \"VIDEO_PLAYERS\", \"WEATHER\"], \"xaxis\": \"x\", \"y\": [58, 72, 42, 161, 253, 54, 235, 131, 114, 100, 45, 1456, 289, 92, 834, 232, 62, 64, 284, 113, 229, 202, 48, 233, 248, 283, 178, 201, 238, 656, 179, 144, 65], \"yaxis\": \"y\"}, {\"alignmentgroup\": \"True\", \"hoverlabel\": {\"namelength\": 0}, \"hovertemplate\": \"Type=Paid<br>Category=%{x}<br>App=%{y}\", \"legendgroup\": \"Type=Paid\", \"marker\": {\"color\": \"#EF553B\"}, \"name\": \"Type=Paid\", \"offsetgroup\": \"Type=Paid\", \"orientation\": \"v\", \"showlegend\": true, \"textposition\": \"auto\", \"type\": \"bar\", \"x\": [\"ART_AND_DESIGN\", \"AUTO_AND_VEHICLES\", \"BOOKS_AND_REFERENCE\", \"BUSINESS\", \"COMMUNICATION\", \"DATING\", \"EDUCATION\", \"ENTERTAINMENT\", \"FAMILY\", \"FINANCE\", \"FOOD_AND_DRINK\", \"GAME\", \"HEALTH_AND_FITNESS\", \"LIFESTYLE\", \"MAPS_AND_NAVIGATION\", \"MEDICAL\", \"NEWS_AND_MAGAZINES\", \"PARENTING\", \"PERSONALIZATION\", \"PHOTOGRAPHY\", \"PRODUCTIVITY\", \"SHOPPING\", \"SOCIAL\", \"SPORTS\", \"TOOLS\", \"TRAVEL_AND_LOCAL\", \"VIDEO_PLAYERS\", \"WEATHER\"], \"xaxis\": \"x\", \"y\": [3, 1, 8, 9, 22, 3, 4, 2, 150, 7, 2, 76, 11, 13, 5, 63, 2, 2, 65, 15, 18, 2, 2, 22, 63, 8, 4, 7], \"yaxis\": \"y\"}],\n",
              "                        {\"barmode\": \"group\", \"legend\": {\"tracegroupgap\": 0}, \"template\": {\"data\": {\"bar\": [{\"error_x\": {\"color\": \"#2a3f5f\"}, \"error_y\": {\"color\": \"#2a3f5f\"}, \"marker\": {\"line\": {\"color\": \"#E5ECF6\", \"width\": 0.5}}, \"type\": \"bar\"}], \"barpolar\": [{\"marker\": {\"line\": {\"color\": \"#E5ECF6\", \"width\": 0.5}}, \"type\": \"barpolar\"}], \"carpet\": [{\"aaxis\": {\"endlinecolor\": \"#2a3f5f\", \"gridcolor\": \"white\", \"linecolor\": \"white\", \"minorgridcolor\": \"white\", \"startlinecolor\": \"#2a3f5f\"}, \"baxis\": {\"endlinecolor\": \"#2a3f5f\", \"gridcolor\": \"white\", \"linecolor\": \"white\", \"minorgridcolor\": \"white\", \"startlinecolor\": \"#2a3f5f\"}, \"type\": \"carpet\"}], \"choropleth\": [{\"colorbar\": {\"outlinewidth\": 0, \"ticks\": \"\"}, \"type\": \"choropleth\"}], \"contour\": [{\"colorbar\": {\"outlinewidth\": 0, \"ticks\": \"\"}, \"colorscale\": [[0.0, \"#0d0887\"], [0.1111111111111111, \"#46039f\"], [0.2222222222222222, \"#7201a8\"], [0.3333333333333333, \"#9c179e\"], [0.4444444444444444, \"#bd3786\"], [0.5555555555555556, \"#d8576b\"], [0.6666666666666666, \"#ed7953\"], [0.7777777777777778, \"#fb9f3a\"], [0.8888888888888888, \"#fdca26\"], [1.0, \"#f0f921\"]], \"type\": \"contour\"}], \"contourcarpet\": [{\"colorbar\": {\"outlinewidth\": 0, \"ticks\": \"\"}, \"type\": \"contourcarpet\"}], \"heatmap\": [{\"colorbar\": {\"outlinewidth\": 0, \"ticks\": \"\"}, \"colorscale\": [[0.0, \"#0d0887\"], [0.1111111111111111, \"#46039f\"], [0.2222222222222222, \"#7201a8\"], [0.3333333333333333, \"#9c179e\"], [0.4444444444444444, \"#bd3786\"], [0.5555555555555556, \"#d8576b\"], [0.6666666666666666, \"#ed7953\"], [0.7777777777777778, \"#fb9f3a\"], [0.8888888888888888, \"#fdca26\"], [1.0, \"#f0f921\"]], \"type\": \"heatmap\"}], \"heatmapgl\": [{\"colorbar\": {\"outlinewidth\": 0, \"ticks\": \"\"}, \"colorscale\": [[0.0, \"#0d0887\"], [0.1111111111111111, \"#46039f\"], [0.2222222222222222, \"#7201a8\"], [0.3333333333333333, \"#9c179e\"], [0.4444444444444444, \"#bd3786\"], [0.5555555555555556, \"#d8576b\"], [0.6666666666666666, \"#ed7953\"], [0.7777777777777778, \"#fb9f3a\"], [0.8888888888888888, \"#fdca26\"], [1.0, \"#f0f921\"]], \"type\": \"heatmapgl\"}], \"histogram\": [{\"marker\": {\"colorbar\": {\"outlinewidth\": 0, \"ticks\": \"\"}}, \"type\": \"histogram\"}], \"histogram2d\": [{\"colorbar\": {\"outlinewidth\": 0, \"ticks\": \"\"}, \"colorscale\": [[0.0, \"#0d0887\"], [0.1111111111111111, \"#46039f\"], [0.2222222222222222, \"#7201a8\"], [0.3333333333333333, \"#9c179e\"], [0.4444444444444444, \"#bd3786\"], [0.5555555555555556, \"#d8576b\"], [0.6666666666666666, \"#ed7953\"], [0.7777777777777778, \"#fb9f3a\"], [0.8888888888888888, \"#fdca26\"], [1.0, \"#f0f921\"]], \"type\": \"histogram2d\"}], \"histogram2dcontour\": [{\"colorbar\": {\"outlinewidth\": 0, \"ticks\": \"\"}, \"colorscale\": [[0.0, \"#0d0887\"], [0.1111111111111111, \"#46039f\"], [0.2222222222222222, \"#7201a8\"], [0.3333333333333333, \"#9c179e\"], [0.4444444444444444, \"#bd3786\"], [0.5555555555555556, \"#d8576b\"], [0.6666666666666666, \"#ed7953\"], [0.7777777777777778, \"#fb9f3a\"], [0.8888888888888888, \"#fdca26\"], [1.0, \"#f0f921\"]], \"type\": \"histogram2dcontour\"}], \"mesh3d\": [{\"colorbar\": {\"outlinewidth\": 0, \"ticks\": \"\"}, \"type\": \"mesh3d\"}], \"parcoords\": [{\"line\": {\"colorbar\": {\"outlinewidth\": 0, \"ticks\": \"\"}}, \"type\": \"parcoords\"}], \"pie\": [{\"automargin\": true, \"type\": \"pie\"}], \"scatter\": [{\"marker\": {\"colorbar\": {\"outlinewidth\": 0, \"ticks\": \"\"}}, \"type\": \"scatter\"}], \"scatter3d\": [{\"line\": {\"colorbar\": {\"outlinewidth\": 0, \"ticks\": \"\"}}, \"marker\": {\"colorbar\": {\"outlinewidth\": 0, \"ticks\": \"\"}}, \"type\": \"scatter3d\"}], \"scattercarpet\": [{\"marker\": {\"colorbar\": {\"outlinewidth\": 0, \"ticks\": \"\"}}, \"type\": \"scattercarpet\"}], \"scattergeo\": [{\"marker\": {\"colorbar\": {\"outlinewidth\": 0, \"ticks\": \"\"}}, \"type\": \"scattergeo\"}], \"scattergl\": [{\"marker\": {\"colorbar\": {\"outlinewidth\": 0, \"ticks\": \"\"}}, \"type\": \"scattergl\"}], \"scattermapbox\": [{\"marker\": {\"colorbar\": {\"outlinewidth\": 0, \"ticks\": \"\"}}, \"type\": \"scattermapbox\"}], \"scatterpolar\": [{\"marker\": {\"colorbar\": {\"outlinewidth\": 0, \"ticks\": \"\"}}, \"type\": \"scatterpolar\"}], \"scatterpolargl\": [{\"marker\": {\"colorbar\": {\"outlinewidth\": 0, \"ticks\": \"\"}}, \"type\": \"scatterpolargl\"}], \"scatterternary\": [{\"marker\": {\"colorbar\": {\"outlinewidth\": 0, \"ticks\": \"\"}}, \"type\": \"scatterternary\"}], \"surface\": [{\"colorbar\": {\"outlinewidth\": 0, \"ticks\": \"\"}, \"colorscale\": [[0.0, \"#0d0887\"], [0.1111111111111111, \"#46039f\"], [0.2222222222222222, \"#7201a8\"], [0.3333333333333333, \"#9c179e\"], [0.4444444444444444, \"#bd3786\"], [0.5555555555555556, \"#d8576b\"], [0.6666666666666666, \"#ed7953\"], [0.7777777777777778, \"#fb9f3a\"], [0.8888888888888888, \"#fdca26\"], [1.0, \"#f0f921\"]], \"type\": \"surface\"}], \"table\": [{\"cells\": {\"fill\": {\"color\": \"#EBF0F8\"}, \"line\": {\"color\": \"white\"}}, \"header\": {\"fill\": {\"color\": \"#C8D4E3\"}, \"line\": {\"color\": \"white\"}}, \"type\": \"table\"}]}, \"layout\": {\"annotationdefaults\": {\"arrowcolor\": \"#2a3f5f\", \"arrowhead\": 0, \"arrowwidth\": 1}, \"coloraxis\": {\"colorbar\": {\"outlinewidth\": 0, \"ticks\": \"\"}}, \"colorscale\": {\"diverging\": [[0, \"#8e0152\"], [0.1, \"#c51b7d\"], [0.2, \"#de77ae\"], [0.3, \"#f1b6da\"], [0.4, \"#fde0ef\"], [0.5, \"#f7f7f7\"], [0.6, \"#e6f5d0\"], [0.7, \"#b8e186\"], [0.8, \"#7fbc41\"], [0.9, \"#4d9221\"], [1, \"#276419\"]], \"sequential\": [[0.0, \"#0d0887\"], [0.1111111111111111, \"#46039f\"], [0.2222222222222222, \"#7201a8\"], [0.3333333333333333, \"#9c179e\"], [0.4444444444444444, \"#bd3786\"], [0.5555555555555556, \"#d8576b\"], [0.6666666666666666, \"#ed7953\"], [0.7777777777777778, \"#fb9f3a\"], [0.8888888888888888, \"#fdca26\"], [1.0, \"#f0f921\"]], \"sequentialminus\": [[0.0, \"#0d0887\"], [0.1111111111111111, \"#46039f\"], [0.2222222222222222, \"#7201a8\"], [0.3333333333333333, \"#9c179e\"], [0.4444444444444444, \"#bd3786\"], [0.5555555555555556, \"#d8576b\"], [0.6666666666666666, \"#ed7953\"], [0.7777777777777778, \"#fb9f3a\"], [0.8888888888888888, \"#fdca26\"], [1.0, \"#f0f921\"]]}, \"colorway\": [\"#636efa\", \"#EF553B\", \"#00cc96\", \"#ab63fa\", \"#FFA15A\", \"#19d3f3\", \"#FF6692\", \"#B6E880\", \"#FF97FF\", \"#FECB52\"], \"font\": {\"color\": \"#2a3f5f\"}, \"geo\": {\"bgcolor\": \"white\", \"lakecolor\": \"white\", \"landcolor\": \"#E5ECF6\", \"showlakes\": true, \"showland\": true, \"subunitcolor\": \"white\"}, \"hoverlabel\": {\"align\": \"left\"}, \"hovermode\": \"closest\", \"mapbox\": {\"style\": \"light\"}, \"paper_bgcolor\": \"white\", \"plot_bgcolor\": \"#E5ECF6\", \"polar\": {\"angularaxis\": {\"gridcolor\": \"white\", \"linecolor\": \"white\", \"ticks\": \"\"}, \"bgcolor\": \"#E5ECF6\", \"radialaxis\": {\"gridcolor\": \"white\", \"linecolor\": \"white\", \"ticks\": \"\"}}, \"scene\": {\"xaxis\": {\"backgroundcolor\": \"#E5ECF6\", \"gridcolor\": \"white\", \"gridwidth\": 2, \"linecolor\": \"white\", \"showbackground\": true, \"ticks\": \"\", \"zerolinecolor\": \"white\"}, \"yaxis\": {\"backgroundcolor\": \"#E5ECF6\", \"gridcolor\": \"white\", \"gridwidth\": 2, \"linecolor\": \"white\", \"showbackground\": true, \"ticks\": \"\", \"zerolinecolor\": \"white\"}, \"zaxis\": {\"backgroundcolor\": \"#E5ECF6\", \"gridcolor\": \"white\", \"gridwidth\": 2, \"linecolor\": \"white\", \"showbackground\": true, \"ticks\": \"\", \"zerolinecolor\": \"white\"}}, \"shapedefaults\": {\"line\": {\"color\": \"#2a3f5f\"}}, \"ternary\": {\"aaxis\": {\"gridcolor\": \"white\", \"linecolor\": \"white\", \"ticks\": \"\"}, \"baxis\": {\"gridcolor\": \"white\", \"linecolor\": \"white\", \"ticks\": \"\"}, \"bgcolor\": \"#E5ECF6\", \"caxis\": {\"gridcolor\": \"white\", \"linecolor\": \"white\", \"ticks\": \"\"}}, \"title\": {\"x\": 0.05}, \"xaxis\": {\"automargin\": true, \"gridcolor\": \"white\", \"linecolor\": \"white\", \"ticks\": \"\", \"title\": {\"standoff\": 15}, \"zerolinecolor\": \"white\", \"zerolinewidth\": 2}, \"yaxis\": {\"automargin\": true, \"gridcolor\": \"white\", \"linecolor\": \"white\", \"ticks\": \"\", \"title\": {\"standoff\": 15}, \"zerolinecolor\": \"white\", \"zerolinewidth\": 2}}}, \"title\": {\"text\": \"Free vs Paid Apps by Category\"}, \"xaxis\": {\"anchor\": \"y\", \"categoryorder\": \"total descending\", \"domain\": [0.0, 1.0], \"title\": {\"text\": \"Category\"}}, \"yaxis\": {\"anchor\": \"x\", \"domain\": [0.0, 1.0], \"title\": {\"text\": \"Number of Apps\"}, \"type\": \"log\"}},\n",
              "                        {\"responsive\": true}\n",
              "                    ).then(function(){\n",
              "                            \n",
              "var gd = document.getElementById('a788950f-930c-478d-9220-a26ebfff8532');\n",
              "var x = new MutationObserver(function (mutations, observer) {{\n",
              "        var display = window.getComputedStyle(gd).display;\n",
              "        if (!display || display === 'none') {{\n",
              "            console.log([gd, 'removed!']);\n",
              "            Plotly.purge(gd);\n",
              "            observer.disconnect();\n",
              "        }}\n",
              "}});\n",
              "\n",
              "// Listen for the removal of the full notebook cells\n",
              "var notebookContainer = gd.closest('#notebook-container');\n",
              "if (notebookContainer) {{\n",
              "    x.observe(notebookContainer, {childList: true});\n",
              "}}\n",
              "\n",
              "// Listen for the clearing of the current output cell\n",
              "var outputEl = gd.closest('.output');\n",
              "if (outputEl) {{\n",
              "    x.observe(outputEl, {childList: true});\n",
              "}}\n",
              "\n",
              "                        })\n",
              "                };\n",
              "                \n",
              "            </script>\n",
              "        </div>\n",
              "</body>\n",
              "</html>"
            ]
          },
          "metadata": {
            "tags": []
          }
        }
      ]
    },
    {
      "cell_type": "markdown",
      "metadata": {
        "id": "nbYh2tU-VZ-i"
      },
      "source": [
        "# Plotly Box Plots: Lost Downloads for Paid Apps\n",
        "\n",
        "**Challenge**: Create a box plot that shows the number of Installs for free versus paid apps. How does the median number of installations compare? Is the difference large or small?\n",
        "\n",
        "Use the [Box Plots Guide](https://plotly.com/python/box-plots/) and the [.box API reference](https://plotly.com/python-api-reference/generated/plotly.express.box.html) to create the following chart. \n",
        "\n",
        "<img src=https://imgur.com/uVsECT3.png>\n"
      ]
    },
    {
      "cell_type": "code",
      "metadata": {
        "id": "Jip3hMZ7oqLS",
        "colab": {
          "base_uri": "https://localhost:8080/",
          "height": 0
        },
        "outputId": "66a1f32e-4e53-4188-8815-d04ec191ee57"
      },
      "source": [
        "box = px.box(df_apps_clean,\n",
        "             x='Type',\n",
        "             y='Installs')\n",
        "\n",
        "box.update_layout(yaxis=dict(type='log'))\n",
        "\n",
        "box.show()"
      ],
      "execution_count": 196,
      "outputs": [
        {
          "output_type": "display_data",
          "data": {
            "text/html": [
              "<html>\n",
              "<head><meta charset=\"utf-8\" /></head>\n",
              "<body>\n",
              "    <div>\n",
              "            <script src=\"https://cdnjs.cloudflare.com/ajax/libs/mathjax/2.7.5/MathJax.js?config=TeX-AMS-MML_SVG\"></script><script type=\"text/javascript\">if (window.MathJax) {MathJax.Hub.Config({SVG: {font: \"STIX-Web\"}});}</script>\n",
              "                <script type=\"text/javascript\">window.PlotlyConfig = {MathJaxConfig: 'local'};</script>\n",
              "        <script src=\"https://cdn.plot.ly/plotly-latest.min.js\"></script>    \n",
              "            <div id=\"2da3c06e-7aa7-4642-a95b-2560cef4696a\" class=\"plotly-graph-div\" style=\"height:525px; width:100%;\"></div>\n",
              "            <script type=\"text/javascript\">\n",
              "                \n",
              "                    window.PLOTLYENV=window.PLOTLYENV || {};\n",
              "                    \n",
              "                if (document.getElementById(\"2da3c06e-7aa7-4642-a95b-2560cef4696a\")) {\n",
              "                    Plotly.newPlot(\n",
              "                        '2da3c06e-7aa7-4642-a95b-2560cef4696a',\n",
              "                        [{\"alignmentgroup\": \"True\", \"hoverlabel\": {\"namelength\": 0}, \"hovertemplate\": \"Type=%{x}<br>Installs=%{y}\", \"legendgroup\": \"\", \"marker\": {\"color\": \"#636efa\"}, \"name\": \"\", \"notched\": false, \"offsetgroup\": \"\", \"orientation\": \"v\", \"showlegend\": false, \"type\": \"box\", \"x\": [\"Free\", \"Paid\", \"Paid\", \"Free\", \"Free\", \"Free\", \"Free\", \"Free\", \"Free\", \"Free\", \"Free\", \"Free\", \"Free\", \"Free\", \"Free\", \"Free\", \"Free\", \"Free\", \"Free\", \"Free\", \"Free\", \"Free\", \"Free\", \"Free\", \"Free\", \"Free\", \"Paid\", \"Free\", \"Free\", \"Free\", \"Free\", \"Paid\", \"Free\", \"Free\", \"Free\", \"Free\", \"Paid\", \"Free\", \"Free\", \"Free\", \"Paid\", \"Free\", \"Free\", \"Free\", \"Free\", \"Paid\", \"Free\", \"Free\", \"Free\", \"Paid\", \"Paid\", \"Paid\", \"Free\", \"Free\", \"Free\", \"Free\", \"Paid\", \"Free\", \"Paid\", \"Free\", \"Paid\", \"Free\", \"Free\", \"Free\", \"Free\", \"Free\", \"Paid\", \"Free\", \"Free\", \"Paid\", \"Paid\", \"Paid\", \"Free\", \"Free\", \"Paid\", \"Free\", \"Free\", \"Paid\", \"Free\", \"Paid\", \"Free\", \"Free\", \"Free\", \"Free\", \"Free\", \"Free\", \"Paid\", \"Paid\", \"Free\", \"Free\", \"Free\", \"Free\", \"Free\", \"Paid\", \"Free\", \"Free\", \"Free\", \"Free\", \"Free\", \"Free\", \"Free\", \"Free\", \"Free\", \"Free\", \"Paid\", \"Free\", \"Free\", \"Free\", \"Free\", \"Paid\", \"Paid\", \"Free\", \"Paid\", \"Free\", \"Free\", \"Free\", \"Paid\", \"Free\", \"Free\", \"Free\", \"Paid\", \"Paid\", \"Free\", \"Free\", \"Free\", \"Free\", \"Paid\", \"Free\", \"Free\", \"Free\", \"Paid\", \"Free\", \"Free\", \"Paid\", \"Free\", \"Free\", \"Paid\", \"Free\", \"Paid\", \"Paid\", \"Free\", \"Free\", \"Free\", \"Free\", \"Free\", \"Free\", \"Free\", \"Free\", \"Free\", \"Free\", \"Free\", \"Free\", \"Free\", \"Free\", \"Paid\", \"Free\", \"Free\", \"Free\", \"Free\", \"Free\", \"Free\", \"Free\", \"Free\", \"Free\", \"Free\", \"Free\", \"Free\", \"Paid\", \"Free\", \"Free\", \"Paid\", \"Free\", \"Free\", \"Free\", \"Free\", \"Free\", \"Paid\", \"Free\", \"Free\", \"Free\", \"Paid\", \"Free\", \"Free\", \"Free\", \"Paid\", \"Free\", \"Free\", \"Paid\", \"Paid\", \"Free\", \"Paid\", \"Free\", \"Free\", \"Paid\", \"Free\", \"Paid\", \"Free\", \"Paid\", \"Free\", \"Free\", \"Free\", \"Paid\", \"Paid\", \"Free\", \"Free\", \"Free\", \"Free\", \"Free\", \"Free\", \"Free\", \"Free\", \"Free\", \"Free\", \"Free\", \"Free\", \"Paid\", \"Free\", \"Free\", \"Free\", \"Free\", \"Paid\", \"Free\", \"Free\", \"Free\", \"Paid\", \"Free\", \"Free\", \"Free\", \"Free\", \"Free\", \"Free\", \"Free\", \"Free\", \"Free\", \"Free\", \"Free\", \"Free\", \"Free\", \"Paid\", \"Paid\", \"Free\", \"Paid\", \"Free\", \"Paid\", \"Free\", \"Free\", \"Free\", \"Paid\", \"Free\", \"Paid\", \"Free\", \"Free\", \"Paid\", \"Free\", \"Paid\", \"Free\", \"Free\", \"Paid\", \"Free\", \"Free\", \"Free\", \"Free\", \"Free\", \"Paid\", \"Free\", \"Free\", \"Paid\", \"Free\", \"Paid\", \"Free\", \"Free\", \"Free\", \"Free\", \"Free\", \"Paid\", \"Free\", \"Free\", \"Paid\", \"Paid\", \"Free\", \"Free\", \"Free\", \"Paid\", \"Free\", \"Free\", \"Free\", \"Free\", \"Free\", \"Free\", \"Free\", \"Free\", \"Free\", \"Free\", \"Free\", \"Free\", \"Free\", \"Free\", \"Free\", \"Free\", \"Free\", \"Free\", \"Free\", \"Free\", \"Free\", \"Free\", \"Paid\", \"Free\", \"Free\", \"Paid\", \"Paid\", \"Paid\", \"Paid\", \"Free\", \"Free\", \"Free\", \"Free\", \"Free\", \"Free\", \"Free\", \"Free\", \"Free\", \"Free\", \"Free\", \"Free\", \"Free\", \"Free\", \"Free\", \"Free\", \"Free\", \"Free\", \"Free\", \"Free\", \"Free\", \"Free\", \"Free\", \"Paid\", \"Free\", \"Free\", \"Free\", \"Free\", \"Free\", \"Free\", \"Free\", \"Free\", \"Free\", \"Free\", \"Paid\", \"Free\", \"Free\", \"Free\", \"Paid\", \"Free\", \"Paid\", \"Free\", \"Paid\", \"Free\", \"Paid\", \"Free\", \"Paid\", \"Free\", \"Free\", \"Free\", \"Free\", \"Free\", \"Paid\", \"Free\", \"Free\", \"Paid\", \"Paid\", \"Free\", \"Paid\", \"Free\", \"Free\", \"Free\", \"Free\", \"Free\", \"Free\", \"Free\", \"Free\", \"Free\", \"Free\", \"Paid\", \"Free\", \"Free\", \"Free\", \"Free\", \"Free\", \"Free\", \"Free\", \"Free\", \"Free\", \"Paid\", \"Free\", \"Free\", \"Free\", \"Free\", \"Free\", \"Free\", \"Paid\", \"Free\", \"Free\", \"Free\", \"Paid\", \"Free\", \"Free\", \"Free\", \"Free\", \"Paid\", \"Free\", \"Paid\", \"Free\", \"Free\", \"Free\", \"Free\", \"Free\", \"Free\", \"Free\", \"Free\", \"Paid\", \"Paid\", \"Paid\", \"Free\", \"Free\", \"Free\", \"Free\", \"Free\", \"Free\", \"Free\", \"Free\", \"Free\", \"Paid\", \"Free\", \"Free\", \"Paid\", \"Free\", \"Paid\", \"Free\", \"Paid\", \"Paid\", \"Free\", \"Free\", \"Free\", \"Free\", \"Free\", \"Paid\", \"Free\", \"Free\", \"Free\", \"Free\", \"Paid\", \"Free\", \"Free\", \"Paid\", \"Paid\", \"Free\", \"Free\", \"Free\", \"Free\", \"Free\", \"Free\", \"Free\", \"Paid\", \"Paid\", \"Paid\", \"Free\", \"Free\", \"Free\", \"Free\", \"Free\", \"Free\", \"Free\", \"Free\", \"Free\", \"Free\", \"Free\", \"Free\", \"Free\", \"Free\", \"Free\", \"Free\", \"Free\", \"Free\", \"Paid\", \"Free\", \"Paid\", \"Free\", \"Free\", \"Free\", \"Free\", \"Free\", \"Paid\", \"Free\", \"Free\", \"Paid\", \"Free\", \"Free\", \"Free\", \"Free\", \"Free\", \"Free\", \"Paid\", \"Free\", \"Free\", \"Free\", \"Free\", \"Free\", \"Free\", \"Paid\", \"Free\", \"Free\", \"Free\", \"Free\", \"Free\", \"Paid\", \"Free\", \"Paid\", \"Free\", \"Free\", \"Free\", \"Free\", \"Free\", \"Free\", \"Free\", \"Free\", \"Paid\", \"Paid\", \"Free\", \"Paid\", \"Free\", \"Free\", \"Paid\", \"Free\", \"Free\", \"Free\", \"Free\", \"Free\", \"Free\", \"Free\", \"Free\", \"Free\", \"Free\", \"Free\", \"Free\", \"Free\", \"Free\", \"Paid\", \"Paid\", \"Free\", \"Free\", \"Paid\", \"Free\", \"Free\", \"Free\", \"Free\", \"Paid\", \"Free\", \"Free\", \"Free\", \"Free\", \"Free\", \"Free\", \"Free\", \"Free\", \"Paid\", \"Free\", \"Paid\", \"Free\", \"Free\", \"Free\", \"Free\", \"Free\", \"Free\", \"Free\", \"Free\", \"Free\", \"Free\", \"Free\", \"Paid\", \"Free\", \"Free\", \"Free\", \"Free\", \"Free\", \"Free\", \"Free\", \"Free\", \"Free\", \"Paid\", \"Free\", \"Free\", \"Free\", \"Free\", \"Free\", \"Free\", \"Free\", \"Free\", \"Free\", \"Free\", \"Free\", \"Free\", \"Free\", \"Free\", \"Free\", \"Free\", \"Free\", \"Free\", \"Free\", \"Free\", \"Paid\", \"Free\", \"Free\", \"Free\", \"Free\", \"Free\", \"Free\", \"Free\", \"Free\", \"Free\", \"Free\", \"Free\", \"Paid\", \"Free\", \"Free\", \"Free\", \"Free\", \"Paid\", \"Free\", \"Free\", \"Free\", \"Paid\", \"Free\", \"Paid\", \"Paid\", \"Paid\", \"Free\", \"Free\", \"Paid\", \"Paid\", \"Free\", \"Free\", \"Free\", \"Free\", \"Free\", \"Paid\", \"Free\", \"Free\", \"Free\", \"Free\", \"Free\", \"Free\", \"Free\", \"Free\", \"Free\", \"Free\", \"Paid\", \"Paid\", \"Paid\", \"Free\", \"Free\", \"Free\", \"Free\", \"Free\", \"Free\", \"Free\", \"Free\", \"Free\", \"Free\", \"Free\", \"Free\", \"Free\", \"Free\", \"Free\", \"Free\", \"Free\", \"Free\", \"Free\", \"Free\", \"Free\", \"Free\", \"Free\", \"Free\", \"Free\", \"Free\", \"Free\", \"Free\", \"Free\", \"Free\", \"Free\", \"Free\", \"Paid\", \"Free\", \"Free\", \"Free\", \"Free\", \"Free\", \"Free\", \"Free\", \"Free\", \"Paid\", \"Free\", \"Free\", \"Free\", \"Free\", \"Free\", \"Free\", \"Free\", \"Free\", \"Free\", \"Free\", \"Free\", \"Free\", \"Free\", \"Free\", \"Free\", \"Paid\", \"Free\", \"Free\", \"Free\", \"Free\", \"Free\", \"Free\", \"Free\", \"Free\", \"Free\", \"Free\", \"Free\", \"Free\", \"Free\", \"Free\", \"Free\", \"Free\", \"Free\", \"Free\", \"Free\", \"Free\", \"Free\", \"Free\", \"Free\", \"Free\", \"Free\", \"Free\", \"Free\", \"Free\", \"Free\", \"Free\", \"Free\", \"Free\", \"Paid\", \"Free\", \"Free\", \"Free\", \"Paid\", \"Free\", \"Free\", \"Free\", \"Paid\", \"Free\", \"Free\", \"Paid\", \"Free\", \"Free\", \"Paid\", \"Free\", \"Free\", \"Free\", \"Free\", \"Free\", \"Free\", \"Free\", \"Free\", \"Free\", \"Free\", \"Free\", \"Free\", \"Free\", \"Free\", \"Free\", \"Free\", \"Free\", \"Free\", \"Free\", \"Free\", \"Free\", \"Free\", \"Free\", \"Free\", \"Paid\", \"Paid\", \"Paid\", \"Free\", \"Free\", \"Paid\", \"Free\", \"Free\", \"Free\", \"Paid\", \"Free\", \"Paid\", \"Paid\", \"Free\", \"Free\", \"Free\", \"Free\", \"Free\", \"Free\", \"Paid\", \"Free\", \"Free\", \"Free\", \"Free\", \"Free\", \"Free\", \"Free\", \"Free\", \"Free\", \"Free\", \"Free\", \"Paid\", \"Free\", \"Free\", \"Free\", \"Free\", \"Free\", \"Free\", \"Free\", \"Free\", \"Free\", \"Paid\", \"Free\", \"Free\", \"Free\", \"Free\", \"Paid\", \"Paid\", \"Free\", \"Free\", \"Free\", \"Free\", \"Free\", \"Free\", \"Free\", \"Free\", \"Paid\", \"Paid\", \"Free\", \"Paid\", \"Free\", \"Free\", \"Paid\", \"Paid\", \"Free\", \"Free\", \"Paid\", \"Paid\", \"Free\", \"Free\", \"Free\", \"Free\", \"Free\", \"Paid\", \"Free\", \"Free\", \"Free\", \"Free\", \"Free\", \"Free\", \"Free\", \"Free\", \"Free\", \"Free\", \"Free\", \"Free\", \"Free\", \"Free\", \"Free\", \"Free\", \"Free\", \"Free\", \"Free\", \"Free\", \"Paid\", \"Paid\", \"Free\", \"Paid\", \"Free\", \"Free\", \"Free\", \"Free\", \"Free\", \"Free\", \"Free\", \"Free\", \"Free\", \"Free\", \"Free\", \"Paid\", \"Free\", \"Free\", \"Free\", \"Free\", \"Free\", \"Free\", \"Free\", \"Free\", \"Free\", \"Free\", \"Free\", \"Free\", \"Free\", \"Paid\", \"Free\", \"Paid\", \"Paid\", \"Free\", \"Paid\", \"Paid\", \"Free\", \"Free\", \"Free\", \"Free\", \"Free\", \"Free\", \"Free\", \"Free\", \"Paid\", \"Free\", \"Free\", \"Paid\", \"Free\", \"Free\", \"Free\", \"Free\", \"Free\", \"Free\", \"Free\", \"Free\", \"Free\", \"Free\", \"Free\", \"Free\", \"Free\", \"Free\", \"Free\", \"Free\", \"Free\", \"Free\", \"Free\", \"Free\", \"Free\", \"Free\", \"Free\", \"Free\", \"Paid\", \"Free\", \"Paid\", \"Free\", \"Free\", \"Paid\", \"Paid\", \"Free\", \"Free\", \"Free\", \"Free\", \"Free\", \"Paid\", \"Free\", \"Free\", \"Free\", \"Free\", \"Free\", \"Free\", \"Free\", \"Free\", \"Free\", \"Free\", \"Free\", \"Free\", \"Free\", \"Free\", \"Free\", \"Free\", \"Free\", \"Free\", \"Free\", \"Free\", \"Free\", \"Free\", \"Free\", \"Free\", \"Paid\", \"Free\", \"Free\", \"Free\", \"Free\", \"Free\", \"Free\", \"Free\", \"Free\", \"Free\", \"Free\", \"Free\", \"Free\", \"Free\", \"Paid\", \"Free\", \"Paid\", \"Paid\", \"Free\", \"Free\", \"Paid\", \"Paid\", \"Free\", \"Paid\", \"Free\", \"Free\", \"Free\", \"Free\", \"Free\", \"Paid\", \"Free\", \"Free\", \"Free\", \"Paid\", \"Free\", \"Free\", \"Free\", \"Free\", \"Free\", \"Free\", \"Free\", \"Paid\", \"Free\", \"Free\", \"Free\", \"Free\", \"Paid\", \"Free\", \"Free\", \"Free\", \"Free\", \"Free\", \"Free\", \"Free\", \"Free\", \"Free\", \"Free\", \"Free\", \"Free\", \"Free\", \"Free\", \"Free\", \"Free\", \"Free\", \"Free\", \"Free\", \"Free\", \"Free\", \"Free\", \"Paid\", \"Free\", \"Paid\", \"Free\", \"Paid\", \"Free\", \"Free\", \"Free\", \"Free\", \"Free\", \"Free\", \"Free\", \"Free\", \"Paid\", \"Free\", \"Free\", \"Free\", \"Free\", \"Free\", \"Free\", \"Free\", \"Free\", \"Free\", \"Free\", \"Free\", \"Paid\", \"Free\", \"Paid\", \"Free\", \"Free\", \"Free\", \"Free\", \"Free\", \"Free\", \"Paid\", \"Free\", \"Free\", \"Free\", \"Free\", \"Free\", \"Free\", \"Free\", \"Free\", \"Free\", \"Free\", \"Free\", \"Free\", \"Free\", \"Paid\", \"Free\", \"Free\", \"Paid\", \"Free\", \"Free\", \"Free\", \"Free\", \"Paid\", \"Free\", \"Free\", \"Free\", \"Free\", \"Free\", \"Free\", \"Free\", \"Free\", \"Free\", \"Free\", \"Free\", \"Free\", \"Free\", \"Free\", \"Free\", \"Free\", \"Free\", \"Free\", \"Free\", \"Free\", \"Free\", \"Free\", \"Free\", \"Free\", \"Free\", \"Paid\", \"Paid\", \"Free\", \"Free\", \"Paid\", \"Free\", \"Free\", \"Paid\", \"Paid\", \"Free\", \"Free\", \"Free\", \"Free\", \"Paid\", \"Paid\", \"Free\", \"Free\", \"Free\", \"Free\", \"Free\", \"Paid\", \"Paid\", \"Free\", \"Free\", \"Free\", \"Free\", \"Paid\", \"Free\", \"Free\", \"Paid\", \"Free\", \"Paid\", \"Free\", \"Free\", \"Free\", \"Free\", \"Free\", \"Free\", \"Paid\", \"Free\", \"Free\", \"Paid\", \"Free\", \"Paid\", \"Free\", \"Free\", \"Free\", \"Free\", \"Paid\", \"Paid\", \"Free\", \"Free\", \"Free\", \"Paid\", \"Free\", \"Free\", \"Free\", \"Free\", \"Free\", \"Free\", \"Free\", \"Free\", \"Free\", \"Free\", \"Free\", \"Paid\", \"Free\", \"Free\", \"Free\", \"Paid\", \"Free\", \"Free\", \"Free\", \"Free\", \"Free\", \"Paid\", \"Free\", \"Free\", \"Free\", \"Free\", \"Free\", \"Free\", \"Free\", \"Free\", \"Free\", \"Free\", \"Free\", \"Free\", \"Free\", \"Free\", \"Paid\", \"Free\", \"Free\", \"Free\", \"Free\", \"Free\", \"Free\", \"Free\", \"Free\", \"Paid\", \"Free\", \"Paid\", \"Paid\", \"Free\", \"Free\", \"Free\", \"Paid\", \"Paid\", \"Free\", \"Free\", \"Free\", \"Free\", \"Paid\", \"Free\", \"Free\", \"Free\", \"Free\", \"Paid\", \"Free\", \"Paid\", \"Free\", \"Free\", \"Paid\", \"Paid\", \"Free\", \"Free\", \"Free\", \"Free\", \"Free\", \"Free\", \"Paid\", \"Free\", \"Free\", \"Free\", \"Free\", \"Paid\", \"Paid\", \"Paid\", \"Paid\", \"Paid\", \"Free\", \"Paid\", \"Paid\", \"Free\", \"Free\", \"Paid\", \"Paid\", \"Paid\", \"Free\", \"Free\", \"Free\", \"Paid\", \"Free\", \"Paid\", \"Paid\", \"Free\", \"Free\", \"Paid\", \"Free\", \"Free\", \"Free\", \"Free\", \"Free\", \"Free\", \"Free\", \"Free\", \"Free\", \"Free\", \"Free\", \"Free\", \"Paid\", \"Paid\", \"Free\", \"Free\", \"Paid\", \"Free\", \"Free\", \"Paid\", \"Paid\", \"Free\", \"Paid\", \"Free\", \"Paid\", \"Paid\", \"Paid\", \"Free\", \"Paid\", \"Free\", \"Paid\", \"Free\", \"Free\", \"Free\", \"Free\", \"Free\", \"Paid\", \"Free\", \"Free\", \"Free\", \"Paid\", \"Free\", \"Free\", \"Free\", \"Free\", \"Free\", \"Free\", \"Free\", \"Free\", \"Free\", \"Free\", \"Free\", \"Free\", \"Free\", \"Free\", \"Free\", \"Free\", \"Free\", \"Free\", \"Paid\", \"Free\", \"Free\", \"Free\", \"Free\", \"Free\", \"Free\", \"Free\", \"Free\", \"Free\", \"Free\", \"Free\", \"Free\", \"Free\", \"Free\", \"Free\", \"Free\", \"Free\", \"Free\", \"Free\", \"Paid\", \"Free\", \"Free\", \"Free\", \"Free\", \"Free\", \"Paid\", \"Paid\", \"Paid\", \"Free\", \"Free\", \"Free\", \"Free\", \"Free\", \"Free\", \"Free\", \"Free\", \"Paid\", \"Free\", \"Free\", \"Free\", \"Paid\", \"Free\", \"Free\", \"Free\", \"Free\", \"Free\", \"Free\", \"Free\", \"Free\", \"Free\", \"Free\", \"Paid\", \"Free\", \"Free\", \"Free\", \"Free\", \"Free\", \"Free\", \"Free\", \"Free\", \"Free\", \"Free\", \"Free\", \"Paid\", \"Free\", \"Free\", \"Free\", \"Free\", \"Free\", \"Free\", \"Free\", \"Paid\", \"Free\", \"Free\", \"Paid\", \"Free\", \"Free\", \"Paid\", \"Paid\", \"Paid\", \"Paid\", \"Paid\", \"Free\", \"Paid\", \"Free\", \"Free\", \"Free\", \"Free\", \"Free\", \"Free\", \"Paid\", \"Free\", \"Free\", \"Free\", \"Free\", \"Free\", \"Free\", \"Paid\", \"Free\", \"Free\", \"Free\", \"Paid\", \"Free\", \"Free\", \"Free\", \"Free\", \"Free\", \"Free\", \"Paid\", \"Free\", \"Free\", \"Free\", \"Free\", \"Free\", \"Paid\", \"Free\", \"Free\", \"Free\", \"Free\", \"Free\", \"Free\", \"Free\", \"Free\", \"Free\", \"Free\", \"Free\", \"Free\", \"Paid\", \"Free\", \"Free\", \"Free\", \"Free\", \"Free\", \"Paid\", \"Free\", \"Free\", \"Free\", \"Free\", \"Free\", \"Free\", \"Free\", \"Free\", \"Free\", \"Free\", \"Free\", \"Free\", \"Free\", \"Free\", \"Free\", \"Paid\", \"Free\", \"Free\", \"Free\", \"Paid\", \"Free\", \"Free\", \"Free\", \"Free\", \"Free\", \"Free\", \"Free\", \"Free\", \"Free\", \"Free\", \"Free\", \"Free\", \"Free\", \"Paid\", \"Free\", \"Free\", \"Free\", \"Free\", \"Free\", \"Free\", \"Free\", \"Free\", \"Free\", \"Free\", \"Free\", \"Paid\", \"Free\", \"Free\", \"Free\", \"Free\", \"Free\", \"Free\", \"Free\", \"Paid\", \"Free\", \"Paid\", \"Free\", \"Free\", \"Free\", \"Free\", \"Free\", \"Free\", \"Free\", \"Free\", \"Free\", \"Free\", \"Free\", \"Free\", \"Free\", \"Free\", \"Free\", \"Free\", \"Free\", \"Free\", \"Free\", \"Free\", \"Free\", \"Free\", \"Free\", \"Paid\", \"Free\", \"Free\", \"Free\", \"Free\", \"Free\", \"Paid\", \"Paid\", \"Free\", \"Paid\", \"Free\", \"Free\", \"Free\", \"Free\", \"Free\", \"Free\", \"Free\", \"Free\", \"Free\", \"Free\", \"Free\", \"Free\", \"Free\", \"Paid\", \"Paid\", \"Free\", \"Free\", \"Free\", \"Paid\", \"Free\", \"Free\", \"Free\", \"Free\", \"Free\", \"Free\", \"Free\", \"Free\", \"Free\", \"Paid\", \"Free\", \"Free\", \"Free\", \"Free\", \"Free\", \"Free\", \"Free\", \"Free\", \"Free\", \"Free\", \"Paid\", \"Free\", \"Free\", \"Free\", \"Free\", \"Free\", \"Free\", \"Free\", \"Free\", \"Free\", \"Free\", \"Free\", \"Free\", \"Free\", \"Free\", \"Free\", \"Paid\", \"Paid\", \"Paid\", \"Free\", \"Free\", \"Free\", \"Paid\", \"Paid\", \"Free\", \"Free\", \"Free\", \"Free\", \"Free\", \"Free\", \"Paid\", \"Free\", \"Free\", \"Free\", \"Free\", \"Free\", \"Free\", \"Free\", \"Free\", \"Free\", \"Free\", \"Free\", \"Free\", \"Free\", \"Free\", \"Free\", \"Free\", \"Free\", \"Free\", \"Free\", \"Free\", \"Free\", \"Free\", \"Free\", \"Free\", \"Paid\", \"Free\", \"Paid\", \"Free\", \"Free\", \"Free\", \"Free\", \"Free\", \"Free\", \"Free\", \"Free\", \"Free\", \"Free\", \"Free\", \"Free\", \"Free\", \"Free\", \"Free\", \"Free\", \"Free\", \"Paid\", \"Free\", \"Free\", \"Free\", \"Free\", \"Free\", \"Free\", \"Free\", \"Free\", \"Paid\", \"Free\", \"Free\", \"Free\", \"Free\", \"Paid\", \"Free\", \"Free\", \"Free\", \"Paid\", \"Free\", \"Free\", \"Free\", \"Free\", \"Free\", \"Free\", \"Free\", \"Free\", \"Free\", \"Free\", \"Free\", \"Free\", \"Free\", \"Paid\", \"Free\", \"Free\", \"Free\", \"Paid\", \"Free\", \"Free\", \"Free\", \"Free\", \"Free\", \"Free\", \"Free\", \"Free\", \"Paid\", \"Paid\", \"Paid\", \"Paid\", \"Paid\", \"Free\", \"Paid\", \"Paid\", \"Free\", \"Free\", \"Free\", \"Free\", \"Free\", \"Free\", \"Free\", \"Free\", \"Free\", \"Free\", \"Free\", \"Free\", \"Free\", \"Free\", \"Free\", \"Free\", \"Free\", \"Free\", \"Free\", \"Free\", \"Free\", \"Free\", \"Free\", \"Free\", \"Free\", \"Free\", \"Paid\", \"Free\", \"Free\", \"Free\", \"Free\", \"Free\", \"Free\", \"Free\", \"Free\", \"Free\", \"Free\", \"Free\", \"Free\", \"Free\", \"Free\", \"Free\", \"Free\", \"Free\", \"Free\", \"Free\", \"Free\", \"Free\", \"Free\", \"Free\", \"Free\", \"Free\", \"Free\", \"Free\", \"Free\", \"Paid\", \"Paid\", \"Free\", \"Free\", \"Free\", \"Free\", \"Free\", \"Free\", \"Free\", \"Free\", \"Paid\", \"Free\", \"Free\", \"Free\", \"Free\", \"Free\", \"Free\", \"Free\", \"Free\", \"Free\", \"Free\", \"Free\", \"Free\", \"Free\", \"Free\", \"Free\", \"Free\", \"Free\", \"Paid\", \"Free\", \"Free\", \"Free\", \"Free\", \"Free\", \"Free\", \"Free\", \"Free\", \"Free\", \"Free\", \"Free\", \"Free\", \"Free\", \"Free\", \"Free\", \"Free\", \"Free\", \"Free\", \"Free\", \"Paid\", \"Free\", \"Free\", \"Paid\", \"Free\", \"Free\", \"Free\", \"Free\", \"Free\", \"Free\", \"Free\", \"Free\", \"Free\", \"Free\", \"Free\", \"Free\", \"Free\", \"Free\", \"Free\", \"Free\", \"Free\", \"Free\", \"Paid\", \"Paid\", \"Free\", \"Free\", \"Free\", \"Free\", \"Paid\", \"Free\", \"Free\", \"Free\", \"Free\", \"Free\", \"Free\", \"Paid\", \"Paid\", \"Free\", \"Paid\", \"Paid\", \"Free\", \"Free\", \"Free\", \"Free\", \"Free\", \"Free\", \"Free\", \"Free\", \"Free\", \"Free\", \"Free\", \"Free\", \"Free\", \"Paid\", \"Free\", \"Free\", \"Free\", \"Free\", \"Free\", \"Free\", \"Paid\", \"Free\", \"Free\", \"Free\", \"Free\", \"Free\", \"Free\", \"Free\", \"Free\", \"Free\", \"Paid\", \"Free\", \"Free\", \"Free\", \"Free\", \"Free\", \"Free\", \"Paid\", \"Free\", \"Free\", \"Free\", \"Free\", \"Free\", \"Free\", \"Free\", \"Free\", \"Free\", \"Free\", \"Free\", \"Free\", \"Paid\", \"Free\", \"Free\", \"Free\", \"Free\", \"Paid\", \"Free\", \"Free\", \"Free\", \"Free\", \"Free\", \"Free\", \"Free\", \"Free\", \"Free\", \"Free\", \"Free\", \"Free\", \"Free\", \"Free\", \"Free\", \"Free\", \"Free\", \"Paid\", \"Free\", \"Free\", \"Free\", \"Free\", \"Free\", \"Free\", \"Free\", \"Free\", \"Free\", \"Free\", \"Free\", \"Free\", \"Free\", \"Free\", \"Free\", \"Free\", \"Free\", \"Paid\", \"Free\", \"Free\", \"Free\", \"Free\", \"Paid\", \"Free\", \"Free\", \"Free\", \"Free\", \"Free\", \"Free\", \"Free\", \"Free\", \"Free\", \"Free\", \"Free\", \"Free\", \"Free\", \"Free\", \"Free\", \"Free\", \"Free\", \"Free\", \"Free\", \"Free\", \"Free\", \"Free\", \"Free\", \"Free\", \"Free\", \"Paid\", \"Free\", \"Paid\", \"Free\", \"Free\", \"Free\", \"Free\", \"Paid\", \"Free\", \"Paid\", \"Free\", \"Free\", \"Free\", \"Paid\", \"Paid\", \"Free\", \"Free\", \"Paid\", \"Free\", \"Free\", \"Free\", \"Paid\", \"Paid\", \"Free\", \"Free\", \"Free\", \"Free\", \"Free\", \"Paid\", \"Paid\", \"Free\", \"Free\", \"Paid\", \"Free\", \"Free\", \"Paid\", \"Paid\", \"Free\", \"Paid\", \"Paid\", \"Free\", \"Free\", \"Free\", \"Free\", \"Free\", \"Free\", \"Free\", \"Free\", \"Free\", \"Paid\", \"Paid\", \"Paid\", \"Free\", \"Free\", \"Free\", \"Free\", \"Free\", \"Free\", \"Free\", \"Free\", \"Free\", \"Free\", \"Free\", \"Free\", \"Free\", \"Free\", \"Free\", \"Free\", \"Free\", \"Free\", \"Free\", \"Free\", \"Free\", \"Paid\", \"Free\", \"Free\", \"Free\", \"Free\", \"Free\", \"Free\", \"Free\", \"Paid\", \"Free\", \"Free\", \"Paid\", \"Paid\", \"Free\", \"Free\", \"Free\", \"Free\", \"Free\", \"Free\", \"Free\", \"Free\", \"Free\", \"Free\", \"Free\", \"Free\", \"Free\", \"Free\", \"Paid\", \"Free\", \"Free\", \"Free\", \"Free\", \"Free\", \"Paid\", \"Free\", \"Free\", \"Paid\", \"Free\", \"Free\", \"Free\", \"Free\", \"Free\", \"Free\", \"Free\", \"Free\", \"Free\", \"Free\", \"Paid\", \"Free\", \"Free\", \"Free\", \"Free\", \"Paid\", \"Free\", \"Free\", \"Free\", \"Free\", \"Free\", \"Free\", \"Free\", \"Free\", \"Free\", \"Free\", \"Free\", \"Free\", \"Free\", \"Free\", \"Free\", \"Free\", \"Free\", \"Free\", \"Free\", \"Free\", \"Free\", \"Free\", \"Free\", \"Paid\", \"Free\", \"Free\", \"Free\", \"Free\", \"Free\", \"Free\", \"Free\", \"Paid\", \"Free\", \"Paid\", \"Free\", \"Free\", \"Free\", \"Free\", \"Free\", \"Free\", \"Paid\", \"Free\", \"Free\", \"Free\", \"Free\", \"Free\", \"Free\", \"Free\", \"Free\", \"Free\", \"Free\", \"Free\", \"Free\", \"Free\", \"Free\", \"Paid\", \"Free\", \"Paid\", \"Free\", \"Free\", \"Free\", \"Free\", \"Free\", \"Free\", \"Free\", \"Free\", \"Free\", \"Free\", \"Free\", \"Free\", \"Free\", \"Free\", \"Free\", \"Free\", \"Free\", \"Free\", \"Free\", \"Free\", \"Free\", \"Free\", \"Free\", \"Free\", \"Free\", \"Free\", \"Free\", \"Free\", \"Free\", \"Paid\", \"Free\", \"Paid\", \"Free\", \"Free\", \"Free\", \"Free\", \"Free\", \"Free\", \"Free\", \"Free\", \"Free\", \"Free\", \"Free\", \"Free\", \"Free\", \"Free\", \"Free\", \"Free\", \"Free\", \"Free\", \"Free\", \"Free\", \"Free\", \"Free\", \"Free\", \"Free\", \"Free\", \"Free\", \"Free\", \"Free\", \"Free\", \"Free\", \"Free\", \"Free\", \"Free\", \"Free\", \"Free\", \"Free\", \"Free\", \"Free\", \"Free\", \"Free\", \"Free\", \"Paid\", \"Free\", \"Free\", \"Free\", \"Free\", \"Free\", \"Free\", \"Free\", \"Free\", \"Free\", \"Free\", \"Paid\", \"Paid\", \"Free\", \"Free\", \"Free\", \"Free\", \"Free\", \"Free\", \"Free\", \"Free\", \"Free\", \"Free\", \"Free\", \"Free\", \"Free\", \"Free\", \"Free\", \"Free\", \"Free\", \"Free\", \"Paid\", \"Free\", \"Free\", \"Free\", \"Free\", \"Free\", \"Free\", \"Free\", \"Free\", \"Free\", \"Free\", \"Free\", \"Free\", \"Free\", \"Free\", \"Paid\", \"Free\", \"Free\", \"Free\", \"Free\", \"Paid\", \"Paid\", \"Free\", \"Free\", \"Free\", \"Free\", \"Free\", \"Free\", \"Free\", \"Free\", \"Free\", \"Free\", \"Free\", \"Free\", \"Free\", \"Free\", \"Free\", \"Free\", \"Free\", \"Free\", \"Free\", \"Free\", \"Free\", \"Paid\", \"Free\", \"Free\", \"Free\", \"Free\", \"Free\", \"Free\", \"Free\", \"Free\", \"Free\", \"Free\", \"Free\", \"Free\", \"Free\", \"Free\", \"Free\", \"Free\", \"Free\", \"Free\", \"Free\", \"Free\", \"Free\", \"Free\", \"Free\", \"Free\", \"Free\", \"Free\", \"Free\", \"Free\", \"Free\", \"Free\", \"Paid\", \"Free\", \"Free\", \"Free\", \"Free\", \"Free\", \"Free\", \"Free\", \"Free\", \"Free\", \"Free\", \"Free\", \"Free\", \"Free\", \"Paid\", \"Free\", \"Free\", \"Free\", \"Free\", \"Free\", \"Free\", \"Free\", \"Free\", \"Free\", \"Free\", \"Free\", \"Free\", \"Free\", \"Free\", \"Free\", \"Free\", \"Free\", \"Free\", \"Free\", \"Free\", \"Free\", \"Paid\", \"Free\", \"Free\", \"Free\", \"Paid\", \"Paid\", \"Free\", \"Free\", \"Free\", \"Free\", \"Free\", \"Free\", \"Free\", \"Free\", \"Free\", \"Free\", \"Free\", \"Free\", \"Free\", \"Free\", \"Free\", \"Free\", \"Free\", \"Free\", \"Free\", \"Free\", \"Free\", \"Free\", \"Free\", \"Free\", \"Free\", \"Free\", \"Free\", \"Free\", \"Free\", \"Free\", \"Free\", \"Free\", \"Free\", \"Free\", \"Free\", \"Free\", \"Free\", \"Free\", \"Free\", \"Free\", \"Free\", \"Free\", \"Paid\", \"Free\", \"Free\", \"Free\", \"Free\", \"Free\", \"Free\", \"Free\", \"Free\", \"Free\", \"Paid\", \"Free\", \"Free\", \"Paid\", \"Free\", \"Free\", \"Free\", \"Free\", \"Free\", \"Free\", \"Free\", \"Free\", \"Paid\", \"Free\", \"Free\", \"Paid\", \"Free\", \"Free\", \"Free\", \"Free\", \"Free\", \"Free\", \"Free\", \"Free\", \"Free\", \"Free\", \"Free\", \"Free\", \"Free\", \"Free\", \"Free\", \"Free\", \"Paid\", \"Free\", \"Free\", \"Free\", \"Free\", \"Free\", \"Free\", \"Free\", \"Paid\", \"Paid\", \"Free\", \"Free\", \"Free\", \"Free\", \"Free\", \"Free\", \"Free\", \"Free\", \"Free\", \"Free\", \"Free\", \"Free\", \"Free\", \"Free\", \"Free\", \"Free\", \"Free\", \"Paid\", \"Free\", \"Free\", \"Paid\", \"Free\", \"Free\", \"Free\", \"Free\", \"Free\", \"Free\", \"Free\", \"Free\", \"Free\", \"Free\", \"Free\", \"Free\", \"Free\", \"Free\", \"Free\", \"Free\", \"Free\", \"Free\", \"Free\", \"Free\", \"Free\", \"Free\", \"Paid\", \"Free\", \"Free\", \"Free\", \"Free\", \"Free\", \"Free\", \"Free\", \"Free\", \"Free\", \"Free\", \"Free\", \"Free\", \"Free\", \"Free\", \"Free\", \"Free\", \"Paid\", \"Free\", \"Free\", \"Free\", \"Free\", \"Free\", \"Paid\", \"Paid\", \"Free\", \"Free\", \"Paid\", \"Free\", \"Free\", \"Free\", \"Free\", \"Paid\", \"Paid\", \"Paid\", \"Paid\", \"Free\", \"Paid\", \"Free\", \"Paid\", \"Free\", \"Free\", \"Free\", \"Paid\", \"Paid\", \"Free\", \"Free\", \"Free\", \"Free\", \"Free\", \"Free\", \"Free\", \"Free\", \"Free\", \"Free\", \"Free\", \"Free\", \"Paid\", \"Free\", \"Paid\", \"Free\", \"Free\", \"Free\", \"Free\", \"Free\", \"Free\", \"Free\", \"Free\", \"Free\", \"Free\", \"Free\", \"Free\", \"Free\", \"Free\", \"Free\", \"Free\", \"Free\", \"Free\", \"Free\", \"Free\", \"Free\", \"Paid\", \"Free\", \"Free\", \"Free\", \"Free\", \"Free\", \"Free\", \"Free\", \"Paid\", \"Paid\", \"Free\", \"Free\", \"Free\", \"Free\", \"Free\", \"Free\", \"Free\", \"Free\", \"Free\", \"Free\", \"Free\", \"Free\", \"Free\", \"Paid\", \"Paid\", \"Paid\", \"Free\", \"Free\", \"Free\", \"Free\", \"Free\", \"Free\", \"Free\", \"Free\", \"Free\", \"Free\", \"Free\", \"Free\", \"Free\", \"Free\", \"Free\", \"Free\", \"Free\", \"Free\", \"Free\", \"Free\", \"Free\", \"Free\", \"Free\", \"Free\", \"Free\", \"Free\", \"Free\", \"Free\", \"Free\", \"Free\", \"Free\", \"Free\", \"Free\", \"Free\", \"Free\", \"Free\", \"Free\", \"Free\", \"Free\", \"Free\", \"Free\", \"Free\", \"Free\", \"Free\", \"Free\", \"Paid\", \"Free\", \"Free\", \"Free\", \"Paid\", \"Paid\", \"Paid\", \"Free\", \"Free\", \"Free\", \"Free\", \"Free\", \"Free\", \"Free\", \"Free\", \"Paid\", \"Free\", \"Free\", \"Paid\", \"Paid\", \"Free\", \"Free\", \"Free\", \"Free\", \"Free\", \"Paid\", \"Paid\", \"Free\", \"Free\", \"Free\", \"Free\", \"Free\", \"Free\", \"Free\", \"Free\", \"Free\", \"Free\", \"Free\", \"Free\", \"Free\", \"Paid\", \"Free\", \"Free\", \"Free\", \"Free\", \"Free\", \"Free\", \"Paid\", \"Free\", \"Free\", \"Free\", \"Paid\", \"Free\", \"Free\", \"Free\", \"Free\", \"Free\", \"Free\", \"Free\", \"Free\", \"Free\", \"Free\", \"Free\", \"Free\", \"Free\", \"Free\", \"Free\", \"Free\", \"Free\", \"Free\", \"Free\", \"Paid\", \"Free\", \"Free\", \"Free\", \"Free\", \"Free\", \"Free\", \"Free\", \"Free\", \"Free\", \"Free\", \"Free\", \"Free\", \"Free\", \"Free\", \"Free\", \"Free\", \"Free\", \"Free\", \"Free\", \"Free\", \"Free\", \"Free\", \"Free\", \"Free\", \"Free\", \"Paid\", \"Paid\", \"Free\", \"Free\", \"Free\", \"Free\", \"Free\", \"Free\", \"Free\", \"Free\", \"Free\", \"Free\", \"Free\", \"Free\", \"Free\", \"Free\", \"Free\", \"Free\", \"Free\", \"Free\", \"Free\", \"Free\", \"Free\", \"Free\", \"Free\", \"Free\", \"Free\", \"Free\", \"Free\", \"Free\", \"Free\", \"Free\", \"Free\", \"Free\", \"Free\", \"Free\", \"Free\", \"Free\", \"Free\", \"Free\", \"Free\", \"Free\", \"Free\", \"Free\", \"Free\", \"Free\", \"Free\", \"Free\", \"Free\", \"Free\", \"Free\", \"Free\", \"Free\", \"Paid\", \"Free\", \"Free\", \"Paid\", \"Free\", \"Free\", \"Free\", \"Paid\", \"Free\", \"Free\", \"Free\", \"Free\", \"Paid\", \"Paid\", \"Free\", \"Free\", \"Paid\", \"Paid\", \"Free\", \"Free\", \"Paid\", \"Free\", \"Free\", \"Free\", \"Free\", \"Free\", \"Paid\", \"Free\", \"Free\", \"Free\", \"Free\", \"Free\", \"Free\", \"Free\", \"Free\", \"Free\", \"Free\", \"Free\", \"Free\", \"Free\", \"Free\", \"Free\", \"Free\", \"Free\", \"Free\", \"Free\", \"Free\", \"Free\", \"Free\", \"Free\", \"Free\", \"Free\", \"Free\", \"Free\", \"Free\", \"Free\", \"Free\", \"Free\", \"Free\", \"Free\", \"Free\", \"Free\", \"Free\", \"Free\", \"Free\", \"Free\", \"Free\", \"Free\", \"Free\", \"Free\", \"Free\", \"Free\", \"Free\", \"Free\", \"Free\", \"Free\", \"Free\", \"Free\", \"Free\", \"Free\", \"Free\", \"Free\", \"Free\", \"Free\", \"Free\", \"Free\", \"Free\", \"Free\", \"Free\", \"Free\", \"Free\", \"Free\", \"Free\", \"Free\", \"Free\", \"Free\", \"Free\", \"Free\", \"Paid\", \"Free\", \"Free\", \"Free\", \"Free\", \"Free\", \"Free\", \"Free\", \"Free\", \"Free\", \"Paid\", \"Free\", \"Free\", \"Free\", \"Free\", \"Free\", \"Free\", \"Free\", \"Free\", \"Free\", \"Free\", \"Free\", \"Free\", \"Free\", \"Free\", \"Free\", \"Free\", \"Free\", \"Free\", \"Free\", \"Paid\", \"Free\", \"Free\", \"Free\", \"Free\", \"Free\", \"Free\", \"Free\", \"Free\", \"Free\", \"Free\", \"Paid\", \"Paid\", \"Free\", \"Paid\", \"Free\", \"Free\", \"Free\", \"Free\", \"Free\", \"Free\", \"Free\", \"Free\", \"Free\", \"Paid\", \"Paid\", \"Free\", \"Free\", \"Free\", \"Free\", \"Free\", \"Free\", \"Paid\", \"Free\", \"Paid\", \"Free\", \"Free\", \"Free\", \"Free\", \"Free\", \"Free\", \"Free\", \"Free\", \"Free\", \"Free\", \"Free\", \"Free\", \"Free\", \"Free\", \"Free\", \"Free\", \"Free\", \"Free\", \"Free\", \"Free\", \"Free\", \"Free\", \"Free\", \"Free\", \"Free\", \"Paid\", \"Free\", \"Free\", \"Free\", \"Free\", \"Free\", \"Free\", \"Free\", \"Paid\", \"Free\", \"Free\", \"Free\", \"Free\", \"Free\", \"Free\", \"Free\", \"Free\", \"Free\", \"Free\", \"Free\", \"Free\", \"Paid\", \"Free\", \"Free\", \"Free\", \"Free\", \"Free\", \"Free\", \"Free\", \"Free\", \"Free\", \"Free\", \"Free\", \"Free\", \"Free\", \"Free\", \"Free\", \"Free\", \"Free\", \"Free\", \"Free\", \"Free\", \"Free\", \"Free\", \"Free\", \"Free\", \"Free\", \"Free\", \"Free\", \"Free\", \"Paid\", \"Free\", \"Free\", \"Free\", \"Free\", \"Free\", \"Free\", \"Free\", \"Free\", \"Free\", \"Free\", \"Free\", \"Free\", \"Free\", \"Free\", \"Paid\", \"Free\", \"Free\", \"Free\", \"Free\", \"Free\", \"Free\", \"Paid\", \"Free\", \"Free\", \"Free\", \"Paid\", \"Free\", \"Free\", \"Free\", \"Free\", \"Free\", \"Free\", \"Paid\", \"Free\", \"Paid\", \"Free\", \"Free\", \"Free\", \"Free\", \"Paid\", \"Free\", \"Free\", \"Free\", \"Free\", \"Free\", \"Free\", \"Free\", \"Free\", \"Free\", \"Paid\", \"Free\", \"Free\", \"Paid\", \"Free\", \"Free\", \"Free\", \"Free\", \"Free\", \"Free\", \"Free\", \"Paid\", \"Free\", \"Free\", \"Free\", \"Free\", \"Free\", \"Free\", \"Free\", \"Free\", \"Free\", \"Free\", \"Free\", \"Free\", \"Free\", \"Free\", \"Free\", \"Free\", \"Free\", \"Free\", \"Free\", \"Free\", \"Paid\", \"Free\", \"Free\", \"Free\", \"Free\", \"Free\", \"Free\", \"Free\", \"Free\", \"Free\", \"Free\", \"Free\", \"Free\", \"Free\", \"Free\", \"Free\", \"Free\", \"Free\", \"Free\", \"Free\", \"Free\", \"Free\", \"Free\", \"Free\", \"Free\", \"Free\", \"Free\", \"Free\", \"Free\", \"Free\", \"Free\", \"Free\", \"Free\", \"Free\", \"Free\", \"Free\", \"Free\", \"Free\", \"Free\", \"Free\", \"Free\", \"Free\", \"Free\", \"Free\", \"Free\", \"Free\", \"Free\", \"Free\", \"Free\", \"Paid\", \"Free\", \"Free\", \"Free\", \"Free\", \"Free\", \"Free\", \"Free\", \"Free\", \"Free\", \"Free\", \"Free\", \"Paid\", \"Free\", \"Paid\", \"Free\", \"Free\", \"Free\", \"Free\", \"Free\", \"Free\", \"Free\", \"Free\", \"Free\", \"Free\", \"Free\", \"Free\", \"Free\", \"Free\", \"Free\", \"Free\", \"Free\", \"Free\", \"Free\", \"Paid\", \"Free\", \"Free\", \"Free\", \"Free\", \"Free\", \"Free\", \"Free\", \"Free\", \"Free\", \"Free\", \"Free\", \"Free\", \"Free\", \"Free\", \"Free\", \"Free\", \"Free\", \"Free\", \"Free\", \"Free\", \"Free\", \"Free\", \"Free\", \"Free\", \"Free\", \"Free\", \"Free\", \"Free\", \"Free\", \"Free\", \"Paid\", \"Free\", \"Free\", \"Free\", \"Free\", \"Free\", \"Free\", \"Paid\", \"Free\", \"Free\", \"Free\", \"Free\", \"Paid\", \"Free\", \"Free\", \"Free\", \"Free\", \"Free\", \"Free\", \"Free\", \"Free\", \"Free\", \"Paid\", \"Free\", \"Free\", \"Free\", \"Free\", \"Free\", \"Free\", \"Free\", \"Free\", \"Free\", \"Free\", \"Paid\", \"Paid\", \"Free\", \"Paid\", \"Free\", \"Free\", \"Free\", \"Free\", \"Free\", \"Free\", \"Free\", \"Free\", \"Free\", \"Free\", \"Free\", \"Free\", \"Free\", \"Free\", \"Free\", \"Free\", \"Free\", \"Paid\", \"Free\", \"Free\", \"Free\", \"Free\", \"Free\", \"Free\", \"Free\", \"Free\", \"Free\", \"Free\", \"Free\", \"Free\", \"Free\", \"Free\", \"Paid\", \"Free\", \"Free\", \"Free\", \"Free\", \"Free\", \"Free\", \"Free\", \"Free\", \"Free\", \"Free\", \"Paid\", \"Free\", \"Free\", \"Free\", \"Free\", \"Free\", \"Free\", \"Free\", \"Free\", \"Free\", \"Free\", \"Paid\", \"Free\", \"Free\", \"Free\", \"Free\", \"Free\", \"Free\", \"Free\", \"Free\", \"Free\", \"Free\", \"Free\", \"Free\", \"Free\", \"Paid\", \"Free\", \"Free\", \"Free\", \"Free\", \"Free\", \"Free\", \"Free\", \"Free\", \"Free\", \"Free\", \"Free\", \"Free\", \"Free\", \"Free\", \"Free\", \"Paid\", \"Paid\", \"Free\", \"Free\", \"Free\", \"Free\", \"Free\", \"Free\", \"Free\", \"Free\", \"Free\", \"Free\", \"Free\", \"Free\", \"Free\", \"Free\", \"Free\", \"Free\", \"Paid\", \"Free\", \"Free\", \"Free\", \"Free\", \"Free\", \"Free\", \"Free\", \"Free\", \"Free\", \"Free\", \"Free\", \"Free\", \"Free\", \"Free\", \"Free\", \"Free\", \"Free\", \"Free\", \"Free\", \"Free\", \"Free\", \"Free\", \"Free\", \"Paid\", \"Free\", \"Free\", \"Paid\", \"Free\", \"Free\", \"Free\", \"Free\", \"Free\", \"Free\", \"Free\", \"Free\", \"Free\", \"Free\", \"Free\", \"Free\", \"Free\", \"Free\", \"Free\", \"Paid\", \"Free\", \"Free\", \"Free\", \"Free\", \"Free\", \"Free\", \"Free\", \"Free\", \"Free\", \"Free\", \"Free\", \"Free\", \"Paid\", \"Free\", \"Free\", \"Free\", \"Free\", \"Free\", \"Free\", \"Free\", \"Paid\", \"Free\", \"Paid\", \"Free\", \"Free\", \"Free\", \"Free\", \"Free\", \"Free\", \"Free\", \"Free\", \"Free\", \"Free\", \"Free\", \"Paid\", \"Paid\", \"Free\", \"Free\", \"Free\", \"Paid\", \"Free\", \"Paid\", \"Free\", \"Free\", \"Free\", \"Free\", \"Free\", \"Free\", \"Free\", \"Free\", \"Free\", \"Free\", \"Free\", \"Paid\", \"Free\", \"Free\", \"Free\", \"Free\", \"Free\", \"Free\", \"Free\", \"Paid\", \"Free\", \"Free\", \"Free\", \"Free\", \"Free\", \"Paid\", \"Free\", \"Paid\", \"Free\", \"Free\", \"Paid\", \"Paid\", \"Paid\", \"Paid\", \"Paid\", \"Free\", \"Paid\", \"Free\", \"Free\", \"Free\", \"Free\", \"Free\", \"Free\", \"Free\", \"Free\", \"Free\", \"Free\", \"Free\", \"Free\", \"Free\", \"Free\", \"Free\", \"Free\", \"Free\", \"Free\", \"Free\", \"Paid\", \"Free\", \"Free\", \"Free\", \"Free\", \"Free\", \"Free\", \"Free\", \"Free\", \"Free\", \"Free\", \"Free\", \"Free\", \"Free\", \"Paid\", \"Paid\", \"Free\", \"Free\", \"Free\", \"Free\", \"Free\", \"Free\", \"Free\", \"Free\", \"Paid\", \"Free\", \"Free\", \"Free\", \"Free\", \"Free\", \"Free\", \"Free\", \"Free\", \"Free\", \"Free\", \"Free\", \"Free\", \"Paid\", \"Free\", \"Free\", \"Free\", \"Free\", \"Free\", \"Free\", \"Free\", \"Free\", \"Free\", \"Free\", \"Free\", \"Free\", \"Free\", \"Free\", \"Free\", \"Free\", \"Free\", \"Free\", \"Free\", \"Free\", \"Free\", \"Paid\", \"Free\", \"Free\", \"Free\", \"Paid\", \"Free\", \"Free\", \"Free\", \"Paid\", \"Free\", \"Free\", \"Free\", \"Free\", \"Free\", \"Free\", \"Free\", \"Free\", \"Free\", \"Free\", \"Free\", \"Free\", \"Free\", \"Free\", \"Free\", \"Free\", \"Free\", \"Free\", \"Free\", \"Free\", \"Free\", \"Free\", \"Free\", \"Free\", \"Free\", \"Free\", \"Free\", \"Free\", \"Free\", \"Free\", \"Free\", \"Free\", \"Free\", \"Free\", \"Free\", \"Free\", \"Free\", \"Free\", \"Free\", \"Free\", \"Free\", \"Free\", \"Free\", \"Free\", \"Free\", \"Free\", \"Free\", \"Free\", \"Free\", \"Free\", \"Free\", \"Free\", \"Free\", \"Free\", \"Free\", \"Free\", \"Free\", \"Free\", \"Free\", \"Free\", \"Free\", \"Free\", \"Free\", \"Free\", \"Free\", \"Free\", \"Free\", \"Free\", \"Free\", \"Free\", \"Paid\", \"Free\", \"Free\", \"Free\", \"Free\", \"Free\", \"Free\", \"Free\", \"Free\", \"Paid\", \"Free\", \"Free\", \"Free\", \"Paid\", \"Free\", \"Free\", \"Free\", \"Free\", \"Free\", \"Free\", \"Free\", \"Free\", \"Free\", \"Free\", \"Free\", \"Free\", \"Free\", \"Free\", \"Free\", \"Free\", \"Free\", \"Free\", \"Free\", \"Free\", \"Free\", \"Free\", \"Free\", \"Free\", \"Free\", \"Free\", \"Free\", \"Free\", \"Free\", \"Free\", \"Free\", \"Free\", \"Free\", \"Free\", \"Free\", \"Free\", \"Free\", \"Paid\", \"Free\", \"Free\", \"Free\", \"Free\", \"Free\", \"Free\", \"Free\", \"Free\", \"Free\", \"Free\", \"Free\", \"Free\", \"Free\", \"Free\", \"Free\", \"Free\", \"Free\", \"Free\", \"Free\", \"Free\", \"Free\", \"Free\", \"Free\", \"Free\", \"Free\", \"Free\", \"Free\", \"Free\", \"Free\", \"Free\", \"Free\", \"Free\", \"Free\", \"Free\", \"Free\", \"Free\", \"Free\", \"Free\", \"Free\", \"Free\", \"Free\", \"Free\", \"Paid\", \"Free\", \"Free\", \"Free\", \"Free\", \"Free\", \"Free\", \"Free\", \"Free\", \"Free\", \"Free\", \"Paid\", \"Free\", \"Free\", \"Free\", \"Free\", \"Free\", \"Free\", \"Free\", \"Free\", \"Free\", \"Free\", \"Free\", \"Free\", \"Paid\", \"Free\", \"Free\", \"Free\", \"Free\", \"Free\", \"Free\", \"Free\", \"Free\", \"Free\", \"Free\", \"Free\", \"Free\", \"Free\", \"Free\", \"Free\", \"Free\", \"Free\", \"Free\", \"Free\", \"Free\", \"Free\", \"Free\", \"Free\", \"Free\", \"Free\", \"Free\", \"Free\", \"Free\", \"Free\", \"Free\", \"Free\", \"Free\", \"Free\", \"Free\", \"Paid\", \"Free\", \"Free\", \"Free\", \"Free\", \"Free\", \"Free\", \"Free\", \"Free\", \"Free\", \"Paid\", \"Free\", \"Free\", \"Free\", \"Free\", \"Free\", \"Free\", \"Free\", \"Free\", \"Free\", \"Free\", \"Free\", \"Free\", \"Free\", \"Free\", \"Free\", \"Free\", \"Free\", \"Free\", \"Free\", \"Free\", \"Free\", \"Free\", \"Free\", \"Free\", \"Free\", \"Free\", \"Paid\", \"Free\", \"Free\", \"Free\", \"Free\", \"Free\", \"Free\", \"Free\", \"Free\", \"Free\", \"Free\", \"Free\", \"Free\", \"Free\", \"Free\", \"Free\", \"Free\", \"Free\", \"Free\", \"Free\", \"Free\", \"Free\", \"Free\", \"Free\", \"Free\", \"Free\", \"Free\", \"Free\", \"Free\", \"Free\", \"Paid\", \"Free\", \"Free\", \"Free\", \"Free\", \"Free\", \"Free\", \"Free\", \"Free\", \"Free\", \"Free\", \"Free\", \"Free\", \"Free\", \"Free\", \"Free\", \"Free\", \"Free\", \"Free\", \"Free\", \"Free\", \"Free\", \"Free\", \"Free\", \"Free\", \"Free\", \"Free\", \"Free\", \"Free\", \"Free\", \"Paid\", \"Free\", \"Free\", \"Free\", \"Free\", \"Free\", \"Free\", \"Free\", \"Free\", \"Free\", \"Free\", \"Free\", \"Free\", \"Free\", \"Free\", \"Free\", \"Free\", \"Free\", \"Free\", \"Free\", \"Free\", \"Free\", \"Free\", \"Free\", \"Free\", \"Free\", \"Free\", \"Free\", \"Paid\", \"Free\", \"Free\", \"Free\", \"Free\", \"Free\", \"Free\", \"Free\", \"Free\", \"Paid\", \"Free\", \"Free\", \"Free\", \"Free\", \"Free\", \"Free\", \"Free\", \"Free\", \"Free\", \"Free\", \"Free\", \"Paid\", \"Free\", \"Paid\", \"Free\", \"Free\", \"Free\", \"Free\", \"Free\", \"Free\", \"Free\", \"Free\", \"Free\", \"Free\", \"Free\", \"Free\", \"Paid\", \"Free\", \"Free\", \"Free\", \"Free\", \"Free\", \"Free\", \"Free\", \"Free\", \"Free\", \"Free\", \"Free\", \"Free\", \"Free\", \"Free\", \"Free\", \"Free\", \"Free\", \"Free\", \"Free\", \"Paid\", \"Free\", \"Free\", \"Free\", \"Free\", \"Free\", \"Free\", \"Free\", \"Free\", \"Free\", \"Free\", \"Free\", \"Free\", \"Free\", \"Free\", \"Free\", \"Free\", \"Free\", \"Free\", \"Free\", \"Free\", \"Free\", \"Free\", \"Free\", \"Free\", \"Free\", \"Free\", \"Paid\", \"Paid\", \"Free\", \"Free\", \"Free\", \"Free\", \"Free\", \"Free\", \"Free\", \"Free\", \"Free\", \"Free\", \"Free\", \"Free\", \"Free\", \"Free\", \"Free\", \"Free\", \"Paid\", \"Free\", \"Free\", \"Free\", \"Free\", \"Free\", \"Free\", \"Paid\", \"Free\", \"Free\", \"Free\", \"Free\", \"Free\", \"Free\", \"Free\", \"Free\", \"Free\", \"Free\", \"Free\", \"Free\", \"Free\", \"Free\", \"Free\", \"Free\", \"Free\", \"Free\", \"Free\", \"Free\", \"Paid\", \"Free\", \"Free\", \"Free\", \"Free\", \"Free\", \"Free\", \"Free\", \"Free\", \"Free\", \"Free\", \"Free\", \"Free\", \"Free\", \"Free\", \"Free\", \"Free\", \"Free\", \"Free\", \"Free\", \"Free\", \"Free\", \"Free\", \"Free\", \"Free\", \"Free\", \"Free\", \"Free\", \"Free\", \"Free\", \"Free\", \"Free\", \"Free\", \"Free\", \"Free\", \"Free\", \"Free\", \"Free\", \"Free\", \"Free\", \"Free\", \"Paid\", \"Free\", \"Paid\", \"Free\", \"Free\", \"Free\", \"Free\", \"Free\", \"Free\", \"Free\", \"Free\", \"Free\", \"Free\", \"Free\", \"Free\", \"Free\", \"Free\", \"Free\", \"Free\", \"Free\", \"Free\", \"Free\", \"Free\", \"Free\", \"Free\", \"Free\", \"Free\", \"Free\", \"Free\", \"Free\", \"Free\", \"Free\", \"Free\", \"Free\", \"Free\", \"Free\", \"Free\", \"Free\", \"Paid\", \"Free\", \"Free\", \"Free\", \"Free\", \"Free\", \"Free\", \"Free\", \"Paid\", \"Paid\", \"Free\", \"Free\", \"Free\", \"Free\", \"Free\", \"Free\", \"Free\", \"Paid\", \"Free\", \"Free\", \"Free\", \"Free\", \"Free\", \"Free\", \"Free\", \"Free\", \"Free\", \"Free\", \"Free\", \"Free\", \"Free\", \"Free\", \"Free\", \"Free\", \"Free\", \"Free\", \"Free\", \"Free\", \"Free\", \"Free\", \"Free\", \"Free\", \"Free\", \"Paid\", \"Free\", \"Free\", \"Free\", \"Free\", \"Free\", \"Free\", \"Free\", \"Paid\", \"Free\", \"Free\", \"Free\", \"Free\", \"Paid\", \"Free\", \"Free\", \"Free\", \"Free\", \"Free\", \"Paid\", \"Free\", \"Free\", \"Free\", \"Free\", \"Free\", \"Free\", \"Free\", \"Free\", \"Free\", \"Free\", \"Free\", \"Free\", \"Free\", \"Free\", \"Free\", \"Free\", \"Free\", \"Free\", \"Free\", \"Free\", \"Free\", \"Free\", \"Free\", \"Free\", \"Free\", \"Free\", \"Paid\", \"Free\", \"Free\", \"Free\", \"Free\", \"Free\", \"Free\", \"Free\", \"Free\", \"Free\", \"Free\", \"Free\", \"Free\", \"Free\", \"Free\", \"Free\", \"Free\", \"Free\", \"Paid\", \"Free\", \"Free\", \"Free\", \"Free\", \"Free\", \"Free\", \"Free\", \"Free\", \"Free\", \"Free\", \"Free\", \"Free\", \"Free\", \"Free\", \"Free\", \"Free\", \"Paid\", \"Free\", \"Free\", \"Free\", \"Free\", \"Free\", \"Free\", \"Free\", \"Free\", \"Free\", \"Free\", \"Free\", \"Free\", \"Free\", \"Free\", \"Free\", \"Free\", \"Free\", \"Free\", \"Free\", \"Free\", \"Free\", \"Free\", \"Free\", \"Free\", \"Free\", \"Free\", \"Free\", \"Free\", \"Free\", \"Free\", \"Free\", \"Free\", \"Free\", \"Free\", \"Free\", \"Free\", \"Free\", \"Free\", \"Free\", \"Free\", \"Free\", \"Free\", \"Free\", \"Free\", \"Free\", \"Free\", \"Free\", \"Free\", \"Free\", \"Free\", \"Free\", \"Free\", \"Free\", \"Free\", \"Free\", \"Free\", \"Free\", \"Free\", \"Free\", \"Free\", \"Free\", \"Paid\", \"Free\", \"Free\", \"Free\", \"Free\", \"Free\", \"Free\", \"Free\", \"Free\", \"Free\", \"Free\", \"Free\", \"Free\", \"Free\", \"Free\", \"Free\", \"Free\", \"Free\", \"Free\", \"Free\", \"Free\", \"Free\", \"Free\", \"Free\", \"Free\", \"Paid\", \"Free\", \"Free\", \"Free\", \"Free\", \"Free\", \"Free\", \"Free\", \"Free\", \"Free\", \"Free\", \"Free\", \"Free\", \"Free\", \"Free\", \"Free\", \"Free\", \"Free\", \"Free\", \"Free\", \"Free\", \"Free\", \"Free\", \"Free\", \"Free\", \"Free\", \"Free\", \"Free\", \"Free\", \"Free\", \"Free\", \"Free\", \"Free\", \"Free\", \"Free\", \"Free\", \"Free\", \"Free\", \"Free\", \"Free\", \"Free\", \"Free\", \"Free\", \"Free\", \"Free\", \"Free\", \"Free\", \"Free\", \"Free\", \"Free\", \"Free\", \"Paid\", \"Free\", \"Free\", \"Free\", \"Free\", \"Free\", \"Free\", \"Free\", \"Free\", \"Free\", \"Free\", \"Free\", \"Free\", \"Free\", \"Free\", \"Free\", \"Free\", \"Free\", \"Free\", \"Free\", \"Free\", \"Free\", \"Free\", \"Free\", \"Free\", \"Free\", \"Free\", \"Free\", \"Free\", \"Free\", \"Free\", \"Free\", \"Free\", \"Free\", \"Free\", \"Free\", \"Free\", \"Free\", \"Free\", \"Free\", \"Free\", \"Free\", \"Free\", \"Free\", \"Free\", \"Free\", \"Free\", \"Free\", \"Free\", \"Free\", \"Free\", \"Free\", \"Free\", \"Free\", \"Free\", \"Free\", \"Paid\", \"Free\", \"Free\", \"Free\", \"Free\", \"Free\", \"Free\", \"Free\", \"Free\", \"Free\", \"Free\", \"Free\", \"Free\", \"Free\", \"Free\", \"Free\", \"Free\", \"Free\", \"Free\", \"Free\", \"Free\", \"Free\", \"Free\", \"Free\", \"Free\", \"Free\", \"Free\", \"Free\", \"Free\", \"Free\", \"Free\", \"Free\", \"Free\", \"Free\", \"Free\", \"Free\", \"Free\", \"Free\", \"Free\", \"Free\", \"Free\", \"Free\", \"Free\", \"Free\", \"Free\", \"Free\", \"Free\", \"Free\", \"Free\", \"Free\", \"Free\", \"Free\", \"Free\", \"Free\", \"Free\", \"Free\", \"Free\", \"Free\", \"Free\", \"Free\", \"Free\", \"Free\", \"Free\", \"Free\", \"Free\", \"Free\", \"Free\", \"Free\", \"Free\", \"Free\", \"Free\", \"Free\", \"Free\", \"Free\", \"Free\", \"Free\", \"Paid\", \"Free\", \"Free\", \"Free\", \"Free\", \"Free\", \"Free\", \"Free\", \"Free\", \"Free\", \"Free\", \"Free\", \"Free\", \"Free\", \"Free\", \"Free\", \"Free\", \"Free\", \"Free\", \"Free\", \"Free\", \"Free\", \"Free\", \"Free\", \"Free\", \"Free\", \"Free\", \"Free\", \"Free\", \"Free\", \"Free\", \"Free\", \"Free\", \"Free\", \"Free\", \"Free\", \"Free\", \"Free\", \"Free\", \"Free\", \"Free\", \"Free\", \"Free\", \"Free\", \"Free\", \"Free\", \"Free\", \"Free\", \"Free\", \"Free\", \"Free\", \"Free\", \"Free\", \"Free\", \"Free\", \"Free\", \"Free\", \"Free\", \"Free\", \"Free\", \"Free\", \"Free\", \"Free\", \"Free\", \"Free\", \"Free\", \"Free\", \"Free\", \"Free\", \"Free\", \"Free\", \"Free\", \"Free\", \"Free\", \"Free\", \"Free\", \"Free\", \"Free\", \"Free\", \"Free\", \"Free\", \"Free\", \"Free\", \"Free\", \"Free\", \"Free\", \"Free\", \"Free\", \"Free\", \"Free\", \"Free\", \"Free\", \"Free\", \"Free\", \"Free\", \"Free\", \"Free\", \"Free\", \"Free\", \"Free\", \"Free\", \"Free\", \"Free\", \"Free\", \"Free\", \"Free\", \"Free\", \"Free\", \"Free\", \"Free\", \"Free\", \"Free\", \"Free\", \"Free\", \"Free\", \"Free\", \"Free\", \"Free\", \"Free\", \"Free\", \"Free\", \"Free\", \"Free\", \"Free\", \"Free\", \"Free\", \"Free\", \"Free\", \"Free\", \"Free\", \"Free\", \"Free\", \"Free\", \"Free\", \"Free\", \"Free\", \"Free\", \"Free\", \"Free\", \"Paid\", \"Free\", \"Free\", \"Free\", \"Free\", \"Free\", \"Free\", \"Free\", \"Free\", \"Free\", \"Free\", \"Free\", \"Free\", \"Free\", \"Free\", \"Free\", \"Free\", \"Free\", \"Free\", \"Free\", \"Free\", \"Free\", \"Paid\", \"Free\", \"Free\", \"Free\", \"Free\", \"Free\", \"Free\", \"Free\", \"Free\", \"Free\", \"Free\", \"Free\", \"Free\", \"Free\", \"Free\", \"Free\", \"Free\", \"Free\", \"Paid\", \"Free\", \"Free\", \"Free\", \"Free\", \"Free\", \"Free\", \"Free\", \"Free\", \"Free\", \"Free\", \"Free\", \"Free\", \"Free\", \"Free\", \"Free\", \"Free\", \"Free\", \"Free\", \"Free\", \"Free\", \"Free\", \"Free\", \"Paid\", \"Free\", \"Free\", \"Free\", \"Free\", \"Free\", \"Free\", \"Free\", \"Free\", \"Free\", \"Free\", \"Free\", \"Free\", \"Free\", \"Free\", \"Free\", \"Free\", \"Free\", \"Free\", \"Free\", \"Free\", \"Free\", \"Free\", \"Free\", \"Free\", \"Free\", \"Free\", \"Free\", \"Free\", \"Free\", \"Free\", \"Free\", \"Free\", \"Free\", \"Free\", \"Free\", \"Free\", \"Free\", \"Free\", \"Free\", \"Free\", \"Free\", \"Free\", \"Free\", \"Free\", \"Free\", \"Free\", \"Free\", \"Free\", \"Free\", \"Paid\", \"Free\", \"Free\", \"Free\", \"Free\", \"Free\", \"Free\", \"Free\", \"Free\", \"Free\", \"Free\", \"Free\", \"Free\", \"Free\", \"Free\", \"Free\", \"Free\", \"Free\", \"Free\", \"Free\", \"Free\", \"Free\", \"Free\", \"Free\", \"Free\", \"Free\", \"Free\", \"Free\", \"Free\", \"Free\", \"Free\", \"Free\", \"Free\", \"Free\", \"Free\", \"Free\", \"Free\", \"Free\", \"Free\", \"Free\", \"Free\", \"Free\", \"Free\", \"Free\", \"Paid\", \"Free\", \"Free\", \"Free\", \"Free\", \"Free\", \"Free\", \"Free\", \"Free\", \"Free\", \"Free\", \"Free\", \"Free\", \"Free\", \"Free\", \"Free\", \"Free\", \"Free\", \"Free\", \"Free\", \"Free\", \"Free\", \"Free\", \"Free\", \"Free\", \"Free\", \"Free\", \"Free\", \"Free\", \"Free\", \"Free\", \"Free\", \"Free\", \"Free\", \"Free\", \"Free\", \"Free\", \"Free\", \"Free\", \"Free\", \"Free\", \"Paid\", \"Free\", \"Free\", \"Free\", \"Free\", \"Free\", \"Free\", \"Free\", \"Free\", \"Free\", \"Free\", \"Free\", \"Free\", \"Free\", \"Free\", \"Free\", \"Free\", \"Free\", \"Free\", \"Free\", \"Free\", \"Free\", \"Free\", \"Free\", \"Free\", \"Free\", \"Free\", \"Free\", \"Free\", \"Free\", \"Free\", \"Free\", \"Free\", \"Free\", \"Free\", \"Free\", \"Free\", \"Free\", \"Free\", \"Free\", \"Free\", \"Free\", \"Free\", \"Free\", \"Free\", \"Free\", \"Free\", \"Free\", \"Free\", \"Free\", \"Free\", \"Free\", \"Free\", \"Free\", \"Free\", \"Free\", \"Free\", \"Free\", \"Free\", \"Free\", \"Free\", \"Free\", \"Free\", \"Free\", \"Free\", \"Free\", \"Free\", \"Free\", \"Free\", \"Free\", \"Free\", \"Free\", \"Free\", \"Free\", \"Free\", \"Free\", \"Free\", \"Free\", \"Free\", \"Free\", \"Free\", \"Free\", \"Free\", \"Free\", \"Free\", \"Free\", \"Free\", \"Free\", \"Free\", \"Free\", \"Free\", \"Free\", \"Free\", \"Free\", \"Free\", \"Free\", \"Free\", \"Free\", \"Free\", \"Free\", \"Free\", \"Free\", \"Free\", \"Free\", \"Free\", \"Free\", \"Free\", \"Free\", \"Free\", \"Free\", \"Free\", \"Free\", \"Free\", \"Free\", \"Free\", \"Free\", \"Free\", \"Free\", \"Free\", \"Free\", \"Free\", \"Free\", \"Free\", \"Free\", \"Free\", \"Free\", \"Free\", \"Free\", \"Free\", \"Free\", \"Free\", \"Free\", \"Free\", \"Free\", \"Free\", \"Free\", \"Free\", \"Free\", \"Paid\", \"Free\", \"Free\", \"Free\", \"Free\", \"Free\", \"Free\", \"Free\", \"Free\", \"Free\", \"Free\", \"Free\", \"Free\", \"Free\", \"Free\", \"Free\", \"Free\", \"Free\", \"Free\", \"Free\", \"Free\", \"Free\", \"Free\", \"Free\", \"Free\", \"Free\", \"Free\", \"Free\", \"Free\", \"Free\", \"Free\", \"Free\", \"Free\", \"Free\", \"Free\", \"Free\", \"Free\", \"Free\", \"Free\", \"Free\", \"Free\", \"Free\", \"Free\", \"Free\", \"Free\", \"Free\", \"Free\", \"Free\", \"Free\", \"Free\", \"Free\", \"Free\", \"Free\", \"Free\", \"Free\", \"Free\", \"Free\", \"Free\", \"Free\", \"Free\", \"Free\", \"Free\", \"Free\", \"Free\", \"Free\", \"Free\", \"Free\", \"Free\", \"Free\", \"Free\", \"Free\", \"Free\", \"Free\", \"Free\", \"Free\", \"Free\", \"Free\", \"Free\", \"Free\", \"Free\", \"Free\", \"Free\", \"Free\", \"Free\", \"Free\", \"Free\", \"Free\", \"Free\", \"Free\", \"Free\", \"Free\", \"Free\", \"Free\", \"Free\", \"Free\", \"Free\", \"Free\", \"Free\", \"Free\", \"Free\", \"Paid\", \"Free\", \"Free\", \"Free\", \"Free\", \"Free\", \"Free\", \"Free\", \"Free\", \"Free\", \"Free\", \"Free\", \"Free\", \"Free\", \"Free\", \"Free\", \"Free\", \"Free\", \"Free\", \"Free\", \"Free\", \"Free\", \"Free\", \"Free\", \"Free\", \"Free\", \"Free\", \"Free\", \"Free\", \"Free\", \"Free\", \"Free\", \"Free\", \"Free\", \"Free\", \"Free\", \"Free\", \"Free\", \"Free\", \"Free\", \"Free\", \"Free\", \"Free\", \"Free\", \"Free\", \"Free\", \"Free\", \"Free\", \"Free\", \"Free\", \"Free\", \"Free\", \"Free\", \"Free\", \"Free\", \"Free\", \"Free\", \"Free\", \"Free\", \"Free\", \"Free\", \"Free\", \"Free\", \"Free\", \"Free\", \"Free\", \"Free\", \"Free\", \"Free\", \"Free\", \"Free\", \"Free\", \"Free\", \"Free\", \"Free\", \"Free\", \"Free\", \"Free\", \"Free\", \"Free\", \"Free\", \"Free\", \"Free\", \"Free\", \"Free\", \"Free\", \"Free\", \"Free\", \"Free\", \"Free\", \"Free\", \"Free\", \"Free\", \"Free\", \"Free\", \"Free\", \"Free\", \"Free\", \"Free\", \"Free\", \"Free\", \"Free\", \"Free\", \"Free\", \"Free\", \"Free\", \"Free\", \"Free\", \"Free\", \"Free\", \"Free\", \"Free\", \"Free\", \"Free\", \"Free\", \"Free\", \"Free\", \"Free\", \"Free\", \"Free\", \"Free\", \"Free\", \"Free\", \"Free\", \"Free\", \"Free\", \"Free\", \"Free\", \"Free\", \"Free\", \"Free\", \"Free\", \"Free\", \"Free\", \"Free\", \"Free\", \"Free\", \"Free\", \"Free\", \"Free\", \"Free\", \"Free\", \"Free\", \"Free\", \"Free\", \"Free\", \"Free\", \"Free\", \"Free\", \"Free\", \"Free\", \"Free\", \"Free\", \"Free\", \"Free\", \"Free\", \"Free\", \"Free\", \"Free\", \"Free\", \"Free\", \"Paid\", \"Free\", \"Free\", \"Free\", \"Free\", \"Free\", \"Free\", \"Free\", \"Free\", \"Free\", \"Free\", \"Free\", \"Free\", \"Free\", \"Free\", \"Free\", \"Free\", \"Free\", \"Free\", \"Free\", \"Free\", \"Free\", \"Free\", \"Free\", \"Free\", \"Free\", \"Free\", \"Free\", \"Free\", \"Free\", \"Free\", \"Free\", \"Free\", \"Free\", \"Free\", \"Free\", \"Free\", \"Free\", \"Free\", \"Free\", \"Free\", \"Free\", \"Free\", \"Free\", \"Free\", \"Free\", \"Free\", \"Free\", \"Free\", \"Free\", \"Free\", \"Free\", \"Free\", \"Free\", \"Free\", \"Free\", \"Free\", \"Free\", \"Free\", \"Free\", \"Free\", \"Free\", \"Free\", \"Free\", \"Free\", \"Free\", \"Free\", \"Free\", \"Free\", \"Free\", \"Free\", \"Free\", \"Free\", \"Free\", \"Free\", \"Free\", \"Free\", \"Free\", \"Free\", \"Free\", \"Free\", \"Free\", \"Free\", \"Free\", \"Free\", \"Free\", \"Free\", \"Free\", \"Free\", \"Free\", \"Free\", \"Free\", \"Free\", \"Free\", \"Free\", \"Free\", \"Free\", \"Free\", \"Free\", \"Paid\", \"Free\", \"Free\", \"Free\", \"Free\", \"Free\", \"Free\", \"Free\", \"Free\", \"Paid\", \"Free\", \"Free\", \"Free\", \"Free\", \"Free\", \"Free\", \"Free\", \"Free\", \"Free\", \"Free\", \"Free\", \"Free\", \"Free\", \"Free\", \"Free\", \"Free\", \"Free\", \"Free\", \"Free\", \"Free\", \"Free\", \"Free\", \"Free\", \"Free\", \"Free\", \"Free\", \"Free\", \"Free\", \"Free\", \"Free\", \"Free\", \"Free\", \"Free\", \"Free\", \"Free\", \"Free\", \"Free\", \"Free\", \"Free\", \"Free\", \"Free\", \"Free\", \"Free\", \"Free\", \"Free\", \"Free\", \"Free\", \"Free\", \"Free\", \"Free\", \"Free\", \"Free\", \"Free\", \"Free\", \"Free\", \"Free\", \"Free\", \"Free\", \"Free\", \"Free\", \"Free\", \"Free\", \"Free\", \"Free\", \"Free\", \"Free\", \"Free\", \"Free\", \"Free\", \"Free\", \"Free\", \"Free\", \"Free\", \"Free\", \"Free\", \"Free\", \"Free\", \"Free\", \"Free\", \"Free\", \"Free\", \"Free\", \"Free\", \"Free\", \"Free\", \"Free\", \"Free\", \"Free\", \"Free\", \"Free\", \"Free\", \"Free\", \"Free\", \"Free\", \"Free\", \"Free\", \"Free\", \"Free\", \"Free\", \"Free\", \"Free\", \"Free\", \"Free\", \"Free\", \"Free\", \"Free\", \"Free\", \"Free\", \"Free\", \"Free\", \"Free\", \"Free\", \"Free\", \"Free\", \"Free\", \"Free\", \"Free\", \"Free\", \"Free\", \"Free\", \"Free\", \"Free\", \"Free\", \"Free\", \"Free\", \"Free\", \"Free\", \"Free\", \"Free\", \"Free\", \"Free\", \"Free\", \"Free\", \"Free\", \"Free\", \"Free\", \"Free\", \"Free\", \"Free\", \"Free\", \"Free\", \"Free\", \"Free\", \"Free\", \"Free\", \"Free\", \"Free\", \"Free\", \"Free\", \"Free\", \"Free\", \"Free\", \"Free\", \"Free\", \"Free\", \"Free\", \"Free\", \"Free\", \"Free\", \"Free\", \"Free\", \"Free\", \"Free\", \"Free\", \"Free\", \"Free\", \"Free\", \"Free\", \"Free\", \"Free\", \"Free\", \"Free\", \"Free\", \"Free\", \"Free\", \"Free\", \"Free\", \"Free\", \"Free\", \"Free\", \"Free\", \"Free\", \"Free\", \"Free\", \"Free\", \"Free\", \"Free\", \"Free\", \"Free\", \"Free\", \"Free\", \"Free\", \"Free\", \"Free\", \"Free\", \"Free\", \"Free\", \"Free\", \"Free\", \"Free\", \"Free\", \"Free\", \"Free\", \"Free\", \"Free\", \"Free\", \"Free\", \"Free\", \"Free\", \"Free\", \"Free\", \"Free\", \"Free\", \"Free\", \"Free\", \"Free\", \"Free\", \"Free\", \"Free\", \"Free\", \"Free\", \"Free\", \"Free\", \"Free\", \"Free\", \"Free\", \"Free\", \"Free\", \"Free\", \"Free\", \"Free\", \"Free\", \"Free\", \"Free\", \"Free\", \"Free\", \"Free\", \"Free\", \"Free\", \"Free\", \"Free\", \"Free\", \"Free\", \"Free\", \"Free\", \"Free\", \"Free\", \"Free\", \"Free\", \"Free\", \"Free\", \"Free\", \"Free\", \"Free\", \"Free\", \"Free\", \"Free\", \"Free\", \"Free\", \"Free\", \"Free\", \"Free\", \"Free\", \"Free\", \"Free\", \"Free\", \"Free\", \"Free\", \"Free\", \"Free\", \"Free\", \"Free\", \"Free\", \"Free\", \"Free\", \"Free\", \"Free\", \"Free\", \"Free\", \"Free\", \"Free\", \"Free\", \"Free\", \"Free\", \"Free\", \"Free\", \"Free\", \"Paid\", \"Free\", \"Free\", \"Free\", \"Free\", \"Free\", \"Free\", \"Free\", \"Free\", \"Free\", \"Free\", \"Free\", \"Free\", \"Free\", \"Free\", \"Free\", \"Free\", \"Free\", \"Free\", \"Free\", \"Free\", \"Free\", \"Free\", \"Free\", \"Free\", \"Free\", \"Free\", \"Free\", \"Free\", \"Free\", \"Free\", \"Free\", \"Free\", \"Free\", \"Free\", \"Free\", \"Free\", \"Free\", \"Free\", \"Free\", \"Free\", \"Free\", \"Free\", \"Free\", \"Free\", \"Free\", \"Free\", \"Free\", \"Free\", \"Free\", \"Free\", \"Free\", \"Free\", \"Free\", \"Free\", \"Free\", \"Free\", \"Free\", \"Free\", \"Free\", \"Free\", \"Free\", \"Free\", \"Free\", \"Free\", \"Free\", \"Free\", \"Free\", \"Free\", \"Free\", \"Free\", \"Free\", \"Free\", \"Free\", \"Free\", \"Free\", \"Free\", \"Free\", \"Free\", \"Paid\", \"Free\", \"Free\", \"Free\", \"Free\", \"Free\", \"Free\", \"Free\", \"Free\", \"Free\", \"Free\", \"Free\", \"Free\", \"Free\", \"Free\", \"Free\", \"Free\", \"Free\", \"Free\", \"Free\", \"Free\", \"Free\", \"Free\", \"Free\", \"Free\", \"Free\", \"Free\", \"Free\", \"Free\", \"Free\", \"Free\", \"Free\", \"Free\", \"Free\", \"Free\", \"Free\", \"Free\", \"Free\", \"Free\", \"Free\", \"Free\", \"Free\", \"Free\", \"Free\", \"Free\", \"Free\", \"Free\", \"Free\", \"Free\", \"Free\", \"Free\", \"Free\", \"Free\", \"Free\", \"Free\", \"Free\", \"Free\", \"Free\", \"Free\", \"Paid\", \"Free\", \"Free\", \"Free\", \"Free\", \"Free\", \"Free\", \"Free\", \"Free\", \"Free\", \"Free\", \"Free\", \"Free\", \"Free\", \"Free\", \"Free\", \"Free\", \"Free\", \"Free\", \"Free\", \"Free\", \"Free\", \"Free\", \"Free\", \"Free\", \"Free\", \"Free\", \"Free\", \"Free\", \"Free\", \"Free\", \"Free\", \"Free\", \"Free\", \"Free\", \"Free\", \"Free\", \"Free\", \"Free\", \"Free\", \"Free\", \"Free\", \"Free\", \"Free\", \"Free\", \"Free\", \"Free\", \"Free\", \"Free\", \"Free\", \"Free\", \"Free\", \"Free\", \"Free\", \"Free\", \"Paid\", \"Free\", \"Free\", \"Free\", \"Free\", \"Free\", \"Free\", \"Free\", \"Free\", \"Free\", \"Free\", \"Free\", \"Free\", \"Free\", \"Free\", \"Free\", \"Free\", \"Free\", \"Free\", \"Free\", \"Free\", \"Free\", \"Free\", \"Free\", \"Free\", \"Free\", \"Free\", \"Free\", \"Free\", \"Free\", \"Free\", \"Free\", \"Free\", \"Free\", \"Free\", \"Free\", \"Free\", \"Free\", \"Free\", \"Free\", \"Free\", \"Free\", \"Free\", \"Free\", \"Free\", \"Free\", \"Free\", \"Free\", \"Free\", \"Free\", \"Free\", \"Free\", \"Free\", \"Free\", \"Free\", \"Free\", \"Free\", \"Free\", \"Free\", \"Free\", \"Free\", \"Free\", \"Free\", \"Free\", \"Free\", \"Free\", \"Free\", \"Free\", \"Free\", \"Free\", \"Free\", \"Free\", \"Free\", \"Free\", \"Free\", \"Free\", \"Free\", \"Paid\", \"Free\", \"Free\", \"Free\", \"Free\", \"Free\", \"Free\", \"Free\", \"Free\", \"Free\", \"Free\", \"Free\", \"Free\", \"Free\", \"Free\", \"Free\", \"Free\", \"Free\", \"Free\", \"Free\", \"Free\", \"Free\", \"Free\", \"Free\", \"Free\", \"Free\", \"Paid\", \"Free\", \"Free\", \"Free\", \"Free\", \"Free\", \"Free\", \"Free\", \"Free\", \"Free\", \"Free\", \"Free\", \"Free\", \"Free\", \"Free\", \"Free\", \"Free\", \"Free\", \"Free\", \"Free\", \"Free\", \"Free\", \"Free\", \"Free\", \"Free\", \"Free\", \"Free\", \"Free\", \"Free\", \"Free\", \"Free\", \"Free\", \"Free\", \"Free\", \"Free\", \"Free\", \"Free\", \"Free\", \"Free\", \"Free\", \"Free\", \"Free\", \"Free\", \"Free\", \"Free\", \"Free\", \"Free\", \"Free\", \"Free\", \"Free\", \"Free\", \"Free\", \"Free\", \"Free\", \"Free\", \"Free\", \"Free\", \"Free\", \"Free\", \"Free\", \"Free\", \"Free\", \"Free\", \"Free\", \"Free\", \"Free\", \"Free\", \"Free\", \"Free\", \"Free\", \"Free\", \"Free\", \"Free\", \"Free\", \"Free\", \"Free\", \"Free\", \"Free\", \"Free\", \"Free\", \"Free\", \"Free\", \"Free\", \"Free\", \"Free\", \"Free\", \"Free\", \"Free\", \"Free\", \"Free\", \"Free\", \"Free\", \"Free\", \"Free\", \"Free\", \"Free\", \"Free\", \"Free\", \"Free\", \"Free\", \"Free\", \"Free\", \"Free\", \"Free\", \"Free\", \"Paid\", \"Free\", \"Free\", \"Free\", \"Free\", \"Free\", \"Free\", \"Free\", \"Free\", \"Free\", \"Paid\", \"Free\", \"Free\", \"Free\", \"Free\", \"Free\", \"Free\", \"Free\", \"Free\", \"Free\", \"Free\", \"Free\", \"Free\", \"Free\", \"Free\", \"Free\", \"Free\", \"Free\", \"Free\", \"Free\", \"Free\", \"Free\", \"Free\", \"Free\", \"Paid\", \"Free\", \"Free\", \"Paid\", \"Free\", \"Free\", \"Free\", \"Free\", \"Free\", \"Free\", \"Free\", \"Free\", \"Free\", \"Free\", \"Free\", \"Free\", \"Free\", \"Free\", \"Free\", \"Free\", \"Free\", \"Free\", \"Free\", \"Paid\", \"Free\", \"Free\", \"Free\", \"Free\", \"Free\", \"Free\", \"Free\", \"Free\", \"Free\", \"Free\", \"Paid\", \"Free\", \"Free\", \"Free\", \"Free\", \"Free\", \"Free\", \"Free\", \"Free\", \"Free\", \"Free\", \"Free\", \"Free\", \"Free\", \"Free\", \"Free\", \"Free\", \"Free\", \"Free\", \"Free\", \"Free\", \"Free\", \"Free\", \"Free\", \"Free\", \"Free\", \"Free\", \"Free\", \"Free\", \"Free\", \"Free\", \"Free\", \"Free\", \"Free\", \"Free\", \"Free\", \"Free\", \"Free\", \"Free\", \"Free\", \"Free\", \"Free\", \"Free\", \"Free\", \"Free\", \"Free\", \"Free\", \"Free\", \"Free\", \"Free\", \"Free\", \"Free\", \"Free\", \"Free\", \"Free\", \"Free\", \"Free\", \"Free\", \"Free\", \"Free\", \"Free\", \"Free\", \"Free\", \"Free\", \"Free\", \"Free\", \"Free\", \"Free\", \"Free\", \"Free\", \"Free\", \"Free\", \"Free\", \"Free\", \"Free\", \"Free\", \"Free\", \"Free\", \"Free\", \"Free\", \"Free\", \"Free\", \"Free\", \"Free\", \"Free\", \"Free\", \"Free\", \"Free\", \"Free\", \"Free\", \"Free\", \"Free\", \"Free\", \"Free\", \"Free\", \"Free\", \"Free\", \"Free\", \"Free\", \"Free\", \"Free\", \"Free\", \"Free\", \"Free\", \"Free\", \"Free\", \"Free\", \"Free\", \"Free\", \"Free\", \"Free\", \"Free\", \"Free\", \"Free\", \"Free\", \"Free\", \"Free\", \"Free\", \"Free\", \"Free\", \"Free\", \"Free\", \"Free\", \"Free\", \"Free\", \"Free\", \"Free\", \"Free\", \"Free\", \"Free\", \"Free\", \"Free\", \"Free\", \"Free\", \"Free\", \"Free\", \"Free\", \"Free\", \"Free\", \"Free\", \"Free\", \"Free\", \"Free\", \"Free\", \"Free\", \"Free\", \"Free\", \"Free\", \"Free\", \"Free\", \"Free\", \"Free\", \"Free\", \"Free\", \"Free\", \"Free\", \"Free\", \"Free\", \"Free\", \"Free\", \"Free\", \"Free\", \"Free\", \"Free\", \"Free\", \"Free\", \"Free\", \"Free\", \"Free\", \"Free\", \"Free\", \"Free\", \"Free\", \"Free\", \"Free\", \"Free\", \"Free\", \"Free\", \"Free\", \"Free\", \"Free\", \"Free\", \"Free\", \"Free\", \"Free\", \"Free\", \"Free\", \"Free\", \"Free\", \"Free\", \"Free\", \"Free\", \"Free\", \"Free\", \"Free\", \"Free\", \"Free\", \"Free\", \"Free\", \"Free\", \"Free\", \"Free\", \"Free\", \"Free\", \"Free\", \"Free\", \"Free\", \"Free\", \"Free\", \"Free\", \"Free\", \"Free\", \"Free\", \"Free\", \"Free\", \"Free\", \"Free\", \"Free\", \"Free\", \"Free\", \"Free\", \"Free\", \"Free\", \"Free\", \"Free\", \"Free\", \"Free\", \"Free\", \"Free\", \"Free\", \"Free\", \"Free\", \"Free\", \"Free\", \"Free\", \"Free\", \"Free\", \"Free\", \"Free\", \"Free\", \"Free\", \"Free\", \"Free\", \"Free\", \"Free\", \"Free\", \"Free\", \"Free\", \"Free\", \"Free\", \"Free\", \"Free\", \"Free\", \"Free\", \"Free\", \"Free\", \"Free\", \"Free\", \"Free\", \"Free\", \"Free\", \"Free\", \"Free\", \"Free\", \"Free\", \"Free\", \"Free\", \"Free\", \"Free\", \"Free\", \"Free\", \"Free\", \"Free\", \"Free\", \"Free\", \"Free\", \"Free\", \"Free\", \"Free\", \"Free\", \"Free\", \"Free\", \"Free\", \"Free\", \"Free\", \"Free\", \"Free\", \"Free\", \"Free\", \"Free\", \"Free\", \"Free\", \"Free\", \"Free\", \"Free\", \"Free\", \"Free\", \"Free\", \"Free\", \"Free\", \"Free\", \"Free\", \"Free\", \"Free\", \"Free\", \"Free\", \"Free\", \"Free\", \"Free\", \"Free\", \"Free\", \"Free\", \"Free\", \"Free\", \"Free\", \"Free\", \"Free\", \"Free\", \"Free\", \"Free\", \"Free\", \"Free\", \"Free\", \"Free\", \"Free\", \"Free\", \"Free\", \"Free\", \"Free\", \"Free\", \"Free\", \"Free\", \"Free\", \"Free\", \"Free\", \"Free\", \"Free\", \"Free\", \"Free\", \"Free\", \"Free\", \"Free\", \"Free\", \"Free\", \"Free\", \"Free\", \"Free\", \"Free\", \"Free\", \"Free\", \"Free\", \"Free\", \"Free\", \"Free\", \"Free\", \"Free\", \"Free\", \"Free\", \"Free\", \"Free\", \"Free\", \"Free\", \"Free\", \"Free\", \"Free\", \"Free\", \"Free\", \"Free\", \"Free\", \"Free\", \"Free\", \"Free\", \"Free\", \"Free\", \"Free\", \"Free\", \"Free\", \"Free\", \"Free\", \"Free\", \"Free\", \"Free\", \"Free\", \"Free\", \"Free\", \"Free\", \"Free\", \"Free\", \"Free\", \"Free\", \"Free\", \"Free\", \"Free\", \"Free\", \"Free\", \"Free\", \"Free\", \"Free\", \"Free\", \"Free\", \"Free\", \"Free\", \"Free\", \"Free\", \"Free\", \"Free\", \"Free\", \"Free\", \"Free\", \"Free\", \"Free\", \"Free\", \"Free\", \"Free\", \"Free\", \"Free\", \"Free\", \"Free\", \"Free\", \"Free\", \"Free\", \"Free\", \"Free\", \"Free\", \"Free\", \"Free\", \"Free\", \"Free\", \"Free\", \"Free\", \"Free\", \"Free\", \"Free\", \"Free\", \"Free\", \"Free\", \"Free\", \"Free\", \"Free\", \"Free\", \"Free\", \"Free\", \"Free\", \"Free\", \"Free\", \"Free\", \"Free\", \"Free\", \"Free\", \"Free\", \"Free\", \"Free\", \"Free\", \"Free\", \"Free\", \"Free\", \"Free\", \"Free\", \"Free\", \"Free\", \"Free\", \"Free\", \"Free\", \"Free\", \"Free\", \"Free\", \"Free\", \"Free\", \"Free\", \"Free\", \"Free\", \"Free\", \"Free\", \"Free\", \"Free\", \"Free\", \"Free\", \"Free\", \"Free\", \"Free\", \"Free\", \"Free\", \"Free\", \"Free\", \"Free\", \"Free\", \"Free\", \"Free\", \"Free\", \"Free\", \"Free\", \"Free\", \"Free\", \"Free\", \"Free\", \"Free\", \"Free\", \"Free\", \"Free\", \"Free\", \"Free\", \"Free\", \"Free\", \"Free\", \"Free\", \"Free\", \"Free\", \"Free\", \"Free\", \"Free\", \"Free\", \"Free\", \"Free\", \"Free\", \"Free\", \"Free\", \"Free\", \"Free\", \"Free\", \"Free\", \"Free\", \"Free\", \"Free\", \"Free\", \"Free\", \"Free\", \"Free\", \"Free\", \"Free\", \"Free\", \"Free\", \"Free\", \"Free\", \"Free\", \"Free\", \"Free\", \"Free\", \"Free\", \"Free\", \"Free\", \"Free\", \"Free\", \"Free\", \"Free\", \"Free\", \"Free\", \"Free\", \"Free\", \"Free\", \"Free\", \"Free\", \"Free\", \"Free\", \"Free\", \"Free\", \"Free\", \"Free\", \"Free\", \"Free\", \"Free\", \"Free\", \"Free\", \"Free\", \"Free\", \"Free\", \"Free\", \"Free\", \"Free\", \"Free\", \"Free\", \"Free\", \"Free\", \"Free\", \"Free\", \"Free\", \"Free\", \"Free\", \"Free\", \"Free\", \"Free\", \"Free\", \"Free\", \"Free\", \"Free\", \"Free\", \"Free\", \"Free\", \"Free\", \"Free\", \"Free\", \"Free\", \"Free\", \"Free\", \"Free\", \"Free\", \"Free\", \"Free\", \"Free\", \"Free\", \"Free\", \"Free\", \"Free\", \"Free\", \"Free\", \"Free\", \"Free\", \"Free\", \"Free\", \"Free\", \"Free\", \"Free\", \"Free\", \"Free\", \"Free\", \"Free\", \"Free\", \"Free\", \"Free\", \"Free\", \"Free\", \"Free\", \"Free\", \"Free\", \"Free\", \"Free\", \"Free\", \"Free\", \"Free\", \"Free\", \"Free\", \"Free\", \"Free\", \"Free\", \"Free\", \"Free\", \"Free\", \"Free\", \"Free\", \"Free\", \"Free\", \"Free\", \"Free\", \"Free\", \"Free\", \"Free\", \"Free\", \"Free\", \"Free\", \"Free\", \"Free\", \"Free\", \"Free\", \"Free\", \"Free\", \"Free\", \"Free\", \"Free\", \"Free\", \"Free\", \"Free\", \"Free\", \"Free\", \"Free\", \"Free\", \"Free\", \"Free\", \"Paid\", \"Free\", \"Free\", \"Free\", \"Free\", \"Free\", \"Free\", \"Free\", \"Free\", \"Free\", \"Free\", \"Free\", \"Free\", \"Free\", \"Free\", \"Free\", \"Free\", \"Free\", \"Free\", \"Free\", \"Free\", \"Free\", \"Free\", \"Free\", \"Free\", \"Free\", \"Free\", \"Free\", \"Free\", \"Free\", \"Free\", \"Free\", \"Free\", \"Free\", \"Free\", \"Free\", \"Free\", \"Free\", \"Free\", \"Free\", \"Free\", \"Free\", \"Free\", \"Free\", \"Free\", \"Free\", \"Free\", \"Free\", \"Free\", \"Free\", \"Free\", \"Free\", \"Free\", \"Free\", \"Free\", \"Free\", \"Free\", \"Free\", \"Free\", \"Free\", \"Free\", \"Free\", \"Free\", \"Free\", \"Free\", \"Free\", \"Free\", \"Free\", \"Free\", \"Free\", \"Free\", \"Free\", \"Free\", \"Free\", \"Free\", \"Free\", \"Free\", \"Free\", \"Free\", \"Free\", \"Free\", \"Free\", \"Free\", \"Free\", \"Free\", \"Free\", \"Free\", \"Free\", \"Free\", \"Free\", \"Free\", \"Free\", \"Free\", \"Free\", \"Free\", \"Free\", \"Free\", \"Free\", \"Free\", \"Free\", \"Free\", \"Free\", \"Free\", \"Free\", \"Free\", \"Free\", \"Free\", \"Free\", \"Free\", \"Free\", \"Free\", \"Free\", \"Free\", \"Free\", \"Free\", \"Free\", \"Free\", \"Free\", \"Free\", \"Free\", \"Free\", \"Free\", \"Free\", \"Free\", \"Free\", \"Free\", \"Free\", \"Free\", \"Free\", \"Free\", \"Free\", \"Free\", \"Free\", \"Free\", \"Free\", \"Free\", \"Free\", \"Free\", \"Free\", \"Free\", \"Free\", \"Free\", \"Free\", \"Free\", \"Free\", \"Free\", \"Free\", \"Free\", \"Free\", \"Free\", \"Free\", \"Free\", \"Free\", \"Free\", \"Free\", \"Free\", \"Free\", \"Free\", \"Free\", \"Free\", \"Free\", \"Free\", \"Free\", \"Free\", \"Free\", \"Free\", \"Free\", \"Free\", \"Free\", \"Free\", \"Free\", \"Free\", \"Free\", \"Free\", \"Free\", \"Free\", \"Free\", \"Free\", \"Free\", \"Free\", \"Free\", \"Free\", \"Free\", \"Free\", \"Free\", \"Free\", \"Free\", \"Free\", \"Free\", \"Free\", \"Free\", \"Free\", \"Free\", \"Free\", \"Free\", \"Free\", \"Free\", \"Free\", \"Free\", \"Free\", \"Free\", \"Free\", \"Free\", \"Free\", \"Free\", \"Free\", \"Free\", \"Free\", \"Free\", \"Free\", \"Free\", \"Free\", \"Free\", \"Free\", \"Free\", \"Free\", \"Free\", \"Free\", \"Free\", \"Free\", \"Free\", \"Free\", \"Free\", \"Free\", \"Free\", \"Free\", \"Free\", \"Free\", \"Free\", \"Free\", \"Free\", \"Free\", \"Free\", \"Free\", \"Free\", \"Free\", \"Free\", \"Free\", \"Free\", \"Free\", \"Free\", \"Free\", \"Free\", \"Free\", \"Free\", \"Free\", \"Free\", \"Free\", \"Free\", \"Free\", \"Free\", \"Free\", \"Free\", \"Free\", \"Free\", \"Free\", \"Free\", \"Free\", \"Free\", \"Free\", \"Free\", \"Free\", \"Free\", \"Free\", \"Free\", \"Free\", \"Free\", \"Free\", \"Free\", \"Free\", \"Free\", \"Paid\", \"Free\", \"Free\", \"Free\", \"Free\", \"Free\", \"Free\", \"Free\", \"Free\", \"Free\", \"Free\", \"Free\", \"Free\", \"Free\", \"Free\", \"Free\", \"Free\", \"Free\", \"Free\", \"Free\", \"Free\", \"Free\", \"Free\", \"Free\", \"Free\", \"Free\", \"Free\", \"Free\", \"Free\", \"Free\", \"Free\", \"Free\", \"Free\", \"Free\", \"Free\", \"Free\", \"Free\", \"Free\", \"Free\", \"Free\", \"Free\", \"Free\", \"Free\", \"Free\", \"Free\", \"Free\", \"Free\", \"Free\", \"Free\", \"Free\", \"Free\", \"Free\", \"Free\", \"Free\", \"Free\", \"Free\", \"Free\", \"Free\", \"Free\", \"Free\", \"Free\", \"Free\", \"Free\", \"Free\", \"Free\", \"Free\", \"Free\", \"Free\", \"Free\", \"Free\", \"Free\", \"Free\", \"Free\", \"Free\", \"Free\", \"Free\", \"Free\", \"Free\", \"Free\", \"Free\", \"Free\", \"Free\", \"Free\", \"Free\", \"Free\", \"Free\", \"Free\", \"Free\", \"Free\", \"Free\", \"Free\", \"Free\", \"Free\", \"Free\", \"Free\", \"Free\", \"Free\", \"Free\", \"Free\", \"Free\", \"Free\", \"Free\", \"Free\", \"Free\", \"Free\", \"Free\", \"Free\", \"Free\", \"Free\", \"Free\", \"Free\", \"Free\", \"Free\", \"Free\", \"Free\", \"Free\", \"Free\", \"Free\", \"Free\", \"Free\", \"Free\", \"Free\", \"Free\", \"Free\", \"Free\", \"Free\", \"Free\", \"Free\", \"Free\", \"Free\", \"Free\", \"Free\", \"Free\", \"Free\", \"Free\", \"Free\", \"Free\", \"Free\", \"Free\", \"Free\", \"Free\", \"Free\", \"Free\", \"Free\", \"Free\", \"Free\", \"Free\", \"Free\", \"Free\", \"Free\", \"Free\", \"Free\", \"Free\", \"Free\", \"Free\", \"Free\", \"Free\", \"Free\", \"Free\", \"Free\", \"Free\", \"Free\", \"Free\", \"Free\", \"Free\", \"Free\", \"Free\", \"Free\", \"Free\", \"Free\", \"Free\", \"Free\", \"Free\", \"Free\", \"Free\", \"Free\", \"Free\", \"Free\", \"Free\", \"Free\", \"Free\", \"Free\", \"Free\", \"Free\", \"Free\", \"Free\", \"Free\", \"Free\", \"Free\", \"Free\", \"Free\", \"Free\", \"Free\", \"Free\", \"Free\", \"Free\", \"Free\", \"Free\", \"Free\", \"Free\", \"Free\", \"Free\", \"Free\", \"Free\", \"Free\", \"Free\", \"Free\", \"Free\", \"Free\", \"Free\", \"Free\", \"Free\", \"Free\", \"Free\", \"Free\", \"Free\", \"Free\", \"Free\", \"Free\", \"Free\", \"Free\", \"Free\", \"Free\", \"Free\", \"Free\", \"Free\", \"Free\", \"Free\", \"Free\", \"Free\", \"Free\", \"Free\", \"Free\", \"Free\", \"Free\", \"Free\", \"Free\", \"Free\", \"Free\", \"Free\", \"Free\", \"Free\", \"Free\", \"Free\", \"Free\", \"Free\", \"Free\", \"Free\", \"Free\", \"Free\", \"Free\", \"Free\", \"Free\", \"Free\", \"Free\", \"Free\", \"Free\", \"Free\", \"Free\", \"Free\", \"Free\", \"Free\", \"Free\", \"Free\", \"Free\", \"Free\", \"Free\", \"Free\", \"Free\", \"Free\", \"Free\", \"Free\", \"Free\", \"Free\", \"Free\", \"Free\", \"Free\", \"Free\", \"Free\", \"Free\", \"Free\", \"Free\", \"Free\", \"Free\", \"Free\", \"Free\", \"Free\", \"Free\", \"Free\", \"Free\", \"Free\", \"Free\", \"Free\", \"Free\", \"Free\", \"Free\", \"Free\", \"Free\", \"Free\", \"Free\", \"Free\", \"Free\", \"Free\", \"Free\", \"Free\", \"Free\", \"Free\", \"Free\", \"Free\", \"Free\", \"Free\", \"Free\", \"Free\", \"Free\", \"Free\", \"Free\", \"Free\", \"Free\", \"Free\", \"Free\", \"Free\", \"Free\", \"Free\", \"Free\", \"Free\", \"Free\", \"Free\", \"Free\", \"Free\", \"Free\", \"Free\", \"Free\", \"Free\", \"Free\", \"Free\", \"Free\", \"Free\", \"Free\", \"Free\", \"Free\", \"Free\", \"Free\", \"Free\", \"Free\", \"Free\", \"Free\", \"Free\", \"Free\", \"Free\", \"Free\", \"Free\", \"Free\", \"Free\", \"Free\", \"Free\", \"Free\", \"Free\", \"Free\", \"Free\", \"Free\", \"Free\", \"Free\", \"Free\", \"Free\", \"Free\", \"Free\", \"Free\", \"Free\", \"Free\", \"Free\", \"Free\", \"Free\", \"Free\", \"Free\", \"Free\", \"Free\", \"Free\", \"Free\", \"Free\", \"Free\", \"Free\", \"Free\", \"Free\", \"Free\", \"Free\", \"Free\", \"Free\", \"Free\", \"Free\", \"Free\", \"Free\", \"Free\", \"Free\", \"Free\", \"Free\", \"Free\", \"Free\", \"Free\", \"Free\", \"Free\", \"Free\", \"Free\", \"Free\", \"Free\", \"Free\", \"Free\", \"Free\", \"Free\", \"Free\", \"Free\", \"Free\", \"Free\", \"Free\", \"Free\", \"Free\", \"Free\", \"Free\", \"Free\", \"Free\", \"Free\", \"Free\", \"Free\", \"Free\", \"Free\", \"Free\", \"Free\", \"Free\", \"Free\", \"Free\", \"Free\", \"Free\", \"Free\", \"Free\", \"Free\", \"Free\", \"Free\", \"Free\", \"Free\", \"Free\", \"Free\", \"Free\", \"Free\", \"Free\", \"Free\", \"Free\", \"Free\", \"Free\", \"Free\", \"Free\", \"Free\", \"Free\", \"Free\", \"Free\", \"Free\", \"Free\", \"Free\", \"Free\", \"Free\", \"Free\", \"Free\", \"Free\", \"Free\", \"Free\", \"Free\", \"Free\", \"Free\", \"Free\", \"Free\", \"Free\", \"Free\", \"Free\", \"Free\", \"Free\", \"Free\", \"Free\", \"Free\", \"Free\", \"Free\", \"Free\", \"Free\", \"Free\", \"Free\", \"Free\", \"Free\", \"Free\", \"Free\", \"Free\", \"Free\", \"Free\", \"Free\", \"Free\", \"Free\", \"Free\", \"Free\", \"Free\", \"Free\", \"Free\", \"Free\", \"Free\", \"Free\", \"Free\", \"Free\", \"Free\", \"Free\", \"Free\", \"Free\", \"Free\", \"Free\", \"Free\", \"Free\", \"Free\", \"Free\", \"Free\", \"Free\", \"Free\", \"Free\", \"Free\", \"Free\", \"Free\", \"Free\", \"Free\", \"Free\", \"Free\", \"Free\", \"Free\", \"Free\", \"Free\", \"Free\", \"Free\", \"Free\", \"Free\", \"Free\", \"Free\", \"Free\", \"Free\", \"Free\", \"Free\", \"Free\", \"Free\", \"Free\", \"Free\", \"Free\", \"Free\", \"Free\", \"Free\", \"Free\", \"Free\", \"Free\", \"Free\", \"Free\", \"Free\", \"Free\", \"Free\", \"Free\", \"Free\", \"Free\", \"Free\", \"Free\", \"Free\", \"Free\", \"Free\", \"Free\", \"Free\", \"Free\", \"Free\", \"Free\", \"Free\", \"Free\", \"Free\", \"Free\", \"Free\", \"Free\", \"Free\", \"Free\", \"Free\", \"Free\", \"Free\", \"Free\", \"Free\", \"Free\", \"Free\", \"Free\", \"Free\", \"Free\", \"Free\", \"Free\", \"Free\", \"Free\", \"Free\", \"Free\", \"Free\", \"Free\", \"Free\", \"Free\", \"Free\", \"Free\", \"Free\", \"Free\", \"Free\", \"Free\", \"Free\", \"Free\", \"Free\", \"Free\", \"Free\", \"Free\", \"Free\", \"Free\", \"Free\", \"Free\", \"Free\", \"Free\", \"Free\", \"Free\", \"Free\", \"Free\", \"Free\", \"Free\", \"Free\", \"Free\", \"Free\", \"Free\", \"Free\", \"Free\", \"Free\", \"Free\", \"Free\", \"Free\", \"Free\", \"Free\", \"Free\", \"Free\", \"Free\", \"Free\", \"Free\", \"Free\", \"Free\", \"Free\", \"Free\", \"Free\", \"Free\", \"Free\", \"Free\", \"Free\", \"Free\", \"Free\", \"Free\", \"Free\", \"Free\", \"Free\", \"Free\", \"Free\", \"Free\", \"Free\", \"Free\", \"Free\", \"Free\", \"Free\", \"Free\", \"Free\", \"Free\", \"Free\", \"Free\", \"Free\", \"Free\", \"Free\", \"Free\", \"Free\", \"Free\", \"Free\", \"Free\", \"Free\", \"Free\", \"Free\", \"Free\", \"Free\", \"Free\", \"Free\", \"Free\", \"Free\", \"Free\", \"Free\", \"Free\", \"Free\", \"Free\", \"Free\", \"Free\", \"Free\", \"Free\", \"Free\", \"Free\", \"Free\", \"Free\", \"Free\", \"Free\", \"Free\", \"Free\", \"Free\", \"Free\", \"Free\", \"Free\", \"Free\", \"Free\", \"Free\", \"Free\", \"Free\", \"Free\", \"Free\", \"Free\", \"Free\", \"Free\", \"Free\", \"Free\", \"Free\", \"Free\", \"Free\", \"Free\", \"Free\", \"Free\", \"Free\", \"Free\", \"Free\", \"Free\", \"Free\", \"Free\", \"Free\", \"Free\", \"Free\", \"Free\", \"Free\", \"Free\", \"Free\", \"Free\", \"Free\", \"Free\", \"Free\", \"Free\", \"Free\", \"Free\", \"Free\", \"Free\", \"Free\", \"Free\", \"Free\", \"Free\", \"Free\", \"Free\", \"Free\", \"Free\", \"Free\", \"Free\", \"Free\", \"Free\", \"Free\", \"Free\", \"Free\", \"Free\", \"Free\", \"Free\", \"Free\", \"Free\", \"Free\", \"Free\", \"Free\", \"Free\", \"Free\", \"Free\", \"Free\", \"Free\", \"Free\", \"Free\", \"Free\", \"Free\", \"Free\", \"Free\", \"Free\", \"Free\", \"Free\", \"Free\", \"Free\", \"Free\", \"Free\", \"Free\", \"Free\", \"Free\", \"Free\", \"Free\", \"Free\", \"Free\", \"Free\", \"Free\", \"Free\", \"Free\", \"Free\", \"Free\", \"Free\", \"Free\", \"Free\", \"Free\", \"Free\", \"Free\", \"Free\", \"Free\", \"Free\", \"Free\", \"Free\", \"Free\", \"Free\", \"Free\", \"Free\", \"Free\", \"Free\", \"Free\", \"Free\", \"Free\", \"Free\", \"Free\", \"Free\", \"Free\", \"Free\", \"Free\", \"Free\", \"Free\", \"Free\", \"Free\", \"Free\", \"Free\", \"Free\", \"Free\", \"Free\", \"Free\", \"Free\", \"Free\", \"Free\", \"Free\", \"Free\", \"Free\", \"Free\", \"Free\", \"Free\", \"Free\", \"Free\", \"Free\", \"Free\", \"Free\", \"Free\", \"Free\", \"Free\", \"Free\", \"Free\", \"Free\", \"Free\", \"Free\", \"Free\", \"Free\", \"Free\", \"Free\", \"Free\", \"Free\", \"Free\", \"Free\", \"Free\", \"Free\", \"Free\", \"Free\", \"Free\", \"Free\", \"Free\", \"Free\", \"Free\", \"Free\", \"Free\", \"Free\", \"Free\", \"Free\", \"Free\", \"Free\", \"Free\", \"Free\", \"Free\", \"Free\", \"Free\", \"Free\", \"Free\", \"Free\", \"Free\", \"Free\", \"Free\", \"Free\", \"Free\", \"Free\", \"Free\", \"Free\", \"Free\", \"Free\", \"Free\", \"Free\", \"Free\", \"Free\", \"Free\", \"Free\", \"Free\", \"Free\", \"Free\", \"Free\", \"Free\", \"Free\", \"Free\", \"Free\", \"Free\", \"Free\", \"Free\", \"Free\", \"Free\", \"Free\", \"Free\", \"Free\", \"Free\", \"Free\", \"Free\", \"Free\", \"Free\", \"Free\", \"Free\", \"Free\", \"Free\", \"Free\", \"Free\", \"Free\", \"Free\", \"Free\", \"Free\", \"Free\", \"Free\", \"Free\", \"Free\", \"Free\", \"Free\", \"Free\", \"Free\", \"Free\", \"Free\", \"Free\", \"Free\", \"Free\", \"Free\", \"Free\", \"Free\", \"Free\", \"Free\", \"Free\", \"Free\", \"Free\", \"Free\", \"Free\", \"Free\", \"Free\", \"Free\", \"Free\", \"Free\", \"Free\", \"Free\", \"Free\", \"Free\", \"Free\", \"Free\", \"Free\", \"Free\", \"Free\", \"Free\", \"Free\", \"Free\", \"Free\", \"Free\", \"Free\", \"Free\", \"Free\", \"Free\", \"Free\", \"Free\", \"Free\", \"Free\", \"Free\", \"Free\", \"Free\", \"Free\", \"Free\", \"Free\", \"Free\", \"Free\", \"Free\", \"Free\", \"Free\", \"Free\", \"Free\", \"Free\", \"Free\", \"Free\", \"Free\", \"Free\", \"Free\", \"Free\", \"Free\", \"Free\", \"Free\", \"Free\", \"Free\", \"Free\", \"Free\", \"Free\", \"Free\", \"Free\", \"Free\", \"Free\", \"Free\", \"Free\", \"Free\", \"Free\", \"Free\", \"Free\", \"Free\", \"Free\", \"Free\", \"Free\", \"Free\", \"Free\", \"Free\", \"Free\", \"Free\", \"Free\", \"Free\", \"Free\", \"Free\", \"Free\", \"Free\", \"Free\", \"Free\", \"Free\", \"Free\", \"Free\", \"Free\", \"Free\", \"Free\", \"Free\", \"Free\", \"Free\", \"Free\", \"Free\", \"Free\", \"Free\", \"Free\", \"Free\", \"Free\", \"Free\", \"Free\", \"Free\", \"Free\"], \"x0\": \" \", \"xaxis\": \"x\", \"y\": [1, 1, 1, 5, 5, 5, 5, 5, 5, 5, 5, 5, 10, 10, 10, 10, 10, 10, 10, 10, 10, 10, 10, 10, 10, 10, 10, 10, 10, 10, 10, 10, 10, 10, 10, 10, 10, 10, 10, 10, 10, 10, 10, 10, 10, 10, 10, 10, 10, 10, 10, 10, 10, 10, 10, 10, 10, 10, 10, 10, 10, 10, 10, 10, 10, 10, 10, 10, 10, 10, 10, 10, 10, 10, 10, 10, 10, 10, 10, 10, 10, 50, 50, 50, 50, 50, 50, 50, 50, 50, 50, 50, 50, 50, 50, 50, 50, 50, 50, 50, 50, 50, 50, 50, 50, 50, 50, 50, 50, 50, 50, 50, 50, 50, 50, 50, 50, 50, 50, 50, 50, 50, 50, 50, 50, 50, 50, 50, 50, 50, 50, 50, 50, 50, 50, 50, 50, 100, 100, 100, 100, 100, 100, 100, 100, 100, 100, 100, 100, 100, 100, 100, 100, 100, 100, 100, 100, 100, 100, 100, 100, 100, 100, 100, 100, 100, 100, 100, 100, 100, 100, 100, 100, 100, 100, 100, 100, 100, 100, 100, 100, 100, 100, 100, 100, 100, 100, 100, 100, 100, 100, 100, 100, 100, 100, 100, 100, 100, 100, 100, 100, 100, 100, 100, 100, 100, 100, 100, 100, 100, 100, 100, 100, 100, 100, 100, 100, 100, 100, 100, 100, 100, 100, 100, 100, 100, 100, 100, 100, 100, 100, 100, 100, 100, 100, 100, 100, 100, 100, 100, 100, 100, 100, 100, 100, 100, 100, 100, 100, 100, 100, 100, 100, 100, 100, 100, 100, 100, 100, 100, 100, 100, 100, 100, 100, 100, 100, 100, 100, 100, 100, 100, 100, 100, 100, 100, 100, 100, 100, 100, 100, 100, 100, 100, 100, 100, 100, 100, 100, 100, 100, 100, 100, 100, 100, 100, 100, 100, 100, 100, 100, 100, 100, 100, 100, 100, 100, 100, 100, 100, 100, 100, 100, 100, 100, 100, 100, 100, 100, 100, 100, 100, 100, 100, 100, 100, 100, 100, 100, 100, 100, 100, 100, 100, 100, 100, 100, 100, 100, 100, 100, 100, 100, 100, 100, 100, 100, 100, 100, 100, 100, 100, 100, 100, 100, 100, 100, 100, 100, 100, 100, 100, 100, 100, 100, 100, 100, 100, 100, 100, 100, 100, 100, 100, 100, 100, 100, 100, 100, 100, 100, 100, 100, 100, 100, 100, 100, 100, 100, 100, 100, 100, 100, 100, 100, 100, 100, 100, 100, 100, 100, 100, 100, 100, 100, 100, 100, 100, 100, 100, 100, 100, 100, 100, 100, 100, 100, 100, 100, 100, 100, 100, 100, 100, 100, 100, 100, 100, 100, 100, 100, 100, 100, 100, 100, 100, 100, 100, 100, 500, 500, 500, 500, 500, 500, 500, 500, 500, 500, 500, 500, 500, 500, 500, 500, 500, 500, 500, 500, 500, 500, 500, 500, 500, 500, 500, 500, 500, 500, 500, 500, 500, 500, 500, 500, 500, 500, 500, 500, 500, 500, 500, 500, 500, 500, 500, 500, 500, 500, 500, 500, 500, 500, 500, 500, 500, 500, 500, 500, 500, 500, 500, 500, 500, 500, 500, 500, 500, 500, 500, 500, 500, 500, 500, 500, 500, 500, 500, 500, 500, 500, 500, 500, 500, 500, 500, 500, 500, 500, 500, 500, 500, 500, 500, 500, 500, 500, 500, 500, 500, 500, 500, 500, 500, 500, 500, 500, 500, 500, 500, 500, 500, 500, 500, 500, 500, 500, 500, 500, 500, 500, 500, 500, 500, 500, 500, 500, 500, 500, 500, 500, 500, 500, 500, 500, 500, 500, 500, 500, 500, 500, 500, 500, 500, 500, 500, 500, 500, 500, 500, 500, 500, 500, 500, 500, 500, 500, 500, 500, 500, 500, 500, 500, 500, 500, 500, 500, 500, 500, 500, 500, 500, 500, 500, 500, 500, 500, 500, 500, 500, 500, 500, 500, 500, 500, 500, 500, 500, 500, 500, 500, 500, 500, 500, 500, 500, 500, 500, 1000, 1000, 1000, 1000, 1000, 1000, 1000, 1000, 1000, 1000, 1000, 1000, 1000, 1000, 1000, 1000, 1000, 1000, 1000, 1000, 1000, 1000, 1000, 1000, 1000, 1000, 1000, 1000, 1000, 1000, 1000, 1000, 1000, 1000, 1000, 1000, 1000, 1000, 1000, 1000, 1000, 1000, 1000, 1000, 1000, 1000, 1000, 1000, 1000, 1000, 1000, 1000, 1000, 1000, 1000, 1000, 1000, 1000, 1000, 1000, 1000, 1000, 1000, 1000, 1000, 1000, 1000, 1000, 1000, 1000, 1000, 1000, 1000, 1000, 1000, 1000, 1000, 1000, 1000, 1000, 1000, 1000, 1000, 1000, 1000, 1000, 1000, 1000, 1000, 1000, 1000, 1000, 1000, 1000, 1000, 1000, 1000, 1000, 1000, 1000, 1000, 1000, 1000, 1000, 1000, 1000, 1000, 1000, 1000, 1000, 1000, 1000, 1000, 1000, 1000, 1000, 1000, 1000, 1000, 1000, 1000, 1000, 1000, 1000, 1000, 1000, 1000, 1000, 1000, 1000, 1000, 1000, 1000, 1000, 1000, 1000, 1000, 1000, 1000, 1000, 1000, 1000, 1000, 1000, 1000, 1000, 1000, 1000, 1000, 1000, 1000, 1000, 1000, 1000, 1000, 1000, 1000, 1000, 1000, 1000, 1000, 1000, 1000, 1000, 1000, 1000, 1000, 1000, 1000, 1000, 1000, 1000, 1000, 1000, 1000, 1000, 1000, 1000, 1000, 1000, 1000, 1000, 1000, 1000, 1000, 1000, 1000, 1000, 1000, 1000, 1000, 1000, 1000, 1000, 1000, 1000, 1000, 1000, 1000, 1000, 1000, 1000, 1000, 1000, 1000, 1000, 1000, 1000, 1000, 1000, 1000, 1000, 1000, 1000, 1000, 1000, 1000, 1000, 1000, 1000, 1000, 1000, 1000, 1000, 1000, 1000, 1000, 1000, 1000, 1000, 1000, 1000, 1000, 1000, 1000, 1000, 1000, 1000, 1000, 1000, 1000, 1000, 1000, 1000, 1000, 1000, 1000, 1000, 1000, 1000, 1000, 1000, 1000, 1000, 1000, 1000, 1000, 1000, 1000, 1000, 1000, 1000, 1000, 1000, 1000, 1000, 1000, 1000, 1000, 1000, 1000, 1000, 1000, 1000, 1000, 1000, 1000, 1000, 1000, 1000, 1000, 1000, 1000, 1000, 1000, 1000, 1000, 1000, 1000, 1000, 1000, 1000, 1000, 1000, 1000, 1000, 1000, 1000, 1000, 1000, 1000, 1000, 1000, 1000, 1000, 1000, 1000, 1000, 1000, 1000, 1000, 1000, 1000, 1000, 1000, 1000, 1000, 1000, 1000, 1000, 1000, 1000, 1000, 1000, 1000, 1000, 1000, 1000, 1000, 1000, 1000, 1000, 1000, 1000, 1000, 1000, 1000, 1000, 1000, 1000, 1000, 1000, 1000, 1000, 1000, 1000, 1000, 1000, 1000, 1000, 1000, 1000, 1000, 1000, 1000, 1000, 1000, 1000, 1000, 1000, 1000, 1000, 1000, 1000, 1000, 1000, 1000, 1000, 1000, 1000, 1000, 1000, 1000, 1000, 1000, 1000, 1000, 1000, 1000, 1000, 1000, 1000, 1000, 1000, 1000, 1000, 1000, 1000, 1000, 1000, 1000, 1000, 1000, 1000, 1000, 1000, 1000, 1000, 1000, 1000, 1000, 1000, 1000, 1000, 1000, 1000, 1000, 1000, 1000, 1000, 1000, 1000, 1000, 1000, 1000, 1000, 1000, 1000, 1000, 1000, 1000, 1000, 1000, 1000, 1000, 1000, 1000, 1000, 1000, 1000, 1000, 1000, 1000, 1000, 1000, 1000, 1000, 1000, 1000, 1000, 1000, 1000, 1000, 1000, 1000, 1000, 1000, 1000, 1000, 1000, 1000, 1000, 1000, 1000, 1000, 1000, 1000, 1000, 1000, 1000, 1000, 1000, 1000, 1000, 1000, 1000, 1000, 1000, 1000, 1000, 1000, 1000, 1000, 1000, 1000, 1000, 1000, 1000, 1000, 1000, 1000, 1000, 1000, 1000, 1000, 1000, 1000, 1000, 1000, 1000, 1000, 1000, 1000, 1000, 1000, 1000, 1000, 1000, 1000, 1000, 1000, 1000, 1000, 1000, 1000, 1000, 1000, 1000, 1000, 1000, 1000, 1000, 1000, 1000, 1000, 1000, 1000, 1000, 1000, 1000, 1000, 1000, 1000, 1000, 1000, 1000, 1000, 1000, 1000, 1000, 1000, 1000, 1000, 1000, 1000, 1000, 1000, 1000, 1000, 1000, 1000, 1000, 1000, 1000, 1000, 1000, 1000, 1000, 1000, 1000, 1000, 1000, 1000, 1000, 1000, 1000, 1000, 1000, 1000, 1000, 1000, 1000, 1000, 1000, 1000, 1000, 1000, 1000, 1000, 1000, 1000, 1000, 1000, 1000, 1000, 1000, 1000, 1000, 1000, 1000, 1000, 1000, 1000, 1000, 1000, 1000, 1000, 1000, 1000, 1000, 1000, 1000, 1000, 1000, 1000, 1000, 1000, 1000, 1000, 1000, 1000, 1000, 1000, 1000, 1000, 1000, 1000, 1000, 1000, 1000, 1000, 1000, 1000, 1000, 1000, 1000, 1000, 1000, 1000, 1000, 1000, 1000, 1000, 1000, 1000, 1000, 1000, 1000, 1000, 1000, 1000, 1000, 1000, 1000, 1000, 1000, 1000, 1000, 1000, 1000, 1000, 1000, 1000, 1000, 1000, 1000, 1000, 1000, 1000, 1000, 1000, 1000, 1000, 1000, 1000, 1000, 1000, 1000, 1000, 1000, 1000, 1000, 1000, 1000, 1000, 1000, 1000, 1000, 1000, 1000, 1000, 1000, 1000, 1000, 1000, 1000, 1000, 1000, 1000, 1000, 1000, 1000, 1000, 1000, 1000, 1000, 1000, 1000, 1000, 1000, 1000, 1000, 1000, 1000, 5000, 5000, 5000, 5000, 5000, 5000, 5000, 5000, 5000, 5000, 5000, 5000, 5000, 5000, 5000, 5000, 5000, 5000, 5000, 5000, 5000, 5000, 5000, 5000, 5000, 5000, 5000, 5000, 5000, 5000, 5000, 5000, 5000, 5000, 5000, 5000, 5000, 5000, 5000, 5000, 5000, 5000, 5000, 5000, 5000, 5000, 5000, 5000, 5000, 5000, 5000, 5000, 5000, 5000, 5000, 5000, 5000, 5000, 5000, 5000, 5000, 5000, 5000, 5000, 5000, 5000, 5000, 5000, 5000, 5000, 5000, 5000, 5000, 5000, 5000, 5000, 5000, 5000, 5000, 5000, 5000, 5000, 5000, 5000, 5000, 5000, 5000, 5000, 5000, 5000, 5000, 5000, 5000, 5000, 5000, 5000, 5000, 5000, 5000, 5000, 5000, 5000, 5000, 5000, 5000, 5000, 5000, 5000, 5000, 5000, 5000, 5000, 5000, 5000, 5000, 5000, 5000, 5000, 5000, 5000, 5000, 5000, 5000, 5000, 5000, 5000, 5000, 5000, 5000, 5000, 5000, 5000, 5000, 5000, 5000, 5000, 5000, 5000, 5000, 5000, 5000, 5000, 5000, 5000, 5000, 5000, 5000, 5000, 5000, 5000, 5000, 5000, 5000, 5000, 5000, 5000, 5000, 5000, 5000, 5000, 5000, 5000, 5000, 5000, 5000, 5000, 5000, 5000, 5000, 5000, 5000, 5000, 5000, 5000, 5000, 5000, 5000, 5000, 5000, 5000, 5000, 5000, 5000, 5000, 5000, 5000, 5000, 5000, 5000, 5000, 5000, 5000, 5000, 5000, 5000, 5000, 5000, 5000, 5000, 5000, 5000, 5000, 5000, 5000, 5000, 5000, 5000, 5000, 5000, 5000, 5000, 5000, 5000, 5000, 5000, 5000, 5000, 5000, 5000, 5000, 5000, 5000, 5000, 5000, 5000, 5000, 5000, 5000, 5000, 5000, 5000, 5000, 5000, 5000, 5000, 5000, 5000, 5000, 5000, 5000, 5000, 5000, 5000, 5000, 5000, 5000, 5000, 5000, 5000, 5000, 5000, 5000, 5000, 5000, 5000, 5000, 5000, 5000, 5000, 5000, 5000, 5000, 5000, 5000, 5000, 5000, 5000, 5000, 5000, 5000, 5000, 5000, 5000, 5000, 5000, 5000, 5000, 5000, 5000, 5000, 5000, 5000, 5000, 5000, 5000, 5000, 5000, 5000, 5000, 5000, 5000, 5000, 5000, 5000, 5000, 5000, 5000, 5000, 5000, 5000, 5000, 5000, 5000, 5000, 5000, 5000, 5000, 5000, 5000, 5000, 5000, 5000, 5000, 5000, 5000, 5000, 5000, 5000, 5000, 5000, 5000, 5000, 5000, 5000, 5000, 5000, 5000, 5000, 5000, 5000, 5000, 5000, 5000, 5000, 5000, 5000, 5000, 5000, 5000, 5000, 5000, 5000, 5000, 5000, 5000, 5000, 5000, 5000, 5000, 5000, 5000, 5000, 5000, 5000, 5000, 5000, 5000, 5000, 5000, 5000, 5000, 5000, 5000, 5000, 5000, 5000, 5000, 5000, 5000, 5000, 5000, 5000, 5000, 5000, 5000, 5000, 5000, 5000, 5000, 5000, 5000, 5000, 5000, 5000, 5000, 5000, 5000, 5000, 5000, 5000, 5000, 5000, 5000, 5000, 5000, 5000, 5000, 5000, 5000, 5000, 5000, 5000, 5000, 5000, 5000, 5000, 5000, 5000, 5000, 5000, 5000, 5000, 5000, 5000, 5000, 5000, 5000, 5000, 5000, 5000, 5000, 5000, 10000, 10000, 10000, 10000, 10000, 10000, 10000, 10000, 10000, 10000, 10000, 10000, 10000, 10000, 10000, 10000, 10000, 10000, 10000, 10000, 10000, 10000, 10000, 10000, 10000, 10000, 10000, 10000, 10000, 10000, 10000, 10000, 10000, 10000, 10000, 10000, 10000, 10000, 10000, 10000, 10000, 10000, 10000, 10000, 10000, 10000, 10000, 10000, 10000, 10000, 10000, 10000, 10000, 10000, 10000, 10000, 10000, 10000, 10000, 10000, 10000, 10000, 10000, 10000, 10000, 10000, 10000, 10000, 10000, 10000, 10000, 10000, 10000, 10000, 10000, 10000, 10000, 10000, 10000, 10000, 10000, 10000, 10000, 10000, 10000, 10000, 10000, 10000, 10000, 10000, 10000, 10000, 10000, 10000, 10000, 10000, 10000, 10000, 10000, 10000, 10000, 10000, 10000, 10000, 10000, 10000, 10000, 10000, 10000, 10000, 10000, 10000, 10000, 10000, 10000, 10000, 10000, 10000, 10000, 10000, 10000, 10000, 10000, 10000, 10000, 10000, 10000, 10000, 10000, 10000, 10000, 10000, 10000, 10000, 10000, 10000, 10000, 10000, 10000, 10000, 10000, 10000, 10000, 10000, 10000, 10000, 10000, 10000, 10000, 10000, 10000, 10000, 10000, 10000, 10000, 10000, 10000, 10000, 10000, 10000, 10000, 10000, 10000, 10000, 10000, 10000, 10000, 10000, 10000, 10000, 10000, 10000, 10000, 10000, 10000, 10000, 10000, 10000, 10000, 10000, 10000, 10000, 10000, 10000, 10000, 10000, 10000, 10000, 10000, 10000, 10000, 10000, 10000, 10000, 10000, 10000, 10000, 10000, 10000, 10000, 10000, 10000, 10000, 10000, 10000, 10000, 10000, 10000, 10000, 10000, 10000, 10000, 10000, 10000, 10000, 10000, 10000, 10000, 10000, 10000, 10000, 10000, 10000, 10000, 10000, 10000, 10000, 10000, 10000, 10000, 10000, 10000, 10000, 10000, 10000, 10000, 10000, 10000, 10000, 10000, 10000, 10000, 10000, 10000, 10000, 10000, 10000, 10000, 10000, 10000, 10000, 10000, 10000, 10000, 10000, 10000, 10000, 10000, 10000, 10000, 10000, 10000, 10000, 10000, 10000, 10000, 10000, 10000, 10000, 10000, 10000, 10000, 10000, 10000, 10000, 10000, 10000, 10000, 10000, 10000, 10000, 10000, 10000, 10000, 10000, 10000, 10000, 10000, 10000, 10000, 10000, 10000, 10000, 10000, 10000, 10000, 10000, 10000, 10000, 10000, 10000, 10000, 10000, 10000, 10000, 10000, 10000, 10000, 10000, 10000, 10000, 10000, 10000, 10000, 10000, 10000, 10000, 10000, 10000, 10000, 10000, 10000, 10000, 10000, 10000, 10000, 10000, 10000, 10000, 10000, 10000, 10000, 10000, 10000, 10000, 10000, 10000, 10000, 10000, 10000, 10000, 10000, 10000, 10000, 10000, 10000, 10000, 10000, 10000, 10000, 10000, 10000, 10000, 10000, 10000, 10000, 10000, 10000, 10000, 10000, 10000, 10000, 10000, 10000, 10000, 10000, 10000, 10000, 10000, 10000, 10000, 10000, 10000, 10000, 10000, 10000, 10000, 10000, 10000, 10000, 10000, 10000, 10000, 10000, 10000, 10000, 10000, 10000, 10000, 10000, 10000, 10000, 10000, 10000, 10000, 10000, 10000, 10000, 10000, 10000, 10000, 10000, 10000, 10000, 10000, 10000, 10000, 10000, 10000, 10000, 10000, 10000, 10000, 10000, 10000, 10000, 10000, 10000, 10000, 10000, 10000, 10000, 10000, 10000, 10000, 10000, 10000, 10000, 10000, 10000, 10000, 10000, 10000, 10000, 10000, 10000, 10000, 10000, 10000, 10000, 10000, 10000, 10000, 10000, 10000, 10000, 10000, 10000, 10000, 10000, 10000, 10000, 10000, 10000, 10000, 10000, 10000, 10000, 10000, 10000, 10000, 10000, 10000, 10000, 10000, 10000, 10000, 10000, 10000, 10000, 10000, 10000, 10000, 10000, 10000, 10000, 10000, 10000, 10000, 10000, 10000, 10000, 10000, 10000, 10000, 10000, 10000, 10000, 10000, 10000, 10000, 10000, 10000, 10000, 10000, 10000, 10000, 10000, 10000, 10000, 10000, 10000, 10000, 10000, 10000, 10000, 10000, 10000, 10000, 10000, 10000, 10000, 10000, 10000, 10000, 10000, 10000, 10000, 10000, 10000, 10000, 10000, 10000, 10000, 10000, 10000, 10000, 10000, 10000, 10000, 10000, 10000, 10000, 10000, 10000, 10000, 10000, 10000, 10000, 10000, 10000, 10000, 10000, 10000, 10000, 10000, 10000, 10000, 10000, 10000, 10000, 10000, 10000, 10000, 10000, 10000, 10000, 10000, 10000, 10000, 10000, 10000, 10000, 10000, 10000, 10000, 10000, 10000, 10000, 10000, 10000, 10000, 10000, 10000, 10000, 10000, 10000, 10000, 10000, 10000, 10000, 10000, 10000, 10000, 10000, 10000, 10000, 10000, 10000, 10000, 10000, 10000, 10000, 10000, 10000, 10000, 10000, 10000, 10000, 10000, 10000, 10000, 10000, 10000, 10000, 10000, 10000, 10000, 10000, 10000, 10000, 10000, 10000, 10000, 10000, 10000, 10000, 10000, 10000, 10000, 10000, 10000, 10000, 10000, 10000, 10000, 10000, 10000, 10000, 10000, 10000, 10000, 10000, 10000, 10000, 10000, 10000, 10000, 10000, 10000, 10000, 10000, 10000, 10000, 10000, 10000, 10000, 10000, 10000, 10000, 10000, 10000, 10000, 10000, 10000, 10000, 10000, 10000, 10000, 10000, 10000, 10000, 10000, 10000, 10000, 10000, 10000, 10000, 10000, 10000, 10000, 10000, 10000, 10000, 10000, 10000, 10000, 10000, 10000, 10000, 10000, 10000, 10000, 10000, 10000, 10000, 10000, 10000, 10000, 10000, 10000, 10000, 10000, 10000, 10000, 10000, 10000, 10000, 10000, 10000, 10000, 10000, 10000, 10000, 10000, 10000, 10000, 10000, 10000, 10000, 10000, 10000, 10000, 10000, 10000, 10000, 10000, 10000, 10000, 10000, 10000, 10000, 10000, 10000, 10000, 10000, 10000, 10000, 10000, 10000, 10000, 10000, 10000, 10000, 10000, 10000, 10000, 10000, 10000, 10000, 10000, 10000, 10000, 10000, 10000, 10000, 10000, 10000, 10000, 10000, 10000, 10000, 10000, 10000, 10000, 10000, 10000, 10000, 10000, 10000, 10000, 10000, 10000, 10000, 10000, 10000, 10000, 10000, 10000, 10000, 10000, 10000, 10000, 10000, 10000, 10000, 10000, 10000, 10000, 10000, 10000, 10000, 10000, 10000, 10000, 10000, 10000, 10000, 10000, 10000, 10000, 10000, 10000, 10000, 10000, 10000, 10000, 10000, 10000, 10000, 10000, 10000, 10000, 10000, 10000, 10000, 10000, 10000, 10000, 10000, 10000, 10000, 10000, 10000, 10000, 10000, 10000, 10000, 10000, 10000, 10000, 10000, 10000, 10000, 10000, 10000, 10000, 10000, 10000, 10000, 10000, 10000, 10000, 10000, 10000, 10000, 10000, 10000, 10000, 10000, 10000, 10000, 10000, 10000, 10000, 10000, 10000, 10000, 10000, 10000, 10000, 10000, 10000, 10000, 10000, 10000, 10000, 10000, 10000, 10000, 10000, 10000, 10000, 10000, 10000, 10000, 10000, 10000, 10000, 10000, 10000, 10000, 10000, 10000, 10000, 10000, 10000, 10000, 10000, 10000, 10000, 10000, 10000, 10000, 10000, 10000, 10000, 10000, 10000, 10000, 10000, 10000, 10000, 10000, 10000, 10000, 10000, 10000, 10000, 10000, 10000, 10000, 10000, 10000, 10000, 10000, 10000, 10000, 10000, 10000, 10000, 10000, 10000, 10000, 10000, 10000, 10000, 10000, 10000, 10000, 10000, 10000, 10000, 10000, 10000, 10000, 10000, 10000, 10000, 10000, 10000, 10000, 10000, 10000, 10000, 10000, 10000, 10000, 10000, 10000, 10000, 10000, 10000, 10000, 10000, 10000, 10000, 10000, 10000, 10000, 10000, 10000, 10000, 10000, 10000, 10000, 10000, 10000, 10000, 10000, 10000, 10000, 10000, 10000, 10000, 10000, 10000, 10000, 10000, 10000, 10000, 10000, 10000, 10000, 10000, 10000, 10000, 10000, 10000, 10000, 10000, 10000, 10000, 50000, 50000, 50000, 50000, 50000, 50000, 50000, 50000, 50000, 50000, 50000, 50000, 50000, 50000, 50000, 50000, 50000, 50000, 50000, 50000, 50000, 50000, 50000, 50000, 50000, 50000, 50000, 50000, 50000, 50000, 50000, 50000, 50000, 50000, 50000, 50000, 50000, 50000, 50000, 50000, 50000, 50000, 50000, 50000, 50000, 50000, 50000, 50000, 50000, 50000, 50000, 50000, 50000, 50000, 50000, 50000, 50000, 50000, 50000, 50000, 50000, 50000, 50000, 50000, 50000, 50000, 50000, 50000, 50000, 50000, 50000, 50000, 50000, 50000, 50000, 50000, 50000, 50000, 50000, 50000, 50000, 50000, 50000, 50000, 50000, 50000, 50000, 50000, 50000, 50000, 50000, 50000, 50000, 50000, 50000, 50000, 50000, 50000, 50000, 50000, 50000, 50000, 50000, 50000, 50000, 50000, 50000, 50000, 50000, 50000, 50000, 50000, 50000, 50000, 50000, 50000, 50000, 50000, 50000, 50000, 50000, 50000, 50000, 50000, 50000, 50000, 50000, 50000, 50000, 50000, 50000, 50000, 50000, 50000, 50000, 50000, 50000, 50000, 50000, 50000, 50000, 50000, 50000, 50000, 50000, 50000, 50000, 50000, 50000, 50000, 50000, 50000, 50000, 50000, 50000, 50000, 50000, 50000, 50000, 50000, 50000, 50000, 50000, 50000, 50000, 50000, 50000, 50000, 50000, 50000, 50000, 50000, 50000, 50000, 50000, 50000, 50000, 50000, 50000, 50000, 50000, 50000, 50000, 50000, 50000, 50000, 50000, 50000, 50000, 50000, 50000, 50000, 50000, 50000, 50000, 50000, 50000, 50000, 50000, 50000, 50000, 50000, 50000, 50000, 50000, 50000, 50000, 50000, 50000, 50000, 50000, 50000, 50000, 50000, 50000, 50000, 50000, 50000, 50000, 50000, 50000, 50000, 50000, 50000, 50000, 50000, 50000, 50000, 50000, 50000, 50000, 50000, 50000, 50000, 50000, 50000, 50000, 50000, 50000, 50000, 50000, 50000, 50000, 50000, 50000, 50000, 50000, 50000, 50000, 50000, 50000, 50000, 50000, 50000, 50000, 50000, 50000, 50000, 50000, 50000, 50000, 50000, 50000, 50000, 50000, 50000, 50000, 50000, 50000, 50000, 50000, 50000, 50000, 50000, 50000, 50000, 50000, 50000, 50000, 50000, 50000, 50000, 50000, 50000, 50000, 50000, 50000, 50000, 50000, 50000, 50000, 50000, 50000, 50000, 50000, 50000, 50000, 50000, 50000, 50000, 50000, 50000, 50000, 50000, 50000, 50000, 50000, 50000, 50000, 50000, 50000, 50000, 50000, 50000, 50000, 50000, 50000, 50000, 50000, 50000, 50000, 50000, 50000, 50000, 50000, 50000, 50000, 50000, 50000, 50000, 50000, 50000, 50000, 50000, 50000, 50000, 50000, 50000, 50000, 50000, 50000, 50000, 50000, 50000, 50000, 50000, 50000, 50000, 50000, 50000, 50000, 50000, 50000, 50000, 50000, 50000, 50000, 50000, 50000, 50000, 50000, 50000, 50000, 50000, 50000, 50000, 50000, 50000, 50000, 50000, 50000, 50000, 50000, 50000, 50000, 50000, 50000, 50000, 50000, 50000, 50000, 50000, 50000, 50000, 50000, 50000, 50000, 50000, 50000, 50000, 50000, 50000, 50000, 50000, 50000, 50000, 50000, 50000, 50000, 50000, 50000, 50000, 50000, 50000, 50000, 50000, 50000, 50000, 50000, 50000, 50000, 50000, 50000, 50000, 50000, 50000, 50000, 50000, 50000, 50000, 50000, 50000, 50000, 50000, 50000, 50000, 50000, 50000, 50000, 50000, 50000, 50000, 50000, 50000, 50000, 50000, 50000, 50000, 50000, 50000, 50000, 50000, 50000, 50000, 50000, 50000, 50000, 50000, 50000, 50000, 50000, 50000, 50000, 50000, 50000, 50000, 100000, 100000, 100000, 100000, 100000, 100000, 100000, 100000, 100000, 100000, 100000, 100000, 100000, 100000, 100000, 100000, 100000, 100000, 100000, 100000, 100000, 100000, 100000, 100000, 100000, 100000, 100000, 100000, 100000, 100000, 100000, 100000, 100000, 100000, 100000, 100000, 100000, 100000, 100000, 100000, 100000, 100000, 100000, 100000, 100000, 100000, 100000, 100000, 100000, 100000, 100000, 100000, 100000, 100000, 100000, 100000, 100000, 100000, 100000, 100000, 100000, 100000, 100000, 100000, 100000, 100000, 100000, 100000, 100000, 100000, 100000, 100000, 100000, 100000, 100000, 100000, 100000, 100000, 100000, 100000, 100000, 100000, 100000, 100000, 100000, 100000, 100000, 100000, 100000, 100000, 100000, 100000, 100000, 100000, 100000, 100000, 100000, 100000, 100000, 100000, 100000, 100000, 100000, 100000, 100000, 100000, 100000, 100000, 100000, 100000, 100000, 100000, 100000, 100000, 100000, 100000, 100000, 100000, 100000, 100000, 100000, 100000, 100000, 100000, 100000, 100000, 100000, 100000, 100000, 100000, 100000, 100000, 100000, 100000, 100000, 100000, 100000, 100000, 100000, 100000, 100000, 100000, 100000, 100000, 100000, 100000, 100000, 100000, 100000, 100000, 100000, 100000, 100000, 100000, 100000, 100000, 100000, 100000, 100000, 100000, 100000, 100000, 100000, 100000, 100000, 100000, 100000, 100000, 100000, 100000, 100000, 100000, 100000, 100000, 100000, 100000, 100000, 100000, 100000, 100000, 100000, 100000, 100000, 100000, 100000, 100000, 100000, 100000, 100000, 100000, 100000, 100000, 100000, 100000, 100000, 100000, 100000, 100000, 100000, 100000, 100000, 100000, 100000, 100000, 100000, 100000, 100000, 100000, 100000, 100000, 100000, 100000, 100000, 100000, 100000, 100000, 100000, 100000, 100000, 100000, 100000, 100000, 100000, 100000, 100000, 100000, 100000, 100000, 100000, 100000, 100000, 100000, 100000, 100000, 100000, 100000, 100000, 100000, 100000, 100000, 100000, 100000, 100000, 100000, 100000, 100000, 100000, 100000, 100000, 100000, 100000, 100000, 100000, 100000, 100000, 100000, 100000, 100000, 100000, 100000, 100000, 100000, 100000, 100000, 100000, 100000, 100000, 100000, 100000, 100000, 100000, 100000, 100000, 100000, 100000, 100000, 100000, 100000, 100000, 100000, 100000, 100000, 100000, 100000, 100000, 100000, 100000, 100000, 100000, 100000, 100000, 100000, 100000, 100000, 100000, 100000, 100000, 100000, 100000, 100000, 100000, 100000, 100000, 100000, 100000, 100000, 100000, 100000, 100000, 100000, 100000, 100000, 100000, 100000, 100000, 100000, 100000, 100000, 100000, 100000, 100000, 100000, 100000, 100000, 100000, 100000, 100000, 100000, 100000, 100000, 100000, 100000, 100000, 100000, 100000, 100000, 100000, 100000, 100000, 100000, 100000, 100000, 100000, 100000, 100000, 100000, 100000, 100000, 100000, 100000, 100000, 100000, 100000, 100000, 100000, 100000, 100000, 100000, 100000, 100000, 100000, 100000, 100000, 100000, 100000, 100000, 100000, 100000, 100000, 100000, 100000, 100000, 100000, 100000, 100000, 100000, 100000, 100000, 100000, 100000, 100000, 100000, 100000, 100000, 100000, 100000, 100000, 100000, 100000, 100000, 100000, 100000, 100000, 100000, 100000, 100000, 100000, 100000, 100000, 100000, 100000, 100000, 100000, 100000, 100000, 100000, 100000, 100000, 100000, 100000, 100000, 100000, 100000, 100000, 100000, 100000, 100000, 100000, 100000, 100000, 100000, 100000, 100000, 100000, 100000, 100000, 100000, 100000, 100000, 100000, 100000, 100000, 100000, 100000, 100000, 100000, 100000, 100000, 100000, 100000, 100000, 100000, 100000, 100000, 100000, 100000, 100000, 100000, 100000, 100000, 100000, 100000, 100000, 100000, 100000, 100000, 100000, 100000, 100000, 100000, 100000, 100000, 100000, 100000, 100000, 100000, 100000, 100000, 100000, 100000, 100000, 100000, 100000, 100000, 100000, 100000, 100000, 100000, 100000, 100000, 100000, 100000, 100000, 100000, 100000, 100000, 100000, 100000, 100000, 100000, 100000, 100000, 100000, 100000, 100000, 100000, 100000, 100000, 100000, 100000, 100000, 100000, 100000, 100000, 100000, 100000, 100000, 100000, 100000, 100000, 100000, 100000, 100000, 100000, 100000, 100000, 100000, 100000, 100000, 100000, 100000, 100000, 100000, 100000, 100000, 100000, 100000, 100000, 100000, 100000, 100000, 100000, 100000, 100000, 100000, 100000, 100000, 100000, 100000, 100000, 100000, 100000, 100000, 100000, 100000, 100000, 100000, 100000, 100000, 100000, 100000, 100000, 100000, 100000, 100000, 100000, 100000, 100000, 100000, 100000, 100000, 100000, 100000, 100000, 100000, 100000, 100000, 100000, 100000, 100000, 100000, 100000, 100000, 100000, 100000, 100000, 100000, 100000, 100000, 100000, 100000, 100000, 100000, 100000, 100000, 100000, 100000, 100000, 100000, 100000, 100000, 100000, 100000, 100000, 100000, 100000, 100000, 100000, 100000, 100000, 100000, 100000, 100000, 100000, 100000, 100000, 100000, 100000, 100000, 100000, 100000, 100000, 100000, 100000, 100000, 100000, 100000, 100000, 100000, 100000, 100000, 100000, 100000, 100000, 100000, 100000, 100000, 100000, 100000, 100000, 100000, 100000, 100000, 100000, 100000, 100000, 100000, 100000, 100000, 100000, 100000, 100000, 100000, 100000, 100000, 100000, 100000, 100000, 100000, 100000, 100000, 100000, 100000, 100000, 100000, 100000, 100000, 100000, 100000, 100000, 100000, 100000, 100000, 100000, 100000, 100000, 100000, 100000, 100000, 100000, 100000, 100000, 100000, 100000, 100000, 100000, 100000, 100000, 100000, 100000, 100000, 100000, 100000, 100000, 100000, 100000, 100000, 100000, 100000, 100000, 100000, 100000, 100000, 100000, 100000, 100000, 100000, 100000, 100000, 100000, 100000, 100000, 100000, 100000, 100000, 100000, 100000, 100000, 100000, 100000, 100000, 100000, 100000, 100000, 100000, 100000, 100000, 100000, 100000, 100000, 100000, 100000, 100000, 100000, 100000, 100000, 100000, 100000, 100000, 100000, 100000, 100000, 100000, 100000, 100000, 100000, 100000, 100000, 100000, 100000, 100000, 100000, 100000, 100000, 100000, 100000, 100000, 100000, 100000, 100000, 100000, 100000, 100000, 100000, 100000, 100000, 100000, 100000, 100000, 100000, 100000, 100000, 100000, 100000, 100000, 100000, 100000, 100000, 100000, 100000, 100000, 100000, 100000, 100000, 100000, 100000, 100000, 100000, 100000, 100000, 100000, 100000, 100000, 100000, 100000, 100000, 100000, 100000, 100000, 100000, 100000, 100000, 100000, 100000, 100000, 100000, 100000, 100000, 100000, 100000, 100000, 100000, 100000, 100000, 100000, 100000, 100000, 100000, 100000, 100000, 100000, 100000, 100000, 100000, 100000, 100000, 100000, 100000, 100000, 100000, 100000, 100000, 100000, 100000, 100000, 100000, 100000, 100000, 100000, 100000, 100000, 100000, 100000, 100000, 100000, 100000, 100000, 100000, 100000, 100000, 100000, 100000, 100000, 100000, 100000, 100000, 100000, 100000, 100000, 100000, 100000, 100000, 100000, 100000, 100000, 100000, 100000, 100000, 100000, 100000, 100000, 100000, 100000, 100000, 100000, 100000, 100000, 100000, 100000, 100000, 100000, 100000, 100000, 100000, 100000, 100000, 100000, 100000, 100000, 100000, 100000, 100000, 100000, 100000, 100000, 100000, 100000, 100000, 100000, 100000, 100000, 100000, 100000, 100000, 100000, 100000, 100000, 100000, 100000, 100000, 100000, 100000, 100000, 100000, 100000, 100000, 100000, 100000, 100000, 100000, 100000, 100000, 100000, 100000, 100000, 100000, 100000, 100000, 100000, 100000, 100000, 100000, 100000, 100000, 100000, 100000, 100000, 100000, 100000, 100000, 100000, 100000, 100000, 100000, 100000, 100000, 100000, 100000, 100000, 100000, 100000, 100000, 100000, 100000, 100000, 100000, 100000, 100000, 100000, 100000, 100000, 100000, 100000, 100000, 100000, 100000, 100000, 100000, 100000, 100000, 100000, 100000, 100000, 100000, 100000, 100000, 100000, 100000, 100000, 100000, 100000, 100000, 100000, 100000, 100000, 100000, 100000, 100000, 100000, 100000, 100000, 100000, 100000, 100000, 100000, 100000, 100000, 100000, 100000, 100000, 100000, 100000, 100000, 100000, 100000, 100000, 100000, 100000, 100000, 100000, 100000, 100000, 100000, 100000, 100000, 100000, 100000, 100000, 100000, 100000, 100000, 100000, 100000, 100000, 100000, 100000, 100000, 100000, 100000, 100000, 100000, 100000, 100000, 100000, 100000, 100000, 100000, 100000, 100000, 100000, 100000, 100000, 100000, 100000, 100000, 100000, 100000, 100000, 100000, 100000, 100000, 100000, 100000, 100000, 100000, 100000, 100000, 100000, 100000, 100000, 100000, 100000, 100000, 100000, 100000, 100000, 100000, 100000, 100000, 100000, 100000, 100000, 100000, 100000, 100000, 100000, 100000, 100000, 100000, 100000, 100000, 100000, 100000, 100000, 100000, 100000, 100000, 100000, 100000, 100000, 100000, 100000, 100000, 100000, 100000, 100000, 100000, 100000, 100000, 100000, 100000, 100000, 100000, 100000, 100000, 500000, 500000, 500000, 500000, 500000, 500000, 500000, 500000, 500000, 500000, 500000, 500000, 500000, 500000, 500000, 500000, 500000, 500000, 500000, 500000, 500000, 500000, 500000, 500000, 500000, 500000, 500000, 500000, 500000, 500000, 500000, 500000, 500000, 500000, 500000, 500000, 500000, 500000, 500000, 500000, 500000, 500000, 500000, 500000, 500000, 500000, 500000, 500000, 500000, 500000, 500000, 500000, 500000, 500000, 500000, 500000, 500000, 500000, 500000, 500000, 500000, 500000, 500000, 500000, 500000, 500000, 500000, 500000, 500000, 500000, 500000, 500000, 500000, 500000, 500000, 500000, 500000, 500000, 500000, 500000, 500000, 500000, 500000, 500000, 500000, 500000, 500000, 500000, 500000, 500000, 500000, 500000, 500000, 500000, 500000, 500000, 500000, 500000, 500000, 500000, 500000, 500000, 500000, 500000, 500000, 500000, 500000, 500000, 500000, 500000, 500000, 500000, 500000, 500000, 500000, 500000, 500000, 500000, 500000, 500000, 500000, 500000, 500000, 500000, 500000, 500000, 500000, 500000, 500000, 500000, 500000, 500000, 500000, 500000, 500000, 500000, 500000, 500000, 500000, 500000, 500000, 500000, 500000, 500000, 500000, 500000, 500000, 500000, 500000, 500000, 500000, 500000, 500000, 500000, 500000, 500000, 500000, 500000, 500000, 500000, 500000, 500000, 500000, 500000, 500000, 500000, 500000, 500000, 500000, 500000, 500000, 500000, 500000, 500000, 500000, 500000, 500000, 500000, 500000, 500000, 500000, 500000, 500000, 500000, 500000, 500000, 500000, 500000, 500000, 500000, 500000, 500000, 500000, 500000, 500000, 500000, 500000, 500000, 500000, 500000, 500000, 500000, 500000, 500000, 500000, 500000, 500000, 500000, 500000, 500000, 500000, 500000, 500000, 500000, 500000, 500000, 500000, 500000, 500000, 500000, 500000, 500000, 500000, 500000, 500000, 500000, 500000, 500000, 500000, 500000, 500000, 500000, 500000, 500000, 500000, 500000, 500000, 500000, 500000, 500000, 500000, 500000, 500000, 500000, 500000, 500000, 500000, 500000, 500000, 500000, 500000, 500000, 500000, 500000, 500000, 500000, 500000, 500000, 500000, 500000, 500000, 500000, 500000, 500000, 500000, 500000, 500000, 500000, 500000, 500000, 500000, 500000, 500000, 500000, 500000, 500000, 500000, 500000, 500000, 500000, 500000, 500000, 500000, 500000, 500000, 500000, 500000, 500000, 500000, 500000, 500000, 500000, 500000, 500000, 500000, 500000, 500000, 500000, 500000, 500000, 500000, 500000, 500000, 500000, 500000, 500000, 500000, 500000, 500000, 500000, 500000, 500000, 500000, 500000, 500000, 500000, 500000, 500000, 500000, 500000, 500000, 500000, 500000, 500000, 500000, 500000, 500000, 500000, 500000, 500000, 500000, 500000, 500000, 500000, 500000, 500000, 500000, 500000, 500000, 500000, 500000, 500000, 500000, 500000, 500000, 500000, 500000, 500000, 500000, 500000, 500000, 500000, 500000, 500000, 500000, 500000, 500000, 500000, 500000, 500000, 500000, 500000, 500000, 500000, 500000, 500000, 500000, 500000, 500000, 500000, 500000, 500000, 500000, 500000, 500000, 500000, 500000, 500000, 500000, 500000, 500000, 500000, 500000, 500000, 500000, 500000, 500000, 500000, 500000, 500000, 500000, 500000, 500000, 500000, 500000, 500000, 500000, 500000, 500000, 500000, 500000, 500000, 500000, 500000, 500000, 500000, 500000, 500000, 500000, 500000, 500000, 500000, 500000, 500000, 500000, 500000, 500000, 500000, 500000, 500000, 500000, 500000, 500000, 500000, 500000, 500000, 500000, 500000, 500000, 500000, 500000, 500000, 500000, 500000, 500000, 500000, 500000, 500000, 500000, 500000, 500000, 500000, 500000, 500000, 500000, 500000, 500000, 500000, 500000, 500000, 500000, 500000, 500000, 500000, 500000, 500000, 500000, 500000, 500000, 500000, 500000, 500000, 500000, 500000, 500000, 500000, 500000, 500000, 500000, 500000, 500000, 500000, 500000, 500000, 500000, 500000, 500000, 500000, 500000, 500000, 500000, 500000, 500000, 500000, 500000, 500000, 500000, 500000, 500000, 500000, 500000, 500000, 500000, 500000, 500000, 500000, 500000, 500000, 500000, 500000, 500000, 500000, 500000, 500000, 1000000, 1000000, 1000000, 1000000, 1000000, 1000000, 1000000, 1000000, 1000000, 1000000, 1000000, 1000000, 1000000, 1000000, 1000000, 1000000, 1000000, 1000000, 1000000, 1000000, 1000000, 1000000, 1000000, 1000000, 1000000, 1000000, 1000000, 1000000, 1000000, 1000000, 1000000, 1000000, 1000000, 1000000, 1000000, 1000000, 1000000, 1000000, 1000000, 1000000, 1000000, 1000000, 1000000, 1000000, 1000000, 1000000, 1000000, 1000000, 1000000, 1000000, 1000000, 1000000, 1000000, 1000000, 1000000, 1000000, 1000000, 1000000, 1000000, 1000000, 1000000, 1000000, 1000000, 1000000, 1000000, 1000000, 1000000, 1000000, 1000000, 1000000, 1000000, 1000000, 1000000, 1000000, 1000000, 1000000, 1000000, 1000000, 1000000, 1000000, 1000000, 1000000, 1000000, 1000000, 1000000, 1000000, 1000000, 1000000, 1000000, 1000000, 1000000, 1000000, 1000000, 1000000, 1000000, 1000000, 1000000, 1000000, 1000000, 1000000, 1000000, 1000000, 1000000, 1000000, 1000000, 1000000, 1000000, 1000000, 1000000, 1000000, 1000000, 1000000, 1000000, 1000000, 1000000, 1000000, 1000000, 1000000, 1000000, 1000000, 1000000, 1000000, 1000000, 1000000, 1000000, 1000000, 1000000, 1000000, 1000000, 1000000, 1000000, 1000000, 1000000, 1000000, 1000000, 1000000, 1000000, 1000000, 1000000, 1000000, 1000000, 1000000, 1000000, 1000000, 1000000, 1000000, 1000000, 1000000, 1000000, 1000000, 1000000, 1000000, 1000000, 1000000, 1000000, 1000000, 1000000, 1000000, 1000000, 1000000, 1000000, 1000000, 1000000, 1000000, 1000000, 1000000, 1000000, 1000000, 1000000, 1000000, 1000000, 1000000, 1000000, 1000000, 1000000, 1000000, 1000000, 1000000, 1000000, 1000000, 1000000, 1000000, 1000000, 1000000, 1000000, 1000000, 1000000, 1000000, 1000000, 1000000, 1000000, 1000000, 1000000, 1000000, 1000000, 1000000, 1000000, 1000000, 1000000, 1000000, 1000000, 1000000, 1000000, 1000000, 1000000, 1000000, 1000000, 1000000, 1000000, 1000000, 1000000, 1000000, 1000000, 1000000, 1000000, 1000000, 1000000, 1000000, 1000000, 1000000, 1000000, 1000000, 1000000, 1000000, 1000000, 1000000, 1000000, 1000000, 1000000, 1000000, 1000000, 1000000, 1000000, 1000000, 1000000, 1000000, 1000000, 1000000, 1000000, 1000000, 1000000, 1000000, 1000000, 1000000, 1000000, 1000000, 1000000, 1000000, 1000000, 1000000, 1000000, 1000000, 1000000, 1000000, 1000000, 1000000, 1000000, 1000000, 1000000, 1000000, 1000000, 1000000, 1000000, 1000000, 1000000, 1000000, 1000000, 1000000, 1000000, 1000000, 1000000, 1000000, 1000000, 1000000, 1000000, 1000000, 1000000, 1000000, 1000000, 1000000, 1000000, 1000000, 1000000, 1000000, 1000000, 1000000, 1000000, 1000000, 1000000, 1000000, 1000000, 1000000, 1000000, 1000000, 1000000, 1000000, 1000000, 1000000, 1000000, 1000000, 1000000, 1000000, 1000000, 1000000, 1000000, 1000000, 1000000, 1000000, 1000000, 1000000, 1000000, 1000000, 1000000, 1000000, 1000000, 1000000, 1000000, 1000000, 1000000, 1000000, 1000000, 1000000, 1000000, 1000000, 1000000, 1000000, 1000000, 1000000, 1000000, 1000000, 1000000, 1000000, 1000000, 1000000, 1000000, 1000000, 1000000, 1000000, 1000000, 1000000, 1000000, 1000000, 1000000, 1000000, 1000000, 1000000, 1000000, 1000000, 1000000, 1000000, 1000000, 1000000, 1000000, 1000000, 1000000, 1000000, 1000000, 1000000, 1000000, 1000000, 1000000, 1000000, 1000000, 1000000, 1000000, 1000000, 1000000, 1000000, 1000000, 1000000, 1000000, 1000000, 1000000, 1000000, 1000000, 1000000, 1000000, 1000000, 1000000, 1000000, 1000000, 1000000, 1000000, 1000000, 1000000, 1000000, 1000000, 1000000, 1000000, 1000000, 1000000, 1000000, 1000000, 1000000, 1000000, 1000000, 1000000, 1000000, 1000000, 1000000, 1000000, 1000000, 1000000, 1000000, 1000000, 1000000, 1000000, 1000000, 1000000, 1000000, 1000000, 1000000, 1000000, 1000000, 1000000, 1000000, 1000000, 1000000, 1000000, 1000000, 1000000, 1000000, 1000000, 1000000, 1000000, 1000000, 1000000, 1000000, 1000000, 1000000, 1000000, 1000000, 1000000, 1000000, 1000000, 1000000, 1000000, 1000000, 1000000, 1000000, 1000000, 1000000, 1000000, 1000000, 1000000, 1000000, 1000000, 1000000, 1000000, 1000000, 1000000, 1000000, 1000000, 1000000, 1000000, 1000000, 1000000, 1000000, 1000000, 1000000, 1000000, 1000000, 1000000, 1000000, 1000000, 1000000, 1000000, 1000000, 1000000, 1000000, 1000000, 1000000, 1000000, 1000000, 1000000, 1000000, 1000000, 1000000, 1000000, 1000000, 1000000, 1000000, 1000000, 1000000, 1000000, 1000000, 1000000, 1000000, 1000000, 1000000, 1000000, 1000000, 1000000, 1000000, 1000000, 1000000, 1000000, 1000000, 1000000, 1000000, 1000000, 1000000, 1000000, 1000000, 1000000, 1000000, 1000000, 1000000, 1000000, 1000000, 1000000, 1000000, 1000000, 1000000, 1000000, 1000000, 1000000, 1000000, 1000000, 1000000, 1000000, 1000000, 1000000, 1000000, 1000000, 1000000, 1000000, 1000000, 1000000, 1000000, 1000000, 1000000, 1000000, 1000000, 1000000, 1000000, 1000000, 1000000, 1000000, 1000000, 1000000, 1000000, 1000000, 1000000, 1000000, 1000000, 1000000, 1000000, 1000000, 1000000, 1000000, 1000000, 1000000, 1000000, 1000000, 1000000, 1000000, 1000000, 1000000, 1000000, 1000000, 1000000, 1000000, 1000000, 1000000, 1000000, 1000000, 1000000, 1000000, 1000000, 1000000, 1000000, 1000000, 1000000, 1000000, 1000000, 1000000, 1000000, 1000000, 1000000, 1000000, 1000000, 1000000, 1000000, 1000000, 1000000, 1000000, 1000000, 1000000, 1000000, 1000000, 1000000, 1000000, 1000000, 1000000, 1000000, 1000000, 1000000, 1000000, 1000000, 1000000, 1000000, 1000000, 1000000, 1000000, 1000000, 1000000, 1000000, 1000000, 1000000, 1000000, 1000000, 1000000, 1000000, 1000000, 1000000, 1000000, 1000000, 1000000, 1000000, 1000000, 1000000, 1000000, 1000000, 1000000, 1000000, 1000000, 1000000, 1000000, 1000000, 1000000, 1000000, 1000000, 1000000, 1000000, 1000000, 1000000, 1000000, 1000000, 1000000, 1000000, 1000000, 1000000, 1000000, 1000000, 1000000, 1000000, 1000000, 1000000, 1000000, 1000000, 1000000, 1000000, 1000000, 1000000, 1000000, 1000000, 1000000, 1000000, 1000000, 1000000, 1000000, 1000000, 1000000, 1000000, 1000000, 1000000, 1000000, 1000000, 1000000, 1000000, 1000000, 1000000, 1000000, 1000000, 1000000, 1000000, 1000000, 1000000, 1000000, 1000000, 1000000, 1000000, 1000000, 1000000, 1000000, 1000000, 1000000, 1000000, 1000000, 1000000, 1000000, 1000000, 1000000, 1000000, 1000000, 1000000, 1000000, 1000000, 1000000, 1000000, 1000000, 1000000, 1000000, 1000000, 1000000, 1000000, 1000000, 1000000, 1000000, 1000000, 1000000, 1000000, 1000000, 1000000, 1000000, 1000000, 1000000, 1000000, 1000000, 1000000, 1000000, 1000000, 1000000, 1000000, 1000000, 1000000, 1000000, 1000000, 1000000, 1000000, 1000000, 1000000, 1000000, 1000000, 1000000, 1000000, 1000000, 1000000, 1000000, 1000000, 1000000, 1000000, 1000000, 1000000, 1000000, 1000000, 1000000, 1000000, 1000000, 1000000, 1000000, 1000000, 1000000, 1000000, 1000000, 1000000, 1000000, 1000000, 1000000, 1000000, 1000000, 1000000, 1000000, 1000000, 1000000, 1000000, 1000000, 1000000, 1000000, 1000000, 1000000, 1000000, 1000000, 1000000, 1000000, 1000000, 1000000, 1000000, 1000000, 1000000, 1000000, 1000000, 1000000, 1000000, 1000000, 1000000, 1000000, 1000000, 1000000, 1000000, 1000000, 1000000, 1000000, 1000000, 1000000, 1000000, 1000000, 1000000, 1000000, 1000000, 1000000, 1000000, 1000000, 1000000, 1000000, 1000000, 1000000, 1000000, 1000000, 1000000, 1000000, 1000000, 1000000, 1000000, 1000000, 1000000, 1000000, 1000000, 1000000, 1000000, 1000000, 1000000, 1000000, 1000000, 1000000, 1000000, 1000000, 1000000, 1000000, 1000000, 1000000, 1000000, 1000000, 1000000, 1000000, 1000000, 1000000, 1000000, 1000000, 1000000, 1000000, 1000000, 1000000, 1000000, 1000000, 1000000, 1000000, 1000000, 1000000, 1000000, 1000000, 1000000, 1000000, 1000000, 1000000, 1000000, 1000000, 1000000, 1000000, 1000000, 1000000, 1000000, 1000000, 1000000, 1000000, 1000000, 1000000, 1000000, 1000000, 1000000, 1000000, 1000000, 1000000, 1000000, 1000000, 1000000, 1000000, 1000000, 1000000, 1000000, 1000000, 1000000, 1000000, 1000000, 1000000, 1000000, 1000000, 1000000, 1000000, 1000000, 1000000, 1000000, 1000000, 1000000, 1000000, 1000000, 1000000, 1000000, 1000000, 1000000, 1000000, 1000000, 1000000, 1000000, 1000000, 1000000, 1000000, 1000000, 1000000, 1000000, 1000000, 1000000, 1000000, 1000000, 1000000, 1000000, 1000000, 1000000, 1000000, 1000000, 1000000, 1000000, 1000000, 1000000, 1000000, 1000000, 1000000, 1000000, 1000000, 1000000, 1000000, 1000000, 1000000, 1000000, 1000000, 1000000, 1000000, 1000000, 1000000, 1000000, 1000000, 1000000, 1000000, 1000000, 1000000, 1000000, 1000000, 1000000, 1000000, 1000000, 1000000, 1000000, 1000000, 1000000, 1000000, 1000000, 1000000, 1000000, 1000000, 1000000, 1000000, 1000000, 1000000, 1000000, 1000000, 1000000, 1000000, 1000000, 1000000, 1000000, 1000000, 1000000, 1000000, 1000000, 1000000, 1000000, 1000000, 1000000, 1000000, 1000000, 1000000, 1000000, 1000000, 1000000, 1000000, 1000000, 1000000, 1000000, 1000000, 1000000, 1000000, 1000000, 1000000, 1000000, 1000000, 1000000, 1000000, 1000000, 1000000, 1000000, 1000000, 1000000, 1000000, 1000000, 1000000, 1000000, 1000000, 1000000, 1000000, 1000000, 1000000, 1000000, 1000000, 1000000, 1000000, 1000000, 1000000, 1000000, 1000000, 1000000, 1000000, 1000000, 1000000, 1000000, 1000000, 1000000, 1000000, 1000000, 1000000, 1000000, 1000000, 1000000, 1000000, 1000000, 1000000, 1000000, 1000000, 1000000, 1000000, 1000000, 1000000, 1000000, 1000000, 1000000, 1000000, 1000000, 1000000, 1000000, 1000000, 1000000, 1000000, 1000000, 1000000, 1000000, 1000000, 1000000, 1000000, 1000000, 1000000, 1000000, 1000000, 1000000, 1000000, 1000000, 1000000, 1000000, 1000000, 1000000, 1000000, 1000000, 1000000, 1000000, 1000000, 1000000, 1000000, 1000000, 1000000, 1000000, 1000000, 1000000, 1000000, 1000000, 1000000, 1000000, 1000000, 1000000, 1000000, 1000000, 1000000, 1000000, 1000000, 1000000, 1000000, 1000000, 1000000, 1000000, 1000000, 1000000, 1000000, 1000000, 1000000, 1000000, 1000000, 1000000, 1000000, 1000000, 1000000, 1000000, 1000000, 1000000, 1000000, 1000000, 1000000, 1000000, 1000000, 1000000, 1000000, 1000000, 1000000, 1000000, 1000000, 1000000, 1000000, 1000000, 1000000, 1000000, 1000000, 1000000, 1000000, 1000000, 1000000, 1000000, 1000000, 1000000, 1000000, 1000000, 1000000, 1000000, 1000000, 1000000, 1000000, 1000000, 1000000, 1000000, 1000000, 1000000, 1000000, 1000000, 1000000, 1000000, 1000000, 1000000, 1000000, 1000000, 1000000, 1000000, 1000000, 1000000, 1000000, 1000000, 1000000, 1000000, 1000000, 1000000, 1000000, 1000000, 1000000, 1000000, 1000000, 1000000, 1000000, 1000000, 1000000, 1000000, 1000000, 1000000, 1000000, 1000000, 1000000, 1000000, 1000000, 1000000, 1000000, 1000000, 1000000, 1000000, 1000000, 1000000, 1000000, 1000000, 1000000, 1000000, 1000000, 1000000, 1000000, 1000000, 1000000, 1000000, 1000000, 1000000, 1000000, 1000000, 1000000, 1000000, 1000000, 1000000, 1000000, 1000000, 1000000, 1000000, 1000000, 1000000, 1000000, 1000000, 1000000, 1000000, 1000000, 1000000, 1000000, 1000000, 1000000, 1000000, 1000000, 1000000, 1000000, 1000000, 1000000, 1000000, 1000000, 1000000, 1000000, 1000000, 1000000, 1000000, 1000000, 1000000, 1000000, 1000000, 1000000, 1000000, 1000000, 1000000, 1000000, 1000000, 1000000, 1000000, 1000000, 1000000, 1000000, 1000000, 1000000, 1000000, 1000000, 1000000, 1000000, 1000000, 1000000, 1000000, 1000000, 1000000, 1000000, 1000000, 1000000, 1000000, 1000000, 1000000, 1000000, 1000000, 1000000, 1000000, 1000000, 1000000, 1000000, 1000000, 1000000, 1000000, 1000000, 1000000, 1000000, 1000000, 1000000, 1000000, 1000000, 1000000, 1000000, 1000000, 1000000, 1000000, 1000000, 1000000, 1000000, 1000000, 1000000, 1000000, 1000000, 1000000, 1000000, 1000000, 1000000, 1000000, 1000000, 1000000, 1000000, 1000000, 1000000, 1000000, 1000000, 1000000, 1000000, 1000000, 1000000, 1000000, 1000000, 1000000, 1000000, 1000000, 1000000, 1000000, 1000000, 1000000, 1000000, 1000000, 1000000, 1000000, 1000000, 1000000, 1000000, 1000000, 1000000, 1000000, 1000000, 1000000, 1000000, 1000000, 1000000, 1000000, 1000000, 1000000, 1000000, 1000000, 1000000, 1000000, 1000000, 1000000, 1000000, 1000000, 1000000, 1000000, 1000000, 1000000, 1000000, 1000000, 1000000, 1000000, 1000000, 1000000, 1000000, 1000000, 1000000, 1000000, 1000000, 1000000, 1000000, 1000000, 1000000, 1000000, 1000000, 1000000, 1000000, 1000000, 1000000, 1000000, 1000000, 1000000, 1000000, 1000000, 1000000, 1000000, 1000000, 1000000, 1000000, 1000000, 1000000, 1000000, 1000000, 1000000, 1000000, 1000000, 1000000, 1000000, 1000000, 1000000, 1000000, 1000000, 1000000, 1000000, 1000000, 1000000, 1000000, 1000000, 1000000, 1000000, 1000000, 1000000, 1000000, 1000000, 1000000, 1000000, 1000000, 1000000, 1000000, 1000000, 1000000, 1000000, 1000000, 1000000, 5000000, 5000000, 5000000, 5000000, 5000000, 5000000, 5000000, 5000000, 5000000, 5000000, 5000000, 5000000, 5000000, 5000000, 5000000, 5000000, 5000000, 5000000, 5000000, 5000000, 5000000, 5000000, 5000000, 5000000, 5000000, 5000000, 5000000, 5000000, 5000000, 5000000, 5000000, 5000000, 5000000, 5000000, 5000000, 5000000, 5000000, 5000000, 5000000, 5000000, 5000000, 5000000, 5000000, 5000000, 5000000, 5000000, 5000000, 5000000, 5000000, 5000000, 5000000, 5000000, 5000000, 5000000, 5000000, 5000000, 5000000, 5000000, 5000000, 5000000, 5000000, 5000000, 5000000, 5000000, 5000000, 5000000, 5000000, 5000000, 5000000, 5000000, 5000000, 5000000, 5000000, 5000000, 5000000, 5000000, 5000000, 5000000, 5000000, 5000000, 5000000, 5000000, 5000000, 5000000, 5000000, 5000000, 5000000, 5000000, 5000000, 5000000, 5000000, 5000000, 5000000, 5000000, 5000000, 5000000, 5000000, 5000000, 5000000, 5000000, 5000000, 5000000, 5000000, 5000000, 5000000, 5000000, 5000000, 5000000, 5000000, 5000000, 5000000, 5000000, 5000000, 5000000, 5000000, 5000000, 5000000, 5000000, 5000000, 5000000, 5000000, 5000000, 5000000, 5000000, 5000000, 5000000, 5000000, 5000000, 5000000, 5000000, 5000000, 5000000, 5000000, 5000000, 5000000, 5000000, 5000000, 5000000, 5000000, 5000000, 5000000, 5000000, 5000000, 5000000, 5000000, 5000000, 5000000, 5000000, 5000000, 5000000, 5000000, 5000000, 5000000, 5000000, 5000000, 5000000, 5000000, 5000000, 5000000, 5000000, 5000000, 5000000, 5000000, 5000000, 5000000, 5000000, 5000000, 5000000, 5000000, 5000000, 5000000, 5000000, 5000000, 5000000, 5000000, 5000000, 5000000, 5000000, 5000000, 5000000, 5000000, 5000000, 5000000, 5000000, 5000000, 5000000, 5000000, 5000000, 5000000, 5000000, 5000000, 5000000, 5000000, 5000000, 5000000, 5000000, 5000000, 5000000, 5000000, 5000000, 5000000, 5000000, 5000000, 5000000, 5000000, 5000000, 5000000, 5000000, 5000000, 5000000, 5000000, 5000000, 5000000, 5000000, 5000000, 5000000, 5000000, 5000000, 5000000, 5000000, 5000000, 5000000, 5000000, 5000000, 5000000, 5000000, 5000000, 5000000, 5000000, 5000000, 5000000, 5000000, 5000000, 5000000, 5000000, 5000000, 5000000, 5000000, 5000000, 5000000, 5000000, 5000000, 5000000, 5000000, 5000000, 5000000, 5000000, 5000000, 5000000, 5000000, 5000000, 5000000, 5000000, 5000000, 5000000, 5000000, 5000000, 5000000, 5000000, 5000000, 5000000, 5000000, 5000000, 5000000, 5000000, 5000000, 5000000, 5000000, 5000000, 5000000, 5000000, 5000000, 5000000, 5000000, 5000000, 5000000, 5000000, 5000000, 5000000, 5000000, 5000000, 5000000, 5000000, 5000000, 5000000, 5000000, 5000000, 5000000, 5000000, 5000000, 5000000, 5000000, 5000000, 5000000, 5000000, 5000000, 5000000, 5000000, 5000000, 5000000, 5000000, 5000000, 5000000, 5000000, 5000000, 5000000, 5000000, 5000000, 5000000, 5000000, 5000000, 5000000, 5000000, 5000000, 5000000, 5000000, 5000000, 5000000, 5000000, 5000000, 5000000, 5000000, 5000000, 5000000, 5000000, 5000000, 5000000, 5000000, 5000000, 5000000, 5000000, 5000000, 5000000, 5000000, 5000000, 5000000, 5000000, 5000000, 5000000, 5000000, 5000000, 5000000, 5000000, 5000000, 5000000, 5000000, 5000000, 5000000, 5000000, 5000000, 5000000, 5000000, 5000000, 5000000, 5000000, 5000000, 5000000, 5000000, 5000000, 5000000, 5000000, 5000000, 5000000, 5000000, 5000000, 5000000, 5000000, 5000000, 5000000, 5000000, 5000000, 5000000, 5000000, 5000000, 5000000, 5000000, 5000000, 5000000, 5000000, 5000000, 5000000, 5000000, 5000000, 5000000, 5000000, 5000000, 5000000, 5000000, 5000000, 5000000, 5000000, 5000000, 5000000, 5000000, 5000000, 5000000, 5000000, 5000000, 5000000, 5000000, 5000000, 5000000, 5000000, 5000000, 5000000, 5000000, 5000000, 5000000, 5000000, 5000000, 5000000, 5000000, 5000000, 5000000, 5000000, 5000000, 5000000, 5000000, 5000000, 5000000, 5000000, 5000000, 5000000, 5000000, 5000000, 5000000, 5000000, 5000000, 5000000, 5000000, 5000000, 5000000, 5000000, 5000000, 5000000, 5000000, 5000000, 5000000, 5000000, 5000000, 5000000, 5000000, 5000000, 5000000, 5000000, 5000000, 5000000, 5000000, 5000000, 5000000, 5000000, 5000000, 5000000, 5000000, 5000000, 5000000, 5000000, 5000000, 5000000, 5000000, 5000000, 5000000, 5000000, 5000000, 5000000, 5000000, 5000000, 5000000, 5000000, 5000000, 5000000, 5000000, 5000000, 5000000, 5000000, 5000000, 5000000, 5000000, 5000000, 5000000, 5000000, 5000000, 5000000, 5000000, 5000000, 5000000, 5000000, 5000000, 5000000, 5000000, 5000000, 5000000, 5000000, 5000000, 5000000, 5000000, 5000000, 5000000, 5000000, 5000000, 5000000, 5000000, 5000000, 5000000, 5000000, 5000000, 5000000, 5000000, 5000000, 5000000, 5000000, 5000000, 5000000, 5000000, 5000000, 5000000, 5000000, 5000000, 5000000, 5000000, 5000000, 5000000, 5000000, 5000000, 5000000, 5000000, 5000000, 5000000, 5000000, 5000000, 5000000, 5000000, 5000000, 5000000, 5000000, 5000000, 5000000, 5000000, 5000000, 5000000, 5000000, 5000000, 5000000, 5000000, 5000000, 5000000, 5000000, 5000000, 5000000, 5000000, 5000000, 5000000, 5000000, 5000000, 5000000, 5000000, 5000000, 5000000, 5000000, 5000000, 5000000, 5000000, 5000000, 5000000, 5000000, 5000000, 5000000, 5000000, 5000000, 5000000, 5000000, 5000000, 5000000, 5000000, 5000000, 5000000, 5000000, 5000000, 5000000, 5000000, 5000000, 5000000, 5000000, 5000000, 5000000, 5000000, 5000000, 5000000, 5000000, 5000000, 5000000, 5000000, 5000000, 5000000, 5000000, 5000000, 5000000, 5000000, 5000000, 5000000, 5000000, 5000000, 5000000, 5000000, 5000000, 5000000, 5000000, 10000000, 10000000, 10000000, 10000000, 10000000, 10000000, 10000000, 10000000, 10000000, 10000000, 10000000, 10000000, 10000000, 10000000, 10000000, 10000000, 10000000, 10000000, 10000000, 10000000, 10000000, 10000000, 10000000, 10000000, 10000000, 10000000, 10000000, 10000000, 10000000, 10000000, 10000000, 10000000, 10000000, 10000000, 10000000, 10000000, 10000000, 10000000, 10000000, 10000000, 10000000, 10000000, 10000000, 10000000, 10000000, 10000000, 10000000, 10000000, 10000000, 10000000, 10000000, 10000000, 10000000, 10000000, 10000000, 10000000, 10000000, 10000000, 10000000, 10000000, 10000000, 10000000, 10000000, 10000000, 10000000, 10000000, 10000000, 10000000, 10000000, 10000000, 10000000, 10000000, 10000000, 10000000, 10000000, 10000000, 10000000, 10000000, 10000000, 10000000, 10000000, 10000000, 10000000, 10000000, 10000000, 10000000, 10000000, 10000000, 10000000, 10000000, 10000000, 10000000, 10000000, 10000000, 10000000, 10000000, 10000000, 10000000, 10000000, 10000000, 10000000, 10000000, 10000000, 10000000, 10000000, 10000000, 10000000, 10000000, 10000000, 10000000, 10000000, 10000000, 10000000, 10000000, 10000000, 10000000, 10000000, 10000000, 10000000, 10000000, 10000000, 10000000, 10000000, 10000000, 10000000, 10000000, 10000000, 10000000, 10000000, 10000000, 10000000, 10000000, 10000000, 10000000, 10000000, 10000000, 10000000, 10000000, 10000000, 10000000, 10000000, 10000000, 10000000, 10000000, 10000000, 10000000, 10000000, 10000000, 10000000, 10000000, 10000000, 10000000, 10000000, 10000000, 10000000, 10000000, 10000000, 10000000, 10000000, 10000000, 10000000, 10000000, 10000000, 10000000, 10000000, 10000000, 10000000, 10000000, 10000000, 10000000, 10000000, 10000000, 10000000, 10000000, 10000000, 10000000, 10000000, 10000000, 10000000, 10000000, 10000000, 10000000, 10000000, 10000000, 10000000, 10000000, 10000000, 10000000, 10000000, 10000000, 10000000, 10000000, 10000000, 10000000, 10000000, 10000000, 10000000, 10000000, 10000000, 10000000, 10000000, 10000000, 10000000, 10000000, 10000000, 10000000, 10000000, 10000000, 10000000, 10000000, 10000000, 10000000, 10000000, 10000000, 10000000, 10000000, 10000000, 10000000, 10000000, 10000000, 10000000, 10000000, 10000000, 10000000, 10000000, 10000000, 10000000, 10000000, 10000000, 10000000, 10000000, 10000000, 10000000, 10000000, 10000000, 10000000, 10000000, 10000000, 10000000, 10000000, 10000000, 10000000, 10000000, 10000000, 10000000, 10000000, 10000000, 10000000, 10000000, 10000000, 10000000, 10000000, 10000000, 10000000, 10000000, 10000000, 10000000, 10000000, 10000000, 10000000, 10000000, 10000000, 10000000, 10000000, 10000000, 10000000, 10000000, 10000000, 10000000, 10000000, 10000000, 10000000, 10000000, 10000000, 10000000, 10000000, 10000000, 10000000, 10000000, 10000000, 10000000, 10000000, 10000000, 10000000, 10000000, 10000000, 10000000, 10000000, 10000000, 10000000, 10000000, 10000000, 10000000, 10000000, 10000000, 10000000, 10000000, 10000000, 10000000, 10000000, 10000000, 10000000, 10000000, 10000000, 10000000, 10000000, 10000000, 10000000, 10000000, 10000000, 10000000, 10000000, 10000000, 10000000, 10000000, 10000000, 10000000, 10000000, 10000000, 10000000, 10000000, 10000000, 10000000, 10000000, 10000000, 10000000, 10000000, 10000000, 10000000, 10000000, 10000000, 10000000, 10000000, 10000000, 10000000, 10000000, 10000000, 10000000, 10000000, 10000000, 10000000, 10000000, 10000000, 10000000, 10000000, 10000000, 10000000, 10000000, 10000000, 10000000, 10000000, 10000000, 10000000, 10000000, 10000000, 10000000, 10000000, 10000000, 10000000, 10000000, 10000000, 10000000, 10000000, 10000000, 10000000, 10000000, 10000000, 10000000, 10000000, 10000000, 10000000, 10000000, 10000000, 10000000, 10000000, 10000000, 10000000, 10000000, 10000000, 10000000, 10000000, 10000000, 10000000, 10000000, 10000000, 10000000, 10000000, 10000000, 10000000, 10000000, 10000000, 10000000, 10000000, 10000000, 10000000, 10000000, 10000000, 10000000, 10000000, 10000000, 10000000, 10000000, 10000000, 10000000, 10000000, 10000000, 10000000, 10000000, 10000000, 10000000, 10000000, 10000000, 10000000, 10000000, 10000000, 10000000, 10000000, 10000000, 10000000, 10000000, 10000000, 10000000, 10000000, 10000000, 10000000, 10000000, 10000000, 10000000, 10000000, 10000000, 10000000, 10000000, 10000000, 10000000, 10000000, 10000000, 10000000, 10000000, 10000000, 10000000, 10000000, 10000000, 10000000, 10000000, 10000000, 10000000, 10000000, 10000000, 10000000, 10000000, 10000000, 10000000, 10000000, 10000000, 10000000, 10000000, 10000000, 10000000, 10000000, 10000000, 10000000, 10000000, 10000000, 10000000, 10000000, 10000000, 10000000, 10000000, 10000000, 10000000, 10000000, 10000000, 10000000, 10000000, 10000000, 10000000, 10000000, 10000000, 10000000, 10000000, 10000000, 10000000, 10000000, 10000000, 10000000, 10000000, 10000000, 10000000, 10000000, 10000000, 10000000, 10000000, 10000000, 10000000, 10000000, 10000000, 10000000, 10000000, 10000000, 10000000, 10000000, 10000000, 10000000, 10000000, 10000000, 10000000, 10000000, 10000000, 10000000, 10000000, 10000000, 10000000, 10000000, 10000000, 10000000, 10000000, 10000000, 10000000, 10000000, 10000000, 10000000, 10000000, 10000000, 10000000, 10000000, 10000000, 10000000, 10000000, 10000000, 10000000, 10000000, 10000000, 10000000, 10000000, 10000000, 10000000, 10000000, 10000000, 10000000, 10000000, 10000000, 10000000, 10000000, 10000000, 10000000, 10000000, 10000000, 10000000, 10000000, 10000000, 10000000, 10000000, 10000000, 10000000, 10000000, 10000000, 10000000, 10000000, 10000000, 10000000, 10000000, 10000000, 10000000, 10000000, 10000000, 10000000, 10000000, 10000000, 10000000, 10000000, 10000000, 10000000, 10000000, 10000000, 10000000, 10000000, 10000000, 10000000, 10000000, 10000000, 10000000, 10000000, 10000000, 10000000, 10000000, 10000000, 10000000, 10000000, 10000000, 10000000, 10000000, 10000000, 10000000, 10000000, 10000000, 10000000, 10000000, 10000000, 10000000, 10000000, 10000000, 10000000, 10000000, 10000000, 10000000, 10000000, 10000000, 10000000, 10000000, 10000000, 10000000, 10000000, 10000000, 10000000, 10000000, 10000000, 10000000, 10000000, 10000000, 10000000, 10000000, 10000000, 10000000, 10000000, 10000000, 10000000, 10000000, 10000000, 10000000, 10000000, 10000000, 10000000, 10000000, 10000000, 10000000, 10000000, 10000000, 10000000, 10000000, 10000000, 10000000, 10000000, 10000000, 10000000, 10000000, 10000000, 10000000, 10000000, 10000000, 10000000, 10000000, 10000000, 10000000, 10000000, 10000000, 10000000, 10000000, 10000000, 10000000, 10000000, 10000000, 10000000, 10000000, 10000000, 10000000, 10000000, 10000000, 10000000, 10000000, 10000000, 10000000, 10000000, 10000000, 10000000, 10000000, 10000000, 10000000, 10000000, 10000000, 10000000, 10000000, 10000000, 10000000, 10000000, 10000000, 10000000, 10000000, 10000000, 10000000, 10000000, 10000000, 10000000, 10000000, 10000000, 10000000, 10000000, 10000000, 10000000, 10000000, 10000000, 10000000, 10000000, 10000000, 10000000, 10000000, 10000000, 10000000, 10000000, 10000000, 10000000, 10000000, 10000000, 10000000, 10000000, 10000000, 10000000, 10000000, 10000000, 10000000, 10000000, 10000000, 10000000, 10000000, 10000000, 10000000, 10000000, 10000000, 10000000, 10000000, 10000000, 10000000, 10000000, 10000000, 10000000, 10000000, 10000000, 10000000, 10000000, 10000000, 10000000, 10000000, 10000000, 10000000, 10000000, 10000000, 10000000, 10000000, 10000000, 10000000, 10000000, 10000000, 10000000, 10000000, 10000000, 10000000, 10000000, 10000000, 10000000, 10000000, 10000000, 10000000, 10000000, 10000000, 10000000, 10000000, 10000000, 10000000, 10000000, 10000000, 10000000, 10000000, 10000000, 10000000, 10000000, 10000000, 10000000, 10000000, 10000000, 10000000, 10000000, 10000000, 10000000, 10000000, 10000000, 10000000, 10000000, 10000000, 10000000, 10000000, 10000000, 10000000, 10000000, 10000000, 10000000, 10000000, 10000000, 10000000, 10000000, 10000000, 10000000, 10000000, 10000000, 10000000, 10000000, 10000000, 10000000, 10000000, 10000000, 10000000, 10000000, 10000000, 10000000, 10000000, 10000000, 10000000, 10000000, 10000000, 10000000, 10000000, 10000000, 10000000, 10000000, 10000000, 10000000, 10000000, 10000000, 10000000, 10000000, 10000000, 10000000, 10000000, 10000000, 10000000, 10000000, 10000000, 10000000, 10000000, 10000000, 10000000, 10000000, 10000000, 10000000, 10000000, 10000000, 10000000, 10000000, 10000000, 10000000, 10000000, 10000000, 10000000, 10000000, 10000000, 10000000, 10000000, 10000000, 10000000, 10000000, 10000000, 10000000, 10000000, 10000000, 10000000, 10000000, 10000000, 10000000, 10000000, 10000000, 10000000, 10000000, 10000000, 10000000, 10000000, 10000000, 10000000, 10000000, 10000000, 10000000, 10000000, 10000000, 10000000, 10000000, 10000000, 10000000, 10000000, 10000000, 10000000, 10000000, 10000000, 10000000, 10000000, 10000000, 10000000, 10000000, 10000000, 10000000, 10000000, 10000000, 10000000, 10000000, 10000000, 10000000, 10000000, 10000000, 10000000, 10000000, 10000000, 10000000, 10000000, 10000000, 10000000, 10000000, 10000000, 10000000, 10000000, 10000000, 10000000, 10000000, 10000000, 10000000, 10000000, 10000000, 10000000, 10000000, 10000000, 10000000, 10000000, 10000000, 10000000, 10000000, 10000000, 10000000, 10000000, 50000000, 50000000, 50000000, 50000000, 50000000, 50000000, 50000000, 50000000, 50000000, 50000000, 50000000, 50000000, 50000000, 50000000, 50000000, 50000000, 50000000, 50000000, 50000000, 50000000, 50000000, 50000000, 50000000, 50000000, 50000000, 50000000, 50000000, 50000000, 50000000, 50000000, 50000000, 50000000, 50000000, 50000000, 50000000, 50000000, 50000000, 50000000, 50000000, 50000000, 50000000, 50000000, 50000000, 50000000, 50000000, 50000000, 50000000, 50000000, 50000000, 50000000, 50000000, 50000000, 50000000, 50000000, 50000000, 50000000, 50000000, 50000000, 50000000, 50000000, 50000000, 50000000, 50000000, 50000000, 50000000, 50000000, 50000000, 50000000, 50000000, 50000000, 50000000, 50000000, 50000000, 50000000, 50000000, 50000000, 50000000, 50000000, 50000000, 50000000, 50000000, 50000000, 50000000, 50000000, 50000000, 50000000, 50000000, 50000000, 50000000, 50000000, 50000000, 50000000, 50000000, 50000000, 50000000, 50000000, 50000000, 50000000, 50000000, 50000000, 50000000, 50000000, 50000000, 50000000, 50000000, 50000000, 50000000, 50000000, 50000000, 50000000, 50000000, 50000000, 50000000, 50000000, 50000000, 50000000, 50000000, 50000000, 50000000, 50000000, 50000000, 50000000, 50000000, 50000000, 50000000, 50000000, 50000000, 50000000, 50000000, 50000000, 50000000, 50000000, 50000000, 50000000, 50000000, 50000000, 50000000, 50000000, 50000000, 50000000, 50000000, 50000000, 50000000, 50000000, 50000000, 50000000, 50000000, 50000000, 50000000, 50000000, 50000000, 50000000, 50000000, 50000000, 50000000, 50000000, 50000000, 50000000, 50000000, 50000000, 50000000, 50000000, 50000000, 50000000, 50000000, 50000000, 50000000, 50000000, 50000000, 50000000, 50000000, 50000000, 50000000, 50000000, 50000000, 50000000, 50000000, 50000000, 50000000, 50000000, 50000000, 50000000, 50000000, 50000000, 50000000, 50000000, 50000000, 50000000, 50000000, 50000000, 50000000, 50000000, 50000000, 50000000, 50000000, 50000000, 50000000, 50000000, 50000000, 50000000, 50000000, 50000000, 100000000, 100000000, 100000000, 100000000, 100000000, 100000000, 100000000, 100000000, 100000000, 100000000, 100000000, 100000000, 100000000, 100000000, 100000000, 100000000, 100000000, 100000000, 100000000, 100000000, 100000000, 100000000, 100000000, 100000000, 100000000, 100000000, 100000000, 100000000, 100000000, 100000000, 100000000, 100000000, 100000000, 100000000, 100000000, 100000000, 100000000, 100000000, 100000000, 100000000, 100000000, 100000000, 100000000, 100000000, 100000000, 100000000, 100000000, 100000000, 100000000, 100000000, 100000000, 100000000, 100000000, 100000000, 100000000, 100000000, 100000000, 100000000, 100000000, 100000000, 100000000, 100000000, 100000000, 100000000, 100000000, 100000000, 100000000, 100000000, 100000000, 100000000, 100000000, 100000000, 100000000, 100000000, 100000000, 100000000, 100000000, 100000000, 100000000, 100000000, 100000000, 100000000, 100000000, 100000000, 100000000, 100000000, 100000000, 100000000, 100000000, 100000000, 100000000, 100000000, 100000000, 100000000, 100000000, 100000000, 100000000, 100000000, 100000000, 100000000, 100000000, 100000000, 100000000, 100000000, 100000000, 100000000, 100000000, 100000000, 100000000, 100000000, 100000000, 100000000, 100000000, 100000000, 100000000, 100000000, 100000000, 100000000, 100000000, 100000000, 100000000, 100000000, 100000000, 100000000, 100000000, 100000000, 100000000, 100000000, 100000000, 100000000, 100000000, 100000000, 100000000, 100000000, 100000000, 100000000, 100000000, 100000000, 100000000, 100000000, 100000000, 100000000, 100000000, 100000000, 100000000, 100000000, 100000000, 100000000, 100000000, 100000000, 100000000, 100000000, 100000000, 100000000, 100000000, 100000000, 100000000, 100000000, 100000000, 100000000, 100000000, 100000000, 100000000, 100000000, 100000000, 100000000, 100000000, 100000000, 100000000, 100000000, 100000000, 100000000, 100000000, 100000000, 100000000, 100000000, 100000000, 100000000, 100000000, 100000000, 100000000, 100000000, 100000000, 100000000, 100000000, 100000000, 100000000, 100000000, 100000000, 500000000, 500000000, 500000000, 500000000, 500000000, 500000000, 500000000, 500000000, 500000000, 500000000, 500000000, 500000000, 500000000, 500000000, 500000000, 500000000, 500000000, 500000000, 500000000, 500000000, 500000000, 500000000, 500000000, 500000000, 1000000000, 1000000000, 1000000000, 1000000000, 1000000000, 1000000000, 1000000000, 1000000000, 1000000000, 1000000000, 1000000000, 1000000000, 1000000000, 1000000000, 1000000000, 1000000000, 1000000000, 1000000000, 1000000000, 1000000000], \"y0\": \" \", \"yaxis\": \"y\"}],\n",
              "                        {\"boxmode\": \"group\", \"legend\": {\"tracegroupgap\": 0}, \"margin\": {\"t\": 60}, \"template\": {\"data\": {\"bar\": [{\"error_x\": {\"color\": \"#2a3f5f\"}, \"error_y\": {\"color\": \"#2a3f5f\"}, \"marker\": {\"line\": {\"color\": \"#E5ECF6\", \"width\": 0.5}}, \"type\": \"bar\"}], \"barpolar\": [{\"marker\": {\"line\": {\"color\": \"#E5ECF6\", \"width\": 0.5}}, \"type\": \"barpolar\"}], \"carpet\": [{\"aaxis\": {\"endlinecolor\": \"#2a3f5f\", \"gridcolor\": \"white\", \"linecolor\": \"white\", \"minorgridcolor\": \"white\", \"startlinecolor\": \"#2a3f5f\"}, \"baxis\": {\"endlinecolor\": \"#2a3f5f\", \"gridcolor\": \"white\", \"linecolor\": \"white\", \"minorgridcolor\": \"white\", \"startlinecolor\": \"#2a3f5f\"}, \"type\": \"carpet\"}], \"choropleth\": [{\"colorbar\": {\"outlinewidth\": 0, \"ticks\": \"\"}, \"type\": \"choropleth\"}], \"contour\": [{\"colorbar\": {\"outlinewidth\": 0, \"ticks\": \"\"}, \"colorscale\": [[0.0, \"#0d0887\"], [0.1111111111111111, \"#46039f\"], [0.2222222222222222, \"#7201a8\"], [0.3333333333333333, \"#9c179e\"], [0.4444444444444444, \"#bd3786\"], [0.5555555555555556, \"#d8576b\"], [0.6666666666666666, \"#ed7953\"], [0.7777777777777778, \"#fb9f3a\"], [0.8888888888888888, \"#fdca26\"], [1.0, \"#f0f921\"]], \"type\": \"contour\"}], \"contourcarpet\": [{\"colorbar\": {\"outlinewidth\": 0, \"ticks\": \"\"}, \"type\": \"contourcarpet\"}], \"heatmap\": [{\"colorbar\": {\"outlinewidth\": 0, \"ticks\": \"\"}, \"colorscale\": [[0.0, \"#0d0887\"], [0.1111111111111111, \"#46039f\"], [0.2222222222222222, \"#7201a8\"], [0.3333333333333333, \"#9c179e\"], [0.4444444444444444, \"#bd3786\"], [0.5555555555555556, \"#d8576b\"], [0.6666666666666666, \"#ed7953\"], [0.7777777777777778, \"#fb9f3a\"], [0.8888888888888888, \"#fdca26\"], [1.0, \"#f0f921\"]], \"type\": \"heatmap\"}], \"heatmapgl\": [{\"colorbar\": {\"outlinewidth\": 0, \"ticks\": \"\"}, \"colorscale\": [[0.0, \"#0d0887\"], [0.1111111111111111, \"#46039f\"], [0.2222222222222222, \"#7201a8\"], [0.3333333333333333, \"#9c179e\"], [0.4444444444444444, \"#bd3786\"], [0.5555555555555556, \"#d8576b\"], [0.6666666666666666, \"#ed7953\"], [0.7777777777777778, \"#fb9f3a\"], [0.8888888888888888, \"#fdca26\"], [1.0, \"#f0f921\"]], \"type\": \"heatmapgl\"}], \"histogram\": [{\"marker\": {\"colorbar\": {\"outlinewidth\": 0, \"ticks\": \"\"}}, \"type\": \"histogram\"}], \"histogram2d\": [{\"colorbar\": {\"outlinewidth\": 0, \"ticks\": \"\"}, \"colorscale\": [[0.0, \"#0d0887\"], [0.1111111111111111, \"#46039f\"], [0.2222222222222222, \"#7201a8\"], [0.3333333333333333, \"#9c179e\"], [0.4444444444444444, \"#bd3786\"], [0.5555555555555556, \"#d8576b\"], [0.6666666666666666, \"#ed7953\"], [0.7777777777777778, \"#fb9f3a\"], [0.8888888888888888, \"#fdca26\"], [1.0, \"#f0f921\"]], \"type\": \"histogram2d\"}], \"histogram2dcontour\": [{\"colorbar\": {\"outlinewidth\": 0, \"ticks\": \"\"}, \"colorscale\": [[0.0, \"#0d0887\"], [0.1111111111111111, \"#46039f\"], [0.2222222222222222, \"#7201a8\"], [0.3333333333333333, \"#9c179e\"], [0.4444444444444444, \"#bd3786\"], [0.5555555555555556, \"#d8576b\"], [0.6666666666666666, \"#ed7953\"], [0.7777777777777778, \"#fb9f3a\"], [0.8888888888888888, \"#fdca26\"], [1.0, \"#f0f921\"]], \"type\": \"histogram2dcontour\"}], \"mesh3d\": [{\"colorbar\": {\"outlinewidth\": 0, \"ticks\": \"\"}, \"type\": \"mesh3d\"}], \"parcoords\": [{\"line\": {\"colorbar\": {\"outlinewidth\": 0, \"ticks\": \"\"}}, \"type\": \"parcoords\"}], \"pie\": [{\"automargin\": true, \"type\": \"pie\"}], \"scatter\": [{\"marker\": {\"colorbar\": {\"outlinewidth\": 0, \"ticks\": \"\"}}, \"type\": \"scatter\"}], \"scatter3d\": [{\"line\": {\"colorbar\": {\"outlinewidth\": 0, \"ticks\": \"\"}}, \"marker\": {\"colorbar\": {\"outlinewidth\": 0, \"ticks\": \"\"}}, \"type\": \"scatter3d\"}], \"scattercarpet\": [{\"marker\": {\"colorbar\": {\"outlinewidth\": 0, \"ticks\": \"\"}}, \"type\": \"scattercarpet\"}], \"scattergeo\": [{\"marker\": {\"colorbar\": {\"outlinewidth\": 0, \"ticks\": \"\"}}, \"type\": \"scattergeo\"}], \"scattergl\": [{\"marker\": {\"colorbar\": {\"outlinewidth\": 0, \"ticks\": \"\"}}, \"type\": \"scattergl\"}], \"scattermapbox\": [{\"marker\": {\"colorbar\": {\"outlinewidth\": 0, \"ticks\": \"\"}}, \"type\": \"scattermapbox\"}], \"scatterpolar\": [{\"marker\": {\"colorbar\": {\"outlinewidth\": 0, \"ticks\": \"\"}}, \"type\": \"scatterpolar\"}], \"scatterpolargl\": [{\"marker\": {\"colorbar\": {\"outlinewidth\": 0, \"ticks\": \"\"}}, \"type\": \"scatterpolargl\"}], \"scatterternary\": [{\"marker\": {\"colorbar\": {\"outlinewidth\": 0, \"ticks\": \"\"}}, \"type\": \"scatterternary\"}], \"surface\": [{\"colorbar\": {\"outlinewidth\": 0, \"ticks\": \"\"}, \"colorscale\": [[0.0, \"#0d0887\"], [0.1111111111111111, \"#46039f\"], [0.2222222222222222, \"#7201a8\"], [0.3333333333333333, \"#9c179e\"], [0.4444444444444444, \"#bd3786\"], [0.5555555555555556, \"#d8576b\"], [0.6666666666666666, \"#ed7953\"], [0.7777777777777778, \"#fb9f3a\"], [0.8888888888888888, \"#fdca26\"], [1.0, \"#f0f921\"]], \"type\": \"surface\"}], \"table\": [{\"cells\": {\"fill\": {\"color\": \"#EBF0F8\"}, \"line\": {\"color\": \"white\"}}, \"header\": {\"fill\": {\"color\": \"#C8D4E3\"}, \"line\": {\"color\": \"white\"}}, \"type\": \"table\"}]}, \"layout\": {\"annotationdefaults\": {\"arrowcolor\": \"#2a3f5f\", \"arrowhead\": 0, \"arrowwidth\": 1}, \"coloraxis\": {\"colorbar\": {\"outlinewidth\": 0, \"ticks\": \"\"}}, \"colorscale\": {\"diverging\": [[0, \"#8e0152\"], [0.1, \"#c51b7d\"], [0.2, \"#de77ae\"], [0.3, \"#f1b6da\"], [0.4, \"#fde0ef\"], [0.5, \"#f7f7f7\"], [0.6, \"#e6f5d0\"], [0.7, \"#b8e186\"], [0.8, \"#7fbc41\"], [0.9, \"#4d9221\"], [1, \"#276419\"]], \"sequential\": [[0.0, \"#0d0887\"], [0.1111111111111111, \"#46039f\"], [0.2222222222222222, \"#7201a8\"], [0.3333333333333333, \"#9c179e\"], [0.4444444444444444, \"#bd3786\"], [0.5555555555555556, \"#d8576b\"], [0.6666666666666666, \"#ed7953\"], [0.7777777777777778, \"#fb9f3a\"], [0.8888888888888888, \"#fdca26\"], [1.0, \"#f0f921\"]], \"sequentialminus\": [[0.0, \"#0d0887\"], [0.1111111111111111, \"#46039f\"], [0.2222222222222222, \"#7201a8\"], [0.3333333333333333, \"#9c179e\"], [0.4444444444444444, \"#bd3786\"], [0.5555555555555556, \"#d8576b\"], [0.6666666666666666, \"#ed7953\"], [0.7777777777777778, \"#fb9f3a\"], [0.8888888888888888, \"#fdca26\"], [1.0, \"#f0f921\"]]}, \"colorway\": [\"#636efa\", \"#EF553B\", \"#00cc96\", \"#ab63fa\", \"#FFA15A\", \"#19d3f3\", \"#FF6692\", \"#B6E880\", \"#FF97FF\", \"#FECB52\"], \"font\": {\"color\": \"#2a3f5f\"}, \"geo\": {\"bgcolor\": \"white\", \"lakecolor\": \"white\", \"landcolor\": \"#E5ECF6\", \"showlakes\": true, \"showland\": true, \"subunitcolor\": \"white\"}, \"hoverlabel\": {\"align\": \"left\"}, \"hovermode\": \"closest\", \"mapbox\": {\"style\": \"light\"}, \"paper_bgcolor\": \"white\", \"plot_bgcolor\": \"#E5ECF6\", \"polar\": {\"angularaxis\": {\"gridcolor\": \"white\", \"linecolor\": \"white\", \"ticks\": \"\"}, \"bgcolor\": \"#E5ECF6\", \"radialaxis\": {\"gridcolor\": \"white\", \"linecolor\": \"white\", \"ticks\": \"\"}}, \"scene\": {\"xaxis\": {\"backgroundcolor\": \"#E5ECF6\", \"gridcolor\": \"white\", \"gridwidth\": 2, \"linecolor\": \"white\", \"showbackground\": true, \"ticks\": \"\", \"zerolinecolor\": \"white\"}, \"yaxis\": {\"backgroundcolor\": \"#E5ECF6\", \"gridcolor\": \"white\", \"gridwidth\": 2, \"linecolor\": \"white\", \"showbackground\": true, \"ticks\": \"\", \"zerolinecolor\": \"white\"}, \"zaxis\": {\"backgroundcolor\": \"#E5ECF6\", \"gridcolor\": \"white\", \"gridwidth\": 2, \"linecolor\": \"white\", \"showbackground\": true, \"ticks\": \"\", \"zerolinecolor\": \"white\"}}, \"shapedefaults\": {\"line\": {\"color\": \"#2a3f5f\"}}, \"ternary\": {\"aaxis\": {\"gridcolor\": \"white\", \"linecolor\": \"white\", \"ticks\": \"\"}, \"baxis\": {\"gridcolor\": \"white\", \"linecolor\": \"white\", \"ticks\": \"\"}, \"bgcolor\": \"#E5ECF6\", \"caxis\": {\"gridcolor\": \"white\", \"linecolor\": \"white\", \"ticks\": \"\"}}, \"title\": {\"x\": 0.05}, \"xaxis\": {\"automargin\": true, \"gridcolor\": \"white\", \"linecolor\": \"white\", \"ticks\": \"\", \"title\": {\"standoff\": 15}, \"zerolinecolor\": \"white\", \"zerolinewidth\": 2}, \"yaxis\": {\"automargin\": true, \"gridcolor\": \"white\", \"linecolor\": \"white\", \"ticks\": \"\", \"title\": {\"standoff\": 15}, \"zerolinecolor\": \"white\", \"zerolinewidth\": 2}}}, \"xaxis\": {\"anchor\": \"y\", \"domain\": [0.0, 1.0], \"title\": {\"text\": \"Type\"}}, \"yaxis\": {\"anchor\": \"x\", \"domain\": [0.0, 1.0], \"title\": {\"text\": \"Installs\"}, \"type\": \"log\"}},\n",
              "                        {\"responsive\": true}\n",
              "                    ).then(function(){\n",
              "                            \n",
              "var gd = document.getElementById('2da3c06e-7aa7-4642-a95b-2560cef4696a');\n",
              "var x = new MutationObserver(function (mutations, observer) {{\n",
              "        var display = window.getComputedStyle(gd).display;\n",
              "        if (!display || display === 'none') {{\n",
              "            console.log([gd, 'removed!']);\n",
              "            Plotly.purge(gd);\n",
              "            observer.disconnect();\n",
              "        }}\n",
              "}});\n",
              "\n",
              "// Listen for the removal of the full notebook cells\n",
              "var notebookContainer = gd.closest('#notebook-container');\n",
              "if (notebookContainer) {{\n",
              "    x.observe(notebookContainer, {childList: true});\n",
              "}}\n",
              "\n",
              "// Listen for the clearing of the current output cell\n",
              "var outputEl = gd.closest('.output');\n",
              "if (outputEl) {{\n",
              "    x.observe(outputEl, {childList: true});\n",
              "}}\n",
              "\n",
              "                        })\n",
              "                };\n",
              "                \n",
              "            </script>\n",
              "        </div>\n",
              "</body>\n",
              "</html>"
            ]
          },
          "metadata": {
            "tags": []
          }
        }
      ]
    },
    {
      "cell_type": "code",
      "metadata": {
        "colab": {
          "base_uri": "https://localhost:8080/",
          "height": 0
        },
        "id": "xaE2i7E9KEQk",
        "outputId": "ea443507-5e4b-4995-d9fc-5e4aea021620"
      },
      "source": [
        "type_box = px.box(df_apps_clean,\n",
        "             x='Type',\n",
        "             y='Installs',\n",
        "             color='Type',\n",
        "             notched=True, # difference of medians\n",
        "             points='all', # display underlying data points\n",
        "             title='How Many Downloads are Paid Apps Giving Up?')\n",
        "\n",
        "type_box.update_layout(yaxis=dict(type='log'))\n",
        "\n",
        "type_box.show()"
      ],
      "execution_count": 197,
      "outputs": [
        {
          "output_type": "display_data",
          "data": {
            "text/html": [
              "<html>\n",
              "<head><meta charset=\"utf-8\" /></head>\n",
              "<body>\n",
              "    <div>\n",
              "            <script src=\"https://cdnjs.cloudflare.com/ajax/libs/mathjax/2.7.5/MathJax.js?config=TeX-AMS-MML_SVG\"></script><script type=\"text/javascript\">if (window.MathJax) {MathJax.Hub.Config({SVG: {font: \"STIX-Web\"}});}</script>\n",
              "                <script type=\"text/javascript\">window.PlotlyConfig = {MathJaxConfig: 'local'};</script>\n",
              "        <script src=\"https://cdn.plot.ly/plotly-latest.min.js\"></script>    \n",
              "            <div id=\"7384de92-8f59-43b6-a6a0-96db74a0952f\" class=\"plotly-graph-div\" style=\"height:525px; width:100%;\"></div>\n",
              "            <script type=\"text/javascript\">\n",
              "                \n",
              "                    window.PLOTLYENV=window.PLOTLYENV || {};\n",
              "                    \n",
              "                if (document.getElementById(\"7384de92-8f59-43b6-a6a0-96db74a0952f\")) {\n",
              "                    Plotly.newPlot(\n",
              "                        '7384de92-8f59-43b6-a6a0-96db74a0952f',\n",
              "                        [{\"alignmentgroup\": \"True\", \"boxpoints\": \"all\", \"hoverlabel\": {\"namelength\": 0}, \"hovertemplate\": \"Type=%{x}<br>Installs=%{y}\", \"legendgroup\": \"Type=Free\", \"marker\": {\"color\": \"#636efa\"}, \"name\": \"Type=Free\", \"notched\": true, \"offsetgroup\": \"Type=Free\", \"orientation\": \"v\", \"showlegend\": true, \"type\": \"box\", \"x\": [\"Free\", \"Free\", \"Free\", \"Free\", \"Free\", \"Free\", \"Free\", \"Free\", \"Free\", \"Free\", \"Free\", \"Free\", \"Free\", \"Free\", \"Free\", \"Free\", \"Free\", \"Free\", \"Free\", \"Free\", \"Free\", \"Free\", \"Free\", \"Free\", \"Free\", \"Free\", \"Free\", \"Free\", \"Free\", \"Free\", \"Free\", \"Free\", \"Free\", \"Free\", \"Free\", \"Free\", \"Free\", \"Free\", \"Free\", \"Free\", \"Free\", \"Free\", \"Free\", \"Free\", \"Free\", \"Free\", \"Free\", \"Free\", \"Free\", \"Free\", \"Free\", \"Free\", \"Free\", \"Free\", \"Free\", \"Free\", \"Free\", \"Free\", \"Free\", \"Free\", \"Free\", \"Free\", \"Free\", \"Free\", \"Free\", \"Free\", \"Free\", \"Free\", \"Free\", \"Free\", \"Free\", \"Free\", \"Free\", \"Free\", \"Free\", \"Free\", \"Free\", \"Free\", \"Free\", \"Free\", \"Free\", \"Free\", \"Free\", \"Free\", \"Free\", \"Free\", \"Free\", \"Free\", \"Free\", \"Free\", \"Free\", \"Free\", \"Free\", \"Free\", \"Free\", \"Free\", \"Free\", \"Free\", \"Free\", \"Free\", \"Free\", \"Free\", \"Free\", \"Free\", \"Free\", \"Free\", \"Free\", \"Free\", \"Free\", \"Free\", \"Free\", \"Free\", \"Free\", \"Free\", \"Free\", \"Free\", \"Free\", \"Free\", \"Free\", \"Free\", \"Free\", \"Free\", \"Free\", \"Free\", \"Free\", \"Free\", \"Free\", \"Free\", \"Free\", \"Free\", \"Free\", \"Free\", \"Free\", \"Free\", \"Free\", \"Free\", \"Free\", \"Free\", \"Free\", \"Free\", \"Free\", \"Free\", \"Free\", \"Free\", \"Free\", \"Free\", \"Free\", \"Free\", \"Free\", \"Free\", \"Free\", \"Free\", \"Free\", \"Free\", \"Free\", \"Free\", \"Free\", \"Free\", \"Free\", \"Free\", \"Free\", \"Free\", \"Free\", \"Free\", \"Free\", \"Free\", \"Free\", \"Free\", \"Free\", \"Free\", \"Free\", \"Free\", \"Free\", \"Free\", \"Free\", \"Free\", \"Free\", \"Free\", \"Free\", \"Free\", \"Free\", \"Free\", \"Free\", \"Free\", \"Free\", \"Free\", \"Free\", \"Free\", \"Free\", \"Free\", \"Free\", \"Free\", \"Free\", \"Free\", \"Free\", \"Free\", \"Free\", \"Free\", \"Free\", \"Free\", \"Free\", \"Free\", \"Free\", \"Free\", \"Free\", \"Free\", \"Free\", \"Free\", \"Free\", \"Free\", \"Free\", \"Free\", \"Free\", \"Free\", \"Free\", \"Free\", \"Free\", \"Free\", \"Free\", \"Free\", \"Free\", \"Free\", \"Free\", \"Free\", \"Free\", \"Free\", \"Free\", \"Free\", \"Free\", \"Free\", \"Free\", \"Free\", \"Free\", \"Free\", \"Free\", \"Free\", \"Free\", \"Free\", \"Free\", \"Free\", \"Free\", \"Free\", \"Free\", \"Free\", \"Free\", \"Free\", \"Free\", \"Free\", \"Free\", \"Free\", \"Free\", \"Free\", \"Free\", \"Free\", \"Free\", \"Free\", \"Free\", \"Free\", \"Free\", \"Free\", \"Free\", \"Free\", \"Free\", \"Free\", \"Free\", \"Free\", \"Free\", \"Free\", \"Free\", \"Free\", \"Free\", \"Free\", \"Free\", \"Free\", \"Free\", \"Free\", \"Free\", \"Free\", \"Free\", \"Free\", \"Free\", \"Free\", \"Free\", \"Free\", \"Free\", \"Free\", \"Free\", \"Free\", \"Free\", \"Free\", \"Free\", \"Free\", \"Free\", \"Free\", \"Free\", \"Free\", \"Free\", \"Free\", \"Free\", \"Free\", \"Free\", \"Free\", \"Free\", \"Free\", \"Free\", \"Free\", \"Free\", \"Free\", \"Free\", \"Free\", \"Free\", \"Free\", \"Free\", \"Free\", \"Free\", \"Free\", \"Free\", \"Free\", \"Free\", \"Free\", \"Free\", \"Free\", \"Free\", \"Free\", \"Free\", \"Free\", \"Free\", \"Free\", \"Free\", \"Free\", \"Free\", \"Free\", \"Free\", \"Free\", \"Free\", \"Free\", \"Free\", \"Free\", \"Free\", \"Free\", \"Free\", \"Free\", \"Free\", \"Free\", \"Free\", \"Free\", \"Free\", \"Free\", \"Free\", \"Free\", \"Free\", \"Free\", \"Free\", \"Free\", \"Free\", \"Free\", \"Free\", \"Free\", \"Free\", \"Free\", \"Free\", \"Free\", \"Free\", \"Free\", \"Free\", \"Free\", \"Free\", \"Free\", \"Free\", \"Free\", \"Free\", \"Free\", \"Free\", \"Free\", \"Free\", \"Free\", \"Free\", \"Free\", \"Free\", \"Free\", \"Free\", \"Free\", \"Free\", \"Free\", \"Free\", \"Free\", \"Free\", \"Free\", \"Free\", \"Free\", \"Free\", \"Free\", \"Free\", \"Free\", \"Free\", \"Free\", \"Free\", \"Free\", \"Free\", \"Free\", \"Free\", \"Free\", \"Free\", \"Free\", \"Free\", \"Free\", \"Free\", \"Free\", \"Free\", \"Free\", \"Free\", \"Free\", \"Free\", \"Free\", \"Free\", \"Free\", \"Free\", \"Free\", \"Free\", \"Free\", \"Free\", \"Free\", \"Free\", \"Free\", \"Free\", \"Free\", \"Free\", \"Free\", \"Free\", \"Free\", \"Free\", \"Free\", \"Free\", \"Free\", \"Free\", \"Free\", \"Free\", \"Free\", \"Free\", \"Free\", \"Free\", \"Free\", \"Free\", \"Free\", \"Free\", \"Free\", \"Free\", \"Free\", \"Free\", \"Free\", \"Free\", \"Free\", \"Free\", \"Free\", \"Free\", \"Free\", \"Free\", \"Free\", \"Free\", \"Free\", \"Free\", \"Free\", \"Free\", \"Free\", \"Free\", \"Free\", \"Free\", \"Free\", \"Free\", \"Free\", \"Free\", \"Free\", \"Free\", \"Free\", \"Free\", \"Free\", \"Free\", \"Free\", \"Free\", \"Free\", \"Free\", \"Free\", \"Free\", \"Free\", \"Free\", \"Free\", \"Free\", \"Free\", \"Free\", \"Free\", \"Free\", \"Free\", \"Free\", \"Free\", \"Free\", \"Free\", \"Free\", \"Free\", \"Free\", \"Free\", \"Free\", \"Free\", \"Free\", \"Free\", \"Free\", \"Free\", \"Free\", \"Free\", \"Free\", \"Free\", \"Free\", \"Free\", \"Free\", \"Free\", \"Free\", \"Free\", \"Free\", \"Free\", \"Free\", \"Free\", \"Free\", \"Free\", \"Free\", \"Free\", \"Free\", \"Free\", \"Free\", \"Free\", \"Free\", \"Free\", \"Free\", \"Free\", \"Free\", \"Free\", \"Free\", \"Free\", \"Free\", \"Free\", \"Free\", \"Free\", \"Free\", \"Free\", \"Free\", \"Free\", \"Free\", \"Free\", \"Free\", \"Free\", \"Free\", \"Free\", \"Free\", \"Free\", \"Free\", \"Free\", \"Free\", \"Free\", \"Free\", \"Free\", \"Free\", \"Free\", \"Free\", \"Free\", \"Free\", \"Free\", \"Free\", \"Free\", \"Free\", \"Free\", \"Free\", \"Free\", \"Free\", \"Free\", \"Free\", \"Free\", \"Free\", \"Free\", \"Free\", \"Free\", \"Free\", \"Free\", \"Free\", \"Free\", \"Free\", \"Free\", \"Free\", \"Free\", \"Free\", \"Free\", \"Free\", \"Free\", \"Free\", \"Free\", \"Free\", \"Free\", \"Free\", \"Free\", \"Free\", \"Free\", \"Free\", \"Free\", \"Free\", \"Free\", \"Free\", \"Free\", \"Free\", \"Free\", \"Free\", \"Free\", \"Free\", \"Free\", \"Free\", \"Free\", \"Free\", \"Free\", \"Free\", \"Free\", \"Free\", \"Free\", \"Free\", \"Free\", \"Free\", \"Free\", \"Free\", \"Free\", \"Free\", \"Free\", \"Free\", \"Free\", \"Free\", \"Free\", \"Free\", \"Free\", \"Free\", \"Free\", \"Free\", \"Free\", \"Free\", \"Free\", \"Free\", \"Free\", \"Free\", \"Free\", \"Free\", \"Free\", \"Free\", \"Free\", \"Free\", \"Free\", \"Free\", \"Free\", \"Free\", \"Free\", \"Free\", \"Free\", \"Free\", \"Free\", \"Free\", \"Free\", \"Free\", \"Free\", \"Free\", \"Free\", \"Free\", \"Free\", \"Free\", \"Free\", \"Free\", \"Free\", \"Free\", \"Free\", \"Free\", \"Free\", \"Free\", \"Free\", \"Free\", \"Free\", \"Free\", \"Free\", \"Free\", \"Free\", \"Free\", \"Free\", \"Free\", \"Free\", \"Free\", \"Free\", \"Free\", \"Free\", \"Free\", \"Free\", \"Free\", \"Free\", \"Free\", \"Free\", \"Free\", \"Free\", \"Free\", \"Free\", \"Free\", \"Free\", \"Free\", \"Free\", \"Free\", \"Free\", \"Free\", \"Free\", \"Free\", \"Free\", \"Free\", \"Free\", \"Free\", \"Free\", \"Free\", \"Free\", \"Free\", \"Free\", \"Free\", \"Free\", \"Free\", \"Free\", \"Free\", \"Free\", \"Free\", \"Free\", \"Free\", \"Free\", \"Free\", \"Free\", \"Free\", \"Free\", \"Free\", \"Free\", \"Free\", \"Free\", \"Free\", \"Free\", \"Free\", \"Free\", \"Free\", \"Free\", \"Free\", \"Free\", \"Free\", \"Free\", \"Free\", \"Free\", \"Free\", \"Free\", \"Free\", \"Free\", \"Free\", \"Free\", \"Free\", \"Free\", \"Free\", \"Free\", \"Free\", \"Free\", \"Free\", \"Free\", \"Free\", \"Free\", \"Free\", \"Free\", \"Free\", \"Free\", \"Free\", \"Free\", \"Free\", \"Free\", \"Free\", \"Free\", \"Free\", \"Free\", \"Free\", \"Free\", \"Free\", \"Free\", \"Free\", \"Free\", \"Free\", \"Free\", \"Free\", \"Free\", \"Free\", \"Free\", \"Free\", \"Free\", \"Free\", \"Free\", \"Free\", \"Free\", \"Free\", \"Free\", \"Free\", \"Free\", \"Free\", \"Free\", \"Free\", \"Free\", \"Free\", \"Free\", \"Free\", \"Free\", \"Free\", \"Free\", \"Free\", \"Free\", \"Free\", \"Free\", \"Free\", \"Free\", \"Free\", \"Free\", \"Free\", \"Free\", \"Free\", \"Free\", \"Free\", \"Free\", \"Free\", \"Free\", \"Free\", \"Free\", \"Free\", \"Free\", \"Free\", \"Free\", \"Free\", \"Free\", \"Free\", \"Free\", \"Free\", \"Free\", \"Free\", \"Free\", \"Free\", \"Free\", \"Free\", \"Free\", \"Free\", \"Free\", \"Free\", \"Free\", \"Free\", \"Free\", \"Free\", \"Free\", \"Free\", \"Free\", \"Free\", \"Free\", \"Free\", \"Free\", \"Free\", \"Free\", \"Free\", \"Free\", \"Free\", \"Free\", \"Free\", \"Free\", \"Free\", \"Free\", \"Free\", \"Free\", \"Free\", \"Free\", \"Free\", \"Free\", \"Free\", \"Free\", \"Free\", \"Free\", \"Free\", \"Free\", \"Free\", \"Free\", \"Free\", \"Free\", \"Free\", \"Free\", \"Free\", \"Free\", \"Free\", \"Free\", \"Free\", \"Free\", \"Free\", \"Free\", \"Free\", \"Free\", \"Free\", \"Free\", \"Free\", \"Free\", \"Free\", \"Free\", \"Free\", \"Free\", \"Free\", \"Free\", \"Free\", \"Free\", \"Free\", \"Free\", \"Free\", \"Free\", \"Free\", \"Free\", \"Free\", \"Free\", \"Free\", \"Free\", \"Free\", \"Free\", \"Free\", \"Free\", \"Free\", \"Free\", \"Free\", \"Free\", \"Free\", \"Free\", \"Free\", \"Free\", \"Free\", \"Free\", \"Free\", \"Free\", \"Free\", \"Free\", \"Free\", \"Free\", \"Free\", \"Free\", \"Free\", \"Free\", \"Free\", \"Free\", \"Free\", \"Free\", \"Free\", \"Free\", \"Free\", \"Free\", \"Free\", \"Free\", \"Free\", \"Free\", \"Free\", \"Free\", \"Free\", \"Free\", \"Free\", \"Free\", \"Free\", \"Free\", \"Free\", \"Free\", \"Free\", \"Free\", \"Free\", \"Free\", \"Free\", \"Free\", \"Free\", \"Free\", \"Free\", \"Free\", \"Free\", \"Free\", \"Free\", \"Free\", \"Free\", \"Free\", \"Free\", \"Free\", \"Free\", \"Free\", \"Free\", \"Free\", \"Free\", \"Free\", \"Free\", \"Free\", \"Free\", \"Free\", \"Free\", \"Free\", \"Free\", \"Free\", \"Free\", \"Free\", \"Free\", \"Free\", \"Free\", \"Free\", \"Free\", \"Free\", \"Free\", \"Free\", \"Free\", \"Free\", \"Free\", \"Free\", \"Free\", \"Free\", \"Free\", \"Free\", \"Free\", \"Free\", \"Free\", \"Free\", \"Free\", \"Free\", \"Free\", \"Free\", \"Free\", \"Free\", \"Free\", \"Free\", \"Free\", \"Free\", \"Free\", \"Free\", \"Free\", \"Free\", \"Free\", \"Free\", \"Free\", \"Free\", \"Free\", \"Free\", \"Free\", \"Free\", \"Free\", \"Free\", \"Free\", \"Free\", \"Free\", \"Free\", \"Free\", \"Free\", \"Free\", \"Free\", \"Free\", \"Free\", \"Free\", \"Free\", \"Free\", \"Free\", \"Free\", \"Free\", \"Free\", \"Free\", \"Free\", \"Free\", \"Free\", \"Free\", \"Free\", \"Free\", \"Free\", \"Free\", \"Free\", \"Free\", \"Free\", \"Free\", \"Free\", \"Free\", \"Free\", \"Free\", \"Free\", \"Free\", \"Free\", \"Free\", \"Free\", \"Free\", \"Free\", \"Free\", \"Free\", \"Free\", \"Free\", \"Free\", \"Free\", \"Free\", \"Free\", \"Free\", \"Free\", \"Free\", \"Free\", \"Free\", \"Free\", \"Free\", \"Free\", \"Free\", \"Free\", \"Free\", \"Free\", \"Free\", \"Free\", \"Free\", \"Free\", \"Free\", \"Free\", \"Free\", \"Free\", \"Free\", \"Free\", \"Free\", \"Free\", \"Free\", \"Free\", \"Free\", \"Free\", \"Free\", \"Free\", \"Free\", \"Free\", \"Free\", \"Free\", \"Free\", \"Free\", \"Free\", \"Free\", \"Free\", \"Free\", \"Free\", \"Free\", \"Free\", \"Free\", \"Free\", \"Free\", \"Free\", \"Free\", \"Free\", \"Free\", \"Free\", \"Free\", \"Free\", \"Free\", \"Free\", \"Free\", \"Free\", \"Free\", \"Free\", \"Free\", \"Free\", \"Free\", \"Free\", \"Free\", \"Free\", \"Free\", \"Free\", \"Free\", \"Free\", \"Free\", \"Free\", \"Free\", \"Free\", \"Free\", \"Free\", \"Free\", \"Free\", \"Free\", \"Free\", \"Free\", \"Free\", \"Free\", \"Free\", \"Free\", \"Free\", \"Free\", \"Free\", \"Free\", \"Free\", \"Free\", \"Free\", \"Free\", \"Free\", \"Free\", \"Free\", \"Free\", \"Free\", \"Free\", \"Free\", \"Free\", \"Free\", \"Free\", \"Free\", \"Free\", \"Free\", \"Free\", \"Free\", \"Free\", \"Free\", \"Free\", \"Free\", \"Free\", \"Free\", \"Free\", \"Free\", \"Free\", \"Free\", \"Free\", \"Free\", \"Free\", \"Free\", \"Free\", \"Free\", \"Free\", \"Free\", \"Free\", \"Free\", \"Free\", \"Free\", \"Free\", \"Free\", \"Free\", \"Free\", \"Free\", \"Free\", \"Free\", \"Free\", \"Free\", \"Free\", \"Free\", \"Free\", \"Free\", \"Free\", \"Free\", \"Free\", \"Free\", \"Free\", \"Free\", \"Free\", \"Free\", \"Free\", \"Free\", \"Free\", \"Free\", \"Free\", \"Free\", \"Free\", \"Free\", \"Free\", \"Free\", \"Free\", \"Free\", \"Free\", \"Free\", \"Free\", \"Free\", \"Free\", \"Free\", \"Free\", \"Free\", \"Free\", \"Free\", \"Free\", \"Free\", \"Free\", \"Free\", \"Free\", \"Free\", \"Free\", \"Free\", \"Free\", \"Free\", \"Free\", \"Free\", \"Free\", \"Free\", \"Free\", \"Free\", \"Free\", \"Free\", \"Free\", \"Free\", \"Free\", \"Free\", \"Free\", \"Free\", \"Free\", \"Free\", \"Free\", \"Free\", \"Free\", \"Free\", \"Free\", \"Free\", \"Free\", \"Free\", \"Free\", \"Free\", \"Free\", \"Free\", \"Free\", \"Free\", \"Free\", \"Free\", \"Free\", \"Free\", \"Free\", \"Free\", \"Free\", \"Free\", \"Free\", \"Free\", \"Free\", \"Free\", \"Free\", \"Free\", \"Free\", \"Free\", \"Free\", \"Free\", \"Free\", \"Free\", \"Free\", \"Free\", \"Free\", \"Free\", \"Free\", \"Free\", \"Free\", \"Free\", \"Free\", \"Free\", \"Free\", \"Free\", \"Free\", \"Free\", \"Free\", \"Free\", \"Free\", \"Free\", \"Free\", \"Free\", \"Free\", \"Free\", \"Free\", \"Free\", \"Free\", \"Free\", \"Free\", \"Free\", \"Free\", \"Free\", \"Free\", \"Free\", \"Free\", \"Free\", \"Free\", \"Free\", \"Free\", \"Free\", \"Free\", \"Free\", \"Free\", \"Free\", \"Free\", \"Free\", \"Free\", \"Free\", \"Free\", \"Free\", \"Free\", \"Free\", \"Free\", \"Free\", \"Free\", \"Free\", \"Free\", \"Free\", \"Free\", \"Free\", \"Free\", \"Free\", \"Free\", \"Free\", \"Free\", \"Free\", \"Free\", \"Free\", \"Free\", \"Free\", \"Free\", \"Free\", \"Free\", \"Free\", \"Free\", \"Free\", \"Free\", \"Free\", \"Free\", \"Free\", \"Free\", \"Free\", \"Free\", \"Free\", \"Free\", \"Free\", \"Free\", \"Free\", \"Free\", \"Free\", \"Free\", \"Free\", \"Free\", \"Free\", \"Free\", \"Free\", \"Free\", \"Free\", \"Free\", \"Free\", \"Free\", \"Free\", \"Free\", \"Free\", \"Free\", \"Free\", \"Free\", \"Free\", \"Free\", \"Free\", \"Free\", \"Free\", \"Free\", \"Free\", \"Free\", \"Free\", \"Free\", \"Free\", \"Free\", \"Free\", \"Free\", \"Free\", \"Free\", \"Free\", \"Free\", \"Free\", \"Free\", \"Free\", \"Free\", \"Free\", \"Free\", \"Free\", \"Free\", \"Free\", \"Free\", \"Free\", \"Free\", \"Free\", \"Free\", \"Free\", \"Free\", \"Free\", \"Free\", \"Free\", \"Free\", \"Free\", \"Free\", \"Free\", \"Free\", \"Free\", \"Free\", \"Free\", \"Free\", \"Free\", \"Free\", \"Free\", \"Free\", \"Free\", \"Free\", \"Free\", \"Free\", \"Free\", \"Free\", \"Free\", \"Free\", \"Free\", \"Free\", \"Free\", \"Free\", \"Free\", \"Free\", \"Free\", \"Free\", \"Free\", \"Free\", \"Free\", \"Free\", \"Free\", \"Free\", \"Free\", \"Free\", \"Free\", \"Free\", \"Free\", \"Free\", \"Free\", \"Free\", \"Free\", \"Free\", \"Free\", \"Free\", \"Free\", \"Free\", \"Free\", \"Free\", \"Free\", \"Free\", \"Free\", \"Free\", \"Free\", \"Free\", \"Free\", \"Free\", \"Free\", \"Free\", \"Free\", \"Free\", \"Free\", \"Free\", \"Free\", \"Free\", \"Free\", \"Free\", \"Free\", \"Free\", \"Free\", \"Free\", \"Free\", \"Free\", \"Free\", \"Free\", \"Free\", \"Free\", \"Free\", \"Free\", \"Free\", \"Free\", \"Free\", \"Free\", \"Free\", \"Free\", \"Free\", \"Free\", \"Free\", \"Free\", \"Free\", \"Free\", \"Free\", \"Free\", \"Free\", \"Free\", \"Free\", \"Free\", \"Free\", \"Free\", \"Free\", \"Free\", \"Free\", \"Free\", \"Free\", \"Free\", \"Free\", \"Free\", \"Free\", \"Free\", \"Free\", \"Free\", \"Free\", \"Free\", \"Free\", \"Free\", \"Free\", \"Free\", \"Free\", \"Free\", \"Free\", \"Free\", \"Free\", \"Free\", \"Free\", \"Free\", \"Free\", \"Free\", \"Free\", \"Free\", \"Free\", \"Free\", \"Free\", \"Free\", \"Free\", \"Free\", \"Free\", \"Free\", \"Free\", \"Free\", \"Free\", \"Free\", \"Free\", \"Free\", \"Free\", \"Free\", \"Free\", \"Free\", \"Free\", \"Free\", \"Free\", \"Free\", \"Free\", \"Free\", \"Free\", \"Free\", \"Free\", \"Free\", \"Free\", \"Free\", \"Free\", \"Free\", \"Free\", \"Free\", \"Free\", \"Free\", \"Free\", \"Free\", \"Free\", \"Free\", \"Free\", \"Free\", \"Free\", \"Free\", \"Free\", \"Free\", \"Free\", \"Free\", \"Free\", \"Free\", \"Free\", \"Free\", \"Free\", \"Free\", \"Free\", \"Free\", \"Free\", \"Free\", \"Free\", \"Free\", \"Free\", \"Free\", \"Free\", \"Free\", \"Free\", \"Free\", \"Free\", \"Free\", \"Free\", \"Free\", \"Free\", \"Free\", \"Free\", \"Free\", \"Free\", \"Free\", \"Free\", \"Free\", \"Free\", \"Free\", \"Free\", \"Free\", \"Free\", \"Free\", \"Free\", \"Free\", \"Free\", \"Free\", \"Free\", \"Free\", \"Free\", \"Free\", \"Free\", \"Free\", \"Free\", \"Free\", \"Free\", \"Free\", \"Free\", \"Free\", \"Free\", \"Free\", \"Free\", \"Free\", \"Free\", \"Free\", \"Free\", \"Free\", \"Free\", \"Free\", \"Free\", \"Free\", \"Free\", \"Free\", \"Free\", \"Free\", \"Free\", \"Free\", \"Free\", \"Free\", \"Free\", \"Free\", \"Free\", \"Free\", \"Free\", \"Free\", \"Free\", \"Free\", \"Free\", \"Free\", \"Free\", \"Free\", \"Free\", \"Free\", \"Free\", \"Free\", \"Free\", \"Free\", \"Free\", \"Free\", \"Free\", \"Free\", \"Free\", \"Free\", \"Free\", \"Free\", \"Free\", \"Free\", \"Free\", \"Free\", \"Free\", \"Free\", \"Free\", \"Free\", \"Free\", \"Free\", \"Free\", \"Free\", \"Free\", \"Free\", \"Free\", \"Free\", \"Free\", \"Free\", \"Free\", \"Free\", \"Free\", \"Free\", \"Free\", \"Free\", \"Free\", \"Free\", \"Free\", \"Free\", \"Free\", \"Free\", \"Free\", \"Free\", \"Free\", \"Free\", \"Free\", \"Free\", \"Free\", \"Free\", \"Free\", \"Free\", \"Free\", \"Free\", \"Free\", \"Free\", \"Free\", \"Free\", \"Free\", \"Free\", \"Free\", \"Free\", \"Free\", \"Free\", \"Free\", \"Free\", \"Free\", \"Free\", \"Free\", \"Free\", \"Free\", \"Free\", \"Free\", \"Free\", \"Free\", \"Free\", \"Free\", \"Free\", \"Free\", \"Free\", \"Free\", \"Free\", \"Free\", \"Free\", \"Free\", \"Free\", \"Free\", \"Free\", \"Free\", \"Free\", \"Free\", \"Free\", \"Free\", \"Free\", \"Free\", \"Free\", \"Free\", \"Free\", \"Free\", \"Free\", \"Free\", \"Free\", \"Free\", \"Free\", \"Free\", \"Free\", \"Free\", \"Free\", \"Free\", \"Free\", \"Free\", \"Free\", \"Free\", \"Free\", \"Free\", \"Free\", \"Free\", \"Free\", \"Free\", \"Free\", \"Free\", \"Free\", \"Free\", \"Free\", \"Free\", \"Free\", \"Free\", \"Free\", \"Free\", \"Free\", \"Free\", \"Free\", \"Free\", \"Free\", \"Free\", \"Free\", \"Free\", \"Free\", \"Free\", \"Free\", \"Free\", \"Free\", \"Free\", \"Free\", \"Free\", \"Free\", \"Free\", \"Free\", \"Free\", \"Free\", \"Free\", \"Free\", \"Free\", \"Free\", \"Free\", \"Free\", \"Free\", \"Free\", \"Free\", \"Free\", \"Free\", \"Free\", \"Free\", \"Free\", \"Free\", \"Free\", \"Free\", \"Free\", \"Free\", \"Free\", \"Free\", \"Free\", \"Free\", \"Free\", \"Free\", \"Free\", \"Free\", \"Free\", \"Free\", \"Free\", \"Free\", \"Free\", \"Free\", \"Free\", \"Free\", \"Free\", \"Free\", \"Free\", \"Free\", \"Free\", \"Free\", \"Free\", \"Free\", \"Free\", \"Free\", \"Free\", \"Free\", \"Free\", \"Free\", \"Free\", \"Free\", \"Free\", \"Free\", \"Free\", \"Free\", \"Free\", \"Free\", \"Free\", \"Free\", \"Free\", \"Free\", \"Free\", \"Free\", \"Free\", \"Free\", \"Free\", \"Free\", \"Free\", \"Free\", \"Free\", \"Free\", \"Free\", \"Free\", \"Free\", \"Free\", \"Free\", \"Free\", \"Free\", \"Free\", \"Free\", \"Free\", \"Free\", \"Free\", \"Free\", \"Free\", \"Free\", \"Free\", \"Free\", \"Free\", \"Free\", \"Free\", \"Free\", \"Free\", \"Free\", \"Free\", \"Free\", \"Free\", \"Free\", \"Free\", \"Free\", \"Free\", \"Free\", \"Free\", \"Free\", \"Free\", \"Free\", \"Free\", \"Free\", \"Free\", \"Free\", \"Free\", \"Free\", \"Free\", \"Free\", \"Free\", \"Free\", \"Free\", \"Free\", \"Free\", \"Free\", \"Free\", \"Free\", \"Free\", \"Free\", \"Free\", \"Free\", \"Free\", \"Free\", \"Free\", \"Free\", \"Free\", \"Free\", \"Free\", \"Free\", \"Free\", \"Free\", \"Free\", \"Free\", \"Free\", \"Free\", \"Free\", \"Free\", \"Free\", \"Free\", \"Free\", \"Free\", \"Free\", \"Free\", \"Free\", \"Free\", \"Free\", \"Free\", \"Free\", \"Free\", \"Free\", \"Free\", \"Free\", \"Free\", \"Free\", \"Free\", \"Free\", \"Free\", \"Free\", \"Free\", \"Free\", \"Free\", \"Free\", \"Free\", \"Free\", \"Free\", \"Free\", \"Free\", \"Free\", \"Free\", \"Free\", \"Free\", \"Free\", \"Free\", \"Free\", \"Free\", \"Free\", \"Free\", \"Free\", \"Free\", \"Free\", \"Free\", \"Free\", \"Free\", \"Free\", \"Free\", \"Free\", \"Free\", \"Free\", \"Free\", \"Free\", \"Free\", \"Free\", \"Free\", \"Free\", \"Free\", \"Free\", \"Free\", \"Free\", \"Free\", \"Free\", \"Free\", \"Free\", \"Free\", \"Free\", \"Free\", \"Free\", \"Free\", \"Free\", \"Free\", \"Free\", \"Free\", \"Free\", \"Free\", \"Free\", \"Free\", \"Free\", \"Free\", \"Free\", \"Free\", \"Free\", \"Free\", \"Free\", \"Free\", \"Free\", \"Free\", \"Free\", \"Free\", \"Free\", \"Free\", \"Free\", \"Free\", \"Free\", \"Free\", \"Free\", \"Free\", \"Free\", \"Free\", \"Free\", \"Free\", \"Free\", \"Free\", \"Free\", \"Free\", \"Free\", \"Free\", \"Free\", \"Free\", \"Free\", \"Free\", \"Free\", \"Free\", \"Free\", \"Free\", \"Free\", \"Free\", \"Free\", \"Free\", \"Free\", \"Free\", \"Free\", \"Free\", \"Free\", \"Free\", \"Free\", \"Free\", \"Free\", \"Free\", \"Free\", \"Free\", \"Free\", \"Free\", \"Free\", \"Free\", \"Free\", \"Free\", \"Free\", \"Free\", \"Free\", \"Free\", \"Free\", \"Free\", \"Free\", \"Free\", \"Free\", \"Free\", \"Free\", \"Free\", \"Free\", \"Free\", \"Free\", \"Free\", \"Free\", \"Free\", \"Free\", \"Free\", \"Free\", \"Free\", \"Free\", \"Free\", \"Free\", \"Free\", \"Free\", \"Free\", \"Free\", \"Free\", \"Free\", \"Free\", \"Free\", \"Free\", \"Free\", \"Free\", \"Free\", \"Free\", \"Free\", \"Free\", \"Free\", \"Free\", \"Free\", \"Free\", \"Free\", \"Free\", \"Free\", \"Free\", \"Free\", \"Free\", \"Free\", \"Free\", \"Free\", \"Free\", \"Free\", \"Free\", \"Free\", \"Free\", \"Free\", \"Free\", \"Free\", \"Free\", \"Free\", \"Free\", \"Free\", \"Free\", \"Free\", \"Free\", \"Free\", \"Free\", \"Free\", \"Free\", \"Free\", \"Free\", \"Free\", \"Free\", \"Free\", \"Free\", \"Free\", \"Free\", \"Free\", \"Free\", \"Free\", \"Free\", \"Free\", \"Free\", \"Free\", \"Free\", \"Free\", \"Free\", \"Free\", \"Free\", \"Free\", \"Free\", \"Free\", \"Free\", \"Free\", \"Free\", \"Free\", \"Free\", \"Free\", \"Free\", \"Free\", \"Free\", \"Free\", \"Free\", \"Free\", \"Free\", \"Free\", \"Free\", \"Free\", \"Free\", \"Free\", \"Free\", \"Free\", \"Free\", \"Free\", \"Free\", \"Free\", \"Free\", \"Free\", \"Free\", \"Free\", \"Free\", \"Free\", \"Free\", \"Free\", \"Free\", \"Free\", \"Free\", \"Free\", \"Free\", \"Free\", \"Free\", \"Free\", \"Free\", \"Free\", \"Free\", \"Free\", \"Free\", \"Free\", \"Free\", \"Free\", \"Free\", \"Free\", \"Free\", \"Free\", \"Free\", \"Free\", \"Free\", \"Free\", \"Free\", \"Free\", \"Free\", \"Free\", \"Free\", \"Free\", \"Free\", \"Free\", \"Free\", \"Free\", \"Free\", \"Free\", \"Free\", \"Free\", \"Free\", \"Free\", \"Free\", \"Free\", \"Free\", \"Free\", \"Free\", \"Free\", \"Free\", \"Free\", \"Free\", \"Free\", \"Free\", \"Free\", \"Free\", \"Free\", \"Free\", \"Free\", \"Free\", \"Free\", \"Free\", \"Free\", \"Free\", \"Free\", \"Free\", \"Free\", \"Free\", \"Free\", \"Free\", \"Free\", \"Free\", \"Free\", \"Free\", \"Free\", \"Free\", \"Free\", \"Free\", \"Free\", \"Free\", \"Free\", \"Free\", \"Free\", \"Free\", \"Free\", \"Free\", \"Free\", \"Free\", \"Free\", \"Free\", \"Free\", \"Free\", \"Free\", \"Free\", \"Free\", \"Free\", \"Free\", \"Free\", \"Free\", \"Free\", \"Free\", \"Free\", \"Free\", \"Free\", \"Free\", \"Free\", \"Free\", \"Free\", \"Free\", \"Free\", \"Free\", \"Free\", \"Free\", \"Free\", \"Free\", \"Free\", \"Free\", \"Free\", \"Free\", \"Free\", \"Free\", \"Free\", \"Free\", \"Free\", \"Free\", \"Free\", \"Free\", \"Free\", \"Free\", \"Free\", \"Free\", \"Free\", \"Free\", \"Free\", \"Free\", \"Free\", \"Free\", \"Free\", \"Free\", \"Free\", \"Free\", \"Free\", \"Free\", \"Free\", \"Free\", \"Free\", \"Free\", \"Free\", \"Free\", \"Free\", \"Free\", \"Free\", \"Free\", \"Free\", \"Free\", \"Free\", \"Free\", \"Free\", \"Free\", \"Free\", \"Free\", \"Free\", \"Free\", \"Free\", \"Free\", \"Free\", \"Free\", \"Free\", \"Free\", \"Free\", \"Free\", \"Free\", \"Free\", \"Free\", \"Free\", \"Free\", \"Free\", \"Free\", \"Free\", \"Free\", \"Free\", \"Free\", \"Free\", \"Free\", \"Free\", \"Free\", \"Free\", \"Free\", \"Free\", \"Free\", \"Free\", \"Free\", \"Free\", \"Free\", \"Free\", \"Free\", \"Free\", \"Free\", \"Free\", \"Free\", \"Free\", \"Free\", \"Free\", \"Free\", \"Free\", \"Free\", \"Free\", \"Free\", \"Free\", \"Free\", \"Free\", \"Free\", \"Free\", \"Free\", \"Free\", \"Free\", \"Free\", \"Free\", \"Free\", \"Free\", \"Free\", \"Free\", \"Free\", \"Free\", \"Free\", \"Free\", \"Free\", \"Free\", \"Free\", \"Free\", \"Free\", \"Free\", \"Free\", \"Free\", \"Free\", \"Free\", \"Free\", \"Free\", \"Free\", \"Free\", \"Free\", \"Free\", \"Free\", \"Free\", \"Free\", \"Free\", \"Free\", \"Free\", \"Free\", \"Free\", \"Free\", \"Free\", \"Free\", \"Free\", \"Free\", \"Free\", \"Free\", \"Free\", \"Free\", \"Free\", \"Free\", \"Free\", \"Free\", \"Free\", \"Free\", \"Free\", \"Free\", \"Free\", \"Free\", \"Free\", \"Free\", \"Free\", \"Free\", \"Free\", \"Free\", \"Free\", \"Free\", \"Free\", \"Free\", \"Free\", \"Free\", \"Free\", \"Free\", \"Free\", \"Free\", \"Free\", \"Free\", \"Free\", \"Free\", \"Free\", \"Free\", \"Free\", \"Free\", \"Free\", \"Free\", \"Free\", \"Free\", \"Free\", \"Free\", \"Free\", \"Free\", \"Free\", \"Free\", \"Free\", \"Free\", \"Free\", \"Free\", \"Free\", \"Free\", \"Free\", \"Free\", \"Free\", \"Free\", \"Free\", \"Free\", \"Free\", \"Free\", \"Free\", \"Free\", \"Free\", \"Free\", \"Free\", \"Free\", \"Free\", \"Free\", \"Free\", \"Free\", \"Free\", \"Free\", \"Free\", \"Free\", \"Free\", \"Free\", \"Free\", \"Free\", \"Free\", \"Free\", \"Free\", \"Free\", \"Free\", \"Free\", \"Free\", \"Free\", \"Free\", \"Free\", \"Free\", \"Free\", \"Free\", \"Free\", \"Free\", \"Free\", \"Free\", \"Free\", \"Free\", \"Free\", \"Free\", \"Free\", \"Free\", \"Free\", \"Free\", \"Free\", \"Free\", \"Free\", \"Free\", \"Free\", \"Free\", \"Free\", \"Free\", \"Free\", \"Free\", \"Free\", \"Free\", \"Free\", \"Free\", \"Free\", \"Free\", \"Free\", \"Free\", \"Free\", \"Free\", \"Free\", \"Free\", \"Free\", \"Free\", \"Free\", \"Free\", \"Free\", \"Free\", \"Free\", \"Free\", \"Free\", \"Free\", \"Free\", \"Free\", \"Free\", \"Free\", \"Free\", \"Free\", \"Free\", \"Free\", \"Free\", \"Free\", \"Free\", \"Free\", \"Free\", \"Free\", \"Free\", \"Free\", \"Free\", \"Free\", \"Free\", \"Free\", \"Free\", \"Free\", \"Free\", \"Free\", \"Free\", \"Free\", \"Free\", \"Free\", \"Free\", \"Free\", \"Free\", \"Free\", \"Free\", \"Free\", \"Free\", \"Free\", \"Free\", \"Free\", \"Free\", \"Free\", \"Free\", \"Free\", \"Free\", \"Free\", \"Free\", \"Free\", \"Free\", \"Free\", \"Free\", \"Free\", \"Free\", \"Free\", \"Free\", \"Free\", \"Free\", \"Free\", \"Free\", \"Free\", \"Free\", \"Free\", \"Free\", \"Free\", \"Free\", \"Free\", \"Free\", \"Free\", \"Free\", \"Free\", \"Free\", \"Free\", \"Free\", \"Free\", \"Free\", \"Free\", \"Free\", \"Free\", \"Free\", \"Free\", \"Free\", \"Free\", \"Free\", \"Free\", \"Free\", \"Free\", \"Free\", \"Free\", \"Free\", \"Free\", \"Free\", \"Free\", \"Free\", \"Free\", \"Free\", \"Free\", \"Free\", \"Free\", \"Free\", \"Free\", \"Free\", \"Free\", \"Free\", \"Free\", \"Free\", \"Free\", \"Free\", \"Free\", \"Free\", \"Free\", \"Free\", \"Free\", \"Free\", \"Free\", \"Free\", \"Free\", \"Free\", \"Free\", \"Free\", \"Free\", \"Free\", \"Free\", \"Free\", \"Free\", \"Free\", \"Free\", \"Free\", \"Free\", \"Free\", \"Free\", \"Free\", \"Free\", \"Free\", \"Free\", \"Free\", \"Free\", \"Free\", \"Free\", \"Free\", \"Free\", \"Free\", \"Free\", \"Free\", \"Free\", \"Free\", \"Free\", \"Free\", \"Free\", \"Free\", \"Free\", \"Free\", \"Free\", \"Free\", \"Free\", \"Free\", \"Free\", \"Free\", \"Free\", \"Free\", \"Free\", \"Free\", \"Free\", \"Free\", \"Free\", \"Free\", \"Free\", \"Free\", \"Free\", \"Free\", \"Free\", \"Free\", \"Free\", \"Free\", \"Free\", \"Free\", \"Free\", \"Free\", \"Free\", \"Free\", \"Free\", \"Free\", \"Free\", \"Free\", \"Free\", \"Free\", \"Free\", \"Free\", \"Free\", \"Free\", \"Free\", \"Free\", \"Free\", \"Free\", \"Free\", \"Free\", \"Free\", \"Free\", \"Free\", \"Free\", \"Free\", \"Free\", \"Free\", \"Free\", \"Free\", \"Free\", \"Free\", \"Free\", \"Free\", \"Free\", \"Free\", \"Free\", \"Free\", \"Free\", \"Free\", \"Free\", \"Free\", \"Free\", \"Free\", \"Free\", \"Free\", \"Free\", \"Free\", \"Free\", \"Free\", \"Free\", \"Free\", \"Free\", \"Free\", \"Free\", \"Free\", \"Free\", \"Free\", \"Free\", \"Free\", \"Free\", \"Free\", \"Free\", \"Free\", \"Free\", \"Free\", \"Free\", \"Free\", \"Free\", \"Free\", \"Free\", \"Free\", \"Free\", \"Free\", \"Free\", \"Free\", \"Free\", \"Free\", \"Free\", \"Free\", \"Free\", \"Free\", \"Free\", \"Free\", \"Free\", \"Free\", \"Free\", \"Free\", \"Free\", \"Free\", \"Free\", \"Free\", \"Free\", \"Free\", \"Free\", \"Free\", \"Free\", \"Free\", \"Free\", \"Free\", \"Free\", \"Free\", \"Free\", \"Free\", \"Free\", \"Free\", \"Free\", \"Free\", \"Free\", \"Free\", \"Free\", \"Free\", \"Free\", \"Free\", \"Free\", \"Free\", \"Free\", \"Free\", \"Free\", \"Free\", \"Free\", \"Free\", \"Free\", \"Free\", \"Free\", \"Free\", \"Free\", \"Free\", \"Free\", \"Free\", \"Free\", \"Free\", \"Free\", \"Free\", \"Free\", \"Free\", \"Free\", \"Free\", \"Free\", \"Free\", \"Free\", \"Free\", \"Free\", \"Free\", \"Free\", \"Free\", \"Free\", \"Free\", \"Free\", \"Free\", \"Free\", \"Free\", \"Free\", \"Free\", \"Free\", \"Free\", \"Free\", \"Free\", \"Free\", \"Free\", \"Free\", \"Free\", \"Free\", \"Free\", \"Free\", \"Free\", \"Free\", \"Free\", \"Free\", \"Free\", \"Free\", \"Free\", \"Free\", \"Free\", \"Free\", \"Free\", \"Free\", \"Free\", \"Free\", \"Free\", \"Free\", \"Free\", \"Free\", \"Free\", \"Free\", \"Free\", \"Free\", \"Free\", \"Free\", \"Free\", \"Free\", \"Free\", \"Free\", \"Free\", \"Free\", \"Free\", \"Free\", \"Free\", \"Free\", \"Free\", \"Free\", \"Free\", \"Free\", \"Free\", \"Free\", \"Free\", \"Free\", \"Free\", \"Free\", \"Free\", \"Free\", \"Free\", \"Free\", \"Free\", \"Free\", \"Free\", \"Free\", \"Free\", \"Free\", \"Free\", \"Free\", \"Free\", \"Free\", \"Free\", \"Free\", \"Free\", \"Free\", \"Free\", \"Free\", \"Free\", \"Free\", \"Free\", \"Free\", \"Free\", \"Free\", \"Free\", \"Free\", \"Free\", \"Free\", \"Free\", \"Free\", \"Free\", \"Free\", \"Free\", \"Free\", \"Free\", \"Free\", \"Free\", \"Free\", \"Free\", \"Free\", \"Free\", \"Free\", \"Free\", \"Free\", \"Free\", \"Free\", \"Free\", \"Free\", \"Free\", \"Free\", \"Free\", \"Free\", \"Free\", \"Free\", \"Free\", \"Free\", \"Free\", \"Free\", \"Free\", \"Free\", \"Free\", \"Free\", \"Free\", \"Free\", \"Free\", \"Free\", \"Free\", \"Free\", \"Free\", \"Free\", \"Free\", \"Free\", \"Free\", \"Free\", \"Free\", \"Free\", \"Free\", \"Free\", \"Free\", \"Free\", \"Free\", \"Free\", \"Free\", \"Free\", \"Free\", \"Free\", \"Free\", \"Free\", \"Free\", \"Free\", \"Free\", \"Free\", \"Free\", \"Free\", \"Free\", \"Free\", \"Free\", \"Free\", \"Free\", \"Free\", \"Free\", \"Free\", \"Free\", \"Free\", \"Free\", \"Free\", \"Free\", \"Free\", \"Free\", \"Free\", \"Free\", \"Free\", \"Free\", \"Free\", \"Free\", \"Free\", \"Free\", \"Free\", \"Free\", \"Free\", \"Free\", \"Free\", \"Free\", \"Free\", \"Free\", \"Free\", \"Free\", \"Free\", \"Free\", \"Free\", \"Free\", \"Free\", \"Free\", \"Free\", \"Free\", \"Free\", \"Free\", \"Free\", \"Free\", \"Free\", \"Free\", \"Free\", \"Free\", \"Free\", \"Free\", \"Free\", \"Free\", \"Free\", \"Free\", \"Free\", \"Free\", \"Free\", \"Free\", \"Free\", \"Free\", \"Free\", \"Free\", \"Free\", \"Free\", \"Free\", \"Free\", \"Free\", \"Free\", \"Free\", \"Free\", \"Free\", \"Free\", \"Free\", \"Free\", \"Free\", \"Free\", \"Free\", \"Free\", \"Free\", \"Free\", \"Free\", \"Free\", \"Free\", \"Free\", \"Free\", \"Free\", \"Free\", \"Free\", \"Free\", \"Free\", \"Free\", \"Free\", \"Free\", \"Free\", \"Free\", \"Free\", \"Free\", \"Free\", \"Free\", \"Free\", \"Free\", \"Free\", \"Free\", \"Free\", \"Free\", \"Free\", \"Free\", \"Free\", \"Free\", \"Free\", \"Free\", \"Free\", \"Free\", \"Free\", \"Free\", \"Free\", \"Free\", \"Free\", \"Free\", \"Free\", \"Free\", \"Free\", \"Free\", \"Free\", \"Free\", \"Free\", \"Free\", \"Free\", \"Free\", \"Free\", \"Free\", \"Free\", \"Free\", \"Free\", \"Free\", \"Free\", \"Free\", \"Free\", \"Free\", \"Free\", \"Free\", \"Free\", \"Free\", \"Free\", \"Free\", \"Free\", \"Free\", \"Free\", \"Free\", \"Free\", \"Free\", \"Free\", \"Free\", \"Free\", \"Free\", \"Free\", \"Free\", \"Free\", \"Free\", \"Free\", \"Free\", \"Free\", \"Free\", \"Free\", \"Free\", \"Free\", \"Free\", \"Free\", \"Free\", \"Free\", \"Free\", \"Free\", \"Free\", \"Free\", \"Free\", \"Free\", \"Free\", \"Free\", \"Free\", \"Free\", \"Free\", \"Free\", \"Free\", \"Free\", \"Free\", \"Free\", \"Free\", \"Free\", \"Free\", \"Free\", \"Free\", \"Free\", \"Free\", \"Free\", \"Free\", \"Free\", \"Free\", \"Free\", \"Free\", \"Free\", \"Free\", \"Free\", \"Free\", \"Free\", \"Free\", \"Free\", \"Free\", \"Free\", \"Free\", \"Free\", \"Free\", \"Free\", \"Free\", \"Free\", \"Free\", \"Free\", \"Free\", \"Free\", \"Free\", \"Free\", \"Free\", \"Free\", \"Free\", \"Free\", \"Free\", \"Free\", \"Free\", \"Free\", \"Free\", \"Free\", \"Free\", \"Free\", \"Free\", \"Free\", \"Free\", \"Free\", \"Free\", \"Free\", \"Free\", \"Free\", \"Free\", \"Free\", \"Free\", \"Free\", \"Free\", \"Free\", \"Free\", \"Free\", \"Free\", \"Free\", \"Free\", \"Free\", \"Free\", \"Free\", \"Free\", \"Free\", \"Free\", \"Free\", \"Free\", \"Free\", \"Free\", \"Free\", \"Free\", \"Free\", \"Free\", \"Free\", \"Free\", \"Free\", \"Free\", \"Free\", \"Free\", \"Free\", \"Free\", \"Free\", \"Free\", \"Free\", \"Free\", \"Free\", \"Free\", \"Free\", \"Free\", \"Free\", \"Free\", \"Free\", \"Free\", \"Free\", \"Free\", \"Free\", \"Free\", \"Free\", \"Free\", \"Free\", \"Free\", \"Free\", \"Free\", \"Free\", \"Free\", \"Free\", \"Free\", \"Free\", \"Free\", \"Free\", \"Free\", \"Free\", \"Free\", \"Free\", \"Free\", \"Free\", \"Free\", \"Free\", \"Free\", \"Free\", \"Free\", \"Free\", \"Free\", \"Free\", \"Free\", \"Free\", \"Free\", \"Free\", \"Free\", \"Free\", \"Free\", \"Free\", \"Free\", \"Free\", \"Free\", \"Free\", \"Free\", \"Free\", \"Free\", \"Free\", \"Free\", \"Free\", \"Free\", \"Free\", \"Free\", \"Free\", \"Free\", \"Free\", \"Free\", \"Free\", \"Free\", \"Free\", \"Free\", \"Free\", \"Free\", \"Free\", \"Free\", \"Free\", \"Free\", \"Free\", \"Free\", \"Free\", \"Free\", \"Free\", \"Free\", \"Free\", \"Free\", \"Free\", \"Free\", \"Free\", \"Free\", \"Free\", \"Free\", \"Free\", \"Free\", \"Free\", \"Free\", \"Free\", \"Free\", \"Free\", \"Free\", \"Free\", \"Free\", \"Free\", \"Free\", \"Free\", \"Free\", \"Free\", \"Free\", \"Free\", \"Free\", \"Free\", \"Free\", \"Free\", \"Free\", \"Free\", \"Free\", \"Free\", \"Free\", \"Free\", \"Free\", \"Free\", \"Free\", \"Free\", \"Free\", \"Free\", \"Free\", \"Free\", \"Free\", \"Free\", \"Free\", \"Free\", \"Free\", \"Free\", \"Free\", \"Free\", \"Free\", \"Free\", \"Free\", \"Free\", \"Free\", \"Free\", \"Free\", \"Free\", \"Free\", \"Free\", \"Free\", \"Free\", \"Free\", \"Free\", \"Free\", \"Free\", \"Free\", \"Free\", \"Free\", \"Free\", \"Free\", \"Free\", \"Free\", \"Free\", \"Free\", \"Free\", \"Free\", \"Free\", \"Free\", \"Free\", \"Free\", \"Free\", \"Free\", \"Free\", \"Free\", \"Free\", \"Free\", \"Free\", \"Free\", \"Free\", \"Free\", \"Free\", \"Free\", \"Free\", \"Free\", \"Free\", \"Free\", \"Free\", \"Free\", \"Free\", \"Free\", \"Free\", \"Free\", \"Free\", \"Free\", \"Free\", \"Free\", \"Free\", \"Free\", \"Free\", \"Free\", \"Free\", \"Free\", \"Free\", \"Free\", \"Free\", \"Free\", \"Free\", \"Free\", \"Free\", \"Free\", \"Free\", \"Free\", \"Free\", \"Free\", \"Free\", \"Free\", \"Free\", \"Free\", \"Free\", \"Free\", \"Free\", \"Free\", \"Free\", \"Free\", \"Free\", \"Free\", \"Free\", \"Free\", \"Free\", \"Free\", \"Free\", \"Free\", \"Free\", \"Free\", \"Free\", \"Free\", \"Free\", \"Free\", \"Free\", \"Free\", \"Free\", \"Free\", \"Free\", \"Free\", \"Free\", \"Free\", \"Free\", \"Free\", \"Free\", \"Free\", \"Free\", \"Free\", \"Free\", \"Free\", \"Free\", \"Free\", \"Free\", \"Free\", \"Free\", \"Free\", \"Free\", \"Free\", \"Free\", \"Free\", \"Free\", \"Free\", \"Free\", \"Free\", \"Free\", \"Free\", \"Free\", \"Free\", \"Free\", \"Free\", \"Free\", \"Free\", \"Free\", \"Free\", \"Free\", \"Free\", \"Free\", \"Free\", \"Free\", \"Free\", \"Free\", \"Free\", \"Free\", \"Free\", \"Free\", \"Free\", \"Free\", \"Free\", \"Free\", \"Free\", \"Free\", \"Free\", \"Free\", \"Free\", \"Free\", \"Free\", \"Free\", \"Free\", \"Free\", \"Free\", \"Free\", \"Free\", \"Free\", \"Free\", \"Free\", \"Free\", \"Free\", \"Free\", \"Free\", \"Free\", \"Free\", \"Free\", \"Free\", \"Free\", \"Free\", \"Free\", \"Free\", \"Free\", \"Free\", \"Free\", \"Free\", \"Free\", \"Free\", \"Free\", \"Free\", \"Free\", \"Free\", \"Free\", \"Free\", \"Free\", \"Free\", \"Free\", \"Free\", \"Free\", \"Free\", \"Free\", \"Free\", \"Free\", \"Free\", \"Free\", \"Free\", \"Free\", \"Free\", \"Free\", \"Free\", \"Free\", \"Free\", \"Free\", \"Free\", \"Free\", \"Free\", \"Free\", \"Free\", \"Free\", \"Free\", \"Free\", \"Free\", \"Free\", \"Free\", \"Free\", \"Free\", \"Free\", \"Free\", \"Free\", \"Free\", \"Free\", \"Free\", \"Free\", \"Free\", \"Free\", \"Free\", \"Free\", \"Free\", \"Free\", \"Free\", \"Free\", \"Free\", \"Free\", \"Free\", \"Free\", \"Free\", \"Free\", \"Free\", \"Free\", \"Free\", \"Free\", \"Free\", \"Free\", \"Free\", \"Free\", \"Free\", \"Free\", \"Free\", \"Free\", \"Free\", \"Free\", \"Free\", \"Free\", \"Free\", \"Free\", \"Free\", \"Free\", \"Free\", \"Free\", \"Free\", \"Free\", \"Free\", \"Free\", \"Free\", \"Free\", \"Free\", \"Free\", \"Free\", \"Free\", \"Free\", \"Free\", \"Free\", \"Free\", \"Free\", \"Free\", \"Free\", \"Free\", \"Free\", \"Free\", \"Free\", \"Free\", \"Free\", \"Free\", \"Free\", \"Free\", \"Free\", \"Free\", \"Free\", \"Free\", \"Free\", \"Free\", \"Free\", \"Free\", \"Free\", \"Free\", \"Free\", \"Free\", \"Free\", \"Free\", \"Free\", \"Free\", \"Free\", \"Free\", \"Free\", \"Free\", \"Free\", \"Free\", \"Free\", \"Free\", \"Free\", \"Free\", \"Free\", \"Free\", \"Free\", \"Free\", \"Free\", \"Free\", \"Free\", \"Free\", \"Free\", \"Free\", \"Free\", \"Free\", \"Free\", \"Free\", \"Free\", \"Free\", \"Free\", \"Free\", \"Free\", \"Free\", \"Free\", \"Free\", \"Free\", \"Free\", \"Free\", \"Free\", \"Free\", \"Free\", \"Free\", \"Free\", \"Free\", \"Free\", \"Free\", \"Free\", \"Free\", \"Free\", \"Free\", \"Free\", \"Free\", \"Free\", \"Free\", \"Free\", \"Free\", \"Free\", \"Free\", \"Free\", \"Free\", \"Free\", \"Free\", \"Free\", \"Free\", \"Free\", \"Free\", \"Free\", \"Free\", \"Free\", \"Free\", \"Free\", \"Free\", \"Free\", \"Free\", \"Free\", \"Free\", \"Free\", \"Free\", \"Free\", \"Free\", \"Free\", \"Free\", \"Free\", \"Free\", \"Free\", \"Free\", \"Free\", \"Free\", \"Free\", \"Free\", \"Free\", \"Free\", \"Free\", \"Free\", \"Free\", \"Free\", \"Free\", \"Free\", \"Free\", \"Free\", \"Free\", \"Free\", \"Free\", \"Free\", \"Free\", \"Free\", \"Free\", \"Free\", \"Free\", \"Free\", \"Free\", \"Free\", \"Free\", \"Free\", \"Free\", \"Free\", \"Free\", \"Free\", \"Free\", \"Free\", \"Free\", \"Free\", \"Free\", \"Free\", \"Free\", \"Free\", \"Free\", \"Free\", \"Free\", \"Free\", \"Free\", \"Free\", \"Free\", \"Free\", \"Free\", \"Free\", \"Free\", \"Free\", \"Free\", \"Free\", \"Free\", \"Free\", \"Free\", \"Free\", \"Free\", \"Free\", \"Free\", \"Free\", \"Free\", \"Free\", \"Free\", \"Free\", \"Free\", \"Free\", \"Free\", \"Free\", \"Free\", \"Free\", \"Free\", \"Free\", \"Free\", \"Free\", \"Free\", \"Free\", \"Free\", \"Free\", \"Free\", \"Free\", \"Free\", \"Free\", \"Free\", \"Free\", \"Free\", \"Free\", \"Free\", \"Free\", \"Free\", \"Free\", \"Free\", \"Free\", \"Free\", \"Free\", \"Free\", \"Free\", \"Free\", \"Free\", \"Free\", \"Free\", \"Free\", \"Free\", \"Free\", \"Free\", \"Free\", \"Free\", \"Free\", \"Free\", \"Free\", \"Free\", \"Free\", \"Free\", \"Free\", \"Free\", \"Free\", \"Free\", \"Free\", \"Free\", \"Free\", \"Free\", \"Free\", \"Free\", \"Free\", \"Free\", \"Free\", \"Free\", \"Free\", \"Free\", \"Free\", \"Free\", \"Free\", \"Free\", \"Free\", \"Free\", \"Free\", \"Free\", \"Free\", \"Free\", \"Free\", \"Free\", \"Free\", \"Free\", \"Free\", \"Free\", \"Free\", \"Free\", \"Free\", \"Free\", \"Free\", \"Free\", \"Free\", \"Free\", \"Free\", \"Free\", \"Free\", \"Free\", \"Free\", \"Free\", \"Free\", \"Free\", \"Free\", \"Free\", \"Free\", \"Free\", \"Free\", \"Free\", \"Free\", \"Free\", \"Free\", \"Free\", \"Free\", \"Free\", \"Free\", \"Free\", \"Free\", \"Free\", \"Free\", \"Free\", \"Free\", \"Free\", \"Free\", \"Free\", \"Free\", \"Free\", \"Free\", \"Free\", \"Free\", \"Free\", \"Free\", \"Free\", \"Free\", \"Free\", \"Free\", \"Free\", \"Free\", \"Free\", \"Free\", \"Free\", \"Free\", \"Free\", \"Free\", \"Free\", \"Free\", \"Free\", \"Free\", \"Free\", \"Free\", \"Free\", \"Free\", \"Free\", \"Free\", \"Free\", \"Free\", \"Free\", \"Free\", \"Free\", \"Free\", \"Free\", \"Free\", \"Free\", \"Free\", \"Free\", \"Free\", \"Free\", \"Free\", \"Free\", \"Free\", \"Free\", \"Free\", \"Free\", \"Free\", \"Free\", \"Free\", \"Free\", \"Free\", \"Free\", \"Free\", \"Free\", \"Free\", \"Free\", \"Free\", \"Free\", \"Free\", \"Free\", \"Free\", \"Free\", \"Free\", \"Free\", \"Free\", \"Free\", \"Free\", \"Free\", \"Free\", \"Free\", \"Free\", \"Free\", \"Free\", \"Free\", \"Free\", \"Free\", \"Free\", \"Free\", \"Free\", \"Free\", \"Free\", \"Free\", \"Free\", \"Free\", \"Free\", \"Free\", \"Free\", \"Free\", \"Free\", \"Free\", \"Free\", \"Free\", \"Free\", \"Free\", \"Free\", \"Free\", \"Free\", \"Free\", \"Free\", \"Free\", \"Free\", \"Free\", \"Free\", \"Free\", \"Free\", \"Free\", \"Free\", \"Free\", \"Free\", \"Free\", \"Free\", \"Free\", \"Free\", \"Free\", \"Free\", \"Free\", \"Free\", \"Free\", \"Free\", \"Free\", \"Free\", \"Free\", \"Free\", \"Free\", \"Free\", \"Free\", \"Free\", \"Free\", \"Free\", \"Free\", \"Free\", \"Free\", \"Free\", \"Free\", \"Free\", \"Free\", \"Free\", \"Free\", \"Free\", \"Free\", \"Free\", \"Free\", \"Free\", \"Free\", \"Free\", \"Free\", \"Free\", \"Free\", \"Free\", \"Free\", \"Free\", \"Free\", \"Free\", \"Free\", \"Free\", \"Free\", \"Free\", \"Free\", \"Free\", \"Free\", \"Free\", \"Free\", \"Free\", \"Free\", \"Free\", \"Free\", \"Free\", \"Free\", \"Free\", \"Free\", \"Free\", \"Free\", \"Free\", \"Free\", \"Free\", \"Free\", \"Free\", \"Free\", \"Free\", \"Free\", \"Free\", \"Free\", \"Free\", \"Free\", \"Free\", \"Free\", \"Free\", \"Free\", \"Free\", \"Free\", \"Free\", \"Free\", \"Free\", \"Free\", \"Free\", \"Free\", \"Free\", \"Free\", \"Free\", \"Free\", \"Free\", \"Free\", \"Free\", \"Free\", \"Free\", \"Free\", \"Free\", \"Free\", \"Free\", \"Free\", \"Free\", \"Free\", \"Free\", \"Free\", \"Free\", \"Free\", \"Free\", \"Free\", \"Free\", \"Free\", \"Free\", \"Free\", \"Free\", \"Free\", \"Free\", \"Free\", \"Free\", \"Free\", \"Free\", \"Free\", \"Free\", \"Free\", \"Free\", \"Free\", \"Free\", \"Free\", \"Free\", \"Free\", \"Free\", \"Free\", \"Free\", \"Free\", \"Free\", \"Free\", \"Free\", \"Free\", \"Free\", \"Free\", \"Free\", \"Free\", \"Free\", \"Free\", \"Free\", \"Free\", \"Free\", \"Free\", \"Free\", \"Free\", \"Free\", \"Free\", \"Free\", \"Free\", \"Free\", \"Free\", \"Free\", \"Free\", \"Free\", \"Free\", \"Free\", \"Free\", \"Free\", \"Free\", \"Free\", \"Free\", \"Free\", \"Free\", \"Free\", \"Free\", \"Free\", \"Free\", \"Free\", \"Free\", \"Free\", \"Free\", \"Free\", \"Free\", \"Free\", \"Free\", \"Free\", \"Free\", \"Free\", \"Free\", \"Free\", \"Free\", \"Free\", \"Free\", \"Free\", \"Free\", \"Free\", \"Free\", \"Free\", \"Free\", \"Free\", \"Free\", \"Free\", \"Free\", \"Free\", \"Free\", \"Free\", \"Free\", \"Free\", \"Free\", \"Free\", \"Free\", \"Free\", \"Free\", \"Free\", \"Free\", \"Free\", \"Free\", \"Free\", \"Free\", \"Free\", \"Free\", \"Free\", \"Free\", \"Free\", \"Free\", \"Free\", \"Free\", \"Free\", \"Free\", \"Free\", \"Free\", \"Free\", \"Free\", \"Free\", \"Free\", \"Free\", \"Free\", \"Free\", \"Free\", \"Free\", \"Free\", \"Free\", \"Free\", \"Free\", \"Free\", \"Free\", \"Free\", \"Free\", \"Free\", \"Free\", \"Free\", \"Free\", \"Free\", \"Free\", \"Free\", \"Free\", \"Free\", \"Free\", \"Free\", \"Free\", \"Free\", \"Free\", \"Free\", \"Free\", \"Free\", \"Free\", \"Free\", \"Free\", \"Free\", \"Free\", \"Free\", \"Free\", \"Free\", \"Free\", \"Free\", \"Free\", \"Free\", \"Free\", \"Free\", \"Free\", \"Free\", \"Free\", \"Free\", \"Free\", \"Free\", \"Free\", \"Free\", \"Free\", \"Free\", \"Free\", \"Free\", \"Free\", \"Free\", \"Free\", \"Free\", \"Free\", \"Free\", \"Free\", \"Free\", \"Free\", \"Free\", \"Free\", \"Free\", \"Free\", \"Free\", \"Free\", \"Free\", \"Free\", \"Free\", \"Free\", \"Free\", \"Free\", \"Free\", \"Free\", \"Free\", \"Free\", \"Free\", \"Free\", \"Free\", \"Free\", \"Free\", \"Free\", \"Free\", \"Free\", \"Free\", \"Free\", \"Free\", \"Free\", \"Free\", \"Free\", \"Free\", \"Free\", \"Free\", \"Free\", \"Free\", \"Free\", \"Free\", \"Free\", \"Free\", \"Free\", \"Free\", \"Free\", \"Free\", \"Free\", \"Free\", \"Free\", \"Free\", \"Free\", \"Free\", \"Free\", \"Free\", \"Free\", \"Free\", \"Free\", \"Free\", \"Free\", \"Free\", \"Free\", \"Free\", \"Free\", \"Free\", \"Free\", \"Free\", \"Free\", \"Free\", \"Free\", \"Free\", \"Free\", \"Free\", \"Free\", \"Free\", \"Free\", \"Free\", \"Free\", \"Free\", \"Free\", \"Free\", \"Free\", \"Free\", \"Free\", \"Free\", \"Free\", \"Free\", \"Free\", \"Free\", \"Free\", \"Free\", \"Free\", \"Free\", \"Free\", \"Free\", \"Free\", \"Free\", \"Free\", \"Free\", \"Free\", \"Free\", \"Free\", \"Free\", \"Free\", \"Free\", \"Free\", \"Free\", \"Free\", \"Free\", \"Free\", \"Free\", \"Free\", \"Free\", \"Free\", \"Free\", \"Free\", \"Free\", \"Free\", \"Free\", \"Free\", \"Free\", \"Free\", \"Free\", \"Free\", \"Free\", \"Free\", \"Free\", \"Free\", \"Free\", \"Free\", \"Free\", \"Free\", \"Free\", \"Free\", \"Free\", \"Free\", \"Free\", \"Free\", \"Free\", \"Free\", \"Free\", \"Free\", \"Free\", \"Free\", \"Free\", \"Free\", \"Free\", \"Free\", \"Free\", \"Free\", \"Free\", \"Free\", \"Free\", \"Free\", \"Free\", \"Free\", \"Free\", \"Free\", \"Free\", \"Free\", \"Free\", \"Free\", \"Free\", \"Free\", \"Free\", \"Free\", \"Free\", \"Free\", \"Free\", \"Free\", \"Free\", \"Free\", \"Free\", \"Free\", \"Free\", \"Free\", \"Free\", \"Free\", \"Free\", \"Free\", \"Free\", \"Free\", \"Free\", \"Free\", \"Free\", \"Free\", \"Free\", \"Free\", \"Free\", \"Free\", \"Free\", \"Free\", \"Free\", \"Free\", \"Free\", \"Free\", \"Free\", \"Free\", \"Free\", \"Free\", \"Free\", \"Free\", \"Free\", \"Free\", \"Free\", \"Free\", \"Free\", \"Free\", \"Free\", \"Free\", \"Free\", \"Free\", \"Free\", \"Free\", \"Free\", \"Free\", \"Free\", \"Free\", \"Free\", \"Free\", \"Free\", \"Free\", \"Free\", \"Free\", \"Free\", \"Free\", \"Free\", \"Free\", \"Free\", \"Free\", \"Free\", \"Free\", \"Free\", \"Free\", \"Free\", \"Free\", \"Free\", \"Free\", \"Free\", \"Free\", \"Free\", \"Free\", \"Free\", \"Free\", \"Free\", \"Free\", \"Free\", \"Free\", \"Free\", \"Free\", \"Free\", \"Free\", \"Free\", \"Free\", \"Free\", \"Free\", \"Free\", \"Free\", \"Free\", \"Free\", \"Free\", \"Free\", \"Free\", \"Free\", \"Free\", \"Free\", \"Free\", \"Free\", \"Free\", \"Free\", \"Free\", \"Free\", \"Free\", \"Free\", \"Free\", \"Free\", \"Free\", \"Free\", \"Free\", \"Free\", \"Free\", \"Free\", \"Free\", \"Free\", \"Free\", \"Free\", \"Free\", \"Free\", \"Free\", \"Free\", \"Free\", \"Free\", \"Free\", \"Free\", \"Free\", \"Free\", \"Free\", \"Free\", \"Free\", \"Free\", \"Free\", \"Free\", \"Free\", \"Free\", \"Free\", \"Free\", \"Free\", \"Free\", \"Free\", \"Free\", \"Free\", \"Free\", \"Free\", \"Free\", \"Free\", \"Free\", \"Free\", \"Free\", \"Free\", \"Free\", \"Free\", \"Free\", \"Free\", \"Free\", \"Free\", \"Free\", \"Free\", \"Free\", \"Free\", \"Free\", \"Free\", \"Free\", \"Free\", \"Free\", \"Free\", \"Free\", \"Free\", \"Free\", \"Free\", \"Free\", \"Free\", \"Free\", \"Free\", \"Free\", \"Free\", \"Free\", \"Free\", \"Free\", \"Free\", \"Free\", \"Free\", \"Free\", \"Free\", \"Free\", \"Free\", \"Free\", \"Free\", \"Free\", \"Free\", \"Free\", \"Free\", \"Free\", \"Free\", \"Free\", \"Free\", \"Free\", \"Free\", \"Free\", \"Free\", \"Free\", \"Free\", \"Free\", \"Free\", \"Free\", \"Free\", \"Free\", \"Free\", \"Free\", \"Free\", \"Free\", \"Free\", \"Free\", \"Free\", \"Free\", \"Free\", \"Free\", \"Free\", \"Free\", \"Free\", \"Free\", \"Free\", \"Free\", \"Free\", \"Free\", \"Free\", \"Free\", \"Free\", \"Free\", \"Free\", \"Free\", \"Free\", \"Free\", \"Free\", \"Free\", \"Free\", \"Free\", \"Free\", \"Free\", \"Free\", \"Free\", \"Free\", \"Free\", \"Free\", \"Free\", \"Free\", \"Free\", \"Free\", \"Free\", \"Free\", \"Free\", \"Free\", \"Free\", \"Free\", \"Free\", \"Free\", \"Free\", \"Free\", \"Free\", \"Free\", \"Free\", \"Free\", \"Free\", \"Free\", \"Free\", \"Free\", \"Free\", \"Free\", \"Free\", \"Free\", \"Free\", \"Free\", \"Free\", \"Free\", \"Free\", \"Free\", \"Free\", \"Free\", \"Free\", \"Free\", \"Free\", \"Free\", \"Free\", \"Free\", \"Free\", \"Free\", \"Free\", \"Free\", \"Free\", \"Free\", \"Free\", \"Free\", \"Free\", \"Free\", \"Free\", \"Free\", \"Free\", \"Free\", \"Free\", \"Free\", \"Free\", \"Free\", \"Free\", \"Free\", \"Free\", \"Free\", \"Free\", \"Free\", \"Free\", \"Free\", \"Free\", \"Free\", \"Free\", \"Free\", \"Free\", \"Free\", \"Free\", \"Free\", \"Free\", \"Free\", \"Free\", \"Free\", \"Free\", \"Free\", \"Free\", \"Free\", \"Free\", \"Free\", \"Free\", \"Free\", \"Free\", \"Free\", \"Free\", \"Free\", \"Free\", \"Free\", \"Free\", \"Free\", \"Free\", \"Free\", \"Free\", \"Free\", \"Free\", \"Free\", \"Free\", \"Free\", \"Free\", \"Free\", \"Free\", \"Free\", \"Free\", \"Free\", \"Free\", \"Free\", \"Free\", \"Free\", \"Free\", \"Free\", \"Free\", \"Free\", \"Free\", \"Free\", \"Free\", \"Free\", \"Free\", \"Free\", \"Free\", \"Free\", \"Free\", \"Free\", \"Free\", \"Free\", \"Free\", \"Free\", \"Free\", \"Free\", \"Free\", \"Free\", \"Free\", \"Free\", \"Free\", \"Free\", \"Free\", \"Free\", \"Free\", \"Free\", \"Free\", \"Free\", \"Free\", \"Free\", \"Free\", \"Free\", \"Free\", \"Free\", \"Free\", \"Free\", \"Free\", \"Free\", \"Free\", \"Free\", \"Free\", \"Free\", \"Free\", \"Free\", \"Free\", \"Free\", \"Free\", \"Free\", \"Free\", \"Free\", \"Free\", \"Free\", \"Free\", \"Free\", \"Free\", \"Free\", \"Free\", \"Free\", \"Free\", \"Free\", \"Free\", \"Free\", \"Free\", \"Free\", \"Free\", \"Free\", \"Free\", \"Free\", \"Free\", \"Free\", \"Free\", \"Free\", \"Free\", \"Free\", \"Free\", \"Free\", \"Free\", \"Free\", \"Free\", \"Free\", \"Free\", \"Free\", \"Free\", \"Free\", \"Free\", \"Free\", \"Free\", \"Free\", \"Free\", \"Free\", \"Free\", \"Free\", \"Free\", \"Free\", \"Free\", \"Free\", \"Free\", \"Free\", \"Free\", \"Free\", \"Free\", \"Free\", \"Free\", \"Free\", \"Free\", \"Free\", \"Free\", \"Free\", \"Free\", \"Free\", \"Free\", \"Free\", \"Free\", \"Free\", \"Free\", \"Free\", \"Free\", \"Free\", \"Free\", \"Free\", \"Free\", \"Free\", \"Free\", \"Free\", \"Free\", \"Free\", \"Free\", \"Free\", \"Free\", \"Free\", \"Free\", \"Free\", \"Free\", \"Free\", \"Free\", \"Free\", \"Free\", \"Free\", \"Free\", \"Free\", \"Free\", \"Free\", \"Free\", \"Free\", \"Free\", \"Free\", \"Free\", \"Free\", \"Free\", \"Free\", \"Free\", \"Free\", \"Free\", \"Free\", \"Free\", \"Free\", \"Free\", \"Free\", \"Free\", \"Free\", \"Free\", \"Free\", \"Free\", \"Free\", \"Free\", \"Free\", \"Free\", \"Free\", \"Free\", \"Free\", \"Free\", \"Free\", \"Free\", \"Free\", \"Free\", \"Free\", \"Free\", \"Free\", \"Free\", \"Free\", \"Free\", \"Free\", \"Free\", \"Free\", \"Free\", \"Free\", \"Free\", \"Free\", \"Free\", \"Free\", \"Free\", \"Free\", \"Free\", \"Free\", \"Free\", \"Free\", \"Free\", \"Free\", \"Free\", \"Free\", \"Free\", \"Free\", \"Free\", \"Free\", \"Free\", \"Free\", \"Free\", \"Free\", \"Free\", \"Free\", \"Free\", \"Free\", \"Free\", \"Free\", \"Free\", \"Free\", \"Free\", \"Free\", \"Free\", \"Free\", \"Free\", \"Free\", \"Free\", \"Free\", \"Free\", \"Free\", \"Free\", \"Free\", \"Free\", \"Free\", \"Free\", \"Free\", \"Free\", \"Free\", \"Free\", \"Free\", \"Free\", \"Free\", \"Free\", \"Free\", \"Free\", \"Free\", \"Free\", \"Free\", \"Free\", \"Free\", \"Free\", \"Free\", \"Free\", \"Free\", \"Free\", \"Free\", \"Free\", \"Free\", \"Free\", \"Free\", \"Free\", \"Free\", \"Free\", \"Free\", \"Free\", \"Free\", \"Free\", \"Free\", \"Free\", \"Free\", \"Free\", \"Free\", \"Free\", \"Free\", \"Free\", \"Free\", \"Free\", \"Free\", \"Free\", \"Free\", \"Free\", \"Free\", \"Free\", \"Free\", \"Free\", \"Free\", \"Free\", \"Free\", \"Free\", \"Free\", \"Free\", \"Free\", \"Free\", \"Free\", \"Free\", \"Free\", \"Free\", \"Free\", \"Free\", \"Free\", \"Free\", \"Free\", \"Free\", \"Free\", \"Free\", \"Free\", \"Free\", \"Free\", \"Free\", \"Free\", \"Free\", \"Free\", \"Free\", \"Free\", \"Free\", \"Free\", \"Free\", \"Free\", \"Free\", \"Free\", \"Free\", \"Free\", \"Free\", \"Free\", \"Free\", \"Free\", \"Free\", \"Free\", \"Free\", \"Free\", \"Free\", \"Free\", \"Free\", \"Free\", \"Free\", \"Free\", \"Free\", \"Free\", \"Free\", \"Free\", \"Free\", \"Free\", \"Free\", \"Free\", \"Free\", \"Free\", \"Free\", \"Free\", \"Free\", \"Free\", \"Free\", \"Free\", \"Free\", \"Free\", \"Free\", \"Free\", \"Free\", \"Free\", \"Free\", \"Free\", \"Free\", \"Free\", \"Free\", \"Free\", \"Free\", \"Free\", \"Free\", \"Free\", \"Free\", \"Free\", \"Free\", \"Free\", \"Free\", \"Free\", \"Free\", \"Free\", \"Free\", \"Free\", \"Free\", \"Free\", \"Free\", \"Free\", \"Free\", \"Free\", \"Free\", \"Free\", \"Free\", \"Free\", \"Free\", \"Free\", \"Free\", \"Free\", \"Free\", \"Free\", \"Free\", \"Free\", \"Free\", \"Free\", \"Free\", \"Free\", \"Free\", \"Free\", \"Free\", \"Free\", \"Free\", \"Free\", \"Free\", \"Free\", \"Free\", \"Free\", \"Free\", \"Free\", \"Free\", \"Free\", \"Free\", \"Free\", \"Free\", \"Free\", \"Free\", \"Free\", \"Free\", \"Free\", \"Free\", \"Free\", \"Free\", \"Free\", \"Free\", \"Free\", \"Free\", \"Free\", \"Free\", \"Free\", \"Free\", \"Free\", \"Free\", \"Free\", \"Free\", \"Free\", \"Free\", \"Free\", \"Free\", \"Free\", \"Free\", \"Free\", \"Free\", \"Free\", \"Free\", \"Free\", \"Free\", \"Free\", \"Free\", \"Free\", \"Free\", \"Free\", \"Free\", \"Free\", \"Free\", \"Free\", \"Free\", \"Free\", \"Free\", \"Free\", \"Free\", \"Free\", \"Free\", \"Free\", \"Free\", \"Free\", \"Free\", \"Free\", \"Free\", \"Free\", \"Free\", \"Free\", \"Free\", \"Free\", \"Free\", \"Free\", \"Free\", \"Free\", \"Free\", \"Free\", \"Free\", \"Free\", \"Free\", \"Free\", \"Free\", \"Free\", \"Free\", \"Free\", \"Free\", \"Free\", \"Free\", \"Free\", \"Free\", \"Free\", \"Free\", \"Free\", \"Free\", \"Free\", \"Free\", \"Free\", \"Free\", \"Free\", \"Free\", \"Free\", \"Free\", \"Free\", \"Free\", \"Free\", \"Free\", \"Free\", \"Free\", \"Free\", \"Free\", \"Free\", \"Free\", \"Free\", \"Free\", \"Free\", \"Free\", \"Free\", \"Free\", \"Free\", \"Free\", \"Free\", \"Free\", \"Free\", \"Free\", \"Free\", \"Free\", \"Free\", \"Free\", \"Free\", \"Free\", \"Free\", \"Free\", \"Free\", \"Free\", \"Free\", \"Free\", \"Free\", \"Free\", \"Free\", \"Free\", \"Free\", \"Free\", \"Free\", \"Free\", \"Free\", \"Free\", \"Free\", \"Free\", \"Free\", \"Free\", \"Free\", \"Free\", \"Free\", \"Free\", \"Free\", \"Free\", \"Free\", \"Free\", \"Free\", \"Free\", \"Free\", \"Free\", \"Free\", \"Free\", \"Free\", \"Free\", \"Free\", \"Free\", \"Free\", \"Free\", \"Free\", \"Free\", \"Free\", \"Free\", \"Free\", \"Free\", \"Free\", \"Free\", \"Free\", \"Free\", \"Free\", \"Free\", \"Free\", \"Free\", \"Free\", \"Free\", \"Free\", \"Free\", \"Free\", \"Free\", \"Free\", \"Free\", \"Free\", \"Free\", \"Free\", \"Free\", \"Free\", \"Free\", \"Free\", \"Free\", \"Free\", \"Free\", \"Free\", \"Free\", \"Free\", \"Free\", \"Free\", \"Free\", \"Free\", \"Free\", \"Free\", \"Free\", \"Free\", \"Free\", \"Free\", \"Free\", \"Free\", \"Free\", \"Free\", \"Free\", \"Free\", \"Free\", \"Free\", \"Free\", \"Free\", \"Free\", \"Free\", \"Free\", \"Free\", \"Free\", \"Free\", \"Free\", \"Free\", \"Free\", \"Free\", \"Free\", \"Free\", \"Free\", \"Free\", \"Free\", \"Free\", \"Free\", \"Free\", \"Free\", \"Free\", \"Free\", \"Free\", \"Free\", \"Free\", \"Free\", \"Free\", \"Free\", \"Free\", \"Free\", \"Free\", \"Free\", \"Free\", \"Free\", \"Free\", \"Free\", \"Free\", \"Free\", \"Free\", \"Free\", \"Free\", \"Free\", \"Free\", \"Free\", \"Free\", \"Free\", \"Free\", \"Free\", \"Free\", \"Free\", \"Free\", \"Free\", \"Free\", \"Free\", \"Free\", \"Free\", \"Free\", \"Free\", \"Free\", \"Free\", \"Free\", \"Free\", \"Free\", \"Free\", \"Free\", \"Free\", \"Free\", \"Free\", \"Free\", \"Free\", \"Free\", \"Free\", \"Free\", \"Free\", \"Free\", \"Free\", \"Free\", \"Free\", \"Free\", \"Free\", \"Free\", \"Free\", \"Free\", \"Free\", \"Free\", \"Free\", \"Free\", \"Free\", \"Free\", \"Free\", \"Free\", \"Free\", \"Free\", \"Free\", \"Free\", \"Free\", \"Free\", \"Free\", \"Free\", \"Free\", \"Free\", \"Free\", \"Free\", \"Free\", \"Free\", \"Free\", \"Free\", \"Free\", \"Free\", \"Free\", \"Free\", \"Free\", \"Free\", \"Free\", \"Free\", \"Free\", \"Free\", \"Free\", \"Free\", \"Free\", \"Free\", \"Free\", \"Free\", \"Free\", \"Free\", \"Free\", \"Free\", \"Free\", \"Free\", \"Free\", \"Free\", \"Free\", \"Free\", \"Free\", \"Free\", \"Free\", \"Free\", \"Free\", \"Free\", \"Free\", \"Free\", \"Free\", \"Free\", \"Free\", \"Free\", \"Free\", \"Free\", \"Free\", \"Free\", \"Free\", \"Free\", \"Free\", \"Free\", \"Free\", \"Free\", \"Free\", \"Free\", \"Free\", \"Free\", \"Free\", \"Free\", \"Free\", \"Free\", \"Free\", \"Free\", \"Free\", \"Free\", \"Free\", \"Free\", \"Free\", \"Free\", \"Free\", \"Free\", \"Free\", \"Free\", \"Free\", \"Free\", \"Free\", \"Free\", \"Free\", \"Free\", \"Free\", \"Free\", \"Free\", \"Free\", \"Free\", \"Free\", \"Free\", \"Free\", \"Free\", \"Free\", \"Free\", \"Free\", \"Free\", \"Free\", \"Free\", \"Free\", \"Free\", \"Free\", \"Free\", \"Free\", \"Free\", \"Free\", \"Free\", \"Free\", \"Free\", \"Free\", \"Free\", \"Free\", \"Free\", \"Free\", \"Free\", \"Free\", \"Free\", \"Free\", \"Free\", \"Free\", \"Free\", \"Free\", \"Free\", \"Free\", \"Free\", \"Free\", \"Free\", \"Free\", \"Free\", \"Free\", \"Free\", \"Free\", \"Free\", \"Free\", \"Free\", \"Free\", \"Free\", \"Free\", \"Free\", \"Free\", \"Free\", \"Free\", \"Free\", \"Free\", \"Free\", \"Free\", \"Free\", \"Free\", \"Free\", \"Free\", \"Free\", \"Free\", \"Free\", \"Free\", \"Free\", \"Free\", \"Free\", \"Free\", \"Free\", \"Free\", \"Free\", \"Free\", \"Free\", \"Free\", \"Free\", \"Free\", \"Free\", \"Free\", \"Free\", \"Free\", \"Free\", \"Free\", \"Free\", \"Free\", \"Free\", \"Free\", \"Free\", \"Free\", \"Free\", \"Free\", \"Free\", \"Free\", \"Free\", \"Free\", \"Free\", \"Free\", \"Free\", \"Free\", \"Free\", \"Free\", \"Free\", \"Free\", \"Free\", \"Free\", \"Free\", \"Free\", \"Free\", \"Free\", \"Free\", \"Free\", \"Free\", \"Free\", \"Free\", \"Free\", \"Free\", \"Free\", \"Free\", \"Free\", \"Free\", \"Free\", \"Free\", \"Free\", \"Free\", \"Free\", \"Free\", \"Free\", \"Free\", \"Free\", \"Free\", \"Free\", \"Free\", \"Free\", \"Free\", \"Free\", \"Free\", \"Free\", \"Free\", \"Free\", \"Free\", \"Free\", \"Free\", \"Free\", \"Free\", \"Free\", \"Free\", \"Free\", \"Free\", \"Free\", \"Free\", \"Free\", \"Free\", \"Free\", \"Free\", \"Free\", \"Free\", \"Free\", \"Free\", \"Free\", \"Free\", \"Free\", \"Free\", \"Free\", \"Free\", \"Free\", \"Free\", \"Free\", \"Free\", \"Free\", \"Free\", \"Free\", \"Free\", \"Free\", \"Free\", \"Free\", \"Free\", \"Free\", \"Free\", \"Free\", \"Free\", \"Free\", \"Free\", \"Free\", \"Free\", \"Free\", \"Free\", \"Free\", \"Free\", \"Free\", \"Free\", \"Free\", \"Free\", \"Free\", \"Free\", \"Free\", \"Free\", \"Free\", \"Free\", \"Free\", \"Free\", \"Free\", \"Free\", \"Free\", \"Free\", \"Free\", \"Free\", \"Free\", \"Free\", \"Free\", \"Free\", \"Free\", \"Free\", \"Free\", \"Free\", \"Free\", \"Free\", \"Free\", \"Free\", \"Free\", \"Free\", \"Free\", \"Free\", \"Free\", \"Free\", \"Free\", \"Free\", \"Free\", \"Free\", \"Free\", \"Free\", \"Free\", \"Free\", \"Free\", \"Free\", \"Free\", \"Free\", \"Free\", \"Free\", \"Free\", \"Free\", \"Free\", \"Free\", \"Free\", \"Free\", \"Free\", \"Free\", \"Free\", \"Free\", \"Free\", \"Free\", \"Free\", \"Free\", \"Free\", \"Free\", \"Free\", \"Free\", \"Free\", \"Free\", \"Free\", \"Free\", \"Free\", \"Free\", \"Free\", \"Free\", \"Free\", \"Free\", \"Free\", \"Free\", \"Free\", \"Free\", \"Free\", \"Free\", \"Free\", \"Free\", \"Free\", \"Free\", \"Free\", \"Free\", \"Free\", \"Free\", \"Free\", \"Free\", \"Free\", \"Free\", \"Free\", \"Free\", \"Free\", \"Free\", \"Free\", \"Free\", \"Free\", \"Free\", \"Free\", \"Free\", \"Free\", \"Free\", \"Free\", \"Free\", \"Free\", \"Free\", \"Free\", \"Free\", \"Free\", \"Free\", \"Free\", \"Free\", \"Free\", \"Free\", \"Free\", \"Free\", \"Free\", \"Free\", \"Free\", \"Free\", \"Free\", \"Free\", \"Free\", \"Free\", \"Free\", \"Free\", \"Free\", \"Free\", \"Free\", \"Free\", \"Free\", \"Free\", \"Free\", \"Free\", \"Free\", \"Free\", \"Free\", \"Free\", \"Free\", \"Free\", \"Free\", \"Free\", \"Free\", \"Free\", \"Free\", \"Free\", \"Free\", \"Free\", \"Free\", \"Free\", \"Free\", \"Free\", \"Free\", \"Free\", \"Free\", \"Free\", \"Free\", \"Free\", \"Free\", \"Free\", \"Free\", \"Free\", \"Free\", \"Free\", \"Free\", \"Free\", \"Free\", \"Free\", \"Free\", \"Free\", \"Free\", \"Free\", \"Free\", \"Free\", \"Free\", \"Free\", \"Free\", \"Free\", \"Free\", \"Free\", \"Free\", \"Free\", \"Free\", \"Free\", \"Free\", \"Free\", \"Free\", \"Free\", \"Free\", \"Free\", \"Free\", \"Free\", \"Free\", \"Free\", \"Free\", \"Free\", \"Free\", \"Free\", \"Free\", \"Free\", \"Free\", \"Free\", \"Free\", \"Free\", \"Free\", \"Free\", \"Free\", \"Free\", \"Free\", \"Free\", \"Free\", \"Free\", \"Free\", \"Free\", \"Free\", \"Free\", \"Free\", \"Free\", \"Free\", \"Free\", \"Free\", \"Free\", \"Free\", \"Free\", \"Free\", \"Free\", \"Free\", \"Free\", \"Free\", \"Free\", \"Free\", \"Free\", \"Free\", \"Free\", \"Free\", \"Free\", \"Free\", \"Free\", \"Free\", \"Free\", \"Free\", \"Free\", \"Free\", \"Free\", \"Free\", \"Free\", \"Free\", \"Free\", \"Free\", \"Free\", \"Free\", \"Free\", \"Free\", \"Free\", \"Free\", \"Free\", \"Free\", \"Free\", \"Free\", \"Free\", \"Free\", \"Free\", \"Free\", \"Free\", \"Free\", \"Free\", \"Free\", \"Free\", \"Free\", \"Free\", \"Free\", \"Free\", \"Free\", \"Free\", \"Free\", \"Free\", \"Free\", \"Free\", \"Free\", \"Free\", \"Free\", \"Free\", \"Free\", \"Free\", \"Free\", \"Free\", \"Free\", \"Free\", \"Free\", \"Free\", \"Free\", \"Free\", \"Free\", \"Free\", \"Free\", \"Free\", \"Free\", \"Free\", \"Free\", \"Free\", \"Free\", \"Free\", \"Free\", \"Free\", \"Free\", \"Free\", \"Free\", \"Free\", \"Free\", \"Free\", \"Free\", \"Free\", \"Free\", \"Free\", \"Free\", \"Free\", \"Free\", \"Free\", \"Free\", \"Free\", \"Free\", \"Free\", \"Free\", \"Free\", \"Free\", \"Free\", \"Free\", \"Free\", \"Free\", \"Free\", \"Free\", \"Free\", \"Free\", \"Free\", \"Free\", \"Free\", \"Free\", \"Free\", \"Free\", \"Free\", \"Free\", \"Free\", \"Free\", \"Free\", \"Free\", \"Free\", \"Free\", \"Free\", \"Free\", \"Free\", \"Free\", \"Free\", \"Free\", \"Free\", \"Free\", \"Free\", \"Free\", \"Free\", \"Free\", \"Free\", \"Free\", \"Free\", \"Free\", \"Free\", \"Free\", \"Free\", \"Free\", \"Free\", \"Free\", \"Free\", \"Free\", \"Free\", \"Free\", \"Free\", \"Free\", \"Free\", \"Free\", \"Free\", \"Free\", \"Free\", \"Free\", \"Free\", \"Free\", \"Free\", \"Free\", \"Free\", \"Free\", \"Free\", \"Free\", \"Free\", \"Free\", \"Free\", \"Free\", \"Free\", \"Free\", \"Free\", \"Free\", \"Free\", \"Free\", \"Free\", \"Free\", \"Free\", \"Free\", \"Free\", \"Free\", \"Free\", \"Free\", \"Free\", \"Free\", \"Free\", \"Free\", \"Free\", \"Free\", \"Free\", \"Free\", \"Free\", \"Free\", \"Free\", \"Free\", \"Free\", \"Free\", \"Free\", \"Free\", \"Free\", \"Free\", \"Free\", \"Free\", \"Free\", \"Free\", \"Free\", \"Free\", \"Free\", \"Free\", \"Free\", \"Free\", \"Free\", \"Free\", \"Free\", \"Free\", \"Free\", \"Free\", \"Free\", \"Free\", \"Free\", \"Free\", \"Free\", \"Free\", \"Free\", \"Free\", \"Free\", \"Free\", \"Free\", \"Free\", \"Free\", \"Free\", \"Free\", \"Free\", \"Free\", \"Free\", \"Free\", \"Free\", \"Free\", \"Free\", \"Free\", \"Free\", \"Free\", \"Free\", \"Free\", \"Free\", \"Free\", \"Free\", \"Free\", \"Free\", \"Free\", \"Free\", \"Free\", \"Free\", \"Free\", \"Free\", \"Free\", \"Free\", \"Free\", \"Free\", \"Free\", \"Free\", \"Free\", \"Free\", \"Free\", \"Free\", \"Free\", \"Free\", \"Free\", \"Free\", \"Free\", \"Free\", \"Free\", \"Free\", \"Free\", \"Free\", \"Free\", \"Free\", \"Free\", \"Free\", \"Free\", \"Free\", \"Free\", \"Free\", \"Free\", \"Free\", \"Free\", \"Free\", \"Free\", \"Free\", \"Free\", \"Free\", \"Free\", \"Free\", \"Free\", \"Free\", \"Free\", \"Free\", \"Free\", \"Free\", \"Free\", \"Free\", \"Free\", \"Free\", \"Free\", \"Free\", \"Free\", \"Free\", \"Free\", \"Free\", \"Free\", \"Free\", \"Free\", \"Free\", \"Free\", \"Free\", \"Free\", \"Free\", \"Free\", \"Free\", \"Free\", \"Free\", \"Free\", \"Free\", \"Free\", \"Free\", \"Free\", \"Free\", \"Free\", \"Free\", \"Free\", \"Free\", \"Free\", \"Free\", \"Free\", \"Free\", \"Free\", \"Free\", \"Free\", \"Free\", \"Free\", \"Free\", \"Free\", \"Free\", \"Free\", \"Free\", \"Free\", \"Free\", \"Free\", \"Free\", \"Free\", \"Free\", \"Free\", \"Free\", \"Free\", \"Free\", \"Free\", \"Free\", \"Free\", \"Free\", \"Free\", \"Free\", \"Free\", \"Free\", \"Free\", \"Free\", \"Free\", \"Free\", \"Free\", \"Free\", \"Free\", \"Free\", \"Free\", \"Free\", \"Free\", \"Free\", \"Free\", \"Free\", \"Free\", \"Free\", \"Free\", \"Free\", \"Free\", \"Free\", \"Free\", \"Free\", \"Free\", \"Free\", \"Free\", \"Free\", \"Free\", \"Free\", \"Free\", \"Free\", \"Free\", \"Free\", \"Free\", \"Free\", \"Free\", \"Free\", \"Free\", \"Free\", \"Free\", \"Free\", \"Free\", \"Free\", \"Free\", \"Free\", \"Free\", \"Free\", \"Free\", \"Free\", \"Free\", \"Free\", \"Free\", \"Free\", \"Free\", \"Free\", \"Free\", \"Free\", \"Free\", \"Free\", \"Free\", \"Free\", \"Free\", \"Free\", \"Free\", \"Free\", \"Free\", \"Free\", \"Free\", \"Free\", \"Free\", \"Free\", \"Free\", \"Free\", \"Free\", \"Free\", \"Free\", \"Free\", \"Free\", \"Free\", \"Free\", \"Free\", \"Free\", \"Free\", \"Free\", \"Free\", \"Free\", \"Free\", \"Free\", \"Free\", \"Free\", \"Free\", \"Free\", \"Free\", \"Free\", \"Free\", \"Free\", \"Free\", \"Free\", \"Free\", \"Free\", \"Free\", \"Free\", \"Free\", \"Free\", \"Free\", \"Free\", \"Free\", \"Free\", \"Free\", \"Free\", \"Free\", \"Free\", \"Free\", \"Free\", \"Free\", \"Free\", \"Free\", \"Free\", \"Free\", \"Free\", \"Free\", \"Free\", \"Free\", \"Free\", \"Free\", \"Free\", \"Free\", \"Free\", \"Free\", \"Free\", \"Free\", \"Free\", \"Free\", \"Free\", \"Free\", \"Free\", \"Free\", \"Free\", \"Free\", \"Free\", \"Free\", \"Free\", \"Free\", \"Free\", \"Free\", \"Free\", \"Free\", \"Free\", \"Free\", \"Free\", \"Free\", \"Free\", \"Free\", \"Free\", \"Free\", \"Free\", \"Free\", \"Free\", \"Free\", \"Free\", \"Free\", \"Free\", \"Free\", \"Free\", \"Free\", \"Free\", \"Free\", \"Free\", \"Free\", \"Free\", \"Free\", \"Free\", \"Free\", \"Free\", \"Free\", \"Free\", \"Free\", \"Free\", \"Free\", \"Free\", \"Free\", \"Free\", \"Free\", \"Free\", \"Free\", \"Free\", \"Free\", \"Free\", \"Free\", \"Free\", \"Free\", \"Free\", \"Free\", \"Free\", \"Free\", \"Free\", \"Free\", \"Free\", \"Free\", \"Free\", \"Free\", \"Free\", \"Free\", \"Free\", \"Free\", \"Free\", \"Free\", \"Free\", \"Free\", \"Free\", \"Free\", \"Free\", \"Free\", \"Free\", \"Free\", \"Free\", \"Free\", \"Free\", \"Free\", \"Free\", \"Free\", \"Free\", \"Free\", \"Free\", \"Free\", \"Free\", \"Free\", \"Free\", \"Free\", \"Free\", \"Free\", \"Free\", \"Free\", \"Free\", \"Free\", \"Free\", \"Free\", \"Free\", \"Free\", \"Free\", \"Free\", \"Free\", \"Free\", \"Free\", \"Free\", \"Free\", \"Free\", \"Free\", \"Free\", \"Free\", \"Free\", \"Free\", \"Free\", \"Free\", \"Free\", \"Free\", \"Free\", \"Free\", \"Free\", \"Free\", \"Free\", \"Free\", \"Free\", \"Free\", \"Free\", \"Free\", \"Free\", \"Free\", \"Free\", \"Free\", \"Free\", \"Free\", \"Free\", \"Free\", \"Free\", \"Free\", \"Free\", \"Free\", \"Free\", \"Free\", \"Free\", \"Free\", \"Free\", \"Free\", \"Free\", \"Free\", \"Free\", \"Free\", \"Free\", \"Free\", \"Free\", \"Free\", \"Free\", \"Free\", \"Free\", \"Free\", \"Free\", \"Free\", \"Free\", \"Free\", \"Free\", \"Free\", \"Free\", \"Free\", \"Free\", \"Free\", \"Free\", \"Free\", \"Free\", \"Free\", \"Free\", \"Free\", \"Free\", \"Free\", \"Free\", \"Free\", \"Free\", \"Free\", \"Free\", \"Free\", \"Free\", \"Free\", \"Free\", \"Free\", \"Free\", \"Free\", \"Free\", \"Free\", \"Free\", \"Free\", \"Free\", \"Free\", \"Free\", \"Free\", \"Free\", \"Free\", \"Free\", \"Free\", \"Free\", \"Free\", \"Free\", \"Free\", \"Free\", \"Free\", \"Free\", \"Free\", \"Free\", \"Free\", \"Free\", \"Free\", \"Free\", \"Free\", \"Free\", \"Free\", \"Free\", \"Free\", \"Free\", \"Free\", \"Free\", \"Free\", \"Free\", \"Free\", \"Free\", \"Free\", \"Free\", \"Free\", \"Free\", \"Free\", \"Free\", \"Free\", \"Free\", \"Free\", \"Free\", \"Free\", \"Free\", \"Free\", \"Free\", \"Free\", \"Free\", \"Free\", \"Free\", \"Free\", \"Free\", \"Free\", \"Free\", \"Free\", \"Free\", \"Free\", \"Free\", \"Free\", \"Free\", \"Free\", \"Free\", \"Free\", \"Free\", \"Free\", \"Free\", \"Free\", \"Free\", \"Free\", \"Free\", \"Free\", \"Free\", \"Free\", \"Free\", \"Free\", \"Free\", \"Free\", \"Free\", \"Free\", \"Free\", \"Free\", \"Free\", \"Free\", \"Free\", \"Free\", \"Free\", \"Free\", \"Free\", \"Free\", \"Free\", \"Free\", \"Free\", \"Free\", \"Free\", \"Free\", \"Free\", \"Free\", \"Free\", \"Free\", \"Free\", \"Free\", \"Free\", \"Free\", \"Free\", \"Free\", \"Free\", \"Free\", \"Free\", \"Free\", \"Free\", \"Free\", \"Free\", \"Free\", \"Free\", \"Free\", \"Free\", \"Free\", \"Free\", \"Free\", \"Free\", \"Free\", \"Free\", \"Free\", \"Free\", \"Free\", \"Free\", \"Free\", \"Free\", \"Free\", \"Free\", \"Free\", \"Free\", \"Free\", \"Free\", \"Free\", \"Free\", \"Free\", \"Free\", \"Free\", \"Free\", \"Free\", \"Free\", \"Free\", \"Free\", \"Free\", \"Free\", \"Free\", \"Free\", \"Free\", \"Free\", \"Free\", \"Free\", \"Free\", \"Free\", \"Free\", \"Free\", \"Free\", \"Free\", \"Free\", \"Free\", \"Free\", \"Free\", \"Free\", \"Free\", \"Free\", \"Free\", \"Free\", \"Free\", \"Free\", \"Free\", \"Free\", \"Free\", \"Free\", \"Free\", \"Free\", \"Free\", \"Free\", \"Free\", \"Free\", \"Free\", \"Free\", \"Free\", \"Free\", \"Free\", \"Free\", \"Free\", \"Free\", \"Free\", \"Free\", \"Free\", \"Free\", \"Free\", \"Free\", \"Free\", \"Free\", \"Free\", \"Free\", \"Free\", \"Free\", \"Free\", \"Free\", \"Free\", \"Free\", \"Free\", \"Free\", \"Free\", \"Free\", \"Free\", \"Free\", \"Free\", \"Free\", \"Free\", \"Free\", \"Free\", \"Free\", \"Free\", \"Free\", \"Free\", \"Free\", \"Free\", \"Free\", \"Free\", \"Free\", \"Free\", \"Free\", \"Free\", \"Free\", \"Free\", \"Free\", \"Free\", \"Free\", \"Free\", \"Free\", \"Free\", \"Free\", \"Free\", \"Free\", \"Free\", \"Free\", \"Free\", \"Free\", \"Free\", \"Free\", \"Free\", \"Free\", \"Free\", \"Free\", \"Free\", \"Free\", \"Free\", \"Free\", \"Free\", \"Free\", \"Free\", \"Free\", \"Free\", \"Free\", \"Free\", \"Free\", \"Free\", \"Free\", \"Free\", \"Free\", \"Free\", \"Free\", \"Free\", \"Free\", \"Free\", \"Free\", \"Free\", \"Free\", \"Free\", \"Free\", \"Free\", \"Free\", \"Free\", \"Free\", \"Free\", \"Free\", \"Free\", \"Free\", \"Free\", \"Free\", \"Free\", \"Free\", \"Free\", \"Free\", \"Free\", \"Free\", \"Free\", \"Free\", \"Free\", \"Free\", \"Free\", \"Free\", \"Free\", \"Free\", \"Free\", \"Free\", \"Free\", \"Free\", \"Free\", \"Free\", \"Free\", \"Free\", \"Free\", \"Free\", \"Free\", \"Free\", \"Free\", \"Free\", \"Free\", \"Free\", \"Free\", \"Free\", \"Free\", \"Free\", \"Free\", \"Free\", \"Free\", \"Free\", \"Free\", \"Free\", \"Free\", \"Free\", \"Free\", \"Free\", \"Free\", \"Free\", \"Free\", \"Free\", \"Free\", \"Free\", \"Free\", \"Free\", \"Free\", \"Free\", \"Free\", \"Free\", \"Free\", \"Free\", \"Free\", \"Free\", \"Free\", \"Free\", \"Free\", \"Free\", \"Free\", \"Free\", \"Free\", \"Free\", \"Free\", \"Free\", \"Free\", \"Free\", \"Free\", \"Free\", \"Free\", \"Free\", \"Free\", \"Free\", \"Free\", \"Free\", \"Free\", \"Free\", \"Free\", \"Free\", \"Free\", \"Free\", \"Free\", \"Free\", \"Free\", \"Free\", \"Free\", \"Free\", \"Free\", \"Free\", \"Free\", \"Free\", \"Free\", \"Free\", \"Free\", \"Free\", \"Free\", \"Free\", \"Free\", \"Free\", \"Free\", \"Free\", \"Free\", \"Free\", \"Free\", \"Free\", \"Free\", \"Free\", \"Free\", \"Free\", \"Free\", \"Free\", \"Free\", \"Free\", \"Free\", \"Free\", \"Free\", \"Free\", \"Free\", \"Free\", \"Free\", \"Free\", \"Free\", \"Free\", \"Free\", \"Free\", \"Free\", \"Free\", \"Free\", \"Free\", \"Free\", \"Free\", \"Free\", \"Free\", \"Free\", \"Free\", \"Free\", \"Free\", \"Free\", \"Free\", \"Free\", \"Free\", \"Free\", \"Free\", \"Free\", \"Free\", \"Free\", \"Free\", \"Free\", \"Free\", \"Free\", \"Free\", \"Free\", \"Free\", \"Free\", \"Free\", \"Free\", \"Free\", \"Free\", \"Free\", \"Free\", \"Free\", \"Free\", \"Free\", \"Free\", \"Free\", \"Free\", \"Free\", \"Free\", \"Free\", \"Free\", \"Free\", \"Free\", \"Free\", \"Free\", \"Free\", \"Free\", \"Free\", \"Free\", \"Free\", \"Free\", \"Free\", \"Free\", \"Free\", \"Free\", \"Free\", \"Free\", \"Free\", \"Free\", \"Free\", \"Free\", \"Free\", \"Free\", \"Free\", \"Free\", \"Free\", \"Free\", \"Free\", \"Free\", \"Free\", \"Free\", \"Free\", \"Free\", \"Free\", \"Free\", \"Free\", \"Free\", \"Free\", \"Free\", \"Free\", \"Free\", \"Free\", \"Free\", \"Free\", \"Free\", \"Free\", \"Free\", \"Free\", \"Free\", \"Free\", \"Free\", \"Free\", \"Free\", \"Free\", \"Free\", \"Free\", \"Free\", \"Free\", \"Free\", \"Free\", \"Free\", \"Free\", \"Free\", \"Free\", \"Free\", \"Free\", \"Free\", \"Free\", \"Free\", \"Free\", \"Free\", \"Free\", \"Free\", \"Free\", \"Free\", \"Free\", \"Free\", \"Free\", \"Free\", \"Free\", \"Free\", \"Free\", \"Free\", \"Free\", \"Free\", \"Free\", \"Free\", \"Free\", \"Free\", \"Free\", \"Free\", \"Free\", \"Free\", \"Free\", \"Free\", \"Free\", \"Free\", \"Free\", \"Free\", \"Free\", \"Free\", \"Free\", \"Free\", \"Free\", \"Free\", \"Free\", \"Free\", \"Free\", \"Free\", \"Free\", \"Free\", \"Free\", \"Free\", \"Free\", \"Free\", \"Free\", \"Free\", \"Free\", \"Free\", \"Free\", \"Free\", \"Free\", \"Free\", \"Free\", \"Free\", \"Free\", \"Free\", \"Free\", \"Free\", \"Free\", \"Free\", \"Free\", \"Free\", \"Free\", \"Free\", \"Free\", \"Free\", \"Free\", \"Free\", \"Free\", \"Free\", \"Free\", \"Free\", \"Free\", \"Free\", \"Free\", \"Free\", \"Free\", \"Free\", \"Free\"], \"x0\": \" \", \"xaxis\": \"x\", \"y\": [1, 5, 5, 5, 5, 5, 5, 5, 5, 5, 10, 10, 10, 10, 10, 10, 10, 10, 10, 10, 10, 10, 10, 10, 10, 10, 10, 10, 10, 10, 10, 10, 10, 10, 10, 10, 10, 10, 10, 10, 10, 10, 10, 10, 10, 10, 10, 10, 10, 10, 10, 10, 10, 10, 10, 10, 10, 10, 10, 10, 10, 50, 50, 50, 50, 50, 50, 50, 50, 50, 50, 50, 50, 50, 50, 50, 50, 50, 50, 50, 50, 50, 50, 50, 50, 50, 50, 50, 50, 50, 50, 50, 50, 50, 50, 50, 50, 50, 50, 50, 50, 50, 50, 100, 100, 100, 100, 100, 100, 100, 100, 100, 100, 100, 100, 100, 100, 100, 100, 100, 100, 100, 100, 100, 100, 100, 100, 100, 100, 100, 100, 100, 100, 100, 100, 100, 100, 100, 100, 100, 100, 100, 100, 100, 100, 100, 100, 100, 100, 100, 100, 100, 100, 100, 100, 100, 100, 100, 100, 100, 100, 100, 100, 100, 100, 100, 100, 100, 100, 100, 100, 100, 100, 100, 100, 100, 100, 100, 100, 100, 100, 100, 100, 100, 100, 100, 100, 100, 100, 100, 100, 100, 100, 100, 100, 100, 100, 100, 100, 100, 100, 100, 100, 100, 100, 100, 100, 100, 100, 100, 100, 100, 100, 100, 100, 100, 100, 100, 100, 100, 100, 100, 100, 100, 100, 100, 100, 100, 100, 100, 100, 100, 100, 100, 100, 100, 100, 100, 100, 100, 100, 100, 100, 100, 100, 100, 100, 100, 100, 100, 100, 100, 100, 100, 100, 100, 100, 100, 100, 100, 100, 100, 100, 100, 100, 100, 100, 100, 100, 100, 100, 100, 100, 100, 100, 100, 100, 100, 100, 100, 100, 100, 100, 100, 100, 100, 100, 100, 100, 100, 100, 100, 100, 100, 100, 100, 100, 100, 100, 100, 100, 100, 100, 100, 100, 100, 100, 100, 100, 100, 100, 100, 100, 100, 100, 100, 100, 100, 100, 100, 100, 100, 100, 100, 100, 100, 100, 100, 100, 100, 100, 100, 100, 100, 100, 100, 100, 100, 100, 100, 500, 500, 500, 500, 500, 500, 500, 500, 500, 500, 500, 500, 500, 500, 500, 500, 500, 500, 500, 500, 500, 500, 500, 500, 500, 500, 500, 500, 500, 500, 500, 500, 500, 500, 500, 500, 500, 500, 500, 500, 500, 500, 500, 500, 500, 500, 500, 500, 500, 500, 500, 500, 500, 500, 500, 500, 500, 500, 500, 500, 500, 500, 500, 500, 500, 500, 500, 500, 500, 500, 500, 500, 500, 500, 500, 500, 500, 500, 500, 500, 500, 500, 500, 500, 500, 500, 500, 500, 500, 500, 500, 500, 500, 500, 500, 500, 500, 500, 500, 500, 500, 500, 500, 500, 500, 500, 500, 500, 500, 500, 500, 500, 500, 500, 500, 500, 500, 500, 500, 500, 500, 500, 500, 500, 500, 500, 500, 500, 500, 500, 500, 500, 500, 500, 500, 500, 500, 500, 500, 500, 500, 500, 500, 500, 500, 500, 500, 500, 500, 500, 500, 500, 500, 500, 500, 500, 500, 500, 500, 500, 500, 500, 500, 1000, 1000, 1000, 1000, 1000, 1000, 1000, 1000, 1000, 1000, 1000, 1000, 1000, 1000, 1000, 1000, 1000, 1000, 1000, 1000, 1000, 1000, 1000, 1000, 1000, 1000, 1000, 1000, 1000, 1000, 1000, 1000, 1000, 1000, 1000, 1000, 1000, 1000, 1000, 1000, 1000, 1000, 1000, 1000, 1000, 1000, 1000, 1000, 1000, 1000, 1000, 1000, 1000, 1000, 1000, 1000, 1000, 1000, 1000, 1000, 1000, 1000, 1000, 1000, 1000, 1000, 1000, 1000, 1000, 1000, 1000, 1000, 1000, 1000, 1000, 1000, 1000, 1000, 1000, 1000, 1000, 1000, 1000, 1000, 1000, 1000, 1000, 1000, 1000, 1000, 1000, 1000, 1000, 1000, 1000, 1000, 1000, 1000, 1000, 1000, 1000, 1000, 1000, 1000, 1000, 1000, 1000, 1000, 1000, 1000, 1000, 1000, 1000, 1000, 1000, 1000, 1000, 1000, 1000, 1000, 1000, 1000, 1000, 1000, 1000, 1000, 1000, 1000, 1000, 1000, 1000, 1000, 1000, 1000, 1000, 1000, 1000, 1000, 1000, 1000, 1000, 1000, 1000, 1000, 1000, 1000, 1000, 1000, 1000, 1000, 1000, 1000, 1000, 1000, 1000, 1000, 1000, 1000, 1000, 1000, 1000, 1000, 1000, 1000, 1000, 1000, 1000, 1000, 1000, 1000, 1000, 1000, 1000, 1000, 1000, 1000, 1000, 1000, 1000, 1000, 1000, 1000, 1000, 1000, 1000, 1000, 1000, 1000, 1000, 1000, 1000, 1000, 1000, 1000, 1000, 1000, 1000, 1000, 1000, 1000, 1000, 1000, 1000, 1000, 1000, 1000, 1000, 1000, 1000, 1000, 1000, 1000, 1000, 1000, 1000, 1000, 1000, 1000, 1000, 1000, 1000, 1000, 1000, 1000, 1000, 1000, 1000, 1000, 1000, 1000, 1000, 1000, 1000, 1000, 1000, 1000, 1000, 1000, 1000, 1000, 1000, 1000, 1000, 1000, 1000, 1000, 1000, 1000, 1000, 1000, 1000, 1000, 1000, 1000, 1000, 1000, 1000, 1000, 1000, 1000, 1000, 1000, 1000, 1000, 1000, 1000, 1000, 1000, 1000, 1000, 1000, 1000, 1000, 1000, 1000, 1000, 1000, 1000, 1000, 1000, 1000, 1000, 1000, 1000, 1000, 1000, 1000, 1000, 1000, 1000, 1000, 1000, 1000, 1000, 1000, 1000, 1000, 1000, 1000, 1000, 1000, 1000, 1000, 1000, 1000, 1000, 1000, 1000, 1000, 1000, 1000, 1000, 1000, 1000, 1000, 1000, 1000, 1000, 1000, 1000, 1000, 1000, 1000, 1000, 1000, 1000, 1000, 1000, 1000, 1000, 1000, 1000, 1000, 1000, 1000, 1000, 1000, 1000, 1000, 1000, 1000, 1000, 1000, 1000, 1000, 1000, 1000, 1000, 1000, 1000, 1000, 1000, 1000, 1000, 1000, 1000, 1000, 1000, 1000, 1000, 1000, 1000, 1000, 1000, 1000, 1000, 1000, 1000, 1000, 1000, 1000, 1000, 1000, 1000, 1000, 1000, 1000, 1000, 1000, 1000, 1000, 1000, 1000, 1000, 1000, 1000, 1000, 1000, 1000, 1000, 1000, 1000, 1000, 1000, 1000, 1000, 1000, 1000, 1000, 1000, 1000, 1000, 1000, 1000, 1000, 1000, 1000, 1000, 1000, 1000, 1000, 1000, 1000, 1000, 1000, 1000, 1000, 1000, 1000, 1000, 1000, 1000, 1000, 1000, 1000, 1000, 1000, 1000, 1000, 1000, 1000, 1000, 1000, 1000, 1000, 1000, 1000, 1000, 1000, 1000, 1000, 1000, 1000, 1000, 1000, 1000, 1000, 1000, 1000, 1000, 1000, 1000, 1000, 1000, 1000, 1000, 1000, 1000, 1000, 1000, 1000, 1000, 1000, 1000, 1000, 1000, 1000, 1000, 1000, 1000, 1000, 1000, 1000, 1000, 1000, 1000, 1000, 1000, 1000, 1000, 1000, 1000, 1000, 1000, 1000, 1000, 1000, 1000, 1000, 1000, 1000, 1000, 1000, 1000, 1000, 1000, 1000, 1000, 1000, 1000, 1000, 1000, 1000, 1000, 1000, 1000, 1000, 1000, 1000, 1000, 1000, 1000, 1000, 1000, 1000, 1000, 1000, 1000, 1000, 1000, 1000, 1000, 1000, 1000, 1000, 1000, 1000, 1000, 1000, 1000, 1000, 1000, 1000, 1000, 1000, 1000, 1000, 1000, 1000, 1000, 1000, 1000, 1000, 1000, 1000, 1000, 1000, 1000, 1000, 1000, 1000, 1000, 1000, 1000, 1000, 1000, 1000, 1000, 1000, 1000, 1000, 1000, 1000, 1000, 1000, 1000, 1000, 5000, 5000, 5000, 5000, 5000, 5000, 5000, 5000, 5000, 5000, 5000, 5000, 5000, 5000, 5000, 5000, 5000, 5000, 5000, 5000, 5000, 5000, 5000, 5000, 5000, 5000, 5000, 5000, 5000, 5000, 5000, 5000, 5000, 5000, 5000, 5000, 5000, 5000, 5000, 5000, 5000, 5000, 5000, 5000, 5000, 5000, 5000, 5000, 5000, 5000, 5000, 5000, 5000, 5000, 5000, 5000, 5000, 5000, 5000, 5000, 5000, 5000, 5000, 5000, 5000, 5000, 5000, 5000, 5000, 5000, 5000, 5000, 5000, 5000, 5000, 5000, 5000, 5000, 5000, 5000, 5000, 5000, 5000, 5000, 5000, 5000, 5000, 5000, 5000, 5000, 5000, 5000, 5000, 5000, 5000, 5000, 5000, 5000, 5000, 5000, 5000, 5000, 5000, 5000, 5000, 5000, 5000, 5000, 5000, 5000, 5000, 5000, 5000, 5000, 5000, 5000, 5000, 5000, 5000, 5000, 5000, 5000, 5000, 5000, 5000, 5000, 5000, 5000, 5000, 5000, 5000, 5000, 5000, 5000, 5000, 5000, 5000, 5000, 5000, 5000, 5000, 5000, 5000, 5000, 5000, 5000, 5000, 5000, 5000, 5000, 5000, 5000, 5000, 5000, 5000, 5000, 5000, 5000, 5000, 5000, 5000, 5000, 5000, 5000, 5000, 5000, 5000, 5000, 5000, 5000, 5000, 5000, 5000, 5000, 5000, 5000, 5000, 5000, 5000, 5000, 5000, 5000, 5000, 5000, 5000, 5000, 5000, 5000, 5000, 5000, 5000, 5000, 5000, 5000, 5000, 5000, 5000, 5000, 5000, 5000, 5000, 5000, 5000, 5000, 5000, 5000, 5000, 5000, 5000, 5000, 5000, 5000, 5000, 5000, 5000, 5000, 5000, 5000, 5000, 5000, 5000, 5000, 5000, 5000, 5000, 5000, 5000, 5000, 5000, 5000, 5000, 5000, 5000, 5000, 5000, 5000, 5000, 5000, 5000, 5000, 5000, 5000, 5000, 5000, 5000, 5000, 5000, 5000, 5000, 5000, 5000, 5000, 5000, 5000, 5000, 5000, 5000, 5000, 5000, 5000, 5000, 5000, 5000, 5000, 5000, 5000, 5000, 5000, 5000, 5000, 5000, 5000, 5000, 5000, 5000, 5000, 5000, 5000, 5000, 5000, 5000, 5000, 5000, 5000, 5000, 5000, 5000, 5000, 5000, 5000, 5000, 5000, 5000, 5000, 5000, 5000, 5000, 5000, 5000, 5000, 5000, 5000, 5000, 5000, 5000, 5000, 5000, 5000, 5000, 5000, 5000, 5000, 5000, 5000, 5000, 5000, 5000, 5000, 5000, 5000, 5000, 5000, 5000, 5000, 5000, 5000, 5000, 5000, 5000, 5000, 5000, 5000, 5000, 5000, 5000, 5000, 5000, 5000, 5000, 5000, 5000, 5000, 5000, 5000, 5000, 5000, 5000, 5000, 5000, 5000, 5000, 5000, 5000, 5000, 5000, 5000, 5000, 5000, 5000, 5000, 10000, 10000, 10000, 10000, 10000, 10000, 10000, 10000, 10000, 10000, 10000, 10000, 10000, 10000, 10000, 10000, 10000, 10000, 10000, 10000, 10000, 10000, 10000, 10000, 10000, 10000, 10000, 10000, 10000, 10000, 10000, 10000, 10000, 10000, 10000, 10000, 10000, 10000, 10000, 10000, 10000, 10000, 10000, 10000, 10000, 10000, 10000, 10000, 10000, 10000, 10000, 10000, 10000, 10000, 10000, 10000, 10000, 10000, 10000, 10000, 10000, 10000, 10000, 10000, 10000, 10000, 10000, 10000, 10000, 10000, 10000, 10000, 10000, 10000, 10000, 10000, 10000, 10000, 10000, 10000, 10000, 10000, 10000, 10000, 10000, 10000, 10000, 10000, 10000, 10000, 10000, 10000, 10000, 10000, 10000, 10000, 10000, 10000, 10000, 10000, 10000, 10000, 10000, 10000, 10000, 10000, 10000, 10000, 10000, 10000, 10000, 10000, 10000, 10000, 10000, 10000, 10000, 10000, 10000, 10000, 10000, 10000, 10000, 10000, 10000, 10000, 10000, 10000, 10000, 10000, 10000, 10000, 10000, 10000, 10000, 10000, 10000, 10000, 10000, 10000, 10000, 10000, 10000, 10000, 10000, 10000, 10000, 10000, 10000, 10000, 10000, 10000, 10000, 10000, 10000, 10000, 10000, 10000, 10000, 10000, 10000, 10000, 10000, 10000, 10000, 10000, 10000, 10000, 10000, 10000, 10000, 10000, 10000, 10000, 10000, 10000, 10000, 10000, 10000, 10000, 10000, 10000, 10000, 10000, 10000, 10000, 10000, 10000, 10000, 10000, 10000, 10000, 10000, 10000, 10000, 10000, 10000, 10000, 10000, 10000, 10000, 10000, 10000, 10000, 10000, 10000, 10000, 10000, 10000, 10000, 10000, 10000, 10000, 10000, 10000, 10000, 10000, 10000, 10000, 10000, 10000, 10000, 10000, 10000, 10000, 10000, 10000, 10000, 10000, 10000, 10000, 10000, 10000, 10000, 10000, 10000, 10000, 10000, 10000, 10000, 10000, 10000, 10000, 10000, 10000, 10000, 10000, 10000, 10000, 10000, 10000, 10000, 10000, 10000, 10000, 10000, 10000, 10000, 10000, 10000, 10000, 10000, 10000, 10000, 10000, 10000, 10000, 10000, 10000, 10000, 10000, 10000, 10000, 10000, 10000, 10000, 10000, 10000, 10000, 10000, 10000, 10000, 10000, 10000, 10000, 10000, 10000, 10000, 10000, 10000, 10000, 10000, 10000, 10000, 10000, 10000, 10000, 10000, 10000, 10000, 10000, 10000, 10000, 10000, 10000, 10000, 10000, 10000, 10000, 10000, 10000, 10000, 10000, 10000, 10000, 10000, 10000, 10000, 10000, 10000, 10000, 10000, 10000, 10000, 10000, 10000, 10000, 10000, 10000, 10000, 10000, 10000, 10000, 10000, 10000, 10000, 10000, 10000, 10000, 10000, 10000, 10000, 10000, 10000, 10000, 10000, 10000, 10000, 10000, 10000, 10000, 10000, 10000, 10000, 10000, 10000, 10000, 10000, 10000, 10000, 10000, 10000, 10000, 10000, 10000, 10000, 10000, 10000, 10000, 10000, 10000, 10000, 10000, 10000, 10000, 10000, 10000, 10000, 10000, 10000, 10000, 10000, 10000, 10000, 10000, 10000, 10000, 10000, 10000, 10000, 10000, 10000, 10000, 10000, 10000, 10000, 10000, 10000, 10000, 10000, 10000, 10000, 10000, 10000, 10000, 10000, 10000, 10000, 10000, 10000, 10000, 10000, 10000, 10000, 10000, 10000, 10000, 10000, 10000, 10000, 10000, 10000, 10000, 10000, 10000, 10000, 10000, 10000, 10000, 10000, 10000, 10000, 10000, 10000, 10000, 10000, 10000, 10000, 10000, 10000, 10000, 10000, 10000, 10000, 10000, 10000, 10000, 10000, 10000, 10000, 10000, 10000, 10000, 10000, 10000, 10000, 10000, 10000, 10000, 10000, 10000, 10000, 10000, 10000, 10000, 10000, 10000, 10000, 10000, 10000, 10000, 10000, 10000, 10000, 10000, 10000, 10000, 10000, 10000, 10000, 10000, 10000, 10000, 10000, 10000, 10000, 10000, 10000, 10000, 10000, 10000, 10000, 10000, 10000, 10000, 10000, 10000, 10000, 10000, 10000, 10000, 10000, 10000, 10000, 10000, 10000, 10000, 10000, 10000, 10000, 10000, 10000, 10000, 10000, 10000, 10000, 10000, 10000, 10000, 10000, 10000, 10000, 10000, 10000, 10000, 10000, 10000, 10000, 10000, 10000, 10000, 10000, 10000, 10000, 10000, 10000, 10000, 10000, 10000, 10000, 10000, 10000, 10000, 10000, 10000, 10000, 10000, 10000, 10000, 10000, 10000, 10000, 10000, 10000, 10000, 10000, 10000, 10000, 10000, 10000, 10000, 10000, 10000, 10000, 10000, 10000, 10000, 10000, 10000, 10000, 10000, 10000, 10000, 10000, 10000, 10000, 10000, 10000, 10000, 10000, 10000, 10000, 10000, 10000, 10000, 10000, 10000, 10000, 10000, 10000, 10000, 10000, 10000, 10000, 10000, 10000, 10000, 10000, 10000, 10000, 10000, 10000, 10000, 10000, 10000, 10000, 10000, 10000, 10000, 10000, 10000, 10000, 10000, 10000, 10000, 10000, 10000, 10000, 10000, 10000, 10000, 10000, 10000, 10000, 10000, 10000, 10000, 10000, 10000, 10000, 10000, 10000, 10000, 10000, 10000, 10000, 10000, 10000, 10000, 10000, 10000, 10000, 10000, 10000, 10000, 10000, 10000, 10000, 10000, 10000, 10000, 10000, 10000, 10000, 10000, 10000, 10000, 10000, 10000, 10000, 10000, 10000, 10000, 10000, 10000, 10000, 10000, 10000, 10000, 10000, 10000, 10000, 10000, 10000, 10000, 10000, 10000, 10000, 10000, 10000, 10000, 10000, 10000, 10000, 10000, 10000, 10000, 10000, 10000, 10000, 10000, 10000, 10000, 10000, 10000, 10000, 10000, 10000, 10000, 10000, 10000, 10000, 10000, 10000, 10000, 10000, 10000, 10000, 10000, 10000, 10000, 10000, 10000, 10000, 10000, 10000, 10000, 10000, 10000, 10000, 10000, 10000, 10000, 10000, 10000, 10000, 10000, 10000, 10000, 10000, 10000, 10000, 10000, 10000, 10000, 10000, 10000, 10000, 10000, 10000, 10000, 10000, 10000, 10000, 10000, 10000, 10000, 10000, 10000, 10000, 10000, 10000, 10000, 10000, 10000, 10000, 10000, 10000, 10000, 10000, 10000, 10000, 10000, 10000, 10000, 10000, 10000, 10000, 10000, 10000, 10000, 10000, 10000, 10000, 10000, 10000, 10000, 10000, 10000, 10000, 10000, 10000, 10000, 10000, 10000, 10000, 10000, 10000, 10000, 10000, 10000, 10000, 10000, 10000, 10000, 10000, 10000, 10000, 10000, 10000, 10000, 10000, 10000, 10000, 10000, 10000, 10000, 10000, 10000, 10000, 10000, 10000, 10000, 10000, 10000, 10000, 10000, 10000, 10000, 10000, 10000, 10000, 10000, 10000, 10000, 10000, 10000, 10000, 10000, 10000, 10000, 10000, 10000, 10000, 10000, 10000, 10000, 10000, 10000, 10000, 10000, 10000, 10000, 10000, 10000, 10000, 10000, 10000, 10000, 10000, 10000, 10000, 10000, 10000, 10000, 10000, 10000, 10000, 10000, 10000, 10000, 10000, 10000, 10000, 10000, 10000, 10000, 10000, 10000, 10000, 10000, 50000, 50000, 50000, 50000, 50000, 50000, 50000, 50000, 50000, 50000, 50000, 50000, 50000, 50000, 50000, 50000, 50000, 50000, 50000, 50000, 50000, 50000, 50000, 50000, 50000, 50000, 50000, 50000, 50000, 50000, 50000, 50000, 50000, 50000, 50000, 50000, 50000, 50000, 50000, 50000, 50000, 50000, 50000, 50000, 50000, 50000, 50000, 50000, 50000, 50000, 50000, 50000, 50000, 50000, 50000, 50000, 50000, 50000, 50000, 50000, 50000, 50000, 50000, 50000, 50000, 50000, 50000, 50000, 50000, 50000, 50000, 50000, 50000, 50000, 50000, 50000, 50000, 50000, 50000, 50000, 50000, 50000, 50000, 50000, 50000, 50000, 50000, 50000, 50000, 50000, 50000, 50000, 50000, 50000, 50000, 50000, 50000, 50000, 50000, 50000, 50000, 50000, 50000, 50000, 50000, 50000, 50000, 50000, 50000, 50000, 50000, 50000, 50000, 50000, 50000, 50000, 50000, 50000, 50000, 50000, 50000, 50000, 50000, 50000, 50000, 50000, 50000, 50000, 50000, 50000, 50000, 50000, 50000, 50000, 50000, 50000, 50000, 50000, 50000, 50000, 50000, 50000, 50000, 50000, 50000, 50000, 50000, 50000, 50000, 50000, 50000, 50000, 50000, 50000, 50000, 50000, 50000, 50000, 50000, 50000, 50000, 50000, 50000, 50000, 50000, 50000, 50000, 50000, 50000, 50000, 50000, 50000, 50000, 50000, 50000, 50000, 50000, 50000, 50000, 50000, 50000, 50000, 50000, 50000, 50000, 50000, 50000, 50000, 50000, 50000, 50000, 50000, 50000, 50000, 50000, 50000, 50000, 50000, 50000, 50000, 50000, 50000, 50000, 50000, 50000, 50000, 50000, 50000, 50000, 50000, 50000, 50000, 50000, 50000, 50000, 50000, 50000, 50000, 50000, 50000, 50000, 50000, 50000, 50000, 50000, 50000, 50000, 50000, 50000, 50000, 50000, 50000, 50000, 50000, 50000, 50000, 50000, 50000, 50000, 50000, 50000, 50000, 50000, 50000, 50000, 50000, 50000, 50000, 50000, 50000, 50000, 50000, 50000, 50000, 50000, 50000, 50000, 50000, 50000, 50000, 50000, 50000, 50000, 50000, 50000, 50000, 50000, 50000, 50000, 50000, 50000, 50000, 50000, 50000, 50000, 50000, 50000, 50000, 50000, 50000, 50000, 50000, 50000, 50000, 50000, 50000, 50000, 50000, 50000, 50000, 50000, 50000, 50000, 50000, 50000, 50000, 50000, 50000, 50000, 50000, 50000, 50000, 50000, 50000, 50000, 50000, 50000, 50000, 50000, 50000, 50000, 50000, 50000, 50000, 50000, 50000, 50000, 50000, 50000, 50000, 50000, 50000, 50000, 50000, 50000, 50000, 50000, 50000, 50000, 50000, 50000, 50000, 50000, 50000, 50000, 50000, 50000, 50000, 50000, 50000, 50000, 50000, 50000, 50000, 50000, 50000, 50000, 50000, 50000, 50000, 50000, 50000, 50000, 50000, 50000, 50000, 50000, 50000, 50000, 50000, 50000, 50000, 50000, 50000, 50000, 50000, 50000, 50000, 50000, 50000, 50000, 50000, 50000, 50000, 50000, 50000, 50000, 50000, 50000, 50000, 50000, 50000, 50000, 50000, 50000, 50000, 50000, 50000, 50000, 50000, 50000, 50000, 50000, 50000, 50000, 50000, 50000, 50000, 50000, 50000, 50000, 50000, 50000, 50000, 50000, 50000, 50000, 50000, 50000, 50000, 50000, 50000, 50000, 50000, 50000, 50000, 50000, 100000, 100000, 100000, 100000, 100000, 100000, 100000, 100000, 100000, 100000, 100000, 100000, 100000, 100000, 100000, 100000, 100000, 100000, 100000, 100000, 100000, 100000, 100000, 100000, 100000, 100000, 100000, 100000, 100000, 100000, 100000, 100000, 100000, 100000, 100000, 100000, 100000, 100000, 100000, 100000, 100000, 100000, 100000, 100000, 100000, 100000, 100000, 100000, 100000, 100000, 100000, 100000, 100000, 100000, 100000, 100000, 100000, 100000, 100000, 100000, 100000, 100000, 100000, 100000, 100000, 100000, 100000, 100000, 100000, 100000, 100000, 100000, 100000, 100000, 100000, 100000, 100000, 100000, 100000, 100000, 100000, 100000, 100000, 100000, 100000, 100000, 100000, 100000, 100000, 100000, 100000, 100000, 100000, 100000, 100000, 100000, 100000, 100000, 100000, 100000, 100000, 100000, 100000, 100000, 100000, 100000, 100000, 100000, 100000, 100000, 100000, 100000, 100000, 100000, 100000, 100000, 100000, 100000, 100000, 100000, 100000, 100000, 100000, 100000, 100000, 100000, 100000, 100000, 100000, 100000, 100000, 100000, 100000, 100000, 100000, 100000, 100000, 100000, 100000, 100000, 100000, 100000, 100000, 100000, 100000, 100000, 100000, 100000, 100000, 100000, 100000, 100000, 100000, 100000, 100000, 100000, 100000, 100000, 100000, 100000, 100000, 100000, 100000, 100000, 100000, 100000, 100000, 100000, 100000, 100000, 100000, 100000, 100000, 100000, 100000, 100000, 100000, 100000, 100000, 100000, 100000, 100000, 100000, 100000, 100000, 100000, 100000, 100000, 100000, 100000, 100000, 100000, 100000, 100000, 100000, 100000, 100000, 100000, 100000, 100000, 100000, 100000, 100000, 100000, 100000, 100000, 100000, 100000, 100000, 100000, 100000, 100000, 100000, 100000, 100000, 100000, 100000, 100000, 100000, 100000, 100000, 100000, 100000, 100000, 100000, 100000, 100000, 100000, 100000, 100000, 100000, 100000, 100000, 100000, 100000, 100000, 100000, 100000, 100000, 100000, 100000, 100000, 100000, 100000, 100000, 100000, 100000, 100000, 100000, 100000, 100000, 100000, 100000, 100000, 100000, 100000, 100000, 100000, 100000, 100000, 100000, 100000, 100000, 100000, 100000, 100000, 100000, 100000, 100000, 100000, 100000, 100000, 100000, 100000, 100000, 100000, 100000, 100000, 100000, 100000, 100000, 100000, 100000, 100000, 100000, 100000, 100000, 100000, 100000, 100000, 100000, 100000, 100000, 100000, 100000, 100000, 100000, 100000, 100000, 100000, 100000, 100000, 100000, 100000, 100000, 100000, 100000, 100000, 100000, 100000, 100000, 100000, 100000, 100000, 100000, 100000, 100000, 100000, 100000, 100000, 100000, 100000, 100000, 100000, 100000, 100000, 100000, 100000, 100000, 100000, 100000, 100000, 100000, 100000, 100000, 100000, 100000, 100000, 100000, 100000, 100000, 100000, 100000, 100000, 100000, 100000, 100000, 100000, 100000, 100000, 100000, 100000, 100000, 100000, 100000, 100000, 100000, 100000, 100000, 100000, 100000, 100000, 100000, 100000, 100000, 100000, 100000, 100000, 100000, 100000, 100000, 100000, 100000, 100000, 100000, 100000, 100000, 100000, 100000, 100000, 100000, 100000, 100000, 100000, 100000, 100000, 100000, 100000, 100000, 100000, 100000, 100000, 100000, 100000, 100000, 100000, 100000, 100000, 100000, 100000, 100000, 100000, 100000, 100000, 100000, 100000, 100000, 100000, 100000, 100000, 100000, 100000, 100000, 100000, 100000, 100000, 100000, 100000, 100000, 100000, 100000, 100000, 100000, 100000, 100000, 100000, 100000, 100000, 100000, 100000, 100000, 100000, 100000, 100000, 100000, 100000, 100000, 100000, 100000, 100000, 100000, 100000, 100000, 100000, 100000, 100000, 100000, 100000, 100000, 100000, 100000, 100000, 100000, 100000, 100000, 100000, 100000, 100000, 100000, 100000, 100000, 100000, 100000, 100000, 100000, 100000, 100000, 100000, 100000, 100000, 100000, 100000, 100000, 100000, 100000, 100000, 100000, 100000, 100000, 100000, 100000, 100000, 100000, 100000, 100000, 100000, 100000, 100000, 100000, 100000, 100000, 100000, 100000, 100000, 100000, 100000, 100000, 100000, 100000, 100000, 100000, 100000, 100000, 100000, 100000, 100000, 100000, 100000, 100000, 100000, 100000, 100000, 100000, 100000, 100000, 100000, 100000, 100000, 100000, 100000, 100000, 100000, 100000, 100000, 100000, 100000, 100000, 100000, 100000, 100000, 100000, 100000, 100000, 100000, 100000, 100000, 100000, 100000, 100000, 100000, 100000, 100000, 100000, 100000, 100000, 100000, 100000, 100000, 100000, 100000, 100000, 100000, 100000, 100000, 100000, 100000, 100000, 100000, 100000, 100000, 100000, 100000, 100000, 100000, 100000, 100000, 100000, 100000, 100000, 100000, 100000, 100000, 100000, 100000, 100000, 100000, 100000, 100000, 100000, 100000, 100000, 100000, 100000, 100000, 100000, 100000, 100000, 100000, 100000, 100000, 100000, 100000, 100000, 100000, 100000, 100000, 100000, 100000, 100000, 100000, 100000, 100000, 100000, 100000, 100000, 100000, 100000, 100000, 100000, 100000, 100000, 100000, 100000, 100000, 100000, 100000, 100000, 100000, 100000, 100000, 100000, 100000, 100000, 100000, 100000, 100000, 100000, 100000, 100000, 100000, 100000, 100000, 100000, 100000, 100000, 100000, 100000, 100000, 100000, 100000, 100000, 100000, 100000, 100000, 100000, 100000, 100000, 100000, 100000, 100000, 100000, 100000, 100000, 100000, 100000, 100000, 100000, 100000, 100000, 100000, 100000, 100000, 100000, 100000, 100000, 100000, 100000, 100000, 100000, 100000, 100000, 100000, 100000, 100000, 100000, 100000, 100000, 100000, 100000, 100000, 100000, 100000, 100000, 100000, 100000, 100000, 100000, 100000, 100000, 100000, 100000, 100000, 100000, 100000, 100000, 100000, 100000, 100000, 100000, 100000, 100000, 100000, 100000, 100000, 100000, 100000, 100000, 100000, 100000, 100000, 100000, 100000, 100000, 100000, 100000, 100000, 100000, 100000, 100000, 100000, 100000, 100000, 100000, 100000, 100000, 100000, 100000, 100000, 100000, 100000, 100000, 100000, 100000, 100000, 100000, 100000, 100000, 100000, 100000, 100000, 100000, 100000, 100000, 100000, 100000, 100000, 100000, 100000, 100000, 100000, 100000, 100000, 100000, 100000, 100000, 100000, 100000, 100000, 100000, 100000, 100000, 100000, 100000, 100000, 100000, 100000, 100000, 100000, 100000, 100000, 100000, 100000, 100000, 100000, 100000, 100000, 100000, 100000, 100000, 100000, 100000, 100000, 100000, 100000, 100000, 100000, 100000, 100000, 100000, 100000, 100000, 100000, 100000, 100000, 100000, 100000, 100000, 100000, 100000, 100000, 100000, 100000, 100000, 100000, 100000, 100000, 100000, 100000, 100000, 100000, 100000, 100000, 100000, 100000, 100000, 100000, 100000, 100000, 100000, 100000, 100000, 100000, 100000, 100000, 100000, 100000, 100000, 100000, 100000, 100000, 100000, 100000, 100000, 100000, 100000, 100000, 100000, 100000, 100000, 100000, 100000, 100000, 100000, 100000, 100000, 100000, 100000, 100000, 100000, 100000, 100000, 100000, 100000, 100000, 100000, 100000, 100000, 100000, 100000, 100000, 100000, 100000, 100000, 100000, 100000, 100000, 100000, 100000, 100000, 100000, 100000, 100000, 100000, 100000, 100000, 100000, 100000, 100000, 100000, 100000, 100000, 100000, 100000, 100000, 100000, 100000, 100000, 100000, 100000, 100000, 100000, 100000, 100000, 100000, 100000, 100000, 100000, 100000, 100000, 100000, 100000, 100000, 100000, 100000, 100000, 100000, 100000, 100000, 100000, 100000, 100000, 100000, 100000, 100000, 100000, 100000, 100000, 100000, 100000, 100000, 100000, 100000, 100000, 100000, 100000, 100000, 100000, 100000, 100000, 100000, 100000, 100000, 100000, 100000, 100000, 100000, 100000, 100000, 100000, 100000, 100000, 100000, 100000, 100000, 100000, 100000, 100000, 100000, 100000, 100000, 100000, 100000, 100000, 100000, 100000, 100000, 100000, 100000, 100000, 100000, 100000, 100000, 100000, 100000, 100000, 100000, 100000, 100000, 100000, 100000, 100000, 100000, 100000, 100000, 100000, 100000, 100000, 100000, 100000, 100000, 100000, 100000, 100000, 100000, 100000, 100000, 100000, 100000, 100000, 100000, 100000, 100000, 100000, 100000, 100000, 100000, 100000, 100000, 100000, 100000, 100000, 100000, 100000, 100000, 100000, 100000, 100000, 100000, 100000, 100000, 100000, 100000, 100000, 100000, 500000, 500000, 500000, 500000, 500000, 500000, 500000, 500000, 500000, 500000, 500000, 500000, 500000, 500000, 500000, 500000, 500000, 500000, 500000, 500000, 500000, 500000, 500000, 500000, 500000, 500000, 500000, 500000, 500000, 500000, 500000, 500000, 500000, 500000, 500000, 500000, 500000, 500000, 500000, 500000, 500000, 500000, 500000, 500000, 500000, 500000, 500000, 500000, 500000, 500000, 500000, 500000, 500000, 500000, 500000, 500000, 500000, 500000, 500000, 500000, 500000, 500000, 500000, 500000, 500000, 500000, 500000, 500000, 500000, 500000, 500000, 500000, 500000, 500000, 500000, 500000, 500000, 500000, 500000, 500000, 500000, 500000, 500000, 500000, 500000, 500000, 500000, 500000, 500000, 500000, 500000, 500000, 500000, 500000, 500000, 500000, 500000, 500000, 500000, 500000, 500000, 500000, 500000, 500000, 500000, 500000, 500000, 500000, 500000, 500000, 500000, 500000, 500000, 500000, 500000, 500000, 500000, 500000, 500000, 500000, 500000, 500000, 500000, 500000, 500000, 500000, 500000, 500000, 500000, 500000, 500000, 500000, 500000, 500000, 500000, 500000, 500000, 500000, 500000, 500000, 500000, 500000, 500000, 500000, 500000, 500000, 500000, 500000, 500000, 500000, 500000, 500000, 500000, 500000, 500000, 500000, 500000, 500000, 500000, 500000, 500000, 500000, 500000, 500000, 500000, 500000, 500000, 500000, 500000, 500000, 500000, 500000, 500000, 500000, 500000, 500000, 500000, 500000, 500000, 500000, 500000, 500000, 500000, 500000, 500000, 500000, 500000, 500000, 500000, 500000, 500000, 500000, 500000, 500000, 500000, 500000, 500000, 500000, 500000, 500000, 500000, 500000, 500000, 500000, 500000, 500000, 500000, 500000, 500000, 500000, 500000, 500000, 500000, 500000, 500000, 500000, 500000, 500000, 500000, 500000, 500000, 500000, 500000, 500000, 500000, 500000, 500000, 500000, 500000, 500000, 500000, 500000, 500000, 500000, 500000, 500000, 500000, 500000, 500000, 500000, 500000, 500000, 500000, 500000, 500000, 500000, 500000, 500000, 500000, 500000, 500000, 500000, 500000, 500000, 500000, 500000, 500000, 500000, 500000, 500000, 500000, 500000, 500000, 500000, 500000, 500000, 500000, 500000, 500000, 500000, 500000, 500000, 500000, 500000, 500000, 500000, 500000, 500000, 500000, 500000, 500000, 500000, 500000, 500000, 500000, 500000, 500000, 500000, 500000, 500000, 500000, 500000, 500000, 500000, 500000, 500000, 500000, 500000, 500000, 500000, 500000, 500000, 500000, 500000, 500000, 500000, 500000, 500000, 500000, 500000, 500000, 500000, 500000, 500000, 500000, 500000, 500000, 500000, 500000, 500000, 500000, 500000, 500000, 500000, 500000, 500000, 500000, 500000, 500000, 500000, 500000, 500000, 500000, 500000, 500000, 500000, 500000, 500000, 500000, 500000, 500000, 500000, 500000, 500000, 500000, 500000, 500000, 500000, 500000, 500000, 500000, 500000, 500000, 500000, 500000, 500000, 500000, 500000, 500000, 500000, 500000, 500000, 500000, 500000, 500000, 500000, 500000, 500000, 500000, 500000, 500000, 500000, 500000, 500000, 500000, 500000, 500000, 500000, 500000, 500000, 500000, 500000, 500000, 500000, 500000, 500000, 500000, 500000, 500000, 500000, 500000, 500000, 500000, 500000, 500000, 500000, 500000, 500000, 500000, 500000, 500000, 500000, 500000, 500000, 500000, 500000, 500000, 500000, 500000, 500000, 500000, 500000, 500000, 500000, 500000, 500000, 500000, 500000, 500000, 500000, 500000, 500000, 500000, 500000, 500000, 500000, 500000, 500000, 500000, 500000, 500000, 500000, 500000, 500000, 500000, 500000, 500000, 500000, 500000, 500000, 500000, 500000, 500000, 500000, 500000, 500000, 500000, 500000, 500000, 500000, 500000, 500000, 500000, 500000, 500000, 500000, 500000, 500000, 500000, 500000, 500000, 500000, 500000, 500000, 500000, 500000, 500000, 500000, 500000, 500000, 500000, 500000, 500000, 500000, 500000, 500000, 500000, 500000, 500000, 500000, 500000, 500000, 500000, 500000, 500000, 500000, 500000, 500000, 500000, 500000, 500000, 500000, 500000, 1000000, 1000000, 1000000, 1000000, 1000000, 1000000, 1000000, 1000000, 1000000, 1000000, 1000000, 1000000, 1000000, 1000000, 1000000, 1000000, 1000000, 1000000, 1000000, 1000000, 1000000, 1000000, 1000000, 1000000, 1000000, 1000000, 1000000, 1000000, 1000000, 1000000, 1000000, 1000000, 1000000, 1000000, 1000000, 1000000, 1000000, 1000000, 1000000, 1000000, 1000000, 1000000, 1000000, 1000000, 1000000, 1000000, 1000000, 1000000, 1000000, 1000000, 1000000, 1000000, 1000000, 1000000, 1000000, 1000000, 1000000, 1000000, 1000000, 1000000, 1000000, 1000000, 1000000, 1000000, 1000000, 1000000, 1000000, 1000000, 1000000, 1000000, 1000000, 1000000, 1000000, 1000000, 1000000, 1000000, 1000000, 1000000, 1000000, 1000000, 1000000, 1000000, 1000000, 1000000, 1000000, 1000000, 1000000, 1000000, 1000000, 1000000, 1000000, 1000000, 1000000, 1000000, 1000000, 1000000, 1000000, 1000000, 1000000, 1000000, 1000000, 1000000, 1000000, 1000000, 1000000, 1000000, 1000000, 1000000, 1000000, 1000000, 1000000, 1000000, 1000000, 1000000, 1000000, 1000000, 1000000, 1000000, 1000000, 1000000, 1000000, 1000000, 1000000, 1000000, 1000000, 1000000, 1000000, 1000000, 1000000, 1000000, 1000000, 1000000, 1000000, 1000000, 1000000, 1000000, 1000000, 1000000, 1000000, 1000000, 1000000, 1000000, 1000000, 1000000, 1000000, 1000000, 1000000, 1000000, 1000000, 1000000, 1000000, 1000000, 1000000, 1000000, 1000000, 1000000, 1000000, 1000000, 1000000, 1000000, 1000000, 1000000, 1000000, 1000000, 1000000, 1000000, 1000000, 1000000, 1000000, 1000000, 1000000, 1000000, 1000000, 1000000, 1000000, 1000000, 1000000, 1000000, 1000000, 1000000, 1000000, 1000000, 1000000, 1000000, 1000000, 1000000, 1000000, 1000000, 1000000, 1000000, 1000000, 1000000, 1000000, 1000000, 1000000, 1000000, 1000000, 1000000, 1000000, 1000000, 1000000, 1000000, 1000000, 1000000, 1000000, 1000000, 1000000, 1000000, 1000000, 1000000, 1000000, 1000000, 1000000, 1000000, 1000000, 1000000, 1000000, 1000000, 1000000, 1000000, 1000000, 1000000, 1000000, 1000000, 1000000, 1000000, 1000000, 1000000, 1000000, 1000000, 1000000, 1000000, 1000000, 1000000, 1000000, 1000000, 1000000, 1000000, 1000000, 1000000, 1000000, 1000000, 1000000, 1000000, 1000000, 1000000, 1000000, 1000000, 1000000, 1000000, 1000000, 1000000, 1000000, 1000000, 1000000, 1000000, 1000000, 1000000, 1000000, 1000000, 1000000, 1000000, 1000000, 1000000, 1000000, 1000000, 1000000, 1000000, 1000000, 1000000, 1000000, 1000000, 1000000, 1000000, 1000000, 1000000, 1000000, 1000000, 1000000, 1000000, 1000000, 1000000, 1000000, 1000000, 1000000, 1000000, 1000000, 1000000, 1000000, 1000000, 1000000, 1000000, 1000000, 1000000, 1000000, 1000000, 1000000, 1000000, 1000000, 1000000, 1000000, 1000000, 1000000, 1000000, 1000000, 1000000, 1000000, 1000000, 1000000, 1000000, 1000000, 1000000, 1000000, 1000000, 1000000, 1000000, 1000000, 1000000, 1000000, 1000000, 1000000, 1000000, 1000000, 1000000, 1000000, 1000000, 1000000, 1000000, 1000000, 1000000, 1000000, 1000000, 1000000, 1000000, 1000000, 1000000, 1000000, 1000000, 1000000, 1000000, 1000000, 1000000, 1000000, 1000000, 1000000, 1000000, 1000000, 1000000, 1000000, 1000000, 1000000, 1000000, 1000000, 1000000, 1000000, 1000000, 1000000, 1000000, 1000000, 1000000, 1000000, 1000000, 1000000, 1000000, 1000000, 1000000, 1000000, 1000000, 1000000, 1000000, 1000000, 1000000, 1000000, 1000000, 1000000, 1000000, 1000000, 1000000, 1000000, 1000000, 1000000, 1000000, 1000000, 1000000, 1000000, 1000000, 1000000, 1000000, 1000000, 1000000, 1000000, 1000000, 1000000, 1000000, 1000000, 1000000, 1000000, 1000000, 1000000, 1000000, 1000000, 1000000, 1000000, 1000000, 1000000, 1000000, 1000000, 1000000, 1000000, 1000000, 1000000, 1000000, 1000000, 1000000, 1000000, 1000000, 1000000, 1000000, 1000000, 1000000, 1000000, 1000000, 1000000, 1000000, 1000000, 1000000, 1000000, 1000000, 1000000, 1000000, 1000000, 1000000, 1000000, 1000000, 1000000, 1000000, 1000000, 1000000, 1000000, 1000000, 1000000, 1000000, 1000000, 1000000, 1000000, 1000000, 1000000, 1000000, 1000000, 1000000, 1000000, 1000000, 1000000, 1000000, 1000000, 1000000, 1000000, 1000000, 1000000, 1000000, 1000000, 1000000, 1000000, 1000000, 1000000, 1000000, 1000000, 1000000, 1000000, 1000000, 1000000, 1000000, 1000000, 1000000, 1000000, 1000000, 1000000, 1000000, 1000000, 1000000, 1000000, 1000000, 1000000, 1000000, 1000000, 1000000, 1000000, 1000000, 1000000, 1000000, 1000000, 1000000, 1000000, 1000000, 1000000, 1000000, 1000000, 1000000, 1000000, 1000000, 1000000, 1000000, 1000000, 1000000, 1000000, 1000000, 1000000, 1000000, 1000000, 1000000, 1000000, 1000000, 1000000, 1000000, 1000000, 1000000, 1000000, 1000000, 1000000, 1000000, 1000000, 1000000, 1000000, 1000000, 1000000, 1000000, 1000000, 1000000, 1000000, 1000000, 1000000, 1000000, 1000000, 1000000, 1000000, 1000000, 1000000, 1000000, 1000000, 1000000, 1000000, 1000000, 1000000, 1000000, 1000000, 1000000, 1000000, 1000000, 1000000, 1000000, 1000000, 1000000, 1000000, 1000000, 1000000, 1000000, 1000000, 1000000, 1000000, 1000000, 1000000, 1000000, 1000000, 1000000, 1000000, 1000000, 1000000, 1000000, 1000000, 1000000, 1000000, 1000000, 1000000, 1000000, 1000000, 1000000, 1000000, 1000000, 1000000, 1000000, 1000000, 1000000, 1000000, 1000000, 1000000, 1000000, 1000000, 1000000, 1000000, 1000000, 1000000, 1000000, 1000000, 1000000, 1000000, 1000000, 1000000, 1000000, 1000000, 1000000, 1000000, 1000000, 1000000, 1000000, 1000000, 1000000, 1000000, 1000000, 1000000, 1000000, 1000000, 1000000, 1000000, 1000000, 1000000, 1000000, 1000000, 1000000, 1000000, 1000000, 1000000, 1000000, 1000000, 1000000, 1000000, 1000000, 1000000, 1000000, 1000000, 1000000, 1000000, 1000000, 1000000, 1000000, 1000000, 1000000, 1000000, 1000000, 1000000, 1000000, 1000000, 1000000, 1000000, 1000000, 1000000, 1000000, 1000000, 1000000, 1000000, 1000000, 1000000, 1000000, 1000000, 1000000, 1000000, 1000000, 1000000, 1000000, 1000000, 1000000, 1000000, 1000000, 1000000, 1000000, 1000000, 1000000, 1000000, 1000000, 1000000, 1000000, 1000000, 1000000, 1000000, 1000000, 1000000, 1000000, 1000000, 1000000, 1000000, 1000000, 1000000, 1000000, 1000000, 1000000, 1000000, 1000000, 1000000, 1000000, 1000000, 1000000, 1000000, 1000000, 1000000, 1000000, 1000000, 1000000, 1000000, 1000000, 1000000, 1000000, 1000000, 1000000, 1000000, 1000000, 1000000, 1000000, 1000000, 1000000, 1000000, 1000000, 1000000, 1000000, 1000000, 1000000, 1000000, 1000000, 1000000, 1000000, 1000000, 1000000, 1000000, 1000000, 1000000, 1000000, 1000000, 1000000, 1000000, 1000000, 1000000, 1000000, 1000000, 1000000, 1000000, 1000000, 1000000, 1000000, 1000000, 1000000, 1000000, 1000000, 1000000, 1000000, 1000000, 1000000, 1000000, 1000000, 1000000, 1000000, 1000000, 1000000, 1000000, 1000000, 1000000, 1000000, 1000000, 1000000, 1000000, 1000000, 1000000, 1000000, 1000000, 1000000, 1000000, 1000000, 1000000, 1000000, 1000000, 1000000, 1000000, 1000000, 1000000, 1000000, 1000000, 1000000, 1000000, 1000000, 1000000, 1000000, 1000000, 1000000, 1000000, 1000000, 1000000, 1000000, 1000000, 1000000, 1000000, 1000000, 1000000, 1000000, 1000000, 1000000, 1000000, 1000000, 1000000, 1000000, 1000000, 1000000, 1000000, 1000000, 1000000, 1000000, 1000000, 1000000, 1000000, 1000000, 1000000, 1000000, 1000000, 1000000, 1000000, 1000000, 1000000, 1000000, 1000000, 1000000, 1000000, 1000000, 1000000, 1000000, 1000000, 1000000, 1000000, 1000000, 1000000, 1000000, 1000000, 1000000, 1000000, 1000000, 1000000, 1000000, 1000000, 1000000, 1000000, 1000000, 1000000, 1000000, 1000000, 1000000, 1000000, 1000000, 1000000, 1000000, 1000000, 1000000, 1000000, 1000000, 1000000, 1000000, 1000000, 1000000, 1000000, 1000000, 1000000, 1000000, 1000000, 1000000, 1000000, 1000000, 1000000, 1000000, 1000000, 1000000, 1000000, 1000000, 1000000, 1000000, 1000000, 1000000, 1000000, 1000000, 1000000, 1000000, 1000000, 1000000, 1000000, 1000000, 1000000, 1000000, 1000000, 1000000, 1000000, 1000000, 1000000, 1000000, 1000000, 1000000, 1000000, 1000000, 1000000, 1000000, 1000000, 1000000, 1000000, 1000000, 1000000, 1000000, 1000000, 1000000, 1000000, 1000000, 1000000, 1000000, 1000000, 1000000, 1000000, 1000000, 1000000, 1000000, 1000000, 1000000, 1000000, 1000000, 1000000, 1000000, 1000000, 1000000, 1000000, 1000000, 1000000, 1000000, 1000000, 1000000, 1000000, 1000000, 1000000, 1000000, 1000000, 1000000, 1000000, 1000000, 1000000, 1000000, 1000000, 1000000, 1000000, 1000000, 1000000, 1000000, 1000000, 1000000, 1000000, 1000000, 1000000, 1000000, 1000000, 1000000, 1000000, 1000000, 1000000, 1000000, 1000000, 1000000, 1000000, 1000000, 1000000, 1000000, 1000000, 1000000, 1000000, 1000000, 1000000, 1000000, 1000000, 1000000, 1000000, 1000000, 1000000, 1000000, 1000000, 1000000, 1000000, 1000000, 1000000, 1000000, 1000000, 1000000, 1000000, 1000000, 1000000, 1000000, 1000000, 1000000, 1000000, 1000000, 1000000, 1000000, 1000000, 1000000, 1000000, 1000000, 1000000, 1000000, 1000000, 1000000, 1000000, 1000000, 1000000, 1000000, 1000000, 1000000, 1000000, 1000000, 1000000, 1000000, 1000000, 1000000, 1000000, 1000000, 1000000, 1000000, 1000000, 1000000, 1000000, 1000000, 1000000, 1000000, 1000000, 1000000, 1000000, 1000000, 1000000, 1000000, 1000000, 1000000, 1000000, 1000000, 1000000, 1000000, 1000000, 1000000, 1000000, 1000000, 1000000, 1000000, 1000000, 1000000, 1000000, 1000000, 1000000, 1000000, 1000000, 1000000, 1000000, 1000000, 1000000, 1000000, 1000000, 1000000, 1000000, 1000000, 1000000, 1000000, 1000000, 1000000, 1000000, 1000000, 1000000, 1000000, 1000000, 1000000, 1000000, 1000000, 1000000, 1000000, 1000000, 1000000, 1000000, 1000000, 1000000, 1000000, 1000000, 1000000, 1000000, 1000000, 1000000, 1000000, 1000000, 1000000, 1000000, 1000000, 1000000, 1000000, 1000000, 1000000, 1000000, 1000000, 1000000, 1000000, 1000000, 1000000, 1000000, 1000000, 1000000, 1000000, 1000000, 1000000, 1000000, 1000000, 1000000, 1000000, 1000000, 1000000, 1000000, 1000000, 1000000, 1000000, 1000000, 1000000, 1000000, 1000000, 1000000, 1000000, 1000000, 1000000, 1000000, 1000000, 1000000, 1000000, 1000000, 1000000, 1000000, 1000000, 1000000, 1000000, 1000000, 1000000, 1000000, 1000000, 1000000, 1000000, 1000000, 1000000, 1000000, 1000000, 1000000, 1000000, 1000000, 1000000, 1000000, 1000000, 1000000, 1000000, 1000000, 1000000, 1000000, 1000000, 1000000, 1000000, 1000000, 1000000, 1000000, 1000000, 1000000, 1000000, 1000000, 1000000, 1000000, 1000000, 1000000, 1000000, 1000000, 1000000, 1000000, 1000000, 1000000, 1000000, 1000000, 1000000, 1000000, 1000000, 1000000, 1000000, 1000000, 1000000, 1000000, 1000000, 1000000, 1000000, 1000000, 1000000, 1000000, 1000000, 1000000, 1000000, 1000000, 1000000, 1000000, 1000000, 1000000, 1000000, 1000000, 1000000, 1000000, 1000000, 1000000, 1000000, 1000000, 1000000, 1000000, 1000000, 1000000, 1000000, 1000000, 1000000, 1000000, 1000000, 1000000, 1000000, 1000000, 1000000, 1000000, 1000000, 1000000, 1000000, 1000000, 1000000, 1000000, 1000000, 1000000, 1000000, 1000000, 1000000, 1000000, 1000000, 1000000, 1000000, 1000000, 1000000, 1000000, 1000000, 1000000, 1000000, 1000000, 1000000, 1000000, 1000000, 1000000, 1000000, 1000000, 1000000, 1000000, 1000000, 1000000, 1000000, 1000000, 1000000, 1000000, 1000000, 1000000, 1000000, 1000000, 1000000, 1000000, 1000000, 1000000, 1000000, 1000000, 1000000, 1000000, 1000000, 1000000, 1000000, 1000000, 1000000, 1000000, 1000000, 1000000, 1000000, 1000000, 1000000, 1000000, 1000000, 1000000, 1000000, 1000000, 1000000, 1000000, 1000000, 1000000, 1000000, 1000000, 1000000, 1000000, 1000000, 1000000, 1000000, 1000000, 1000000, 1000000, 1000000, 1000000, 1000000, 1000000, 1000000, 1000000, 1000000, 1000000, 1000000, 1000000, 1000000, 1000000, 1000000, 1000000, 1000000, 1000000, 1000000, 1000000, 1000000, 1000000, 1000000, 1000000, 1000000, 1000000, 1000000, 1000000, 1000000, 1000000, 1000000, 1000000, 1000000, 1000000, 1000000, 1000000, 1000000, 1000000, 1000000, 1000000, 1000000, 1000000, 1000000, 1000000, 1000000, 1000000, 1000000, 1000000, 1000000, 1000000, 1000000, 1000000, 1000000, 1000000, 1000000, 1000000, 1000000, 1000000, 1000000, 1000000, 1000000, 1000000, 1000000, 1000000, 1000000, 1000000, 1000000, 1000000, 1000000, 1000000, 1000000, 1000000, 1000000, 1000000, 1000000, 1000000, 1000000, 1000000, 1000000, 1000000, 1000000, 1000000, 1000000, 1000000, 1000000, 1000000, 1000000, 1000000, 1000000, 1000000, 1000000, 1000000, 1000000, 1000000, 1000000, 1000000, 1000000, 1000000, 1000000, 1000000, 1000000, 1000000, 1000000, 1000000, 1000000, 1000000, 1000000, 1000000, 5000000, 5000000, 5000000, 5000000, 5000000, 5000000, 5000000, 5000000, 5000000, 5000000, 5000000, 5000000, 5000000, 5000000, 5000000, 5000000, 5000000, 5000000, 5000000, 5000000, 5000000, 5000000, 5000000, 5000000, 5000000, 5000000, 5000000, 5000000, 5000000, 5000000, 5000000, 5000000, 5000000, 5000000, 5000000, 5000000, 5000000, 5000000, 5000000, 5000000, 5000000, 5000000, 5000000, 5000000, 5000000, 5000000, 5000000, 5000000, 5000000, 5000000, 5000000, 5000000, 5000000, 5000000, 5000000, 5000000, 5000000, 5000000, 5000000, 5000000, 5000000, 5000000, 5000000, 5000000, 5000000, 5000000, 5000000, 5000000, 5000000, 5000000, 5000000, 5000000, 5000000, 5000000, 5000000, 5000000, 5000000, 5000000, 5000000, 5000000, 5000000, 5000000, 5000000, 5000000, 5000000, 5000000, 5000000, 5000000, 5000000, 5000000, 5000000, 5000000, 5000000, 5000000, 5000000, 5000000, 5000000, 5000000, 5000000, 5000000, 5000000, 5000000, 5000000, 5000000, 5000000, 5000000, 5000000, 5000000, 5000000, 5000000, 5000000, 5000000, 5000000, 5000000, 5000000, 5000000, 5000000, 5000000, 5000000, 5000000, 5000000, 5000000, 5000000, 5000000, 5000000, 5000000, 5000000, 5000000, 5000000, 5000000, 5000000, 5000000, 5000000, 5000000, 5000000, 5000000, 5000000, 5000000, 5000000, 5000000, 5000000, 5000000, 5000000, 5000000, 5000000, 5000000, 5000000, 5000000, 5000000, 5000000, 5000000, 5000000, 5000000, 5000000, 5000000, 5000000, 5000000, 5000000, 5000000, 5000000, 5000000, 5000000, 5000000, 5000000, 5000000, 5000000, 5000000, 5000000, 5000000, 5000000, 5000000, 5000000, 5000000, 5000000, 5000000, 5000000, 5000000, 5000000, 5000000, 5000000, 5000000, 5000000, 5000000, 5000000, 5000000, 5000000, 5000000, 5000000, 5000000, 5000000, 5000000, 5000000, 5000000, 5000000, 5000000, 5000000, 5000000, 5000000, 5000000, 5000000, 5000000, 5000000, 5000000, 5000000, 5000000, 5000000, 5000000, 5000000, 5000000, 5000000, 5000000, 5000000, 5000000, 5000000, 5000000, 5000000, 5000000, 5000000, 5000000, 5000000, 5000000, 5000000, 5000000, 5000000, 5000000, 5000000, 5000000, 5000000, 5000000, 5000000, 5000000, 5000000, 5000000, 5000000, 5000000, 5000000, 5000000, 5000000, 5000000, 5000000, 5000000, 5000000, 5000000, 5000000, 5000000, 5000000, 5000000, 5000000, 5000000, 5000000, 5000000, 5000000, 5000000, 5000000, 5000000, 5000000, 5000000, 5000000, 5000000, 5000000, 5000000, 5000000, 5000000, 5000000, 5000000, 5000000, 5000000, 5000000, 5000000, 5000000, 5000000, 5000000, 5000000, 5000000, 5000000, 5000000, 5000000, 5000000, 5000000, 5000000, 5000000, 5000000, 5000000, 5000000, 5000000, 5000000, 5000000, 5000000, 5000000, 5000000, 5000000, 5000000, 5000000, 5000000, 5000000, 5000000, 5000000, 5000000, 5000000, 5000000, 5000000, 5000000, 5000000, 5000000, 5000000, 5000000, 5000000, 5000000, 5000000, 5000000, 5000000, 5000000, 5000000, 5000000, 5000000, 5000000, 5000000, 5000000, 5000000, 5000000, 5000000, 5000000, 5000000, 5000000, 5000000, 5000000, 5000000, 5000000, 5000000, 5000000, 5000000, 5000000, 5000000, 5000000, 5000000, 5000000, 5000000, 5000000, 5000000, 5000000, 5000000, 5000000, 5000000, 5000000, 5000000, 5000000, 5000000, 5000000, 5000000, 5000000, 5000000, 5000000, 5000000, 5000000, 5000000, 5000000, 5000000, 5000000, 5000000, 5000000, 5000000, 5000000, 5000000, 5000000, 5000000, 5000000, 5000000, 5000000, 5000000, 5000000, 5000000, 5000000, 5000000, 5000000, 5000000, 5000000, 5000000, 5000000, 5000000, 5000000, 5000000, 5000000, 5000000, 5000000, 5000000, 5000000, 5000000, 5000000, 5000000, 5000000, 5000000, 5000000, 5000000, 5000000, 5000000, 5000000, 5000000, 5000000, 5000000, 5000000, 5000000, 5000000, 5000000, 5000000, 5000000, 5000000, 5000000, 5000000, 5000000, 5000000, 5000000, 5000000, 5000000, 5000000, 5000000, 5000000, 5000000, 5000000, 5000000, 5000000, 5000000, 5000000, 5000000, 5000000, 5000000, 5000000, 5000000, 5000000, 5000000, 5000000, 5000000, 5000000, 5000000, 5000000, 5000000, 5000000, 5000000, 5000000, 5000000, 5000000, 5000000, 5000000, 5000000, 5000000, 5000000, 5000000, 5000000, 5000000, 5000000, 5000000, 5000000, 5000000, 5000000, 5000000, 5000000, 5000000, 5000000, 5000000, 5000000, 5000000, 5000000, 5000000, 5000000, 5000000, 5000000, 5000000, 5000000, 5000000, 5000000, 5000000, 5000000, 5000000, 5000000, 5000000, 5000000, 5000000, 5000000, 5000000, 5000000, 5000000, 5000000, 5000000, 5000000, 5000000, 5000000, 5000000, 5000000, 5000000, 5000000, 5000000, 5000000, 5000000, 5000000, 5000000, 5000000, 5000000, 5000000, 5000000, 5000000, 5000000, 5000000, 5000000, 5000000, 5000000, 5000000, 5000000, 5000000, 5000000, 5000000, 5000000, 5000000, 5000000, 5000000, 5000000, 5000000, 5000000, 5000000, 5000000, 5000000, 5000000, 5000000, 5000000, 5000000, 5000000, 5000000, 5000000, 5000000, 5000000, 5000000, 5000000, 5000000, 5000000, 5000000, 5000000, 5000000, 5000000, 5000000, 5000000, 5000000, 5000000, 5000000, 5000000, 5000000, 5000000, 5000000, 5000000, 5000000, 5000000, 5000000, 5000000, 5000000, 5000000, 5000000, 5000000, 5000000, 5000000, 5000000, 5000000, 5000000, 5000000, 5000000, 5000000, 5000000, 5000000, 5000000, 5000000, 5000000, 5000000, 5000000, 5000000, 5000000, 5000000, 5000000, 5000000, 5000000, 5000000, 5000000, 5000000, 5000000, 5000000, 5000000, 5000000, 5000000, 5000000, 5000000, 5000000, 5000000, 5000000, 5000000, 5000000, 5000000, 5000000, 5000000, 5000000, 5000000, 5000000, 5000000, 5000000, 5000000, 5000000, 5000000, 5000000, 5000000, 5000000, 5000000, 5000000, 5000000, 10000000, 10000000, 10000000, 10000000, 10000000, 10000000, 10000000, 10000000, 10000000, 10000000, 10000000, 10000000, 10000000, 10000000, 10000000, 10000000, 10000000, 10000000, 10000000, 10000000, 10000000, 10000000, 10000000, 10000000, 10000000, 10000000, 10000000, 10000000, 10000000, 10000000, 10000000, 10000000, 10000000, 10000000, 10000000, 10000000, 10000000, 10000000, 10000000, 10000000, 10000000, 10000000, 10000000, 10000000, 10000000, 10000000, 10000000, 10000000, 10000000, 10000000, 10000000, 10000000, 10000000, 10000000, 10000000, 10000000, 10000000, 10000000, 10000000, 10000000, 10000000, 10000000, 10000000, 10000000, 10000000, 10000000, 10000000, 10000000, 10000000, 10000000, 10000000, 10000000, 10000000, 10000000, 10000000, 10000000, 10000000, 10000000, 10000000, 10000000, 10000000, 10000000, 10000000, 10000000, 10000000, 10000000, 10000000, 10000000, 10000000, 10000000, 10000000, 10000000, 10000000, 10000000, 10000000, 10000000, 10000000, 10000000, 10000000, 10000000, 10000000, 10000000, 10000000, 10000000, 10000000, 10000000, 10000000, 10000000, 10000000, 10000000, 10000000, 10000000, 10000000, 10000000, 10000000, 10000000, 10000000, 10000000, 10000000, 10000000, 10000000, 10000000, 10000000, 10000000, 10000000, 10000000, 10000000, 10000000, 10000000, 10000000, 10000000, 10000000, 10000000, 10000000, 10000000, 10000000, 10000000, 10000000, 10000000, 10000000, 10000000, 10000000, 10000000, 10000000, 10000000, 10000000, 10000000, 10000000, 10000000, 10000000, 10000000, 10000000, 10000000, 10000000, 10000000, 10000000, 10000000, 10000000, 10000000, 10000000, 10000000, 10000000, 10000000, 10000000, 10000000, 10000000, 10000000, 10000000, 10000000, 10000000, 10000000, 10000000, 10000000, 10000000, 10000000, 10000000, 10000000, 10000000, 10000000, 10000000, 10000000, 10000000, 10000000, 10000000, 10000000, 10000000, 10000000, 10000000, 10000000, 10000000, 10000000, 10000000, 10000000, 10000000, 10000000, 10000000, 10000000, 10000000, 10000000, 10000000, 10000000, 10000000, 10000000, 10000000, 10000000, 10000000, 10000000, 10000000, 10000000, 10000000, 10000000, 10000000, 10000000, 10000000, 10000000, 10000000, 10000000, 10000000, 10000000, 10000000, 10000000, 10000000, 10000000, 10000000, 10000000, 10000000, 10000000, 10000000, 10000000, 10000000, 10000000, 10000000, 10000000, 10000000, 10000000, 10000000, 10000000, 10000000, 10000000, 10000000, 10000000, 10000000, 10000000, 10000000, 10000000, 10000000, 10000000, 10000000, 10000000, 10000000, 10000000, 10000000, 10000000, 10000000, 10000000, 10000000, 10000000, 10000000, 10000000, 10000000, 10000000, 10000000, 10000000, 10000000, 10000000, 10000000, 10000000, 10000000, 10000000, 10000000, 10000000, 10000000, 10000000, 10000000, 10000000, 10000000, 10000000, 10000000, 10000000, 10000000, 10000000, 10000000, 10000000, 10000000, 10000000, 10000000, 10000000, 10000000, 10000000, 10000000, 10000000, 10000000, 10000000, 10000000, 10000000, 10000000, 10000000, 10000000, 10000000, 10000000, 10000000, 10000000, 10000000, 10000000, 10000000, 10000000, 10000000, 10000000, 10000000, 10000000, 10000000, 10000000, 10000000, 10000000, 10000000, 10000000, 10000000, 10000000, 10000000, 10000000, 10000000, 10000000, 10000000, 10000000, 10000000, 10000000, 10000000, 10000000, 10000000, 10000000, 10000000, 10000000, 10000000, 10000000, 10000000, 10000000, 10000000, 10000000, 10000000, 10000000, 10000000, 10000000, 10000000, 10000000, 10000000, 10000000, 10000000, 10000000, 10000000, 10000000, 10000000, 10000000, 10000000, 10000000, 10000000, 10000000, 10000000, 10000000, 10000000, 10000000, 10000000, 10000000, 10000000, 10000000, 10000000, 10000000, 10000000, 10000000, 10000000, 10000000, 10000000, 10000000, 10000000, 10000000, 10000000, 10000000, 10000000, 10000000, 10000000, 10000000, 10000000, 10000000, 10000000, 10000000, 10000000, 10000000, 10000000, 10000000, 10000000, 10000000, 10000000, 10000000, 10000000, 10000000, 10000000, 10000000, 10000000, 10000000, 10000000, 10000000, 10000000, 10000000, 10000000, 10000000, 10000000, 10000000, 10000000, 10000000, 10000000, 10000000, 10000000, 10000000, 10000000, 10000000, 10000000, 10000000, 10000000, 10000000, 10000000, 10000000, 10000000, 10000000, 10000000, 10000000, 10000000, 10000000, 10000000, 10000000, 10000000, 10000000, 10000000, 10000000, 10000000, 10000000, 10000000, 10000000, 10000000, 10000000, 10000000, 10000000, 10000000, 10000000, 10000000, 10000000, 10000000, 10000000, 10000000, 10000000, 10000000, 10000000, 10000000, 10000000, 10000000, 10000000, 10000000, 10000000, 10000000, 10000000, 10000000, 10000000, 10000000, 10000000, 10000000, 10000000, 10000000, 10000000, 10000000, 10000000, 10000000, 10000000, 10000000, 10000000, 10000000, 10000000, 10000000, 10000000, 10000000, 10000000, 10000000, 10000000, 10000000, 10000000, 10000000, 10000000, 10000000, 10000000, 10000000, 10000000, 10000000, 10000000, 10000000, 10000000, 10000000, 10000000, 10000000, 10000000, 10000000, 10000000, 10000000, 10000000, 10000000, 10000000, 10000000, 10000000, 10000000, 10000000, 10000000, 10000000, 10000000, 10000000, 10000000, 10000000, 10000000, 10000000, 10000000, 10000000, 10000000, 10000000, 10000000, 10000000, 10000000, 10000000, 10000000, 10000000, 10000000, 10000000, 10000000, 10000000, 10000000, 10000000, 10000000, 10000000, 10000000, 10000000, 10000000, 10000000, 10000000, 10000000, 10000000, 10000000, 10000000, 10000000, 10000000, 10000000, 10000000, 10000000, 10000000, 10000000, 10000000, 10000000, 10000000, 10000000, 10000000, 10000000, 10000000, 10000000, 10000000, 10000000, 10000000, 10000000, 10000000, 10000000, 10000000, 10000000, 10000000, 10000000, 10000000, 10000000, 10000000, 10000000, 10000000, 10000000, 10000000, 10000000, 10000000, 10000000, 10000000, 10000000, 10000000, 10000000, 10000000, 10000000, 10000000, 10000000, 10000000, 10000000, 10000000, 10000000, 10000000, 10000000, 10000000, 10000000, 10000000, 10000000, 10000000, 10000000, 10000000, 10000000, 10000000, 10000000, 10000000, 10000000, 10000000, 10000000, 10000000, 10000000, 10000000, 10000000, 10000000, 10000000, 10000000, 10000000, 10000000, 10000000, 10000000, 10000000, 10000000, 10000000, 10000000, 10000000, 10000000, 10000000, 10000000, 10000000, 10000000, 10000000, 10000000, 10000000, 10000000, 10000000, 10000000, 10000000, 10000000, 10000000, 10000000, 10000000, 10000000, 10000000, 10000000, 10000000, 10000000, 10000000, 10000000, 10000000, 10000000, 10000000, 10000000, 10000000, 10000000, 10000000, 10000000, 10000000, 10000000, 10000000, 10000000, 10000000, 10000000, 10000000, 10000000, 10000000, 10000000, 10000000, 10000000, 10000000, 10000000, 10000000, 10000000, 10000000, 10000000, 10000000, 10000000, 10000000, 10000000, 10000000, 10000000, 10000000, 10000000, 10000000, 10000000, 10000000, 10000000, 10000000, 10000000, 10000000, 10000000, 10000000, 10000000, 10000000, 10000000, 10000000, 10000000, 10000000, 10000000, 10000000, 10000000, 10000000, 10000000, 10000000, 10000000, 10000000, 10000000, 10000000, 10000000, 10000000, 10000000, 10000000, 10000000, 10000000, 10000000, 10000000, 10000000, 10000000, 10000000, 10000000, 10000000, 10000000, 10000000, 10000000, 10000000, 10000000, 10000000, 10000000, 10000000, 10000000, 10000000, 10000000, 10000000, 10000000, 10000000, 10000000, 10000000, 10000000, 10000000, 10000000, 10000000, 10000000, 10000000, 10000000, 10000000, 10000000, 10000000, 10000000, 10000000, 10000000, 10000000, 10000000, 10000000, 10000000, 10000000, 10000000, 10000000, 10000000, 10000000, 10000000, 10000000, 10000000, 10000000, 10000000, 10000000, 10000000, 10000000, 10000000, 10000000, 10000000, 10000000, 10000000, 10000000, 10000000, 10000000, 10000000, 10000000, 10000000, 10000000, 10000000, 10000000, 10000000, 10000000, 10000000, 10000000, 10000000, 10000000, 10000000, 10000000, 10000000, 10000000, 10000000, 10000000, 10000000, 10000000, 10000000, 10000000, 10000000, 10000000, 10000000, 10000000, 10000000, 10000000, 10000000, 10000000, 10000000, 10000000, 10000000, 10000000, 10000000, 10000000, 10000000, 10000000, 10000000, 10000000, 10000000, 10000000, 10000000, 10000000, 10000000, 10000000, 10000000, 10000000, 10000000, 10000000, 10000000, 10000000, 10000000, 10000000, 10000000, 10000000, 10000000, 10000000, 10000000, 10000000, 10000000, 10000000, 10000000, 10000000, 10000000, 10000000, 10000000, 10000000, 10000000, 10000000, 10000000, 10000000, 10000000, 10000000, 10000000, 10000000, 10000000, 10000000, 10000000, 10000000, 10000000, 10000000, 10000000, 10000000, 10000000, 10000000, 10000000, 10000000, 10000000, 10000000, 10000000, 10000000, 10000000, 10000000, 10000000, 10000000, 10000000, 10000000, 10000000, 10000000, 10000000, 10000000, 10000000, 10000000, 10000000, 10000000, 10000000, 10000000, 10000000, 10000000, 10000000, 10000000, 10000000, 10000000, 10000000, 10000000, 10000000, 10000000, 10000000, 10000000, 10000000, 10000000, 10000000, 10000000, 10000000, 10000000, 10000000, 10000000, 10000000, 10000000, 10000000, 10000000, 10000000, 10000000, 10000000, 10000000, 10000000, 10000000, 10000000, 10000000, 10000000, 10000000, 10000000, 10000000, 10000000, 10000000, 10000000, 10000000, 10000000, 10000000, 10000000, 10000000, 10000000, 10000000, 10000000, 10000000, 10000000, 10000000, 10000000, 10000000, 10000000, 10000000, 50000000, 50000000, 50000000, 50000000, 50000000, 50000000, 50000000, 50000000, 50000000, 50000000, 50000000, 50000000, 50000000, 50000000, 50000000, 50000000, 50000000, 50000000, 50000000, 50000000, 50000000, 50000000, 50000000, 50000000, 50000000, 50000000, 50000000, 50000000, 50000000, 50000000, 50000000, 50000000, 50000000, 50000000, 50000000, 50000000, 50000000, 50000000, 50000000, 50000000, 50000000, 50000000, 50000000, 50000000, 50000000, 50000000, 50000000, 50000000, 50000000, 50000000, 50000000, 50000000, 50000000, 50000000, 50000000, 50000000, 50000000, 50000000, 50000000, 50000000, 50000000, 50000000, 50000000, 50000000, 50000000, 50000000, 50000000, 50000000, 50000000, 50000000, 50000000, 50000000, 50000000, 50000000, 50000000, 50000000, 50000000, 50000000, 50000000, 50000000, 50000000, 50000000, 50000000, 50000000, 50000000, 50000000, 50000000, 50000000, 50000000, 50000000, 50000000, 50000000, 50000000, 50000000, 50000000, 50000000, 50000000, 50000000, 50000000, 50000000, 50000000, 50000000, 50000000, 50000000, 50000000, 50000000, 50000000, 50000000, 50000000, 50000000, 50000000, 50000000, 50000000, 50000000, 50000000, 50000000, 50000000, 50000000, 50000000, 50000000, 50000000, 50000000, 50000000, 50000000, 50000000, 50000000, 50000000, 50000000, 50000000, 50000000, 50000000, 50000000, 50000000, 50000000, 50000000, 50000000, 50000000, 50000000, 50000000, 50000000, 50000000, 50000000, 50000000, 50000000, 50000000, 50000000, 50000000, 50000000, 50000000, 50000000, 50000000, 50000000, 50000000, 50000000, 50000000, 50000000, 50000000, 50000000, 50000000, 50000000, 50000000, 50000000, 50000000, 50000000, 50000000, 50000000, 50000000, 50000000, 50000000, 50000000, 50000000, 50000000, 50000000, 50000000, 50000000, 50000000, 50000000, 50000000, 50000000, 50000000, 50000000, 50000000, 50000000, 50000000, 50000000, 50000000, 50000000, 50000000, 50000000, 50000000, 50000000, 50000000, 50000000, 50000000, 50000000, 50000000, 50000000, 50000000, 50000000, 50000000, 50000000, 50000000, 100000000, 100000000, 100000000, 100000000, 100000000, 100000000, 100000000, 100000000, 100000000, 100000000, 100000000, 100000000, 100000000, 100000000, 100000000, 100000000, 100000000, 100000000, 100000000, 100000000, 100000000, 100000000, 100000000, 100000000, 100000000, 100000000, 100000000, 100000000, 100000000, 100000000, 100000000, 100000000, 100000000, 100000000, 100000000, 100000000, 100000000, 100000000, 100000000, 100000000, 100000000, 100000000, 100000000, 100000000, 100000000, 100000000, 100000000, 100000000, 100000000, 100000000, 100000000, 100000000, 100000000, 100000000, 100000000, 100000000, 100000000, 100000000, 100000000, 100000000, 100000000, 100000000, 100000000, 100000000, 100000000, 100000000, 100000000, 100000000, 100000000, 100000000, 100000000, 100000000, 100000000, 100000000, 100000000, 100000000, 100000000, 100000000, 100000000, 100000000, 100000000, 100000000, 100000000, 100000000, 100000000, 100000000, 100000000, 100000000, 100000000, 100000000, 100000000, 100000000, 100000000, 100000000, 100000000, 100000000, 100000000, 100000000, 100000000, 100000000, 100000000, 100000000, 100000000, 100000000, 100000000, 100000000, 100000000, 100000000, 100000000, 100000000, 100000000, 100000000, 100000000, 100000000, 100000000, 100000000, 100000000, 100000000, 100000000, 100000000, 100000000, 100000000, 100000000, 100000000, 100000000, 100000000, 100000000, 100000000, 100000000, 100000000, 100000000, 100000000, 100000000, 100000000, 100000000, 100000000, 100000000, 100000000, 100000000, 100000000, 100000000, 100000000, 100000000, 100000000, 100000000, 100000000, 100000000, 100000000, 100000000, 100000000, 100000000, 100000000, 100000000, 100000000, 100000000, 100000000, 100000000, 100000000, 100000000, 100000000, 100000000, 100000000, 100000000, 100000000, 100000000, 100000000, 100000000, 100000000, 100000000, 100000000, 100000000, 100000000, 100000000, 100000000, 100000000, 100000000, 100000000, 100000000, 100000000, 100000000, 100000000, 100000000, 100000000, 100000000, 100000000, 100000000, 100000000, 100000000, 100000000, 500000000, 500000000, 500000000, 500000000, 500000000, 500000000, 500000000, 500000000, 500000000, 500000000, 500000000, 500000000, 500000000, 500000000, 500000000, 500000000, 500000000, 500000000, 500000000, 500000000, 500000000, 500000000, 500000000, 500000000, 1000000000, 1000000000, 1000000000, 1000000000, 1000000000, 1000000000, 1000000000, 1000000000, 1000000000, 1000000000, 1000000000, 1000000000, 1000000000, 1000000000, 1000000000, 1000000000, 1000000000, 1000000000, 1000000000, 1000000000], \"y0\": \" \", \"yaxis\": \"y\"}, {\"alignmentgroup\": \"True\", \"boxpoints\": \"all\", \"hoverlabel\": {\"namelength\": 0}, \"hovertemplate\": \"Type=%{x}<br>Installs=%{y}\", \"legendgroup\": \"Type=Paid\", \"marker\": {\"color\": \"#EF553B\"}, \"name\": \"Type=Paid\", \"notched\": true, \"offsetgroup\": \"Type=Paid\", \"orientation\": \"v\", \"showlegend\": true, \"type\": \"box\", \"x\": [\"Paid\", \"Paid\", \"Paid\", \"Paid\", \"Paid\", \"Paid\", \"Paid\", \"Paid\", \"Paid\", \"Paid\", \"Paid\", \"Paid\", \"Paid\", \"Paid\", \"Paid\", \"Paid\", \"Paid\", \"Paid\", \"Paid\", \"Paid\", \"Paid\", \"Paid\", \"Paid\", \"Paid\", \"Paid\", \"Paid\", \"Paid\", \"Paid\", \"Paid\", \"Paid\", \"Paid\", \"Paid\", \"Paid\", \"Paid\", \"Paid\", \"Paid\", \"Paid\", \"Paid\", \"Paid\", \"Paid\", \"Paid\", \"Paid\", \"Paid\", \"Paid\", \"Paid\", \"Paid\", \"Paid\", \"Paid\", \"Paid\", \"Paid\", \"Paid\", \"Paid\", \"Paid\", \"Paid\", \"Paid\", \"Paid\", \"Paid\", \"Paid\", \"Paid\", \"Paid\", \"Paid\", \"Paid\", \"Paid\", \"Paid\", \"Paid\", \"Paid\", \"Paid\", \"Paid\", \"Paid\", \"Paid\", \"Paid\", \"Paid\", \"Paid\", \"Paid\", \"Paid\", \"Paid\", \"Paid\", \"Paid\", \"Paid\", \"Paid\", \"Paid\", \"Paid\", \"Paid\", \"Paid\", \"Paid\", \"Paid\", \"Paid\", \"Paid\", \"Paid\", \"Paid\", \"Paid\", \"Paid\", \"Paid\", \"Paid\", \"Paid\", \"Paid\", \"Paid\", \"Paid\", \"Paid\", \"Paid\", \"Paid\", \"Paid\", \"Paid\", \"Paid\", \"Paid\", \"Paid\", \"Paid\", \"Paid\", \"Paid\", \"Paid\", \"Paid\", \"Paid\", \"Paid\", \"Paid\", \"Paid\", \"Paid\", \"Paid\", \"Paid\", \"Paid\", \"Paid\", \"Paid\", \"Paid\", \"Paid\", \"Paid\", \"Paid\", \"Paid\", \"Paid\", \"Paid\", \"Paid\", \"Paid\", \"Paid\", \"Paid\", \"Paid\", \"Paid\", \"Paid\", \"Paid\", \"Paid\", \"Paid\", \"Paid\", \"Paid\", \"Paid\", \"Paid\", \"Paid\", \"Paid\", \"Paid\", \"Paid\", \"Paid\", \"Paid\", \"Paid\", \"Paid\", \"Paid\", \"Paid\", \"Paid\", \"Paid\", \"Paid\", \"Paid\", \"Paid\", \"Paid\", \"Paid\", \"Paid\", \"Paid\", \"Paid\", \"Paid\", \"Paid\", \"Paid\", \"Paid\", \"Paid\", \"Paid\", \"Paid\", \"Paid\", \"Paid\", \"Paid\", \"Paid\", \"Paid\", \"Paid\", \"Paid\", \"Paid\", \"Paid\", \"Paid\", \"Paid\", \"Paid\", \"Paid\", \"Paid\", \"Paid\", \"Paid\", \"Paid\", \"Paid\", \"Paid\", \"Paid\", \"Paid\", \"Paid\", \"Paid\", \"Paid\", \"Paid\", \"Paid\", \"Paid\", \"Paid\", \"Paid\", \"Paid\", \"Paid\", \"Paid\", \"Paid\", \"Paid\", \"Paid\", \"Paid\", \"Paid\", \"Paid\", \"Paid\", \"Paid\", \"Paid\", \"Paid\", \"Paid\", \"Paid\", \"Paid\", \"Paid\", \"Paid\", \"Paid\", \"Paid\", \"Paid\", \"Paid\", \"Paid\", \"Paid\", \"Paid\", \"Paid\", \"Paid\", \"Paid\", \"Paid\", \"Paid\", \"Paid\", \"Paid\", \"Paid\", \"Paid\", \"Paid\", \"Paid\", \"Paid\", \"Paid\", \"Paid\", \"Paid\", \"Paid\", \"Paid\", \"Paid\", \"Paid\", \"Paid\", \"Paid\", \"Paid\", \"Paid\", \"Paid\", \"Paid\", \"Paid\", \"Paid\", \"Paid\", \"Paid\", \"Paid\", \"Paid\", \"Paid\", \"Paid\", \"Paid\", \"Paid\", \"Paid\", \"Paid\", \"Paid\", \"Paid\", \"Paid\", \"Paid\", \"Paid\", \"Paid\", \"Paid\", \"Paid\", \"Paid\", \"Paid\", \"Paid\", \"Paid\", \"Paid\", \"Paid\", \"Paid\", \"Paid\", \"Paid\", \"Paid\", \"Paid\", \"Paid\", \"Paid\", \"Paid\", \"Paid\", \"Paid\", \"Paid\", \"Paid\", \"Paid\", \"Paid\", \"Paid\", \"Paid\", \"Paid\", \"Paid\", \"Paid\", \"Paid\", \"Paid\", \"Paid\", \"Paid\", \"Paid\", \"Paid\", \"Paid\", \"Paid\", \"Paid\", \"Paid\", \"Paid\", \"Paid\", \"Paid\", \"Paid\", \"Paid\", \"Paid\", \"Paid\", \"Paid\", \"Paid\", \"Paid\", \"Paid\", \"Paid\", \"Paid\", \"Paid\", \"Paid\", \"Paid\", \"Paid\", \"Paid\", \"Paid\", \"Paid\", \"Paid\", \"Paid\", \"Paid\", \"Paid\", \"Paid\", \"Paid\", \"Paid\", \"Paid\", \"Paid\", \"Paid\", \"Paid\", \"Paid\", \"Paid\", \"Paid\", \"Paid\", \"Paid\", \"Paid\", \"Paid\", \"Paid\", \"Paid\", \"Paid\", \"Paid\", \"Paid\", \"Paid\", \"Paid\", \"Paid\", \"Paid\", \"Paid\", \"Paid\", \"Paid\", \"Paid\", \"Paid\", \"Paid\", \"Paid\", \"Paid\", \"Paid\", \"Paid\", \"Paid\", \"Paid\", \"Paid\", \"Paid\", \"Paid\", \"Paid\", \"Paid\", \"Paid\", \"Paid\", \"Paid\", \"Paid\", \"Paid\", \"Paid\", \"Paid\", \"Paid\", \"Paid\", \"Paid\", \"Paid\", \"Paid\", \"Paid\", \"Paid\", \"Paid\", \"Paid\", \"Paid\", \"Paid\", \"Paid\", \"Paid\", \"Paid\", \"Paid\", \"Paid\", \"Paid\", \"Paid\", \"Paid\", \"Paid\", \"Paid\", \"Paid\", \"Paid\", \"Paid\", \"Paid\", \"Paid\", \"Paid\", \"Paid\", \"Paid\", \"Paid\", \"Paid\", \"Paid\", \"Paid\", \"Paid\", \"Paid\", \"Paid\", \"Paid\", \"Paid\", \"Paid\", \"Paid\", \"Paid\", \"Paid\", \"Paid\", \"Paid\", \"Paid\", \"Paid\", \"Paid\", \"Paid\", \"Paid\", \"Paid\", \"Paid\", \"Paid\", \"Paid\", \"Paid\", \"Paid\", \"Paid\", \"Paid\", \"Paid\", \"Paid\", \"Paid\", \"Paid\", \"Paid\", \"Paid\", \"Paid\", \"Paid\", \"Paid\", \"Paid\", \"Paid\", \"Paid\", \"Paid\", \"Paid\", \"Paid\", \"Paid\", \"Paid\", \"Paid\", \"Paid\", \"Paid\", \"Paid\", \"Paid\", \"Paid\", \"Paid\", \"Paid\", \"Paid\", \"Paid\", \"Paid\", \"Paid\", \"Paid\", \"Paid\", \"Paid\", \"Paid\", \"Paid\", \"Paid\", \"Paid\", \"Paid\", \"Paid\", \"Paid\", \"Paid\", \"Paid\", \"Paid\", \"Paid\", \"Paid\", \"Paid\", \"Paid\", \"Paid\", \"Paid\", \"Paid\", \"Paid\", \"Paid\", \"Paid\", \"Paid\", \"Paid\", \"Paid\", \"Paid\", \"Paid\", \"Paid\", \"Paid\", \"Paid\", \"Paid\", \"Paid\", \"Paid\", \"Paid\", \"Paid\", \"Paid\", \"Paid\", \"Paid\", \"Paid\", \"Paid\", \"Paid\", \"Paid\", \"Paid\", \"Paid\", \"Paid\", \"Paid\", \"Paid\", \"Paid\", \"Paid\", \"Paid\", \"Paid\", \"Paid\", \"Paid\", \"Paid\", \"Paid\", \"Paid\", \"Paid\", \"Paid\", \"Paid\", \"Paid\", \"Paid\", \"Paid\", \"Paid\", \"Paid\", \"Paid\", \"Paid\", \"Paid\", \"Paid\", \"Paid\", \"Paid\", \"Paid\", \"Paid\", \"Paid\", \"Paid\", \"Paid\", \"Paid\", \"Paid\", \"Paid\", \"Paid\", \"Paid\", \"Paid\", \"Paid\", \"Paid\", \"Paid\", \"Paid\", \"Paid\", \"Paid\", \"Paid\", \"Paid\", \"Paid\", \"Paid\", \"Paid\", \"Paid\", \"Paid\", \"Paid\", \"Paid\", \"Paid\", \"Paid\", \"Paid\", \"Paid\", \"Paid\", \"Paid\", \"Paid\", \"Paid\", \"Paid\", \"Paid\", \"Paid\", \"Paid\", \"Paid\", \"Paid\", \"Paid\", \"Paid\", \"Paid\", \"Paid\", \"Paid\", \"Paid\", \"Paid\", \"Paid\", \"Paid\", \"Paid\", \"Paid\", \"Paid\", \"Paid\", \"Paid\", \"Paid\", \"Paid\", \"Paid\", \"Paid\"], \"x0\": \" \", \"xaxis\": \"x\", \"y\": [1, 1, 10, 10, 10, 10, 10, 10, 10, 10, 10, 10, 10, 10, 10, 10, 10, 10, 10, 10, 50, 50, 50, 50, 50, 50, 50, 50, 50, 50, 50, 50, 50, 50, 100, 100, 100, 100, 100, 100, 100, 100, 100, 100, 100, 100, 100, 100, 100, 100, 100, 100, 100, 100, 100, 100, 100, 100, 100, 100, 100, 100, 100, 100, 100, 100, 100, 100, 100, 100, 100, 100, 100, 100, 100, 100, 100, 100, 100, 100, 100, 100, 100, 100, 100, 100, 100, 100, 100, 100, 100, 100, 100, 100, 100, 100, 100, 100, 100, 500, 500, 500, 500, 500, 500, 500, 500, 500, 500, 500, 500, 500, 500, 500, 500, 500, 500, 500, 500, 500, 500, 500, 500, 500, 500, 500, 500, 500, 500, 500, 500, 500, 500, 500, 500, 1000, 1000, 1000, 1000, 1000, 1000, 1000, 1000, 1000, 1000, 1000, 1000, 1000, 1000, 1000, 1000, 1000, 1000, 1000, 1000, 1000, 1000, 1000, 1000, 1000, 1000, 1000, 1000, 1000, 1000, 1000, 1000, 1000, 1000, 1000, 1000, 1000, 1000, 1000, 1000, 1000, 1000, 1000, 1000, 1000, 1000, 1000, 1000, 1000, 1000, 1000, 1000, 1000, 1000, 1000, 1000, 1000, 1000, 1000, 1000, 1000, 1000, 1000, 1000, 1000, 1000, 1000, 1000, 1000, 1000, 1000, 1000, 1000, 1000, 1000, 1000, 1000, 1000, 1000, 1000, 1000, 1000, 1000, 1000, 1000, 1000, 1000, 1000, 1000, 1000, 1000, 1000, 1000, 1000, 1000, 1000, 1000, 1000, 1000, 1000, 1000, 1000, 1000, 1000, 1000, 1000, 1000, 1000, 1000, 1000, 1000, 1000, 1000, 1000, 1000, 1000, 1000, 1000, 1000, 1000, 1000, 1000, 1000, 1000, 1000, 1000, 1000, 5000, 5000, 5000, 5000, 5000, 5000, 5000, 5000, 5000, 5000, 5000, 5000, 5000, 5000, 5000, 5000, 5000, 5000, 5000, 5000, 5000, 5000, 5000, 5000, 5000, 5000, 5000, 5000, 5000, 5000, 5000, 5000, 5000, 5000, 5000, 5000, 5000, 5000, 5000, 5000, 5000, 5000, 5000, 5000, 5000, 5000, 5000, 5000, 5000, 5000, 5000, 5000, 5000, 5000, 5000, 5000, 5000, 5000, 5000, 5000, 5000, 5000, 10000, 10000, 10000, 10000, 10000, 10000, 10000, 10000, 10000, 10000, 10000, 10000, 10000, 10000, 10000, 10000, 10000, 10000, 10000, 10000, 10000, 10000, 10000, 10000, 10000, 10000, 10000, 10000, 10000, 10000, 10000, 10000, 10000, 10000, 10000, 10000, 10000, 10000, 10000, 10000, 10000, 10000, 10000, 10000, 10000, 10000, 10000, 10000, 10000, 10000, 10000, 10000, 10000, 10000, 10000, 10000, 10000, 10000, 10000, 10000, 10000, 10000, 10000, 10000, 10000, 10000, 10000, 10000, 10000, 10000, 10000, 10000, 10000, 10000, 10000, 10000, 10000, 10000, 10000, 10000, 10000, 10000, 10000, 10000, 10000, 10000, 10000, 10000, 10000, 10000, 10000, 10000, 10000, 10000, 10000, 10000, 10000, 10000, 10000, 10000, 10000, 10000, 10000, 10000, 10000, 10000, 10000, 10000, 10000, 10000, 10000, 10000, 50000, 50000, 50000, 50000, 50000, 50000, 50000, 50000, 50000, 50000, 50000, 50000, 50000, 50000, 50000, 50000, 50000, 50000, 50000, 50000, 50000, 50000, 50000, 50000, 50000, 50000, 50000, 50000, 50000, 50000, 50000, 50000, 50000, 50000, 50000, 50000, 50000, 50000, 50000, 100000, 100000, 100000, 100000, 100000, 100000, 100000, 100000, 100000, 100000, 100000, 100000, 100000, 100000, 100000, 100000, 100000, 100000, 100000, 100000, 100000, 100000, 100000, 100000, 100000, 100000, 100000, 100000, 100000, 100000, 100000, 100000, 100000, 100000, 100000, 100000, 100000, 100000, 100000, 100000, 100000, 100000, 100000, 100000, 100000, 100000, 100000, 100000, 100000, 100000, 100000, 100000, 100000, 100000, 100000, 100000, 100000, 100000, 100000, 100000, 100000, 100000, 100000, 100000, 100000, 100000, 100000, 100000, 100000, 100000, 100000, 100000, 100000, 100000, 100000, 100000, 100000, 100000, 100000, 100000, 100000, 500000, 500000, 500000, 500000, 500000, 500000, 500000, 500000, 500000, 500000, 500000, 1000000, 1000000, 1000000, 1000000, 1000000, 1000000, 1000000, 1000000, 1000000, 1000000, 1000000, 1000000, 1000000, 1000000, 1000000, 1000000, 1000000, 1000000, 1000000, 1000000, 10000000, 10000000], \"y0\": \" \", \"yaxis\": \"y\"}],\n",
              "                        {\"boxmode\": \"group\", \"legend\": {\"tracegroupgap\": 0}, \"template\": {\"data\": {\"bar\": [{\"error_x\": {\"color\": \"#2a3f5f\"}, \"error_y\": {\"color\": \"#2a3f5f\"}, \"marker\": {\"line\": {\"color\": \"#E5ECF6\", \"width\": 0.5}}, \"type\": \"bar\"}], \"barpolar\": [{\"marker\": {\"line\": {\"color\": \"#E5ECF6\", \"width\": 0.5}}, \"type\": \"barpolar\"}], \"carpet\": [{\"aaxis\": {\"endlinecolor\": \"#2a3f5f\", \"gridcolor\": \"white\", \"linecolor\": \"white\", \"minorgridcolor\": \"white\", \"startlinecolor\": \"#2a3f5f\"}, \"baxis\": {\"endlinecolor\": \"#2a3f5f\", \"gridcolor\": \"white\", \"linecolor\": \"white\", \"minorgridcolor\": \"white\", \"startlinecolor\": \"#2a3f5f\"}, \"type\": \"carpet\"}], \"choropleth\": [{\"colorbar\": {\"outlinewidth\": 0, \"ticks\": \"\"}, \"type\": \"choropleth\"}], \"contour\": [{\"colorbar\": {\"outlinewidth\": 0, \"ticks\": \"\"}, \"colorscale\": [[0.0, \"#0d0887\"], [0.1111111111111111, \"#46039f\"], [0.2222222222222222, \"#7201a8\"], [0.3333333333333333, \"#9c179e\"], [0.4444444444444444, \"#bd3786\"], [0.5555555555555556, \"#d8576b\"], [0.6666666666666666, \"#ed7953\"], [0.7777777777777778, \"#fb9f3a\"], [0.8888888888888888, \"#fdca26\"], [1.0, \"#f0f921\"]], \"type\": \"contour\"}], \"contourcarpet\": [{\"colorbar\": {\"outlinewidth\": 0, \"ticks\": \"\"}, \"type\": \"contourcarpet\"}], \"heatmap\": [{\"colorbar\": {\"outlinewidth\": 0, \"ticks\": \"\"}, \"colorscale\": [[0.0, \"#0d0887\"], [0.1111111111111111, \"#46039f\"], [0.2222222222222222, \"#7201a8\"], [0.3333333333333333, \"#9c179e\"], [0.4444444444444444, \"#bd3786\"], [0.5555555555555556, \"#d8576b\"], [0.6666666666666666, \"#ed7953\"], [0.7777777777777778, \"#fb9f3a\"], [0.8888888888888888, \"#fdca26\"], [1.0, \"#f0f921\"]], \"type\": \"heatmap\"}], \"heatmapgl\": [{\"colorbar\": {\"outlinewidth\": 0, \"ticks\": \"\"}, \"colorscale\": [[0.0, \"#0d0887\"], [0.1111111111111111, \"#46039f\"], [0.2222222222222222, \"#7201a8\"], [0.3333333333333333, \"#9c179e\"], [0.4444444444444444, \"#bd3786\"], [0.5555555555555556, \"#d8576b\"], [0.6666666666666666, \"#ed7953\"], [0.7777777777777778, \"#fb9f3a\"], [0.8888888888888888, \"#fdca26\"], [1.0, \"#f0f921\"]], \"type\": \"heatmapgl\"}], \"histogram\": [{\"marker\": {\"colorbar\": {\"outlinewidth\": 0, \"ticks\": \"\"}}, \"type\": \"histogram\"}], \"histogram2d\": [{\"colorbar\": {\"outlinewidth\": 0, \"ticks\": \"\"}, \"colorscale\": [[0.0, \"#0d0887\"], [0.1111111111111111, \"#46039f\"], [0.2222222222222222, \"#7201a8\"], [0.3333333333333333, \"#9c179e\"], [0.4444444444444444, \"#bd3786\"], [0.5555555555555556, \"#d8576b\"], [0.6666666666666666, \"#ed7953\"], [0.7777777777777778, \"#fb9f3a\"], [0.8888888888888888, \"#fdca26\"], [1.0, \"#f0f921\"]], \"type\": \"histogram2d\"}], \"histogram2dcontour\": [{\"colorbar\": {\"outlinewidth\": 0, \"ticks\": \"\"}, \"colorscale\": [[0.0, \"#0d0887\"], [0.1111111111111111, \"#46039f\"], [0.2222222222222222, \"#7201a8\"], [0.3333333333333333, \"#9c179e\"], [0.4444444444444444, \"#bd3786\"], [0.5555555555555556, \"#d8576b\"], [0.6666666666666666, \"#ed7953\"], [0.7777777777777778, \"#fb9f3a\"], [0.8888888888888888, \"#fdca26\"], [1.0, \"#f0f921\"]], \"type\": \"histogram2dcontour\"}], \"mesh3d\": [{\"colorbar\": {\"outlinewidth\": 0, \"ticks\": \"\"}, \"type\": \"mesh3d\"}], \"parcoords\": [{\"line\": {\"colorbar\": {\"outlinewidth\": 0, \"ticks\": \"\"}}, \"type\": \"parcoords\"}], \"pie\": [{\"automargin\": true, \"type\": \"pie\"}], \"scatter\": [{\"marker\": {\"colorbar\": {\"outlinewidth\": 0, \"ticks\": \"\"}}, \"type\": \"scatter\"}], \"scatter3d\": [{\"line\": {\"colorbar\": {\"outlinewidth\": 0, \"ticks\": \"\"}}, \"marker\": {\"colorbar\": {\"outlinewidth\": 0, \"ticks\": \"\"}}, \"type\": \"scatter3d\"}], \"scattercarpet\": [{\"marker\": {\"colorbar\": {\"outlinewidth\": 0, \"ticks\": \"\"}}, \"type\": \"scattercarpet\"}], \"scattergeo\": [{\"marker\": {\"colorbar\": {\"outlinewidth\": 0, \"ticks\": \"\"}}, \"type\": \"scattergeo\"}], \"scattergl\": [{\"marker\": {\"colorbar\": {\"outlinewidth\": 0, \"ticks\": \"\"}}, \"type\": \"scattergl\"}], \"scattermapbox\": [{\"marker\": {\"colorbar\": {\"outlinewidth\": 0, \"ticks\": \"\"}}, \"type\": \"scattermapbox\"}], \"scatterpolar\": [{\"marker\": {\"colorbar\": {\"outlinewidth\": 0, \"ticks\": \"\"}}, \"type\": \"scatterpolar\"}], \"scatterpolargl\": [{\"marker\": {\"colorbar\": {\"outlinewidth\": 0, \"ticks\": \"\"}}, \"type\": \"scatterpolargl\"}], \"scatterternary\": [{\"marker\": {\"colorbar\": {\"outlinewidth\": 0, \"ticks\": \"\"}}, \"type\": \"scatterternary\"}], \"surface\": [{\"colorbar\": {\"outlinewidth\": 0, \"ticks\": \"\"}, \"colorscale\": [[0.0, \"#0d0887\"], [0.1111111111111111, \"#46039f\"], [0.2222222222222222, \"#7201a8\"], [0.3333333333333333, \"#9c179e\"], [0.4444444444444444, \"#bd3786\"], [0.5555555555555556, \"#d8576b\"], [0.6666666666666666, \"#ed7953\"], [0.7777777777777778, \"#fb9f3a\"], [0.8888888888888888, \"#fdca26\"], [1.0, \"#f0f921\"]], \"type\": \"surface\"}], \"table\": [{\"cells\": {\"fill\": {\"color\": \"#EBF0F8\"}, \"line\": {\"color\": \"white\"}}, \"header\": {\"fill\": {\"color\": \"#C8D4E3\"}, \"line\": {\"color\": \"white\"}}, \"type\": \"table\"}]}, \"layout\": {\"annotationdefaults\": {\"arrowcolor\": \"#2a3f5f\", \"arrowhead\": 0, \"arrowwidth\": 1}, \"coloraxis\": {\"colorbar\": {\"outlinewidth\": 0, \"ticks\": \"\"}}, \"colorscale\": {\"diverging\": [[0, \"#8e0152\"], [0.1, \"#c51b7d\"], [0.2, \"#de77ae\"], [0.3, \"#f1b6da\"], [0.4, \"#fde0ef\"], [0.5, \"#f7f7f7\"], [0.6, \"#e6f5d0\"], [0.7, \"#b8e186\"], [0.8, \"#7fbc41\"], [0.9, \"#4d9221\"], [1, \"#276419\"]], \"sequential\": [[0.0, \"#0d0887\"], [0.1111111111111111, \"#46039f\"], [0.2222222222222222, \"#7201a8\"], [0.3333333333333333, \"#9c179e\"], [0.4444444444444444, \"#bd3786\"], [0.5555555555555556, \"#d8576b\"], [0.6666666666666666, \"#ed7953\"], [0.7777777777777778, \"#fb9f3a\"], [0.8888888888888888, \"#fdca26\"], [1.0, \"#f0f921\"]], \"sequentialminus\": [[0.0, \"#0d0887\"], [0.1111111111111111, \"#46039f\"], [0.2222222222222222, \"#7201a8\"], [0.3333333333333333, \"#9c179e\"], [0.4444444444444444, \"#bd3786\"], [0.5555555555555556, \"#d8576b\"], [0.6666666666666666, \"#ed7953\"], [0.7777777777777778, \"#fb9f3a\"], [0.8888888888888888, \"#fdca26\"], [1.0, \"#f0f921\"]]}, \"colorway\": [\"#636efa\", \"#EF553B\", \"#00cc96\", \"#ab63fa\", \"#FFA15A\", \"#19d3f3\", \"#FF6692\", \"#B6E880\", \"#FF97FF\", \"#FECB52\"], \"font\": {\"color\": \"#2a3f5f\"}, \"geo\": {\"bgcolor\": \"white\", \"lakecolor\": \"white\", \"landcolor\": \"#E5ECF6\", \"showlakes\": true, \"showland\": true, \"subunitcolor\": \"white\"}, \"hoverlabel\": {\"align\": \"left\"}, \"hovermode\": \"closest\", \"mapbox\": {\"style\": \"light\"}, \"paper_bgcolor\": \"white\", \"plot_bgcolor\": \"#E5ECF6\", \"polar\": {\"angularaxis\": {\"gridcolor\": \"white\", \"linecolor\": \"white\", \"ticks\": \"\"}, \"bgcolor\": \"#E5ECF6\", \"radialaxis\": {\"gridcolor\": \"white\", \"linecolor\": \"white\", \"ticks\": \"\"}}, \"scene\": {\"xaxis\": {\"backgroundcolor\": \"#E5ECF6\", \"gridcolor\": \"white\", \"gridwidth\": 2, \"linecolor\": \"white\", \"showbackground\": true, \"ticks\": \"\", \"zerolinecolor\": \"white\"}, \"yaxis\": {\"backgroundcolor\": \"#E5ECF6\", \"gridcolor\": \"white\", \"gridwidth\": 2, \"linecolor\": \"white\", \"showbackground\": true, \"ticks\": \"\", \"zerolinecolor\": \"white\"}, \"zaxis\": {\"backgroundcolor\": \"#E5ECF6\", \"gridcolor\": \"white\", \"gridwidth\": 2, \"linecolor\": \"white\", \"showbackground\": true, \"ticks\": \"\", \"zerolinecolor\": \"white\"}}, \"shapedefaults\": {\"line\": {\"color\": \"#2a3f5f\"}}, \"ternary\": {\"aaxis\": {\"gridcolor\": \"white\", \"linecolor\": \"white\", \"ticks\": \"\"}, \"baxis\": {\"gridcolor\": \"white\", \"linecolor\": \"white\", \"ticks\": \"\"}, \"bgcolor\": \"#E5ECF6\", \"caxis\": {\"gridcolor\": \"white\", \"linecolor\": \"white\", \"ticks\": \"\"}}, \"title\": {\"x\": 0.05}, \"xaxis\": {\"automargin\": true, \"gridcolor\": \"white\", \"linecolor\": \"white\", \"ticks\": \"\", \"title\": {\"standoff\": 15}, \"zerolinecolor\": \"white\", \"zerolinewidth\": 2}, \"yaxis\": {\"automargin\": true, \"gridcolor\": \"white\", \"linecolor\": \"white\", \"ticks\": \"\", \"title\": {\"standoff\": 15}, \"zerolinecolor\": \"white\", \"zerolinewidth\": 2}}}, \"title\": {\"text\": \"How Many Downloads are Paid Apps Giving Up?\"}, \"xaxis\": {\"anchor\": \"y\", \"categoryarray\": [\"Free\", \"Paid\"], \"categoryorder\": \"array\", \"domain\": [0.0, 1.0], \"title\": {\"text\": \"Type\"}}, \"yaxis\": {\"anchor\": \"x\", \"domain\": [0.0, 1.0], \"title\": {\"text\": \"Installs\"}, \"type\": \"log\"}},\n",
              "                        {\"responsive\": true}\n",
              "                    ).then(function(){\n",
              "                            \n",
              "var gd = document.getElementById('7384de92-8f59-43b6-a6a0-96db74a0952f');\n",
              "var x = new MutationObserver(function (mutations, observer) {{\n",
              "        var display = window.getComputedStyle(gd).display;\n",
              "        if (!display || display === 'none') {{\n",
              "            console.log([gd, 'removed!']);\n",
              "            Plotly.purge(gd);\n",
              "            observer.disconnect();\n",
              "        }}\n",
              "}});\n",
              "\n",
              "// Listen for the removal of the full notebook cells\n",
              "var notebookContainer = gd.closest('#notebook-container');\n",
              "if (notebookContainer) {{\n",
              "    x.observe(notebookContainer, {childList: true});\n",
              "}}\n",
              "\n",
              "// Listen for the clearing of the current output cell\n",
              "var outputEl = gd.closest('.output');\n",
              "if (outputEl) {{\n",
              "    x.observe(outputEl, {childList: true});\n",
              "}}\n",
              "\n",
              "                        })\n",
              "                };\n",
              "                \n",
              "            </script>\n",
              "        </div>\n",
              "</body>\n",
              "</html>"
            ]
          },
          "metadata": {
            "tags": []
          }
        }
      ]
    },
    {
      "cell_type": "markdown",
      "metadata": {
        "id": "3nhcm5L8KcIG"
      },
      "source": [
        "Box plots show us some handy descriptive statistics in a graph - things like the median value, the maximum value, the minimum value, and some quartiles.\n",
        "\n",
        "From the hover text in the chart, we see that the median number of downloads for free apps is 500,000, while the median number of downloads for paid apps is around 5,000! This is massively lower."
      ]
    },
    {
      "cell_type": "markdown",
      "metadata": {
        "id": "Xi2NaEBPVNrP"
      },
      "source": [
        "# Plotly Box Plots: Revenue by App Category\n",
        "\n",
        "**Challenge**: See if you can generate the chart below: \n",
        "\n",
        "<img src=https://imgur.com/v4CiNqX.png>\n",
        "\n",
        "Looking at the hover text, how much does the median app earn in the Tools category? If developing an Android app costs $30,000 or thereabouts, does the average photography app recoup its development costs?\n",
        "\n",
        "Hint: I've used 'min ascending' to sort the categories. "
      ]
    },
    {
      "cell_type": "markdown",
      "metadata": {
        "id": "uA7rh1sYMJX8"
      },
      "source": [
        "<img src=\"https://img-c.udemycdn.com/redactor/raw/2020-10-11_13-55-50-fba0062772e999739ca28119fd0cecda.png\">\n",
        "\n",
        "If an Android app costs 30,000USD to develop, then the average app in very few categories would cover that development cost. The median paid photography app earned about $20,000. Many more app’s revenues were even lower - meaning they would need other sources of revenue like advertising or in-app purchases to make up for their development costs. However, certain app categories seem to contain a large number of outliers that have much higher (estimated) revenue - for example in Medical, Personalisation, Tools, Game, and Family."
      ]
    },
    {
      "cell_type": "code",
      "metadata": {
        "colab": {
          "base_uri": "https://localhost:8080/"
        },
        "id": "dCTtbENnMg8y",
        "outputId": "eb920bc4-20de-4799-d2ee-f23f9cabfc38"
      },
      "source": [
        "df_apps_clean.columns"
      ],
      "execution_count": 198,
      "outputs": [
        {
          "output_type": "execute_result",
          "data": {
            "text/plain": [
              "Index(['App', 'Category', 'Rating', 'Reviews', 'Size_MBs', 'Installs', 'Type',\n",
              "       'Price', 'Content_Rating', 'Genres', 'Revenue_Estimate'],\n",
              "      dtype='object')"
            ]
          },
          "metadata": {
            "tags": []
          },
          "execution_count": 198
        }
      ]
    },
    {
      "cell_type": "code",
      "metadata": {
        "id": "W1iVoT8Dos7x",
        "colab": {
          "base_uri": "https://localhost:8080/",
          "height": 542
        },
        "outputId": "424bc398-9ecd-4973-debd-78cc61a0b7fd"
      },
      "source": [
        "df_paid_apps = df_apps_clean[df_apps_clean['Type'] == 'Paid']\n",
        "\n",
        "box = px.box(df_paid_apps, \n",
        "             x='Category', \n",
        "             y='Revenue_Estimate',\n",
        "             title='How Much Can Paid Apps Earn?')\n",
        " \n",
        "box.update_layout(xaxis_title='Category',\n",
        "                  yaxis_title='Paid App Ballpark Revenue',\n",
        "                  xaxis={'categoryorder':'min ascending'},\n",
        "                  yaxis=dict(type='log'))\n",
        " \n",
        " \n",
        "box.show()"
      ],
      "execution_count": 199,
      "outputs": [
        {
          "output_type": "display_data",
          "data": {
            "text/html": [
              "<html>\n",
              "<head><meta charset=\"utf-8\" /></head>\n",
              "<body>\n",
              "    <div>\n",
              "            <script src=\"https://cdnjs.cloudflare.com/ajax/libs/mathjax/2.7.5/MathJax.js?config=TeX-AMS-MML_SVG\"></script><script type=\"text/javascript\">if (window.MathJax) {MathJax.Hub.Config({SVG: {font: \"STIX-Web\"}});}</script>\n",
              "                <script type=\"text/javascript\">window.PlotlyConfig = {MathJaxConfig: 'local'};</script>\n",
              "        <script src=\"https://cdn.plot.ly/plotly-latest.min.js\"></script>    \n",
              "            <div id=\"65e8ee21-a8b0-46c3-8563-d9324f66b90f\" class=\"plotly-graph-div\" style=\"height:525px; width:100%;\"></div>\n",
              "            <script type=\"text/javascript\">\n",
              "                \n",
              "                    window.PLOTLYENV=window.PLOTLYENV || {};\n",
              "                    \n",
              "                if (document.getElementById(\"65e8ee21-a8b0-46c3-8563-d9324f66b90f\")) {\n",
              "                    Plotly.newPlot(\n",
              "                        '65e8ee21-a8b0-46c3-8563-d9324f66b90f',\n",
              "                        [{\"alignmentgroup\": \"True\", \"hoverlabel\": {\"namelength\": 0}, \"hovertemplate\": \"Category=%{x}<br>Revenue_Estimate=%{y}\", \"legendgroup\": \"\", \"marker\": {\"color\": \"#636efa\"}, \"name\": \"\", \"notched\": false, \"offsetgroup\": \"\", \"orientation\": \"v\", \"showlegend\": false, \"type\": \"box\", \"x\": [\"GAME\", \"GAME\", \"FAMILY\", \"BUSINESS\", \"LIFESTYLE\", \"FAMILY\", \"PERSONALIZATION\", \"PHOTOGRAPHY\", \"FAMILY\", \"GAME\", \"PRODUCTIVITY\", \"PHOTOGRAPHY\", \"FAMILY\", \"TOOLS\", \"TOOLS\", \"PERSONALIZATION\", \"FAMILY\", \"FAMILY\", \"FAMILY\", \"FAMILY\", \"GAME\", \"TOOLS\", \"PERSONALIZATION\", \"PERSONALIZATION\", \"PERSONALIZATION\", \"TOOLS\", \"FAMILY\", \"FAMILY\", \"BUSINESS\", \"BOOKS_AND_REFERENCE\", \"FAMILY\", \"FAMILY\", \"FAMILY\", \"PERSONALIZATION\", \"PERSONALIZATION\", \"PERSONALIZATION\", \"GAME\", \"PERSONALIZATION\", \"FAMILY\", \"FINANCE\", \"SHOPPING\", \"DATING\", \"PERSONALIZATION\", \"GAME\", \"FAMILY\", \"PRODUCTIVITY\", \"FAMILY\", \"MEDICAL\", \"SPORTS\", \"MEDICAL\", \"PRODUCTIVITY\", \"BUSINESS\", \"PARENTING\", \"LIFESTYLE\", \"FAMILY\", \"TOOLS\", \"MAPS_AND_NAVIGATION\", \"COMMUNICATION\", \"PERSONALIZATION\", \"COMMUNICATION\", \"FAMILY\", \"PERSONALIZATION\", \"FAMILY\", \"FAMILY\", \"FAMILY\", \"TOOLS\", \"FAMILY\", \"SPORTS\", \"FAMILY\", \"MEDICAL\", \"FAMILY\", \"FAMILY\", \"GAME\", \"TOOLS\", \"FAMILY\", \"FAMILY\", \"PERSONALIZATION\", \"BOOKS_AND_REFERENCE\", \"GAME\", \"PERSONALIZATION\", \"GAME\", \"GAME\", \"TOOLS\", \"MEDICAL\", \"TOOLS\", \"TOOLS\", \"PERSONALIZATION\", \"GAME\", \"COMMUNICATION\", \"MEDICAL\", \"SPORTS\", \"PERSONALIZATION\", \"COMMUNICATION\", \"COMMUNICATION\", \"PERSONALIZATION\", \"TOOLS\", \"PERSONALIZATION\", \"PERSONALIZATION\", \"PRODUCTIVITY\", \"MEDICAL\", \"FAMILY\", \"TOOLS\", \"TOOLS\", \"BUSINESS\", \"COMMUNICATION\", \"FAMILY\", \"PERSONALIZATION\", \"PHOTOGRAPHY\", \"MEDICAL\", \"PERSONALIZATION\", \"MEDICAL\", \"COMMUNICATION\", \"PRODUCTIVITY\", \"BOOKS_AND_REFERENCE\", \"TOOLS\", \"WEATHER\", \"FAMILY\", \"FAMILY\", \"MEDICAL\", \"FAMILY\", \"TOOLS\", \"TOOLS\", \"SPORTS\", \"GAME\", \"MEDICAL\", \"PERSONALIZATION\", \"PERSONALIZATION\", \"NEWS_AND_MAGAZINES\", \"COMMUNICATION\", \"TOOLS\", \"MEDICAL\", \"FINANCE\", \"FAMILY\", \"PERSONALIZATION\", \"PERSONALIZATION\", \"MEDICAL\", \"FAMILY\", \"MEDICAL\", \"MEDICAL\", \"FAMILY\", \"FAMILY\", \"FAMILY\", \"GAME\", \"PERSONALIZATION\", \"TOOLS\", \"PERSONALIZATION\", \"GAME\", \"GAME\", \"GAME\", \"FAMILY\", \"FAMILY\", \"PRODUCTIVITY\", \"COMMUNICATION\", \"SPORTS\", \"SPORTS\", \"FAMILY\", \"PERSONALIZATION\", \"MEDICAL\", \"SPORTS\", \"COMMUNICATION\", \"LIFESTYLE\", \"FAMILY\", \"MEDICAL\", \"MEDICAL\", \"TOOLS\", \"PRODUCTIVITY\", \"FINANCE\", \"HEALTH_AND_FITNESS\", \"MEDICAL\", \"PHOTOGRAPHY\", \"FAMILY\", \"FAMILY\", \"PHOTOGRAPHY\", \"SPORTS\", \"ART_AND_DESIGN\", \"FAMILY\", \"PERSONALIZATION\", \"PRODUCTIVITY\", \"HEALTH_AND_FITNESS\", \"MEDICAL\", \"TOOLS\", \"PRODUCTIVITY\", \"GAME\", \"TOOLS\", \"MEDICAL\", \"LIFESTYLE\", \"GAME\", \"MEDICAL\", \"TRAVEL_AND_LOCAL\", \"BUSINESS\", \"MEDICAL\", \"COMMUNICATION\", \"PERSONALIZATION\", \"GAME\", \"TRAVEL_AND_LOCAL\", \"GAME\", \"SPORTS\", \"MEDICAL\", \"FAMILY\", \"MEDICAL\", \"TOOLS\", \"BOOKS_AND_REFERENCE\", \"FAMILY\", \"MEDICAL\", \"MEDICAL\", \"GAME\", \"BUSINESS\", \"TOOLS\", \"FAMILY\", \"MEDICAL\", \"PERSONALIZATION\", \"PHOTOGRAPHY\", \"SPORTS\", \"MAPS_AND_NAVIGATION\", \"PERSONALIZATION\", \"GAME\", \"BOOKS_AND_REFERENCE\", \"EDUCATION\", \"FAMILY\", \"FAMILY\", \"SOCIAL\", \"MEDICAL\", \"TOOLS\", \"SPORTS\", \"FAMILY\", \"FAMILY\", \"TOOLS\", \"WEATHER\", \"VIDEO_PLAYERS\", \"MEDICAL\", \"TOOLS\", \"GAME\", \"PERSONALIZATION\", \"MEDICAL\", \"LIFESTYLE\", \"MEDICAL\", \"DATING\", \"HEALTH_AND_FITNESS\", \"MEDICAL\", \"FAMILY\", \"PRODUCTIVITY\", \"EDUCATION\", \"SPORTS\", \"FAMILY\", \"PERSONALIZATION\", \"PERSONALIZATION\", \"FAMILY\", \"GAME\", \"FINANCE\", \"GAME\", \"MEDICAL\", \"FAMILY\", \"MEDICAL\", \"MEDICAL\", \"TOOLS\", \"TOOLS\", \"TOOLS\", \"TOOLS\", \"PERSONALIZATION\", \"PERSONALIZATION\", \"PERSONALIZATION\", \"PERSONALIZATION\", \"FAMILY\", \"GAME\", \"FAMILY\", \"FAMILY\", \"MEDICAL\", \"SPORTS\", \"LIFESTYLE\", \"FAMILY\", \"FAMILY\", \"TRAVEL_AND_LOCAL\", \"PERSONALIZATION\", \"BOOKS_AND_REFERENCE\", \"FAMILY\", \"MEDICAL\", \"MEDICAL\", \"MEDICAL\", \"MEDICAL\", \"PRODUCTIVITY\", \"SOCIAL\", \"SPORTS\", \"TRAVEL_AND_LOCAL\", \"TOOLS\", \"FAMILY\", \"NEWS_AND_MAGAZINES\", \"ART_AND_DESIGN\", \"GAME\", \"PERSONALIZATION\", \"LIFESTYLE\", \"PERSONALIZATION\", \"LIFESTYLE\", \"MEDICAL\", \"FAMILY\", \"FAMILY\", \"BOOKS_AND_REFERENCE\", \"LIFESTYLE\", \"MEDICAL\", \"MEDICAL\", \"TOOLS\", \"SPORTS\", \"MEDICAL\", \"PHOTOGRAPHY\", \"GAME\", \"SPORTS\", \"FAMILY\", \"SPORTS\", \"TOOLS\", \"LIFESTYLE\", \"FAMILY\", \"COMMUNICATION\", \"COMMUNICATION\", \"COMMUNICATION\", \"FAMILY\", \"FAMILY\", \"TOOLS\", \"MEDICAL\", \"TOOLS\", \"TOOLS\", \"TOOLS\", \"TOOLS\", \"TOOLS\", \"TOOLS\", \"PERSONALIZATION\", \"FAMILY\", \"MEDICAL\", \"MEDICAL\", \"MEDICAL\", \"HEALTH_AND_FITNESS\", \"GAME\", \"FAMILY\", \"FAMILY\", \"PHOTOGRAPHY\", \"PERSONALIZATION\", \"LIFESTYLE\", \"GAME\", \"FAMILY\", \"MEDICAL\", \"FAMILY\", \"BUSINESS\", \"GAME\", \"FAMILY\", \"MEDICAL\", \"FAMILY\", \"MAPS_AND_NAVIGATION\", \"BOOKS_AND_REFERENCE\", \"GAME\", \"PERSONALIZATION\", \"PERSONALIZATION\", \"COMMUNICATION\", \"DATING\", \"FOOD_AND_DRINK\", \"LIFESTYLE\", \"FAMILY\", \"FAMILY\", \"MEDICAL\", \"TRAVEL_AND_LOCAL\", \"TOOLS\", \"TOOLS\", \"TOOLS\", \"PERSONALIZATION\", \"VIDEO_PLAYERS\", \"VIDEO_PLAYERS\", \"GAME\", \"FAMILY\", \"FAMILY\", \"FAMILY\", \"FAMILY\", \"PERSONALIZATION\", \"WEATHER\", \"TOOLS\", \"PERSONALIZATION\", \"TOOLS\", \"ART_AND_DESIGN\", \"PERSONALIZATION\", \"PERSONALIZATION\", \"MEDICAL\", \"TOOLS\", \"FAMILY\", \"FINANCE\", \"TOOLS\", \"GAME\", \"FAMILY\", \"FAMILY\", \"TOOLS\", \"TOOLS\", \"GAME\", \"TOOLS\", \"HEALTH_AND_FITNESS\", \"GAME\", \"MEDICAL\", \"COMMUNICATION\", \"FAMILY\", \"GAME\", \"FAMILY\", \"MEDICAL\", \"PERSONALIZATION\", \"FAMILY\", \"SPORTS\", \"FAMILY\", \"TRAVEL_AND_LOCAL\", \"TOOLS\", \"SHOPPING\", \"TOOLS\", \"FAMILY\", \"FAMILY\", \"FAMILY\", \"FAMILY\", \"FAMILY\", \"FAMILY\", \"GAME\", \"MAPS_AND_NAVIGATION\", \"PERSONALIZATION\", \"GAME\", \"FAMILY\", \"FAMILY\", \"FINANCE\", \"TOOLS\", \"TOOLS\", \"FAMILY\", \"FAMILY\", \"MEDICAL\", \"GAME\", \"FAMILY\", \"COMMUNICATION\", \"COMMUNICATION\", \"FAMILY\", \"FAMILY\", \"MEDICAL\", \"MEDICAL\", \"MEDICAL\", \"PHOTOGRAPHY\", \"TOOLS\", \"TOOLS\", \"PERSONALIZATION\", \"PERSONALIZATION\", \"FAMILY\", \"GAME\", \"SPORTS\", \"MEDICAL\", \"GAME\", \"FAMILY\", \"AUTO_AND_VEHICLES\", \"HEALTH_AND_FITNESS\", \"FAMILY\", \"FAMILY\", \"MEDICAL\", \"PHOTOGRAPHY\", \"SPORTS\", \"TOOLS\", \"VIDEO_PLAYERS\", \"FAMILY\", \"FAMILY\", \"PRODUCTIVITY\", \"PERSONALIZATION\", \"PRODUCTIVITY\", \"PERSONALIZATION\", \"FAMILY\", \"FAMILY\", \"GAME\", \"MEDICAL\", \"FAMILY\", \"FAMILY\", \"FOOD_AND_DRINK\", \"FAMILY\", \"FAMILY\", \"FAMILY\", \"TOOLS\", \"HEALTH_AND_FITNESS\", \"PARENTING\", \"FAMILY\", \"GAME\", \"HEALTH_AND_FITNESS\", \"TRAVEL_AND_LOCAL\", \"GAME\", \"WEATHER\", \"FAMILY\", \"MEDICAL\", \"GAME\", \"GAME\", \"MEDICAL\", \"PERSONALIZATION\", \"FAMILY\", \"FAMILY\", \"FAMILY\", \"FAMILY\", \"GAME\", \"PHOTOGRAPHY\", \"FAMILY\", \"BUSINESS\", \"FAMILY\", \"GAME\", \"FAMILY\", \"FAMILY\", \"WEATHER\", \"EDUCATION\", \"COMMUNICATION\", \"ENTERTAINMENT\", \"HEALTH_AND_FITNESS\", \"HEALTH_AND_FITNESS\", \"GAME\", \"GAME\", \"FAMILY\", \"FAMILY\", \"FAMILY\", \"PHOTOGRAPHY\", \"SPORTS\", \"TRAVEL_AND_LOCAL\", \"TOOLS\", \"TOOLS\", \"PERSONALIZATION\", \"PERSONALIZATION\", \"PRODUCTIVITY\", \"PRODUCTIVITY\", \"MAPS_AND_NAVIGATION\", \"GAME\", \"GAME\", \"PRODUCTIVITY\", \"TOOLS\", \"WEATHER\", \"FAMILY\", \"GAME\", \"FAMILY\", \"GAME\", \"TOOLS\", \"GAME\", \"FAMILY\", \"FAMILY\", \"HEALTH_AND_FITNESS\", \"FAMILY\", \"GAME\", \"FAMILY\", \"PERSONALIZATION\", \"BUSINESS\", \"FINANCE\", \"FAMILY\", \"PHOTOGRAPHY\", \"GAME\", \"FAMILY\", \"FAMILY\", \"FAMILY\", \"FAMILY\", \"GAME\", \"FAMILY\", \"GAME\", \"COMMUNICATION\", \"FAMILY\", \"ENTERTAINMENT\", \"COMMUNICATION\", \"GAME\", \"GAME\", \"GAME\", \"GAME\", \"GAME\", \"GAME\", \"PERSONALIZATION\", \"FAMILY\", \"PERSONALIZATION\", \"FAMILY\", \"EDUCATION\", \"WEATHER\", \"PHOTOGRAPHY\", \"PRODUCTIVITY\", \"GAME\", \"FAMILY\", \"FAMILY\", \"PRODUCTIVITY\", \"PERSONALIZATION\", \"GAME\", \"GAME\", \"FAMILY\", \"COMMUNICATION\", \"TOOLS\", \"GAME\", \"PERSONALIZATION\", \"PHOTOGRAPHY\", \"SPORTS\", \"GAME\", \"FAMILY\", \"GAME\", \"GAME\", \"FAMILY\", \"GAME\", \"FAMILY\", \"GAME\", \"LIFESTYLE\", \"FAMILY\", \"GAME\", \"FAMILY\"], \"x0\": \" \", \"xaxis\": \"x\", \"y\": [1.49, 0.99, 149.9, 24.900000000000002, 30.4, 14.9, 9.9, 34.900000000000006, 29.900000000000002, 9.9, 9.9, 49.900000000000006, 9.9, 29.900000000000002, 9.9, 9.9, 299.9, 199.89999999999998, 49.900000000000006, 49.900000000000006, 99.5, 149.5, 49.5, 49.5, 49.5, 88.0, 149.5, 149.5, 449.5, 87.5, 74.5, 74.5, 49.5, 49.5, 99.0, 99.0, 99.0, 99.0, 1299.0, 499.0, 249.00000000000003, 799.0, 199.0, 499.0, 99.0, 499.0, 399.0, 299.0, 388.0, 299.0, 299.0, 1299.0, 459.0, 99.0, 999.0, 399.0, 999.0, 149.0, 149.0, 149.0, 149.0, 99.0, 299.0, 199.0, 499.0, 149.0, 99.0, 349.0, 199.0, 1299.0, 99.0, 99.0, 99.0, 199.0, 499.0, 399.0, 99.0, 399.0, 1400.0, 149.0, 449.0, 199.0, 99.0, 699.0, 599.0, 399.0, 249.00000000000003, 99.0, 149.0, 3999.0, 302.0, 149.0, 149.0, 99.0, 99.0, 499.0, 149.0, 99.0, 649.0, 2995.0, 1495.0, 1995.0, 495.0, 8995.0, 495.0, 995.0, 745.0, 745.0, 1995.0, 745.0, 1495.0, 2495.0, 4495.0, 495.0, 495.0, 995.0, 1245.0, 2495.0, 495.0, 995.0, 995.0, 495.0, 1495.0, 2245.0, 1745.0, 1000.0, 745.0, 1495.0, 1995.0, 1995.0, 7995.0, 1995.0, 1495.0, 745.0, 495.0, 9990.0, 2990.0, 4990.0, 9990.0, 2490.0, 10990.0, 2990.0, 990.0, 1990.0, 1990.0, 990.0, 3990.0, 1610.0, 990.0, 1990.0, 2490.0, 4290.0, 990.0, 3990.0, 990.0, 2990.0, 1490.0, 15460.0, 1990.0, 2990.0, 4990.0, 7490.0, 3990.0, 5490.0, 2490.0, 2990.0, 1990.0, 4990.0, 4990.0, 19990.0, 2990.0, 1990.0, 9990.0, 990.0, 1990.0, 2990.0, 1700.0, 990.0, 7990.0, 29990.0, 2990.0, 7990.0, 990.0, 1490.0, 2990.0, 4990.0, 2490.0, 79990.0, 2560.0, 3990.0, 19990.0, 2490.0, 990.0, 990.0, 8490.0, 6990.0, 2990.0, 990.0, 2990.0, 1500.0, 4990.0, 1990.0, 4840.0, 14990.0, 29990.0, 4990.0, 4990.0, 3990.0, 19400.0, 33990.0, 1490.0, 2990.0, 2990.0, 990.0, 990.0, 1990.0, 3080.0, 5990.0, 3990.0, 2990.0, 990.0, 1990.0, 5990.0, 2490.0, 990.0, 990.0, 990.0, 6990.0, 990.0, 16990.0, 990.0, 3490.0, 1700.0, 3990.0, 37990.0, 9990.0, 6990.0, 1990.0, 3990.0, 10000.0, 1290.0, 3990.0, 4490.0, 2990.0, 2490.0, 990.0, 4990.0, 990.0, 3990.0, 1990.0, 7490.0, 990.0, 10990.0, 5990.0, 990.0, 1490.0, 14990.0, 4990.0, 4990.0, 990.0, 4990.0, 3990.0, 24950.0, 4950.0, 22450.0, 29950.0, 19950.0, 9950.0, 19950.0, 24950.0, 9950.0, 19950.0, 4950.0, 14950.000000000002, 7450.0, 12450.000000000002, 19950.0, 19950.0, 19950.0, 19950.0, 4950.0, 9950.0, 14950.000000000002, 4950.0, 14950.000000000002, 4950.0, 9950.0, 34950.0, 9950.0, 4950.0, 7450.0, 14950.000000000002, 29950.0, 14950.000000000002, 14950.000000000002, 23000.0, 9950.0, 74950.0, 4950.0, 4950.0, 4950.0, 14950.000000000002, 14950.000000000002, 9950.0, 14950.000000000002, 24950.0, 5000.0, 74950.0, 12450.000000000002, 4950.0, 24950.0, 4950.0, 7450.0, 19950.0, 14950.000000000002, 24950.0, 19950.0, 24950.0, 24950.0, 24950.0, 24950.0, 24950.0, 5000.0, 34950.0, 29900.000000000004, 99900.0, 249899.99999999997, 29900.000000000004, 39900.0, 9900.0, 39900.0, 39900.0, 19900.0, 9900.0, 79900.0, 49900.0, 29900.000000000004, 100000.0, 29900.000000000004, 29900.000000000004, 29900.000000000004, 149900.0, 79900.0, 129900.0, 9900.0, 44900.0, 169899.99999999997, 9900.0, 9900.0, 49900.0, 39900.0, 34900.0, 24900.000000000004, 29900.000000000004, 14900.0, 69900.0, 19900.0, 25000.0, 39000.0, 29500.0, 9900.0, 14900.0, 19900.0, 79900.0, 29900.000000000004, 29900.000000000004, 49900.0, 19900.0, 9900.0, 29900.000000000004, 29900.000000000004, 19900.0, 19700.0, 19900.0, 99900.0, 29900.000000000004, 54900.0, 32800.0, 9900.0, 29900.000000000004, 49900.0, 29900.000000000004, 149900.0, 29900.000000000004, 29900.000000000004, 29900.000000000004, 179899.99999999997, 9900.0, 69900.0, 49900.0, 39900.0, 29900.000000000004, 29900.000000000004, 49900.0, 12000.0, 29900.000000000004, 19900.0, 49900.0, 49900.0, 9900.0, 59900.0, 25900.0, 29900.000000000004, 19900.0, 39900.0, 49900.0, 39900.0, 29900.000000000004, 49900.0, 29900.000000000004, 49900.0, 29900.000000000004, 9900.0, 39900.0, 24900.000000000004, 9900.0, 189899.99999999997, 19900.0, 19900.0, 15900.0, 39900.0, 119900.0, 19900.0, 19900.0, 29900.000000000004, 9900.0, 99900.0, 39900.0, 9900.0, 29900.000000000004, 19900.0, 49900.0, 19900.0, 29900.000000000004, 9900.0, 19900.0, 49500.0, 49500.0, 1499500.0, 149500.0, 99500.0, 149500.0, 99500.0, 99500.0, 149500.0, 249500.0, 199500.0, 99500.0, 199500.0, 149500.0, 299500.0, 999499.9999999999, 499500.0, 149500.0, 124500.00000000001, 74500.0, 49500.0, 149500.0, 149500.0, 99500.0, 599500.0, 249500.0, 199500.0, 249500.0, 149500.0, 149500.0, 238499.99999999997, 149500.0, 149500.0, 249500.0, 249500.0, 249500.0, 99500.0, 124500.00000000001, 249500.0, 399000.0, 399000.0, 2499000.0, 499000.0, 99000.0, 900000.0, 99000.0, 299000.0, 299000.0, 299000.0, 999000.0, 299000.0, 149000.0, 1499000.0, 499000.0, 799000.0, 199000.0, 99000.0, 99000.0, 449000.0, 399000.0, 399000.0, 499000.0, 299000.0, 299000.0, 299000.0, 299000.0, 399000.0, 499000.0, 499000.0, 395000.0, 899000.0, 899000.0, 249000.00000000003, 399000.0, 449000.0, 199000.0, 599000.0, 499000.0, 1199000.0, 499000.0, 999000.0, 449000.0, 349000.0, 299000.0, 499000.0, 499000.0, 499000.0, 199000.0, 449000.0, 399000.0, 299000.0, 1399000.0, 349000.0, 999000.0, 499000.0, 299000.0, 299000.0, 499000.0, 299000.0, 299000.0, 299000.0, 299000.0, 299000.0, 999000.0, 99000.0, 199000.0, 299000.0, 149000.0, 699000.0, 290000.0, 299000.0, 299000.0, 399000.0, 299000.0, 499000.0, 299000.0, 299000.0, 199000.0, 599000.0, 499000.0, 1495000.0, 1245000.0, 495000.0, 1995000.0, 2995000.0, 1495000.0, 1495000.0, 995000.0, 1495000.0, 2495000.0, 995000.0, 2490000.0, 990000.0, 4990000.0, 2990000.0, 2990000.0, 2990000.0, 6990000.0, 990000.0, 5990000.0, 1990000.0, 2990000.0, 990000.0, 990000.0, 990000.0, 990000.0, 990000.0, 2990000.0, 990000.0, 5990000.0, 1990000.0, 9900000.0, 69900000.0], \"y0\": \" \", \"yaxis\": \"y\"}],\n",
              "                        {\"boxmode\": \"group\", \"legend\": {\"tracegroupgap\": 0}, \"template\": {\"data\": {\"bar\": [{\"error_x\": {\"color\": \"#2a3f5f\"}, \"error_y\": {\"color\": \"#2a3f5f\"}, \"marker\": {\"line\": {\"color\": \"#E5ECF6\", \"width\": 0.5}}, \"type\": \"bar\"}], \"barpolar\": [{\"marker\": {\"line\": {\"color\": \"#E5ECF6\", \"width\": 0.5}}, \"type\": \"barpolar\"}], \"carpet\": [{\"aaxis\": {\"endlinecolor\": \"#2a3f5f\", \"gridcolor\": \"white\", \"linecolor\": \"white\", \"minorgridcolor\": \"white\", \"startlinecolor\": \"#2a3f5f\"}, \"baxis\": {\"endlinecolor\": \"#2a3f5f\", \"gridcolor\": \"white\", \"linecolor\": \"white\", \"minorgridcolor\": \"white\", \"startlinecolor\": \"#2a3f5f\"}, \"type\": \"carpet\"}], \"choropleth\": [{\"colorbar\": {\"outlinewidth\": 0, \"ticks\": \"\"}, \"type\": \"choropleth\"}], \"contour\": [{\"colorbar\": {\"outlinewidth\": 0, \"ticks\": \"\"}, \"colorscale\": [[0.0, \"#0d0887\"], [0.1111111111111111, \"#46039f\"], [0.2222222222222222, \"#7201a8\"], [0.3333333333333333, \"#9c179e\"], [0.4444444444444444, \"#bd3786\"], [0.5555555555555556, \"#d8576b\"], [0.6666666666666666, \"#ed7953\"], [0.7777777777777778, \"#fb9f3a\"], [0.8888888888888888, \"#fdca26\"], [1.0, \"#f0f921\"]], \"type\": \"contour\"}], \"contourcarpet\": [{\"colorbar\": {\"outlinewidth\": 0, \"ticks\": \"\"}, \"type\": \"contourcarpet\"}], \"heatmap\": [{\"colorbar\": {\"outlinewidth\": 0, \"ticks\": \"\"}, \"colorscale\": [[0.0, \"#0d0887\"], [0.1111111111111111, \"#46039f\"], [0.2222222222222222, \"#7201a8\"], [0.3333333333333333, \"#9c179e\"], [0.4444444444444444, \"#bd3786\"], [0.5555555555555556, \"#d8576b\"], [0.6666666666666666, \"#ed7953\"], [0.7777777777777778, \"#fb9f3a\"], [0.8888888888888888, \"#fdca26\"], [1.0, \"#f0f921\"]], \"type\": \"heatmap\"}], \"heatmapgl\": [{\"colorbar\": {\"outlinewidth\": 0, \"ticks\": \"\"}, \"colorscale\": [[0.0, \"#0d0887\"], [0.1111111111111111, \"#46039f\"], [0.2222222222222222, \"#7201a8\"], [0.3333333333333333, \"#9c179e\"], [0.4444444444444444, \"#bd3786\"], [0.5555555555555556, \"#d8576b\"], [0.6666666666666666, \"#ed7953\"], [0.7777777777777778, \"#fb9f3a\"], [0.8888888888888888, \"#fdca26\"], [1.0, \"#f0f921\"]], \"type\": \"heatmapgl\"}], \"histogram\": [{\"marker\": {\"colorbar\": {\"outlinewidth\": 0, \"ticks\": \"\"}}, \"type\": \"histogram\"}], \"histogram2d\": [{\"colorbar\": {\"outlinewidth\": 0, \"ticks\": \"\"}, \"colorscale\": [[0.0, \"#0d0887\"], [0.1111111111111111, \"#46039f\"], [0.2222222222222222, \"#7201a8\"], [0.3333333333333333, \"#9c179e\"], [0.4444444444444444, \"#bd3786\"], [0.5555555555555556, \"#d8576b\"], [0.6666666666666666, \"#ed7953\"], [0.7777777777777778, \"#fb9f3a\"], [0.8888888888888888, \"#fdca26\"], [1.0, \"#f0f921\"]], \"type\": \"histogram2d\"}], \"histogram2dcontour\": [{\"colorbar\": {\"outlinewidth\": 0, \"ticks\": \"\"}, \"colorscale\": [[0.0, \"#0d0887\"], [0.1111111111111111, \"#46039f\"], [0.2222222222222222, \"#7201a8\"], [0.3333333333333333, \"#9c179e\"], [0.4444444444444444, \"#bd3786\"], [0.5555555555555556, \"#d8576b\"], [0.6666666666666666, \"#ed7953\"], [0.7777777777777778, \"#fb9f3a\"], [0.8888888888888888, \"#fdca26\"], [1.0, \"#f0f921\"]], \"type\": \"histogram2dcontour\"}], \"mesh3d\": [{\"colorbar\": {\"outlinewidth\": 0, \"ticks\": \"\"}, \"type\": \"mesh3d\"}], \"parcoords\": [{\"line\": {\"colorbar\": {\"outlinewidth\": 0, \"ticks\": \"\"}}, \"type\": \"parcoords\"}], \"pie\": [{\"automargin\": true, \"type\": \"pie\"}], \"scatter\": [{\"marker\": {\"colorbar\": {\"outlinewidth\": 0, \"ticks\": \"\"}}, \"type\": \"scatter\"}], \"scatter3d\": [{\"line\": {\"colorbar\": {\"outlinewidth\": 0, \"ticks\": \"\"}}, \"marker\": {\"colorbar\": {\"outlinewidth\": 0, \"ticks\": \"\"}}, \"type\": \"scatter3d\"}], \"scattercarpet\": [{\"marker\": {\"colorbar\": {\"outlinewidth\": 0, \"ticks\": \"\"}}, \"type\": \"scattercarpet\"}], \"scattergeo\": [{\"marker\": {\"colorbar\": {\"outlinewidth\": 0, \"ticks\": \"\"}}, \"type\": \"scattergeo\"}], \"scattergl\": [{\"marker\": {\"colorbar\": {\"outlinewidth\": 0, \"ticks\": \"\"}}, \"type\": \"scattergl\"}], \"scattermapbox\": [{\"marker\": {\"colorbar\": {\"outlinewidth\": 0, \"ticks\": \"\"}}, \"type\": \"scattermapbox\"}], \"scatterpolar\": [{\"marker\": {\"colorbar\": {\"outlinewidth\": 0, \"ticks\": \"\"}}, \"type\": \"scatterpolar\"}], \"scatterpolargl\": [{\"marker\": {\"colorbar\": {\"outlinewidth\": 0, \"ticks\": \"\"}}, \"type\": \"scatterpolargl\"}], \"scatterternary\": [{\"marker\": {\"colorbar\": {\"outlinewidth\": 0, \"ticks\": \"\"}}, \"type\": \"scatterternary\"}], \"surface\": [{\"colorbar\": {\"outlinewidth\": 0, \"ticks\": \"\"}, \"colorscale\": [[0.0, \"#0d0887\"], [0.1111111111111111, \"#46039f\"], [0.2222222222222222, \"#7201a8\"], [0.3333333333333333, \"#9c179e\"], [0.4444444444444444, \"#bd3786\"], [0.5555555555555556, \"#d8576b\"], [0.6666666666666666, \"#ed7953\"], [0.7777777777777778, \"#fb9f3a\"], [0.8888888888888888, \"#fdca26\"], [1.0, \"#f0f921\"]], \"type\": \"surface\"}], \"table\": [{\"cells\": {\"fill\": {\"color\": \"#EBF0F8\"}, \"line\": {\"color\": \"white\"}}, \"header\": {\"fill\": {\"color\": \"#C8D4E3\"}, \"line\": {\"color\": \"white\"}}, \"type\": \"table\"}]}, \"layout\": {\"annotationdefaults\": {\"arrowcolor\": \"#2a3f5f\", \"arrowhead\": 0, \"arrowwidth\": 1}, \"coloraxis\": {\"colorbar\": {\"outlinewidth\": 0, \"ticks\": \"\"}}, \"colorscale\": {\"diverging\": [[0, \"#8e0152\"], [0.1, \"#c51b7d\"], [0.2, \"#de77ae\"], [0.3, \"#f1b6da\"], [0.4, \"#fde0ef\"], [0.5, \"#f7f7f7\"], [0.6, \"#e6f5d0\"], [0.7, \"#b8e186\"], [0.8, \"#7fbc41\"], [0.9, \"#4d9221\"], [1, \"#276419\"]], \"sequential\": [[0.0, \"#0d0887\"], [0.1111111111111111, \"#46039f\"], [0.2222222222222222, \"#7201a8\"], [0.3333333333333333, \"#9c179e\"], [0.4444444444444444, \"#bd3786\"], [0.5555555555555556, \"#d8576b\"], [0.6666666666666666, \"#ed7953\"], [0.7777777777777778, \"#fb9f3a\"], [0.8888888888888888, \"#fdca26\"], [1.0, \"#f0f921\"]], \"sequentialminus\": [[0.0, \"#0d0887\"], [0.1111111111111111, \"#46039f\"], [0.2222222222222222, \"#7201a8\"], [0.3333333333333333, \"#9c179e\"], [0.4444444444444444, \"#bd3786\"], [0.5555555555555556, \"#d8576b\"], [0.6666666666666666, \"#ed7953\"], [0.7777777777777778, \"#fb9f3a\"], [0.8888888888888888, \"#fdca26\"], [1.0, \"#f0f921\"]]}, \"colorway\": [\"#636efa\", \"#EF553B\", \"#00cc96\", \"#ab63fa\", \"#FFA15A\", \"#19d3f3\", \"#FF6692\", \"#B6E880\", \"#FF97FF\", \"#FECB52\"], \"font\": {\"color\": \"#2a3f5f\"}, \"geo\": {\"bgcolor\": \"white\", \"lakecolor\": \"white\", \"landcolor\": \"#E5ECF6\", \"showlakes\": true, \"showland\": true, \"subunitcolor\": \"white\"}, \"hoverlabel\": {\"align\": \"left\"}, \"hovermode\": \"closest\", \"mapbox\": {\"style\": \"light\"}, \"paper_bgcolor\": \"white\", \"plot_bgcolor\": \"#E5ECF6\", \"polar\": {\"angularaxis\": {\"gridcolor\": \"white\", \"linecolor\": \"white\", \"ticks\": \"\"}, \"bgcolor\": \"#E5ECF6\", \"radialaxis\": {\"gridcolor\": \"white\", \"linecolor\": \"white\", \"ticks\": \"\"}}, \"scene\": {\"xaxis\": {\"backgroundcolor\": \"#E5ECF6\", \"gridcolor\": \"white\", \"gridwidth\": 2, \"linecolor\": \"white\", \"showbackground\": true, \"ticks\": \"\", \"zerolinecolor\": \"white\"}, \"yaxis\": {\"backgroundcolor\": \"#E5ECF6\", \"gridcolor\": \"white\", \"gridwidth\": 2, \"linecolor\": \"white\", \"showbackground\": true, \"ticks\": \"\", \"zerolinecolor\": \"white\"}, \"zaxis\": {\"backgroundcolor\": \"#E5ECF6\", \"gridcolor\": \"white\", \"gridwidth\": 2, \"linecolor\": \"white\", \"showbackground\": true, \"ticks\": \"\", \"zerolinecolor\": \"white\"}}, \"shapedefaults\": {\"line\": {\"color\": \"#2a3f5f\"}}, \"ternary\": {\"aaxis\": {\"gridcolor\": \"white\", \"linecolor\": \"white\", \"ticks\": \"\"}, \"baxis\": {\"gridcolor\": \"white\", \"linecolor\": \"white\", \"ticks\": \"\"}, \"bgcolor\": \"#E5ECF6\", \"caxis\": {\"gridcolor\": \"white\", \"linecolor\": \"white\", \"ticks\": \"\"}}, \"title\": {\"x\": 0.05}, \"xaxis\": {\"automargin\": true, \"gridcolor\": \"white\", \"linecolor\": \"white\", \"ticks\": \"\", \"title\": {\"standoff\": 15}, \"zerolinecolor\": \"white\", \"zerolinewidth\": 2}, \"yaxis\": {\"automargin\": true, \"gridcolor\": \"white\", \"linecolor\": \"white\", \"ticks\": \"\", \"title\": {\"standoff\": 15}, \"zerolinecolor\": \"white\", \"zerolinewidth\": 2}}}, \"title\": {\"text\": \"How Much Can Paid Apps Earn?\"}, \"xaxis\": {\"anchor\": \"y\", \"categoryorder\": \"min ascending\", \"domain\": [0.0, 1.0], \"title\": {\"text\": \"Category\"}}, \"yaxis\": {\"anchor\": \"x\", \"domain\": [0.0, 1.0], \"title\": {\"text\": \"Paid App Ballpark Revenue\"}, \"type\": \"log\"}},\n",
              "                        {\"responsive\": true}\n",
              "                    ).then(function(){\n",
              "                            \n",
              "var gd = document.getElementById('65e8ee21-a8b0-46c3-8563-d9324f66b90f');\n",
              "var x = new MutationObserver(function (mutations, observer) {{\n",
              "        var display = window.getComputedStyle(gd).display;\n",
              "        if (!display || display === 'none') {{\n",
              "            console.log([gd, 'removed!']);\n",
              "            Plotly.purge(gd);\n",
              "            observer.disconnect();\n",
              "        }}\n",
              "}});\n",
              "\n",
              "// Listen for the removal of the full notebook cells\n",
              "var notebookContainer = gd.closest('#notebook-container');\n",
              "if (notebookContainer) {{\n",
              "    x.observe(notebookContainer, {childList: true});\n",
              "}}\n",
              "\n",
              "// Listen for the clearing of the current output cell\n",
              "var outputEl = gd.closest('.output');\n",
              "if (outputEl) {{\n",
              "    x.observe(outputEl, {childList: true});\n",
              "}}\n",
              "\n",
              "                        })\n",
              "                };\n",
              "                \n",
              "            </script>\n",
              "        </div>\n",
              "</body>\n",
              "</html>"
            ]
          },
          "metadata": {
            "tags": []
          }
        }
      ]
    },
    {
      "cell_type": "markdown",
      "metadata": {
        "id": "uT32ylj4WS9B"
      },
      "source": [
        "# How Much Can You Charge? Examine Paid App Pricing Strategies by Category\n",
        "\n",
        "**Challenge**: What is the median price price for a paid app? Then compare pricing by category by creating another box plot. But this time examine the prices (instead of the revenue estimates) of the paid apps. I recommend using `{categoryorder':'max descending'}` to sort the categories."
      ]
    },
    {
      "cell_type": "code",
      "metadata": {
        "id": "AdBr0TUhouqs",
        "colab": {
          "base_uri": "https://localhost:8080/"
        },
        "outputId": "2576cc6e-01b8-4170-dc1f-50b28a6c6663"
      },
      "source": [
        "df_paid_apps.Price.median()"
      ],
      "execution_count": 200,
      "outputs": [
        {
          "output_type": "execute_result",
          "data": {
            "text/plain": [
              "2.99"
            ]
          },
          "metadata": {
            "tags": []
          },
          "execution_count": 200
        }
      ]
    },
    {
      "cell_type": "code",
      "metadata": {
        "id": "bJnABRw3ovwr",
        "colab": {
          "base_uri": "https://localhost:8080/",
          "height": 542
        },
        "outputId": "83a972fc-7047-49a2-99f6-53a8f772e996"
      },
      "source": [
        "box = px.box(df_paid_apps,\n",
        "             x='Category',\n",
        "             y=\"Price\",\n",
        "             title='Price per Category')\n",
        " \n",
        "box.update_layout(xaxis_title='Category',\n",
        "                  yaxis_title='Paid App Price',\n",
        "                  xaxis={'categoryorder':'max descending'},\n",
        "                  yaxis=dict(type='log'))\n",
        " \n",
        "box.show()"
      ],
      "execution_count": 201,
      "outputs": [
        {
          "output_type": "display_data",
          "data": {
            "text/html": [
              "<html>\n",
              "<head><meta charset=\"utf-8\" /></head>\n",
              "<body>\n",
              "    <div>\n",
              "            <script src=\"https://cdnjs.cloudflare.com/ajax/libs/mathjax/2.7.5/MathJax.js?config=TeX-AMS-MML_SVG\"></script><script type=\"text/javascript\">if (window.MathJax) {MathJax.Hub.Config({SVG: {font: \"STIX-Web\"}});}</script>\n",
              "                <script type=\"text/javascript\">window.PlotlyConfig = {MathJaxConfig: 'local'};</script>\n",
              "        <script src=\"https://cdn.plot.ly/plotly-latest.min.js\"></script>    \n",
              "            <div id=\"d57153c8-b1d7-4010-972d-d32abf123a4e\" class=\"plotly-graph-div\" style=\"height:525px; width:100%;\"></div>\n",
              "            <script type=\"text/javascript\">\n",
              "                \n",
              "                    window.PLOTLYENV=window.PLOTLYENV || {};\n",
              "                    \n",
              "                if (document.getElementById(\"d57153c8-b1d7-4010-972d-d32abf123a4e\")) {\n",
              "                    Plotly.newPlot(\n",
              "                        'd57153c8-b1d7-4010-972d-d32abf123a4e',\n",
              "                        [{\"alignmentgroup\": \"True\", \"hoverlabel\": {\"namelength\": 0}, \"hovertemplate\": \"Category=%{x}<br>Price=%{y}\", \"legendgroup\": \"\", \"marker\": {\"color\": \"#636efa\"}, \"name\": \"\", \"notched\": false, \"offsetgroup\": \"\", \"orientation\": \"v\", \"showlegend\": false, \"type\": \"box\", \"x\": [\"GAME\", \"GAME\", \"FAMILY\", \"BUSINESS\", \"LIFESTYLE\", \"FAMILY\", \"PERSONALIZATION\", \"PHOTOGRAPHY\", \"FAMILY\", \"GAME\", \"PRODUCTIVITY\", \"PHOTOGRAPHY\", \"FAMILY\", \"TOOLS\", \"TOOLS\", \"PERSONALIZATION\", \"FAMILY\", \"FAMILY\", \"FAMILY\", \"FAMILY\", \"GAME\", \"TOOLS\", \"PERSONALIZATION\", \"PERSONALIZATION\", \"PERSONALIZATION\", \"TOOLS\", \"FAMILY\", \"FAMILY\", \"BUSINESS\", \"BOOKS_AND_REFERENCE\", \"FAMILY\", \"FAMILY\", \"FAMILY\", \"PERSONALIZATION\", \"PERSONALIZATION\", \"PERSONALIZATION\", \"GAME\", \"PERSONALIZATION\", \"FAMILY\", \"FINANCE\", \"SHOPPING\", \"DATING\", \"PERSONALIZATION\", \"GAME\", \"FAMILY\", \"PRODUCTIVITY\", \"FAMILY\", \"MEDICAL\", \"SPORTS\", \"MEDICAL\", \"PRODUCTIVITY\", \"BUSINESS\", \"PARENTING\", \"LIFESTYLE\", \"FAMILY\", \"TOOLS\", \"MAPS_AND_NAVIGATION\", \"COMMUNICATION\", \"PERSONALIZATION\", \"COMMUNICATION\", \"FAMILY\", \"PERSONALIZATION\", \"FAMILY\", \"FAMILY\", \"FAMILY\", \"TOOLS\", \"FAMILY\", \"SPORTS\", \"FAMILY\", \"MEDICAL\", \"FAMILY\", \"FAMILY\", \"GAME\", \"TOOLS\", \"FAMILY\", \"FAMILY\", \"PERSONALIZATION\", \"BOOKS_AND_REFERENCE\", \"GAME\", \"PERSONALIZATION\", \"GAME\", \"GAME\", \"TOOLS\", \"MEDICAL\", \"TOOLS\", \"TOOLS\", \"PERSONALIZATION\", \"GAME\", \"COMMUNICATION\", \"MEDICAL\", \"SPORTS\", \"PERSONALIZATION\", \"COMMUNICATION\", \"COMMUNICATION\", \"PERSONALIZATION\", \"TOOLS\", \"PERSONALIZATION\", \"PERSONALIZATION\", \"PRODUCTIVITY\", \"MEDICAL\", \"FAMILY\", \"TOOLS\", \"TOOLS\", \"BUSINESS\", \"COMMUNICATION\", \"FAMILY\", \"PERSONALIZATION\", \"PHOTOGRAPHY\", \"MEDICAL\", \"PERSONALIZATION\", \"MEDICAL\", \"COMMUNICATION\", \"PRODUCTIVITY\", \"BOOKS_AND_REFERENCE\", \"TOOLS\", \"WEATHER\", \"FAMILY\", \"FAMILY\", \"MEDICAL\", \"FAMILY\", \"TOOLS\", \"TOOLS\", \"SPORTS\", \"GAME\", \"MEDICAL\", \"PERSONALIZATION\", \"PERSONALIZATION\", \"NEWS_AND_MAGAZINES\", \"COMMUNICATION\", \"TOOLS\", \"MEDICAL\", \"FINANCE\", \"FAMILY\", \"PERSONALIZATION\", \"PERSONALIZATION\", \"MEDICAL\", \"FAMILY\", \"MEDICAL\", \"MEDICAL\", \"FAMILY\", \"FAMILY\", \"FAMILY\", \"GAME\", \"PERSONALIZATION\", \"TOOLS\", \"PERSONALIZATION\", \"GAME\", \"GAME\", \"GAME\", \"FAMILY\", \"FAMILY\", \"PRODUCTIVITY\", \"COMMUNICATION\", \"SPORTS\", \"SPORTS\", \"FAMILY\", \"PERSONALIZATION\", \"MEDICAL\", \"SPORTS\", \"COMMUNICATION\", \"LIFESTYLE\", \"FAMILY\", \"MEDICAL\", \"MEDICAL\", \"TOOLS\", \"PRODUCTIVITY\", \"FINANCE\", \"HEALTH_AND_FITNESS\", \"MEDICAL\", \"PHOTOGRAPHY\", \"FAMILY\", \"FAMILY\", \"PHOTOGRAPHY\", \"SPORTS\", \"ART_AND_DESIGN\", \"FAMILY\", \"PERSONALIZATION\", \"PRODUCTIVITY\", \"HEALTH_AND_FITNESS\", \"MEDICAL\", \"TOOLS\", \"PRODUCTIVITY\", \"GAME\", \"TOOLS\", \"MEDICAL\", \"LIFESTYLE\", \"GAME\", \"MEDICAL\", \"TRAVEL_AND_LOCAL\", \"BUSINESS\", \"MEDICAL\", \"COMMUNICATION\", \"PERSONALIZATION\", \"GAME\", \"TRAVEL_AND_LOCAL\", \"GAME\", \"SPORTS\", \"MEDICAL\", \"FAMILY\", \"MEDICAL\", \"TOOLS\", \"BOOKS_AND_REFERENCE\", \"FAMILY\", \"MEDICAL\", \"MEDICAL\", \"GAME\", \"BUSINESS\", \"TOOLS\", \"FAMILY\", \"MEDICAL\", \"PERSONALIZATION\", \"PHOTOGRAPHY\", \"SPORTS\", \"MAPS_AND_NAVIGATION\", \"PERSONALIZATION\", \"GAME\", \"BOOKS_AND_REFERENCE\", \"EDUCATION\", \"FAMILY\", \"FAMILY\", \"SOCIAL\", \"MEDICAL\", \"TOOLS\", \"SPORTS\", \"FAMILY\", \"FAMILY\", \"TOOLS\", \"WEATHER\", \"VIDEO_PLAYERS\", \"MEDICAL\", \"TOOLS\", \"GAME\", \"PERSONALIZATION\", \"MEDICAL\", \"LIFESTYLE\", \"MEDICAL\", \"DATING\", \"HEALTH_AND_FITNESS\", \"MEDICAL\", \"FAMILY\", \"PRODUCTIVITY\", \"EDUCATION\", \"SPORTS\", \"FAMILY\", \"PERSONALIZATION\", \"PERSONALIZATION\", \"FAMILY\", \"GAME\", \"FINANCE\", \"GAME\", \"MEDICAL\", \"FAMILY\", \"MEDICAL\", \"MEDICAL\", \"TOOLS\", \"TOOLS\", \"TOOLS\", \"TOOLS\", \"PERSONALIZATION\", \"PERSONALIZATION\", \"PERSONALIZATION\", \"PERSONALIZATION\", \"FAMILY\", \"GAME\", \"FAMILY\", \"FAMILY\", \"MEDICAL\", \"SPORTS\", \"LIFESTYLE\", \"FAMILY\", \"FAMILY\", \"TRAVEL_AND_LOCAL\", \"PERSONALIZATION\", \"BOOKS_AND_REFERENCE\", \"FAMILY\", \"MEDICAL\", \"MEDICAL\", \"MEDICAL\", \"MEDICAL\", \"PRODUCTIVITY\", \"SOCIAL\", \"SPORTS\", \"TRAVEL_AND_LOCAL\", \"TOOLS\", \"FAMILY\", \"NEWS_AND_MAGAZINES\", \"ART_AND_DESIGN\", \"GAME\", \"PERSONALIZATION\", \"LIFESTYLE\", \"PERSONALIZATION\", \"LIFESTYLE\", \"MEDICAL\", \"FAMILY\", \"FAMILY\", \"BOOKS_AND_REFERENCE\", \"LIFESTYLE\", \"MEDICAL\", \"MEDICAL\", \"TOOLS\", \"SPORTS\", \"MEDICAL\", \"PHOTOGRAPHY\", \"GAME\", \"SPORTS\", \"FAMILY\", \"SPORTS\", \"TOOLS\", \"LIFESTYLE\", \"FAMILY\", \"COMMUNICATION\", \"COMMUNICATION\", \"COMMUNICATION\", \"FAMILY\", \"FAMILY\", \"TOOLS\", \"MEDICAL\", \"TOOLS\", \"TOOLS\", \"TOOLS\", \"TOOLS\", \"TOOLS\", \"TOOLS\", \"PERSONALIZATION\", \"FAMILY\", \"MEDICAL\", \"MEDICAL\", \"MEDICAL\", \"HEALTH_AND_FITNESS\", \"GAME\", \"FAMILY\", \"FAMILY\", \"PHOTOGRAPHY\", \"PERSONALIZATION\", \"LIFESTYLE\", \"GAME\", \"FAMILY\", \"MEDICAL\", \"FAMILY\", \"BUSINESS\", \"GAME\", \"FAMILY\", \"MEDICAL\", \"FAMILY\", \"MAPS_AND_NAVIGATION\", \"BOOKS_AND_REFERENCE\", \"GAME\", \"PERSONALIZATION\", \"PERSONALIZATION\", \"COMMUNICATION\", \"DATING\", \"FOOD_AND_DRINK\", \"LIFESTYLE\", \"FAMILY\", \"FAMILY\", \"MEDICAL\", \"TRAVEL_AND_LOCAL\", \"TOOLS\", \"TOOLS\", \"TOOLS\", \"PERSONALIZATION\", \"VIDEO_PLAYERS\", \"VIDEO_PLAYERS\", \"GAME\", \"FAMILY\", \"FAMILY\", \"FAMILY\", \"FAMILY\", \"PERSONALIZATION\", \"WEATHER\", \"TOOLS\", \"PERSONALIZATION\", \"TOOLS\", \"ART_AND_DESIGN\", \"PERSONALIZATION\", \"PERSONALIZATION\", \"MEDICAL\", \"TOOLS\", \"FAMILY\", \"FINANCE\", \"TOOLS\", \"GAME\", \"FAMILY\", \"FAMILY\", \"TOOLS\", \"TOOLS\", \"GAME\", \"TOOLS\", \"HEALTH_AND_FITNESS\", \"GAME\", \"MEDICAL\", \"COMMUNICATION\", \"FAMILY\", \"GAME\", \"FAMILY\", \"MEDICAL\", \"PERSONALIZATION\", \"FAMILY\", \"SPORTS\", \"FAMILY\", \"TRAVEL_AND_LOCAL\", \"TOOLS\", \"SHOPPING\", \"TOOLS\", \"FAMILY\", \"FAMILY\", \"FAMILY\", \"FAMILY\", \"FAMILY\", \"FAMILY\", \"GAME\", \"MAPS_AND_NAVIGATION\", \"PERSONALIZATION\", \"GAME\", \"FAMILY\", \"FAMILY\", \"FINANCE\", \"TOOLS\", \"TOOLS\", \"FAMILY\", \"FAMILY\", \"MEDICAL\", \"GAME\", \"FAMILY\", \"COMMUNICATION\", \"COMMUNICATION\", \"FAMILY\", \"FAMILY\", \"MEDICAL\", \"MEDICAL\", \"MEDICAL\", \"PHOTOGRAPHY\", \"TOOLS\", \"TOOLS\", \"PERSONALIZATION\", \"PERSONALIZATION\", \"FAMILY\", \"GAME\", \"SPORTS\", \"MEDICAL\", \"GAME\", \"FAMILY\", \"AUTO_AND_VEHICLES\", \"HEALTH_AND_FITNESS\", \"FAMILY\", \"FAMILY\", \"MEDICAL\", \"PHOTOGRAPHY\", \"SPORTS\", \"TOOLS\", \"VIDEO_PLAYERS\", \"FAMILY\", \"FAMILY\", \"PRODUCTIVITY\", \"PERSONALIZATION\", \"PRODUCTIVITY\", \"PERSONALIZATION\", \"FAMILY\", \"FAMILY\", \"GAME\", \"MEDICAL\", \"FAMILY\", \"FAMILY\", \"FOOD_AND_DRINK\", \"FAMILY\", \"FAMILY\", \"FAMILY\", \"TOOLS\", \"HEALTH_AND_FITNESS\", \"PARENTING\", \"FAMILY\", \"GAME\", \"HEALTH_AND_FITNESS\", \"TRAVEL_AND_LOCAL\", \"GAME\", \"WEATHER\", \"FAMILY\", \"MEDICAL\", \"GAME\", \"GAME\", \"MEDICAL\", \"PERSONALIZATION\", \"FAMILY\", \"FAMILY\", \"FAMILY\", \"FAMILY\", \"GAME\", \"PHOTOGRAPHY\", \"FAMILY\", \"BUSINESS\", \"FAMILY\", \"GAME\", \"FAMILY\", \"FAMILY\", \"WEATHER\", \"EDUCATION\", \"COMMUNICATION\", \"ENTERTAINMENT\", \"HEALTH_AND_FITNESS\", \"HEALTH_AND_FITNESS\", \"GAME\", \"GAME\", \"FAMILY\", \"FAMILY\", \"FAMILY\", \"PHOTOGRAPHY\", \"SPORTS\", \"TRAVEL_AND_LOCAL\", \"TOOLS\", \"TOOLS\", \"PERSONALIZATION\", \"PERSONALIZATION\", \"PRODUCTIVITY\", \"PRODUCTIVITY\", \"MAPS_AND_NAVIGATION\", \"GAME\", \"GAME\", \"PRODUCTIVITY\", \"TOOLS\", \"WEATHER\", \"FAMILY\", \"GAME\", \"FAMILY\", \"GAME\", \"TOOLS\", \"GAME\", \"FAMILY\", \"FAMILY\", \"HEALTH_AND_FITNESS\", \"FAMILY\", \"GAME\", \"FAMILY\", \"PERSONALIZATION\", \"BUSINESS\", \"FINANCE\", \"FAMILY\", \"PHOTOGRAPHY\", \"GAME\", \"FAMILY\", \"FAMILY\", \"FAMILY\", \"FAMILY\", \"GAME\", \"FAMILY\", \"GAME\", \"COMMUNICATION\", \"FAMILY\", \"ENTERTAINMENT\", \"COMMUNICATION\", \"GAME\", \"GAME\", \"GAME\", \"GAME\", \"GAME\", \"GAME\", \"PERSONALIZATION\", \"FAMILY\", \"PERSONALIZATION\", \"FAMILY\", \"EDUCATION\", \"WEATHER\", \"PHOTOGRAPHY\", \"PRODUCTIVITY\", \"GAME\", \"FAMILY\", \"FAMILY\", \"PRODUCTIVITY\", \"PERSONALIZATION\", \"GAME\", \"GAME\", \"FAMILY\", \"COMMUNICATION\", \"TOOLS\", \"GAME\", \"PERSONALIZATION\", \"PHOTOGRAPHY\", \"SPORTS\", \"GAME\", \"FAMILY\", \"GAME\", \"GAME\", \"FAMILY\", \"GAME\", \"FAMILY\", \"GAME\", \"LIFESTYLE\", \"FAMILY\", \"GAME\", \"FAMILY\"], \"x0\": \" \", \"xaxis\": \"x\", \"y\": [1.49, 0.99, 14.99, 2.49, 3.04, 1.49, 0.99, 3.49, 2.99, 0.99, 0.99, 4.99, 0.99, 2.99, 0.99, 0.99, 29.99, 19.99, 4.99, 4.99, 1.99, 2.99, 0.99, 0.99, 0.99, 1.76, 2.99, 2.99, 8.99, 1.75, 1.49, 1.49, 0.99, 0.99, 0.99, 0.99, 0.99, 0.99, 12.99, 4.99, 2.49, 7.99, 1.99, 4.99, 0.99, 4.99, 3.99, 2.99, 3.88, 2.99, 2.99, 12.99, 4.59, 0.99, 9.99, 3.99, 9.99, 1.49, 1.49, 1.49, 1.49, 0.99, 2.99, 1.99, 4.99, 1.49, 0.99, 3.49, 1.99, 12.99, 0.99, 0.99, 0.99, 1.99, 4.99, 3.99, 0.99, 3.99, 14.0, 1.49, 4.49, 1.99, 0.99, 6.99, 5.99, 3.99, 2.49, 0.99, 1.49, 39.99, 3.02, 1.49, 1.49, 0.99, 0.99, 4.99, 1.49, 0.99, 6.49, 5.99, 2.99, 3.99, 0.99, 17.99, 0.99, 1.99, 1.49, 1.49, 3.99, 1.49, 2.99, 4.99, 8.99, 0.99, 0.99, 1.99, 2.49, 4.99, 0.99, 1.99, 1.99, 0.99, 2.99, 4.49, 3.49, 2.0, 1.49, 2.99, 3.99, 3.99, 15.99, 3.99, 2.99, 1.49, 0.99, 9.99, 2.99, 4.99, 9.99, 2.49, 10.99, 2.99, 0.99, 1.99, 1.99, 0.99, 3.99, 1.61, 0.99, 1.99, 2.49, 4.29, 0.99, 3.99, 0.99, 2.99, 1.49, 15.46, 1.99, 2.99, 4.99, 7.49, 3.99, 5.49, 2.49, 2.99, 1.99, 4.99, 4.99, 19.99, 2.99, 1.99, 9.99, 0.99, 1.99, 2.99, 1.7, 0.99, 7.99, 29.99, 2.99, 7.99, 0.99, 1.49, 2.99, 4.99, 2.49, 79.99, 2.56, 3.99, 19.99, 2.49, 0.99, 0.99, 8.49, 6.99, 2.99, 0.99, 2.99, 1.5, 4.99, 1.99, 4.84, 14.99, 29.99, 4.99, 4.99, 3.99, 19.4, 33.99, 1.49, 2.99, 2.99, 0.99, 0.99, 1.99, 3.08, 5.99, 3.99, 2.99, 0.99, 1.99, 5.99, 2.49, 0.99, 0.99, 0.99, 6.99, 0.99, 16.99, 0.99, 3.49, 1.7, 3.99, 37.99, 9.99, 6.99, 1.99, 3.99, 10.0, 1.29, 3.99, 4.49, 2.99, 2.49, 0.99, 4.99, 0.99, 3.99, 1.99, 7.49, 0.99, 10.99, 5.99, 0.99, 1.49, 14.99, 4.99, 4.99, 0.99, 4.99, 3.99, 4.99, 0.99, 4.49, 5.99, 3.99, 1.99, 3.99, 4.99, 1.99, 3.99, 0.99, 2.99, 1.49, 2.49, 3.99, 3.99, 3.99, 3.99, 0.99, 1.99, 2.99, 0.99, 2.99, 0.99, 1.99, 6.99, 1.99, 0.99, 1.49, 2.99, 5.99, 2.99, 2.99, 4.6, 1.99, 14.99, 0.99, 0.99, 0.99, 2.99, 2.99, 1.99, 2.99, 4.99, 1.0, 14.99, 2.49, 0.99, 4.99, 0.99, 1.49, 3.99, 2.99, 4.99, 3.99, 4.99, 4.99, 4.99, 4.99, 4.99, 1.0, 6.99, 2.99, 9.99, 24.99, 2.99, 3.99, 0.99, 3.99, 3.99, 1.99, 0.99, 7.99, 4.99, 2.99, 10.0, 2.99, 2.99, 2.99, 14.99, 7.99, 12.99, 0.99, 4.49, 16.99, 0.99, 0.99, 4.99, 3.99, 3.49, 2.49, 2.99, 1.49, 6.99, 1.99, 2.5, 3.9, 2.95, 0.99, 1.49, 1.99, 7.99, 2.99, 2.99, 4.99, 1.99, 0.99, 2.99, 2.99, 1.99, 1.97, 1.99, 9.99, 2.99, 5.49, 3.28, 0.99, 2.99, 4.99, 2.99, 14.99, 2.99, 2.99, 2.99, 17.99, 0.99, 6.99, 4.99, 3.99, 2.99, 2.99, 4.99, 1.2, 2.99, 1.99, 4.99, 4.99, 0.99, 5.99, 2.59, 2.99, 1.99, 3.99, 4.99, 3.99, 2.99, 4.99, 2.99, 4.99, 2.99, 0.99, 3.99, 2.49, 0.99, 18.99, 1.99, 1.99, 1.59, 3.99, 11.99, 1.99, 1.99, 2.99, 0.99, 9.99, 3.99, 0.99, 2.99, 1.99, 4.99, 1.99, 2.99, 0.99, 1.99, 0.99, 0.99, 29.99, 2.99, 1.99, 2.99, 1.99, 1.99, 2.99, 4.99, 3.99, 1.99, 3.99, 2.99, 5.99, 19.99, 9.99, 2.99, 2.49, 1.49, 0.99, 2.99, 2.99, 1.99, 11.99, 4.99, 3.99, 4.99, 2.99, 2.99, 4.77, 2.99, 2.99, 4.99, 4.99, 4.99, 1.99, 2.49, 4.99, 3.99, 3.99, 24.99, 4.99, 0.99, 9.0, 0.99, 2.99, 2.99, 2.99, 9.99, 2.99, 1.49, 14.99, 4.99, 7.99, 1.99, 0.99, 0.99, 4.49, 3.99, 3.99, 4.99, 2.99, 2.99, 2.99, 2.99, 3.99, 4.99, 4.99, 3.95, 8.99, 8.99, 2.49, 3.99, 4.49, 1.99, 5.99, 4.99, 11.99, 4.99, 9.99, 4.49, 3.49, 2.99, 4.99, 4.99, 4.99, 1.99, 4.49, 3.99, 2.99, 13.99, 3.49, 9.99, 4.99, 2.99, 2.99, 4.99, 2.99, 2.99, 2.99, 2.99, 2.99, 9.99, 0.99, 1.99, 2.99, 1.49, 6.99, 2.9, 2.99, 2.99, 3.99, 2.99, 4.99, 2.99, 2.99, 1.99, 5.99, 4.99, 2.99, 2.49, 0.99, 3.99, 5.99, 2.99, 2.99, 1.99, 2.99, 4.99, 1.99, 2.49, 0.99, 4.99, 2.99, 2.99, 2.99, 6.99, 0.99, 5.99, 1.99, 2.99, 0.99, 0.99, 0.99, 0.99, 0.99, 2.99, 0.99, 5.99, 1.99, 0.99, 6.99], \"y0\": \" \", \"yaxis\": \"y\"}],\n",
              "                        {\"boxmode\": \"group\", \"legend\": {\"tracegroupgap\": 0}, \"template\": {\"data\": {\"bar\": [{\"error_x\": {\"color\": \"#2a3f5f\"}, \"error_y\": {\"color\": \"#2a3f5f\"}, \"marker\": {\"line\": {\"color\": \"#E5ECF6\", \"width\": 0.5}}, \"type\": \"bar\"}], \"barpolar\": [{\"marker\": {\"line\": {\"color\": \"#E5ECF6\", \"width\": 0.5}}, \"type\": \"barpolar\"}], \"carpet\": [{\"aaxis\": {\"endlinecolor\": \"#2a3f5f\", \"gridcolor\": \"white\", \"linecolor\": \"white\", \"minorgridcolor\": \"white\", \"startlinecolor\": \"#2a3f5f\"}, \"baxis\": {\"endlinecolor\": \"#2a3f5f\", \"gridcolor\": \"white\", \"linecolor\": \"white\", \"minorgridcolor\": \"white\", \"startlinecolor\": \"#2a3f5f\"}, \"type\": \"carpet\"}], \"choropleth\": [{\"colorbar\": {\"outlinewidth\": 0, \"ticks\": \"\"}, \"type\": \"choropleth\"}], \"contour\": [{\"colorbar\": {\"outlinewidth\": 0, \"ticks\": \"\"}, \"colorscale\": [[0.0, \"#0d0887\"], [0.1111111111111111, \"#46039f\"], [0.2222222222222222, \"#7201a8\"], [0.3333333333333333, \"#9c179e\"], [0.4444444444444444, \"#bd3786\"], [0.5555555555555556, \"#d8576b\"], [0.6666666666666666, \"#ed7953\"], [0.7777777777777778, \"#fb9f3a\"], [0.8888888888888888, \"#fdca26\"], [1.0, \"#f0f921\"]], \"type\": \"contour\"}], \"contourcarpet\": [{\"colorbar\": {\"outlinewidth\": 0, \"ticks\": \"\"}, \"type\": \"contourcarpet\"}], \"heatmap\": [{\"colorbar\": {\"outlinewidth\": 0, \"ticks\": \"\"}, \"colorscale\": [[0.0, \"#0d0887\"], [0.1111111111111111, \"#46039f\"], [0.2222222222222222, \"#7201a8\"], [0.3333333333333333, \"#9c179e\"], [0.4444444444444444, \"#bd3786\"], [0.5555555555555556, \"#d8576b\"], [0.6666666666666666, \"#ed7953\"], [0.7777777777777778, \"#fb9f3a\"], [0.8888888888888888, \"#fdca26\"], [1.0, \"#f0f921\"]], \"type\": \"heatmap\"}], \"heatmapgl\": [{\"colorbar\": {\"outlinewidth\": 0, \"ticks\": \"\"}, \"colorscale\": [[0.0, \"#0d0887\"], [0.1111111111111111, \"#46039f\"], [0.2222222222222222, \"#7201a8\"], [0.3333333333333333, \"#9c179e\"], [0.4444444444444444, \"#bd3786\"], [0.5555555555555556, \"#d8576b\"], [0.6666666666666666, \"#ed7953\"], [0.7777777777777778, \"#fb9f3a\"], [0.8888888888888888, \"#fdca26\"], [1.0, \"#f0f921\"]], \"type\": \"heatmapgl\"}], \"histogram\": [{\"marker\": {\"colorbar\": {\"outlinewidth\": 0, \"ticks\": \"\"}}, \"type\": \"histogram\"}], \"histogram2d\": [{\"colorbar\": {\"outlinewidth\": 0, \"ticks\": \"\"}, \"colorscale\": [[0.0, \"#0d0887\"], [0.1111111111111111, \"#46039f\"], [0.2222222222222222, \"#7201a8\"], [0.3333333333333333, \"#9c179e\"], [0.4444444444444444, \"#bd3786\"], [0.5555555555555556, \"#d8576b\"], [0.6666666666666666, \"#ed7953\"], [0.7777777777777778, \"#fb9f3a\"], [0.8888888888888888, \"#fdca26\"], [1.0, \"#f0f921\"]], \"type\": \"histogram2d\"}], \"histogram2dcontour\": [{\"colorbar\": {\"outlinewidth\": 0, \"ticks\": \"\"}, \"colorscale\": [[0.0, \"#0d0887\"], [0.1111111111111111, \"#46039f\"], [0.2222222222222222, \"#7201a8\"], [0.3333333333333333, \"#9c179e\"], [0.4444444444444444, \"#bd3786\"], [0.5555555555555556, \"#d8576b\"], [0.6666666666666666, \"#ed7953\"], [0.7777777777777778, \"#fb9f3a\"], [0.8888888888888888, \"#fdca26\"], [1.0, \"#f0f921\"]], \"type\": \"histogram2dcontour\"}], \"mesh3d\": [{\"colorbar\": {\"outlinewidth\": 0, \"ticks\": \"\"}, \"type\": \"mesh3d\"}], \"parcoords\": [{\"line\": {\"colorbar\": {\"outlinewidth\": 0, \"ticks\": \"\"}}, \"type\": \"parcoords\"}], \"pie\": [{\"automargin\": true, \"type\": \"pie\"}], \"scatter\": [{\"marker\": {\"colorbar\": {\"outlinewidth\": 0, \"ticks\": \"\"}}, \"type\": \"scatter\"}], \"scatter3d\": [{\"line\": {\"colorbar\": {\"outlinewidth\": 0, \"ticks\": \"\"}}, \"marker\": {\"colorbar\": {\"outlinewidth\": 0, \"ticks\": \"\"}}, \"type\": \"scatter3d\"}], \"scattercarpet\": [{\"marker\": {\"colorbar\": {\"outlinewidth\": 0, \"ticks\": \"\"}}, \"type\": \"scattercarpet\"}], \"scattergeo\": [{\"marker\": {\"colorbar\": {\"outlinewidth\": 0, \"ticks\": \"\"}}, \"type\": \"scattergeo\"}], \"scattergl\": [{\"marker\": {\"colorbar\": {\"outlinewidth\": 0, \"ticks\": \"\"}}, \"type\": \"scattergl\"}], \"scattermapbox\": [{\"marker\": {\"colorbar\": {\"outlinewidth\": 0, \"ticks\": \"\"}}, \"type\": \"scattermapbox\"}], \"scatterpolar\": [{\"marker\": {\"colorbar\": {\"outlinewidth\": 0, \"ticks\": \"\"}}, \"type\": \"scatterpolar\"}], \"scatterpolargl\": [{\"marker\": {\"colorbar\": {\"outlinewidth\": 0, \"ticks\": \"\"}}, \"type\": \"scatterpolargl\"}], \"scatterternary\": [{\"marker\": {\"colorbar\": {\"outlinewidth\": 0, \"ticks\": \"\"}}, \"type\": \"scatterternary\"}], \"surface\": [{\"colorbar\": {\"outlinewidth\": 0, \"ticks\": \"\"}, \"colorscale\": [[0.0, \"#0d0887\"], [0.1111111111111111, \"#46039f\"], [0.2222222222222222, \"#7201a8\"], [0.3333333333333333, \"#9c179e\"], [0.4444444444444444, \"#bd3786\"], [0.5555555555555556, \"#d8576b\"], [0.6666666666666666, \"#ed7953\"], [0.7777777777777778, \"#fb9f3a\"], [0.8888888888888888, \"#fdca26\"], [1.0, \"#f0f921\"]], \"type\": \"surface\"}], \"table\": [{\"cells\": {\"fill\": {\"color\": \"#EBF0F8\"}, \"line\": {\"color\": \"white\"}}, \"header\": {\"fill\": {\"color\": \"#C8D4E3\"}, \"line\": {\"color\": \"white\"}}, \"type\": \"table\"}]}, \"layout\": {\"annotationdefaults\": {\"arrowcolor\": \"#2a3f5f\", \"arrowhead\": 0, \"arrowwidth\": 1}, \"coloraxis\": {\"colorbar\": {\"outlinewidth\": 0, \"ticks\": \"\"}}, \"colorscale\": {\"diverging\": [[0, \"#8e0152\"], [0.1, \"#c51b7d\"], [0.2, \"#de77ae\"], [0.3, \"#f1b6da\"], [0.4, \"#fde0ef\"], [0.5, \"#f7f7f7\"], [0.6, \"#e6f5d0\"], [0.7, \"#b8e186\"], [0.8, \"#7fbc41\"], [0.9, \"#4d9221\"], [1, \"#276419\"]], \"sequential\": [[0.0, \"#0d0887\"], [0.1111111111111111, \"#46039f\"], [0.2222222222222222, \"#7201a8\"], [0.3333333333333333, \"#9c179e\"], [0.4444444444444444, \"#bd3786\"], [0.5555555555555556, \"#d8576b\"], [0.6666666666666666, \"#ed7953\"], [0.7777777777777778, \"#fb9f3a\"], [0.8888888888888888, \"#fdca26\"], [1.0, \"#f0f921\"]], \"sequentialminus\": [[0.0, \"#0d0887\"], [0.1111111111111111, \"#46039f\"], [0.2222222222222222, \"#7201a8\"], [0.3333333333333333, \"#9c179e\"], [0.4444444444444444, \"#bd3786\"], [0.5555555555555556, \"#d8576b\"], [0.6666666666666666, \"#ed7953\"], [0.7777777777777778, \"#fb9f3a\"], [0.8888888888888888, \"#fdca26\"], [1.0, \"#f0f921\"]]}, \"colorway\": [\"#636efa\", \"#EF553B\", \"#00cc96\", \"#ab63fa\", \"#FFA15A\", \"#19d3f3\", \"#FF6692\", \"#B6E880\", \"#FF97FF\", \"#FECB52\"], \"font\": {\"color\": \"#2a3f5f\"}, \"geo\": {\"bgcolor\": \"white\", \"lakecolor\": \"white\", \"landcolor\": \"#E5ECF6\", \"showlakes\": true, \"showland\": true, \"subunitcolor\": \"white\"}, \"hoverlabel\": {\"align\": \"left\"}, \"hovermode\": \"closest\", \"mapbox\": {\"style\": \"light\"}, \"paper_bgcolor\": \"white\", \"plot_bgcolor\": \"#E5ECF6\", \"polar\": {\"angularaxis\": {\"gridcolor\": \"white\", \"linecolor\": \"white\", \"ticks\": \"\"}, \"bgcolor\": \"#E5ECF6\", \"radialaxis\": {\"gridcolor\": \"white\", \"linecolor\": \"white\", \"ticks\": \"\"}}, \"scene\": {\"xaxis\": {\"backgroundcolor\": \"#E5ECF6\", \"gridcolor\": \"white\", \"gridwidth\": 2, \"linecolor\": \"white\", \"showbackground\": true, \"ticks\": \"\", \"zerolinecolor\": \"white\"}, \"yaxis\": {\"backgroundcolor\": \"#E5ECF6\", \"gridcolor\": \"white\", \"gridwidth\": 2, \"linecolor\": \"white\", \"showbackground\": true, \"ticks\": \"\", \"zerolinecolor\": \"white\"}, \"zaxis\": {\"backgroundcolor\": \"#E5ECF6\", \"gridcolor\": \"white\", \"gridwidth\": 2, \"linecolor\": \"white\", \"showbackground\": true, \"ticks\": \"\", \"zerolinecolor\": \"white\"}}, \"shapedefaults\": {\"line\": {\"color\": \"#2a3f5f\"}}, \"ternary\": {\"aaxis\": {\"gridcolor\": \"white\", \"linecolor\": \"white\", \"ticks\": \"\"}, \"baxis\": {\"gridcolor\": \"white\", \"linecolor\": \"white\", \"ticks\": \"\"}, \"bgcolor\": \"#E5ECF6\", \"caxis\": {\"gridcolor\": \"white\", \"linecolor\": \"white\", \"ticks\": \"\"}}, \"title\": {\"x\": 0.05}, \"xaxis\": {\"automargin\": true, \"gridcolor\": \"white\", \"linecolor\": \"white\", \"ticks\": \"\", \"title\": {\"standoff\": 15}, \"zerolinecolor\": \"white\", \"zerolinewidth\": 2}, \"yaxis\": {\"automargin\": true, \"gridcolor\": \"white\", \"linecolor\": \"white\", \"ticks\": \"\", \"title\": {\"standoff\": 15}, \"zerolinecolor\": \"white\", \"zerolinewidth\": 2}}}, \"title\": {\"text\": \"Price per Category\"}, \"xaxis\": {\"anchor\": \"y\", \"categoryorder\": \"max descending\", \"domain\": [0.0, 1.0], \"title\": {\"text\": \"Category\"}}, \"yaxis\": {\"anchor\": \"x\", \"domain\": [0.0, 1.0], \"title\": {\"text\": \"Paid App Price\"}, \"type\": \"log\"}},\n",
              "                        {\"responsive\": true}\n",
              "                    ).then(function(){\n",
              "                            \n",
              "var gd = document.getElementById('d57153c8-b1d7-4010-972d-d32abf123a4e');\n",
              "var x = new MutationObserver(function (mutations, observer) {{\n",
              "        var display = window.getComputedStyle(gd).display;\n",
              "        if (!display || display === 'none') {{\n",
              "            console.log([gd, 'removed!']);\n",
              "            Plotly.purge(gd);\n",
              "            observer.disconnect();\n",
              "        }}\n",
              "}});\n",
              "\n",
              "// Listen for the removal of the full notebook cells\n",
              "var notebookContainer = gd.closest('#notebook-container');\n",
              "if (notebookContainer) {{\n",
              "    x.observe(notebookContainer, {childList: true});\n",
              "}}\n",
              "\n",
              "// Listen for the clearing of the current output cell\n",
              "var outputEl = gd.closest('.output');\n",
              "if (outputEl) {{\n",
              "    x.observe(outputEl, {childList: true});\n",
              "}}\n",
              "\n",
              "                        })\n",
              "                };\n",
              "                \n",
              "            </script>\n",
              "        </div>\n",
              "</body>\n",
              "</html>"
            ]
          },
          "metadata": {
            "tags": []
          }
        }
      ]
    },
    {
      "cell_type": "markdown",
      "metadata": {
        "id": "tDxHFJZcM5_A"
      },
      "source": [
        "The median price for an Android app is \\$2.99.\n",
        "\n",
        "However, some categories have higher median prices than others. This time we see that Medical apps have the most expensive apps as well as a median price of \\$5.49. In contrast, Personalisation apps are quite cheap on average at \\$1.49. Other categories which higher median prices are Business (\\$4.99) and Dating (\\$6.99). It seems like customers who shop in these categories are not so concerned about paying a bit extra for their apps.\n",
        "\n",
        "<img src=\"https://img-c.udemycdn.com/redactor/raw/2020-10-11_13-55-50-fba0062772e999739ca28119fd0cecda.png\">"
      ]
    },
    {
      "cell_type": "code",
      "metadata": {
        "id": "eeuxHJ6xNG9c"
      },
      "source": [
        ""
      ],
      "execution_count": 201,
      "outputs": []
    }
  ]
}